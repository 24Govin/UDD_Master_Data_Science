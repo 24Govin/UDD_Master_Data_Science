{
 "cells": [
  {
   "cell_type": "markdown",
   "metadata": {},
   "source": [
    "# Machine Learning\n",
    "## Trabajo MDS - 2o. Trim. ==> Inmigracion en Chile\n",
    "\n",
    "**Profesor:** Graells, E..<br>\n",
    "**Alumnos:** Briceno, H.; Rovai, M.; Tessada G."
   ]
  },
  {
   "cell_type": "code",
   "execution_count": 3,
   "metadata": {},
   "outputs": [],
   "source": [
    "import pandas as pd\n",
    "import numpy as np\n",
    "import seaborn as sns\n",
    "import matplotlib.pyplot as plt\n",
    "%matplotlib inline  \n",
    "\n",
    "import warnings\n",
    "warnings.filterwarnings(\"ignore\")"
   ]
  },
  {
   "cell_type": "markdown",
   "metadata": {},
   "source": [
    "## 1. Importar el dataset\n",
    "\n",
    "Vamos a usar datos limpios obtenidos a partir del notebook: [Análisis exploratorio de los datos: 01-VISA-EDA.ipynb](https://github.com/Mjrovai/UDD_Master_Data_Science/blob/master/Trabajo%20-%20Inmigracion/01-VISA-EDA.ipynb). \n",
    "\n",
    "El Departamanto de Extranjeria y Migracion de Chile, aclara que si bien las bases se presentan de manera separada por tratarse de distintos tipos de permiso, ellas no constituyen universos distintos de inmigrantes. Un inmigrante en Chile para obtener una permanencia definitiva DEBE haber obtenido con anterioridad una visa, por lo que las bases de permanencias definitivas se conforman de personas que están contabilizadas en las visas. <br>\n",
    "<br>Así, para una mejor lectura de los datos haremos una distinción en términos de migración transitoria y migración permanente. Se considerará que las visas corresponden a migración transitoria, pues los permisos duran entre uno y dos años. Las personas que sean titulares de una visa, para quedarse por un plazo mayor a dos años, deben solicitar un permiso de permanencia definitiva, de otra manera deben abandonar el país.<br>\n",
    "- En este trabajo focaremos en la MIGRACIÓN DEFINITIVA, que están relacionadas a las Permisos de Residencia Definitiva\n",
    "- Y se complementará esa información con la migración reciente, es decir, las visas otorgadas los dos últimos años (2017/2018)."
   ]
  },
  {
   "cell_type": "markdown",
   "metadata": {},
   "source": [
    "**Información constante del dataset final** <br><br>\n",
    "Las planillas de permisos migratorios contienen los siguientes datos, los cuales son extraídos de los formularios establecidos para solicitar residencia, disponibles en la página web del Departamento de Extranjería y Migración, de los cuales utilizamos:\n",
    "- PAIS\t     (País de origen)\n",
    "- SEXO\t\n",
    "- EDAD\t     (la edad en el año que recibió el benefício)\n",
    "- ESTUDIOS\t\n",
    "- ACTIVIDAD\t\n",
    "- BENEFICIO\t (Visa temporária o definitiva)\n",
    "- ANIO\t     (año en que recibió el benefício)\n",
    "- COMUNA"
   ]
  },
  {
   "cell_type": "code",
   "execution_count": 4,
   "metadata": {},
   "outputs": [
    {
     "name": "stdout",
     "output_type": "stream",
     "text": [
      "inmigrantes_data_comunas_rm_4ML.xlsx inmigrantes_rm_comuna.xlsx\r\n"
     ]
    }
   ],
   "source": [
    "!ls ./data"
   ]
  },
  {
   "cell_type": "code",
   "execution_count": 5,
   "metadata": {},
   "outputs": [
    {
     "data": {
      "text/plain": [
       "(493638, 8)"
      ]
     },
     "execution_count": 5,
     "metadata": {},
     "output_type": "execute_result"
    }
   ],
   "source": [
    "df = pd.read_excel('./data/inmigrantes_data_comunas_rm_4ML.xlsx')\n",
    "df.shape #(493638, 8)"
   ]
  },
  {
   "cell_type": "code",
   "execution_count": 22,
   "metadata": {},
   "outputs": [
    {
     "data": {
      "text/html": [
       "<div>\n",
       "<style scoped>\n",
       "    .dataframe tbody tr th:only-of-type {\n",
       "        vertical-align: middle;\n",
       "    }\n",
       "\n",
       "    .dataframe tbody tr th {\n",
       "        vertical-align: top;\n",
       "    }\n",
       "\n",
       "    .dataframe thead th {\n",
       "        text-align: right;\n",
       "    }\n",
       "</style>\n",
       "<table border=\"1\" class=\"dataframe\">\n",
       "  <thead>\n",
       "    <tr style=\"text-align: right;\">\n",
       "      <th></th>\n",
       "      <th>PAIS</th>\n",
       "      <th>SEXO</th>\n",
       "      <th>EDAD</th>\n",
       "      <th>ESTUDIOS</th>\n",
       "      <th>ACTIVIDAD</th>\n",
       "      <th>BENEFICIO</th>\n",
       "      <th>ANIO</th>\n",
       "      <th>COMUNA</th>\n",
       "    </tr>\n",
       "  </thead>\n",
       "  <tbody>\n",
       "    <tr>\n",
       "      <th>0</th>\n",
       "      <td>peru</td>\n",
       "      <td>femenino</td>\n",
       "      <td>32</td>\n",
       "      <td>no informa</td>\n",
       "      <td>empleado</td>\n",
       "      <td>definitiva</td>\n",
       "      <td>2006</td>\n",
       "      <td>santiago</td>\n",
       "    </tr>\n",
       "    <tr>\n",
       "      <th>1</th>\n",
       "      <td>ecuador</td>\n",
       "      <td>masculino</td>\n",
       "      <td>58</td>\n",
       "      <td>no informa</td>\n",
       "      <td>empleado</td>\n",
       "      <td>definitiva</td>\n",
       "      <td>2007</td>\n",
       "      <td>providencia</td>\n",
       "    </tr>\n",
       "  </tbody>\n",
       "</table>\n",
       "</div>"
      ],
      "text/plain": [
       "      PAIS       SEXO  EDAD    ESTUDIOS ACTIVIDAD   BENEFICIO  ANIO  \\\n",
       "0     peru   femenino    32  no informa  empleado  definitiva  2006   \n",
       "1  ecuador  masculino    58  no informa  empleado  definitiva  2007   \n",
       "\n",
       "        COMUNA  \n",
       "0     santiago  \n",
       "1  providencia  "
      ]
     },
     "execution_count": 22,
     "metadata": {},
     "output_type": "execute_result"
    }
   ],
   "source": [
    "df.head(2)"
   ]
  },
  {
   "cell_type": "code",
   "execution_count": 23,
   "metadata": {
    "scrolled": true
   },
   "outputs": [
    {
     "data": {
      "text/plain": [
       "santiago               139050\n",
       "independencia           31260\n",
       "las condes              30910\n",
       "estacion central        25981\n",
       "recoleta                24026\n",
       "providencia             18646\n",
       "nunoa                   16559\n",
       "quilicura               14982\n",
       "quinta normal           13083\n",
       "la florida              11654\n",
       "maipu                   10203\n",
       "san bernardo             9376\n",
       "san miguel               8619\n",
       "penalolen                8477\n",
       "conchali                 8270\n",
       "puente alto              7569\n",
       "colina                   7472\n",
       "lo barnechea             7050\n",
       "melipilla                6960\n",
       "vitacura                 6552\n",
       "macul                    6216\n",
       "cerro navia              6018\n",
       "pudahuel                 5832\n",
       "lo prado                 5754\n",
       "san joaquin              5267\n",
       "la cisterna              5208\n",
       "pedro aguirre cerda      4982\n",
       "renca                    4280\n",
       "cerrillos                4090\n",
       "lo espejo                4034\n",
       "la reina                 3931\n",
       "huechuraba               3570\n",
       "lampa                    3554\n",
       "el bosque                3148\n",
       "la granja                2923\n",
       "san ramon                2648\n",
       "paine                    2611\n",
       "la pintana               2315\n",
       "buin                     1844\n",
       "talagante                1456\n",
       "padre hurtado            1407\n",
       "penaflor                 1159\n",
       "alhue                    1049\n",
       "curacavi                  623\n",
       "san pedro                 466\n",
       "tiltil                    443\n",
       "isla de maipo             442\n",
       "calera de tango           433\n",
       "el monte                  380\n",
       "san jose de maipo         346\n",
       "pirque                    277\n",
       "maria pinto               233\n",
       "Name: COMUNA, dtype: int64"
      ]
     },
     "execution_count": 23,
     "metadata": {},
     "output_type": "execute_result"
    }
   ],
   "source": [
    "df.COMUNA.value_counts()"
   ]
  },
  {
   "cell_type": "markdown",
   "metadata": {},
   "source": [
    "### Converter los labels de y en codigos de comunas"
   ]
  },
  {
   "cell_type": "raw",
   "metadata": {},
   "source": [
    "Bajar el dataset de 03-CENSO-2017"
   ]
  },
  {
   "cell_type": "raw",
   "metadata": {},
   "source": [
    "censo = pd.read_excel('./data/inmigrantes_rm_comuna.xlsx')\n",
    "censo.info()"
   ]
  },
  {
   "cell_type": "raw",
   "metadata": {},
   "source": [
    "del censo['INMIGRANTES']\n",
    "comuna_cod = censo"
   ]
  },
  {
   "cell_type": "raw",
   "metadata": {},
   "source": [
    "comuna_cod.head(2)"
   ]
  },
  {
   "cell_type": "markdown",
   "metadata": {},
   "source": [
    "## 2. Preparar la data: "
   ]
  },
  {
   "cell_type": "markdown",
   "metadata": {},
   "source": [
    "### Dividir la data, sacando la variable target"
   ]
  },
  {
   "cell_type": "code",
   "execution_count": 30,
   "metadata": {},
   "outputs": [],
   "source": [
    "X = df.copy()\n",
    "y = X.pop('COMUNA').values"
   ]
  },
  {
   "cell_type": "code",
   "execution_count": 31,
   "metadata": {},
   "outputs": [
    {
     "data": {
      "text/plain": [
       "array(['santiago', 'providencia', 'las condes', ..., 'recoleta',\n",
       "       'independencia', 'lampa'], dtype=object)"
      ]
     },
     "execution_count": 31,
     "metadata": {},
     "output_type": "execute_result"
    }
   ],
   "source": [
    "y"
   ]
  },
  {
   "cell_type": "code",
   "execution_count": 36,
   "metadata": {},
   "outputs": [
    {
     "data": {
      "text/html": [
       "<div>\n",
       "<style scoped>\n",
       "    .dataframe tbody tr th:only-of-type {\n",
       "        vertical-align: middle;\n",
       "    }\n",
       "\n",
       "    .dataframe tbody tr th {\n",
       "        vertical-align: top;\n",
       "    }\n",
       "\n",
       "    .dataframe thead th {\n",
       "        text-align: right;\n",
       "    }\n",
       "</style>\n",
       "<table border=\"1\" class=\"dataframe\">\n",
       "  <thead>\n",
       "    <tr style=\"text-align: right;\">\n",
       "      <th></th>\n",
       "      <th>PAIS</th>\n",
       "      <th>SEXO</th>\n",
       "      <th>EDAD</th>\n",
       "      <th>ESTUDIOS</th>\n",
       "      <th>ACTIVIDAD</th>\n",
       "      <th>BENEFICIO</th>\n",
       "      <th>ANIO</th>\n",
       "    </tr>\n",
       "  </thead>\n",
       "  <tbody>\n",
       "    <tr>\n",
       "      <th>0</th>\n",
       "      <td>peru</td>\n",
       "      <td>femenino</td>\n",
       "      <td>32</td>\n",
       "      <td>no informa</td>\n",
       "      <td>empleado</td>\n",
       "      <td>definitiva</td>\n",
       "      <td>2006</td>\n",
       "    </tr>\n",
       "    <tr>\n",
       "      <th>1</th>\n",
       "      <td>ecuador</td>\n",
       "      <td>masculino</td>\n",
       "      <td>58</td>\n",
       "      <td>no informa</td>\n",
       "      <td>empleado</td>\n",
       "      <td>definitiva</td>\n",
       "      <td>2007</td>\n",
       "    </tr>\n",
       "  </tbody>\n",
       "</table>\n",
       "</div>"
      ],
      "text/plain": [
       "      PAIS       SEXO  EDAD    ESTUDIOS ACTIVIDAD   BENEFICIO  ANIO\n",
       "0     peru   femenino    32  no informa  empleado  definitiva  2006\n",
       "1  ecuador  masculino    58  no informa  empleado  definitiva  2007"
      ]
     },
     "execution_count": 36,
     "metadata": {},
     "output_type": "execute_result"
    }
   ],
   "source": [
    "X.head(2)"
   ]
  },
  {
   "cell_type": "code",
   "execution_count": 37,
   "metadata": {
    "scrolled": true
   },
   "outputs": [
    {
     "data": {
      "text/plain": [
       "peru                          133949\n",
       "venezuela                     108870\n",
       "haiti                          77041\n",
       "colombia                       60876\n",
       "bolivia                        16164\n",
       "argentina                      15983\n",
       "ecuador                        15055\n",
       "china republica popular         8738\n",
       "espana                          8200\n",
       "brasil                          7048\n",
       "republica dominicana            5909\n",
       "cuba                            5467\n",
       "estados unidos                  3931\n",
       "uruguay                         2905\n",
       "mexico                          2829\n",
       "francia                         2446\n",
       "paraguay                        1675\n",
       "alemania                        1571\n",
       "italia                          1554\n",
       "republica de corea               866\n",
       "india                            781\n",
       "japon                            699\n",
       "portugal                         650\n",
       "gran bretana                     623\n",
       "canada                           616\n",
       "el salvador                      577\n",
       "federacion de rusia              534\n",
       "filipinas                        513\n",
       "chile                            478\n",
       "australia                        402\n",
       "                               ...  \n",
       "fiji                               2\n",
       "tanzania republica unida           2\n",
       "bahamas                            2\n",
       "togo                               2\n",
       "armenia                            2\n",
       "kirguistan                         2\n",
       "mongolia                           2\n",
       "mauritania                         2\n",
       "laos                               1\n",
       "botswana                           1\n",
       "somalia                            1\n",
       "escocia                            1\n",
       "kosovo                             1\n",
       "guinea ecuatorial                  1\n",
       "kuwait                             1\n",
       "san marino                         1\n",
       "guinea-bissau                      1\n",
       "papua nueva guinea                 1\n",
       "granada                            1\n",
       "mali                               1\n",
       "namibia                            1\n",
       "mauricio                           1\n",
       "andorra                            1\n",
       "niger                              1\n",
       "eritrea                            1\n",
       "tonga                              1\n",
       "cabo verde                         1\n",
       "zaire (actual rep.d.congo)         1\n",
       "emiratos arabes unidos             1\n",
       "oman                               1\n",
       "Name: PAIS, Length: 166, dtype: int64"
      ]
     },
     "execution_count": 37,
     "metadata": {},
     "output_type": "execute_result"
    }
   ],
   "source": [
    "X.PAIS.value_counts()"
   ]
  },
  {
   "cell_type": "markdown",
   "metadata": {},
   "source": [
    "### Reducir el numero de categorias encontrado en PAIS. \n",
    "- Arbitariamente, definamos solamente paises con mas de 1000 extranjeros "
   ]
  },
  {
   "cell_type": "code",
   "execution_count": 38,
   "metadata": {},
   "outputs": [],
   "source": [
    "def simplificaPais(text):\n",
    "    text = text.split(' ')\n",
    "    if 'peru' in text: text = 'peru'\n",
    "    elif 'venezuela' in text: text= 'venezuela'\n",
    "    elif 'haiti' in text: text= 'haiti'\n",
    "    elif 'colombia' in text: text= 'colombia'\n",
    "    elif 'bolivia' in text: text= 'bolivia'\n",
    "    elif 'argentina' in text: text= 'argentina'\n",
    "    elif 'ecuador' in text: text= 'ecuador'\n",
    "    elif 'china' in text: text= 'china'\n",
    "    elif \"espana\" in text: text= \"espana\"\n",
    "    elif 'brasil' in text: text= 'brasil'\n",
    "    elif 'dominicana' in text: text= 'dominicana'\n",
    "    elif 'cuba' in text: text= 'cuba'\n",
    "    elif 'estados' in text: text= 'eua'\n",
    "    elif 'uruguay' in text: text= 'uruguay'\n",
    "    elif 'mexico' in text: text= 'mexico'\n",
    "    elif 'francia' in text: text= 'francia'\n",
    "    elif 'paraguay' in text: text= 'paraguay'\n",
    "    elif 'alemania' in text: text= 'alemania'\n",
    "    elif 'italia' in text: text= 'italia'\n",
    "    else: text = 'otros'\n",
    "    return text "
   ]
  },
  {
   "cell_type": "code",
   "execution_count": 39,
   "metadata": {},
   "outputs": [],
   "source": [
    "X['PAIS'] = X.PAIS.apply(simplificaPais)"
   ]
  },
  {
   "cell_type": "code",
   "execution_count": 40,
   "metadata": {},
   "outputs": [
    {
     "data": {
      "text/plain": [
       "peru          133949\n",
       "venezuela     108870\n",
       "haiti          77041\n",
       "colombia       60876\n",
       "bolivia        16164\n",
       "argentina      15983\n",
       "ecuador        15055\n",
       "otros          13427\n",
       "china           8738\n",
       "espana          8200\n",
       "brasil          7048\n",
       "dominicana      5909\n",
       "cuba            5467\n",
       "eua             3931\n",
       "uruguay         2905\n",
       "mexico          2829\n",
       "francia         2446\n",
       "paraguay        1675\n",
       "alemania        1571\n",
       "italia          1554\n",
       "Name: PAIS, dtype: int64"
      ]
     },
     "execution_count": 40,
     "metadata": {},
     "output_type": "execute_result"
    }
   ],
   "source": [
    "X.PAIS.value_counts()"
   ]
  },
  {
   "cell_type": "markdown",
   "metadata": {},
   "source": [
    "## 3. Preproceso para aplicación de modelos de ML"
   ]
  },
  {
   "cell_type": "markdown",
   "metadata": {},
   "source": [
    "### Trabajando con Transformación de columnas, donde se mesclan tipos de datos (numericos y categóricos)"
   ]
  },
  {
   "cell_type": "code",
   "execution_count": 53,
   "metadata": {},
   "outputs": [],
   "source": [
    "from sklearn.compose import ColumnTransformer\n",
    "from sklearn.pipeline import Pipeline\n",
    "from sklearn.impute import SimpleImputer\n",
    "from sklearn.preprocessing import StandardScaler, OneHotEncoder\n",
    "from sklearn.model_selection import train_test_split, GridSearchCV"
   ]
  },
  {
   "cell_type": "code",
   "execution_count": 54,
   "metadata": {},
   "outputs": [],
   "source": [
    "numeric_features = ['EDAD', 'ANIO']\n",
    "categorical_features = ['PAIS', 'SEXO', 'ESTUDIOS', 'ACTIVIDAD', 'BENEFICIO']"
   ]
  },
  {
   "cell_type": "markdown",
   "metadata": {},
   "source": [
    "### Creación de los pipelines de pre-processing para los datos categoricos y numericos"
   ]
  },
  {
   "cell_type": "code",
   "execution_count": 55,
   "metadata": {},
   "outputs": [],
   "source": [
    "numeric_transformer = Pipeline(steps=[\n",
    "    ('imputer', SimpleImputer(strategy='median')),\n",
    "    ('scaler', StandardScaler())])\n",
    "\n",
    "categorical_transformer = Pipeline(steps=[\n",
    "    ('imputer', SimpleImputer(strategy='constant', fill_value='missing')),\n",
    "    ('onehot', OneHotEncoder(handle_unknown='ignore'))])\n",
    "\n",
    "preprocessor = ColumnTransformer(\n",
    "    transformers=[\n",
    "        ('num', numeric_transformer, numeric_features),\n",
    "        ('cat', categorical_transformer, categorical_features)]) "
   ]
  },
  {
   "cell_type": "markdown",
   "metadata": {},
   "source": [
    "## 4. Testando vários modelos de ML"
   ]
  },
  {
   "cell_type": "markdown",
   "metadata": {},
   "source": [
    "### 1. First Test using LogisticRegression"
   ]
  },
  {
   "cell_type": "code",
   "execution_count": 56,
   "metadata": {},
   "outputs": [],
   "source": [
    "from sklearn.linear_model import LogisticRegression\n",
    "model = LogisticRegression(solver='lbfgs')"
   ]
  },
  {
   "cell_type": "raw",
   "metadata": {},
   "source": [
    "# Append classifier to preprocessing pipeline.\n",
    "# Now we have a full prediction pipeline.\n",
    "clf = Pipeline(steps=[('preprocessor', preprocessor),\n",
    "                      ('classifier', model)])\n",
    "\n",
    "X_train, X_test, y_train, y_test = train_test_split(X, y, test_size=0.2)\n",
    "\n",
    "clf.fit(X_train, y_train)\n",
    "print(\"model score: %.3f\" % clf.score(X_test, y_test))"
   ]
  },
  {
   "cell_type": "markdown",
   "metadata": {},
   "source": [
    "==> Model Score: 0.30 **Resultado: Malo**"
   ]
  },
  {
   "cell_type": "code",
   "execution_count": null,
   "metadata": {},
   "outputs": [],
   "source": [
    "param_grid = {\n",
    "    'preprocessor__num__imputer__strategy': ['mean', 'median'],\n",
    "    'classifier__C': [0.1, 1.0, 10, 100],\n",
    "}\n",
    "\n",
    "grid_search = GridSearchCV(clf, param_grid, cv=10, iid=False)\n",
    "grid_search.fit(X_train, y_train)\n",
    "\n",
    "print((\"best logistic regression from grid search: %.3f\"\n",
    "       % grid_search.score(X_test, y_test)))"
   ]
  },
  {
   "cell_type": "markdown",
   "metadata": {},
   "source": [
    "### 2. SVC"
   ]
  },
  {
   "cell_type": "code",
   "execution_count": 50,
   "metadata": {},
   "outputs": [],
   "source": [
    "from sklearn.svm import LinearSVC\n",
    "model = LinearSVC()"
   ]
  },
  {
   "cell_type": "raw",
   "metadata": {},
   "source": [
    "# Append classifier to preprocessing pipeline.\n",
    "# Now we have a full prediction pipeline.\n",
    "clf = Pipeline(steps=[('preprocessor', preprocessor),\n",
    "                      ('classifier', model)])\n",
    "\n",
    "X_train, X_test, y_train, y_test = train_test_split(X, y, test_size=0.2)\n",
    "\n",
    "clf.fit(X_train, y_train)\n",
    "print(\"model score: %.3f\" % clf.score(X_test, y_test))"
   ]
  },
  {
   "cell_type": "markdown",
   "metadata": {},
   "source": [
    "==> Model Score: 0.32 **Resultado: Malo** y muy demorado (mas de 1 hora)"
   ]
  },
  {
   "cell_type": "code",
   "execution_count": null,
   "metadata": {},
   "outputs": [],
   "source": []
  }
 ],
 "metadata": {
  "kernelspec": {
   "display_name": "Python 3",
   "language": "python",
   "name": "python3"
  },
  "language_info": {
   "codemirror_mode": {
    "name": "ipython",
    "version": 3
   },
   "file_extension": ".py",
   "mimetype": "text/x-python",
   "name": "python",
   "nbconvert_exporter": "python",
   "pygments_lexer": "ipython3",
   "version": "3.6.4"
  }
 },
 "nbformat": 4,
 "nbformat_minor": 2
}
