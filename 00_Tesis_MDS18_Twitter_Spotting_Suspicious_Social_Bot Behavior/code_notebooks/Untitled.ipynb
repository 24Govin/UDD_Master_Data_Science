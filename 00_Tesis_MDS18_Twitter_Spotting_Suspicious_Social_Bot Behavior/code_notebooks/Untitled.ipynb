{
 "cells": [
  {
   "cell_type": "code",
   "execution_count": 2,
   "metadata": {
    "ExecuteTime": {
     "end_time": "2019-12-19T21:07:01.896436Z",
     "start_time": "2019-12-19T21:07:01.721990Z"
    }
   },
   "outputs": [
    {
     "name": "stdout",
     "output_type": "stream",
     "text": [
      "10_read_twt_conv_csv.py\r\n",
      "20_Chile_Nov_17_Tweets_EDA_Extract_User_Features.ipynb\r\n",
      "25_Tweet_2nd_EDA.ipynb\r\n",
      "30_User_Dataset_Cleaning_New_Features.ipynb\r\n",
      "35_User_Dataset_EDA.ipynb\r\n",
      "40_Spotting_Bots.ipynb\r\n",
      "50_User_UMAP.ipynb\r\n",
      "51_User_UMAP_Mid_High_Freq.ipynb\r\n",
      "52_User_UMAP_3D.ipynb\r\n",
      "53_User_UMAP_3D_Mid_High_Freq.ipynb\r\n",
      "60_UMAP_Spotting_Bots.ipynb\r\n",
      "UMAP-Susp_User_Dataset_Clusters.png\r\n",
      "UMAP_clusters.png\r\n",
      "Untitled.ipynb\r\n"
     ]
    }
   ],
   "source": [
    "!ls"
   ]
  },
  {
   "cell_type": "code",
   "execution_count": 3,
   "metadata": {
    "ExecuteTime": {
     "end_time": "2019-12-19T21:07:21.072278Z",
     "start_time": "2019-12-19T21:07:21.067285Z"
    }
   },
   "outputs": [],
   "source": [
    "from json import load\n",
    "from sys import argv\n",
    "\n",
    "def loc(nb):\n",
    "    with open(nb, encoding='utf-8') as data_file:\n",
    "        cells = load(data_file)['cells']\n",
    "        return sum(len(c['source']) for c in cells if c['cell_type'] == 'code')\n",
    "\n",
    "def run(ipynb_files):\n",
    "    return sum(loc(nb) for nb in ipynb_files)"
   ]
  },
  {
   "cell_type": "code",
   "execution_count": 5,
   "metadata": {
    "ExecuteTime": {
     "end_time": "2019-12-19T21:08:10.233506Z",
     "start_time": "2019-12-19T21:08:10.229794Z"
    }
   },
   "outputs": [
    {
     "ename": "SyntaxError",
     "evalue": "invalid token (<ipython-input-5-70e1636ca7d7>, line 1)",
     "output_type": "error",
     "traceback": [
      "\u001b[0;36m  File \u001b[0;32m\"<ipython-input-5-70e1636ca7d7>\"\u001b[0;36m, line \u001b[0;32m1\u001b[0m\n\u001b[0;31m    print(run(20_Chile_Nov_17_Tweets_EDA_Extract_User_Features.ipynb))\u001b[0m\n\u001b[0m                ^\u001b[0m\n\u001b[0;31mSyntaxError\u001b[0m\u001b[0;31m:\u001b[0m invalid token\n"
     ]
    }
   ],
   "source": [
    "print(run(20_Chile_Nov_17_Tweets_EDA_Extract_User_Features.ipynb))"
   ]
  },
  {
   "cell_type": "code",
   "execution_count": null,
   "metadata": {},
   "outputs": [],
   "source": []
  }
 ],
 "metadata": {
  "kernelspec": {
   "display_name": "python_3_7",
   "language": "python",
   "name": "python_3_7"
  },
  "language_info": {
   "codemirror_mode": {
    "name": "ipython",
    "version": 3
   },
   "file_extension": ".py",
   "mimetype": "text/x-python",
   "name": "python",
   "nbconvert_exporter": "python",
   "pygments_lexer": "ipython3",
   "version": "3.7.3"
  },
  "nbTranslate": {
   "displayLangs": [
    "*"
   ],
   "hotkey": "alt-t",
   "langInMainMenu": true,
   "sourceLang": "en",
   "targetLang": "fr",
   "useGoogleTranslate": true
  },
  "toc": {
   "base_numbering": 1,
   "nav_menu": {},
   "number_sections": true,
   "sideBar": true,
   "skip_h1_title": false,
   "title_cell": "Table of Contents",
   "title_sidebar": "Contents",
   "toc_cell": false,
   "toc_position": {},
   "toc_section_display": true,
   "toc_window_display": false
  },
  "varInspector": {
   "cols": {
    "lenName": 16,
    "lenType": 16,
    "lenVar": 40
   },
   "kernels_config": {
    "python": {
     "delete_cmd_postfix": "",
     "delete_cmd_prefix": "del ",
     "library": "var_list.py",
     "varRefreshCmd": "print(var_dic_list())"
    },
    "r": {
     "delete_cmd_postfix": ") ",
     "delete_cmd_prefix": "rm(",
     "library": "var_list.r",
     "varRefreshCmd": "cat(var_dic_list()) "
    }
   },
   "types_to_exclude": [
    "module",
    "function",
    "builtin_function_or_method",
    "instance",
    "_Feature"
   ],
   "window_display": false
  }
 },
 "nbformat": 4,
 "nbformat_minor": 2
}
