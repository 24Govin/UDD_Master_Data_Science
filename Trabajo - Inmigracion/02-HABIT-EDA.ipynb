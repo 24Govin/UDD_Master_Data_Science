{
 "cells": [
  {
   "cell_type": "markdown",
   "metadata": {
    "colab_type": "text",
    "id": "acxmVRM0vimw"
   },
   "source": [
    "# Análisis exploratorio de los datos 2\n",
    "# INE - Permisos de Edificación\n",
    "## Trabajo MDS-2oTrim. ==> Inmigracion en Chile\n",
    "\n",
    "**Profesora:** Donoso I.<br>\n",
    "**Alumnos:** Briceno, H.; Rovai, M.; Tessada G."
   ]
  },
  {
   "cell_type": "markdown",
   "metadata": {},
   "source": [
    "# Descripcion del dataset\n",
    "Los permisos de edificación (PE) representan la intención de construir y tienen por objeto autorizar una construcción, de cualquier superficie y destino; solicitud que se inicia en la Dirección de Obras del Municipio de cada comuna del país. Se encuentran en la siguiente direccion: http://www.ine.cl/herramientas/galeria-de-mapas/permisos-de-edificacion \n",
    "\n",
    "De acuerdo con esta información, el INE publica mes a mes tabulados y a través\n",
    "de un boletín el análisis de los PE, donde se detalla el total de superficie\n",
    "autorizada por destino. Además se divulga un informe anual con cuadros\n",
    "estadísticos que resumen la información por sector y destino a nivel regional y\n",
    "nacional."
   ]
  },
  {
   "cell_type": "markdown",
   "metadata": {},
   "source": [
    "Importacion de las librerias"
   ]
  },
  {
   "cell_type": "code",
   "execution_count": 1,
   "metadata": {
    "colab": {},
    "colab_type": "code",
    "id": "ClmIINxGvimx"
   },
   "outputs": [],
   "source": [
    "import pandas as pd\n",
    "import numpy as np\n",
    "import seaborn as sns\n",
    "import matplotlib.pyplot as plt\n",
    "%matplotlib inline  \n",
    "import warnings\n",
    "warnings.filterwarnings(\"ignore\")"
   ]
  },
  {
   "cell_type": "markdown",
   "metadata": {
    "colab_type": "text",
    "id": "kGypOlx8vim0"
   },
   "source": [
    "## 1. Importar el dataset"
   ]
  },
  {
   "cell_type": "code",
   "execution_count": 2,
   "metadata": {
    "scrolled": false
   },
   "outputs": [
    {
     "name": "stdout",
     "output_type": "stream",
     "text": [
      "PDs-2005-2016.xlsx                      Visas-2018_1.xlsx\r\n",
      "PDs-2017.xlsx                           frec_casos_dmcs_mensual_2001_2017w.xlsx\r\n",
      "PDs_2018_1.xlsx                         inmigrantes_metropolitana.xlsx\r\n",
      "Visas-2005-2010.xlsx                    inmigrantes_rm_comuna.xlsx\r\n",
      "Visas-2011-2016.xlsx                    pe_2010-2017.xlsx\r\n",
      "Visas-2017.xlsx\r\n"
     ]
    }
   ],
   "source": [
    "!ls ./data"
   ]
  },
  {
   "cell_type": "markdown",
   "metadata": {},
   "source": [
    "Definimos los dataframe con la data Raw"
   ]
  },
  {
   "cell_type": "code",
   "execution_count": 3,
   "metadata": {
    "colab": {},
    "colab_type": "code",
    "id": "lOaTPEgSvim7"
   },
   "outputs": [
    {
     "data": {
      "text/plain": [
       "(114690, 11)"
      ]
     },
     "execution_count": 3,
     "metadata": {},
     "output_type": "execute_result"
    }
   ],
   "source": [
    "df1 = pd.read_excel('./data/pe_2010-2017.xlsx')\n",
    "df1.shape # (114690, 11)"
   ]
  },
  {
   "cell_type": "code",
   "execution_count": 4,
   "metadata": {
    "scrolled": true
   },
   "outputs": [
    {
     "data": {
      "text/html": [
       "<div>\n",
       "<style scoped>\n",
       "    .dataframe tbody tr th:only-of-type {\n",
       "        vertical-align: middle;\n",
       "    }\n",
       "\n",
       "    .dataframe tbody tr th {\n",
       "        vertical-align: top;\n",
       "    }\n",
       "\n",
       "    .dataframe thead th {\n",
       "        text-align: right;\n",
       "    }\n",
       "</style>\n",
       "<table border=\"1\" class=\"dataframe\">\n",
       "  <thead>\n",
       "    <tr style=\"text-align: right;\">\n",
       "      <th></th>\n",
       "      <th>ID</th>\n",
       "      <th>COD_REG</th>\n",
       "      <th>CUT</th>\n",
       "      <th>Comuna</th>\n",
       "      <th>Año</th>\n",
       "      <th>cantidad_unidad</th>\n",
       "      <th>num_pisos</th>\n",
       "      <th>glosa_destino</th>\n",
       "      <th>uso_destino</th>\n",
       "      <th>superficie</th>\n",
       "      <th>Localización</th>\n",
       "    </tr>\n",
       "  </thead>\n",
       "  <tbody>\n",
       "    <tr>\n",
       "      <th>0</th>\n",
       "      <td>110120100001</td>\n",
       "      <td>1</td>\n",
       "      <td>1101</td>\n",
       "      <td>Iquique</td>\n",
       "      <td>2010</td>\n",
       "      <td>5</td>\n",
       "      <td>2</td>\n",
       "      <td>Casa continua</td>\n",
       "      <td>HABITACIONAL</td>\n",
       "      <td>307</td>\n",
       "      <td>RANGE_INTERPOLATED</td>\n",
       "    </tr>\n",
       "    <tr>\n",
       "      <th>1</th>\n",
       "      <td>110120100002</td>\n",
       "      <td>1</td>\n",
       "      <td>1101</td>\n",
       "      <td>Iquique</td>\n",
       "      <td>2010</td>\n",
       "      <td>1</td>\n",
       "      <td>1</td>\n",
       "      <td>Casa continua</td>\n",
       "      <td>HABITACIONAL</td>\n",
       "      <td>98</td>\n",
       "      <td>RANGE_INTERPOLATED</td>\n",
       "    </tr>\n",
       "  </tbody>\n",
       "</table>\n",
       "</div>"
      ],
      "text/plain": [
       "             ID  COD_REG   CUT   Comuna   Año  cantidad_unidad  num_pisos  \\\n",
       "0  110120100001        1  1101  Iquique  2010                5          2   \n",
       "1  110120100002        1  1101  Iquique  2010                1          1   \n",
       "\n",
       "   glosa_destino   uso_destino  superficie        Localización  \n",
       "0  Casa continua  HABITACIONAL         307  RANGE_INTERPOLATED  \n",
       "1  Casa continua  HABITACIONAL          98  RANGE_INTERPOLATED  "
      ]
     },
     "execution_count": 4,
     "metadata": {},
     "output_type": "execute_result"
    }
   ],
   "source": [
    "df1.head(2)"
   ]
  },
  {
   "cell_type": "markdown",
   "metadata": {},
   "source": [
    "Describimos la informacion dentro de la data "
   ]
  },
  {
   "cell_type": "code",
   "execution_count": 5,
   "metadata": {},
   "outputs": [
    {
     "name": "stdout",
     "output_type": "stream",
     "text": [
      "<class 'pandas.core.frame.DataFrame'>\n",
      "RangeIndex: 114690 entries, 0 to 114689\n",
      "Data columns (total 11 columns):\n",
      "ID                 114690 non-null int64\n",
      "COD_REG            114690 non-null int64\n",
      "CUT                114690 non-null int64\n",
      "Comuna             114690 non-null object\n",
      "Año                114690 non-null int64\n",
      "cantidad_unidad    114690 non-null int64\n",
      "num_pisos          114690 non-null int64\n",
      "glosa_destino      114690 non-null object\n",
      "uso_destino        114690 non-null object\n",
      "superficie         114690 non-null int64\n",
      "Localización       114690 non-null object\n",
      "dtypes: int64(7), object(4)\n",
      "memory usage: 9.6+ MB\n"
     ]
    }
   ],
   "source": [
    "df1.info()"
   ]
  },
  {
   "cell_type": "markdown",
   "metadata": {
    "colab_type": "text",
    "id": "RQ1QqrNKvim9"
   },
   "source": [
    "## 2. Limpiar el dataset"
   ]
  },
  {
   "cell_type": "markdown",
   "metadata": {},
   "source": [
    "Se procede a realizar la limpieza del data set con la con las mismas funciones utilizadas en la definicion del data set de visas. "
   ]
  },
  {
   "cell_type": "markdown",
   "metadata": {},
   "source": [
    "Se define una funcion para quitar tildes y demas signos que nos faciliten el procesamiento."
   ]
  },
  {
   "cell_type": "code",
   "execution_count": 6,
   "metadata": {},
   "outputs": [],
   "source": [
    "def replaceCaracteres(text):\n",
    "    text = text.replace('á', 'a')\n",
    "    text = text.replace('é', 'e')\n",
    "    text = text.replace('í', 'i')\n",
    "    text = text.replace('ó', 'o')\n",
    "    text = text.replace('ú', 'u')\n",
    "    text = text.replace('ñ', 'n')\n",
    "    text = text.replace('ã', 'a')\n",
    "    return text"
   ]
  },
  {
   "cell_type": "markdown",
   "metadata": {},
   "source": [
    "Se define la funcion para la limpieza del texto de todas las variables"
   ]
  },
  {
   "cell_type": "code",
   "execution_count": 7,
   "metadata": {},
   "outputs": [],
   "source": [
    "def limpiaTexto(text):\n",
    "    text = text.lower()\n",
    "    text = replaceCaracteres(text)\n",
    "    return text "
   ]
  },
  {
   "cell_type": "markdown",
   "metadata": {},
   "source": [
    "Aplicamos esto para las variables de la data que mayormente presentan estos signos"
   ]
  },
  {
   "cell_type": "code",
   "execution_count": 8,
   "metadata": {},
   "outputs": [],
   "source": [
    "df1['Comuna'] = df1.Comuna.apply(limpiaTexto)"
   ]
  },
  {
   "cell_type": "markdown",
   "metadata": {},
   "source": [
    "Vemos como resulta"
   ]
  },
  {
   "cell_type": "code",
   "execution_count": 9,
   "metadata": {
    "scrolled": true
   },
   "outputs": [
    {
     "data": {
      "text/plain": [
       "chillan                3405\n",
       "colina                 3187\n",
       "los angeles            3178\n",
       "talca                  2732\n",
       "curico                 2686\n",
       "valparaiso             2663\n",
       "temuco                 2639\n",
       "valdivia               2530\n",
       "cauquenes              2442\n",
       "linares                2404\n",
       "osorno                 2137\n",
       "concepcion             2017\n",
       "alto hospicio          1877\n",
       "san carlos             1843\n",
       "puerto montt           1760\n",
       "melipilla              1681\n",
       "coquimbo               1651\n",
       "coronel                1568\n",
       "antofagasta            1522\n",
       "castro                 1503\n",
       "punta arenas           1431\n",
       "talcahuano             1391\n",
       "la serena              1359\n",
       "machali                1358\n",
       "quilpue                1341\n",
       "san pedro de la paz    1296\n",
       "santiago               1280\n",
       "pichilemu              1275\n",
       "angol                  1273\n",
       "puerto varas           1256\n",
       "                       ... \n",
       "quilicura               463\n",
       "calera                  445\n",
       "padre hurtado           424\n",
       "vitacura                403\n",
       "isla de pascua          402\n",
       "la reina                399\n",
       "san felipe              397\n",
       "olivar                  387\n",
       "independencia           383\n",
       "cerrillos               375\n",
       "pozo almonte            374\n",
       "la granja               363\n",
       "quinta normal           355\n",
       "huechuraba              349\n",
       "san miguel              335\n",
       "la pintana              332\n",
       "providencia             314\n",
       "chanaral                302\n",
       "macul                   271\n",
       "lo prado                260\n",
       "san jose de maipo       219\n",
       "chile chico             193\n",
       "cochrane                189\n",
       "los andes               174\n",
       "lo espejo               173\n",
       "san joaquin             168\n",
       "chaiten                 137\n",
       "porvenir                 93\n",
       "cabo de hornos           43\n",
       "putre                     7\n",
       "Name: Comuna, Length: 118, dtype: int64"
      ]
     },
     "execution_count": 9,
     "metadata": {},
     "output_type": "execute_result"
    }
   ],
   "source": [
    "df1.Comuna.value_counts()"
   ]
  },
  {
   "cell_type": "markdown",
   "metadata": {},
   "source": [
    "Efectivamente nos decisimos de los signos y tildes en las variables que deseabamos"
   ]
  },
  {
   "cell_type": "markdown",
   "metadata": {},
   "source": [
    "Realizamos una contabilizacion de los valores nulos dentro de los datos"
   ]
  },
  {
   "cell_type": "code",
   "execution_count": 10,
   "metadata": {},
   "outputs": [
    {
     "data": {
      "text/plain": [
       "ID                 0\n",
       "COD_REG            0\n",
       "CUT                0\n",
       "Comuna             0\n",
       "Año                0\n",
       "cantidad_unidad    0\n",
       "num_pisos          0\n",
       "glosa_destino      0\n",
       "uso_destino        0\n",
       "superficie         0\n",
       "Localización       0\n",
       "dtype: int64"
      ]
     },
     "execution_count": 10,
     "metadata": {},
     "output_type": "execute_result"
    }
   ],
   "source": [
    "df1.isnull().sum(axis=0)"
   ]
  },
  {
   "cell_type": "markdown",
   "metadata": {},
   "source": [
    "Definimos los codigos de las regiones para eventualmente proceder a seleccionar las que nos interesan"
   ]
  },
  {
   "cell_type": "code",
   "execution_count": 11,
   "metadata": {},
   "outputs": [
    {
     "data": {
      "text/plain": [
       "array([ 1,  2,  3,  4,  5,  6,  7,  8,  9, 10, 11, 12, 13, 14, 15])"
      ]
     },
     "execution_count": 11,
     "metadata": {},
     "output_type": "execute_result"
    }
   ],
   "source": [
    "df1.COD_REG.unique()"
   ]
  },
  {
   "cell_type": "markdown",
   "metadata": {},
   "source": [
    "Apartir de aca y sabiendo que dentro de la cofidificacion de la region metrooplitana viene dada por el 13 la cual es propuesta por el INE, se procede a seleccionar esta para enfocar el analisis solos en la RM. "
   ]
  },
  {
   "cell_type": "code",
   "execution_count": 12,
   "metadata": {},
   "outputs": [
    {
     "data": {
      "text/plain": [
       "array(['santiago', 'cerrillos', 'cerro navia', 'conchali', 'el bosque',\n",
       "       'estacion central', 'huechuraba', 'independencia', 'la cisterna',\n",
       "       'la florida', 'la granja', 'la pintana', 'la reina', 'las condes',\n",
       "       'lo barnechea', 'lo espejo', 'lo prado', 'macul', 'maipu', 'nunoa',\n",
       "       'pedro aguirre cerda', 'penalolen', 'providencia', 'pudahuel',\n",
       "       'quilicura', 'quinta normal', 'recoleta', 'renca', 'san joaquin',\n",
       "       'san miguel', 'san ramon', 'vitacura', 'puente alto', 'pirque',\n",
       "       'san jose de maipo', 'colina', 'lampa', 'san bernardo', 'buin',\n",
       "       'paine', 'melipilla', 'talagante', 'padre hurtado', 'penaflor'],\n",
       "      dtype=object)"
      ]
     },
     "execution_count": 12,
     "metadata": {},
     "output_type": "execute_result"
    }
   ],
   "source": [
    "df1[df1.COD_REG==13].Comuna.unique()"
   ]
  },
  {
   "cell_type": "markdown",
   "metadata": {},
   "source": [
    "Apartir de aca nos desacemos de variables que consideramos que no son relevantes para nuestro analisis"
   ]
  },
  {
   "cell_type": "code",
   "execution_count": 13,
   "metadata": {},
   "outputs": [
    {
     "data": {
      "text/plain": [
       "(29330, 11)"
      ]
     },
     "execution_count": 13,
     "metadata": {},
     "output_type": "execute_result"
    }
   ],
   "source": [
    "df = df1[df1.COD_REG == 13]\n",
    "df.shape"
   ]
  },
  {
   "cell_type": "code",
   "execution_count": 14,
   "metadata": {},
   "outputs": [
    {
     "data": {
      "text/html": [
       "<div>\n",
       "<style scoped>\n",
       "    .dataframe tbody tr th:only-of-type {\n",
       "        vertical-align: middle;\n",
       "    }\n",
       "\n",
       "    .dataframe tbody tr th {\n",
       "        vertical-align: top;\n",
       "    }\n",
       "\n",
       "    .dataframe thead th {\n",
       "        text-align: right;\n",
       "    }\n",
       "</style>\n",
       "<table border=\"1\" class=\"dataframe\">\n",
       "  <thead>\n",
       "    <tr style=\"text-align: right;\">\n",
       "      <th></th>\n",
       "      <th>ID</th>\n",
       "      <th>COD_REG</th>\n",
       "      <th>CUT</th>\n",
       "      <th>Comuna</th>\n",
       "      <th>Año</th>\n",
       "      <th>cantidad_unidad</th>\n",
       "      <th>num_pisos</th>\n",
       "      <th>glosa_destino</th>\n",
       "      <th>uso_destino</th>\n",
       "      <th>superficie</th>\n",
       "      <th>Localización</th>\n",
       "    </tr>\n",
       "  </thead>\n",
       "  <tbody>\n",
       "    <tr>\n",
       "      <th>81426</th>\n",
       "      <td>1310120100001</td>\n",
       "      <td>13</td>\n",
       "      <td>13101</td>\n",
       "      <td>santiago</td>\n",
       "      <td>2010</td>\n",
       "      <td>2</td>\n",
       "      <td>2</td>\n",
       "      <td>Casa continua; Comercio</td>\n",
       "      <td>MIXTO</td>\n",
       "      <td>213</td>\n",
       "      <td>ROOFTOP</td>\n",
       "    </tr>\n",
       "    <tr>\n",
       "      <th>81427</th>\n",
       "      <td>1310120100002</td>\n",
       "      <td>13</td>\n",
       "      <td>13101</td>\n",
       "      <td>santiago</td>\n",
       "      <td>2010</td>\n",
       "      <td>1</td>\n",
       "      <td>1</td>\n",
       "      <td>Comercio</td>\n",
       "      <td>NO HABITACIONAL</td>\n",
       "      <td>250</td>\n",
       "      <td>ROOFTOP</td>\n",
       "    </tr>\n",
       "    <tr>\n",
       "      <th>81428</th>\n",
       "      <td>1310120100003</td>\n",
       "      <td>13</td>\n",
       "      <td>13101</td>\n",
       "      <td>santiago</td>\n",
       "      <td>2010</td>\n",
       "      <td>2</td>\n",
       "      <td>8</td>\n",
       "      <td>Comercio; Oficinas sin destino específico</td>\n",
       "      <td>NO HABITACIONAL</td>\n",
       "      <td>32880</td>\n",
       "      <td>RANGE_INTERPOLATED</td>\n",
       "    </tr>\n",
       "    <tr>\n",
       "      <th>81429</th>\n",
       "      <td>1310120100004</td>\n",
       "      <td>13</td>\n",
       "      <td>13101</td>\n",
       "      <td>santiago</td>\n",
       "      <td>2010</td>\n",
       "      <td>1</td>\n",
       "      <td>1</td>\n",
       "      <td>Comercio</td>\n",
       "      <td>NO HABITACIONAL</td>\n",
       "      <td>244</td>\n",
       "      <td>ROOFTOP</td>\n",
       "    </tr>\n",
       "    <tr>\n",
       "      <th>81430</th>\n",
       "      <td>1310120100005</td>\n",
       "      <td>13</td>\n",
       "      <td>13101</td>\n",
       "      <td>santiago</td>\n",
       "      <td>2010</td>\n",
       "      <td>1</td>\n",
       "      <td>3</td>\n",
       "      <td>Jardines infantiles, parvularios</td>\n",
       "      <td>NO HABITACIONAL</td>\n",
       "      <td>1038</td>\n",
       "      <td>ROOFTOP</td>\n",
       "    </tr>\n",
       "  </tbody>\n",
       "</table>\n",
       "</div>"
      ],
      "text/plain": [
       "                  ID  COD_REG    CUT    Comuna   Año  cantidad_unidad  \\\n",
       "81426  1310120100001       13  13101  santiago  2010                2   \n",
       "81427  1310120100002       13  13101  santiago  2010                1   \n",
       "81428  1310120100003       13  13101  santiago  2010                2   \n",
       "81429  1310120100004       13  13101  santiago  2010                1   \n",
       "81430  1310120100005       13  13101  santiago  2010                1   \n",
       "\n",
       "       num_pisos                              glosa_destino      uso_destino  \\\n",
       "81426          2                    Casa continua; Comercio            MIXTO   \n",
       "81427          1                                   Comercio  NO HABITACIONAL   \n",
       "81428          8  Comercio; Oficinas sin destino específico  NO HABITACIONAL   \n",
       "81429          1                                   Comercio  NO HABITACIONAL   \n",
       "81430          3           Jardines infantiles, parvularios  NO HABITACIONAL   \n",
       "\n",
       "       superficie        Localización  \n",
       "81426         213             ROOFTOP  \n",
       "81427         250             ROOFTOP  \n",
       "81428       32880  RANGE_INTERPOLATED  \n",
       "81429         244             ROOFTOP  \n",
       "81430        1038             ROOFTOP  "
      ]
     },
     "execution_count": 14,
     "metadata": {},
     "output_type": "execute_result"
    }
   ],
   "source": [
    "df.head()"
   ]
  },
  {
   "cell_type": "markdown",
   "metadata": {},
   "source": [
    "Se observa que existen atributos del data set que no se perciben sean fundamentales para el analisis que deseamos realizar, por loq ue se procede a eliminar las coumnas que no son necesarias."
   ]
  },
  {
   "cell_type": "code",
   "execution_count": 15,
   "metadata": {},
   "outputs": [],
   "source": [
    "del df['ID']\n",
    "del df['COD_REG']\n",
    "del df['CUT']\n",
    "del df['Localización']"
   ]
  },
  {
   "cell_type": "code",
   "execution_count": 16,
   "metadata": {},
   "outputs": [
    {
     "data": {
      "text/html": [
       "<div>\n",
       "<style scoped>\n",
       "    .dataframe tbody tr th:only-of-type {\n",
       "        vertical-align: middle;\n",
       "    }\n",
       "\n",
       "    .dataframe tbody tr th {\n",
       "        vertical-align: top;\n",
       "    }\n",
       "\n",
       "    .dataframe thead th {\n",
       "        text-align: right;\n",
       "    }\n",
       "</style>\n",
       "<table border=\"1\" class=\"dataframe\">\n",
       "  <thead>\n",
       "    <tr style=\"text-align: right;\">\n",
       "      <th></th>\n",
       "      <th>Comuna</th>\n",
       "      <th>Año</th>\n",
       "      <th>cantidad_unidad</th>\n",
       "      <th>num_pisos</th>\n",
       "      <th>glosa_destino</th>\n",
       "      <th>uso_destino</th>\n",
       "      <th>superficie</th>\n",
       "    </tr>\n",
       "  </thead>\n",
       "  <tbody>\n",
       "    <tr>\n",
       "      <th>81426</th>\n",
       "      <td>santiago</td>\n",
       "      <td>2010</td>\n",
       "      <td>2</td>\n",
       "      <td>2</td>\n",
       "      <td>Casa continua; Comercio</td>\n",
       "      <td>MIXTO</td>\n",
       "      <td>213</td>\n",
       "    </tr>\n",
       "    <tr>\n",
       "      <th>81427</th>\n",
       "      <td>santiago</td>\n",
       "      <td>2010</td>\n",
       "      <td>1</td>\n",
       "      <td>1</td>\n",
       "      <td>Comercio</td>\n",
       "      <td>NO HABITACIONAL</td>\n",
       "      <td>250</td>\n",
       "    </tr>\n",
       "    <tr>\n",
       "      <th>81428</th>\n",
       "      <td>santiago</td>\n",
       "      <td>2010</td>\n",
       "      <td>2</td>\n",
       "      <td>8</td>\n",
       "      <td>Comercio; Oficinas sin destino específico</td>\n",
       "      <td>NO HABITACIONAL</td>\n",
       "      <td>32880</td>\n",
       "    </tr>\n",
       "    <tr>\n",
       "      <th>81429</th>\n",
       "      <td>santiago</td>\n",
       "      <td>2010</td>\n",
       "      <td>1</td>\n",
       "      <td>1</td>\n",
       "      <td>Comercio</td>\n",
       "      <td>NO HABITACIONAL</td>\n",
       "      <td>244</td>\n",
       "    </tr>\n",
       "    <tr>\n",
       "      <th>81430</th>\n",
       "      <td>santiago</td>\n",
       "      <td>2010</td>\n",
       "      <td>1</td>\n",
       "      <td>3</td>\n",
       "      <td>Jardines infantiles, parvularios</td>\n",
       "      <td>NO HABITACIONAL</td>\n",
       "      <td>1038</td>\n",
       "    </tr>\n",
       "  </tbody>\n",
       "</table>\n",
       "</div>"
      ],
      "text/plain": [
       "         Comuna   Año  cantidad_unidad  num_pisos  \\\n",
       "81426  santiago  2010                2          2   \n",
       "81427  santiago  2010                1          1   \n",
       "81428  santiago  2010                2          8   \n",
       "81429  santiago  2010                1          1   \n",
       "81430  santiago  2010                1          3   \n",
       "\n",
       "                                   glosa_destino      uso_destino  superficie  \n",
       "81426                    Casa continua; Comercio            MIXTO         213  \n",
       "81427                                   Comercio  NO HABITACIONAL         250  \n",
       "81428  Comercio; Oficinas sin destino específico  NO HABITACIONAL       32880  \n",
       "81429                                   Comercio  NO HABITACIONAL         244  \n",
       "81430           Jardines infantiles, parvularios  NO HABITACIONAL        1038  "
      ]
     },
     "execution_count": 16,
     "metadata": {},
     "output_type": "execute_result"
    }
   ],
   "source": [
    "df.head()"
   ]
  },
  {
   "cell_type": "markdown",
   "metadata": {},
   "source": [
    "Ahora se establece el conteo del uso de destino, en este analisis nos basaremos en los desarrollos habitacionales dados en la region metroplitana en el periodo de 2010 al 2017, con esta logica de analisis se procede el uso de destino HABITACIONAL, y se descarta los NO HABITACIONAL"
   ]
  },
  {
   "cell_type": "code",
   "execution_count": 17,
   "metadata": {},
   "outputs": [
    {
     "data": {
      "text/plain": [
       "HABITACIONAL       20162\n",
       "NO HABITACIONAL     7349\n",
       "MIXTO               1819\n",
       "Name: uso_destino, dtype: int64"
      ]
     },
     "execution_count": 17,
     "metadata": {},
     "output_type": "execute_result"
    }
   ],
   "source": [
    "df.uso_destino.value_counts()"
   ]
  },
  {
   "cell_type": "markdown",
   "metadata": {},
   "source": [
    "En muchos casos los desarrollos mixtos son establecidos mas tanto comerciales como habitacionales por lo que se se utiliza el mixto y se une al habitacional."
   ]
  },
  {
   "cell_type": "code",
   "execution_count": 18,
   "metadata": {},
   "outputs": [],
   "source": [
    "df.uso_destino.replace(to_replace = 'MIXTO',value= 'HABITACIONAL', inplace=True)"
   ]
  },
  {
   "cell_type": "code",
   "execution_count": 19,
   "metadata": {},
   "outputs": [
    {
     "data": {
      "text/plain": [
       "HABITACIONAL       21981\n",
       "NO HABITACIONAL     7349\n",
       "Name: uso_destino, dtype: int64"
      ]
     },
     "execution_count": 19,
     "metadata": {},
     "output_type": "execute_result"
    }
   ],
   "source": [
    "df.uso_destino.value_counts()"
   ]
  },
  {
   "cell_type": "markdown",
   "metadata": {},
   "source": [
    " y con esto filtramos el dataframe solo con la vision de que sean utilizados para destino habitacional"
   ]
  },
  {
   "cell_type": "code",
   "execution_count": 20,
   "metadata": {},
   "outputs": [],
   "source": [
    "df = df[df.uso_destino == 'HABITACIONAL']"
   ]
  },
  {
   "cell_type": "markdown",
   "metadata": {},
   "source": [
    "Como esta variable no es fundamental para nuestro analisis se desecha del dataframe"
   ]
  },
  {
   "cell_type": "code",
   "execution_count": 21,
   "metadata": {
    "scrolled": true
   },
   "outputs": [],
   "source": [
    "del df['uso_destino']"
   ]
  },
  {
   "cell_type": "code",
   "execution_count": 22,
   "metadata": {},
   "outputs": [
    {
     "data": {
      "text/html": [
       "<div>\n",
       "<style scoped>\n",
       "    .dataframe tbody tr th:only-of-type {\n",
       "        vertical-align: middle;\n",
       "    }\n",
       "\n",
       "    .dataframe tbody tr th {\n",
       "        vertical-align: top;\n",
       "    }\n",
       "\n",
       "    .dataframe thead th {\n",
       "        text-align: right;\n",
       "    }\n",
       "</style>\n",
       "<table border=\"1\" class=\"dataframe\">\n",
       "  <thead>\n",
       "    <tr style=\"text-align: right;\">\n",
       "      <th></th>\n",
       "      <th>Comuna</th>\n",
       "      <th>Año</th>\n",
       "      <th>cantidad_unidad</th>\n",
       "      <th>num_pisos</th>\n",
       "      <th>glosa_destino</th>\n",
       "      <th>superficie</th>\n",
       "    </tr>\n",
       "  </thead>\n",
       "  <tbody>\n",
       "    <tr>\n",
       "      <th>81426</th>\n",
       "      <td>santiago</td>\n",
       "      <td>2010</td>\n",
       "      <td>2</td>\n",
       "      <td>2</td>\n",
       "      <td>Casa continua; Comercio</td>\n",
       "      <td>213</td>\n",
       "    </tr>\n",
       "    <tr>\n",
       "      <th>81431</th>\n",
       "      <td>santiago</td>\n",
       "      <td>2010</td>\n",
       "      <td>113</td>\n",
       "      <td>7</td>\n",
       "      <td>Dos edificios o bloques</td>\n",
       "      <td>5568</td>\n",
       "    </tr>\n",
       "    <tr>\n",
       "      <th>81432</th>\n",
       "      <td>santiago</td>\n",
       "      <td>2010</td>\n",
       "      <td>1</td>\n",
       "      <td>1</td>\n",
       "      <td>Casa continua</td>\n",
       "      <td>46</td>\n",
       "    </tr>\n",
       "    <tr>\n",
       "      <th>81443</th>\n",
       "      <td>santiago</td>\n",
       "      <td>2010</td>\n",
       "      <td>1198</td>\n",
       "      <td>32</td>\n",
       "      <td>Edificio o bloque único; Locales comerciales; ...</td>\n",
       "      <td>68775</td>\n",
       "    </tr>\n",
       "    <tr>\n",
       "      <th>81444</th>\n",
       "      <td>santiago</td>\n",
       "      <td>2010</td>\n",
       "      <td>3</td>\n",
       "      <td>4</td>\n",
       "      <td>Edificio o bloque único; Comercio; Otros</td>\n",
       "      <td>1213</td>\n",
       "    </tr>\n",
       "  </tbody>\n",
       "</table>\n",
       "</div>"
      ],
      "text/plain": [
       "         Comuna   Año  cantidad_unidad  num_pisos  \\\n",
       "81426  santiago  2010                2          2   \n",
       "81431  santiago  2010              113          7   \n",
       "81432  santiago  2010                1          1   \n",
       "81443  santiago  2010             1198         32   \n",
       "81444  santiago  2010                3          4   \n",
       "\n",
       "                                           glosa_destino  superficie  \n",
       "81426                            Casa continua; Comercio         213  \n",
       "81431                            Dos edificios o bloques        5568  \n",
       "81432                                      Casa continua          46  \n",
       "81443  Edificio o bloque único; Locales comerciales; ...       68775  \n",
       "81444           Edificio o bloque único; Comercio; Otros        1213  "
      ]
     },
     "execution_count": 22,
     "metadata": {},
     "output_type": "execute_result"
    }
   ],
   "source": [
    "df.head()"
   ]
  },
  {
   "cell_type": "markdown",
   "metadata": {},
   "source": [
    "Con la misma logica de que los desarrollos habitacionales , la glosa de destino es fundamental discretirizar en nuestro analisis. "
   ]
  },
  {
   "cell_type": "code",
   "execution_count": 23,
   "metadata": {},
   "outputs": [
    {
     "data": {
      "text/plain": [
       "Casa aislada                                                                                                                      14946\n",
       "Casa pareada                                                                                                                       3375\n",
       "Edificio o bloque único                                                                                                             841\n",
       "Casa continua                                                                                                                       661\n",
       "Casa aislada; Comercio                                                                                                              309\n",
       "Edificio o bloque único; Otros                                                                                                      260\n",
       "Dos edificios o bloques                                                                                                             147\n",
       "Casa pareada; Comercio                                                                                                              124\n",
       "Casa aislada; Personales y del Hogar                                                                                                117\n",
       "Casa aislada; Otros                                                                                                                  98\n",
       "Casa continua; Comercio                                                                                                              89\n",
       "Casa aislada; Locales comerciales                                                                                                    66\n",
       "Casa pareada; Esparcimiento y diversión                                                                                              49\n",
       "Tres edificios o bloques                                                                                                             42\n",
       "Casa pareada; Locales comerciales                                                                                                    41\n",
       "Casa aislada; Esparcimiento y diversión                                                                                              40\n",
       "Edificio o bloque único; Locales comerciales                                                                                         40\n",
       "Dos edificios o bloques; Otros                                                                                                       38\n",
       "Nueve edificios o bloques y más                                                                                                      33\n",
       "Casa continua; Locales comerciales                                                                                                   32\n",
       "Casa aislada; Transportes y almacenamiento                                                                                           29\n",
       "Casa aislada; Casa pareada                                                                                                           24\n",
       "Edificio o bloque único; Comercio                                                                                                    23\n",
       "Edificio o bloque único; Comercio; Otros                                                                                             23\n",
       "Cuatro edificios o bloques                                                                                                           20\n",
       "Casa aislada; Oficinas sin destino específico                                                                                        19\n",
       "Seis edificios o bloques                                                                                                             19\n",
       "Cinco edificios o bloques                                                                                                            19\n",
       "Siete edificios o bloques                                                                                                            17\n",
       "Casa aislada; Agrícola                                                                                                               16\n",
       "                                                                                                                                  ...  \n",
       "Dos edificios o bloques; Locales comerciales; Oficinas sin destino específico                                                         1\n",
       "Casa aislada; Hoteles, moteles, residenciales, cabañas                                                                                1\n",
       "Siete edificios o bloques; Personales y del Hogar; Otros                                                                              1\n",
       "Casa aislada; Cuatro edificios o bloques; Locales comerciales                                                                         1\n",
       "Casa aislada; Transportes y almacenamiento; Oficinas sin destino específico; Organizaciones religiosas                                1\n",
       "Casa aislada; Otros; Oficinas sin destino específico; Personales y del Hogar                                                          1\n",
       "Cuatro edificios o bloques; Comercio; Otros                                                                                           1\n",
       "Edificio o bloque único; Supermercados                                                                                                1\n",
       "Casa aislada; Supermercados                                                                                                           1\n",
       "Casa pareada; Electricidad, gas; Esparcimiento y diversión                                                                            1\n",
       "Casa continua; Salud                                                                                                                  1\n",
       "Casa pareada; Otros; Oficinas sin destino específico                                                                                  1\n",
       "Dos edificios o bloques; Esparcimiento y diversión                                                                                    1\n",
       "Cuatro edificios o bloques; Comercio; Oficinas sin destino específico; Salud                                                          1\n",
       "Dos edificios o bloques; Supermercados; Locales comerciales                                                                           1\n",
       "Casa aislada; Transportes y almacenamiento; Esparcimiento y diversión                                                                 1\n",
       "Casa pareada; Cuatro edificios o bloques                                                                                              1\n",
       "Edificio o bloque único; Locales comerciales; Oficinas sin destino específico; Salud                                                  1\n",
       "Edificio o bloque único; Transportes y almacenamiento                                                                                 1\n",
       "Casa aislada; Ocho edificios o bloques; Personales y del Hogar                                                                        1\n",
       "Casa pareada; Asistencia Social                                                                                                       1\n",
       "Edificio o bloque único; Bares, restaurantes y cafés                                                                                  1\n",
       "Edificio o bloque único; Comercio; Supermercados; Oficinas sin destino específico; Otros                                              1\n",
       "Casa aislada; Agrícola; Otros                                                                                                         1\n",
       "Edificio o bloque único; Locales comerciales; Hoteles, moteles, residenciales, cabañas; Oficinas sin destino específico; Otros        1\n",
       "Casa aislada; Casa pareada; Edificio o bloque único; Esparcimiento y diversión                                                        1\n",
       "Edificio o bloque único; Locales comerciales; Oficinas sin destino específico; Esparcimiento y diversión; Otros                       1\n",
       "Casa continua; Comercio; Otros                                                                                                        1\n",
       "Casa aislada; Locales comerciales; Otros                                                                                              1\n",
       "Siete edificios o bloques; Locales comerciales; Esparcimiento y diversión                                                             1\n",
       "Name: glosa_destino, Length: 186, dtype: int64"
      ]
     },
     "execution_count": 23,
     "metadata": {},
     "output_type": "execute_result"
    }
   ],
   "source": [
    "df.glosa_destino.value_counts()"
   ]
  },
  {
   "cell_type": "markdown",
   "metadata": {},
   "source": [
    "Como vemos son muchas categorias, se procede a filtrar solo las categorias que contienen las siglas de edificios. Este aspecto es sumamente fundamental ya que si bien la mayor concentracion de inmigrantes se puede pensar como hipotesis que viven mas asinados y por en su mayoria viven en desarrollos habtacionales como edificiones o conjuntos de edificios. Por lo que primordialmente se porcedera a hacer un filtro en esta glosa."
   ]
  },
  {
   "cell_type": "markdown",
   "metadata": {},
   "source": [
    "Primeramente se procese a realizar la limpieza de esta glosa. Con la finalidad de en toda glosa donde existan los edificios colocar edificio y donde exista casa colocar solo la palabra casa."
   ]
  },
  {
   "cell_type": "code",
   "execution_count": 24,
   "metadata": {},
   "outputs": [],
   "source": [
    "def limpia_uso(text):\n",
    "    text = limpiaTexto(text)   \n",
    "    if 'edificio' in text: text = 'edificio'\n",
    "    elif 'casa' in text: text= 'casa'\n",
    "    else: text = 'Sin identificacion'\n",
    "    return text "
   ]
  },
  {
   "cell_type": "code",
   "execution_count": 25,
   "metadata": {},
   "outputs": [
    {
     "data": {
      "text/html": [
       "<div>\n",
       "<style scoped>\n",
       "    .dataframe tbody tr th:only-of-type {\n",
       "        vertical-align: middle;\n",
       "    }\n",
       "\n",
       "    .dataframe tbody tr th {\n",
       "        vertical-align: top;\n",
       "    }\n",
       "\n",
       "    .dataframe thead th {\n",
       "        text-align: right;\n",
       "    }\n",
       "</style>\n",
       "<table border=\"1\" class=\"dataframe\">\n",
       "  <thead>\n",
       "    <tr style=\"text-align: right;\">\n",
       "      <th></th>\n",
       "      <th>Comuna</th>\n",
       "      <th>Año</th>\n",
       "      <th>cantidad_unidad</th>\n",
       "      <th>num_pisos</th>\n",
       "      <th>glosa_destino</th>\n",
       "      <th>superficie</th>\n",
       "    </tr>\n",
       "  </thead>\n",
       "  <tbody>\n",
       "    <tr>\n",
       "      <th>81426</th>\n",
       "      <td>santiago</td>\n",
       "      <td>2010</td>\n",
       "      <td>2</td>\n",
       "      <td>2</td>\n",
       "      <td>Casa continua; Comercio</td>\n",
       "      <td>213</td>\n",
       "    </tr>\n",
       "    <tr>\n",
       "      <th>81431</th>\n",
       "      <td>santiago</td>\n",
       "      <td>2010</td>\n",
       "      <td>113</td>\n",
       "      <td>7</td>\n",
       "      <td>Dos edificios o bloques</td>\n",
       "      <td>5568</td>\n",
       "    </tr>\n",
       "    <tr>\n",
       "      <th>81432</th>\n",
       "      <td>santiago</td>\n",
       "      <td>2010</td>\n",
       "      <td>1</td>\n",
       "      <td>1</td>\n",
       "      <td>Casa continua</td>\n",
       "      <td>46</td>\n",
       "    </tr>\n",
       "    <tr>\n",
       "      <th>81443</th>\n",
       "      <td>santiago</td>\n",
       "      <td>2010</td>\n",
       "      <td>1198</td>\n",
       "      <td>32</td>\n",
       "      <td>Edificio o bloque único; Locales comerciales; ...</td>\n",
       "      <td>68775</td>\n",
       "    </tr>\n",
       "    <tr>\n",
       "      <th>81444</th>\n",
       "      <td>santiago</td>\n",
       "      <td>2010</td>\n",
       "      <td>3</td>\n",
       "      <td>4</td>\n",
       "      <td>Edificio o bloque único; Comercio; Otros</td>\n",
       "      <td>1213</td>\n",
       "    </tr>\n",
       "  </tbody>\n",
       "</table>\n",
       "</div>"
      ],
      "text/plain": [
       "         Comuna   Año  cantidad_unidad  num_pisos  \\\n",
       "81426  santiago  2010                2          2   \n",
       "81431  santiago  2010              113          7   \n",
       "81432  santiago  2010                1          1   \n",
       "81443  santiago  2010             1198         32   \n",
       "81444  santiago  2010                3          4   \n",
       "\n",
       "                                           glosa_destino  superficie  \n",
       "81426                            Casa continua; Comercio         213  \n",
       "81431                            Dos edificios o bloques        5568  \n",
       "81432                                      Casa continua          46  \n",
       "81443  Edificio o bloque único; Locales comerciales; ...       68775  \n",
       "81444           Edificio o bloque único; Comercio; Otros        1213  "
      ]
     },
     "execution_count": 25,
     "metadata": {},
     "output_type": "execute_result"
    }
   ],
   "source": [
    "df.head(5)"
   ]
  },
  {
   "cell_type": "markdown",
   "metadata": {},
   "source": [
    "Aplicamos la funcion"
   ]
  },
  {
   "cell_type": "code",
   "execution_count": 26,
   "metadata": {},
   "outputs": [],
   "source": [
    "df['glosa_destino'] = df.glosa_destino.apply(limpia_uso)"
   ]
  },
  {
   "cell_type": "code",
   "execution_count": 27,
   "metadata": {
    "scrolled": true
   },
   "outputs": [
    {
     "data": {
      "text/html": [
       "<div>\n",
       "<style scoped>\n",
       "    .dataframe tbody tr th:only-of-type {\n",
       "        vertical-align: middle;\n",
       "    }\n",
       "\n",
       "    .dataframe tbody tr th {\n",
       "        vertical-align: top;\n",
       "    }\n",
       "\n",
       "    .dataframe thead th {\n",
       "        text-align: right;\n",
       "    }\n",
       "</style>\n",
       "<table border=\"1\" class=\"dataframe\">\n",
       "  <thead>\n",
       "    <tr style=\"text-align: right;\">\n",
       "      <th></th>\n",
       "      <th>Comuna</th>\n",
       "      <th>Año</th>\n",
       "      <th>cantidad_unidad</th>\n",
       "      <th>num_pisos</th>\n",
       "      <th>glosa_destino</th>\n",
       "      <th>superficie</th>\n",
       "    </tr>\n",
       "  </thead>\n",
       "  <tbody>\n",
       "    <tr>\n",
       "      <th>81426</th>\n",
       "      <td>santiago</td>\n",
       "      <td>2010</td>\n",
       "      <td>2</td>\n",
       "      <td>2</td>\n",
       "      <td>casa</td>\n",
       "      <td>213</td>\n",
       "    </tr>\n",
       "    <tr>\n",
       "      <th>81431</th>\n",
       "      <td>santiago</td>\n",
       "      <td>2010</td>\n",
       "      <td>113</td>\n",
       "      <td>7</td>\n",
       "      <td>edificio</td>\n",
       "      <td>5568</td>\n",
       "    </tr>\n",
       "    <tr>\n",
       "      <th>81432</th>\n",
       "      <td>santiago</td>\n",
       "      <td>2010</td>\n",
       "      <td>1</td>\n",
       "      <td>1</td>\n",
       "      <td>casa</td>\n",
       "      <td>46</td>\n",
       "    </tr>\n",
       "    <tr>\n",
       "      <th>81443</th>\n",
       "      <td>santiago</td>\n",
       "      <td>2010</td>\n",
       "      <td>1198</td>\n",
       "      <td>32</td>\n",
       "      <td>edificio</td>\n",
       "      <td>68775</td>\n",
       "    </tr>\n",
       "    <tr>\n",
       "      <th>81444</th>\n",
       "      <td>santiago</td>\n",
       "      <td>2010</td>\n",
       "      <td>3</td>\n",
       "      <td>4</td>\n",
       "      <td>edificio</td>\n",
       "      <td>1213</td>\n",
       "    </tr>\n",
       "  </tbody>\n",
       "</table>\n",
       "</div>"
      ],
      "text/plain": [
       "         Comuna   Año  cantidad_unidad  num_pisos glosa_destino  superficie\n",
       "81426  santiago  2010                2          2          casa         213\n",
       "81431  santiago  2010              113          7      edificio        5568\n",
       "81432  santiago  2010                1          1          casa          46\n",
       "81443  santiago  2010             1198         32      edificio       68775\n",
       "81444  santiago  2010                3          4      edificio        1213"
      ]
     },
     "execution_count": 27,
     "metadata": {},
     "output_type": "execute_result"
    }
   ],
   "source": [
    "df.head(5)"
   ]
  },
  {
   "cell_type": "code",
   "execution_count": 28,
   "metadata": {},
   "outputs": [
    {
     "data": {
      "text/plain": [
       "casa        20242\n",
       "edificio     1739\n",
       "Name: glosa_destino, dtype: int64"
      ]
     },
     "execution_count": 28,
     "metadata": {},
     "output_type": "execute_result"
    }
   ],
   "source": [
    "df.glosa_destino.value_counts()"
   ]
  },
  {
   "cell_type": "code",
   "execution_count": 29,
   "metadata": {},
   "outputs": [
    {
     "data": {
      "text/html": [
       "<div>\n",
       "<style scoped>\n",
       "    .dataframe tbody tr th:only-of-type {\n",
       "        vertical-align: middle;\n",
       "    }\n",
       "\n",
       "    .dataframe tbody tr th {\n",
       "        vertical-align: top;\n",
       "    }\n",
       "\n",
       "    .dataframe thead th {\n",
       "        text-align: right;\n",
       "    }\n",
       "</style>\n",
       "<table border=\"1\" class=\"dataframe\">\n",
       "  <thead>\n",
       "    <tr style=\"text-align: right;\">\n",
       "      <th></th>\n",
       "      <th>Comuna</th>\n",
       "      <th>Año</th>\n",
       "      <th>cantidad_unidad</th>\n",
       "      <th>num_pisos</th>\n",
       "      <th>glosa_destino</th>\n",
       "      <th>superficie</th>\n",
       "    </tr>\n",
       "  </thead>\n",
       "  <tbody>\n",
       "    <tr>\n",
       "      <th>81426</th>\n",
       "      <td>santiago</td>\n",
       "      <td>2010</td>\n",
       "      <td>2</td>\n",
       "      <td>2</td>\n",
       "      <td>casa</td>\n",
       "      <td>213</td>\n",
       "    </tr>\n",
       "    <tr>\n",
       "      <th>81431</th>\n",
       "      <td>santiago</td>\n",
       "      <td>2010</td>\n",
       "      <td>113</td>\n",
       "      <td>7</td>\n",
       "      <td>edificio</td>\n",
       "      <td>5568</td>\n",
       "    </tr>\n",
       "    <tr>\n",
       "      <th>81432</th>\n",
       "      <td>santiago</td>\n",
       "      <td>2010</td>\n",
       "      <td>1</td>\n",
       "      <td>1</td>\n",
       "      <td>casa</td>\n",
       "      <td>46</td>\n",
       "    </tr>\n",
       "    <tr>\n",
       "      <th>81443</th>\n",
       "      <td>santiago</td>\n",
       "      <td>2010</td>\n",
       "      <td>1198</td>\n",
       "      <td>32</td>\n",
       "      <td>edificio</td>\n",
       "      <td>68775</td>\n",
       "    </tr>\n",
       "    <tr>\n",
       "      <th>81444</th>\n",
       "      <td>santiago</td>\n",
       "      <td>2010</td>\n",
       "      <td>3</td>\n",
       "      <td>4</td>\n",
       "      <td>edificio</td>\n",
       "      <td>1213</td>\n",
       "    </tr>\n",
       "    <tr>\n",
       "      <th>81450</th>\n",
       "      <td>santiago</td>\n",
       "      <td>2010</td>\n",
       "      <td>3</td>\n",
       "      <td>3</td>\n",
       "      <td>casa</td>\n",
       "      <td>261</td>\n",
       "    </tr>\n",
       "    <tr>\n",
       "      <th>81455</th>\n",
       "      <td>santiago</td>\n",
       "      <td>2010</td>\n",
       "      <td>3</td>\n",
       "      <td>2</td>\n",
       "      <td>casa</td>\n",
       "      <td>198</td>\n",
       "    </tr>\n",
       "    <tr>\n",
       "      <th>81458</th>\n",
       "      <td>santiago</td>\n",
       "      <td>2010</td>\n",
       "      <td>2</td>\n",
       "      <td>2</td>\n",
       "      <td>casa</td>\n",
       "      <td>524</td>\n",
       "    </tr>\n",
       "    <tr>\n",
       "      <th>81469</th>\n",
       "      <td>santiago</td>\n",
       "      <td>2010</td>\n",
       "      <td>1</td>\n",
       "      <td>2</td>\n",
       "      <td>casa</td>\n",
       "      <td>52</td>\n",
       "    </tr>\n",
       "    <tr>\n",
       "      <th>81474</th>\n",
       "      <td>santiago</td>\n",
       "      <td>2010</td>\n",
       "      <td>4</td>\n",
       "      <td>1</td>\n",
       "      <td>casa</td>\n",
       "      <td>359</td>\n",
       "    </tr>\n",
       "  </tbody>\n",
       "</table>\n",
       "</div>"
      ],
      "text/plain": [
       "         Comuna   Año  cantidad_unidad  num_pisos glosa_destino  superficie\n",
       "81426  santiago  2010                2          2          casa         213\n",
       "81431  santiago  2010              113          7      edificio        5568\n",
       "81432  santiago  2010                1          1          casa          46\n",
       "81443  santiago  2010             1198         32      edificio       68775\n",
       "81444  santiago  2010                3          4      edificio        1213\n",
       "81450  santiago  2010                3          3          casa         261\n",
       "81455  santiago  2010                3          2          casa         198\n",
       "81458  santiago  2010                2          2          casa         524\n",
       "81469  santiago  2010                1          2          casa          52\n",
       "81474  santiago  2010                4          1          casa         359"
      ]
     },
     "execution_count": 29,
     "metadata": {},
     "output_type": "execute_result"
    }
   ],
   "source": [
    "df.head(10)"
   ]
  },
  {
   "cell_type": "markdown",
   "metadata": {},
   "source": [
    "## 3. Analizar data\n",
    "Este analisis se porpone para extraer informacion de los datos con la finalidad de considerar las variables de los atributos que mas nos convengan para la union de este data set con respecto al de los extranjeron. \n",
    "\n",
    "Es por ello que se propone realizar una visualizacion para evlaluar tendencias dentro de los datos.\n",
    "Es de suponerse que la mayoria de los recintos donde se alojan los inmigrantes es edificios por lo que se propondra que el analisis este basado solo en edificios, en conjuntos de edificios, entre otros. "
   ]
  },
  {
   "cell_type": "markdown",
   "metadata": {},
   "source": [
    "Uno de los factores principales para el analisis en el desarrollo habitacional de la gran santiago es la llegada de nuevos inmigrantes y el desarrollo economico impulsado por la llegada de olas de inmigraciones. Es por ello que relacionando el año de mayor desarrollo y permisologia sera el primer analisis. "
   ]
  },
  {
   "cell_type": "code",
   "execution_count": 30,
   "metadata": {},
   "outputs": [
    {
     "name": "stdout",
     "output_type": "stream",
     "text": [
      "<class 'pandas.core.frame.DataFrame'>\n",
      "Int64Index: 21981 entries, 81426 to 110754\n",
      "Data columns (total 6 columns):\n",
      "Comuna             21981 non-null object\n",
      "Año                21981 non-null int64\n",
      "cantidad_unidad    21981 non-null int64\n",
      "num_pisos          21981 non-null int64\n",
      "glosa_destino      21981 non-null object\n",
      "superficie         21981 non-null int64\n",
      "dtypes: int64(4), object(2)\n",
      "memory usage: 1.2+ MB\n"
     ]
    }
   ],
   "source": [
    "df.info()"
   ]
  },
  {
   "cell_type": "code",
   "execution_count": 31,
   "metadata": {},
   "outputs": [
    {
     "data": {
      "image/png": "[encoded data removed]",
      "text/plain": [
       "<matplotlib.figure.Figure at 0x1a15843278>"
      ]
     },
     "metadata": {
      "needs_background": "light"
     },
     "output_type": "display_data"
    }
   ],
   "source": [
    "sns.countplot(y=df['Año'])\n",
    "sns.despine()"
   ]
  },
  {
   "cell_type": "markdown",
   "metadata": {},
   "source": [
    "Discretizamos para casas y edificios para evaluar los desarrollos y el factor tiempo. "
   ]
  },
  {
   "cell_type": "code",
   "execution_count": 32,
   "metadata": {},
   "outputs": [],
   "source": [
    "casas = df[df.glosa_destino == 'casa']"
   ]
  },
  {
   "cell_type": "markdown",
   "metadata": {},
   "source": [
    "Visualizamos las casas y los años. "
   ]
  },
  {
   "cell_type": "code",
   "execution_count": 33,
   "metadata": {},
   "outputs": [
    {
     "data": {
      "image/png": "[encoded data removed]",
      "text/plain": [
       "<matplotlib.figure.Figure at 0x1a15698208>"
      ]
     },
     "metadata": {
      "needs_background": "light"
     },
     "output_type": "display_data"
    }
   ],
   "source": [
    "sns.countplot(y=casas['Año'])\n",
    "sns.despine()"
   ]
  },
  {
   "cell_type": "markdown",
   "metadata": {},
   "source": [
    "Ahora realizamos el analisis solo para edificaciones."
   ]
  },
  {
   "cell_type": "code",
   "execution_count": 34,
   "metadata": {},
   "outputs": [],
   "source": [
    "edificios = df[df.glosa_destino == 'edificio']"
   ]
  },
  {
   "cell_type": "code",
   "execution_count": 35,
   "metadata": {},
   "outputs": [
    {
     "data": {
      "image/png": "[encoded data removed]",
      "text/plain": [
       "<matplotlib.figure.Figure at 0x1a157f2400>"
      ]
     },
     "metadata": {
      "needs_background": "light"
     },
     "output_type": "display_data"
    }
   ],
   "source": [
    "sns.countplot(y=edificios['Año'])\n",
    "sns.despine()"
   ]
  },
  {
   "cell_type": "markdown",
   "metadata": {},
   "source": [
    "Esto evidencia visualmente lo que propuso que a medida que ha venido pasando el tiempo existe un desarrollo habitacional de edificios para años pasado del 2010 mucho mas marcado. Esto se concatenara con la llegada de inmigrantes y las comunas. "
   ]
  },
  {
   "cell_type": "markdown",
   "metadata": {},
   "source": [
    "Realizamos un conteo de las casas en las principales comunas de la region metroplitana."
   ]
  },
  {
   "cell_type": "code",
   "execution_count": 36,
   "metadata": {
    "scrolled": true
   },
   "outputs": [
    {
     "data": {
      "text/plain": [
       "colina                 2833\n",
       "melipilla              1452\n",
       "cerro navia             846\n",
       "penaflor                787\n",
       "talagante               748\n",
       "paine                   716\n",
       "lampa                   692\n",
       "el bosque               631\n",
       "renca                   627\n",
       "pirque                  618\n",
       "lo barnechea            615\n",
       "san bernardo            590\n",
       "la florida              577\n",
       "estacion central        533\n",
       "penalolen               529\n",
       "san ramon               488\n",
       "puente alto             468\n",
       "buin                    417\n",
       "conchali                415\n",
       "pedro aguirre cerda     412\n",
       "maipu                   409\n",
       "pudahuel                408\n",
       "la cisterna             361\n",
       "padre hurtado           347\n",
       "las condes              329\n",
       "la reina                320\n",
       "recoleta                312\n",
       "cerrillos               273\n",
       "huechuraba              242\n",
       "la pintana              238\n",
       "la granja               215\n",
       "santiago                209\n",
       "lo prado                209\n",
       "san jose de maipo       185\n",
       "vitacura                181\n",
       "macul                   158\n",
       "quilicura               154\n",
       "quinta normal           146\n",
       "independencia           131\n",
       "lo espejo               121\n",
       "nunoa                    96\n",
       "san miguel               96\n",
       "san joaquin              77\n",
       "providencia              31\n",
       "Name: Comuna, dtype: int64"
      ]
     },
     "execution_count": 36,
     "metadata": {},
     "output_type": "execute_result"
    }
   ],
   "source": [
    "casas.Comuna.value_counts()"
   ]
  },
  {
   "cell_type": "markdown",
   "metadata": {},
   "source": [
    "Escogemos un top ten de las comunas con mas construcciones"
   ]
  },
  {
   "cell_type": "code",
   "execution_count": 37,
   "metadata": {},
   "outputs": [
    {
     "data": {
      "text/plain": [
       "colina         2833\n",
       "melipilla      1452\n",
       "cerro navia     846\n",
       "penaflor        787\n",
       "talagante       748\n",
       "paine           716\n",
       "lampa           692\n",
       "el bosque       631\n",
       "renca           627\n",
       "pirque          618\n",
       "Name: Comuna, dtype: int64"
      ]
     },
     "execution_count": 37,
     "metadata": {},
     "output_type": "execute_result"
    }
   ],
   "source": [
    "top_comunas_casas = casas.Comuna.value_counts()\n",
    "top_comunas_casas[0:10]"
   ]
  },
  {
   "cell_type": "markdown",
   "metadata": {},
   "source": [
    "Como vemos la mayoria de comunas de la gran santiago con respecto a las construcciones de casas estan a las afueras. En este sentido es de logica santiaguina que para estas comunas que en su mayoria no existe movilidad facil para un extranjero recien llegado, es por eso que se plantea que los edificios sean los mas idoneas para plantear el analisis de donde llegaria un extranjero.  Como factor determinante es la movilidad "
   ]
  },
  {
   "cell_type": "code",
   "execution_count": 38,
   "metadata": {},
   "outputs": [
    {
     "data": {
      "image/png": "[encoded data removed]",
      "text/plain": [
       "<matplotlib.figure.Figure at 0x1a15854a90>"
      ]
     },
     "metadata": {
      "needs_background": "light"
     },
     "output_type": "display_data"
    }
   ],
   "source": [
    "sns.countplot(y=casas.num_pisos)\n",
    "sns.despine()"
   ]
  },
  {
   "cell_type": "code",
   "execution_count": 39,
   "metadata": {
    "scrolled": true
   },
   "outputs": [
    {
     "data": {
      "text/html": [
       "<div>\n",
       "<style scoped>\n",
       "    .dataframe tbody tr th:only-of-type {\n",
       "        vertical-align: middle;\n",
       "    }\n",
       "\n",
       "    .dataframe tbody tr th {\n",
       "        vertical-align: top;\n",
       "    }\n",
       "\n",
       "    .dataframe thead th {\n",
       "        text-align: right;\n",
       "    }\n",
       "</style>\n",
       "<table border=\"1\" class=\"dataframe\">\n",
       "  <thead>\n",
       "    <tr style=\"text-align: right;\">\n",
       "      <th></th>\n",
       "      <th>Año</th>\n",
       "      <th>cantidad_unidad</th>\n",
       "      <th>num_pisos</th>\n",
       "      <th>superficie</th>\n",
       "    </tr>\n",
       "  </thead>\n",
       "  <tbody>\n",
       "    <tr>\n",
       "      <th>count</th>\n",
       "      <td>20242.000000</td>\n",
       "      <td>20242.000000</td>\n",
       "      <td>20242.000000</td>\n",
       "      <td>20242.000000</td>\n",
       "    </tr>\n",
       "    <tr>\n",
       "      <th>mean</th>\n",
       "      <td>2013.486019</td>\n",
       "      <td>5.462108</td>\n",
       "      <td>1.403221</td>\n",
       "      <td>525.118565</td>\n",
       "    </tr>\n",
       "    <tr>\n",
       "      <th>std</th>\n",
       "      <td>2.381779</td>\n",
       "      <td>31.051937</td>\n",
       "      <td>0.516078</td>\n",
       "      <td>2317.142198</td>\n",
       "    </tr>\n",
       "    <tr>\n",
       "      <th>min</th>\n",
       "      <td>2010.000000</td>\n",
       "      <td>1.000000</td>\n",
       "      <td>1.000000</td>\n",
       "      <td>8.000000</td>\n",
       "    </tr>\n",
       "    <tr>\n",
       "      <th>25%</th>\n",
       "      <td>2011.000000</td>\n",
       "      <td>1.000000</td>\n",
       "      <td>1.000000</td>\n",
       "      <td>58.000000</td>\n",
       "    </tr>\n",
       "    <tr>\n",
       "      <th>50%</th>\n",
       "      <td>2014.000000</td>\n",
       "      <td>1.000000</td>\n",
       "      <td>1.000000</td>\n",
       "      <td>119.000000</td>\n",
       "    </tr>\n",
       "    <tr>\n",
       "      <th>75%</th>\n",
       "      <td>2016.000000</td>\n",
       "      <td>1.000000</td>\n",
       "      <td>2.000000</td>\n",
       "      <td>244.000000</td>\n",
       "    </tr>\n",
       "    <tr>\n",
       "      <th>max</th>\n",
       "      <td>2017.000000</td>\n",
       "      <td>1278.000000</td>\n",
       "      <td>3.000000</td>\n",
       "      <td>83667.000000</td>\n",
       "    </tr>\n",
       "  </tbody>\n",
       "</table>\n",
       "</div>"
      ],
      "text/plain": [
       "                Año  cantidad_unidad     num_pisos    superficie\n",
       "count  20242.000000     20242.000000  20242.000000  20242.000000\n",
       "mean    2013.486019         5.462108      1.403221    525.118565\n",
       "std        2.381779        31.051937      0.516078   2317.142198\n",
       "min     2010.000000         1.000000      1.000000      8.000000\n",
       "25%     2011.000000         1.000000      1.000000     58.000000\n",
       "50%     2014.000000         1.000000      1.000000    119.000000\n",
       "75%     2016.000000         1.000000      2.000000    244.000000\n",
       "max     2017.000000      1278.000000      3.000000  83667.000000"
      ]
     },
     "execution_count": 39,
     "metadata": {},
     "output_type": "execute_result"
    }
   ],
   "source": [
    "casas.describe()"
   ]
  },
  {
   "cell_type": "markdown",
   "metadata": {},
   "source": [
    "Las casas són de 1 a 3 pisos (OK), construidas en su gran mayoria en Colinas y Milipilla, con una superficie de 8m2 a 84mil m2, lo que nos parece raro. hay que mirar lso altliers o reclasificar. Este es otro motivo por el cual es importante solo enfocarnos en los edificios para la mayor concentracion de personas. "
   ]
  },
  {
   "cell_type": "markdown",
   "metadata": {},
   "source": [
    "Realizando el mismo analisis del top ten para los edificios, se podra observar un comportamiento mas "
   ]
  },
  {
   "cell_type": "code",
   "execution_count": 40,
   "metadata": {
    "scrolled": true
   },
   "outputs": [
    {
     "data": {
      "text/plain": [
       "nunoa                  231\n",
       "las condes             190\n",
       "santiago               182\n",
       "providencia            164\n",
       "san miguel             137\n",
       "lo barnechea           113\n",
       "estacion central       101\n",
       "vitacura                91\n",
       "la florida              78\n",
       "quinta normal           49\n",
       "independencia           48\n",
       "macul                   35\n",
       "la cisterna             34\n",
       "quilicura               32\n",
       "penalolen               25\n",
       "la reina                24\n",
       "renca                   23\n",
       "pudahuel                22\n",
       "huechuraba              18\n",
       "maipu                   17\n",
       "san joaquin             16\n",
       "san bernardo            15\n",
       "el bosque               13\n",
       "recoleta                13\n",
       "la granja                8\n",
       "puente alto              8\n",
       "cerrillos                7\n",
       "melipilla                6\n",
       "conchali                 6\n",
       "colina                   5\n",
       "lampa                    4\n",
       "la pintana               4\n",
       "talagante                4\n",
       "cerro navia              4\n",
       "padre hurtado            4\n",
       "buin                     3\n",
       "lo prado                 3\n",
       "pedro aguirre cerda      1\n",
       "lo espejo                1\n",
       "Name: Comuna, dtype: int64"
      ]
     },
     "execution_count": 40,
     "metadata": {},
     "output_type": "execute_result"
    }
   ],
   "source": [
    "edificios.Comuna.value_counts()"
   ]
  },
  {
   "cell_type": "markdown",
   "metadata": {},
   "source": [
    "Este resultado nos muestra otra concentracion y es lo esperado ya que si bien se percibe uan mayor concentracion de construcciones edificios en estas comunas. Estos resultados se concatenaran con el conteo de concentracion de inmigrantes "
   ]
  },
  {
   "cell_type": "code",
   "execution_count": 41,
   "metadata": {},
   "outputs": [
    {
     "data": {
      "text/plain": [
       "nunoa               231\n",
       "las condes          190\n",
       "santiago            182\n",
       "providencia         164\n",
       "san miguel          137\n",
       "lo barnechea        113\n",
       "estacion central    101\n",
       "vitacura             91\n",
       "la florida           78\n",
       "quinta normal        49\n",
       "Name: Comuna, dtype: int64"
      ]
     },
     "execution_count": 41,
     "metadata": {},
     "output_type": "execute_result"
    }
   ],
   "source": [
    "top_comunas_edif = edificios.Comuna.value_counts()[0:10]\n",
    "top_comunas_edif"
   ]
  },
  {
   "cell_type": "code",
   "execution_count": 42,
   "metadata": {},
   "outputs": [
    {
     "data": {
      "image/png": "[encoded data removed]",
      "text/plain": [
       "<matplotlib.figure.Figure at 0x1a158e72b0>"
      ]
     },
     "metadata": {
      "needs_background": "light"
     },
     "output_type": "display_data"
    }
   ],
   "source": [
    "sns.countplot(y=edificios.num_pisos)\n",
    "sns.despine()"
   ]
  },
  {
   "cell_type": "code",
   "execution_count": 43,
   "metadata": {},
   "outputs": [
    {
     "data": {
      "text/html": [
       "<div>\n",
       "<style scoped>\n",
       "    .dataframe tbody tr th:only-of-type {\n",
       "        vertical-align: middle;\n",
       "    }\n",
       "\n",
       "    .dataframe tbody tr th {\n",
       "        vertical-align: top;\n",
       "    }\n",
       "\n",
       "    .dataframe thead th {\n",
       "        text-align: right;\n",
       "    }\n",
       "</style>\n",
       "<table border=\"1\" class=\"dataframe\">\n",
       "  <thead>\n",
       "    <tr style=\"text-align: right;\">\n",
       "      <th></th>\n",
       "      <th>Año</th>\n",
       "      <th>cantidad_unidad</th>\n",
       "      <th>num_pisos</th>\n",
       "      <th>superficie</th>\n",
       "    </tr>\n",
       "  </thead>\n",
       "  <tbody>\n",
       "    <tr>\n",
       "      <th>count</th>\n",
       "      <td>1739.000000</td>\n",
       "      <td>1739.000000</td>\n",
       "      <td>1739.000000</td>\n",
       "      <td>1739.000000</td>\n",
       "    </tr>\n",
       "    <tr>\n",
       "      <th>mean</th>\n",
       "      <td>2014.115009</td>\n",
       "      <td>161.678551</td>\n",
       "      <td>11.121909</td>\n",
       "      <td>14299.311098</td>\n",
       "    </tr>\n",
       "    <tr>\n",
       "      <th>std</th>\n",
       "      <td>2.098413</td>\n",
       "      <td>181.115765</td>\n",
       "      <td>7.231586</td>\n",
       "      <td>15480.339470</td>\n",
       "    </tr>\n",
       "    <tr>\n",
       "      <th>min</th>\n",
       "      <td>2010.000000</td>\n",
       "      <td>3.000000</td>\n",
       "      <td>2.000000</td>\n",
       "      <td>415.000000</td>\n",
       "    </tr>\n",
       "    <tr>\n",
       "      <th>25%</th>\n",
       "      <td>2012.000000</td>\n",
       "      <td>45.000000</td>\n",
       "      <td>5.000000</td>\n",
       "      <td>6333.000000</td>\n",
       "    </tr>\n",
       "    <tr>\n",
       "      <th>50%</th>\n",
       "      <td>2014.000000</td>\n",
       "      <td>105.000000</td>\n",
       "      <td>8.000000</td>\n",
       "      <td>10489.000000</td>\n",
       "    </tr>\n",
       "    <tr>\n",
       "      <th>75%</th>\n",
       "      <td>2016.000000</td>\n",
       "      <td>204.000000</td>\n",
       "      <td>16.000000</td>\n",
       "      <td>16989.500000</td>\n",
       "    </tr>\n",
       "    <tr>\n",
       "      <th>max</th>\n",
       "      <td>2017.000000</td>\n",
       "      <td>1401.000000</td>\n",
       "      <td>38.000000</td>\n",
       "      <td>218282.000000</td>\n",
       "    </tr>\n",
       "  </tbody>\n",
       "</table>\n",
       "</div>"
      ],
      "text/plain": [
       "               Año  cantidad_unidad    num_pisos     superficie\n",
       "count  1739.000000      1739.000000  1739.000000    1739.000000\n",
       "mean   2014.115009       161.678551    11.121909   14299.311098\n",
       "std       2.098413       181.115765     7.231586   15480.339470\n",
       "min    2010.000000         3.000000     2.000000     415.000000\n",
       "25%    2012.000000        45.000000     5.000000    6333.000000\n",
       "50%    2014.000000       105.000000     8.000000   10489.000000\n",
       "75%    2016.000000       204.000000    16.000000   16989.500000\n",
       "max    2017.000000      1401.000000    38.000000  218282.000000"
      ]
     },
     "execution_count": 43,
     "metadata": {},
     "output_type": "execute_result"
    }
   ],
   "source": [
    "edificios.describe()"
   ]
  },
  {
   "cell_type": "markdown",
   "metadata": {},
   "source": [
    "Los edificios són de 2 (verificar) a 38 pisos (OK), construidas en su gran mayoria en Nunoa y Las Condes, con una superficie de 415m2 a 218mil m2, lo que nos parece OK a una primera vista."
   ]
  },
  {
   "cell_type": "markdown",
   "metadata": {},
   "source": [
    "Con esto se puede finalizar con que el df_final que utilizara para nuestro analisis sea el de los edificios de mayor de 10 pisos que es promedio. "
   ]
  },
  {
   "cell_type": "code",
   "execution_count": 44,
   "metadata": {},
   "outputs": [],
   "source": [
    "df_final = edificios[edificios.num_pisos>10]"
   ]
  },
  {
   "cell_type": "code",
   "execution_count": 45,
   "metadata": {},
   "outputs": [
    {
     "data": {
      "text/html": [
       "<div>\n",
       "<style scoped>\n",
       "    .dataframe tbody tr th:only-of-type {\n",
       "        vertical-align: middle;\n",
       "    }\n",
       "\n",
       "    .dataframe tbody tr th {\n",
       "        vertical-align: top;\n",
       "    }\n",
       "\n",
       "    .dataframe thead th {\n",
       "        text-align: right;\n",
       "    }\n",
       "</style>\n",
       "<table border=\"1\" class=\"dataframe\">\n",
       "  <thead>\n",
       "    <tr style=\"text-align: right;\">\n",
       "      <th></th>\n",
       "      <th>Comuna</th>\n",
       "      <th>Año</th>\n",
       "      <th>cantidad_unidad</th>\n",
       "      <th>num_pisos</th>\n",
       "      <th>glosa_destino</th>\n",
       "      <th>superficie</th>\n",
       "    </tr>\n",
       "  </thead>\n",
       "  <tbody>\n",
       "    <tr>\n",
       "      <th>81443</th>\n",
       "      <td>santiago</td>\n",
       "      <td>2010</td>\n",
       "      <td>1198</td>\n",
       "      <td>32</td>\n",
       "      <td>edificio</td>\n",
       "      <td>68775</td>\n",
       "    </tr>\n",
       "    <tr>\n",
       "      <th>81485</th>\n",
       "      <td>santiago</td>\n",
       "      <td>2010</td>\n",
       "      <td>395</td>\n",
       "      <td>24</td>\n",
       "      <td>edificio</td>\n",
       "      <td>25171</td>\n",
       "    </tr>\n",
       "    <tr>\n",
       "      <th>81525</th>\n",
       "      <td>santiago</td>\n",
       "      <td>2010</td>\n",
       "      <td>248</td>\n",
       "      <td>18</td>\n",
       "      <td>edificio</td>\n",
       "      <td>17210</td>\n",
       "    </tr>\n",
       "    <tr>\n",
       "      <th>81539</th>\n",
       "      <td>santiago</td>\n",
       "      <td>2011</td>\n",
       "      <td>500</td>\n",
       "      <td>26</td>\n",
       "      <td>edificio</td>\n",
       "      <td>27919</td>\n",
       "    </tr>\n",
       "    <tr>\n",
       "      <th>81542</th>\n",
       "      <td>santiago</td>\n",
       "      <td>2011</td>\n",
       "      <td>399</td>\n",
       "      <td>21</td>\n",
       "      <td>edificio</td>\n",
       "      <td>25242</td>\n",
       "    </tr>\n",
       "  </tbody>\n",
       "</table>\n",
       "</div>"
      ],
      "text/plain": [
       "         Comuna   Año  cantidad_unidad  num_pisos glosa_destino  superficie\n",
       "81443  santiago  2010             1198         32      edificio       68775\n",
       "81485  santiago  2010              395         24      edificio       25171\n",
       "81525  santiago  2010              248         18      edificio       17210\n",
       "81539  santiago  2011              500         26      edificio       27919\n",
       "81542  santiago  2011              399         21      edificio       25242"
      ]
     },
     "execution_count": 45,
     "metadata": {},
     "output_type": "execute_result"
    }
   ],
   "source": [
    "df_final.head()"
   ]
  },
  {
   "cell_type": "code",
   "execution_count": 46,
   "metadata": {},
   "outputs": [
    {
     "data": {
      "text/plain": [
       "<matplotlib.axes._subplots.AxesSubplot at 0x1a19037278>"
      ]
     },
     "execution_count": 46,
     "metadata": {},
     "output_type": "execute_result"
    },
    {
     "data": {
      "image/png": "[encoded data removed]",
      "text/plain": [
       "<matplotlib.figure.Figure at 0x1a159f0978>"
      ]
     },
     "metadata": {
      "needs_background": "light"
     },
     "output_type": "display_data"
    }
   ],
   "source": [
    "sns.kdeplot(edificios.Año, shade=True)"
   ]
  },
  {
   "cell_type": "markdown",
   "metadata": {},
   "source": [
    "Se observa iun crecimiento progresivo para los años siguientes al 2010 de las edificaciones mucho mas marcado. Estos resultados se plantea concatenar con la llegada masiva de inmigrantes. Y poder extraer informacion relevante con respecto a donde viven los inmigrantes y de forma el crecimiento del aparato economico y desarrollo economico primordialmente evidenciado en la construccion, se vea impactado por los inmigrantes."
   ]
  }
 ],
 "metadata": {
  "colab": {
   "name": "Tutorial - EDA.ipynb",
   "provenance": [],
   "version": "0.3.2"
  },
  "kernelspec": {
   "display_name": "Python 3",
   "language": "python",
   "name": "python3"
  },
  "language_info": {
   "codemirror_mode": {
    "name": "ipython",
    "version": 3
   },
   "file_extension": ".py",
   "mimetype": "text/x-python",
   "name": "python",
   "nbconvert_exporter": "python",
   "pygments_lexer": "ipython3",
   "version": "3.6.4"
  }
 },
 "nbformat": 4,
 "nbformat_minor": 2
}
