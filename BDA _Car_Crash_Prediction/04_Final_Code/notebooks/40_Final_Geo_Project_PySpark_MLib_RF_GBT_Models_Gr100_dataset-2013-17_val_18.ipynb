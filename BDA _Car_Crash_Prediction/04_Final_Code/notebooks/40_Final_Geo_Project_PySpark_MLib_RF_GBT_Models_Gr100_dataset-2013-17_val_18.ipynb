{
 "cells": [
  {
   "cell_type": "markdown",
   "metadata": {},
   "source": [
    "# Modelo predictivo (Espacial) de siniestros en las calles de Santiago\n",
    "**Model will be split in train/test (80%/20%), using 2013-2017 Dataset and Validated with 2018 Dataset**\n",
    "- UDD - MDS18 - BDA\n",
    "- Final Delivery \n",
    "- 40_Final_Geo_Project_PySpark_MLib_RF_GBT_Models_Gr100_dataset-2013-17_val_18\n",
    "- 09 August 2019"
   ]
  },
  {
   "cell_type": "markdown",
   "metadata": {},
   "source": [
    "**Running dataset created from 2013 to 2017 as df**"
   ]
  },
  {
   "cell_type": "markdown",
   "metadata": {},
   "source": [
    "Developed based on:\n",
    "- Big Data Analytics, Oscar Peredo \n",
    "- [PySpark ML and XGBoost full integration tested on the Kaggle Titanic dataset](https://towardsdatascience.com/pyspark-and-xgboost-integration-tested-on-the-kaggle-titanic-dataset-4e75a568bdb)\n",
    "- [Machine Learning with PySpark and MLlib — Solving a Binary Classification Problem](https://towardsdatascience.com/machine-learning-with-pyspark-and-mllib-solving-a-binary-classification-problem-96396065d2aa)\n",
    "- [Build an end-to-end Machine Learning Model with MLlib in pySpark.](https://towardsdatascience.com/build-an-end-to-end-machine-learning-model-with-mllib-in-pyspark-4917bdf289c5)"
   ]
  },
  {
   "cell_type": "markdown",
   "metadata": {},
   "source": [
    "## Preliminar Installation"
   ]
  },
  {
   "cell_type": "markdown",
   "metadata": {},
   "source": [
    "- FindSpark: PySpark isn't on sys.path by default, but it can be used as a regular library. This can be addressed by either symlinking pyspark into your site-packages, or adding pyspark to sys.path at runtime, as done by findspark.<br>\n",
    "[findspark](https://github.com/minrk/findspark)<br><br>\n"
   ]
  },
  {
   "cell_type": "markdown",
   "metadata": {},
   "source": [
    "## General functions"
   ]
  },
  {
   "cell_type": "code",
   "execution_count": 117,
   "metadata": {
    "ExecuteTime": {
     "end_time": "2019-08-03T16:37:10.056790Z",
     "start_time": "2019-08-03T16:37:10.051813Z"
    }
   },
   "outputs": [],
   "source": [
    "def count_missings(spark_df):\n",
    "    null_counts = []        \n",
    "    for col in spark_df.dtypes:    \n",
    "        cname = col[0]     \n",
    "        ctype = col[1]      \n",
    "        nulls = spark_df.where( spark_df[cname].isNull()).count() #check count of null in column name\n",
    "        result = tuple([cname, nulls])  #new tuple, (column name, null count)\n",
    "        null_counts.append(result)      #put the new tuple in our result list\n",
    "    null_counts=[(x,y) for (x,y) in null_counts if y!=0]  #view just columns that have missing values\n",
    "    return null_counts"
   ]
  },
  {
   "cell_type": "code",
   "execution_count": 118,
   "metadata": {
    "ExecuteTime": {
     "end_time": "2019-08-03T16:37:11.227517Z",
     "start_time": "2019-08-03T16:37:11.222745Z"
    }
   },
   "outputs": [],
   "source": [
    "def find_num_cat_features(df):\n",
    "    cat_cols = [item[0] for item in df.dtypes if item[1].startswith('string')]\n",
    "    print(str(len(cat_cols)) + '  categorical features')\n",
    "\n",
    "    num_cols = [\n",
    "        item[0] for item in df.dtypes\n",
    "        if item[1].startswith('int') | item[1].startswith('double')\n",
    "    ][1:]\n",
    "    print(str(len(num_cols)) + '  numerical features')\n",
    "    return num_cols, cat_cols"
   ]
  },
  {
   "cell_type": "code",
   "execution_count": 119,
   "metadata": {
    "ExecuteTime": {
     "end_time": "2019-08-03T16:37:12.018339Z",
     "start_time": "2019-08-03T16:37:12.015221Z"
    }
   },
   "outputs": [],
   "source": [
    "def weight_balance(labels):\n",
    "    return when(labels == 1, ratio).otherwise(1*(1-ratio))"
   ]
  },
  {
   "cell_type": "markdown",
   "metadata": {},
   "source": [
    "## Libraries and pySpark initialization"
   ]
  },
  {
   "cell_type": "code",
   "execution_count": 120,
   "metadata": {
    "ExecuteTime": {
     "end_time": "2019-08-03T16:37:13.777461Z",
     "start_time": "2019-08-03T16:37:13.774797Z"
    }
   },
   "outputs": [],
   "source": [
    "import numpy as np\n",
    "import pandas as pd"
   ]
  },
  {
   "cell_type": "code",
   "execution_count": 121,
   "metadata": {
    "ExecuteTime": {
     "end_time": "2019-08-03T16:37:14.895010Z",
     "start_time": "2019-08-03T16:37:14.886332Z"
    }
   },
   "outputs": [],
   "source": [
    "import findspark\n",
    "findspark.init()"
   ]
  },
  {
   "cell_type": "code",
   "execution_count": 122,
   "metadata": {
    "ExecuteTime": {
     "end_time": "2019-08-03T16:37:15.700607Z",
     "start_time": "2019-08-03T16:37:15.695044Z"
    }
   },
   "outputs": [],
   "source": [
    "import pyspark\n",
    "from pyspark.sql.session import SparkSession\n",
    "from pyspark.sql.types import *\n",
    "from pyspark.ml.classification import RandomForestClassifier\n",
    "from pyspark.ml.classification import GBTClassifier\n",
    "from pyspark.ml.classification import GBTClassificationModel\n",
    "from pyspark.ml.feature import StringIndexer, VectorAssembler\n",
    "from pyspark.ml.feature import OneHotEncoderEstimator, StringIndexer\n",
    "from pyspark.ml.evaluation import BinaryClassificationEvaluator, MulticlassClassificationEvaluator\n",
    "from pyspark.ml.tuning import ParamGridBuilder, CrossValidator\n",
    "from pyspark.ml import Pipeline,PipelineModel\n",
    "from pyspark.sql.functions import rank, sum, col, mean, round, when"
   ]
  },
  {
   "cell_type": "code",
   "execution_count": 123,
   "metadata": {
    "ExecuteTime": {
     "end_time": "2019-08-03T16:37:16.723201Z",
     "start_time": "2019-08-03T16:37:16.616375Z"
    }
   },
   "outputs": [],
   "source": [
    "spark = SparkSession\\\n",
    "        .builder\\\n",
    "        .appName(\"PySpark GBT Grid 100m Data Siniestros 2013-2017\")\\\n",
    "        .getOrCreate()"
   ]
  },
  {
   "cell_type": "markdown",
   "metadata": {},
   "source": [
    "## Dataset - Generated from Notebook: \n",
    "- 30_Final_Geo_Project_Final Datasets_Creation"
   ]
  },
  {
   "cell_type": "code",
   "execution_count": 76,
   "metadata": {
    "ExecuteTime": {
     "end_time": "2019-08-03T16:14:06.137343Z",
     "start_time": "2019-08-03T16:14:05.903933Z"
    }
   },
   "outputs": [
    {
     "name": "stdout",
     "output_type": "stream",
     "text": [
      "\u001b[34mCONASET\u001b[m\u001b[m                              geo_stgo_100_crash_test_dataset.csv\r\n",
      "\u001b[34mOSM_Chile\u001b[m\u001b[m                            geo_stgo_100_crash_train_dataset.csv\r\n",
      "final_test_dataset_grid_100.csv      geo_stgo_100_estatic_dataset.csv\r\n",
      "final_train_dataset_grid_100.csv\r\n"
     ]
    }
   ],
   "source": [
    "!ls ../data/"
   ]
  },
  {
   "cell_type": "code",
   "execution_count": 77,
   "metadata": {
    "ExecuteTime": {
     "end_time": "2019-08-03T16:14:07.132737Z",
     "start_time": "2019-08-03T16:14:06.792198Z"
    }
   },
   "outputs": [
    {
     "name": "stdout",
     "output_type": "stream",
     "text": [
      "root\n",
      " |-- _c0: integer (nullable = true)\n",
      " |-- id: integer (nullable = true)\n",
      " |-- X: double (nullable = true)\n",
      " |-- Y: double (nullable = true)\n",
      " |-- bank: integer (nullable = true)\n",
      " |-- bench: integer (nullable = true)\n",
      " |-- beverages: integer (nullable = true)\n",
      " |-- bus_stop: integer (nullable = true)\n",
      " |-- bus_stop_100: integer (nullable = true)\n",
      " |-- cafe: integer (nullable = true)\n",
      " |-- convenience: integer (nullable = true)\n",
      " |-- convenience_100: integer (nullable = true)\n",
      " |-- convenience_200: integer (nullable = true)\n",
      " |-- crossing: integer (nullable = true)\n",
      " |-- crossing_100: integer (nullable = true)\n",
      " |-- fast_food: integer (nullable = true)\n",
      " |-- fast_food_100: integer (nullable = true)\n",
      " |-- fast_food_200: integer (nullable = true)\n",
      " |-- fuel: integer (nullable = true)\n",
      " |-- intercect: integer (nullable = true)\n",
      " |-- kindergarten: integer (nullable = true)\n",
      " |-- motorway_junction: integer (nullable = true)\n",
      " |-- parking: integer (nullable = true)\n",
      " |-- parking_bicycle: integer (nullable = true)\n",
      " |-- pharmacy: integer (nullable = true)\n",
      " |-- railway_station: integer (nullable = true)\n",
      " |-- railway_station_100: integer (nullable = true)\n",
      " |-- restaurant: integer (nullable = true)\n",
      " |-- restaurant_100: integer (nullable = true)\n",
      " |-- school: integer (nullable = true)\n",
      " |-- school_100: integer (nullable = true)\n",
      " |-- school_200: integer (nullable = true)\n",
      " |-- stop: integer (nullable = true)\n",
      " |-- stop_100: integer (nullable = true)\n",
      " |-- taxi: integer (nullable = true)\n",
      " |-- traffic_signals: integer (nullable = true)\n",
      " |-- traffic_signals_100: integer (nullable = true)\n",
      " |-- turning_circle: integer (nullable = true)\n",
      " |-- ATROPELLO_100: integer (nullable = true)\n",
      " |-- ATROPELLO_200: integer (nullable = true)\n",
      " |-- CAIDA_100: integer (nullable = true)\n",
      " |-- CAIDA_200: integer (nullable = true)\n",
      " |-- CHOQUE_100: integer (nullable = true)\n",
      " |-- CHOQUE_200: integer (nullable = true)\n",
      " |-- COLISION_100: integer (nullable = true)\n",
      " |-- COLISION_200: integer (nullable = true)\n",
      " |-- INCENDIO_100: integer (nullable = true)\n",
      " |-- INCENDIO_200: integer (nullable = true)\n",
      " |-- OTRO TIPO_100: integer (nullable = true)\n",
      " |-- OTRO TIPO_200: integer (nullable = true)\n",
      " |-- SEV_Index_100: double (nullable = true)\n",
      " |-- SEV_Index_200: double (nullable = true)\n",
      " |-- VOLCADURA_100: integer (nullable = true)\n",
      " |-- VOLCADURA_200: integer (nullable = true)\n",
      " |-- SINIESTRO: integer (nullable = true)\n",
      "\n"
     ]
    }
   ],
   "source": [
    "df = spark.read.csv('../data/final_train_dataset_grid_100.csv',\n",
    "                    header=True,\n",
    "                    inferSchema=True)\n",
    "df.printSchema()"
   ]
  },
  {
   "cell_type": "markdown",
   "metadata": {},
   "source": [
    "## Verifying dataset balance"
   ]
  },
  {
   "cell_type": "code",
   "execution_count": 78,
   "metadata": {
    "ExecuteTime": {
     "end_time": "2019-08-03T16:14:08.680646Z",
     "start_time": "2019-08-03T16:14:08.673745Z"
    },
    "code_folding": []
   },
   "outputs": [
    {
     "name": "stdout",
     "output_type": "stream",
     "text": [
      "0  categorical features\n",
      "54  numerical features\n"
     ]
    }
   ],
   "source": [
    "num_cols, cat_cols = find_num_cat_features(df)"
   ]
  },
  {
   "cell_type": "code",
   "execution_count": 79,
   "metadata": {
    "ExecuteTime": {
     "end_time": "2019-08-03T16:14:09.796055Z",
     "start_time": "2019-08-03T16:14:09.493353Z"
    }
   },
   "outputs": [
    {
     "data": {
      "text/html": [
       "<div>\n",
       "<style scoped>\n",
       "    .dataframe tbody tr th:only-of-type {\n",
       "        vertical-align: middle;\n",
       "    }\n",
       "\n",
       "    .dataframe tbody tr th {\n",
       "        vertical-align: top;\n",
       "    }\n",
       "\n",
       "    .dataframe thead th {\n",
       "        text-align: right;\n",
       "    }\n",
       "</style>\n",
       "<table border=\"1\" class=\"dataframe\">\n",
       "  <thead>\n",
       "    <tr style=\"text-align: right;\">\n",
       "      <th></th>\n",
       "      <th>SINIESTRO</th>\n",
       "      <th>count</th>\n",
       "    </tr>\n",
       "  </thead>\n",
       "  <tbody>\n",
       "    <tr>\n",
       "      <th>0</th>\n",
       "      <td>1</td>\n",
       "      <td>17579</td>\n",
       "    </tr>\n",
       "    <tr>\n",
       "      <th>1</th>\n",
       "      <td>0</td>\n",
       "      <td>45450</td>\n",
       "    </tr>\n",
       "  </tbody>\n",
       "</table>\n",
       "</div>"
      ],
      "text/plain": [
       "   SINIESTRO  count\n",
       "0          1  17579\n",
       "1          0  45450"
      ]
     },
     "execution_count": 79,
     "metadata": {},
     "output_type": "execute_result"
    }
   ],
   "source": [
    "df.groupby('SINIESTRO').count().toPandas()"
   ]
  },
  {
   "cell_type": "markdown",
   "metadata": {},
   "source": [
    "`There is an imbalanced ratio of (0.72 and 0.28). Maybe some ideas must be tried to compensate it. A weight column does not result feasible.`"
   ]
  },
  {
   "cell_type": "markdown",
   "metadata": {},
   "source": [
    "**This code is to be used If we want to add a new column weights with ratios**"
   ]
  },
  {
   "cell_type": "raw",
   "metadata": {
    "ExecuteTime": {
     "end_time": "2019-08-02T21:10:02.766348Z",
     "start_time": "2019-08-02T21:10:02.693430Z"
    }
   },
   "source": [
    "ratio = 0.72\n",
    "df = df.withColumn('weights', weight_balance(col('SINIESTRO')))\n",
    "num_cols, cat_cols = find_num_cat_features(df)"
   ]
  },
  {
   "cell_type": "markdown",
   "metadata": {},
   "source": [
    "## Preparing Data for Machine Learning"
   ]
  },
  {
   "cell_type": "markdown",
   "metadata": {},
   "source": [
    " Verify numerical features:"
   ]
  },
  {
   "cell_type": "code",
   "execution_count": 80,
   "metadata": {
    "ExecuteTime": {
     "end_time": "2019-08-03T16:14:19.802608Z",
     "start_time": "2019-08-03T16:14:19.797493Z"
    }
   },
   "outputs": [
    {
     "data": {
      "text/plain": [
       "['X',\n",
       " 'Y',\n",
       " 'bank',\n",
       " 'bench',\n",
       " 'beverages',\n",
       " 'bus_stop',\n",
       " 'bus_stop_100',\n",
       " 'cafe',\n",
       " 'convenience',\n",
       " 'convenience_100',\n",
       " 'convenience_200',\n",
       " 'crossing',\n",
       " 'crossing_100',\n",
       " 'fast_food',\n",
       " 'fast_food_100',\n",
       " 'fast_food_200',\n",
       " 'fuel',\n",
       " 'intercect',\n",
       " 'kindergarten',\n",
       " 'motorway_junction',\n",
       " 'parking',\n",
       " 'parking_bicycle',\n",
       " 'pharmacy',\n",
       " 'railway_station',\n",
       " 'railway_station_100',\n",
       " 'restaurant',\n",
       " 'restaurant_100',\n",
       " 'school',\n",
       " 'school_100',\n",
       " 'school_200',\n",
       " 'stop',\n",
       " 'stop_100',\n",
       " 'taxi',\n",
       " 'traffic_signals',\n",
       " 'traffic_signals_100',\n",
       " 'turning_circle',\n",
       " 'ATROPELLO_100',\n",
       " 'ATROPELLO_200',\n",
       " 'CAIDA_100',\n",
       " 'CAIDA_200',\n",
       " 'CHOQUE_100',\n",
       " 'CHOQUE_200',\n",
       " 'COLISION_100',\n",
       " 'COLISION_200',\n",
       " 'INCENDIO_100',\n",
       " 'INCENDIO_200',\n",
       " 'OTRO TIPO_100',\n",
       " 'OTRO TIPO_200',\n",
       " 'SEV_Index_100',\n",
       " 'SEV_Index_200',\n",
       " 'VOLCADURA_100',\n",
       " 'VOLCADURA_200']"
      ]
     },
     "execution_count": 80,
     "metadata": {},
     "output_type": "execute_result"
    }
   ],
   "source": [
    "numericCols = num_cols[1:-1] # Taking out id and Target variable\n",
    "numericCols"
   ]
  },
  {
   "cell_type": "markdown",
   "metadata": {},
   "source": [
    "Category Indexing, One-Hot Encoding and VectorAssembler - a feature transformer that merges multiple columns into a vector column."
   ]
  },
  {
   "cell_type": "code",
   "execution_count": 81,
   "metadata": {
    "ExecuteTime": {
     "end_time": "2019-08-03T16:14:21.296824Z",
     "start_time": "2019-08-03T16:14:21.283424Z"
    }
   },
   "outputs": [],
   "source": [
    "categoricalColumns = cat_cols\n",
    "cols = df.columns\n",
    "stages = []\n",
    "\n",
    "for categoricalCol in categoricalColumns:\n",
    "    stringIndexer = StringIndexer(inputCol=categoricalCol,\n",
    "                                  outputCol=categoricalCol + 'Index')\n",
    "    encoder = OneHotEncoderEstimator(inputCols=[stringIndexer.getOutputCol()],\n",
    "                                     outputCols=[categoricalCol + \"classVec\"])\n",
    "    stages += [stringIndexer, encoder]\n",
    "    \n",
    "label_stringIdx = StringIndexer(inputCol='SINIESTRO', outputCol='label')\n",
    "stages += [label_stringIdx]\n",
    "\n",
    "# Assemble the columns into a feature vector\n",
    "assemblerInputs = [c + \"classVec\" for c in categoricalColumns] + numericCols\n",
    "assembler = VectorAssembler(inputCols=assemblerInputs, outputCol=\"features\")\n",
    "stages += [assembler]"
   ]
  },
  {
   "cell_type": "code",
   "execution_count": 82,
   "metadata": {
    "ExecuteTime": {
     "end_time": "2019-08-03T16:14:22.384372Z",
     "start_time": "2019-08-03T16:14:22.093553Z"
    }
   },
   "outputs": [
    {
     "name": "stdout",
     "output_type": "stream",
     "text": [
      "root\n",
      " |-- label: double (nullable = false)\n",
      " |-- features: vector (nullable = true)\n",
      " |-- _c0: integer (nullable = true)\n",
      " |-- id: integer (nullable = true)\n",
      " |-- X: double (nullable = true)\n",
      " |-- Y: double (nullable = true)\n",
      " |-- bank: integer (nullable = true)\n",
      " |-- bench: integer (nullable = true)\n",
      " |-- beverages: integer (nullable = true)\n",
      " |-- bus_stop: integer (nullable = true)\n",
      " |-- bus_stop_100: integer (nullable = true)\n",
      " |-- cafe: integer (nullable = true)\n",
      " |-- convenience: integer (nullable = true)\n",
      " |-- convenience_100: integer (nullable = true)\n",
      " |-- convenience_200: integer (nullable = true)\n",
      " |-- crossing: integer (nullable = true)\n",
      " |-- crossing_100: integer (nullable = true)\n",
      " |-- fast_food: integer (nullable = true)\n",
      " |-- fast_food_100: integer (nullable = true)\n",
      " |-- fast_food_200: integer (nullable = true)\n",
      " |-- fuel: integer (nullable = true)\n",
      " |-- intercect: integer (nullable = true)\n",
      " |-- kindergarten: integer (nullable = true)\n",
      " |-- motorway_junction: integer (nullable = true)\n",
      " |-- parking: integer (nullable = true)\n",
      " |-- parking_bicycle: integer (nullable = true)\n",
      " |-- pharmacy: integer (nullable = true)\n",
      " |-- railway_station: integer (nullable = true)\n",
      " |-- railway_station_100: integer (nullable = true)\n",
      " |-- restaurant: integer (nullable = true)\n",
      " |-- restaurant_100: integer (nullable = true)\n",
      " |-- school: integer (nullable = true)\n",
      " |-- school_100: integer (nullable = true)\n",
      " |-- school_200: integer (nullable = true)\n",
      " |-- stop: integer (nullable = true)\n",
      " |-- stop_100: integer (nullable = true)\n",
      " |-- taxi: integer (nullable = true)\n",
      " |-- traffic_signals: integer (nullable = true)\n",
      " |-- traffic_signals_100: integer (nullable = true)\n",
      " |-- turning_circle: integer (nullable = true)\n",
      " |-- ATROPELLO_100: integer (nullable = true)\n",
      " |-- ATROPELLO_200: integer (nullable = true)\n",
      " |-- CAIDA_100: integer (nullable = true)\n",
      " |-- CAIDA_200: integer (nullable = true)\n",
      " |-- CHOQUE_100: integer (nullable = true)\n",
      " |-- CHOQUE_200: integer (nullable = true)\n",
      " |-- COLISION_100: integer (nullable = true)\n",
      " |-- COLISION_200: integer (nullable = true)\n",
      " |-- INCENDIO_100: integer (nullable = true)\n",
      " |-- INCENDIO_200: integer (nullable = true)\n",
      " |-- OTRO TIPO_100: integer (nullable = true)\n",
      " |-- OTRO TIPO_200: integer (nullable = true)\n",
      " |-- SEV_Index_100: double (nullable = true)\n",
      " |-- SEV_Index_200: double (nullable = true)\n",
      " |-- VOLCADURA_100: integer (nullable = true)\n",
      " |-- VOLCADURA_200: integer (nullable = true)\n",
      " |-- SINIESTRO: integer (nullable = true)\n",
      "\n"
     ]
    }
   ],
   "source": [
    "pipeline = Pipeline(stages = stages)\n",
    "pipelineModel = pipeline.fit(df)\n",
    "df = pipelineModel.transform(df)\n",
    "selectedCols = ['label', 'features'] + cols\n",
    "df = df.select(selectedCols)\n",
    "df.printSchema()"
   ]
  },
  {
   "cell_type": "code",
   "execution_count": 83,
   "metadata": {
    "ExecuteTime": {
     "end_time": "2019-08-03T16:14:23.206640Z",
     "start_time": "2019-08-03T16:14:23.194888Z"
    }
   },
   "outputs": [],
   "source": [
    "train, test = df.randomSplit([0.8, 0.2], seed=24)"
   ]
  },
  {
   "cell_type": "markdown",
   "metadata": {},
   "source": [
    "## RF Model"
   ]
  },
  {
   "cell_type": "code",
   "execution_count": 84,
   "metadata": {
    "ExecuteTime": {
     "end_time": "2019-08-03T16:14:27.410291Z",
     "start_time": "2019-08-03T16:14:24.710237Z"
    }
   },
   "outputs": [],
   "source": [
    "rf = RandomForestClassifier(featuresCol='features', labelCol='label')\n",
    "rfModel = rf.fit(train)\n",
    "predictions = rfModel.transform(test)"
   ]
  },
  {
   "cell_type": "code",
   "execution_count": 85,
   "metadata": {
    "ExecuteTime": {
     "end_time": "2019-08-03T16:14:30.050267Z",
     "start_time": "2019-08-03T16:14:29.573440Z"
    }
   },
   "outputs": [
    {
     "name": "stdout",
     "output_type": "stream",
     "text": [
      "+---+-----+--------------------+----------+--------------------+\n",
      "| id|label|       rawPrediction|prediction|         probability|\n",
      "+---+-----+--------------------+----------+--------------------+\n",
      "|  0|  0.0|[19.3985287329805...|       0.0|[0.96992643664902...|\n",
      "|  3|  0.0|[19.3985287329805...|       0.0|[0.96992643664902...|\n",
      "| 14|  0.0|[19.3985287329805...|       0.0|[0.96992643664902...|\n",
      "| 18|  0.0|[19.3985287329805...|       0.0|[0.96992643664902...|\n",
      "| 23|  0.0|[19.3985287329805...|       0.0|[0.96992643664902...|\n",
      "| 33|  0.0|[19.3985287329805...|       0.0|[0.96992643664902...|\n",
      "| 34|  0.0|[19.3985287329805...|       0.0|[0.96992643664902...|\n",
      "| 44|  0.0|[19.3985287329805...|       0.0|[0.96992643664902...|\n",
      "| 56|  0.0|[19.3985287329805...|       0.0|[0.96992643664902...|\n",
      "| 54|  0.0|[19.3985287329805...|       0.0|[0.96992643664902...|\n",
      "+---+-----+--------------------+----------+--------------------+\n",
      "only showing top 10 rows\n",
      "\n"
     ]
    }
   ],
   "source": [
    "predictions.select('id', 'label', 'rawPrediction', 'prediction',\n",
    "                   'probability').show(10)"
   ]
  },
  {
   "cell_type": "code",
   "execution_count": 86,
   "metadata": {
    "ExecuteTime": {
     "end_time": "2019-08-03T16:14:43.243765Z",
     "start_time": "2019-08-03T16:14:42.626345Z"
    }
   },
   "outputs": [
    {
     "name": "stdout",
     "output_type": "stream",
     "text": [
      "Test Area Under ROC: 0.8294667464568877\n"
     ]
    }
   ],
   "source": [
    "evaluator = BinaryClassificationEvaluator()\n",
    "print(\"Test Area Under ROC: \" + str(\n",
    "    evaluator.evaluate(predictions, {evaluator.metricName: \"areaUnderROC\"})))"
   ]
  },
  {
   "cell_type": "code",
   "execution_count": 88,
   "metadata": {
    "ExecuteTime": {
     "end_time": "2019-08-03T16:14:57.247003Z",
     "start_time": "2019-08-03T16:14:56.449928Z"
    }
   },
   "outputs": [
    {
     "name": "stdout",
     "output_type": "stream",
     "text": [
      "Accuracy: 0.7782577959311916\n"
     ]
    }
   ],
   "source": [
    "evaluator = MulticlassClassificationEvaluator()\n",
    "accuracy = evaluator.evaluate(predictions, {evaluator.metricName: \"accuracy\"})\n",
    "print(\"Accuracy: \" + str(accuracy))"
   ]
  },
  {
   "cell_type": "code",
   "execution_count": 89,
   "metadata": {
    "ExecuteTime": {
     "end_time": "2019-08-03T16:15:01.043939Z",
     "start_time": "2019-08-03T16:15:01.040070Z"
    }
   },
   "outputs": [
    {
     "name": "stdout",
     "output_type": "stream",
     "text": [
      "Test Error = 0.221742\n"
     ]
    }
   ],
   "source": [
    "print(\"Test Error = %g\" % (1.0 - accuracy))"
   ]
  },
  {
   "cell_type": "markdown",
   "metadata": {},
   "source": [
    "## GBT Model"
   ]
  },
  {
   "cell_type": "code",
   "execution_count": 90,
   "metadata": {
    "ExecuteTime": {
     "end_time": "2019-08-03T16:15:07.358795Z",
     "start_time": "2019-08-03T16:15:07.351854Z"
    }
   },
   "outputs": [],
   "source": [
    "gbt = GBTClassifier(maxIter=10)"
   ]
  },
  {
   "cell_type": "code",
   "execution_count": 91,
   "metadata": {
    "ExecuteTime": {
     "end_time": "2019-08-03T16:15:15.522799Z",
     "start_time": "2019-08-03T16:15:08.250949Z"
    }
   },
   "outputs": [],
   "source": [
    "gbtModel = gbt.fit(train)"
   ]
  },
  {
   "cell_type": "code",
   "execution_count": 92,
   "metadata": {
    "ExecuteTime": {
     "end_time": "2019-08-03T16:15:17.818873Z",
     "start_time": "2019-08-03T16:15:17.770034Z"
    }
   },
   "outputs": [],
   "source": [
    "predictions = gbtModel.transform(test)"
   ]
  },
  {
   "cell_type": "code",
   "execution_count": 93,
   "metadata": {
    "ExecuteTime": {
     "end_time": "2019-08-03T16:15:19.353875Z",
     "start_time": "2019-08-03T16:15:18.899080Z"
    }
   },
   "outputs": [
    {
     "name": "stdout",
     "output_type": "stream",
     "text": [
      "+---+-----+--------------------+----------+--------------------+\n",
      "| id|label|       rawPrediction|prediction|         probability|\n",
      "+---+-----+--------------------+----------+--------------------+\n",
      "|  0|  0.0|[1.32412711336971...|       0.0|[0.93390330915520...|\n",
      "|  3|  0.0|[1.32412711336971...|       0.0|[0.93390330915520...|\n",
      "| 14|  0.0|[1.32412711336971...|       0.0|[0.93390330915520...|\n",
      "| 18|  0.0|[1.32412711336971...|       0.0|[0.93390330915520...|\n",
      "| 23|  0.0|[1.32412711336971...|       0.0|[0.93390330915520...|\n",
      "+---+-----+--------------------+----------+--------------------+\n",
      "only showing top 5 rows\n",
      "\n"
     ]
    }
   ],
   "source": [
    "predictions.select('id', 'label', 'rawPrediction', 'prediction',\n",
    "                   'probability').show(5)"
   ]
  },
  {
   "cell_type": "code",
   "execution_count": 94,
   "metadata": {
    "ExecuteTime": {
     "end_time": "2019-08-03T16:15:22.357757Z",
     "start_time": "2019-08-03T16:15:21.815335Z"
    }
   },
   "outputs": [
    {
     "name": "stdout",
     "output_type": "stream",
     "text": [
      "Test Area Under ROC: 0.8383690618564904\n"
     ]
    }
   ],
   "source": [
    "evaluator = BinaryClassificationEvaluator()\n",
    "print(\"Test Area Under ROC: \" + str(\n",
    "    evaluator.evaluate(predictions, \n",
    "                       {evaluator.metricName: \"areaUnderROC\"})))"
   ]
  },
  {
   "cell_type": "code",
   "execution_count": 95,
   "metadata": {
    "ExecuteTime": {
     "end_time": "2019-08-03T16:15:29.410662Z",
     "start_time": "2019-08-03T16:15:28.690717Z"
    }
   },
   "outputs": [
    {
     "name": "stdout",
     "output_type": "stream",
     "text": [
      "Accuracy: 0.7879978006440971\n"
     ]
    }
   ],
   "source": [
    "evaluator = MulticlassClassificationEvaluator()\n",
    "accuracy = evaluator.evaluate(predictions, {evaluator.metricName: \"accuracy\"})\n",
    "print(\"Accuracy: \" + str(accuracy))"
   ]
  },
  {
   "cell_type": "code",
   "execution_count": 96,
   "metadata": {
    "ExecuteTime": {
     "end_time": "2019-08-03T16:15:30.251400Z",
     "start_time": "2019-08-03T16:15:30.247668Z"
    }
   },
   "outputs": [
    {
     "name": "stdout",
     "output_type": "stream",
     "text": [
      "Test Error = 0.212002\n"
     ]
    }
   ],
   "source": [
    "print(\"Test Error = %g\" % (1.0 - accuracy))"
   ]
  },
  {
   "cell_type": "code",
   "execution_count": 97,
   "metadata": {
    "ExecuteTime": {
     "end_time": "2019-08-03T16:15:36.185694Z",
     "start_time": "2019-08-03T16:15:36.170627Z"
    }
   },
   "outputs": [
    {
     "data": {
      "text/plain": [
       "SparseVector(52, {0: 0.0114, 1: 0.0286, 2: 0.0003, 3: 0.0007, 4: 0.0047, 5: 0.056, 6: 0.0233, 7: 0.0005, 8: 0.0088, 9: 0.0011, 10: 0.0009, 11: 0.09, 12: 0.0158, 13: 0.0023, 15: 0.0008, 16: 0.0016, 17: 0.0717, 18: 0.0006, 22: 0.0132, 23: 0.0005, 25: 0.0156, 26: 0.0168, 29: 0.0008, 33: 0.047, 34: 0.0211, 36: 0.0353, 37: 0.0057, 38: 0.0089, 39: 0.0009, 40: 0.0026, 41: 0.0091, 42: 0.4391, 43: 0.0127, 44: 0.0015, 45: 0.0005, 46: 0.0147, 47: 0.0041, 48: 0.0168, 49: 0.0, 50: 0.0138})"
      ]
     },
     "execution_count": 97,
     "metadata": {},
     "output_type": "execute_result"
    }
   ],
   "source": [
    "gbtModel.featureImportances"
   ]
  },
  {
   "cell_type": "markdown",
   "metadata": {},
   "source": [
    "Function to read Features Importance, Thanks to:\n",
    "- https://www.timlrx.com/2018/06/19/feature-selection-using-feature-importance-score-creating-a-pyspark-estimator/"
   ]
  },
  {
   "cell_type": "code",
   "execution_count": 98,
   "metadata": {
    "ExecuteTime": {
     "end_time": "2019-08-03T16:15:37.584327Z",
     "start_time": "2019-08-03T16:15:37.580476Z"
    }
   },
   "outputs": [],
   "source": [
    "def ExtractFeatureImp(featureImp, dataset, featuresCol):\n",
    "    list_extract = []\n",
    "    for i in dataset.schema[featuresCol].metadata[\"ml_attr\"][\"attrs\"]:\n",
    "        list_extract = list_extract + dataset.schema[featuresCol].metadata[\"ml_attr\"][\"attrs\"][i]\n",
    "    varlist = pd.DataFrame(list_extract)\n",
    "    varlist['score'] = varlist['idx'].apply(lambda x: featureImp[x])\n",
    "    return(varlist.sort_values('score', ascending = False))"
   ]
  },
  {
   "cell_type": "code",
   "execution_count": 99,
   "metadata": {
    "ExecuteTime": {
     "end_time": "2019-08-03T16:15:38.673866Z",
     "start_time": "2019-08-03T16:15:38.651552Z"
    }
   },
   "outputs": [
    {
     "data": {
      "text/html": [
       "<div>\n",
       "<style scoped>\n",
       "    .dataframe tbody tr th:only-of-type {\n",
       "        vertical-align: middle;\n",
       "    }\n",
       "\n",
       "    .dataframe tbody tr th {\n",
       "        vertical-align: top;\n",
       "    }\n",
       "\n",
       "    .dataframe thead th {\n",
       "        text-align: right;\n",
       "    }\n",
       "</style>\n",
       "<table border=\"1\" class=\"dataframe\">\n",
       "  <thead>\n",
       "    <tr style=\"text-align: right;\">\n",
       "      <th></th>\n",
       "      <th>idx</th>\n",
       "      <th>name</th>\n",
       "      <th>score</th>\n",
       "    </tr>\n",
       "  </thead>\n",
       "  <tbody>\n",
       "    <tr>\n",
       "      <th>42</th>\n",
       "      <td>42</td>\n",
       "      <td>COLISION_100</td>\n",
       "      <td>0.439067</td>\n",
       "    </tr>\n",
       "    <tr>\n",
       "      <th>11</th>\n",
       "      <td>11</td>\n",
       "      <td>crossing</td>\n",
       "      <td>0.090049</td>\n",
       "    </tr>\n",
       "    <tr>\n",
       "      <th>17</th>\n",
       "      <td>17</td>\n",
       "      <td>intercect</td>\n",
       "      <td>0.071686</td>\n",
       "    </tr>\n",
       "    <tr>\n",
       "      <th>5</th>\n",
       "      <td>5</td>\n",
       "      <td>bus_stop</td>\n",
       "      <td>0.055971</td>\n",
       "    </tr>\n",
       "    <tr>\n",
       "      <th>33</th>\n",
       "      <td>33</td>\n",
       "      <td>traffic_signals</td>\n",
       "      <td>0.047034</td>\n",
       "    </tr>\n",
       "    <tr>\n",
       "      <th>36</th>\n",
       "      <td>36</td>\n",
       "      <td>ATROPELLO_100</td>\n",
       "      <td>0.035349</td>\n",
       "    </tr>\n",
       "    <tr>\n",
       "      <th>1</th>\n",
       "      <td>1</td>\n",
       "      <td>Y</td>\n",
       "      <td>0.028571</td>\n",
       "    </tr>\n",
       "    <tr>\n",
       "      <th>6</th>\n",
       "      <td>6</td>\n",
       "      <td>bus_stop_100</td>\n",
       "      <td>0.023284</td>\n",
       "    </tr>\n",
       "    <tr>\n",
       "      <th>34</th>\n",
       "      <td>34</td>\n",
       "      <td>traffic_signals_100</td>\n",
       "      <td>0.021061</td>\n",
       "    </tr>\n",
       "    <tr>\n",
       "      <th>48</th>\n",
       "      <td>48</td>\n",
       "      <td>SEV_Index_100</td>\n",
       "      <td>0.016812</td>\n",
       "    </tr>\n",
       "    <tr>\n",
       "      <th>26</th>\n",
       "      <td>26</td>\n",
       "      <td>restaurant_100</td>\n",
       "      <td>0.016779</td>\n",
       "    </tr>\n",
       "    <tr>\n",
       "      <th>12</th>\n",
       "      <td>12</td>\n",
       "      <td>crossing_100</td>\n",
       "      <td>0.015766</td>\n",
       "    </tr>\n",
       "    <tr>\n",
       "      <th>25</th>\n",
       "      <td>25</td>\n",
       "      <td>restaurant</td>\n",
       "      <td>0.015591</td>\n",
       "    </tr>\n",
       "    <tr>\n",
       "      <th>46</th>\n",
       "      <td>46</td>\n",
       "      <td>OTRO TIPO_100</td>\n",
       "      <td>0.014711</td>\n",
       "    </tr>\n",
       "    <tr>\n",
       "      <th>50</th>\n",
       "      <td>50</td>\n",
       "      <td>VOLCADURA_100</td>\n",
       "      <td>0.013828</td>\n",
       "    </tr>\n",
       "    <tr>\n",
       "      <th>22</th>\n",
       "      <td>22</td>\n",
       "      <td>pharmacy</td>\n",
       "      <td>0.013157</td>\n",
       "    </tr>\n",
       "    <tr>\n",
       "      <th>43</th>\n",
       "      <td>43</td>\n",
       "      <td>COLISION_200</td>\n",
       "      <td>0.012653</td>\n",
       "    </tr>\n",
       "    <tr>\n",
       "      <th>0</th>\n",
       "      <td>0</td>\n",
       "      <td>X</td>\n",
       "      <td>0.011431</td>\n",
       "    </tr>\n",
       "    <tr>\n",
       "      <th>41</th>\n",
       "      <td>41</td>\n",
       "      <td>CHOQUE_200</td>\n",
       "      <td>0.009117</td>\n",
       "    </tr>\n",
       "    <tr>\n",
       "      <th>38</th>\n",
       "      <td>38</td>\n",
       "      <td>CAIDA_100</td>\n",
       "      <td>0.008853</td>\n",
       "    </tr>\n",
       "  </tbody>\n",
       "</table>\n",
       "</div>"
      ],
      "text/plain": [
       "    idx                 name     score\n",
       "42   42         COLISION_100  0.439067\n",
       "11   11             crossing  0.090049\n",
       "17   17            intercect  0.071686\n",
       "5     5             bus_stop  0.055971\n",
       "33   33      traffic_signals  0.047034\n",
       "36   36        ATROPELLO_100  0.035349\n",
       "1     1                    Y  0.028571\n",
       "6     6         bus_stop_100  0.023284\n",
       "34   34  traffic_signals_100  0.021061\n",
       "48   48        SEV_Index_100  0.016812\n",
       "26   26       restaurant_100  0.016779\n",
       "12   12         crossing_100  0.015766\n",
       "25   25           restaurant  0.015591\n",
       "46   46        OTRO TIPO_100  0.014711\n",
       "50   50        VOLCADURA_100  0.013828\n",
       "22   22             pharmacy  0.013157\n",
       "43   43         COLISION_200  0.012653\n",
       "0     0                    X  0.011431\n",
       "41   41           CHOQUE_200  0.009117\n",
       "38   38            CAIDA_100  0.008853"
      ]
     },
     "execution_count": 99,
     "metadata": {},
     "output_type": "execute_result"
    }
   ],
   "source": [
    "ExtractFeatureImp(\n",
    "    gbtModel.featureImportances, \n",
    "    df, \"features\").head(20)"
   ]
  },
  {
   "cell_type": "markdown",
   "metadata": {},
   "source": [
    "## Tuning The GBT Model"
   ]
  },
  {
   "cell_type": "markdown",
   "metadata": {
    "ExecuteTime": {
     "end_time": "2019-07-30T13:42:44.580147Z",
     "start_time": "2019-07-30T13:42:44.538052Z"
    }
   },
   "source": [
    "From a running on H20 AutoML ==> Gradient Boosting Machine best hyperparameters:\n",
    "- number_of_trees\t58\n",
    "- number_of_internal_trees\t58\n",
    "- model_size_in_bytes\t45603\n",
    "- min_depth\t6\n",
    "- max_depth\t6\n",
    "- mean_depth\t6.0\n",
    "- min_leaves\t42\n",
    "- max_leaves\t64\n",
    "- mean_leaves\t57.9310"
   ]
  },
  {
   "cell_type": "code",
   "execution_count": 100,
   "metadata": {
    "ExecuteTime": {
     "end_time": "2019-08-03T16:23:56.631641Z",
     "start_time": "2019-08-03T16:16:41.453822Z"
    }
   },
   "outputs": [],
   "source": [
    "paramGrid = (ParamGridBuilder()\n",
    "             .addGrid(gbt.maxDepth, [4, 6])\n",
    "             .addGrid(gbt.maxBins, [40, 60, 70])\n",
    "             .addGrid(gbt.maxIter, [10, 20])\n",
    "             .build())\n",
    "\n",
    "cv = CrossValidator(estimator=gbt,\n",
    "                    estimatorParamMaps=paramGrid,\n",
    "                    evaluator=evaluator,\n",
    "                    numFolds=5)\n",
    "\n",
    "# Run cross validations.  This can take about 7.3 minutes!\n",
    "cvModel = cv.fit(train)\n",
    "predictions = cvModel.transform(test)"
   ]
  },
  {
   "cell_type": "code",
   "execution_count": 101,
   "metadata": {
    "ExecuteTime": {
     "end_time": "2019-08-03T16:25:40.529089Z",
     "start_time": "2019-08-03T16:25:39.992481Z"
    },
    "scrolled": true
   },
   "outputs": [
    {
     "name": "stdout",
     "output_type": "stream",
     "text": [
      "Test Area Under ROC: 0.841362042678081\n"
     ]
    }
   ],
   "source": [
    "evaluator = BinaryClassificationEvaluator()\n",
    "print(\"Test Area Under ROC: \" + str(\n",
    "    evaluator.evaluate(predictions, \n",
    "                       {evaluator.metricName: \"areaUnderROC\"})))"
   ]
  },
  {
   "cell_type": "code",
   "execution_count": 102,
   "metadata": {
    "ExecuteTime": {
     "end_time": "2019-08-03T16:25:42.749253Z",
     "start_time": "2019-08-03T16:25:41.983798Z"
    }
   },
   "outputs": [
    {
     "name": "stdout",
     "output_type": "stream",
     "text": [
      "Accuracy: 0.7924750608750295\n"
     ]
    }
   ],
   "source": [
    "evaluator = MulticlassClassificationEvaluator()\n",
    "accuracy = evaluator.evaluate(predictions, {evaluator.metricName: \"accuracy\"})\n",
    "print(\"Accuracy: \" + str(accuracy))"
   ]
  },
  {
   "cell_type": "code",
   "execution_count": 103,
   "metadata": {
    "ExecuteTime": {
     "end_time": "2019-08-03T16:25:45.252775Z",
     "start_time": "2019-08-03T16:25:45.249575Z"
    }
   },
   "outputs": [
    {
     "name": "stdout",
     "output_type": "stream",
     "text": [
      "Test Error = 0.207525\n"
     ]
    }
   ],
   "source": [
    "print(\"Test Error = %g\" % (1.0 - accuracy))"
   ]
  },
  {
   "cell_type": "code",
   "execution_count": null,
   "metadata": {
    "ExecuteTime": {
     "end_time": "2019-08-03T16:26:05.884433Z",
     "start_time": "2019-08-03T16:26:03.374547Z"
    }
   },
   "outputs": [],
   "source": [
    "selected = predictions.select('id', 'label', 'rawPrediction', 'probability', 'prediction')\n",
    "for row in selected.collect():\n",
    "    print(row)"
   ]
  },
  {
   "cell_type": "code",
   "execution_count": null,
   "metadata": {},
   "outputs": [],
   "source": []
  },
  {
   "cell_type": "code",
   "execution_count": 105,
   "metadata": {
    "ExecuteTime": {
     "end_time": "2019-08-03T16:26:23.749927Z",
     "start_time": "2019-08-03T16:26:23.247510Z"
    }
   },
   "outputs": [
    {
     "name": "stdout",
     "output_type": "stream",
     "text": [
      "+---+-----+--------------------+--------------------+----------+\n",
      "| id|label|       rawPrediction|         probability|prediction|\n",
      "+---+-----+--------------------+--------------------+----------+\n",
      "|  0|  0.0|[1.54341621871724...|[0.95634631650520...|       0.0|\n",
      "|  3|  0.0|[1.54341621871724...|[0.95634631650520...|       0.0|\n",
      "| 14|  0.0|[1.54341621871724...|[0.95634631650520...|       0.0|\n",
      "| 18|  0.0|[1.54341621871724...|[0.95634631650520...|       0.0|\n",
      "| 23|  0.0|[1.54341621871724...|[0.95634631650520...|       0.0|\n",
      "| 33|  0.0|[1.54341621871724...|[0.95634631650520...|       0.0|\n",
      "| 34|  0.0|[1.54341621871724...|[0.95634631650520...|       0.0|\n",
      "| 44|  0.0|[1.54341621871724...|[0.95634631650520...|       0.0|\n",
      "| 56|  0.0|[1.54341621871724...|[0.95634631650520...|       0.0|\n",
      "| 54|  0.0|[1.54341621871724...|[0.95634631650520...|       0.0|\n",
      "+---+-----+--------------------+--------------------+----------+\n",
      "only showing top 10 rows\n",
      "\n"
     ]
    }
   ],
   "source": [
    "predictions.select('id', 'label', 'rawPrediction', 'probability', 'prediction').show(10)"
   ]
  },
  {
   "cell_type": "code",
   "execution_count": 106,
   "metadata": {
    "ExecuteTime": {
     "end_time": "2019-08-03T16:26:25.409466Z",
     "start_time": "2019-08-03T16:26:25.406914Z"
    }
   },
   "outputs": [],
   "source": [
    "bestModel = cvModel.bestModel"
   ]
  },
  {
   "cell_type": "code",
   "execution_count": 107,
   "metadata": {
    "ExecuteTime": {
     "end_time": "2019-08-03T16:26:26.357226Z",
     "start_time": "2019-08-03T16:26:26.352727Z"
    }
   },
   "outputs": [
    {
     "data": {
      "text/plain": [
       "GBTClassificationModel (uid=GBTClassifier_95ac8c178565) with 20 trees"
      ]
     },
     "execution_count": 107,
     "metadata": {},
     "output_type": "execute_result"
    }
   ],
   "source": [
    "bestModel"
   ]
  },
  {
   "cell_type": "code",
   "execution_count": 108,
   "metadata": {
    "ExecuteTime": {
     "end_time": "2019-08-03T16:26:28.321428Z",
     "start_time": "2019-08-03T16:26:27.600881Z"
    }
   },
   "outputs": [],
   "source": [
    "bestModel.write().overwrite().save('../model/GeoProjectBestModel_1.model')"
   ]
  },
  {
   "cell_type": "markdown",
   "metadata": {},
   "source": [
    "## Validating Best Model with 2018 dataset\n",
    "This dataset is used as VALIDATION.\n",
    "- The real crash events will be from 2018\n",
    "- The dynamic features (type_100 and type_200) will be from the year before (2017)"
   ]
  },
  {
   "cell_type": "code",
   "execution_count": 134,
   "metadata": {
    "ExecuteTime": {
     "end_time": "2019-08-03T16:39:11.532724Z",
     "start_time": "2019-08-03T16:39:11.077559Z"
    }
   },
   "outputs": [],
   "source": [
    "valModel = GBTClassificationModel.load(\"../model/GeoProjectBestModel_1.model\")"
   ]
  },
  {
   "cell_type": "markdown",
   "metadata": {},
   "source": [
    "Loading the dataset with 2018 data:"
   ]
  },
  {
   "cell_type": "code",
   "execution_count": 135,
   "metadata": {
    "ExecuteTime": {
     "end_time": "2019-08-03T16:39:13.207116Z",
     "start_time": "2019-08-03T16:39:12.899123Z"
    }
   },
   "outputs": [
    {
     "name": "stdout",
     "output_type": "stream",
     "text": [
      "root\n",
      " |-- _c0: integer (nullable = true)\n",
      " |-- id: integer (nullable = true)\n",
      " |-- X: double (nullable = true)\n",
      " |-- Y: double (nullable = true)\n",
      " |-- bank: integer (nullable = true)\n",
      " |-- bench: integer (nullable = true)\n",
      " |-- beverages: integer (nullable = true)\n",
      " |-- bus_stop: integer (nullable = true)\n",
      " |-- bus_stop_100: integer (nullable = true)\n",
      " |-- cafe: integer (nullable = true)\n",
      " |-- convenience: integer (nullable = true)\n",
      " |-- convenience_100: integer (nullable = true)\n",
      " |-- convenience_200: integer (nullable = true)\n",
      " |-- crossing: integer (nullable = true)\n",
      " |-- crossing_100: integer (nullable = true)\n",
      " |-- fast_food: integer (nullable = true)\n",
      " |-- fast_food_100: integer (nullable = true)\n",
      " |-- fast_food_200: integer (nullable = true)\n",
      " |-- fuel: integer (nullable = true)\n",
      " |-- intercect: integer (nullable = true)\n",
      " |-- kindergarten: integer (nullable = true)\n",
      " |-- motorway_junction: integer (nullable = true)\n",
      " |-- parking: integer (nullable = true)\n",
      " |-- parking_bicycle: integer (nullable = true)\n",
      " |-- pharmacy: integer (nullable = true)\n",
      " |-- railway_station: integer (nullable = true)\n",
      " |-- railway_station_100: integer (nullable = true)\n",
      " |-- restaurant: integer (nullable = true)\n",
      " |-- restaurant_100: integer (nullable = true)\n",
      " |-- school: integer (nullable = true)\n",
      " |-- school_100: integer (nullable = true)\n",
      " |-- school_200: integer (nullable = true)\n",
      " |-- stop: integer (nullable = true)\n",
      " |-- stop_100: integer (nullable = true)\n",
      " |-- taxi: integer (nullable = true)\n",
      " |-- traffic_signals: integer (nullable = true)\n",
      " |-- traffic_signals_100: integer (nullable = true)\n",
      " |-- turning_circle: integer (nullable = true)\n",
      " |-- ATROPELLO_100: integer (nullable = true)\n",
      " |-- ATROPELLO_200: integer (nullable = true)\n",
      " |-- CAIDA_100: integer (nullable = true)\n",
      " |-- CAIDA_200: integer (nullable = true)\n",
      " |-- CHOQUE_100: integer (nullable = true)\n",
      " |-- CHOQUE_200: integer (nullable = true)\n",
      " |-- COLISION_100: integer (nullable = true)\n",
      " |-- COLISION_200: integer (nullable = true)\n",
      " |-- INCENDIO_100: integer (nullable = true)\n",
      " |-- INCENDIO_200: integer (nullable = true)\n",
      " |-- OTRO TIPO_100: integer (nullable = true)\n",
      " |-- OTRO TIPO_200: integer (nullable = true)\n",
      " |-- SEV_Index_100: integer (nullable = true)\n",
      " |-- SEV_Index_200: integer (nullable = true)\n",
      " |-- VOLCADURA_100: integer (nullable = true)\n",
      " |-- VOLCADURA_200: integer (nullable = true)\n",
      " |-- SINIESTRO: integer (nullable = true)\n",
      "\n"
     ]
    }
   ],
   "source": [
    "df_2018 = spark.read.csv('../data/final_test_dataset_grid_100.csv',\n",
    "                    header=True,\n",
    "                    inferSchema=True)\n",
    "df_2018.printSchema()"
   ]
  },
  {
   "cell_type": "code",
   "execution_count": 136,
   "metadata": {
    "ExecuteTime": {
     "end_time": "2019-08-03T16:39:13.735513Z",
     "start_time": "2019-08-03T16:39:13.731038Z"
    }
   },
   "outputs": [
    {
     "name": "stdout",
     "output_type": "stream",
     "text": [
      "0  categorical features\n",
      "54  numerical features\n"
     ]
    }
   ],
   "source": [
    "num_cols, cat_cols = find_num_cat_features(df_2018)"
   ]
  },
  {
   "cell_type": "code",
   "execution_count": 137,
   "metadata": {
    "ExecuteTime": {
     "end_time": "2019-08-03T16:39:14.736415Z",
     "start_time": "2019-08-03T16:39:14.520120Z"
    }
   },
   "outputs": [
    {
     "data": {
      "text/html": [
       "<div>\n",
       "<style scoped>\n",
       "    .dataframe tbody tr th:only-of-type {\n",
       "        vertical-align: middle;\n",
       "    }\n",
       "\n",
       "    .dataframe tbody tr th {\n",
       "        vertical-align: top;\n",
       "    }\n",
       "\n",
       "    .dataframe thead th {\n",
       "        text-align: right;\n",
       "    }\n",
       "</style>\n",
       "<table border=\"1\" class=\"dataframe\">\n",
       "  <thead>\n",
       "    <tr style=\"text-align: right;\">\n",
       "      <th></th>\n",
       "      <th>SINIESTRO</th>\n",
       "      <th>count</th>\n",
       "    </tr>\n",
       "  </thead>\n",
       "  <tbody>\n",
       "    <tr>\n",
       "      <th>0</th>\n",
       "      <td>1</td>\n",
       "      <td>6687</td>\n",
       "    </tr>\n",
       "    <tr>\n",
       "      <th>1</th>\n",
       "      <td>0</td>\n",
       "      <td>56342</td>\n",
       "    </tr>\n",
       "  </tbody>\n",
       "</table>\n",
       "</div>"
      ],
      "text/plain": [
       "   SINIESTRO  count\n",
       "0          1   6687\n",
       "1          0  56342"
      ]
     },
     "execution_count": 137,
     "metadata": {},
     "output_type": "execute_result"
    }
   ],
   "source": [
    "df_2018.groupby('SINIESTRO').count().toPandas()"
   ]
  },
  {
   "cell_type": "markdown",
   "metadata": {},
   "source": [
    "`Note that on this dataset, we have around 10.5% of the Grid's cells with crash events and 89.4% with No events.`"
   ]
  },
  {
   "cell_type": "code",
   "execution_count": 138,
   "metadata": {
    "ExecuteTime": {
     "end_time": "2019-08-03T16:39:18.035063Z",
     "start_time": "2019-08-03T16:39:18.030700Z"
    }
   },
   "outputs": [
    {
     "data": {
      "text/plain": [
       "['X',\n",
       " 'Y',\n",
       " 'bank',\n",
       " 'bench',\n",
       " 'beverages',\n",
       " 'bus_stop',\n",
       " 'bus_stop_100',\n",
       " 'cafe',\n",
       " 'convenience',\n",
       " 'convenience_100',\n",
       " 'convenience_200',\n",
       " 'crossing',\n",
       " 'crossing_100',\n",
       " 'fast_food',\n",
       " 'fast_food_100',\n",
       " 'fast_food_200',\n",
       " 'fuel',\n",
       " 'intercect',\n",
       " 'kindergarten',\n",
       " 'motorway_junction',\n",
       " 'parking',\n",
       " 'parking_bicycle',\n",
       " 'pharmacy',\n",
       " 'railway_station',\n",
       " 'railway_station_100',\n",
       " 'restaurant',\n",
       " 'restaurant_100',\n",
       " 'school',\n",
       " 'school_100',\n",
       " 'school_200',\n",
       " 'stop',\n",
       " 'stop_100',\n",
       " 'taxi',\n",
       " 'traffic_signals',\n",
       " 'traffic_signals_100',\n",
       " 'turning_circle',\n",
       " 'ATROPELLO_100',\n",
       " 'ATROPELLO_200',\n",
       " 'CAIDA_100',\n",
       " 'CAIDA_200',\n",
       " 'CHOQUE_100',\n",
       " 'CHOQUE_200',\n",
       " 'COLISION_100',\n",
       " 'COLISION_200',\n",
       " 'INCENDIO_100',\n",
       " 'INCENDIO_200',\n",
       " 'OTRO TIPO_100',\n",
       " 'OTRO TIPO_200',\n",
       " 'SEV_Index_100',\n",
       " 'SEV_Index_200',\n",
       " 'VOLCADURA_100',\n",
       " 'VOLCADURA_200']"
      ]
     },
     "execution_count": 138,
     "metadata": {},
     "output_type": "execute_result"
    }
   ],
   "source": [
    "numericCols = num_cols[1:-1] # Taking out id and Target variable\n",
    "numericCols"
   ]
  },
  {
   "cell_type": "code",
   "execution_count": 139,
   "metadata": {
    "ExecuteTime": {
     "end_time": "2019-08-03T16:39:19.002997Z",
     "start_time": "2019-08-03T16:39:18.760226Z"
    }
   },
   "outputs": [
    {
     "name": "stdout",
     "output_type": "stream",
     "text": [
      "root\n",
      " |-- label: double (nullable = false)\n",
      " |-- features: vector (nullable = true)\n",
      " |-- label: double (nullable = false)\n",
      " |-- features: vector (nullable = true)\n",
      " |-- _c0: integer (nullable = true)\n",
      " |-- id: integer (nullable = true)\n",
      " |-- X: double (nullable = true)\n",
      " |-- Y: double (nullable = true)\n",
      " |-- bank: integer (nullable = true)\n",
      " |-- bench: integer (nullable = true)\n",
      " |-- beverages: integer (nullable = true)\n",
      " |-- bus_stop: integer (nullable = true)\n",
      " |-- bus_stop_100: integer (nullable = true)\n",
      " |-- cafe: integer (nullable = true)\n",
      " |-- convenience: integer (nullable = true)\n",
      " |-- convenience_100: integer (nullable = true)\n",
      " |-- convenience_200: integer (nullable = true)\n",
      " |-- crossing: integer (nullable = true)\n",
      " |-- crossing_100: integer (nullable = true)\n",
      " |-- fast_food: integer (nullable = true)\n",
      " |-- fast_food_100: integer (nullable = true)\n",
      " |-- fast_food_200: integer (nullable = true)\n",
      " |-- fuel: integer (nullable = true)\n",
      " |-- intercect: integer (nullable = true)\n",
      " |-- kindergarten: integer (nullable = true)\n",
      " |-- motorway_junction: integer (nullable = true)\n",
      " |-- parking: integer (nullable = true)\n",
      " |-- parking_bicycle: integer (nullable = true)\n",
      " |-- pharmacy: integer (nullable = true)\n",
      " |-- railway_station: integer (nullable = true)\n",
      " |-- railway_station_100: integer (nullable = true)\n",
      " |-- restaurant: integer (nullable = true)\n",
      " |-- restaurant_100: integer (nullable = true)\n",
      " |-- school: integer (nullable = true)\n",
      " |-- school_100: integer (nullable = true)\n",
      " |-- school_200: integer (nullable = true)\n",
      " |-- stop: integer (nullable = true)\n",
      " |-- stop_100: integer (nullable = true)\n",
      " |-- taxi: integer (nullable = true)\n",
      " |-- traffic_signals: integer (nullable = true)\n",
      " |-- traffic_signals_100: integer (nullable = true)\n",
      " |-- turning_circle: integer (nullable = true)\n",
      " |-- ATROPELLO_100: integer (nullable = true)\n",
      " |-- ATROPELLO_200: integer (nullable = true)\n",
      " |-- CAIDA_100: integer (nullable = true)\n",
      " |-- CAIDA_200: integer (nullable = true)\n",
      " |-- CHOQUE_100: integer (nullable = true)\n",
      " |-- CHOQUE_200: integer (nullable = true)\n",
      " |-- COLISION_100: integer (nullable = true)\n",
      " |-- COLISION_200: integer (nullable = true)\n",
      " |-- INCENDIO_100: integer (nullable = true)\n",
      " |-- INCENDIO_200: integer (nullable = true)\n",
      " |-- OTRO TIPO_100: integer (nullable = true)\n",
      " |-- OTRO TIPO_200: integer (nullable = true)\n",
      " |-- SEV_Index_100: integer (nullable = true)\n",
      " |-- SEV_Index_200: integer (nullable = true)\n",
      " |-- VOLCADURA_100: integer (nullable = true)\n",
      " |-- VOLCADURA_200: integer (nullable = true)\n",
      " |-- SINIESTRO: integer (nullable = true)\n",
      "\n"
     ]
    }
   ],
   "source": [
    "categoricalColumns = cat_cols\n",
    "cols = df.columns\n",
    "stages = []\n",
    "\n",
    "for categoricalCol in categoricalColumns:\n",
    "    stringIndexer = StringIndexer(inputCol=categoricalCol,\n",
    "                                  outputCol=categoricalCol + 'Index')\n",
    "    encoder = OneHotEncoderEstimator(inputCols=[stringIndexer.getOutputCol()],\n",
    "                                     outputCols=[categoricalCol + \"classVec\"])\n",
    "    stages += [stringIndexer, encoder]\n",
    "    \n",
    "label_stringIdx = StringIndexer(inputCol='SINIESTRO', outputCol='label')\n",
    "stages += [label_stringIdx]\n",
    "\n",
    "assemblerInputs = [c + \"classVec\" for c in categoricalColumns] + numericCols\n",
    "assembler = VectorAssembler(inputCols=assemblerInputs, outputCol=\"features\")\n",
    "stages += [assembler]\n",
    "\n",
    "pipeline = Pipeline(stages = stages)\n",
    "pipelineModel = pipeline.fit(df_2018)\n",
    "df_2018 = pipelineModel.transform(df_2018)\n",
    "selectedCols = ['label', 'features'] + cols\n",
    "df_2018 = df_2018.select(selectedCols)\n",
    "df_2018.printSchema()"
   ]
  },
  {
   "cell_type": "code",
   "execution_count": 147,
   "metadata": {
    "ExecuteTime": {
     "end_time": "2019-08-03T16:41:59.335447Z",
     "start_time": "2019-08-03T16:41:59.279732Z"
    }
   },
   "outputs": [],
   "source": [
    "predict_2018 = valModel.transform(df_2018)"
   ]
  },
  {
   "cell_type": "code",
   "execution_count": null,
   "metadata": {
    "ExecuteTime": {
     "end_time": "2019-08-03T16:42:21.281535Z",
     "start_time": "2019-08-03T16:42:11.620710Z"
    }
   },
   "outputs": [],
   "source": [
    "selected = predict_2018.select('id', 'label', 'rawPrediction', 'probability', 'prediction')\n",
    "for row in selected.collect():\n",
    "    print(row)"
   ]
  },
  {
   "cell_type": "code",
   "execution_count": 149,
   "metadata": {
    "ExecuteTime": {
     "end_time": "2019-08-03T16:42:23.231132Z",
     "start_time": "2019-08-03T16:42:23.128733Z"
    }
   },
   "outputs": [
    {
     "name": "stdout",
     "output_type": "stream",
     "text": [
      "+---+-----+--------------------+--------------------+----------+\n",
      "| id|label|       rawPrediction|         probability|prediction|\n",
      "+---+-----+--------------------+--------------------+----------+\n",
      "|  0|  0.0|[1.54341621871724...|[0.95634631650520...|       0.0|\n",
      "|  1|  0.0|[1.54341621871724...|[0.95634631650520...|       0.0|\n",
      "|  2|  0.0|[1.54341621871724...|[0.95634631650520...|       0.0|\n",
      "|  3|  0.0|[1.54341621871724...|[0.95634631650520...|       0.0|\n",
      "|  4|  0.0|[1.54341621871724...|[0.95634631650520...|       0.0|\n",
      "|  5|  0.0|[1.54341621871724...|[0.95634631650520...|       0.0|\n",
      "|  6|  0.0|[1.54341621871724...|[0.95634631650520...|       0.0|\n",
      "|  7|  0.0|[1.54341621871724...|[0.95634631650520...|       0.0|\n",
      "|  8|  0.0|[1.54341621871724...|[0.95634631650520...|       0.0|\n",
      "|  9|  0.0|[1.54341621871724...|[0.95634631650520...|       0.0|\n",
      "+---+-----+--------------------+--------------------+----------+\n",
      "only showing top 10 rows\n",
      "\n"
     ]
    }
   ],
   "source": [
    "predict_2018.select('id', 'label', 'rawPrediction', 'probability', 'prediction').show(10)"
   ]
  },
  {
   "cell_type": "code",
   "execution_count": 150,
   "metadata": {
    "ExecuteTime": {
     "end_time": "2019-08-03T16:42:35.340242Z",
     "start_time": "2019-08-03T16:42:34.346679Z"
    },
    "scrolled": true
   },
   "outputs": [
    {
     "name": "stdout",
     "output_type": "stream",
     "text": [
      "Test Area Under ROC: 0.7742939707280319\n"
     ]
    }
   ],
   "source": [
    "evaluator = BinaryClassificationEvaluator()\n",
    "print(\"Test Area Under ROC: \" + str(\n",
    "    evaluator.evaluate(predict_2018, \n",
    "                       {evaluator.metricName: \"areaUnderROC\"})))"
   ]
  },
  {
   "cell_type": "code",
   "execution_count": 151,
   "metadata": {
    "ExecuteTime": {
     "end_time": "2019-08-03T16:42:48.216942Z",
     "start_time": "2019-08-03T16:42:47.235415Z"
    }
   },
   "outputs": [
    {
     "name": "stdout",
     "output_type": "stream",
     "text": [
      "Accuracy: 0.8942708911770773\n"
     ]
    }
   ],
   "source": [
    "evaluator = MulticlassClassificationEvaluator()\n",
    "accuracy = evaluator.evaluate(predict_2018, {evaluator.metricName: \"accuracy\"})\n",
    "print(\"Accuracy: \" + str(accuracy))"
   ]
  },
  {
   "cell_type": "code",
   "execution_count": 146,
   "metadata": {
    "ExecuteTime": {
     "end_time": "2019-08-03T16:40:51.646619Z",
     "start_time": "2019-08-03T16:40:51.643156Z"
    }
   },
   "outputs": [
    {
     "name": "stdout",
     "output_type": "stream",
     "text": [
      "Test Error = 0.105729\n"
     ]
    }
   ],
   "source": [
    "print(\"Test Error = %g\" % (1.0 - accuracy))"
   ]
  },
  {
   "cell_type": "code",
   "execution_count": null,
   "metadata": {},
   "outputs": [],
   "source": []
  },
  {
   "cell_type": "code",
   "execution_count": 152,
   "metadata": {
    "ExecuteTime": {
     "end_time": "2019-08-03T16:42:58.369449Z",
     "start_time": "2019-08-03T16:42:57.487355Z"
    }
   },
   "outputs": [
    {
     "name": "stdout",
     "output_type": "stream",
     "text": [
      "+----------+-----+\n",
      "|prediction|count|\n",
      "+----------+-----+\n",
      "|0.0       |58578|\n",
      "|1.0       |4451 |\n",
      "+----------+-----+\n",
      "\n"
     ]
    }
   ],
   "source": [
    "predict_2018.select(\"prediction\").groupBy(\"prediction\").count().show(truncate=False)"
   ]
  },
  {
   "cell_type": "code",
   "execution_count": 153,
   "metadata": {
    "ExecuteTime": {
     "end_time": "2019-08-03T16:43:09.735889Z",
     "start_time": "2019-08-03T16:43:09.354465Z"
    },
    "scrolled": true
   },
   "outputs": [
    {
     "name": "stdout",
     "output_type": "stream",
     "text": [
      "+-----+-----+\n",
      "|label|count|\n",
      "+-----+-----+\n",
      "|0.0  |56342|\n",
      "|1.0  |6687 |\n",
      "+-----+-----+\n",
      "\n"
     ]
    }
   ],
   "source": [
    "predict_2018.select(\"label\").groupBy(\"label\").count().show(truncate=False)"
   ]
  },
  {
   "cell_type": "code",
   "execution_count": 154,
   "metadata": {
    "ExecuteTime": {
     "end_time": "2019-08-03T16:44:52.076371Z",
     "start_time": "2019-08-03T16:44:52.058165Z"
    }
   },
   "outputs": [],
   "source": [
    "Crash_Prevision_2018 = predict_2018.select('id', 'X', 'Y', 'label', 'rawPrediction', 'probability', 'prediction')"
   ]
  },
  {
   "cell_type": "code",
   "execution_count": 155,
   "metadata": {
    "ExecuteTime": {
     "end_time": "2019-08-03T16:45:02.962343Z",
     "start_time": "2019-08-03T16:44:59.302037Z"
    }
   },
   "outputs": [],
   "source": [
    "Crash_Prevision_2018.toPandas().to_csv(\"../model/Crash_Prevision_2018.csv\")"
   ]
  },
  {
   "cell_type": "code",
   "execution_count": 157,
   "metadata": {
    "ExecuteTime": {
     "end_time": "2019-08-03T17:19:23.909919Z",
     "start_time": "2019-08-03T17:19:23.905561Z"
    }
   },
   "outputs": [],
   "source": [
    "spark.stop()"
   ]
  },
  {
   "cell_type": "markdown",
   "metadata": {},
   "source": [
    "---"
   ]
  }
 ],
 "metadata": {
  "kernelspec": {
   "display_name": "python_3_7",
   "language": "python",
   "name": "python_3_7"
  },
  "language_info": {
   "codemirror_mode": {
    "name": "ipython",
    "version": 3
   },
   "file_extension": ".py",
   "mimetype": "text/x-python",
   "name": "python",
   "nbconvert_exporter": "python",
   "pygments_lexer": "ipython3",
   "version": "3.7.3"
  },
  "nbTranslate": {
   "displayLangs": [
    "*"
   ],
   "hotkey": "alt-t",
   "langInMainMenu": true,
   "sourceLang": "en",
   "targetLang": "fr",
   "useGoogleTranslate": true
  },
  "toc": {
   "base_numbering": 1,
   "nav_menu": {},
   "number_sections": true,
   "sideBar": true,
   "skip_h1_title": true,
   "title_cell": "Table of Contents",
   "title_sidebar": "Contents",
   "toc_cell": false,
   "toc_position": {},
   "toc_section_display": true,
   "toc_window_display": false
  },
  "varInspector": {
   "cols": {
    "lenName": 16,
    "lenType": 16,
    "lenVar": 40
   },
   "kernels_config": {
    "python": {
     "delete_cmd_postfix": "",
     "delete_cmd_prefix": "del ",
     "library": "var_list.py",
     "varRefreshCmd": "print(var_dic_list())"
    },
    "r": {
     "delete_cmd_postfix": ") ",
     "delete_cmd_prefix": "rm(",
     "library": "var_list.r",
     "varRefreshCmd": "cat(var_dic_list()) "
    }
   },
   "types_to_exclude": [
    "module",
    "function",
    "builtin_function_or_method",
    "instance",
    "_Feature"
   ],
   "window_display": false
  }
 },
 "nbformat": 4,
 "nbformat_minor": 2
}
