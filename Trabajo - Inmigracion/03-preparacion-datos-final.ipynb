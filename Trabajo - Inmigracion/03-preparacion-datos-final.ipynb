{
 "cells": [
  {
   "cell_type": "markdown",
   "metadata": {},
   "source": [
    "# 03 - Preparación de los datos\n",
    "## Trabajo MDS - 2o. Trim. ==> Inmigracion en Chile\n",
    "`Este notebook contiene las transformaciones que hayan sido necesarias para el algoritmo de machine learning`\n",
    "\n",
    "**Profesor:** Donoso I.<br>\n",
    "**Alumnos:** Briceno, H.; Rovai, M.; Tessada G.\n",
    "<p>Santiago, 06 de Noviembre 2018"
   ]
  },
  {
   "cell_type": "markdown",
   "metadata": {},
   "source": [
    "<p><img src=\"./images/03_prep_data.png\"></p>"
   ]
  },
  {
   "cell_type": "markdown",
   "metadata": {},
   "source": [
    "---\n",
    "## Pregunta:\n",
    "### En cuales comunas se concentran los inmigrantes que llegaron a la Región Metropolitana? Quien son? Como són? Y los nuevos, donde viverán?\n",
    "---"
   ]
  },
  {
   "cell_type": "markdown",
   "metadata": {},
   "source": [
    "**Importación de las principales librerias**"
   ]
  },
  {
   "cell_type": "code",
   "execution_count": 1,
   "metadata": {},
   "outputs": [],
   "source": [
    "import pandas as pd\n",
    "import numpy as np\n",
    "import seaborn as sns\n",
    "import matplotlib.pyplot as plt\n",
    "%matplotlib inline  \n",
    "\n",
    "from sklearn.preprocessing import LabelEncoder\n",
    "from sklearn.preprocessing import OneHotEncoder\n",
    "\n",
    "import warnings\n",
    "warnings.filterwarnings(\"ignore\")"
   ]
  },
  {
   "cell_type": "markdown",
   "metadata": {},
   "source": [
    "### 1. Importar el dataset"
   ]
  },
  {
   "cell_type": "markdown",
   "metadata": {},
   "source": [
    "En esta etapa del proyecto, analizaremos datos de los extranjeros en la Región Metropilitana. Los datos fueron obtenídos a partir de los datos crudos de: [Departamento de Extranjeria y Migracion de Chile](http://www.extranjeria.gob.cl/estadisticas-migratorias/). "
   ]
  },
  {
   "cell_type": "markdown",
   "metadata": {},
   "source": [
    "La base de datos \"limpía\", se obtuvo a partir del notebook: \n",
    "- 01-Limpieza-Enriquecimiento.ipynb"
   ]
  },
  {
   "cell_type": "markdown",
   "metadata": {},
   "source": [
    "**Información constante del dataset** <br>\n",
    "- PAIS  - (País de origen)\n",
    "- SEXO\t\n",
    "- EDAD - (la edad en el año que recibió el benefício)\n",
    "- ESTUDIOS\t\n",
    "- ACTIVIDAD\t\n",
    "- PROFESION\n",
    "- BENEFICIO - (Visa temporária o definitiva)\n",
    "- TIT_DEP - (El que recibe el benefício es Titular o Dependente)\n",
    "- ANIO - (año en que recibió el benefício)\n",
    "- COMUNA\n",
    "\n",
    "---"
   ]
  },
  {
   "cell_type": "code",
   "execution_count": 2,
   "metadata": {},
   "outputs": [
    {
     "name": "stdout",
     "output_type": "stream",
     "text": [
      "01_extranjeros_rm.xlsx                PDs_2018_1.xlsx\r\n",
      "CENSO_2017_COMUNAS_RM.xlsx            Visas-2017.xlsx\r\n",
      "\u001b[34mComunas_RM_Mapas_Vectoriales\u001b[m\u001b[m          Visas-2018_1.xlsx\r\n",
      "ML_extranjeros_rm.xlsx                censo_2017_RM.xlsx\r\n",
      "PDs-2005-2016.xlsx                    censo_2017_inmigrantes_rm_comuna.xlsx\r\n",
      "PDs-2017.xlsx\r\n"
     ]
    }
   ],
   "source": [
    "!ls ./data"
   ]
  },
  {
   "cell_type": "code",
   "execution_count": 3,
   "metadata": {},
   "outputs": [
    {
     "data": {
      "text/plain": [
       "(589106, 10)"
      ]
     },
     "execution_count": 3,
     "metadata": {},
     "output_type": "execute_result"
    }
   ],
   "source": [
    "df = pd.read_excel('./data/01_extranjeros_rm.xlsx')\n",
    "df.shape"
   ]
  },
  {
   "cell_type": "code",
   "execution_count": 4,
   "metadata": {},
   "outputs": [
    {
     "data": {
      "text/html": [
       "<div>\n",
       "<style scoped>\n",
       "    .dataframe tbody tr th:only-of-type {\n",
       "        vertical-align: middle;\n",
       "    }\n",
       "\n",
       "    .dataframe tbody tr th {\n",
       "        vertical-align: top;\n",
       "    }\n",
       "\n",
       "    .dataframe thead th {\n",
       "        text-align: right;\n",
       "    }\n",
       "</style>\n",
       "<table border=\"1\" class=\"dataframe\">\n",
       "  <thead>\n",
       "    <tr style=\"text-align: right;\">\n",
       "      <th></th>\n",
       "      <th>PAIS</th>\n",
       "      <th>SEXO</th>\n",
       "      <th>EDAD</th>\n",
       "      <th>ESTUDIOS</th>\n",
       "      <th>ACTIVIDAD</th>\n",
       "      <th>PROFESION</th>\n",
       "      <th>BENEFICIO</th>\n",
       "      <th>TIT_DEP</th>\n",
       "      <th>ANIO</th>\n",
       "      <th>COMUNA</th>\n",
       "    </tr>\n",
       "  </thead>\n",
       "  <tbody>\n",
       "    <tr>\n",
       "      <th>0</th>\n",
       "      <td>peru</td>\n",
       "      <td>femenino</td>\n",
       "      <td>32</td>\n",
       "      <td>no informa</td>\n",
       "      <td>empleado</td>\n",
       "      <td>matrona</td>\n",
       "      <td>definitiva</td>\n",
       "      <td>t</td>\n",
       "      <td>2006</td>\n",
       "      <td>santiago</td>\n",
       "    </tr>\n",
       "    <tr>\n",
       "      <th>1</th>\n",
       "      <td>ecuador</td>\n",
       "      <td>masculino</td>\n",
       "      <td>58</td>\n",
       "      <td>no informa</td>\n",
       "      <td>empleado</td>\n",
       "      <td>ingeniero</td>\n",
       "      <td>definitiva</td>\n",
       "      <td>t</td>\n",
       "      <td>2007</td>\n",
       "      <td>providencia</td>\n",
       "    </tr>\n",
       "  </tbody>\n",
       "</table>\n",
       "</div>"
      ],
      "text/plain": [
       "      PAIS       SEXO  EDAD    ESTUDIOS ACTIVIDAD  PROFESION   BENEFICIO  \\\n",
       "0     peru   femenino    32  no informa  empleado    matrona  definitiva   \n",
       "1  ecuador  masculino    58  no informa  empleado  ingeniero  definitiva   \n",
       "\n",
       "  TIT_DEP  ANIO       COMUNA  \n",
       "0       t  2006     santiago  \n",
       "1       t  2007  providencia  "
      ]
     },
     "execution_count": 4,
     "metadata": {},
     "output_type": "execute_result"
    }
   ],
   "source": [
    "df.head(2)"
   ]
  },
  {
   "cell_type": "markdown",
   "metadata": {},
   "source": [
    "### 2. Reducir el dadaset a titulares mayores que 18 años y menores que 85"
   ]
  },
  {
   "cell_type": "markdown",
   "metadata": {},
   "source": [
    "`La idea es trabajar con los extranjeros que llegan al pais que tengan poder de decision a cerca de donde van a vivir. Para esto, basado en las análisis de los datos (notebook '02-Analisis-Datos.ipynb'), haremos un filtro en titulares entre 18 y 85 años. No se hará distinción entre los diferentes benefícios: Definitivo y/o Temporário.`"
   ]
  },
  {
   "cell_type": "code",
   "execution_count": 5,
   "metadata": {},
   "outputs": [],
   "source": [
    "df = df[(df.TIT_DEP == 't') & (df.EDAD >=18) & (df.EDAD < 85)]"
   ]
  },
  {
   "cell_type": "code",
   "execution_count": 6,
   "metadata": {},
   "outputs": [
    {
     "data": {
      "text/html": [
       "<div>\n",
       "<style scoped>\n",
       "    .dataframe tbody tr th:only-of-type {\n",
       "        vertical-align: middle;\n",
       "    }\n",
       "\n",
       "    .dataframe tbody tr th {\n",
       "        vertical-align: top;\n",
       "    }\n",
       "\n",
       "    .dataframe thead th {\n",
       "        text-align: right;\n",
       "    }\n",
       "</style>\n",
       "<table border=\"1\" class=\"dataframe\">\n",
       "  <thead>\n",
       "    <tr style=\"text-align: right;\">\n",
       "      <th></th>\n",
       "      <th>PAIS</th>\n",
       "      <th>SEXO</th>\n",
       "      <th>EDAD</th>\n",
       "      <th>ESTUDIOS</th>\n",
       "      <th>ACTIVIDAD</th>\n",
       "      <th>PROFESION</th>\n",
       "      <th>BENEFICIO</th>\n",
       "      <th>TIT_DEP</th>\n",
       "      <th>ANIO</th>\n",
       "      <th>COMUNA</th>\n",
       "    </tr>\n",
       "  </thead>\n",
       "  <tbody>\n",
       "    <tr>\n",
       "      <th>0</th>\n",
       "      <td>peru</td>\n",
       "      <td>femenino</td>\n",
       "      <td>32</td>\n",
       "      <td>no informa</td>\n",
       "      <td>empleado</td>\n",
       "      <td>matrona</td>\n",
       "      <td>definitiva</td>\n",
       "      <td>t</td>\n",
       "      <td>2006</td>\n",
       "      <td>santiago</td>\n",
       "    </tr>\n",
       "    <tr>\n",
       "      <th>1</th>\n",
       "      <td>ecuador</td>\n",
       "      <td>masculino</td>\n",
       "      <td>58</td>\n",
       "      <td>no informa</td>\n",
       "      <td>empleado</td>\n",
       "      <td>ingeniero</td>\n",
       "      <td>definitiva</td>\n",
       "      <td>t</td>\n",
       "      <td>2007</td>\n",
       "      <td>providencia</td>\n",
       "    </tr>\n",
       "  </tbody>\n",
       "</table>\n",
       "</div>"
      ],
      "text/plain": [
       "      PAIS       SEXO  EDAD    ESTUDIOS ACTIVIDAD  PROFESION   BENEFICIO  \\\n",
       "0     peru   femenino    32  no informa  empleado    matrona  definitiva   \n",
       "1  ecuador  masculino    58  no informa  empleado  ingeniero  definitiva   \n",
       "\n",
       "  TIT_DEP  ANIO       COMUNA  \n",
       "0       t  2006     santiago  \n",
       "1       t  2007  providencia  "
      ]
     },
     "execution_count": 6,
     "metadata": {},
     "output_type": "execute_result"
    }
   ],
   "source": [
    "df.reset_index(drop = True, inplace=True)\n",
    "df.head(2)"
   ]
  },
  {
   "cell_type": "code",
   "execution_count": 7,
   "metadata": {},
   "outputs": [
    {
     "data": {
      "text/plain": [
       "613"
      ]
     },
     "execution_count": 7,
     "metadata": {},
     "output_type": "execute_result"
    }
   ],
   "source": [
    "len(df.PROFESION.unique())"
   ]
  },
  {
   "cell_type": "markdown",
   "metadata": {},
   "source": [
    "`Como profesion, se observa que hay un numero muy grande de diferentes valores (613), por lo que denota que no existe critério para la captura de este dato. Esta característica, dada su disperción, no nos parece útil en la preparación de la data para ML y deberá ser deletada.`"
   ]
  },
  {
   "cell_type": "markdown",
   "metadata": {},
   "source": [
    "### 3. Selecionar las columnas de interes"
   ]
  },
  {
   "cell_type": "code",
   "execution_count": 8,
   "metadata": {},
   "outputs": [],
   "source": [
    "df = df[['PAIS', 'SEXO', 'EDAD', 'ESTUDIOS', 'ACTIVIDAD', 'ANIO', 'COMUNA']]"
   ]
  },
  {
   "cell_type": "code",
   "execution_count": 9,
   "metadata": {},
   "outputs": [
    {
     "data": {
      "text/html": [
       "<div>\n",
       "<style scoped>\n",
       "    .dataframe tbody tr th:only-of-type {\n",
       "        vertical-align: middle;\n",
       "    }\n",
       "\n",
       "    .dataframe tbody tr th {\n",
       "        vertical-align: top;\n",
       "    }\n",
       "\n",
       "    .dataframe thead th {\n",
       "        text-align: right;\n",
       "    }\n",
       "</style>\n",
       "<table border=\"1\" class=\"dataframe\">\n",
       "  <thead>\n",
       "    <tr style=\"text-align: right;\">\n",
       "      <th></th>\n",
       "      <th>PAIS</th>\n",
       "      <th>SEXO</th>\n",
       "      <th>EDAD</th>\n",
       "      <th>ESTUDIOS</th>\n",
       "      <th>ACTIVIDAD</th>\n",
       "      <th>ANIO</th>\n",
       "      <th>COMUNA</th>\n",
       "    </tr>\n",
       "  </thead>\n",
       "  <tbody>\n",
       "    <tr>\n",
       "      <th>0</th>\n",
       "      <td>peru</td>\n",
       "      <td>femenino</td>\n",
       "      <td>32</td>\n",
       "      <td>no informa</td>\n",
       "      <td>empleado</td>\n",
       "      <td>2006</td>\n",
       "      <td>santiago</td>\n",
       "    </tr>\n",
       "    <tr>\n",
       "      <th>1</th>\n",
       "      <td>ecuador</td>\n",
       "      <td>masculino</td>\n",
       "      <td>58</td>\n",
       "      <td>no informa</td>\n",
       "      <td>empleado</td>\n",
       "      <td>2007</td>\n",
       "      <td>providencia</td>\n",
       "    </tr>\n",
       "    <tr>\n",
       "      <th>2</th>\n",
       "      <td>brasil</td>\n",
       "      <td>masculino</td>\n",
       "      <td>27</td>\n",
       "      <td>no informa</td>\n",
       "      <td>empresario</td>\n",
       "      <td>2008</td>\n",
       "      <td>las condes</td>\n",
       "    </tr>\n",
       "    <tr>\n",
       "      <th>3</th>\n",
       "      <td>bolivia</td>\n",
       "      <td>femenino</td>\n",
       "      <td>55</td>\n",
       "      <td>no informa</td>\n",
       "      <td>empresario</td>\n",
       "      <td>2007</td>\n",
       "      <td>lampa</td>\n",
       "    </tr>\n",
       "    <tr>\n",
       "      <th>4</th>\n",
       "      <td>el salvador</td>\n",
       "      <td>femenino</td>\n",
       "      <td>41</td>\n",
       "      <td>no informa</td>\n",
       "      <td>inactivo</td>\n",
       "      <td>2007</td>\n",
       "      <td>santiago</td>\n",
       "    </tr>\n",
       "  </tbody>\n",
       "</table>\n",
       "</div>"
      ],
      "text/plain": [
       "          PAIS       SEXO  EDAD    ESTUDIOS   ACTIVIDAD  ANIO       COMUNA\n",
       "0         peru   femenino    32  no informa    empleado  2006     santiago\n",
       "1      ecuador  masculino    58  no informa    empleado  2007  providencia\n",
       "2       brasil  masculino    27  no informa  empresario  2008   las condes\n",
       "3      bolivia   femenino    55  no informa  empresario  2007        lampa\n",
       "4  el salvador   femenino    41  no informa    inactivo  2007     santiago"
      ]
     },
     "execution_count": 9,
     "metadata": {},
     "output_type": "execute_result"
    }
   ],
   "source": [
    "df.head()"
   ]
  },
  {
   "cell_type": "markdown",
   "metadata": {},
   "source": [
    "### 4. Reducir el numero de categorias encontrado en PAIS. \n",
    "`Definamos 20 categorías para pais de origen, definindo labels especificos que contengan 97% extranjeros y un label \"otros'`"
   ]
  },
  {
   "cell_type": "code",
   "execution_count": 10,
   "metadata": {},
   "outputs": [],
   "source": [
    "def simplificaPais(text):\n",
    "    text = text.split(' ')\n",
    "    if 'peru' in text: text = 'peru'\n",
    "    elif 'venezuela' in text: text= 'venezuela'\n",
    "    elif 'haiti' in text: text= 'haiti'\n",
    "    elif 'colombia' in text: text= 'colombia'\n",
    "    elif 'bolivia' in text: text= 'bolivia'\n",
    "    elif 'argentina' in text: text= 'argentina'\n",
    "    elif 'ecuador' in text: text= 'ecuador'\n",
    "    elif 'china' in text: text= 'china'\n",
    "    elif \"espana\" in text: text= \"espana\"\n",
    "    elif 'brasil' in text: text= 'brasil'\n",
    "    elif 'dominicana' in text: text= 'dominicana'\n",
    "    elif 'cuba' in text: text= 'cuba'\n",
    "    elif 'estados' in text: text= 'eua'\n",
    "    elif 'uruguay' in text: text= 'uruguay'\n",
    "    elif 'mexico' in text: text= 'mexico'\n",
    "    elif 'francia' in text: text= 'francia'\n",
    "    elif 'paraguay' in text: text= 'paraguay'\n",
    "    elif 'alemania' in text: text= 'alemania'\n",
    "    elif 'italia' in text: text= 'italia'\n",
    "    else: text = 'otros'\n",
    "    return text "
   ]
  },
  {
   "cell_type": "code",
   "execution_count": 11,
   "metadata": {},
   "outputs": [],
   "source": [
    "df['PAIS'] = df.PAIS.apply(simplificaPais)"
   ]
  },
  {
   "cell_type": "code",
   "execution_count": 12,
   "metadata": {},
   "outputs": [
    {
     "data": {
      "text/plain": [
       "peru          133874\n",
       "venezuela     108842\n",
       "haiti          77039\n",
       "colombia       60867\n",
       "bolivia        16161\n",
       "argentina      15940\n",
       "ecuador        15048\n",
       "otros          13406\n",
       "china           8736\n",
       "espana          8182\n",
       "brasil          7042\n",
       "dominicana      5909\n",
       "cuba            5458\n",
       "eua             3914\n",
       "uruguay         2898\n",
       "mexico          2828\n",
       "francia         2440\n",
       "paraguay        1674\n",
       "alemania        1565\n",
       "italia          1541\n",
       "Name: PAIS, dtype: int64"
      ]
     },
     "execution_count": 12,
     "metadata": {},
     "output_type": "execute_result"
    }
   ],
   "source": [
    "df.PAIS.value_counts()"
   ]
  },
  {
   "cell_type": "markdown",
   "metadata": {},
   "source": [
    "### 5. Converter variables continuas en categoricas"
   ]
  },
  {
   "cell_type": "code",
   "execution_count": 13,
   "metadata": {},
   "outputs": [
    {
     "data": {
      "text/plain": [
       "count    493364.000000\n",
       "mean         34.019740\n",
       "std          10.150718\n",
       "min          18.000000\n",
       "25%          27.000000\n",
       "50%          32.000000\n",
       "75%          39.000000\n",
       "max          84.000000\n",
       "Name: EDAD, dtype: float64"
      ]
     },
     "execution_count": 13,
     "metadata": {},
     "output_type": "execute_result"
    }
   ],
   "source": [
    "df['EDAD'].describe()"
   ]
  },
  {
   "cell_type": "markdown",
   "metadata": {},
   "source": [
    "`En terminos de edad, lo que se procura acá es dividir los extranjeros entre los jovenes que vienen a procura de empezar su vida profesional; los adultos que ya llegan con una vida y/o profesion consolidada y los jubilados.`"
   ]
  },
  {
   "cell_type": "code",
   "execution_count": 14,
   "metadata": {},
   "outputs": [],
   "source": [
    "df['EDAD'] = pd.cut(df['EDAD'], \n",
    "                      bins = [17, 39, 65, 120],\n",
    "                      labels = ['18-39', '40-64', '65+'])"
   ]
  },
  {
   "cell_type": "code",
   "execution_count": 15,
   "metadata": {},
   "outputs": [
    {
     "data": {
      "text/plain": [
       "18-39    373471\n",
       "40-64    115014\n",
       "65+        4879\n",
       "Name: EDAD, dtype: int64"
      ]
     },
     "execution_count": 15,
     "metadata": {},
     "output_type": "execute_result"
    }
   ],
   "source": [
    "df.EDAD.value_counts()"
   ]
  },
  {
   "cell_type": "markdown",
   "metadata": {},
   "source": [
    "`En relación al año en que el extranjero obtuvo su benefício se considera los extranjeros que llegaron pré/pós terremoto de 2010 y los del \"boom\" inmigratório de los últimos años.`"
   ]
  },
  {
   "cell_type": "code",
   "execution_count": 16,
   "metadata": {},
   "outputs": [],
   "source": [
    "df['ANIO'] = pd.cut(df['ANIO'], \n",
    "                      bins = [2004, 2010, 2017, 2019],\n",
    "                      labels = ['2005-09', '2010-16', '2017+'])"
   ]
  },
  {
   "cell_type": "code",
   "execution_count": 17,
   "metadata": {},
   "outputs": [
    {
     "data": {
      "text/plain": [
       "2010-16    303863\n",
       "2017+      126109\n",
       "2005-09     63392\n",
       "Name: ANIO, dtype: int64"
      ]
     },
     "execution_count": 17,
     "metadata": {},
     "output_type": "execute_result"
    }
   ],
   "source": [
    "df.ANIO.value_counts()"
   ]
  },
  {
   "cell_type": "code",
   "execution_count": 18,
   "metadata": {},
   "outputs": [
    {
     "data": {
      "text/html": [
       "<div>\n",
       "<style scoped>\n",
       "    .dataframe tbody tr th:only-of-type {\n",
       "        vertical-align: middle;\n",
       "    }\n",
       "\n",
       "    .dataframe tbody tr th {\n",
       "        vertical-align: top;\n",
       "    }\n",
       "\n",
       "    .dataframe thead th {\n",
       "        text-align: right;\n",
       "    }\n",
       "</style>\n",
       "<table border=\"1\" class=\"dataframe\">\n",
       "  <thead>\n",
       "    <tr style=\"text-align: right;\">\n",
       "      <th></th>\n",
       "      <th>PAIS</th>\n",
       "      <th>SEXO</th>\n",
       "      <th>EDAD</th>\n",
       "      <th>ESTUDIOS</th>\n",
       "      <th>ACTIVIDAD</th>\n",
       "      <th>ANIO</th>\n",
       "      <th>COMUNA</th>\n",
       "    </tr>\n",
       "  </thead>\n",
       "  <tbody>\n",
       "    <tr>\n",
       "      <th>266951</th>\n",
       "      <td>espana</td>\n",
       "      <td>masculino</td>\n",
       "      <td>40-64</td>\n",
       "      <td>universitario</td>\n",
       "      <td>empleado</td>\n",
       "      <td>2010-16</td>\n",
       "      <td>providencia</td>\n",
       "    </tr>\n",
       "    <tr>\n",
       "      <th>304902</th>\n",
       "      <td>venezuela</td>\n",
       "      <td>femenino</td>\n",
       "      <td>18-39</td>\n",
       "      <td>medio</td>\n",
       "      <td>empleado</td>\n",
       "      <td>2010-16</td>\n",
       "      <td>nunoa</td>\n",
       "    </tr>\n",
       "    <tr>\n",
       "      <th>146016</th>\n",
       "      <td>argentina</td>\n",
       "      <td>femenino</td>\n",
       "      <td>18-39</td>\n",
       "      <td>no informa</td>\n",
       "      <td>inactivo</td>\n",
       "      <td>2010-16</td>\n",
       "      <td>las condes</td>\n",
       "    </tr>\n",
       "    <tr>\n",
       "      <th>81171</th>\n",
       "      <td>francia</td>\n",
       "      <td>masculino</td>\n",
       "      <td>18-39</td>\n",
       "      <td>universitario</td>\n",
       "      <td>empleado</td>\n",
       "      <td>2005-09</td>\n",
       "      <td>vitacura</td>\n",
       "    </tr>\n",
       "    <tr>\n",
       "      <th>83370</th>\n",
       "      <td>espana</td>\n",
       "      <td>masculino</td>\n",
       "      <td>40-64</td>\n",
       "      <td>tecnico</td>\n",
       "      <td>inactivo</td>\n",
       "      <td>2010-16</td>\n",
       "      <td>la florida</td>\n",
       "    </tr>\n",
       "  </tbody>\n",
       "</table>\n",
       "</div>"
      ],
      "text/plain": [
       "             PAIS       SEXO   EDAD       ESTUDIOS ACTIVIDAD     ANIO  \\\n",
       "266951     espana  masculino  40-64  universitario  empleado  2010-16   \n",
       "304902  venezuela   femenino  18-39          medio  empleado  2010-16   \n",
       "146016  argentina   femenino  18-39     no informa  inactivo  2010-16   \n",
       "81171     francia  masculino  18-39  universitario  empleado  2005-09   \n",
       "83370      espana  masculino  40-64        tecnico  inactivo  2010-16   \n",
       "\n",
       "             COMUNA  \n",
       "266951  providencia  \n",
       "304902        nunoa  \n",
       "146016   las condes  \n",
       "81171      vitacura  \n",
       "83370    la florida  "
      ]
     },
     "execution_count": 18,
     "metadata": {},
     "output_type": "execute_result"
    }
   ],
   "source": [
    "df.sample(5)"
   ]
  },
  {
   "cell_type": "markdown",
   "metadata": {},
   "source": [
    "### 6. Reducir el numero de clases para COMUNA. "
   ]
  },
  {
   "cell_type": "markdown",
   "metadata": {},
   "source": [
    "`COMUNA será nuestra variable dependente (y),pues la idea es predicir donde vivería un extranjero que llega a región Metropoitana. La RM posue 52 comunas, las cuales deberán ser agrupadas en clusters (sectores). En la análisis de los datos se observó que en general los extranjeros se quedan en subregiones, por lo tanto reduciremos COMUNA a 6 clases:`\n",
    "- centro\n",
    "- poniente \n",
    "- oriente \n",
    "- sureste\n",
    "- sur\n",
    "- norte"
   ]
  },
  {
   "cell_type": "markdown",
   "metadata": {},
   "source": [
    "**El mapa abajo, muestra como estarán distribuídas las comunas:**"
   ]
  },
  {
   "cell_type": "markdown",
   "metadata": {},
   "source": [
    "<p><img src=\"./images/RM_comunas.png\"></p>"
   ]
  },
  {
   "cell_type": "code",
   "execution_count": 19,
   "metadata": {},
   "outputs": [],
   "source": [
    "def clusterRM(text):\n",
    "    centro = ['santiago']\n",
    "    oriente = ['providencia', 'vitacura', 'lo barnechea', 'las condes', 'la reina', 'nunoa']\n",
    "    sureste = ['san jose de maipo', 'macul', 'la florida', 'penalolen',]\n",
    "    sur = ['alhue', 'calera de tango', 'buin', 'isla de maipo', 'el bosque', 'paine', 'la granja', 'pedro aguirre cerda', 'lo espejo', 'puente alto', 'san joaquin', 'san miguel', 'pirque', 'san bernardo', 'san ramon', 'la cisterna', 'talagante', 'la pintana', ]\n",
    "    norte = ['tiltil', 'renca', 'quinta normal', 'cerro navia', 'lampa', 'conchali', 'recoleta', 'independencia', 'colina', 'huechuraba', 'quilicura', ]\n",
    "    poniente = ['san pedro', 'maria pinto', 'el monte', 'curacavi', 'padre hurtado', 'melipilla', 'estacion central', 'maipu', 'lo prado', 'pudahuel', 'penaflor', 'cerrillos', ]\n",
    "    if   text in centro:  text = 'centro'\n",
    "    elif text in oriente: text = 'oriente'\n",
    "    elif text in sureste: text = 'sureste'\n",
    "    elif text in sur:     text = 'sur'\n",
    "    elif text in norte:   text = 'norte'\n",
    "    elif text in poniente: text = 'poniente'\n",
    "    else: text = 'otras'\n",
    "    return text "
   ]
  },
  {
   "cell_type": "code",
   "execution_count": 20,
   "metadata": {},
   "outputs": [],
   "source": [
    "data = df.copy()"
   ]
  },
  {
   "cell_type": "code",
   "execution_count": 21,
   "metadata": {},
   "outputs": [],
   "source": [
    "data['COMUNA'] = data.COMUNA.apply(clusterRM)"
   ]
  },
  {
   "cell_type": "code",
   "execution_count": 22,
   "metadata": {},
   "outputs": [
    {
     "data": {
      "text/plain": [
       "centro      139020\n",
       "norte       116910\n",
       "oriente      83530\n",
       "sur          64173\n",
       "poniente     63063\n",
       "sureste      26668\n",
       "Name: COMUNA, dtype: int64"
      ]
     },
     "execution_count": 22,
     "metadata": {},
     "output_type": "execute_result"
    }
   ],
   "source": [
    "data.COMUNA.value_counts()"
   ]
  },
  {
   "cell_type": "code",
   "execution_count": 23,
   "metadata": {},
   "outputs": [
    {
     "data": {
      "text/html": [
       "<div>\n",
       "<style scoped>\n",
       "    .dataframe tbody tr th:only-of-type {\n",
       "        vertical-align: middle;\n",
       "    }\n",
       "\n",
       "    .dataframe tbody tr th {\n",
       "        vertical-align: top;\n",
       "    }\n",
       "\n",
       "    .dataframe thead th {\n",
       "        text-align: right;\n",
       "    }\n",
       "</style>\n",
       "<table border=\"1\" class=\"dataframe\">\n",
       "  <thead>\n",
       "    <tr style=\"text-align: right;\">\n",
       "      <th></th>\n",
       "      <th>PAIS</th>\n",
       "      <th>SEXO</th>\n",
       "      <th>EDAD</th>\n",
       "      <th>ESTUDIOS</th>\n",
       "      <th>ACTIVIDAD</th>\n",
       "      <th>ANIO</th>\n",
       "      <th>COMUNA</th>\n",
       "    </tr>\n",
       "  </thead>\n",
       "  <tbody>\n",
       "    <tr>\n",
       "      <th>413029</th>\n",
       "      <td>venezuela</td>\n",
       "      <td>masculino</td>\n",
       "      <td>18-39</td>\n",
       "      <td>medio</td>\n",
       "      <td>empleado</td>\n",
       "      <td>2017+</td>\n",
       "      <td>centro</td>\n",
       "    </tr>\n",
       "    <tr>\n",
       "      <th>47448</th>\n",
       "      <td>peru</td>\n",
       "      <td>femenino</td>\n",
       "      <td>40-64</td>\n",
       "      <td>medio</td>\n",
       "      <td>domestico</td>\n",
       "      <td>2005-09</td>\n",
       "      <td>sur</td>\n",
       "    </tr>\n",
       "    <tr>\n",
       "      <th>488717</th>\n",
       "      <td>peru</td>\n",
       "      <td>femenino</td>\n",
       "      <td>40-64</td>\n",
       "      <td>medio</td>\n",
       "      <td>empleado</td>\n",
       "      <td>2017+</td>\n",
       "      <td>centro</td>\n",
       "    </tr>\n",
       "    <tr>\n",
       "      <th>466391</th>\n",
       "      <td>haiti</td>\n",
       "      <td>masculino</td>\n",
       "      <td>18-39</td>\n",
       "      <td>medio</td>\n",
       "      <td>obrero</td>\n",
       "      <td>2017+</td>\n",
       "      <td>sur</td>\n",
       "    </tr>\n",
       "    <tr>\n",
       "      <th>462661</th>\n",
       "      <td>haiti</td>\n",
       "      <td>femenino</td>\n",
       "      <td>18-39</td>\n",
       "      <td>no informa</td>\n",
       "      <td>empleado</td>\n",
       "      <td>2017+</td>\n",
       "      <td>sur</td>\n",
       "    </tr>\n",
       "  </tbody>\n",
       "</table>\n",
       "</div>"
      ],
      "text/plain": [
       "             PAIS       SEXO   EDAD    ESTUDIOS  ACTIVIDAD     ANIO  COMUNA\n",
       "413029  venezuela  masculino  18-39       medio   empleado    2017+  centro\n",
       "47448        peru   femenino  40-64       medio  domestico  2005-09     sur\n",
       "488717       peru   femenino  40-64       medio   empleado    2017+  centro\n",
       "466391      haiti  masculino  18-39       medio     obrero    2017+     sur\n",
       "462661      haiti   femenino  18-39  no informa   empleado    2017+     sur"
      ]
     },
     "execution_count": 23,
     "metadata": {},
     "output_type": "execute_result"
    }
   ],
   "source": [
    "data.sample(5)"
   ]
  },
  {
   "cell_type": "code",
   "execution_count": 24,
   "metadata": {
    "scrolled": true
   },
   "outputs": [
    {
     "name": "stdout",
     "output_type": "stream",
     "text": [
      "<class 'pandas.core.frame.DataFrame'>\n",
      "RangeIndex: 493364 entries, 0 to 493363\n",
      "Data columns (total 7 columns):\n",
      "PAIS         493364 non-null object\n",
      "SEXO         493364 non-null object\n",
      "EDAD         493364 non-null category\n",
      "ESTUDIOS     493364 non-null object\n",
      "ACTIVIDAD    493364 non-null object\n",
      "ANIO         493364 non-null category\n",
      "COMUNA       493364 non-null object\n",
      "dtypes: category(2), object(5)\n",
      "memory usage: 19.8+ MB\n"
     ]
    }
   ],
   "source": [
    "data.info()"
   ]
  },
  {
   "cell_type": "markdown",
   "metadata": {},
   "source": [
    "### 7. Codificar variable target (COMUNA) con Label Encoder"
   ]
  },
  {
   "cell_type": "code",
   "execution_count": 25,
   "metadata": {},
   "outputs": [],
   "source": [
    "com = LabelEncoder() \n",
    "data['COMUNA'] = com.fit_transform(data.COMUNA)"
   ]
  },
  {
   "cell_type": "code",
   "execution_count": 26,
   "metadata": {},
   "outputs": [
    {
     "data": {
      "text/html": [
       "<div>\n",
       "<style scoped>\n",
       "    .dataframe tbody tr th:only-of-type {\n",
       "        vertical-align: middle;\n",
       "    }\n",
       "\n",
       "    .dataframe tbody tr th {\n",
       "        vertical-align: top;\n",
       "    }\n",
       "\n",
       "    .dataframe thead th {\n",
       "        text-align: right;\n",
       "    }\n",
       "</style>\n",
       "<table border=\"1\" class=\"dataframe\">\n",
       "  <thead>\n",
       "    <tr style=\"text-align: right;\">\n",
       "      <th></th>\n",
       "      <th>PAIS</th>\n",
       "      <th>SEXO</th>\n",
       "      <th>EDAD</th>\n",
       "      <th>ESTUDIOS</th>\n",
       "      <th>ACTIVIDAD</th>\n",
       "      <th>ANIO</th>\n",
       "      <th>COMUNA</th>\n",
       "    </tr>\n",
       "  </thead>\n",
       "  <tbody>\n",
       "    <tr>\n",
       "      <th>0</th>\n",
       "      <td>peru</td>\n",
       "      <td>femenino</td>\n",
       "      <td>18-39</td>\n",
       "      <td>no informa</td>\n",
       "      <td>empleado</td>\n",
       "      <td>2005-09</td>\n",
       "      <td>0</td>\n",
       "    </tr>\n",
       "    <tr>\n",
       "      <th>1</th>\n",
       "      <td>ecuador</td>\n",
       "      <td>masculino</td>\n",
       "      <td>40-64</td>\n",
       "      <td>no informa</td>\n",
       "      <td>empleado</td>\n",
       "      <td>2005-09</td>\n",
       "      <td>2</td>\n",
       "    </tr>\n",
       "    <tr>\n",
       "      <th>2</th>\n",
       "      <td>brasil</td>\n",
       "      <td>masculino</td>\n",
       "      <td>18-39</td>\n",
       "      <td>no informa</td>\n",
       "      <td>empresario</td>\n",
       "      <td>2005-09</td>\n",
       "      <td>2</td>\n",
       "    </tr>\n",
       "    <tr>\n",
       "      <th>3</th>\n",
       "      <td>bolivia</td>\n",
       "      <td>femenino</td>\n",
       "      <td>40-64</td>\n",
       "      <td>no informa</td>\n",
       "      <td>empresario</td>\n",
       "      <td>2005-09</td>\n",
       "      <td>1</td>\n",
       "    </tr>\n",
       "    <tr>\n",
       "      <th>4</th>\n",
       "      <td>otros</td>\n",
       "      <td>femenino</td>\n",
       "      <td>40-64</td>\n",
       "      <td>no informa</td>\n",
       "      <td>inactivo</td>\n",
       "      <td>2005-09</td>\n",
       "      <td>0</td>\n",
       "    </tr>\n",
       "  </tbody>\n",
       "</table>\n",
       "</div>"
      ],
      "text/plain": [
       "      PAIS       SEXO   EDAD    ESTUDIOS   ACTIVIDAD     ANIO  COMUNA\n",
       "0     peru   femenino  18-39  no informa    empleado  2005-09       0\n",
       "1  ecuador  masculino  40-64  no informa    empleado  2005-09       2\n",
       "2   brasil  masculino  18-39  no informa  empresario  2005-09       2\n",
       "3  bolivia   femenino  40-64  no informa  empresario  2005-09       1\n",
       "4    otros   femenino  40-64  no informa    inactivo  2005-09       0"
      ]
     },
     "execution_count": 26,
     "metadata": {},
     "output_type": "execute_result"
    }
   ],
   "source": [
    "data.head()"
   ]
  },
  {
   "cell_type": "markdown",
   "metadata": {},
   "source": [
    "### 8. Codificar las demás variables categoricas como numéricas"
   ]
  },
  {
   "cell_type": "markdown",
   "metadata": {},
   "source": [
    "`La variable SEXO será codificada como numerica binária, con \"Label Encoder\".` "
   ]
  },
  {
   "cell_type": "code",
   "execution_count": 27,
   "metadata": {},
   "outputs": [],
   "source": [
    "sex = LabelEncoder() \n",
    "data['SEXO'] = sex.fit_transform(data.SEXO)"
   ]
  },
  {
   "cell_type": "markdown",
   "metadata": {},
   "source": [
    "`Para las demás, como la ordenen no tiene mucho sentido, se trabajará con la técnica de \"One Hot Encoder\".`"
   ]
  },
  {
   "cell_type": "code",
   "execution_count": 28,
   "metadata": {},
   "outputs": [],
   "source": [
    "data = pd.concat([data, pd.get_dummies(data.PAIS)], axis = 1)"
   ]
  },
  {
   "cell_type": "code",
   "execution_count": 29,
   "metadata": {},
   "outputs": [],
   "source": [
    "data = pd.concat([data, pd.get_dummies(data.EDAD)], axis = 1)\n",
    "data = pd.concat([data, pd.get_dummies(data.ESTUDIOS)], axis = 1)\n",
    "data = pd.concat([data, pd.get_dummies(data.ACTIVIDAD)], axis = 1)\n",
    "data = pd.concat([data, pd.get_dummies(data.ANIO)], axis = 1)"
   ]
  },
  {
   "cell_type": "markdown",
   "metadata": {},
   "source": [
    "`Las columnas originales deben ser deletadas, como también la columna 'otros' que fue generada, pues en caso de que un extranjero no sea de ningún de los 19 paises (todas columnas en cero), el será obrigatóriamente de 'otros'` "
   ]
  },
  {
   "cell_type": "code",
   "execution_count": 30,
   "metadata": {},
   "outputs": [],
   "source": [
    "del data['PAIS']\n",
    "del data['EDAD']\n",
    "del data['ESTUDIOS']\n",
    "del data['ACTIVIDAD']\n",
    "del data['ANIO']"
   ]
  },
  {
   "cell_type": "code",
   "execution_count": 31,
   "metadata": {},
   "outputs": [],
   "source": [
    "del data['otros']"
   ]
  },
  {
   "cell_type": "code",
   "execution_count": 32,
   "metadata": {},
   "outputs": [
    {
     "data": {
      "text/html": [
       "<div>\n",
       "<style scoped>\n",
       "    .dataframe tbody tr th:only-of-type {\n",
       "        vertical-align: middle;\n",
       "    }\n",
       "\n",
       "    .dataframe tbody tr th {\n",
       "        vertical-align: top;\n",
       "    }\n",
       "\n",
       "    .dataframe thead th {\n",
       "        text-align: right;\n",
       "    }\n",
       "</style>\n",
       "<table border=\"1\" class=\"dataframe\">\n",
       "  <thead>\n",
       "    <tr style=\"text-align: right;\">\n",
       "      <th></th>\n",
       "      <th>SEXO</th>\n",
       "      <th>COMUNA</th>\n",
       "      <th>alemania</th>\n",
       "      <th>argentina</th>\n",
       "      <th>bolivia</th>\n",
       "      <th>brasil</th>\n",
       "      <th>china</th>\n",
       "      <th>colombia</th>\n",
       "      <th>cuba</th>\n",
       "      <th>dominicana</th>\n",
       "      <th>...</th>\n",
       "      <th>empresario</th>\n",
       "      <th>estudiante</th>\n",
       "      <th>inactivo</th>\n",
       "      <th>jubilado</th>\n",
       "      <th>no_informa</th>\n",
       "      <th>obrero</th>\n",
       "      <th>religioso</th>\n",
       "      <th>2005-09</th>\n",
       "      <th>2010-16</th>\n",
       "      <th>2017+</th>\n",
       "    </tr>\n",
       "  </thead>\n",
       "  <tbody>\n",
       "    <tr>\n",
       "      <th>0</th>\n",
       "      <td>0</td>\n",
       "      <td>0</td>\n",
       "      <td>0</td>\n",
       "      <td>0</td>\n",
       "      <td>0</td>\n",
       "      <td>0</td>\n",
       "      <td>0</td>\n",
       "      <td>0</td>\n",
       "      <td>0</td>\n",
       "      <td>0</td>\n",
       "      <td>...</td>\n",
       "      <td>0</td>\n",
       "      <td>0</td>\n",
       "      <td>0</td>\n",
       "      <td>0</td>\n",
       "      <td>0</td>\n",
       "      <td>0</td>\n",
       "      <td>0</td>\n",
       "      <td>1</td>\n",
       "      <td>0</td>\n",
       "      <td>0</td>\n",
       "    </tr>\n",
       "    <tr>\n",
       "      <th>1</th>\n",
       "      <td>1</td>\n",
       "      <td>2</td>\n",
       "      <td>0</td>\n",
       "      <td>0</td>\n",
       "      <td>0</td>\n",
       "      <td>0</td>\n",
       "      <td>0</td>\n",
       "      <td>0</td>\n",
       "      <td>0</td>\n",
       "      <td>0</td>\n",
       "      <td>...</td>\n",
       "      <td>0</td>\n",
       "      <td>0</td>\n",
       "      <td>0</td>\n",
       "      <td>0</td>\n",
       "      <td>0</td>\n",
       "      <td>0</td>\n",
       "      <td>0</td>\n",
       "      <td>1</td>\n",
       "      <td>0</td>\n",
       "      <td>0</td>\n",
       "    </tr>\n",
       "    <tr>\n",
       "      <th>2</th>\n",
       "      <td>1</td>\n",
       "      <td>2</td>\n",
       "      <td>0</td>\n",
       "      <td>0</td>\n",
       "      <td>0</td>\n",
       "      <td>1</td>\n",
       "      <td>0</td>\n",
       "      <td>0</td>\n",
       "      <td>0</td>\n",
       "      <td>0</td>\n",
       "      <td>...</td>\n",
       "      <td>1</td>\n",
       "      <td>0</td>\n",
       "      <td>0</td>\n",
       "      <td>0</td>\n",
       "      <td>0</td>\n",
       "      <td>0</td>\n",
       "      <td>0</td>\n",
       "      <td>1</td>\n",
       "      <td>0</td>\n",
       "      <td>0</td>\n",
       "    </tr>\n",
       "    <tr>\n",
       "      <th>3</th>\n",
       "      <td>0</td>\n",
       "      <td>1</td>\n",
       "      <td>0</td>\n",
       "      <td>0</td>\n",
       "      <td>1</td>\n",
       "      <td>0</td>\n",
       "      <td>0</td>\n",
       "      <td>0</td>\n",
       "      <td>0</td>\n",
       "      <td>0</td>\n",
       "      <td>...</td>\n",
       "      <td>1</td>\n",
       "      <td>0</td>\n",
       "      <td>0</td>\n",
       "      <td>0</td>\n",
       "      <td>0</td>\n",
       "      <td>0</td>\n",
       "      <td>0</td>\n",
       "      <td>1</td>\n",
       "      <td>0</td>\n",
       "      <td>0</td>\n",
       "    </tr>\n",
       "    <tr>\n",
       "      <th>4</th>\n",
       "      <td>0</td>\n",
       "      <td>0</td>\n",
       "      <td>0</td>\n",
       "      <td>0</td>\n",
       "      <td>0</td>\n",
       "      <td>0</td>\n",
       "      <td>0</td>\n",
       "      <td>0</td>\n",
       "      <td>0</td>\n",
       "      <td>0</td>\n",
       "      <td>...</td>\n",
       "      <td>0</td>\n",
       "      <td>0</td>\n",
       "      <td>1</td>\n",
       "      <td>0</td>\n",
       "      <td>0</td>\n",
       "      <td>0</td>\n",
       "      <td>0</td>\n",
       "      <td>1</td>\n",
       "      <td>0</td>\n",
       "      <td>0</td>\n",
       "    </tr>\n",
       "  </tbody>\n",
       "</table>\n",
       "<p>5 rows × 42 columns</p>\n",
       "</div>"
      ],
      "text/plain": [
       "   SEXO  COMUNA  alemania  argentina  bolivia  brasil  china  colombia  cuba  \\\n",
       "0     0       0         0          0        0       0      0         0     0   \n",
       "1     1       2         0          0        0       0      0         0     0   \n",
       "2     1       2         0          0        0       1      0         0     0   \n",
       "3     0       1         0          0        1       0      0         0     0   \n",
       "4     0       0         0          0        0       0      0         0     0   \n",
       "\n",
       "   dominicana  ...    empresario  estudiante  inactivo  jubilado  no_informa  \\\n",
       "0           0  ...             0           0         0         0           0   \n",
       "1           0  ...             0           0         0         0           0   \n",
       "2           0  ...             1           0         0         0           0   \n",
       "3           0  ...             1           0         0         0           0   \n",
       "4           0  ...             0           0         1         0           0   \n",
       "\n",
       "   obrero  religioso  2005-09  2010-16  2017+  \n",
       "0       0          0        1        0      0  \n",
       "1       0          0        1        0      0  \n",
       "2       0          0        1        0      0  \n",
       "3       0          0        1        0      0  \n",
       "4       0          0        1        0      0  \n",
       "\n",
       "[5 rows x 42 columns]"
      ]
     },
     "execution_count": 32,
     "metadata": {},
     "output_type": "execute_result"
    }
   ],
   "source": [
    "data.head()"
   ]
  },
  {
   "cell_type": "markdown",
   "metadata": {},
   "source": [
    "`En este punto, el dataset ya está listo para ser trabajado por los algoritimos de Machine Learning. El dataset limpio y preparado (\"ML_extranjeros_rm.xlsx\") será entonces salvado para posterio uso:`"
   ]
  },
  {
   "cell_type": "code",
   "execution_count": 33,
   "metadata": {},
   "outputs": [],
   "source": [
    "data.to_excel('./data/ML_extranjeros_rm.xlsx')"
   ]
  },
  {
   "cell_type": "markdown",
   "metadata": {},
   "source": [
    "### 9. Observaciónes finales"
   ]
  },
  {
   "cell_type": "markdown",
   "metadata": {},
   "source": [
    "`En el proyecto de Machine Learning, una vez que se trabajará con modelos de clasificación supervisionados, el dataset deberá ser separado en un array 'X' con las características y un vector 'y' con la variable target.`"
   ]
  },
  {
   "cell_type": "code",
   "execution_count": 34,
   "metadata": {},
   "outputs": [],
   "source": [
    "X = data.copy()\n",
    "y = X.pop('COMUNA').values"
   ]
  },
  {
   "cell_type": "code",
   "execution_count": 35,
   "metadata": {},
   "outputs": [
    {
     "data": {
      "text/plain": [
       "array([0, 2, 2, ..., 1, 1, 1])"
      ]
     },
     "execution_count": 35,
     "metadata": {},
     "output_type": "execute_result"
    }
   ],
   "source": [
    "y"
   ]
  },
  {
   "cell_type": "code",
   "execution_count": 36,
   "metadata": {},
   "outputs": [
    {
     "data": {
      "text/html": [
       "<div>\n",
       "<style scoped>\n",
       "    .dataframe tbody tr th:only-of-type {\n",
       "        vertical-align: middle;\n",
       "    }\n",
       "\n",
       "    .dataframe tbody tr th {\n",
       "        vertical-align: top;\n",
       "    }\n",
       "\n",
       "    .dataframe thead th {\n",
       "        text-align: right;\n",
       "    }\n",
       "</style>\n",
       "<table border=\"1\" class=\"dataframe\">\n",
       "  <thead>\n",
       "    <tr style=\"text-align: right;\">\n",
       "      <th></th>\n",
       "      <th>SEXO</th>\n",
       "      <th>alemania</th>\n",
       "      <th>argentina</th>\n",
       "      <th>bolivia</th>\n",
       "      <th>brasil</th>\n",
       "      <th>china</th>\n",
       "      <th>colombia</th>\n",
       "      <th>cuba</th>\n",
       "      <th>dominicana</th>\n",
       "      <th>ecuador</th>\n",
       "      <th>...</th>\n",
       "      <th>empresario</th>\n",
       "      <th>estudiante</th>\n",
       "      <th>inactivo</th>\n",
       "      <th>jubilado</th>\n",
       "      <th>no_informa</th>\n",
       "      <th>obrero</th>\n",
       "      <th>religioso</th>\n",
       "      <th>2005-09</th>\n",
       "      <th>2010-16</th>\n",
       "      <th>2017+</th>\n",
       "    </tr>\n",
       "  </thead>\n",
       "  <tbody>\n",
       "    <tr>\n",
       "      <th>0</th>\n",
       "      <td>0</td>\n",
       "      <td>0</td>\n",
       "      <td>0</td>\n",
       "      <td>0</td>\n",
       "      <td>0</td>\n",
       "      <td>0</td>\n",
       "      <td>0</td>\n",
       "      <td>0</td>\n",
       "      <td>0</td>\n",
       "      <td>0</td>\n",
       "      <td>...</td>\n",
       "      <td>0</td>\n",
       "      <td>0</td>\n",
       "      <td>0</td>\n",
       "      <td>0</td>\n",
       "      <td>0</td>\n",
       "      <td>0</td>\n",
       "      <td>0</td>\n",
       "      <td>1</td>\n",
       "      <td>0</td>\n",
       "      <td>0</td>\n",
       "    </tr>\n",
       "    <tr>\n",
       "      <th>1</th>\n",
       "      <td>1</td>\n",
       "      <td>0</td>\n",
       "      <td>0</td>\n",
       "      <td>0</td>\n",
       "      <td>0</td>\n",
       "      <td>0</td>\n",
       "      <td>0</td>\n",
       "      <td>0</td>\n",
       "      <td>0</td>\n",
       "      <td>1</td>\n",
       "      <td>...</td>\n",
       "      <td>0</td>\n",
       "      <td>0</td>\n",
       "      <td>0</td>\n",
       "      <td>0</td>\n",
       "      <td>0</td>\n",
       "      <td>0</td>\n",
       "      <td>0</td>\n",
       "      <td>1</td>\n",
       "      <td>0</td>\n",
       "      <td>0</td>\n",
       "    </tr>\n",
       "  </tbody>\n",
       "</table>\n",
       "<p>2 rows × 41 columns</p>\n",
       "</div>"
      ],
      "text/plain": [
       "   SEXO  alemania  argentina  bolivia  brasil  china  colombia  cuba  \\\n",
       "0     0         0          0        0       0      0         0     0   \n",
       "1     1         0          0        0       0      0         0     0   \n",
       "\n",
       "   dominicana  ecuador  ...    empresario  estudiante  inactivo  jubilado  \\\n",
       "0           0        0  ...             0           0         0         0   \n",
       "1           0        1  ...             0           0         0         0   \n",
       "\n",
       "   no_informa  obrero  religioso  2005-09  2010-16  2017+  \n",
       "0           0       0          0        1        0      0  \n",
       "1           0       0          0        1        0      0  \n",
       "\n",
       "[2 rows x 41 columns]"
      ]
     },
     "execution_count": 36,
     "metadata": {},
     "output_type": "execute_result"
    }
   ],
   "source": [
    "X.head(2)"
   ]
  },
  {
   "cell_type": "markdown",
   "metadata": {},
   "source": [
    "`En se tratando de clasificación, en el trabajo de ML, se hará testes con los seguintes modelos:`"
   ]
  },
  {
   "cell_type": "markdown",
   "metadata": {},
   "source": [
    "- Naive Bayes\n",
    "- Decision Trees\n",
    "- Randon Forest\n",
    "- Logistic Regression\n",
    "- Linear support vector Classificator"
   ]
  },
  {
   "cell_type": "markdown",
   "metadata": {},
   "source": [
    "---"
   ]
  }
 ],
 "metadata": {
  "kernelspec": {
   "display_name": "Python 3",
   "language": "python",
   "name": "python3"
  },
  "language_info": {
   "codemirror_mode": {
    "name": "ipython",
    "version": 3
   },
   "file_extension": ".py",
   "mimetype": "text/x-python",
   "name": "python",
   "nbconvert_exporter": "python",
   "pygments_lexer": "ipython3",
   "version": "3.6.4"
  }
 },
 "nbformat": 4,
 "nbformat_minor": 2
}
