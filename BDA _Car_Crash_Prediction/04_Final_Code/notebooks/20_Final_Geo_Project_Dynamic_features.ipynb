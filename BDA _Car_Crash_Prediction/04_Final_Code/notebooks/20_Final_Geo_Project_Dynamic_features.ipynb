{
 "cells": [
  {
   "cell_type": "markdown",
   "metadata": {},
   "source": [
    "# Modelo predictivo  (Espacial) de siniestros en las calles de Santiago\n",
    "- UDD - MDS18 - BDA\n",
    "- Final Delivery \n",
    "- 20_Final_Geo_Project_Dynamic_features\n",
    "- 09 August 2019"
   ]
  },
  {
   "cell_type": "markdown",
   "metadata": {},
   "source": [
    "**CHANGE KERNEL:** geo_p_3_7"
   ]
  },
  {
   "cell_type": "markdown",
   "metadata": {},
   "source": [
    "## Datasets (Landing)"
   ]
  },
  {
   "cell_type": "markdown",
   "metadata": {},
   "source": [
    "###  CONASET\n",
    "http://mapas-conaset.opendata.arcgis.com/search?groupIds=fca1f61c6556499db843c09cc80c70c0"
   ]
  },
  {
   "cell_type": "markdown",
   "metadata": {},
   "source": [
    "Estas capas contienen la geocodificación de los accidentes de tránsito registrados en la Región Metropolitana entre los años 2013 y 2018. Contiene los detalles de fecha (en la mayoria solo día/mes), tipo de accidente, causa basal del accidente, dirección donde ocurrió el accidente, fallecidos y lesionados según gravedad. \n",
    "- [Siniestros RM - 2013](http://mapas-conaset.opendata.arcgis.com/datasets/12cb58c27a2846dfa60cf629a14d611a_0)\n",
    "- [Siniestros RM - 2014](http://mapas-conaset.opendata.arcgis.com/datasets/aa5b5322bc564b809aa29c70658b9cf9_0)\n",
    "- [Siniestros RM - 2015](http://mapas-conaset.opendata.arcgis.com/datasets/dafa26dbce99467985596d8a58216b79_0)\n",
    "- [Siniestros RM - 2016](http://mapas-conaset.opendata.arcgis.com/datasets/32ee49c703b840b885b9c80b37ae72d0_0)\n",
    "- [Siniestros RM - 2017](http://mapas-conaset.opendata.arcgis.com/datasets/907addac92b74e3fa30d40edb72d1813_0)\n",
    "- [Siniestros RM - 2018](http://mapas-conaset.opendata.arcgis.com/datasets/3a084373b58b45d0ae01d9c14a231cf8_0)"
   ]
  },
  {
   "cell_type": "markdown",
   "metadata": {},
   "source": [
    "`Year Columns order are different. Need to be corrected before be concatenated` "
   ]
  },
  {
   "cell_type": "markdown",
   "metadata": {},
   "source": [
    "### OpenStreetMap\n",
    "- POI and streets of Santiago\n",
    "<br><br>\n",
    "http://download.geofabrik.de/south-america/chile.html"
   ]
  },
  {
   "cell_type": "markdown",
   "metadata": {},
   "source": [
    "## Main Libraries"
   ]
  },
  {
   "cell_type": "code",
   "execution_count": 1,
   "metadata": {
    "ExecuteTime": {
     "end_time": "2019-08-03T12:57:23.344140Z",
     "start_time": "2019-08-03T12:56:58.385836Z"
    }
   },
   "outputs": [],
   "source": [
    "from math import radians, cos, sin, asin, sqrt, atan2\n",
    "import numpy as np\n",
    "import pandas as pd\n",
    "import matplotlib.pyplot as plt\n",
    "import matplotlib as mpl\n",
    "from pylab import rcParams\n",
    "import seaborn as sns\n",
    "import folium\n",
    "import networkx as nx\n",
    "import osmnx as ox\n",
    "import geopandas as gpd\n",
    "from shapely.geometry import Point, Polygon, LineString, MultiLineString\n",
    "import shapefile as shp\n",
    "import gpd_lite_toolbox as glt\n",
    "from gpd_lite_toolbox.utils_carto import m_plot_dataframe, m_plot_multipolygon\n",
    "import warnings\n",
    "warnings.filterwarnings('ignore')"
   ]
  },
  {
   "cell_type": "code",
   "execution_count": 2,
   "metadata": {
    "ExecuteTime": {
     "end_time": "2019-08-03T12:57:26.239978Z",
     "start_time": "2019-08-03T12:57:26.230561Z"
    }
   },
   "outputs": [],
   "source": [
    "sns.set(context='paper', style='ticks', palette='inferno')\n",
    "sns.mpl.rc(\"figure\", figsize=(10, 6))\n",
    "mpl.rcParams['figure.dpi']= 150"
   ]
  },
  {
   "cell_type": "markdown",
   "metadata": {},
   "source": [
    "## Main Functions"
   ]
  },
  {
   "cell_type": "code",
   "execution_count": 3,
   "metadata": {
    "ExecuteTime": {
     "end_time": "2019-08-03T12:57:27.724168Z",
     "start_time": "2019-08-03T12:57:27.721204Z"
    }
   },
   "outputs": [],
   "source": [
    "def intersection(municipality, urban_area):\n",
    "    return municipality.intersection(urban_area)"
   ]
  },
  {
   "cell_type": "code",
   "execution_count": 4,
   "metadata": {
    "ExecuteTime": {
     "end_time": "2019-08-03T12:57:28.401550Z",
     "start_time": "2019-08-03T12:57:28.398840Z"
    }
   },
   "outputs": [],
   "source": [
    "def urban_part(municipality):\n",
    "    return intersection(municipality, stgo)"
   ]
  },
  {
   "cell_type": "markdown",
   "metadata": {},
   "source": [
    "## Getting Raw Data"
   ]
  },
  {
   "cell_type": "markdown",
   "metadata": {},
   "source": [
    "### Loading data from CONASET"
   ]
  },
  {
   "cell_type": "code",
   "execution_count": 5,
   "metadata": {
    "ExecuteTime": {
     "end_time": "2019-08-03T12:57:30.381493Z",
     "start_time": "2019-08-03T12:57:30.235675Z"
    }
   },
   "outputs": [
    {
     "name": "stdout",
     "output_type": "stream",
     "text": [
      "\u001b[34mSiniestrosRM2013\u001b[m\u001b[m/   \u001b[34mSiniestrosRM2015\u001b[m\u001b[m/   \u001b[34mSiniestrosRM2017\u001b[m\u001b[m/   \u001b[34mSiniestrosRM2018_2\u001b[m\u001b[m/\r\n",
      "\u001b[34mSiniestrosRM2014\u001b[m\u001b[m/   \u001b[34mSiniestrosRM2016\u001b[m\u001b[m/   \u001b[34mSiniestrosRM2018\u001b[m\u001b[m/\r\n"
     ]
    }
   ],
   "source": [
    "ls ../data/CONASET"
   ]
  },
  {
   "cell_type": "code",
   "execution_count": 6,
   "metadata": {
    "ExecuteTime": {
     "end_time": "2019-08-03T12:57:33.391428Z",
     "start_time": "2019-08-03T12:57:31.325315Z"
    }
   },
   "outputs": [
    {
     "data": {
      "text/plain": [
       "(23939, 45)"
      ]
     },
     "execution_count": 6,
     "metadata": {},
     "output_type": "execute_result"
    }
   ],
   "source": [
    "df_2018 = gpd.read_file(\"../data/CONASET/SiniestrosRM2018_2/SiniestrosRM2018.shp\", encoding='utf-8', crs={'init': 'epsg:4326'})\n",
    "df_2018.shape"
   ]
  },
  {
   "cell_type": "code",
   "execution_count": 7,
   "metadata": {
    "ExecuteTime": {
     "end_time": "2019-08-03T12:57:36.151359Z",
     "start_time": "2019-08-03T12:57:33.985002Z"
    }
   },
   "outputs": [
    {
     "data": {
      "text/plain": [
       "(25567, 46)"
      ]
     },
     "execution_count": 7,
     "metadata": {},
     "output_type": "execute_result"
    }
   ],
   "source": [
    "df_2017 = gpd.read_file(\"../data/CONASET/SiniestrosRM2017/SiniestrosRM2017.shp\", encoding='utf-8', crs={'init': 'epsg:4326'})\n",
    "df_2017.shape"
   ]
  },
  {
   "cell_type": "code",
   "execution_count": 8,
   "metadata": {
    "ExecuteTime": {
     "end_time": "2019-08-03T12:57:39.767899Z",
     "start_time": "2019-08-03T12:57:37.469694Z"
    }
   },
   "outputs": [
    {
     "data": {
      "text/plain": [
       "(22441, 45)"
      ]
     },
     "execution_count": 8,
     "metadata": {},
     "output_type": "execute_result"
    }
   ],
   "source": [
    "df_2016 = gpd.read_file(\"../data/CONASET/SiniestrosRM2016/SiniestrosRM2016.shp\", encoding='utf-8', crs={'init': 'epsg:4326'})\n",
    "df_2016.shape"
   ]
  },
  {
   "cell_type": "code",
   "execution_count": 9,
   "metadata": {
    "ExecuteTime": {
     "end_time": "2019-08-03T12:57:43.294684Z",
     "start_time": "2019-08-03T12:57:41.856207Z"
    }
   },
   "outputs": [
    {
     "data": {
      "text/plain": [
       "(19271, 28)"
      ]
     },
     "execution_count": 9,
     "metadata": {},
     "output_type": "execute_result"
    }
   ],
   "source": [
    "df_2015 = gpd.read_file(\"../data/CONASET/SiniestrosRM2015/SiniestrosRM2015.shp\", encoding='utf-8', crs={'init': 'epsg:4326'})\n",
    "df_2015.shape"
   ]
  },
  {
   "cell_type": "code",
   "execution_count": 10,
   "metadata": {
    "ExecuteTime": {
     "end_time": "2019-08-03T12:57:47.378129Z",
     "start_time": "2019-08-03T12:57:45.737580Z"
    }
   },
   "outputs": [
    {
     "data": {
      "text/plain": [
       "(18577, 55)"
      ]
     },
     "execution_count": 10,
     "metadata": {},
     "output_type": "execute_result"
    }
   ],
   "source": [
    "df_2014 = gpd.read_file(\"../data/CONASET/SiniestrosRM2014/SiniestrosRM2014.shp\", crs={'init': 'epsg:4326'})\n",
    "df_2014.shape"
   ]
  },
  {
   "cell_type": "code",
   "execution_count": 11,
   "metadata": {
    "ExecuteTime": {
     "end_time": "2019-08-03T12:57:52.700262Z",
     "start_time": "2019-08-03T12:57:50.326749Z"
    }
   },
   "outputs": [
    {
     "data": {
      "text/plain": [
       "(19983, 68)"
      ]
     },
     "execution_count": 11,
     "metadata": {},
     "output_type": "execute_result"
    }
   ],
   "source": [
    "df_2013 = gpd.read_file(\"../data/CONASET/SiniestrosRM2013/SiniestrosRM2013.shp\", crs={'init': 'epsg:4326'})\n",
    "df_2013.shape"
   ]
  },
  {
   "cell_type": "code",
   "execution_count": 12,
   "metadata": {
    "ExecuteTime": {
     "end_time": "2019-08-03T12:57:56.484595Z",
     "start_time": "2019-08-03T12:57:56.482130Z"
    }
   },
   "outputs": [],
   "source": [
    "p0 = Point(0,0)"
   ]
  },
  {
   "cell_type": "code",
   "execution_count": 13,
   "metadata": {
    "ExecuteTime": {
     "end_time": "2019-08-03T12:58:00.541334Z",
     "start_time": "2019-08-03T12:58:00.159618Z"
    }
   },
   "outputs": [
    {
     "data": {
      "text/plain": [
       "3537"
      ]
     },
     "execution_count": 13,
     "metadata": {},
     "output_type": "execute_result"
    }
   ],
   "source": [
    "(df_2018['geometry'] == p0).sum()"
   ]
  },
  {
   "cell_type": "code",
   "execution_count": 14,
   "metadata": {
    "ExecuteTime": {
     "end_time": "2019-08-03T12:58:04.714239Z",
     "start_time": "2019-08-03T12:58:04.316318Z"
    }
   },
   "outputs": [],
   "source": [
    "s_2018 = df_2018[df_2018['geometry'] != p0]"
   ]
  },
  {
   "cell_type": "code",
   "execution_count": 15,
   "metadata": {
    "ExecuteTime": {
     "end_time": "2019-08-03T12:58:08.908114Z",
     "start_time": "2019-08-03T12:58:08.903957Z"
    }
   },
   "outputs": [
    {
     "data": {
      "text/plain": [
       "(20402, 45)"
      ]
     },
     "execution_count": 15,
     "metadata": {},
     "output_type": "execute_result"
    }
   ],
   "source": [
    "s_2018.shape"
   ]
  },
  {
   "cell_type": "code",
   "execution_count": 16,
   "metadata": {
    "ExecuteTime": {
     "end_time": "2019-08-03T12:58:13.138815Z",
     "start_time": "2019-08-03T12:58:13.135499Z"
    }
   },
   "outputs": [],
   "source": [
    "df_2017['Ano'] = 2017"
   ]
  },
  {
   "cell_type": "code",
   "execution_count": 17,
   "metadata": {
    "ExecuteTime": {
     "end_time": "2019-08-03T12:58:17.402375Z",
     "start_time": "2019-08-03T12:58:17.399056Z"
    }
   },
   "outputs": [],
   "source": [
    "df_2016['Ano'] = 2016"
   ]
  },
  {
   "cell_type": "code",
   "execution_count": 18,
   "metadata": {
    "ExecuteTime": {
     "end_time": "2019-08-03T12:58:21.572090Z",
     "start_time": "2019-08-03T12:58:21.568488Z"
    }
   },
   "outputs": [],
   "source": [
    "df_2015['Ano'] = 2015"
   ]
  },
  {
   "cell_type": "code",
   "execution_count": 19,
   "metadata": {
    "ExecuteTime": {
     "end_time": "2019-08-03T12:58:25.883661Z",
     "start_time": "2019-08-03T12:58:25.880341Z"
    }
   },
   "outputs": [],
   "source": [
    "df_2014['Ano'] = 2014"
   ]
  },
  {
   "cell_type": "code",
   "execution_count": 20,
   "metadata": {
    "ExecuteTime": {
     "end_time": "2019-08-03T12:58:30.110412Z",
     "start_time": "2019-08-03T12:58:30.107227Z"
    }
   },
   "outputs": [],
   "source": [
    "df_2013['Ano'] = 2013"
   ]
  },
  {
   "cell_type": "code",
   "execution_count": 21,
   "metadata": {
    "ExecuteTime": {
     "end_time": "2019-08-03T12:58:34.370357Z",
     "start_time": "2019-08-03T12:58:34.359431Z"
    }
   },
   "outputs": [],
   "source": [
    "s_2018 = s_2018[['geometry', 'Ano', 'Tipo_CONAS', 'Fallecidos', 'Graves', 'Menos_Grav', 'Leves']]"
   ]
  },
  {
   "cell_type": "code",
   "execution_count": 22,
   "metadata": {
    "ExecuteTime": {
     "end_time": "2019-08-03T12:58:38.179227Z",
     "start_time": "2019-08-03T12:58:38.160381Z"
    }
   },
   "outputs": [],
   "source": [
    "s_2017 = df_2017[['geometry', 'Ano', 'Tipo__CONA', 'Fallecidos', 'Graves', 'Menos_Grav', 'Leves']]"
   ]
  },
  {
   "cell_type": "code",
   "execution_count": 23,
   "metadata": {
    "ExecuteTime": {
     "end_time": "2019-08-03T12:58:42.198310Z",
     "start_time": "2019-08-03T12:58:42.187987Z"
    }
   },
   "outputs": [],
   "source": [
    "s_2016 = df_2016[['geometry', 'Ano', 'Tipo__CONA', 'Fallecidos', 'Graves', 'Menos_Grav', 'Leves']]"
   ]
  },
  {
   "cell_type": "code",
   "execution_count": 24,
   "metadata": {
    "ExecuteTime": {
     "end_time": "2019-08-03T12:58:46.219085Z",
     "start_time": "2019-08-03T12:58:46.210219Z"
    }
   },
   "outputs": [],
   "source": [
    "s_2015 = df_2015[['geometry', 'Ano', 'Tipo_CON', 'Fallecido', 'Grave', 'MGrave', 'Leve']]"
   ]
  },
  {
   "cell_type": "code",
   "execution_count": 25,
   "metadata": {
    "ExecuteTime": {
     "end_time": "2019-08-03T12:58:50.237539Z",
     "start_time": "2019-08-03T12:58:50.227829Z"
    }
   },
   "outputs": [],
   "source": [
    "s_2014 = df_2014[['geometry', 'Ano', 'Tipo__CONA', 'Fallecidos', 'Graves', 'Menos_Grav', 'Leves']]"
   ]
  },
  {
   "cell_type": "code",
   "execution_count": 26,
   "metadata": {
    "ExecuteTime": {
     "end_time": "2019-08-03T12:58:54.393578Z",
     "start_time": "2019-08-03T12:58:54.381190Z"
    }
   },
   "outputs": [],
   "source": [
    "s_2013 = df_2013[['geometry', 'Ano', 'Tipo__CONA', 'Fallecidos', 'Graves', 'Menos_Grav', 'Leves']]"
   ]
  },
  {
   "cell_type": "code",
   "execution_count": 27,
   "metadata": {
    "ExecuteTime": {
     "end_time": "2019-08-03T12:58:58.975027Z",
     "start_time": "2019-08-03T12:58:58.971654Z"
    }
   },
   "outputs": [],
   "source": [
    "s_2018.columns = ['geometry', 'Ano', 'Tipo__CONA', 'Fallecidos', 'Graves', 'Menos_Grav', 'Leves']"
   ]
  },
  {
   "cell_type": "code",
   "execution_count": 28,
   "metadata": {
    "ExecuteTime": {
     "end_time": "2019-08-03T12:59:03.255823Z",
     "start_time": "2019-08-03T12:59:03.251870Z"
    }
   },
   "outputs": [],
   "source": [
    "s_2017.columns = ['geometry', 'Ano', 'Tipo__CONA', 'Fallecidos', 'Graves', 'Menos_Grav', 'Leves']"
   ]
  },
  {
   "cell_type": "code",
   "execution_count": 29,
   "metadata": {
    "ExecuteTime": {
     "end_time": "2019-08-03T12:59:07.384511Z",
     "start_time": "2019-08-03T12:59:07.379891Z"
    }
   },
   "outputs": [],
   "source": [
    "s_2016.columns = ['geometry', 'Ano', 'Tipo__CONA', 'Fallecidos', 'Graves', 'Menos_Grav', 'Leves']"
   ]
  },
  {
   "cell_type": "code",
   "execution_count": 30,
   "metadata": {
    "ExecuteTime": {
     "end_time": "2019-08-03T12:59:11.575780Z",
     "start_time": "2019-08-03T12:59:11.573136Z"
    }
   },
   "outputs": [],
   "source": [
    "s_2015.columns = ['geometry', 'Ano', 'Tipo__CONA', 'Fallecidos', 'Graves', 'Menos_Grav', 'Leves']"
   ]
  },
  {
   "cell_type": "code",
   "execution_count": 31,
   "metadata": {
    "ExecuteTime": {
     "end_time": "2019-08-03T12:59:15.776548Z",
     "start_time": "2019-08-03T12:59:15.772700Z"
    }
   },
   "outputs": [],
   "source": [
    "s_2014.columns = ['geometry', 'Ano', 'Tipo__CONA', 'Fallecidos', 'Graves', 'Menos_Grav', 'Leves']"
   ]
  },
  {
   "cell_type": "code",
   "execution_count": 32,
   "metadata": {
    "ExecuteTime": {
     "end_time": "2019-08-03T12:59:20.017093Z",
     "start_time": "2019-08-03T12:59:20.013271Z"
    }
   },
   "outputs": [],
   "source": [
    "s_2013.columns = ['geometry', 'Ano', 'Tipo__CONA', 'Fallecidos', 'Graves', 'Menos_Grav', 'Leves']"
   ]
  },
  {
   "cell_type": "code",
   "execution_count": 33,
   "metadata": {
    "ExecuteTime": {
     "end_time": "2019-08-03T12:59:24.263438Z",
     "start_time": "2019-08-03T12:59:24.210152Z"
    }
   },
   "outputs": [],
   "source": [
    "df = gpd.GeoDataFrame(pd.concat([s_2013, s_2014,s_2015,s_2016,s_2017,s_2018], ignore_index=True), crs='4326')"
   ]
  },
  {
   "cell_type": "code",
   "execution_count": 34,
   "metadata": {
    "ExecuteTime": {
     "end_time": "2019-08-03T12:59:29.234803Z",
     "start_time": "2019-08-03T12:59:29.059573Z"
    }
   },
   "outputs": [
    {
     "data": {
      "text/plain": [
       "1462"
      ]
     },
     "execution_count": 34,
     "metadata": {},
     "output_type": "execute_result"
    }
   ],
   "source": [
    "(df.geometry.type !='Point').sum()"
   ]
  },
  {
   "cell_type": "code",
   "execution_count": 35,
   "metadata": {
    "ExecuteTime": {
     "end_time": "2019-08-03T12:59:33.958577Z",
     "start_time": "2019-08-03T12:59:33.730302Z"
    }
   },
   "outputs": [],
   "source": [
    "df = df[df['geometry'].type =='Point']"
   ]
  },
  {
   "cell_type": "code",
   "execution_count": 36,
   "metadata": {
    "ExecuteTime": {
     "end_time": "2019-08-03T12:59:38.484050Z",
     "start_time": "2019-08-03T12:59:38.431027Z"
    }
   },
   "outputs": [
    {
     "name": "stdout",
     "output_type": "stream",
     "text": [
      "<class 'geopandas.geodataframe.GeoDataFrame'>\n",
      "Int64Index: 124779 entries, 0 to 126240\n",
      "Data columns (total 7 columns):\n",
      "geometry      124779 non-null object\n",
      "Ano           124779 non-null int64\n",
      "Tipo__CONA    124779 non-null object\n",
      "Fallecidos    124779 non-null int64\n",
      "Graves        124779 non-null int64\n",
      "Menos_Grav    124779 non-null int64\n",
      "Leves         124779 non-null int64\n",
      "dtypes: int64(5), object(2)\n",
      "memory usage: 7.6+ MB\n"
     ]
    }
   ],
   "source": [
    "df.info()"
   ]
  },
  {
   "cell_type": "code",
   "execution_count": 37,
   "metadata": {
    "ExecuteTime": {
     "end_time": "2019-08-03T12:59:43.036147Z",
     "start_time": "2019-08-03T12:59:43.032938Z"
    }
   },
   "outputs": [
    {
     "data": {
      "text/plain": [
       "(124779, 7)"
      ]
     },
     "execution_count": 37,
     "metadata": {},
     "output_type": "execute_result"
    }
   ],
   "source": [
    "df.shape"
   ]
  },
  {
   "cell_type": "code",
   "execution_count": 38,
   "metadata": {
    "ExecuteTime": {
     "end_time": "2019-08-03T12:59:47.602068Z",
     "start_time": "2019-08-03T12:59:47.560375Z"
    }
   },
   "outputs": [
    {
     "data": {
      "text/plain": [
       "COLISION     77528\n",
       "CHOQUE       25816\n",
       "ATROPELLO    13388\n",
       "CAIDA         3397\n",
       "OTRO TIPO     2537\n",
       "VOLCADURA     2091\n",
       "INCENDIO        22\n",
       "Name: Tipo__CONA, dtype: int64"
      ]
     },
     "execution_count": 38,
     "metadata": {},
     "output_type": "execute_result"
    }
   ],
   "source": [
    "df.Tipo__CONA.value_counts()"
   ]
  },
  {
   "cell_type": "code",
   "execution_count": 39,
   "metadata": {
    "ExecuteTime": {
     "end_time": "2019-08-03T12:59:52.115680Z",
     "start_time": "2019-08-03T12:59:52.110883Z"
    }
   },
   "outputs": [
    {
     "data": {
      "text/plain": [
       "0    123444\n",
       "1      1277\n",
       "2        50\n",
       "3         7\n",
       "4         1\n",
       "Name: Fallecidos, dtype: int64"
      ]
     },
     "execution_count": 39,
     "metadata": {},
     "output_type": "execute_result"
    }
   ],
   "source": [
    "df.Fallecidos.value_counts()"
   ]
  },
  {
   "cell_type": "code",
   "execution_count": 40,
   "metadata": {
    "ExecuteTime": {
     "end_time": "2019-08-03T12:59:56.733776Z",
     "start_time": "2019-08-03T12:59:56.728523Z"
    }
   },
   "outputs": [
    {
     "data": {
      "text/plain": [
       "0    114531\n",
       "1      9769\n",
       "2       415\n",
       "3        43\n",
       "4        14\n",
       "5         4\n",
       "7         2\n",
       "6         1\n",
       "Name: Graves, dtype: int64"
      ]
     },
     "execution_count": 40,
     "metadata": {},
     "output_type": "execute_result"
    }
   ],
   "source": [
    "df.Graves.value_counts()"
   ]
  },
  {
   "cell_type": "code",
   "execution_count": 41,
   "metadata": {
    "ExecuteTime": {
     "end_time": "2019-08-03T13:00:01.261272Z",
     "start_time": "2019-08-03T13:00:01.255182Z"
    }
   },
   "outputs": [
    {
     "data": {
      "text/plain": [
       "0    120682\n",
       "1      3894\n",
       "2       177\n",
       "3        21\n",
       "4         4\n",
       "8         1\n",
       "Name: Menos_Grav, dtype: int64"
      ]
     },
     "execution_count": 41,
     "metadata": {},
     "output_type": "execute_result"
    }
   ],
   "source": [
    "df.Menos_Grav.value_counts()"
   ]
  },
  {
   "cell_type": "code",
   "execution_count": 42,
   "metadata": {
    "ExecuteTime": {
     "end_time": "2019-08-03T13:00:06.055993Z",
     "start_time": "2019-08-03T13:00:06.050147Z"
    }
   },
   "outputs": [
    {
     "data": {
      "text/plain": [
       "0     84718\n",
       "1     31544\n",
       "2      6442\n",
       "3      1287\n",
       "4       449\n",
       "5       186\n",
       "6        61\n",
       "7        31\n",
       "8        16\n",
       "9        13\n",
       "11        6\n",
       "13        6\n",
       "12        4\n",
       "14        3\n",
       "24        2\n",
       "10        2\n",
       "19        2\n",
       "15        1\n",
       "16        1\n",
       "18        1\n",
       "21        1\n",
       "22        1\n",
       "23        1\n",
       "26        1\n",
       "Name: Leves, dtype: int64"
      ]
     },
     "execution_count": 42,
     "metadata": {},
     "output_type": "execute_result"
    }
   ],
   "source": [
    "df.Leves.value_counts()"
   ]
  },
  {
   "cell_type": "code",
   "execution_count": 43,
   "metadata": {
    "ExecuteTime": {
     "end_time": "2019-08-03T13:00:14.745487Z",
     "start_time": "2019-08-03T13:00:10.570624Z"
    }
   },
   "outputs": [
    {
     "data": {
      "image/png": "[encoded data removed]",
      "text/plain": [
       "<Figure size 750x750 with 1 Axes>"
      ]
     },
     "metadata": {},
     "output_type": "display_data"
    }
   ],
   "source": [
    "df.plot(markersize=0.01, edgecolor='red',figsize=(5, 5));\n",
    "plt.title(\"2013-18 Road Crashs\");"
   ]
  },
  {
   "cell_type": "code",
   "execution_count": 45,
   "metadata": {
    "ExecuteTime": {
     "end_time": "2019-08-03T13:04:03.928700Z",
     "start_time": "2019-08-03T13:04:03.926118Z"
    }
   },
   "outputs": [],
   "source": [
    "df.crs = {'init' :'epsg:4326'}"
   ]
  },
  {
   "cell_type": "code",
   "execution_count": 46,
   "metadata": {
    "ExecuteTime": {
     "end_time": "2019-08-03T13:04:54.372798Z",
     "start_time": "2019-08-03T13:04:08.902452Z"
    }
   },
   "outputs": [],
   "source": [
    "df.to_file(\"../data/CONASET/RM_Crashes_2013_2018/Crashes_2013_2018_dataset.shp\")"
   ]
  },
  {
   "cell_type": "markdown",
   "metadata": {},
   "source": [
    "### Restrict Siniestros inside Santiago Municipality Area"
   ]
  },
  {
   "cell_type": "code",
   "execution_count": 47,
   "metadata": {
    "ExecuteTime": {
     "end_time": "2019-08-03T13:05:13.504090Z",
     "start_time": "2019-08-03T13:05:12.017609Z"
    }
   },
   "outputs": [],
   "source": [
    "urban_areas = gpd.read_file('../data/OSM_Chile/urban_areas/',\n",
    "                            crs={'init': 'epsg:5361'})\n",
    "municipalities = gpd.read_file(\n",
    "    '../data/OSM_Chile/shapefile_comunas/division_comunal.shp',\n",
    "    crs={'init': 'epsg:5361'})\n",
    "stgo_municipalities = gpd.sjoin(municipalities,\n",
    "                                urban_areas[urban_areas.NOMBRE == 'Santiago'],\n",
    "                                op='intersects')\n",
    "stgo = urban_areas[urban_areas.NOMBRE == 'Santiago'].geometry.values[0]\n",
    "stgo_shape = urban_areas[urban_areas.NOMBRE == 'Santiago'].to_crs(\n",
    "    {'init': 'epsg:4326'})"
   ]
  },
  {
   "cell_type": "code",
   "execution_count": 48,
   "metadata": {
    "ExecuteTime": {
     "end_time": "2019-08-03T13:05:23.611713Z",
     "start_time": "2019-08-03T13:05:23.593965Z"
    }
   },
   "outputs": [
    {
     "data": {
      "text/html": [
       "<div>\n",
       "<style scoped>\n",
       "    .dataframe tbody tr th:only-of-type {\n",
       "        vertical-align: middle;\n",
       "    }\n",
       "\n",
       "    .dataframe tbody tr th {\n",
       "        vertical-align: top;\n",
       "    }\n",
       "\n",
       "    .dataframe thead th {\n",
       "        text-align: right;\n",
       "    }\n",
       "</style>\n",
       "<table border=\"1\" class=\"dataframe\">\n",
       "  <thead>\n",
       "    <tr style=\"text-align: right;\">\n",
       "      <th></th>\n",
       "      <th>NOMBRE</th>\n",
       "      <th>TIPO_AREA</th>\n",
       "      <th>SHAPE_Leng</th>\n",
       "      <th>SHAPE_Area</th>\n",
       "      <th>geometry</th>\n",
       "    </tr>\n",
       "  </thead>\n",
       "  <tbody>\n",
       "    <tr>\n",
       "      <th>385</th>\n",
       "      <td>Santiago</td>\n",
       "      <td>Ciudad</td>\n",
       "      <td>427491.444262</td>\n",
       "      <td>5.821041e+08</td>\n",
       "      <td>(POLYGON ((-70.73662882538488 -33.371762170851...</td>\n",
       "    </tr>\n",
       "  </tbody>\n",
       "</table>\n",
       "</div>"
      ],
      "text/plain": [
       "       NOMBRE TIPO_AREA     SHAPE_Leng    SHAPE_Area  \\\n",
       "385  Santiago    Ciudad  427491.444262  5.821041e+08   \n",
       "\n",
       "                                              geometry  \n",
       "385  (POLYGON ((-70.73662882538488 -33.371762170851...  "
      ]
     },
     "execution_count": 48,
     "metadata": {},
     "output_type": "execute_result"
    }
   ],
   "source": [
    "stgo_shape"
   ]
  },
  {
   "cell_type": "code",
   "execution_count": 49,
   "metadata": {
    "ExecuteTime": {
     "end_time": "2019-08-03T13:05:34.267351Z",
     "start_time": "2019-08-03T13:05:34.034566Z"
    }
   },
   "outputs": [
    {
     "data": {
      "text/plain": [
       "<matplotlib.axes._subplots.AxesSubplot at 0x1a20c6e128>"
      ]
     },
     "execution_count": 49,
     "metadata": {},
     "output_type": "execute_result"
    },
    {
     "data": {
      "image/png": "[encoded data removed]",
      "text/plain": [
       "<Figure size 1500x900 with 1 Axes>"
      ]
     },
     "metadata": {},
     "output_type": "display_data"
    }
   ],
   "source": [
    "stgo_shape.plot()"
   ]
  },
  {
   "cell_type": "code",
   "execution_count": 50,
   "metadata": {
    "ExecuteTime": {
     "end_time": "2019-08-03T13:05:44.864813Z",
     "start_time": "2019-08-03T13:05:44.859891Z"
    }
   },
   "outputs": [],
   "source": [
    "# Comuna of Santiago used for test only \n",
    "com_stgo = municipalities[municipalities.NOM_COM == 'Santiago'].to_crs(\n",
    "    {'init': 'epsg:4326'})"
   ]
  },
  {
   "cell_type": "code",
   "execution_count": 51,
   "metadata": {
    "ExecuteTime": {
     "end_time": "2019-08-03T13:05:56.164100Z",
     "start_time": "2019-08-03T13:05:56.152109Z"
    }
   },
   "outputs": [
    {
     "data": {
      "text/html": [
       "<div>\n",
       "<style scoped>\n",
       "    .dataframe tbody tr th:only-of-type {\n",
       "        vertical-align: middle;\n",
       "    }\n",
       "\n",
       "    .dataframe tbody tr th {\n",
       "        vertical-align: top;\n",
       "    }\n",
       "\n",
       "    .dataframe thead th {\n",
       "        text-align: right;\n",
       "    }\n",
       "</style>\n",
       "<table border=\"1\" class=\"dataframe\">\n",
       "  <thead>\n",
       "    <tr style=\"text-align: right;\">\n",
       "      <th></th>\n",
       "      <th>NOM_REG</th>\n",
       "      <th>NOM_PROV</th>\n",
       "      <th>NOM_COM</th>\n",
       "      <th>SHAPE_LENG</th>\n",
       "      <th>DIS_ELEC</th>\n",
       "      <th>CIR_SENA</th>\n",
       "      <th>COD_COMUNA</th>\n",
       "      <th>SHAPE_Le_1</th>\n",
       "      <th>SHAPE_Area</th>\n",
       "      <th>geometry</th>\n",
       "    </tr>\n",
       "  </thead>\n",
       "  <tbody>\n",
       "    <tr>\n",
       "      <th>305</th>\n",
       "      <td>Región Metropolitana de Santiago</td>\n",
       "      <td>Santiago</td>\n",
       "      <td>Santiago</td>\n",
       "      <td>24644.018619</td>\n",
       "      <td>22</td>\n",
       "      <td>7</td>\n",
       "      <td>1310</td>\n",
       "      <td>22142.660056</td>\n",
       "      <td>2.276999e+07</td>\n",
       "      <td>POLYGON ((-70.67158854755513 -33.4763598849684...</td>\n",
       "    </tr>\n",
       "  </tbody>\n",
       "</table>\n",
       "</div>"
      ],
      "text/plain": [
       "                              NOM_REG  NOM_PROV   NOM_COM    SHAPE_LENG  \\\n",
       "305  Región Metropolitana de Santiago  Santiago  Santiago  24644.018619   \n",
       "\n",
       "     DIS_ELEC  CIR_SENA  COD_COMUNA    SHAPE_Le_1    SHAPE_Area  \\\n",
       "305        22         7        1310  22142.660056  2.276999e+07   \n",
       "\n",
       "                                              geometry  \n",
       "305  POLYGON ((-70.67158854755513 -33.4763598849684...  "
      ]
     },
     "execution_count": 51,
     "metadata": {},
     "output_type": "execute_result"
    }
   ],
   "source": [
    "com_stgo"
   ]
  },
  {
   "cell_type": "code",
   "execution_count": 52,
   "metadata": {
    "ExecuteTime": {
     "end_time": "2019-08-03T13:06:06.912451Z",
     "start_time": "2019-08-03T13:06:06.776209Z"
    }
   },
   "outputs": [
    {
     "data": {
      "text/plain": [
       "<matplotlib.axes._subplots.AxesSubplot at 0x1a20d3bac8>"
      ]
     },
     "execution_count": 52,
     "metadata": {},
     "output_type": "execute_result"
    },
    {
     "data": {
      "image/png": "[encoded data removed]",
      "text/plain": [
       "<Figure size 450x450 with 1 Axes>"
      ]
     },
     "metadata": {},
     "output_type": "display_data"
    }
   ],
   "source": [
    "com_stgo.plot(figsize=(3, 3))"
   ]
  },
  {
   "cell_type": "code",
   "execution_count": 53,
   "metadata": {
    "ExecuteTime": {
     "end_time": "2019-08-03T13:06:17.420191Z",
     "start_time": "2019-08-03T13:06:17.416458Z"
    }
   },
   "outputs": [
    {
     "data": {
      "text/plain": [
       "geopandas.geoseries.GeoSeries"
      ]
     },
     "execution_count": 53,
     "metadata": {},
     "output_type": "execute_result"
    }
   ],
   "source": [
    "type(df.geometry)"
   ]
  },
  {
   "cell_type": "code",
   "execution_count": 54,
   "metadata": {
    "ExecuteTime": {
     "end_time": "2019-08-03T13:06:35.062518Z",
     "start_time": "2019-08-03T13:06:27.753281Z"
    }
   },
   "outputs": [],
   "source": [
    "siniestros = gpd.sjoin(df, stgo_shape, op='intersects')"
   ]
  },
  {
   "cell_type": "code",
   "execution_count": 55,
   "metadata": {
    "ExecuteTime": {
     "end_time": "2019-08-03T13:06:45.663131Z",
     "start_time": "2019-08-03T13:06:45.659338Z"
    }
   },
   "outputs": [
    {
     "data": {
      "text/plain": [
       "(120042, 12)"
      ]
     },
     "execution_count": 55,
     "metadata": {},
     "output_type": "execute_result"
    }
   ],
   "source": [
    "siniestros.shape"
   ]
  },
  {
   "cell_type": "code",
   "execution_count": 56,
   "metadata": {
    "ExecuteTime": {
     "end_time": "2019-08-03T13:07:00.179311Z",
     "start_time": "2019-08-03T13:06:56.356545Z"
    }
   },
   "outputs": [
    {
     "data": {
      "image/png": "[encoded data removed]",
      "text/plain": [
       "<Figure size 750x750 with 1 Axes>"
      ]
     },
     "metadata": {},
     "output_type": "display_data"
    }
   ],
   "source": [
    "siniestros.plot(markersize=0.01, edgecolor='red',figsize=(5, 5));\n",
    "plt.axis('off');\n",
    "plt.title(\"Car Crashs 2013-18 Santiago Municipality\");"
   ]
  },
  {
   "cell_type": "code",
   "execution_count": 57,
   "metadata": {
    "ExecuteTime": {
     "end_time": "2019-08-03T13:07:10.856640Z",
     "start_time": "2019-08-03T13:07:10.845311Z"
    }
   },
   "outputs": [
    {
     "data": {
      "text/html": [
       "<div>\n",
       "<style scoped>\n",
       "    .dataframe tbody tr th:only-of-type {\n",
       "        vertical-align: middle;\n",
       "    }\n",
       "\n",
       "    .dataframe tbody tr th {\n",
       "        vertical-align: top;\n",
       "    }\n",
       "\n",
       "    .dataframe thead th {\n",
       "        text-align: right;\n",
       "    }\n",
       "</style>\n",
       "<table border=\"1\" class=\"dataframe\">\n",
       "  <thead>\n",
       "    <tr style=\"text-align: right;\">\n",
       "      <th></th>\n",
       "      <th>geometry</th>\n",
       "      <th>Ano</th>\n",
       "      <th>Tipo__CONA</th>\n",
       "      <th>Fallecidos</th>\n",
       "      <th>Graves</th>\n",
       "      <th>Menos_Grav</th>\n",
       "      <th>Leves</th>\n",
       "      <th>index_right</th>\n",
       "      <th>NOMBRE</th>\n",
       "      <th>TIPO_AREA</th>\n",
       "      <th>SHAPE_Leng</th>\n",
       "      <th>SHAPE_Area</th>\n",
       "    </tr>\n",
       "  </thead>\n",
       "  <tbody>\n",
       "    <tr>\n",
       "      <th>0</th>\n",
       "      <td>POINT (-70.6264627040905 -33.43363955092453)</td>\n",
       "      <td>2013</td>\n",
       "      <td>ATROPELLO</td>\n",
       "      <td>0</td>\n",
       "      <td>0</td>\n",
       "      <td>0</td>\n",
       "      <td>1</td>\n",
       "      <td>385</td>\n",
       "      <td>Santiago</td>\n",
       "      <td>Ciudad</td>\n",
       "      <td>427491.444262</td>\n",
       "      <td>5.821041e+08</td>\n",
       "    </tr>\n",
       "    <tr>\n",
       "      <th>1</th>\n",
       "      <td>POINT (-70.6792097614213 -33.36821861599628)</td>\n",
       "      <td>2013</td>\n",
       "      <td>CHOQUE</td>\n",
       "      <td>0</td>\n",
       "      <td>0</td>\n",
       "      <td>0</td>\n",
       "      <td>0</td>\n",
       "      <td>385</td>\n",
       "      <td>Santiago</td>\n",
       "      <td>Ciudad</td>\n",
       "      <td>427491.444262</td>\n",
       "      <td>5.821041e+08</td>\n",
       "    </tr>\n",
       "  </tbody>\n",
       "</table>\n",
       "</div>"
      ],
      "text/plain": [
       "                                       geometry   Ano Tipo__CONA  Fallecidos  \\\n",
       "0  POINT (-70.6264627040905 -33.43363955092453)  2013  ATROPELLO           0   \n",
       "1  POINT (-70.6792097614213 -33.36821861599628)  2013     CHOQUE           0   \n",
       "\n",
       "   Graves  Menos_Grav  Leves  index_right    NOMBRE TIPO_AREA     SHAPE_Leng  \\\n",
       "0       0           0      1          385  Santiago    Ciudad  427491.444262   \n",
       "1       0           0      0          385  Santiago    Ciudad  427491.444262   \n",
       "\n",
       "     SHAPE_Area  \n",
       "0  5.821041e+08  \n",
       "1  5.821041e+08  "
      ]
     },
     "execution_count": 57,
     "metadata": {},
     "output_type": "execute_result"
    }
   ],
   "source": [
    "siniestros.head(2)"
   ]
  },
  {
   "cell_type": "code",
   "execution_count": 58,
   "metadata": {
    "ExecuteTime": {
     "end_time": "2019-08-03T13:07:22.283025Z",
     "start_time": "2019-08-03T13:07:22.236707Z"
    }
   },
   "outputs": [],
   "source": [
    "del siniestros['index_right']\n",
    "del siniestros['NOMBRE']\n",
    "del siniestros['TIPO_AREA']\n",
    "del siniestros['SHAPE_Leng']\n",
    "del siniestros['SHAPE_Area']"
   ]
  },
  {
   "cell_type": "code",
   "execution_count": 59,
   "metadata": {
    "ExecuteTime": {
     "end_time": "2019-08-03T13:07:32.851577Z",
     "start_time": "2019-08-03T13:07:32.839200Z"
    },
    "scrolled": true
   },
   "outputs": [
    {
     "data": {
      "text/html": [
       "<div>\n",
       "<style scoped>\n",
       "    .dataframe tbody tr th:only-of-type {\n",
       "        vertical-align: middle;\n",
       "    }\n",
       "\n",
       "    .dataframe tbody tr th {\n",
       "        vertical-align: top;\n",
       "    }\n",
       "\n",
       "    .dataframe thead th {\n",
       "        text-align: right;\n",
       "    }\n",
       "</style>\n",
       "<table border=\"1\" class=\"dataframe\">\n",
       "  <thead>\n",
       "    <tr style=\"text-align: right;\">\n",
       "      <th></th>\n",
       "      <th>geometry</th>\n",
       "      <th>Ano</th>\n",
       "      <th>Tipo__CONA</th>\n",
       "      <th>Fallecidos</th>\n",
       "      <th>Graves</th>\n",
       "      <th>Menos_Grav</th>\n",
       "      <th>Leves</th>\n",
       "    </tr>\n",
       "  </thead>\n",
       "  <tbody>\n",
       "    <tr>\n",
       "      <th>35481</th>\n",
       "      <td>POINT (-70.648046619512 -33.43345860695425)</td>\n",
       "      <td>2014</td>\n",
       "      <td>COLISION</td>\n",
       "      <td>0</td>\n",
       "      <td>0</td>\n",
       "      <td>0</td>\n",
       "      <td>0</td>\n",
       "    </tr>\n",
       "    <tr>\n",
       "      <th>15675</th>\n",
       "      <td>POINT (-70.63825480631419 -33.4315262178606)</td>\n",
       "      <td>2013</td>\n",
       "      <td>COLISION</td>\n",
       "      <td>0</td>\n",
       "      <td>0</td>\n",
       "      <td>0</td>\n",
       "      <td>0</td>\n",
       "    </tr>\n",
       "    <tr>\n",
       "      <th>6505</th>\n",
       "      <td>POINT (-70.64326859417025 -33.45835107983841)</td>\n",
       "      <td>2013</td>\n",
       "      <td>COLISION</td>\n",
       "      <td>0</td>\n",
       "      <td>0</td>\n",
       "      <td>0</td>\n",
       "      <td>0</td>\n",
       "    </tr>\n",
       "    <tr>\n",
       "      <th>84817</th>\n",
       "      <td>POINT (-70.6948968 -33.3656223)</td>\n",
       "      <td>2017</td>\n",
       "      <td>COLISION</td>\n",
       "      <td>0</td>\n",
       "      <td>0</td>\n",
       "      <td>0</td>\n",
       "      <td>0</td>\n",
       "    </tr>\n",
       "    <tr>\n",
       "      <th>50864</th>\n",
       "      <td>POINT (-70.71238180575608 -33.42689026943366)</td>\n",
       "      <td>2015</td>\n",
       "      <td>COLISION</td>\n",
       "      <td>0</td>\n",
       "      <td>0</td>\n",
       "      <td>0</td>\n",
       "      <td>0</td>\n",
       "    </tr>\n",
       "    <tr>\n",
       "      <th>34083</th>\n",
       "      <td>POINT (-70.60146855730427 -33.41822751457453)</td>\n",
       "      <td>2014</td>\n",
       "      <td>CAIDA</td>\n",
       "      <td>0</td>\n",
       "      <td>0</td>\n",
       "      <td>0</td>\n",
       "      <td>1</td>\n",
       "    </tr>\n",
       "    <tr>\n",
       "      <th>51177</th>\n",
       "      <td>POINT (-70.69056307345224 -33.57414370827334)</td>\n",
       "      <td>2015</td>\n",
       "      <td>COLISION</td>\n",
       "      <td>0</td>\n",
       "      <td>0</td>\n",
       "      <td>0</td>\n",
       "      <td>1</td>\n",
       "    </tr>\n",
       "    <tr>\n",
       "      <th>43973</th>\n",
       "      <td>POINT (-70.55386216428418 -33.42418513977575)</td>\n",
       "      <td>2015</td>\n",
       "      <td>COLISION</td>\n",
       "      <td>0</td>\n",
       "      <td>0</td>\n",
       "      <td>0</td>\n",
       "      <td>0</td>\n",
       "    </tr>\n",
       "    <tr>\n",
       "      <th>101215</th>\n",
       "      <td>POINT (-70.65372489250157 -33.49941732204336)</td>\n",
       "      <td>2017</td>\n",
       "      <td>ATROPELLO</td>\n",
       "      <td>1</td>\n",
       "      <td>0</td>\n",
       "      <td>0</td>\n",
       "      <td>0</td>\n",
       "    </tr>\n",
       "    <tr>\n",
       "      <th>72930</th>\n",
       "      <td>POINT (-70.60143310372905 -33.47938940480375)</td>\n",
       "      <td>2016</td>\n",
       "      <td>COLISION</td>\n",
       "      <td>0</td>\n",
       "      <td>0</td>\n",
       "      <td>0</td>\n",
       "      <td>0</td>\n",
       "    </tr>\n",
       "  </tbody>\n",
       "</table>\n",
       "</div>"
      ],
      "text/plain": [
       "                                             geometry   Ano Tipo__CONA  \\\n",
       "35481     POINT (-70.648046619512 -33.43345860695425)  2014   COLISION   \n",
       "15675    POINT (-70.63825480631419 -33.4315262178606)  2013   COLISION   \n",
       "6505    POINT (-70.64326859417025 -33.45835107983841)  2013   COLISION   \n",
       "84817                 POINT (-70.6948968 -33.3656223)  2017   COLISION   \n",
       "50864   POINT (-70.71238180575608 -33.42689026943366)  2015   COLISION   \n",
       "34083   POINT (-70.60146855730427 -33.41822751457453)  2014      CAIDA   \n",
       "51177   POINT (-70.69056307345224 -33.57414370827334)  2015   COLISION   \n",
       "43973   POINT (-70.55386216428418 -33.42418513977575)  2015   COLISION   \n",
       "101215  POINT (-70.65372489250157 -33.49941732204336)  2017  ATROPELLO   \n",
       "72930   POINT (-70.60143310372905 -33.47938940480375)  2016   COLISION   \n",
       "\n",
       "        Fallecidos  Graves  Menos_Grav  Leves  \n",
       "35481            0       0           0      0  \n",
       "15675            0       0           0      0  \n",
       "6505             0       0           0      0  \n",
       "84817            0       0           0      0  \n",
       "50864            0       0           0      0  \n",
       "34083            0       0           0      1  \n",
       "51177            0       0           0      1  \n",
       "43973            0       0           0      0  \n",
       "101215           1       0           0      0  \n",
       "72930            0       0           0      0  "
      ]
     },
     "execution_count": 59,
     "metadata": {},
     "output_type": "execute_result"
    }
   ],
   "source": [
    "siniestros.sample(10)"
   ]
  },
  {
   "cell_type": "markdown",
   "metadata": {},
   "source": [
    "### Adding Crash Severity"
   ]
  },
  {
   "cell_type": "markdown",
   "metadata": {},
   "source": [
    "`Severity of a Crash Definition:`\n",
    "\"The severity of a crash. Possible values are 'F' (Fallecidos), 'G' (Grave), 'M' (Menos Grave),  'L' (Leves), 'N' (non-injury). This is determined by the worst injury sustained in the crash at time of entry.\""
   ]
  },
  {
   "cell_type": "code",
   "execution_count": 60,
   "metadata": {
    "ExecuteTime": {
     "end_time": "2019-08-03T13:07:55.423863Z",
     "start_time": "2019-08-03T13:07:55.419690Z"
    }
   },
   "outputs": [],
   "source": [
    "def sev_crash(row):\n",
    "    if row['Fallecidos'] != 0: return 'F'\n",
    "    elif row['Graves'] !=0: return'G'\n",
    "    elif row['Menos_Grav'] !=0: return 'M'\n",
    "    elif row['Leves'] !=0: return 'L'\n",
    "    else: return 'N'"
   ]
  },
  {
   "cell_type": "code",
   "execution_count": 61,
   "metadata": {
    "ExecuteTime": {
     "end_time": "2019-08-03T13:08:08.999275Z",
     "start_time": "2019-08-03T13:08:06.085561Z"
    }
   },
   "outputs": [],
   "source": [
    "siniestros['SEV'] = siniestros.apply(sev_crash, axis=1)"
   ]
  },
  {
   "cell_type": "markdown",
   "metadata": {},
   "source": [
    "Creating a new Column Serverity Index"
   ]
  },
  {
   "cell_type": "code",
   "execution_count": 62,
   "metadata": {
    "ExecuteTime": {
     "end_time": "2019-08-03T13:08:19.574782Z",
     "start_time": "2019-08-03T13:08:19.570219Z"
    }
   },
   "outputs": [],
   "source": [
    "def sev_index_crash(row):\n",
    "    if row['Fallecidos'] != 0: return 5\n",
    "    elif row['Graves'] !=0: return 4\n",
    "    elif row['Menos_Grav'] !=0: return 3\n",
    "    elif row['Leves'] !=0: return 2\n",
    "    else: return 1"
   ]
  },
  {
   "cell_type": "code",
   "execution_count": 63,
   "metadata": {
    "ExecuteTime": {
     "end_time": "2019-08-03T13:08:33.114739Z",
     "start_time": "2019-08-03T13:08:30.095191Z"
    }
   },
   "outputs": [],
   "source": [
    "siniestros['SEV_Index'] = siniestros.apply(sev_index_crash, axis=1)"
   ]
  },
  {
   "cell_type": "code",
   "execution_count": 64,
   "metadata": {
    "ExecuteTime": {
     "end_time": "2019-08-03T13:08:43.688570Z",
     "start_time": "2019-08-03T13:08:43.677054Z"
    }
   },
   "outputs": [
    {
     "data": {
      "text/plain": [
       "N    69617\n",
       "L    35766\n",
       "G     9745\n",
       "M     3644\n",
       "F     1270\n",
       "Name: SEV, dtype: int64"
      ]
     },
     "execution_count": 64,
     "metadata": {},
     "output_type": "execute_result"
    }
   ],
   "source": [
    "siniestros.SEV.value_counts()"
   ]
  },
  {
   "cell_type": "code",
   "execution_count": 65,
   "metadata": {
    "ExecuteTime": {
     "end_time": "2019-08-03T13:08:54.965946Z",
     "start_time": "2019-08-03T13:08:54.957255Z"
    }
   },
   "outputs": [
    {
     "data": {
      "text/plain": [
       "1    69617\n",
       "2    35766\n",
       "4     9745\n",
       "3     3644\n",
       "5     1270\n",
       "Name: SEV_Index, dtype: int64"
      ]
     },
     "execution_count": 65,
     "metadata": {},
     "output_type": "execute_result"
    }
   ],
   "source": [
    "siniestros.SEV_Index.value_counts()"
   ]
  },
  {
   "cell_type": "code",
   "execution_count": 66,
   "metadata": {
    "ExecuteTime": {
     "end_time": "2019-08-03T13:09:05.947239Z",
     "start_time": "2019-08-03T13:09:05.907136Z"
    }
   },
   "outputs": [
    {
     "data": {
      "text/plain": [
       "COLISION     74563\n",
       "CHOQUE       24759\n",
       "ATROPELLO    12986\n",
       "CAIDA         3338\n",
       "OTRO TIPO     2449\n",
       "VOLCADURA     1925\n",
       "INCENDIO        22\n",
       "Name: Tipo__CONA, dtype: int64"
      ]
     },
     "execution_count": 66,
     "metadata": {},
     "output_type": "execute_result"
    }
   ],
   "source": [
    "siniestros.Tipo__CONA.value_counts()"
   ]
  },
  {
   "cell_type": "code",
   "execution_count": 67,
   "metadata": {
    "ExecuteTime": {
     "end_time": "2019-08-03T13:11:24.299909Z",
     "start_time": "2019-08-03T13:10:38.777782Z"
    }
   },
   "outputs": [],
   "source": [
    "siniestros.to_file(\"../data/CONASET/STGO_Crashes_2013_2018/Crashes_Stgo_2013_2018_dataset.shp\")"
   ]
  },
  {
   "cell_type": "markdown",
   "metadata": {},
   "source": [
    "---"
   ]
  },
  {
   "cell_type": "markdown",
   "metadata": {},
   "source": [
    "## Filter crash type per year"
   ]
  },
  {
   "cell_type": "code",
   "execution_count": 64,
   "metadata": {
    "ExecuteTime": {
     "end_time": "2019-08-02T20:30:05.977929Z",
     "start_time": "2019-08-02T20:30:05.974580Z"
    }
   },
   "outputs": [],
   "source": [
    "def filter_tipo_year(s, Y, D1, D2):\n",
    "    s = s[(s.Ano >= D1) & (s.Ano <= D2)]\n",
    "    s = s[s.Tipo__CONA == Y]\n",
    "    return s[['geometry']]"
   ]
  },
  {
   "cell_type": "code",
   "execution_count": 65,
   "metadata": {
    "ExecuteTime": {
     "end_time": "2019-08-02T20:30:16.718739Z",
     "start_time": "2019-08-02T20:30:16.716108Z"
    }
   },
   "outputs": [],
   "source": [
    "D1 = 2013\n",
    "D2 = 2018\n",
    "Y = 'COLISION'"
   ]
  },
  {
   "cell_type": "code",
   "execution_count": 66,
   "metadata": {
    "ExecuteTime": {
     "end_time": "2019-08-02T20:30:27.651942Z",
     "start_time": "2019-08-02T20:30:27.586677Z"
    }
   },
   "outputs": [],
   "source": [
    "s = filter_tipo_year(siniestros, Y, D1, D2)"
   ]
  },
  {
   "cell_type": "code",
   "execution_count": 67,
   "metadata": {
    "ExecuteTime": {
     "end_time": "2019-08-02T20:30:38.832306Z",
     "start_time": "2019-08-02T20:30:38.823380Z"
    }
   },
   "outputs": [
    {
     "data": {
      "text/html": [
       "<div>\n",
       "<style scoped>\n",
       "    .dataframe tbody tr th:only-of-type {\n",
       "        vertical-align: middle;\n",
       "    }\n",
       "\n",
       "    .dataframe tbody tr th {\n",
       "        vertical-align: top;\n",
       "    }\n",
       "\n",
       "    .dataframe thead th {\n",
       "        text-align: right;\n",
       "    }\n",
       "</style>\n",
       "<table border=\"1\" class=\"dataframe\">\n",
       "  <thead>\n",
       "    <tr style=\"text-align: right;\">\n",
       "      <th></th>\n",
       "      <th>geometry</th>\n",
       "    </tr>\n",
       "  </thead>\n",
       "  <tbody>\n",
       "    <tr>\n",
       "      <th>53527</th>\n",
       "      <td>POINT (-70.71536961946299 -33.47637651241219)</td>\n",
       "    </tr>\n",
       "    <tr>\n",
       "      <th>101562</th>\n",
       "      <td>POINT (-70.69053247214701 -33.57414151286049)</td>\n",
       "    </tr>\n",
       "    <tr>\n",
       "      <th>30576</th>\n",
       "      <td>POINT (-70.60027955028217 -33.58185225456057)</td>\n",
       "    </tr>\n",
       "    <tr>\n",
       "      <th>72501</th>\n",
       "      <td>POINT (-70.61432724088765 -33.44483533955382)</td>\n",
       "    </tr>\n",
       "    <tr>\n",
       "      <th>56044</th>\n",
       "      <td>POINT (-70.74722236202996 -33.51038928109519)</td>\n",
       "    </tr>\n",
       "  </tbody>\n",
       "</table>\n",
       "</div>"
      ],
      "text/plain": [
       "                                             geometry\n",
       "53527   POINT (-70.71536961946299 -33.47637651241219)\n",
       "101562  POINT (-70.69053247214701 -33.57414151286049)\n",
       "30576   POINT (-70.60027955028217 -33.58185225456057)\n",
       "72501   POINT (-70.61432724088765 -33.44483533955382)\n",
       "56044   POINT (-70.74722236202996 -33.51038928109519)"
      ]
     },
     "execution_count": 67,
     "metadata": {},
     "output_type": "execute_result"
    }
   ],
   "source": [
    "s.sample(5)"
   ]
  },
  {
   "cell_type": "code",
   "execution_count": 68,
   "metadata": {
    "ExecuteTime": {
     "end_time": "2019-08-02T20:30:49.664772Z",
     "start_time": "2019-08-02T20:30:49.660401Z"
    }
   },
   "outputs": [
    {
     "data": {
      "text/plain": [
       "74563"
      ]
     },
     "execution_count": 68,
     "metadata": {},
     "output_type": "execute_result"
    }
   ],
   "source": [
    "len(s.geometry)"
   ]
  },
  {
   "cell_type": "markdown",
   "metadata": {},
   "source": [
    "## Adding Crash related features to grid"
   ]
  },
  {
   "cell_type": "code",
   "execution_count": 69,
   "metadata": {
    "ExecuteTime": {
     "end_time": "2019-08-02T20:31:00.484026Z",
     "start_time": "2019-08-02T20:31:00.349689Z"
    }
   },
   "outputs": [
    {
     "name": "stdout",
     "output_type": "stream",
     "text": [
      "../data/OSM_Chile/grid/geo_stgo_100_crash_test_dataset.shp\r\n",
      "../data/OSM_Chile/grid/geo_stgo_100_crash_train_dataset.shp\r\n",
      "../data/OSM_Chile/grid/geo_stgo_100_estatic_dataset.shp\r\n",
      "../data/OSM_Chile/grid/stgo_grid_100m.shp\r\n",
      "../data/OSM_Chile/grid/stgo_grid_50m.shp\r\n",
      "../data/OSM_Chile/grid/stgo_grid_50m_.shp\r\n",
      "../data/OSM_Chile/grid/stgo_grid_to_roads_100m.shp\r\n",
      "../data/OSM_Chile/grid/stgo_grid_to_roads_50m.shp\r\n"
     ]
    }
   ],
   "source": [
    "!ls ../data/OSM_Chile/grid/*.shp"
   ]
  },
  {
   "cell_type": "code",
   "execution_count": 74,
   "metadata": {
    "ExecuteTime": {
     "end_time": "2019-08-03T13:15:51.539648Z",
     "start_time": "2019-08-03T13:15:50.108644Z"
    }
   },
   "outputs": [
    {
     "data": {
      "text/plain": [
       "(63029, 2)"
      ]
     },
     "execution_count": 74,
     "metadata": {},
     "output_type": "execute_result"
    }
   ],
   "source": [
    "grid_path = \"../data/OSM_Chile/grid/stgo_grid_to_roads_100m.shp\"\n",
    "grid = gpd.read_file(grid_path, encoding='utf-8', crs={'init': 'epsg:4326'})\n",
    "grid.shape"
   ]
  },
  {
   "cell_type": "code",
   "execution_count": 71,
   "metadata": {
    "ExecuteTime": {
     "end_time": "2019-08-02T20:31:23.263446Z",
     "start_time": "2019-08-02T20:31:23.255890Z"
    }
   },
   "outputs": [
    {
     "data": {
      "text/html": [
       "<div>\n",
       "<style scoped>\n",
       "    .dataframe tbody tr th:only-of-type {\n",
       "        vertical-align: middle;\n",
       "    }\n",
       "\n",
       "    .dataframe tbody tr th {\n",
       "        vertical-align: top;\n",
       "    }\n",
       "\n",
       "    .dataframe thead th {\n",
       "        text-align: right;\n",
       "    }\n",
       "</style>\n",
       "<table border=\"1\" class=\"dataframe\">\n",
       "  <thead>\n",
       "    <tr style=\"text-align: right;\">\n",
       "      <th></th>\n",
       "      <th>FID</th>\n",
       "      <th>geometry</th>\n",
       "    </tr>\n",
       "  </thead>\n",
       "  <tbody>\n",
       "    <tr>\n",
       "      <th>0</th>\n",
       "      <td>0</td>\n",
       "      <td>POLYGON ((-70.8251902322438 -33.55724198234194...</td>\n",
       "    </tr>\n",
       "    <tr>\n",
       "      <th>1</th>\n",
       "      <td>1</td>\n",
       "      <td>POLYGON ((-70.82428525910399 -33.5563328914328...</td>\n",
       "    </tr>\n",
       "    <tr>\n",
       "      <th>2</th>\n",
       "      <td>2</td>\n",
       "      <td>POLYGON ((-70.82428525910399 -33.5572419823419...</td>\n",
       "    </tr>\n",
       "    <tr>\n",
       "      <th>3</th>\n",
       "      <td>3</td>\n",
       "      <td>POLYGON ((-70.8233761681949 -33.55633289143285...</td>\n",
       "    </tr>\n",
       "    <tr>\n",
       "      <th>4</th>\n",
       "      <td>4</td>\n",
       "      <td>POLYGON ((-70.8233761681949 -33.55724198234194...</td>\n",
       "    </tr>\n",
       "  </tbody>\n",
       "</table>\n",
       "</div>"
      ],
      "text/plain": [
       "   FID                                           geometry\n",
       "0    0  POLYGON ((-70.8251902322438 -33.55724198234194...\n",
       "1    1  POLYGON ((-70.82428525910399 -33.5563328914328...\n",
       "2    2  POLYGON ((-70.82428525910399 -33.5572419823419...\n",
       "3    3  POLYGON ((-70.8233761681949 -33.55633289143285...\n",
       "4    4  POLYGON ((-70.8233761681949 -33.55724198234194..."
      ]
     },
     "execution_count": 71,
     "metadata": {},
     "output_type": "execute_result"
    }
   ],
   "source": [
    "grid.head()"
   ]
  },
  {
   "cell_type": "markdown",
   "metadata": {},
   "source": [
    "### Defining a generic Function to add a crash event by type and date range to the grid"
   ]
  },
  {
   "cell_type": "code",
   "execution_count": 68,
   "metadata": {
    "ExecuteTime": {
     "end_time": "2019-08-03T13:11:52.660208Z",
     "start_time": "2019-08-03T13:11:52.652302Z"
    }
   },
   "outputs": [],
   "source": [
    "def adding_sin_type_date_to_grid(g, s, Y, D1, D2):\n",
    "    s = s[(s.Ano >= D1) & (s.Ano <= D2)]\n",
    "    s = s[s.Tipo__CONA == Y]\n",
    "    size = len(s)\n",
    "    s = s[['geometry']].copy()\n",
    "    s = gpd.sjoin(g, s, how='left', op='intersects')\n",
    "    s = s.fillna(0)\n",
    "    s = s.rename(columns={'index_right': Y})\n",
    "    s[Y] = s[Y].apply(lambda x: 0 if x == 0.0 else 1)\n",
    "    gs = s.groupby('FID', as_index=False).agg({\n",
    "        Y: 'sum',\n",
    "        'geometry': 'first'\n",
    "    })\n",
    "    gs = gpd.GeoDataFrame(gs, crs='4326')\n",
    "    print(\"Grid shape: \", gs.shape)\n",
    "    print(\"Crash type {} has {} events\".format(Y, gs[Y].sum()))\n",
    "    print(\" - {} events not capured on grid\".format(size - gs[Y].sum()))\n",
    "    return gs"
   ]
  },
  {
   "cell_type": "markdown",
   "metadata": {},
   "source": [
    "## Define Features from 2013 to 2017 to be used as Train"
   ]
  },
  {
   "cell_type": "code",
   "execution_count": 73,
   "metadata": {
    "ExecuteTime": {
     "end_time": "2019-08-02T20:31:44.778944Z",
     "start_time": "2019-08-02T20:31:44.775997Z"
    }
   },
   "outputs": [],
   "source": [
    "D1 = 2013\n",
    "D2 = 2017"
   ]
  },
  {
   "cell_type": "code",
   "execution_count": 74,
   "metadata": {
    "ExecuteTime": {
     "end_time": "2019-08-02T20:32:05.542896Z",
     "start_time": "2019-08-02T20:31:55.527118Z"
    }
   },
   "outputs": [
    {
     "name": "stdout",
     "output_type": "stream",
     "text": [
      "Grid shape:  (63029, 3)\n",
      "Crash type COLISION has 62616 events\n",
      " - 635 events not capured on grid\n"
     ]
    }
   ],
   "source": [
    "Y = 'COLISION'\n",
    "COLISION = adding_sin_type_date_to_grid(grid, siniestros, Y, D1, D2)"
   ]
  },
  {
   "cell_type": "code",
   "execution_count": 75,
   "metadata": {
    "ExecuteTime": {
     "end_time": "2019-08-02T20:32:23.579677Z",
     "start_time": "2019-08-02T20:32:16.272739Z"
    }
   },
   "outputs": [
    {
     "name": "stdout",
     "output_type": "stream",
     "text": [
      "Grid shape:  (63029, 3)\n",
      "Crash type CHOQUE has 19903 events\n",
      " - 278 events not capured on grid\n"
     ]
    }
   ],
   "source": [
    "Y = 'CHOQUE'\n",
    "CHOQUE = adding_sin_type_date_to_grid(grid, siniestros, Y, D1, D2)"
   ]
  },
  {
   "cell_type": "code",
   "execution_count": 76,
   "metadata": {
    "ExecuteTime": {
     "end_time": "2019-08-02T20:32:41.779023Z",
     "start_time": "2019-08-02T20:32:34.601181Z"
    }
   },
   "outputs": [
    {
     "name": "stdout",
     "output_type": "stream",
     "text": [
      "Grid shape:  (63029, 3)\n",
      "Crash type ATROPELLO has 10999 events\n",
      " - 70 events not capured on grid\n"
     ]
    }
   ],
   "source": [
    "Y = 'ATROPELLO'\n",
    "ATROPELLO = adding_sin_type_date_to_grid(grid, siniestros, Y, D1, D2)"
   ]
  },
  {
   "cell_type": "code",
   "execution_count": 77,
   "metadata": {
    "ExecuteTime": {
     "end_time": "2019-08-02T20:32:58.992065Z",
     "start_time": "2019-08-02T20:32:52.764080Z"
    }
   },
   "outputs": [
    {
     "name": "stdout",
     "output_type": "stream",
     "text": [
      "Grid shape:  (63029, 3)\n",
      "Crash type OTRO TIPO has 1925 events\n",
      " - 25 events not capured on grid\n"
     ]
    }
   ],
   "source": [
    "Y = 'OTRO TIPO'\n",
    "OTRO_TIPO = adding_sin_type_date_to_grid(grid, siniestros, Y, D1, D2)"
   ]
  },
  {
   "cell_type": "code",
   "execution_count": 78,
   "metadata": {
    "ExecuteTime": {
     "end_time": "2019-08-02T20:33:16.057323Z",
     "start_time": "2019-08-02T20:33:09.837276Z"
    }
   },
   "outputs": [
    {
     "name": "stdout",
     "output_type": "stream",
     "text": [
      "Grid shape:  (63029, 3)\n",
      "Crash type CAIDA has 2868 events\n",
      " - 21 events not capured on grid\n"
     ]
    }
   ],
   "source": [
    "Y = 'CAIDA'\n",
    "CAIDA = adding_sin_type_date_to_grid(grid, siniestros, Y, D1, D2)"
   ]
  },
  {
   "cell_type": "code",
   "execution_count": 79,
   "metadata": {
    "ExecuteTime": {
     "end_time": "2019-08-02T20:33:33.591955Z",
     "start_time": "2019-08-02T20:33:27.476502Z"
    }
   },
   "outputs": [
    {
     "name": "stdout",
     "output_type": "stream",
     "text": [
      "Grid shape:  (63029, 3)\n",
      "Crash type VOLCADURA has 1390 events\n",
      " - 18 events not capured on grid\n"
     ]
    }
   ],
   "source": [
    "Y = 'VOLCADURA'\n",
    "VOLCADURA = adding_sin_type_date_to_grid(grid, siniestros, Y, D1, D2)"
   ]
  },
  {
   "cell_type": "code",
   "execution_count": 80,
   "metadata": {
    "ExecuteTime": {
     "end_time": "2019-08-02T20:33:50.757997Z",
     "start_time": "2019-08-02T20:33:44.790180Z"
    }
   },
   "outputs": [
    {
     "name": "stdout",
     "output_type": "stream",
     "text": [
      "Grid shape:  (63029, 3)\n",
      "Crash type INCENDIO has 18 events\n",
      " - 0 events not capured on grid\n"
     ]
    }
   ],
   "source": [
    "Y = 'INCENDIO'\n",
    "INCENDIO = adding_sin_type_date_to_grid(grid, siniestros, Y, D1, D2)"
   ]
  },
  {
   "cell_type": "markdown",
   "metadata": {},
   "source": [
    "### Defining Crash Type Buffer "
   ]
  },
  {
   "cell_type": "code",
   "execution_count": 81,
   "metadata": {
    "ExecuteTime": {
     "end_time": "2019-08-02T20:34:02.085974Z",
     "start_time": "2019-08-02T20:34:02.082099Z"
    }
   },
   "outputs": [],
   "source": [
    "D1 = 2013\n",
    "D2 = 2017\n",
    "meters = 200\n",
    "g = grid\n",
    "Y = 'INCENDIO'"
   ]
  },
  {
   "cell_type": "code",
   "execution_count": 82,
   "metadata": {
    "ExecuteTime": {
     "end_time": "2019-08-02T20:34:13.595553Z",
     "start_time": "2019-08-02T20:34:13.579118Z"
    }
   },
   "outputs": [],
   "source": [
    "s = siniestros[(siniestros.Ano >= D1) & (siniestros.Ano <= D2)]"
   ]
  },
  {
   "cell_type": "code",
   "execution_count": 83,
   "metadata": {
    "ExecuteTime": {
     "end_time": "2019-08-02T20:34:25.463625Z",
     "start_time": "2019-08-02T20:34:25.442031Z"
    }
   },
   "outputs": [],
   "source": [
    "s = s[s.Tipo__CONA == Y]\n",
    "size = len(s)"
   ]
  },
  {
   "cell_type": "code",
   "execution_count": 84,
   "metadata": {
    "ExecuteTime": {
     "end_time": "2019-08-02T20:34:36.849131Z",
     "start_time": "2019-08-02T20:34:36.844444Z"
    }
   },
   "outputs": [],
   "source": [
    "s = s[['geometry']].copy()"
   ]
  },
  {
   "cell_type": "code",
   "execution_count": 85,
   "metadata": {
    "ExecuteTime": {
     "end_time": "2019-08-02T20:34:48.215023Z",
     "start_time": "2019-08-02T20:34:48.207188Z"
    }
   },
   "outputs": [
    {
     "data": {
      "text/html": [
       "<div>\n",
       "<style scoped>\n",
       "    .dataframe tbody tr th:only-of-type {\n",
       "        vertical-align: middle;\n",
       "    }\n",
       "\n",
       "    .dataframe tbody tr th {\n",
       "        vertical-align: top;\n",
       "    }\n",
       "\n",
       "    .dataframe thead th {\n",
       "        text-align: right;\n",
       "    }\n",
       "</style>\n",
       "<table border=\"1\" class=\"dataframe\">\n",
       "  <thead>\n",
       "    <tr style=\"text-align: right;\">\n",
       "      <th></th>\n",
       "      <th>geometry</th>\n",
       "    </tr>\n",
       "  </thead>\n",
       "  <tbody>\n",
       "    <tr>\n",
       "      <th>7271</th>\n",
       "      <td>POINT (-70.66162919982764 -33.48141739979316)</td>\n",
       "    </tr>\n",
       "    <tr>\n",
       "      <th>15502</th>\n",
       "      <td>POINT (-70.60784355683467 -33.5352836553164)</td>\n",
       "    </tr>\n",
       "    <tr>\n",
       "      <th>33163</th>\n",
       "      <td>POINT (-70.67026881178782 -33.45175553260719)</td>\n",
       "    </tr>\n",
       "    <tr>\n",
       "      <th>36098</th>\n",
       "      <td>POINT (-70.6892913791101 -33.36658428020854)</td>\n",
       "    </tr>\n",
       "    <tr>\n",
       "      <th>41710</th>\n",
       "      <td>POINT (-70.64829877821325 -33.56033034357485)</td>\n",
       "    </tr>\n",
       "    <tr>\n",
       "      <th>51819</th>\n",
       "      <td>POINT (-70.66704885794493 -33.43103241911675)</td>\n",
       "    </tr>\n",
       "    <tr>\n",
       "      <th>52396</th>\n",
       "      <td>POINT (-70.67392671786273 -33.44281676888118)</td>\n",
       "    </tr>\n",
       "    <tr>\n",
       "      <th>52789</th>\n",
       "      <td>POINT (-70.52963623984905 -33.42013078749365)</td>\n",
       "    </tr>\n",
       "    <tr>\n",
       "      <th>69226</th>\n",
       "      <td>POINT (-70.527852 -33.46649020000002)</td>\n",
       "    </tr>\n",
       "    <tr>\n",
       "      <th>70377</th>\n",
       "      <td>POINT (-70.56839816854708 -33.54753778839526)</td>\n",
       "    </tr>\n",
       "  </tbody>\n",
       "</table>\n",
       "</div>"
      ],
      "text/plain": [
       "                                            geometry\n",
       "7271   POINT (-70.66162919982764 -33.48141739979316)\n",
       "15502   POINT (-70.60784355683467 -33.5352836553164)\n",
       "33163  POINT (-70.67026881178782 -33.45175553260719)\n",
       "36098   POINT (-70.6892913791101 -33.36658428020854)\n",
       "41710  POINT (-70.64829877821325 -33.56033034357485)\n",
       "51819  POINT (-70.66704885794493 -33.43103241911675)\n",
       "52396  POINT (-70.67392671786273 -33.44281676888118)\n",
       "52789  POINT (-70.52963623984905 -33.42013078749365)\n",
       "69226          POINT (-70.527852 -33.46649020000002)\n",
       "70377  POINT (-70.56839816854708 -33.54753778839526)"
      ]
     },
     "execution_count": 85,
     "metadata": {},
     "output_type": "execute_result"
    }
   ],
   "source": [
    "s.head(10)"
   ]
  },
  {
   "cell_type": "code",
   "execution_count": 86,
   "metadata": {
    "ExecuteTime": {
     "end_time": "2019-08-02T20:34:59.278254Z",
     "start_time": "2019-08-02T20:34:59.273425Z"
    }
   },
   "outputs": [],
   "source": [
    "dist = (meters*0.1)/11000\n",
    "s['geometry']= s.geometry.buffer(dist)"
   ]
  },
  {
   "cell_type": "code",
   "execution_count": 87,
   "metadata": {
    "ExecuteTime": {
     "end_time": "2019-08-02T20:35:10.610041Z",
     "start_time": "2019-08-02T20:35:10.600393Z"
    }
   },
   "outputs": [
    {
     "data": {
      "text/html": [
       "<div>\n",
       "<style scoped>\n",
       "    .dataframe tbody tr th:only-of-type {\n",
       "        vertical-align: middle;\n",
       "    }\n",
       "\n",
       "    .dataframe tbody tr th {\n",
       "        vertical-align: top;\n",
       "    }\n",
       "\n",
       "    .dataframe thead th {\n",
       "        text-align: right;\n",
       "    }\n",
       "</style>\n",
       "<table border=\"1\" class=\"dataframe\">\n",
       "  <thead>\n",
       "    <tr style=\"text-align: right;\">\n",
       "      <th></th>\n",
       "      <th>geometry</th>\n",
       "    </tr>\n",
       "  </thead>\n",
       "  <tbody>\n",
       "    <tr>\n",
       "      <th>7271</th>\n",
       "      <td>POLYGON ((-70.65981101800946 -33.4814173997931...</td>\n",
       "    </tr>\n",
       "    <tr>\n",
       "      <th>15502</th>\n",
       "      <td>POLYGON ((-70.60602537501649 -33.5352836553164...</td>\n",
       "    </tr>\n",
       "    <tr>\n",
       "      <th>33163</th>\n",
       "      <td>POLYGON ((-70.66845062996964 -33.4517555326071...</td>\n",
       "    </tr>\n",
       "    <tr>\n",
       "      <th>36098</th>\n",
       "      <td>POLYGON ((-70.68747319729192 -33.3665842802085...</td>\n",
       "    </tr>\n",
       "    <tr>\n",
       "      <th>41710</th>\n",
       "      <td>POLYGON ((-70.64648059639507 -33.5603303435748...</td>\n",
       "    </tr>\n",
       "    <tr>\n",
       "      <th>51819</th>\n",
       "      <td>POLYGON ((-70.66523067612675 -33.4310324191167...</td>\n",
       "    </tr>\n",
       "    <tr>\n",
       "      <th>52396</th>\n",
       "      <td>POLYGON ((-70.67210853604455 -33.4428167688811...</td>\n",
       "    </tr>\n",
       "    <tr>\n",
       "      <th>52789</th>\n",
       "      <td>POLYGON ((-70.52781805803087 -33.4201307874936...</td>\n",
       "    </tr>\n",
       "    <tr>\n",
       "      <th>69226</th>\n",
       "      <td>POLYGON ((-70.52603381818182 -33.4664902000000...</td>\n",
       "    </tr>\n",
       "    <tr>\n",
       "      <th>70377</th>\n",
       "      <td>POLYGON ((-70.5665799867289 -33.54753778839526...</td>\n",
       "    </tr>\n",
       "  </tbody>\n",
       "</table>\n",
       "</div>"
      ],
      "text/plain": [
       "                                                geometry\n",
       "7271   POLYGON ((-70.65981101800946 -33.4814173997931...\n",
       "15502  POLYGON ((-70.60602537501649 -33.5352836553164...\n",
       "33163  POLYGON ((-70.66845062996964 -33.4517555326071...\n",
       "36098  POLYGON ((-70.68747319729192 -33.3665842802085...\n",
       "41710  POLYGON ((-70.64648059639507 -33.5603303435748...\n",
       "51819  POLYGON ((-70.66523067612675 -33.4310324191167...\n",
       "52396  POLYGON ((-70.67210853604455 -33.4428167688811...\n",
       "52789  POLYGON ((-70.52781805803087 -33.4201307874936...\n",
       "69226  POLYGON ((-70.52603381818182 -33.4664902000000...\n",
       "70377  POLYGON ((-70.5665799867289 -33.54753778839526..."
      ]
     },
     "execution_count": 87,
     "metadata": {},
     "output_type": "execute_result"
    }
   ],
   "source": [
    "s.head(10)"
   ]
  },
  {
   "cell_type": "code",
   "execution_count": 88,
   "metadata": {
    "ExecuteTime": {
     "end_time": "2019-08-02T20:35:21.923826Z",
     "start_time": "2019-08-02T20:35:21.920672Z"
    }
   },
   "outputs": [],
   "source": [
    "# sb = gpd.GeoDataFrame(sb, crs='4326')"
   ]
  },
  {
   "cell_type": "code",
   "execution_count": 89,
   "metadata": {
    "ExecuteTime": {
     "end_time": "2019-08-02T20:35:36.831311Z",
     "start_time": "2019-08-02T20:35:33.178275Z"
    }
   },
   "outputs": [],
   "source": [
    "s = gpd.sjoin(g, s, how='left', op='intersects')"
   ]
  },
  {
   "cell_type": "code",
   "execution_count": 90,
   "metadata": {
    "ExecuteTime": {
     "end_time": "2019-08-02T20:35:48.056992Z",
     "start_time": "2019-08-02T20:35:48.048656Z"
    }
   },
   "outputs": [
    {
     "data": {
      "text/html": [
       "<div>\n",
       "<style scoped>\n",
       "    .dataframe tbody tr th:only-of-type {\n",
       "        vertical-align: middle;\n",
       "    }\n",
       "\n",
       "    .dataframe tbody tr th {\n",
       "        vertical-align: top;\n",
       "    }\n",
       "\n",
       "    .dataframe thead th {\n",
       "        text-align: right;\n",
       "    }\n",
       "</style>\n",
       "<table border=\"1\" class=\"dataframe\">\n",
       "  <thead>\n",
       "    <tr style=\"text-align: right;\">\n",
       "      <th></th>\n",
       "      <th>FID</th>\n",
       "      <th>geometry</th>\n",
       "      <th>index_right</th>\n",
       "    </tr>\n",
       "  </thead>\n",
       "  <tbody>\n",
       "    <tr>\n",
       "      <th>0</th>\n",
       "      <td>0</td>\n",
       "      <td>POLYGON ((-70.8251902322438 -33.55724198234194...</td>\n",
       "      <td>NaN</td>\n",
       "    </tr>\n",
       "    <tr>\n",
       "      <th>1</th>\n",
       "      <td>1</td>\n",
       "      <td>POLYGON ((-70.82428525910399 -33.5563328914328...</td>\n",
       "      <td>NaN</td>\n",
       "    </tr>\n",
       "    <tr>\n",
       "      <th>2</th>\n",
       "      <td>2</td>\n",
       "      <td>POLYGON ((-70.82428525910399 -33.5572419823419...</td>\n",
       "      <td>NaN</td>\n",
       "    </tr>\n",
       "    <tr>\n",
       "      <th>3</th>\n",
       "      <td>3</td>\n",
       "      <td>POLYGON ((-70.8233761681949 -33.55633289143285...</td>\n",
       "      <td>NaN</td>\n",
       "    </tr>\n",
       "    <tr>\n",
       "      <th>4</th>\n",
       "      <td>4</td>\n",
       "      <td>POLYGON ((-70.8233761681949 -33.55724198234194...</td>\n",
       "      <td>NaN</td>\n",
       "    </tr>\n",
       "  </tbody>\n",
       "</table>\n",
       "</div>"
      ],
      "text/plain": [
       "   FID                                           geometry  index_right\n",
       "0    0  POLYGON ((-70.8251902322438 -33.55724198234194...          NaN\n",
       "1    1  POLYGON ((-70.82428525910399 -33.5563328914328...          NaN\n",
       "2    2  POLYGON ((-70.82428525910399 -33.5572419823419...          NaN\n",
       "3    3  POLYGON ((-70.8233761681949 -33.55633289143285...          NaN\n",
       "4    4  POLYGON ((-70.8233761681949 -33.55724198234194...          NaN"
      ]
     },
     "execution_count": 90,
     "metadata": {},
     "output_type": "execute_result"
    }
   ],
   "source": [
    "s.head()"
   ]
  },
  {
   "cell_type": "code",
   "execution_count": 91,
   "metadata": {
    "ExecuteTime": {
     "end_time": "2019-08-02T20:35:59.664982Z",
     "start_time": "2019-08-02T20:35:59.649963Z"
    }
   },
   "outputs": [],
   "source": [
    "s = s.fillna(0)"
   ]
  },
  {
   "cell_type": "code",
   "execution_count": 92,
   "metadata": {
    "ExecuteTime": {
     "end_time": "2019-08-02T20:36:11.323659Z",
     "start_time": "2019-08-02T20:36:11.311379Z"
    }
   },
   "outputs": [
    {
     "data": {
      "text/plain": [
       "0.0        62701\n",
       "7271.0        22\n",
       "91597.0       22\n",
       "91598.0       22\n",
       "41710.0       22\n",
       "98239.0       22\n",
       "52396.0       22\n",
       "36098.0       22\n",
       "72466.0       22\n",
       "51819.0       20\n",
       "93487.0       20\n",
       "15502.0       20\n",
       "33163.0       20\n",
       "85836.0       20\n",
       "94432.0       18\n",
       "52789.0       17\n",
       "69226.0       16\n",
       "70377.0       15\n",
       "71010.0       15\n",
       "Name: index_right, dtype: int64"
      ]
     },
     "execution_count": 92,
     "metadata": {},
     "output_type": "execute_result"
    }
   ],
   "source": [
    "s.index_right.value_counts()"
   ]
  },
  {
   "cell_type": "code",
   "execution_count": 93,
   "metadata": {
    "ExecuteTime": {
     "end_time": "2019-08-02T20:36:22.887402Z",
     "start_time": "2019-08-02T20:36:22.884720Z"
    }
   },
   "outputs": [],
   "source": [
    "Y = Y+'_'+str(meters)"
   ]
  },
  {
   "cell_type": "code",
   "execution_count": 94,
   "metadata": {
    "ExecuteTime": {
     "end_time": "2019-08-02T20:36:34.599328Z",
     "start_time": "2019-08-02T20:36:34.584596Z"
    }
   },
   "outputs": [],
   "source": [
    "s = s.rename(columns={'index_right': Y})"
   ]
  },
  {
   "cell_type": "code",
   "execution_count": 95,
   "metadata": {
    "ExecuteTime": {
     "end_time": "2019-08-02T20:36:46.080169Z",
     "start_time": "2019-08-02T20:36:46.071529Z"
    }
   },
   "outputs": [
    {
     "data": {
      "text/html": [
       "<div>\n",
       "<style scoped>\n",
       "    .dataframe tbody tr th:only-of-type {\n",
       "        vertical-align: middle;\n",
       "    }\n",
       "\n",
       "    .dataframe tbody tr th {\n",
       "        vertical-align: top;\n",
       "    }\n",
       "\n",
       "    .dataframe thead th {\n",
       "        text-align: right;\n",
       "    }\n",
       "</style>\n",
       "<table border=\"1\" class=\"dataframe\">\n",
       "  <thead>\n",
       "    <tr style=\"text-align: right;\">\n",
       "      <th></th>\n",
       "      <th>FID</th>\n",
       "      <th>geometry</th>\n",
       "      <th>INCENDIO_200</th>\n",
       "    </tr>\n",
       "  </thead>\n",
       "  <tbody>\n",
       "    <tr>\n",
       "      <th>0</th>\n",
       "      <td>0</td>\n",
       "      <td>POLYGON ((-70.8251902322438 -33.55724198234194...</td>\n",
       "      <td>0.0</td>\n",
       "    </tr>\n",
       "    <tr>\n",
       "      <th>1</th>\n",
       "      <td>1</td>\n",
       "      <td>POLYGON ((-70.82428525910399 -33.5563328914328...</td>\n",
       "      <td>0.0</td>\n",
       "    </tr>\n",
       "  </tbody>\n",
       "</table>\n",
       "</div>"
      ],
      "text/plain": [
       "   FID                                           geometry  INCENDIO_200\n",
       "0    0  POLYGON ((-70.8251902322438 -33.55724198234194...           0.0\n",
       "1    1  POLYGON ((-70.82428525910399 -33.5563328914328...           0.0"
      ]
     },
     "execution_count": 95,
     "metadata": {},
     "output_type": "execute_result"
    }
   ],
   "source": [
    "s.head(2)"
   ]
  },
  {
   "cell_type": "code",
   "execution_count": 96,
   "metadata": {
    "ExecuteTime": {
     "end_time": "2019-08-02T20:36:57.470493Z",
     "start_time": "2019-08-02T20:36:57.449724Z"
    }
   },
   "outputs": [],
   "source": [
    "s[Y] = s[Y].apply(lambda x: 0 if x == 0.0 else 1)"
   ]
  },
  {
   "cell_type": "code",
   "execution_count": 97,
   "metadata": {
    "ExecuteTime": {
     "end_time": "2019-08-02T20:37:11.181774Z",
     "start_time": "2019-08-02T20:37:08.863567Z"
    }
   },
   "outputs": [],
   "source": [
    "gs = s.groupby('FID', as_index=False).agg({\n",
    "    Y: 'sum',\n",
    "    'geometry': 'first'\n",
    "})\n",
    "gs = gpd.GeoDataFrame(gs, crs='4326')"
   ]
  },
  {
   "cell_type": "code",
   "execution_count": 98,
   "metadata": {
    "ExecuteTime": {
     "end_time": "2019-08-02T20:37:22.648717Z",
     "start_time": "2019-08-02T20:37:22.643951Z"
    }
   },
   "outputs": [
    {
     "name": "stdout",
     "output_type": "stream",
     "text": [
      "Grid shape:  (63029, 3)\n",
      "Crash type INCENDIO_200 has 357 events\n"
     ]
    }
   ],
   "source": [
    "print(\"Grid shape: \", gs.shape)\n",
    "print(\"Crash type {} has {} events\".format(Y, gs[Y].sum()))"
   ]
  },
  {
   "cell_type": "markdown",
   "metadata": {
    "ExecuteTime": {
     "end_time": "2019-07-26T18:39:08.898124Z",
     "start_time": "2019-07-26T18:39:08.895820Z"
    }
   },
   "source": [
    "### Defining a generic Function to add a crash event by type, distance in meters and date range to the grid"
   ]
  },
  {
   "cell_type": "code",
   "execution_count": 69,
   "metadata": {
    "ExecuteTime": {
     "end_time": "2019-08-03T13:12:12.066308Z",
     "start_time": "2019-08-03T13:12:12.058277Z"
    }
   },
   "outputs": [],
   "source": [
    "def adding_sin_type_date_dist_to_grid(g, s, Y, D1, D2, meters): \n",
    "    s = s[(s.Ano >= D1) & (s.Ano <= D2)]\n",
    "    s = s[s.Tipo__CONA == Y]\n",
    "    s = s[['geometry']].copy()\n",
    "    dist = (meters*0.1)/11000\n",
    "    s['geometry']= s.geometry.buffer(dist)\n",
    "    s = gpd.sjoin(g, s, how='left', op='intersects')\n",
    "    s = s.fillna(0)\n",
    "    Y = Y+'_'+str(meters)\n",
    "    s = s.rename(columns={'index_right': Y})\n",
    "    s[Y] = s[Y].apply(lambda x: 0 if x == 0.0 else 1)\n",
    "    gs = s.groupby('FID', as_index=False).agg({\n",
    "        Y: 'sum',\n",
    "        'geometry': 'first'\n",
    "    })\n",
    "    gs = gpd.GeoDataFrame(gs, crs='4326')\n",
    "    print(\"Grid shape: \", gs.shape)\n",
    "    print(\"Crash type {} has {} events\".format(Y, gs[Y].sum()))\n",
    "    return gs"
   ]
  },
  {
   "cell_type": "code",
   "execution_count": 100,
   "metadata": {
    "ExecuteTime": {
     "end_time": "2019-08-02T20:37:45.727278Z",
     "start_time": "2019-08-02T20:37:45.724245Z"
    }
   },
   "outputs": [],
   "source": [
    "D1 = 2013\n",
    "D2 = 2017"
   ]
  },
  {
   "cell_type": "code",
   "execution_count": 101,
   "metadata": {
    "ExecuteTime": {
     "end_time": "2019-08-02T20:37:57.233888Z",
     "start_time": "2019-08-02T20:37:57.230964Z"
    }
   },
   "outputs": [],
   "source": [
    "meters = 200\n",
    "Y = 'INCENDIO'"
   ]
  },
  {
   "cell_type": "code",
   "execution_count": 102,
   "metadata": {
    "ExecuteTime": {
     "end_time": "2019-08-02T20:38:14.448100Z",
     "start_time": "2019-08-02T20:38:08.679905Z"
    }
   },
   "outputs": [
    {
     "name": "stdout",
     "output_type": "stream",
     "text": [
      "Grid shape:  (63029, 3)\n",
      "Crash type INCENDIO_200 has 357 events\n"
     ]
    }
   ],
   "source": [
    "INCENDIO_200 = adding_sin_type_date_dist_to_grid(grid, siniestros, Y, D1, D2,\n",
    "                                                 meters)"
   ]
  },
  {
   "cell_type": "code",
   "execution_count": 103,
   "metadata": {
    "ExecuteTime": {
     "end_time": "2019-08-02T20:38:26.073559Z",
     "start_time": "2019-08-02T20:38:26.070645Z"
    }
   },
   "outputs": [],
   "source": [
    "meters = 100"
   ]
  },
  {
   "cell_type": "code",
   "execution_count": 104,
   "metadata": {
    "ExecuteTime": {
     "end_time": "2019-08-02T20:38:43.510354Z",
     "start_time": "2019-08-02T20:38:37.758217Z"
    }
   },
   "outputs": [
    {
     "name": "stdout",
     "output_type": "stream",
     "text": [
      "Grid shape:  (63029, 3)\n",
      "Crash type INCENDIO_100 has 138 events\n"
     ]
    }
   ],
   "source": [
    "INCENDIO_100 = adding_sin_type_date_dist_to_grid(grid, siniestros, Y, D1, D2,\n",
    "                                                 meters)"
   ]
  },
  {
   "cell_type": "code",
   "execution_count": 105,
   "metadata": {
    "ExecuteTime": {
     "end_time": "2019-08-02T20:38:55.130490Z",
     "start_time": "2019-08-02T20:38:55.127377Z"
    }
   },
   "outputs": [],
   "source": [
    "meters = 1"
   ]
  },
  {
   "cell_type": "code",
   "execution_count": 106,
   "metadata": {
    "ExecuteTime": {
     "end_time": "2019-08-02T20:39:14.735177Z",
     "start_time": "2019-08-02T20:39:07.908799Z"
    }
   },
   "outputs": [
    {
     "name": "stdout",
     "output_type": "stream",
     "text": [
      "Grid shape:  (63029, 3)\n",
      "Crash type INCENDIO_1 has 18 events\n"
     ]
    }
   ],
   "source": [
    "INCENDIO_1 = adding_sin_type_date_dist_to_grid(grid, siniestros, Y, D1, D2,\n",
    "                                               meters)"
   ]
  },
  {
   "cell_type": "code",
   "execution_count": 107,
   "metadata": {
    "ExecuteTime": {
     "end_time": "2019-08-02T20:39:55.002491Z",
     "start_time": "2019-08-02T20:39:27.484754Z"
    }
   },
   "outputs": [
    {
     "name": "stdout",
     "output_type": "stream",
     "text": [
      "Grid shape:  (63029, 3)\n",
      "Crash type ATROPELLO_100 has 85267 events\n",
      "Grid shape:  (63029, 3)\n",
      "Crash type ATROPELLO_200 has 221778 events\n"
     ]
    }
   ],
   "source": [
    "ATROPELLO_100 = adding_sin_type_date_dist_to_grid(grid, siniestros, 'ATROPELLO', D1, D2, 100)\n",
    "ATROPELLO_200 = adding_sin_type_date_dist_to_grid(grid, siniestros, 'ATROPELLO', D1, D2, 200)"
   ]
  },
  {
   "cell_type": "code",
   "execution_count": 108,
   "metadata": {
    "ExecuteTime": {
     "end_time": "2019-08-02T20:40:23.653259Z",
     "start_time": "2019-08-02T20:40:07.842409Z"
    }
   },
   "outputs": [
    {
     "name": "stdout",
     "output_type": "stream",
     "text": [
      "Grid shape:  (63029, 3)\n",
      "Crash type CAIDA_100 has 22165 events\n",
      "Grid shape:  (63029, 3)\n",
      "Crash type CAIDA_200 has 57587 events\n"
     ]
    }
   ],
   "source": [
    "CAIDA_100 = adding_sin_type_date_dist_to_grid(grid, siniestros, 'CAIDA', D1, D2, 100)\n",
    "CAIDA_200 = adding_sin_type_date_dist_to_grid(grid, siniestros, 'CAIDA', D1, D2, 200)"
   ]
  },
  {
   "cell_type": "code",
   "execution_count": 109,
   "metadata": {
    "ExecuteTime": {
     "end_time": "2019-08-02T20:42:15.829665Z",
     "start_time": "2019-08-02T20:40:35.677535Z"
    }
   },
   "outputs": [
    {
     "name": "stdout",
     "output_type": "stream",
     "text": [
      "Grid shape:  (63029, 3)\n",
      "Crash type COLISION_100 has 484477 events\n",
      "Grid shape:  (63029, 3)\n",
      "Crash type COLISION_200 has 1254630 events\n"
     ]
    }
   ],
   "source": [
    "COLISION_100 = adding_sin_type_date_dist_to_grid(grid, siniestros, 'COLISION', D1, D2, 100)\n",
    "COLISION_200 = adding_sin_type_date_dist_to_grid(grid, siniestros, 'COLISION', D1, D2, 200)"
   ]
  },
  {
   "cell_type": "code",
   "execution_count": 110,
   "metadata": {
    "ExecuteTime": {
     "end_time": "2019-08-02T20:42:43.033188Z",
     "start_time": "2019-08-02T20:42:28.188235Z"
    }
   },
   "outputs": [
    {
     "name": "stdout",
     "output_type": "stream",
     "text": [
      "Grid shape:  (63029, 3)\n",
      "Crash type OTRO TIPO_100 has 14835 events\n",
      "Grid shape:  (63029, 3)\n",
      "Crash type OTRO TIPO_200 has 38544 events\n"
     ]
    }
   ],
   "source": [
    "OTRO_TIPO_100 = adding_sin_type_date_dist_to_grid(grid, siniestros, 'OTRO TIPO', D1, D2, 100)\n",
    "OTRO_TIPO_200 = adding_sin_type_date_dist_to_grid(grid, siniestros, 'OTRO TIPO', D1, D2, 200)"
   ]
  },
  {
   "cell_type": "code",
   "execution_count": 111,
   "metadata": {
    "ExecuteTime": {
     "end_time": "2019-08-02T20:43:09.574147Z",
     "start_time": "2019-08-02T20:42:55.439678Z"
    }
   },
   "outputs": [
    {
     "name": "stdout",
     "output_type": "stream",
     "text": [
      "Grid shape:  (63029, 3)\n",
      "Crash type VOLCADURA_100 has 10647 events\n",
      "Grid shape:  (63029, 3)\n",
      "Crash type VOLCADURA_200 has 27364 events\n"
     ]
    }
   ],
   "source": [
    "VOLCADURA_100 = adding_sin_type_date_dist_to_grid(grid, siniestros, 'VOLCADURA', D1, D2, 100)\n",
    "VOLCADURA_200 = adding_sin_type_date_dist_to_grid(grid, siniestros, 'VOLCADURA', D1, D2, 200)"
   ]
  },
  {
   "cell_type": "code",
   "execution_count": 112,
   "metadata": {
    "ExecuteTime": {
     "end_time": "2019-08-02T20:44:00.959154Z",
     "start_time": "2019-08-02T20:43:22.310002Z"
    }
   },
   "outputs": [
    {
     "name": "stdout",
     "output_type": "stream",
     "text": [
      "Grid shape:  (63029, 3)\n",
      "Crash type CHOQUE_100 has 153468 events\n",
      "Grid shape:  (63029, 3)\n",
      "Crash type CHOQUE_200 has 397368 events\n"
     ]
    }
   ],
   "source": [
    "CHOQUE_100 = adding_sin_type_date_dist_to_grid(grid, siniestros, 'CHOQUE', D1, D2, 100)\n",
    "CHOQUE_200 = adding_sin_type_date_dist_to_grid(grid, siniestros, 'CHOQUE', D1, D2, 200)"
   ]
  },
  {
   "cell_type": "markdown",
   "metadata": {},
   "source": [
    "### Defining a generic Function to add a crash dinamic features and date range to the grid"
   ]
  },
  {
   "cell_type": "code",
   "execution_count": 113,
   "metadata": {
    "ExecuteTime": {
     "end_time": "2019-08-02T20:44:13.914014Z",
     "start_time": "2019-08-02T20:44:13.911108Z"
    }
   },
   "outputs": [],
   "source": [
    "D1 = 2013\n",
    "D2 = 2017\n",
    "Feature = 'SEV_Index'"
   ]
  },
  {
   "cell_type": "code",
   "execution_count": 114,
   "metadata": {
    "ExecuteTime": {
     "end_time": "2019-08-02T20:44:26.982173Z",
     "start_time": "2019-08-02T20:44:26.975285Z"
    }
   },
   "outputs": [
    {
     "data": {
      "text/plain": [
       "1    69617\n",
       "2    35766\n",
       "4     9745\n",
       "3     3644\n",
       "5     1270\n",
       "Name: SEV_Index, dtype: int64"
      ]
     },
     "execution_count": 114,
     "metadata": {},
     "output_type": "execute_result"
    }
   ],
   "source": [
    "siniestros[Feature].value_counts()"
   ]
  },
  {
   "cell_type": "code",
   "execution_count": 115,
   "metadata": {
    "ExecuteTime": {
     "end_time": "2019-08-02T20:44:40.042336Z",
     "start_time": "2019-08-02T20:44:40.026800Z"
    }
   },
   "outputs": [],
   "source": [
    "s = siniestros[(siniestros.Ano >= D1) & (siniestros.Ano <= D2)]"
   ]
  },
  {
   "cell_type": "code",
   "execution_count": 116,
   "metadata": {
    "ExecuteTime": {
     "end_time": "2019-08-02T20:44:53.376747Z",
     "start_time": "2019-08-02T20:44:53.357139Z"
    }
   },
   "outputs": [],
   "source": [
    "s = s[['geometry', Feature]].copy()"
   ]
  },
  {
   "cell_type": "code",
   "execution_count": 117,
   "metadata": {
    "ExecuteTime": {
     "end_time": "2019-08-02T20:45:13.972095Z",
     "start_time": "2019-08-02T20:45:06.659320Z"
    }
   },
   "outputs": [],
   "source": [
    "s = gpd.sjoin(grid, s, how='left', op='intersects')"
   ]
  },
  {
   "cell_type": "code",
   "execution_count": 118,
   "metadata": {
    "ExecuteTime": {
     "end_time": "2019-08-02T20:45:27.155720Z",
     "start_time": "2019-08-02T20:45:27.134365Z"
    }
   },
   "outputs": [],
   "source": [
    "s = s.fillna(0)"
   ]
  },
  {
   "cell_type": "code",
   "execution_count": 119,
   "metadata": {
    "ExecuteTime": {
     "end_time": "2019-08-02T20:45:40.363296Z",
     "start_time": "2019-08-02T20:45:40.354121Z"
    }
   },
   "outputs": [
    {
     "data": {
      "text/html": [
       "<div>\n",
       "<style scoped>\n",
       "    .dataframe tbody tr th:only-of-type {\n",
       "        vertical-align: middle;\n",
       "    }\n",
       "\n",
       "    .dataframe tbody tr th {\n",
       "        vertical-align: top;\n",
       "    }\n",
       "\n",
       "    .dataframe thead th {\n",
       "        text-align: right;\n",
       "    }\n",
       "</style>\n",
       "<table border=\"1\" class=\"dataframe\">\n",
       "  <thead>\n",
       "    <tr style=\"text-align: right;\">\n",
       "      <th></th>\n",
       "      <th>FID</th>\n",
       "      <th>geometry</th>\n",
       "      <th>index_right</th>\n",
       "      <th>SEV_Index</th>\n",
       "    </tr>\n",
       "  </thead>\n",
       "  <tbody>\n",
       "    <tr>\n",
       "      <th>0</th>\n",
       "      <td>0</td>\n",
       "      <td>POLYGON ((-70.8251902322438 -33.55724198234194...</td>\n",
       "      <td>0.0</td>\n",
       "      <td>0.0</td>\n",
       "    </tr>\n",
       "    <tr>\n",
       "      <th>1</th>\n",
       "      <td>1</td>\n",
       "      <td>POLYGON ((-70.82428525910399 -33.5563328914328...</td>\n",
       "      <td>0.0</td>\n",
       "      <td>0.0</td>\n",
       "    </tr>\n",
       "  </tbody>\n",
       "</table>\n",
       "</div>"
      ],
      "text/plain": [
       "   FID                                           geometry  index_right  \\\n",
       "0    0  POLYGON ((-70.8251902322438 -33.55724198234194...          0.0   \n",
       "1    1  POLYGON ((-70.82428525910399 -33.5563328914328...          0.0   \n",
       "\n",
       "   SEV_Index  \n",
       "0        0.0  \n",
       "1        0.0  "
      ]
     },
     "execution_count": 119,
     "metadata": {},
     "output_type": "execute_result"
    }
   ],
   "source": [
    "s.head(2)"
   ]
  },
  {
   "cell_type": "code",
   "execution_count": 120,
   "metadata": {
    "ExecuteTime": {
     "end_time": "2019-08-02T20:45:53.371748Z",
     "start_time": "2019-08-02T20:45:53.367865Z"
    }
   },
   "outputs": [],
   "source": [
    "del s['index_right']"
   ]
  },
  {
   "cell_type": "code",
   "execution_count": 121,
   "metadata": {
    "ExecuteTime": {
     "end_time": "2019-08-02T20:46:11.780477Z",
     "start_time": "2019-08-02T20:46:06.411808Z"
    }
   },
   "outputs": [],
   "source": [
    "gs = s.groupby('FID', as_index=False).agg({\n",
    "    Feature: 'mean',\n",
    "    'geometry': 'first'\n",
    "})"
   ]
  },
  {
   "cell_type": "code",
   "execution_count": 122,
   "metadata": {
    "ExecuteTime": {
     "end_time": "2019-08-02T20:46:24.801891Z",
     "start_time": "2019-08-02T20:46:24.798642Z"
    }
   },
   "outputs": [],
   "source": [
    "gs = gpd.GeoDataFrame(gs, crs='4326')"
   ]
  },
  {
   "cell_type": "code",
   "execution_count": 123,
   "metadata": {
    "ExecuteTime": {
     "end_time": "2019-08-02T20:46:38.184055Z",
     "start_time": "2019-08-02T20:46:38.175414Z"
    }
   },
   "outputs": [
    {
     "data": {
      "text/html": [
       "<div>\n",
       "<style scoped>\n",
       "    .dataframe tbody tr th:only-of-type {\n",
       "        vertical-align: middle;\n",
       "    }\n",
       "\n",
       "    .dataframe tbody tr th {\n",
       "        vertical-align: top;\n",
       "    }\n",
       "\n",
       "    .dataframe thead th {\n",
       "        text-align: right;\n",
       "    }\n",
       "</style>\n",
       "<table border=\"1\" class=\"dataframe\">\n",
       "  <thead>\n",
       "    <tr style=\"text-align: right;\">\n",
       "      <th></th>\n",
       "      <th>FID</th>\n",
       "      <th>SEV_Index</th>\n",
       "      <th>geometry</th>\n",
       "    </tr>\n",
       "  </thead>\n",
       "  <tbody>\n",
       "    <tr>\n",
       "      <th>0</th>\n",
       "      <td>0</td>\n",
       "      <td>0.0</td>\n",
       "      <td>POLYGON ((-70.8251902322438 -33.55724198234194...</td>\n",
       "    </tr>\n",
       "    <tr>\n",
       "      <th>1</th>\n",
       "      <td>1</td>\n",
       "      <td>0.0</td>\n",
       "      <td>POLYGON ((-70.82428525910399 -33.5563328914328...</td>\n",
       "    </tr>\n",
       "  </tbody>\n",
       "</table>\n",
       "</div>"
      ],
      "text/plain": [
       "   FID  SEV_Index                                           geometry\n",
       "0    0        0.0  POLYGON ((-70.8251902322438 -33.55724198234194...\n",
       "1    1        0.0  POLYGON ((-70.82428525910399 -33.5563328914328..."
      ]
     },
     "execution_count": 123,
     "metadata": {},
     "output_type": "execute_result"
    }
   ],
   "source": [
    "gs.head(2)"
   ]
  },
  {
   "cell_type": "code",
   "execution_count": 124,
   "metadata": {
    "ExecuteTime": {
     "end_time": "2019-08-02T20:46:51.674977Z",
     "start_time": "2019-08-02T20:46:51.657046Z"
    }
   },
   "outputs": [
    {
     "data": {
      "text/plain": [
       "0.0    42309\n",
       "1.0     9678\n",
       "2.0     9196\n",
       "3.0      899\n",
       "4.0      815\n",
       "5.0      132\n",
       "Name: SEV_Index, dtype: int64"
      ]
     },
     "execution_count": 124,
     "metadata": {},
     "output_type": "execute_result"
    }
   ],
   "source": [
    "gs.SEV_Index.round().value_counts()"
   ]
  },
  {
   "cell_type": "code",
   "execution_count": 125,
   "metadata": {
    "ExecuteTime": {
     "end_time": "2019-08-02T20:47:04.511100Z",
     "start_time": "2019-08-02T20:47:04.508396Z"
    }
   },
   "outputs": [],
   "source": [
    "severity = gs"
   ]
  },
  {
   "cell_type": "markdown",
   "metadata": {},
   "source": [
    "**Defining a generic Function to add a crash dinamic features and date range to the grid** "
   ]
  },
  {
   "cell_type": "code",
   "execution_count": 70,
   "metadata": {
    "ExecuteTime": {
     "end_time": "2019-08-03T13:12:24.973820Z",
     "start_time": "2019-08-03T13:12:24.966219Z"
    }
   },
   "outputs": [],
   "source": [
    "def adding_din_feat_date_dist_to_grid(g, s, Feature, D1, D2, meters, agg_type='sum'): \n",
    "    s = s[(s.Ano >= D1) & (s.Ano <= D2)]\n",
    "    s = s[['geometry', Feature]].copy()\n",
    "    dist = (meters*0.1)/11000\n",
    "    s['geometry']= s.geometry.buffer(dist)\n",
    "    s = gpd.sjoin(g, s, how='left', op='intersects')\n",
    "    s = s.fillna(0)\n",
    "    Y = Feature+'_'+str(meters)\n",
    "    s = s.rename(columns={'index_right': Y})\n",
    "    s[Y] = s[Y].apply(lambda x: 0 if x == 0.0 else 1)\n",
    "    gs = s.groupby('FID', as_index=False).agg({\n",
    "        Y: agg_type,\n",
    "        'geometry': 'first'\n",
    "    })\n",
    "    gs = gpd.GeoDataFrame(gs, crs='4326')\n",
    "    print(\"Grid shape: \", gs.shape)\n",
    "    print(\"Crash type {} has {} events\".format(Y, round(gs[Y].sum())))\n",
    "    return gs"
   ]
  },
  {
   "cell_type": "code",
   "execution_count": 127,
   "metadata": {
    "ExecuteTime": {
     "end_time": "2019-08-02T20:47:50.789440Z",
     "start_time": "2019-08-02T20:47:31.262717Z"
    },
    "scrolled": true
   },
   "outputs": [
    {
     "name": "stdout",
     "output_type": "stream",
     "text": [
      "Grid shape:  (63029, 3)\n",
      "Crash type SEV_Index_1 has 21332.0 events\n"
     ]
    }
   ],
   "source": [
    "D1 = 2013\n",
    "D2 = 2017\n",
    "Feature = 'SEV_Index'\n",
    "sever_idx = adding_din_feat_date_dist_to_grid(grid, siniestros, Feature, D1, D2, 1, agg_type='mean')"
   ]
  },
  {
   "cell_type": "code",
   "execution_count": 128,
   "metadata": {
    "ExecuteTime": {
     "end_time": "2019-08-02T20:48:53.752487Z",
     "start_time": "2019-08-02T20:48:04.210217Z"
    }
   },
   "outputs": [
    {
     "name": "stdout",
     "output_type": "stream",
     "text": [
      "Grid shape:  (63029, 3)\n",
      "Crash type SEV_Index_100 has 51908.0 events\n"
     ]
    }
   ],
   "source": [
    "sever_idx_100 = adding_din_feat_date_dist_to_grid(grid, siniestros, Feature, D1, D2, 100, agg_type='mean')"
   ]
  },
  {
   "cell_type": "code",
   "execution_count": 129,
   "metadata": {
    "ExecuteTime": {
     "end_time": "2019-08-02T20:50:52.180864Z",
     "start_time": "2019-08-02T20:49:07.871904Z"
    }
   },
   "outputs": [
    {
     "name": "stdout",
     "output_type": "stream",
     "text": [
      "Grid shape:  (63029, 3)\n",
      "Crash type SEV_Index_200 has 57634.0 events\n"
     ]
    }
   ],
   "source": [
    "sever_idx_200 = adding_din_feat_date_dist_to_grid(grid, siniestros, Feature, D1, D2, 200, agg_type='mean')"
   ]
  },
  {
   "cell_type": "markdown",
   "metadata": {},
   "source": [
    "## Creating a Train dataset"
   ]
  },
  {
   "cell_type": "code",
   "execution_count": 71,
   "metadata": {
    "ExecuteTime": {
     "end_time": "2019-08-03T13:12:36.621317Z",
     "start_time": "2019-08-03T13:12:36.618111Z"
    }
   },
   "outputs": [],
   "source": [
    "def concat_dataset(df1, df2):\n",
    "    data = pd.concat([df1, df2], axis = 1)\n",
    "    _, i = np.unique(data.columns, return_index=True)\n",
    "    data = data.iloc[:, i]\n",
    "    return data"
   ]
  },
  {
   "cell_type": "markdown",
   "metadata": {},
   "source": [
    "**Adding Centroid features**"
   ]
  },
  {
   "cell_type": "code",
   "execution_count": 131,
   "metadata": {
    "ExecuteTime": {
     "end_time": "2019-08-02T20:51:18.920968Z",
     "start_time": "2019-08-02T20:51:18.913779Z"
    }
   },
   "outputs": [],
   "source": [
    "data = grid.copy()"
   ]
  },
  {
   "cell_type": "code",
   "execution_count": 132,
   "metadata": {
    "ExecuteTime": {
     "end_time": "2019-08-02T20:51:34.313104Z",
     "start_time": "2019-08-02T20:51:32.000780Z"
    }
   },
   "outputs": [
    {
     "data": {
      "text/html": [
       "<div>\n",
       "<style scoped>\n",
       "    .dataframe tbody tr th:only-of-type {\n",
       "        vertical-align: middle;\n",
       "    }\n",
       "\n",
       "    .dataframe tbody tr th {\n",
       "        vertical-align: top;\n",
       "    }\n",
       "\n",
       "    .dataframe thead th {\n",
       "        text-align: right;\n",
       "    }\n",
       "</style>\n",
       "<table border=\"1\" class=\"dataframe\">\n",
       "  <thead>\n",
       "    <tr style=\"text-align: right;\">\n",
       "      <th></th>\n",
       "      <th>FID</th>\n",
       "      <th>geometry</th>\n",
       "      <th>X</th>\n",
       "      <th>Y</th>\n",
       "    </tr>\n",
       "  </thead>\n",
       "  <tbody>\n",
       "    <tr>\n",
       "      <th>0</th>\n",
       "      <td>0</td>\n",
       "      <td>POLYGON ((-70.8251902322438 -33.55724198234194...</td>\n",
       "      <td>-70.824738</td>\n",
       "      <td>-33.557697</td>\n",
       "    </tr>\n",
       "    <tr>\n",
       "      <th>1</th>\n",
       "      <td>1</td>\n",
       "      <td>POLYGON ((-70.82428525910399 -33.5563328914328...</td>\n",
       "      <td>-70.823831</td>\n",
       "      <td>-33.556787</td>\n",
       "    </tr>\n",
       "  </tbody>\n",
       "</table>\n",
       "</div>"
      ],
      "text/plain": [
       "   FID                                           geometry          X  \\\n",
       "0    0  POLYGON ((-70.8251902322438 -33.55724198234194... -70.824738   \n",
       "1    1  POLYGON ((-70.82428525910399 -33.5563328914328... -70.823831   \n",
       "\n",
       "           Y  \n",
       "0 -33.557697  \n",
       "1 -33.556787  "
      ]
     },
     "execution_count": 132,
     "metadata": {},
     "output_type": "execute_result"
    }
   ],
   "source": [
    "data[\"X\"] = data.centroid.x\n",
    "data[\"Y\"] = data.centroid.y\n",
    "data.head(2)"
   ]
  },
  {
   "cell_type": "markdown",
   "metadata": {},
   "source": [
    "**Adding dynamic features**"
   ]
  },
  {
   "cell_type": "code",
   "execution_count": 133,
   "metadata": {
    "ExecuteTime": {
     "end_time": "2019-08-02T20:51:47.654454Z",
     "start_time": "2019-08-02T20:51:47.549748Z"
    }
   },
   "outputs": [],
   "source": [
    "data = concat_dataset(data, COLISION)\n",
    "data = concat_dataset(data, COLISION_100)\n",
    "data = concat_dataset(data, COLISION_200)"
   ]
  },
  {
   "cell_type": "code",
   "execution_count": 134,
   "metadata": {
    "ExecuteTime": {
     "end_time": "2019-08-02T20:52:00.639294Z",
     "start_time": "2019-08-02T20:52:00.536597Z"
    }
   },
   "outputs": [],
   "source": [
    "data = concat_dataset(data, CHOQUE)\n",
    "data = concat_dataset(data, CHOQUE_100)\n",
    "data = concat_dataset(data, CHOQUE_200)"
   ]
  },
  {
   "cell_type": "code",
   "execution_count": 135,
   "metadata": {
    "ExecuteTime": {
     "end_time": "2019-08-02T20:52:13.214887Z",
     "start_time": "2019-08-02T20:52:13.100317Z"
    }
   },
   "outputs": [],
   "source": [
    "data = concat_dataset(data, ATROPELLO)\n",
    "data = concat_dataset(data, ATROPELLO_100)\n",
    "data = concat_dataset(data, ATROPELLO_200)"
   ]
  },
  {
   "cell_type": "code",
   "execution_count": 136,
   "metadata": {
    "ExecuteTime": {
     "end_time": "2019-08-02T20:52:26.433808Z",
     "start_time": "2019-08-02T20:52:26.311932Z"
    }
   },
   "outputs": [],
   "source": [
    "data = concat_dataset(data, OTRO_TIPO)\n",
    "data = concat_dataset(data, OTRO_TIPO_100)\n",
    "data = concat_dataset(data, OTRO_TIPO_200)"
   ]
  },
  {
   "cell_type": "code",
   "execution_count": 137,
   "metadata": {
    "ExecuteTime": {
     "end_time": "2019-08-02T20:52:39.872934Z",
     "start_time": "2019-08-02T20:52:39.755446Z"
    }
   },
   "outputs": [],
   "source": [
    "data = concat_dataset(data, CAIDA)\n",
    "data = concat_dataset(data, CAIDA_100)\n",
    "data = concat_dataset(data, CAIDA_200)"
   ]
  },
  {
   "cell_type": "code",
   "execution_count": 138,
   "metadata": {
    "ExecuteTime": {
     "end_time": "2019-08-02T20:52:52.853794Z",
     "start_time": "2019-08-02T20:52:52.727243Z"
    }
   },
   "outputs": [],
   "source": [
    "data = concat_dataset(data, VOLCADURA)\n",
    "data = concat_dataset(data, VOLCADURA_100)\n",
    "data = concat_dataset(data, VOLCADURA_200)"
   ]
  },
  {
   "cell_type": "code",
   "execution_count": 139,
   "metadata": {
    "ExecuteTime": {
     "end_time": "2019-08-02T20:53:06.610603Z",
     "start_time": "2019-08-02T20:53:06.458286Z"
    }
   },
   "outputs": [],
   "source": [
    "data = concat_dataset(data, INCENDIO)\n",
    "data = concat_dataset(data, INCENDIO_100)\n",
    "data = concat_dataset(data, INCENDIO_200)"
   ]
  },
  {
   "cell_type": "code",
   "execution_count": 140,
   "metadata": {
    "ExecuteTime": {
     "end_time": "2019-08-02T20:53:20.741302Z",
     "start_time": "2019-08-02T20:53:20.612992Z"
    }
   },
   "outputs": [],
   "source": [
    "data = concat_dataset(data, sever_idx)\n",
    "data = concat_dataset(data, sever_idx_100)\n",
    "data = concat_dataset(data, sever_idx_200)"
   ]
  },
  {
   "cell_type": "code",
   "execution_count": 141,
   "metadata": {
    "ExecuteTime": {
     "end_time": "2019-08-02T20:53:34.557413Z",
     "start_time": "2019-08-02T20:53:34.553579Z"
    },
    "scrolled": true
   },
   "outputs": [
    {
     "data": {
      "text/plain": [
       "(63029, 28)"
      ]
     },
     "execution_count": 141,
     "metadata": {},
     "output_type": "execute_result"
    }
   ],
   "source": [
    "data.shape"
   ]
  },
  {
   "cell_type": "code",
   "execution_count": 142,
   "metadata": {
    "ExecuteTime": {
     "end_time": "2019-08-02T20:53:48.431072Z",
     "start_time": "2019-08-02T20:53:48.428079Z"
    }
   },
   "outputs": [],
   "source": [
    "data.crs = {'init' :'epsg:4326'}"
   ]
  },
  {
   "cell_type": "code",
   "execution_count": 143,
   "metadata": {
    "ExecuteTime": {
     "end_time": "2019-08-02T20:54:02.290950Z",
     "start_time": "2019-08-02T20:54:02.250809Z"
    }
   },
   "outputs": [
    {
     "name": "stdout",
     "output_type": "stream",
     "text": [
      "<class 'geopandas.geodataframe.GeoDataFrame'>\n",
      "RangeIndex: 63029 entries, 0 to 63028\n",
      "Data columns (total 28 columns):\n",
      "ATROPELLO        63029 non-null int64\n",
      "ATROPELLO_100    63029 non-null int64\n",
      "ATROPELLO_200    63029 non-null int64\n",
      "CAIDA            63029 non-null int64\n",
      "CAIDA_100        63029 non-null int64\n",
      "CAIDA_200        63029 non-null int64\n",
      "CHOQUE           63029 non-null int64\n",
      "CHOQUE_100       63029 non-null int64\n",
      "CHOQUE_200       63029 non-null int64\n",
      "COLISION         63029 non-null int64\n",
      "COLISION_100     63029 non-null int64\n",
      "COLISION_200     63029 non-null int64\n",
      "FID              63029 non-null int64\n",
      "INCENDIO         63029 non-null int64\n",
      "INCENDIO_100     63029 non-null int64\n",
      "INCENDIO_200     63029 non-null int64\n",
      "OTRO TIPO        63029 non-null int64\n",
      "OTRO TIPO_100    63029 non-null int64\n",
      "OTRO TIPO_200    63029 non-null int64\n",
      "SEV_Index_1      63029 non-null float64\n",
      "SEV_Index_100    63029 non-null float64\n",
      "SEV_Index_200    63029 non-null float64\n",
      "VOLCADURA        63029 non-null int64\n",
      "VOLCADURA_100    63029 non-null int64\n",
      "VOLCADURA_200    63029 non-null int64\n",
      "X                63029 non-null float64\n",
      "Y                63029 non-null float64\n",
      "geometry         63029 non-null object\n",
      "dtypes: float64(5), int64(22), object(1)\n",
      "memory usage: 13.5+ MB\n"
     ]
    }
   ],
   "source": [
    "data.info()"
   ]
  },
  {
   "cell_type": "code",
   "execution_count": 144,
   "metadata": {
    "ExecuteTime": {
     "end_time": "2019-08-02T20:54:57.814992Z",
     "start_time": "2019-08-02T20:54:15.918199Z"
    }
   },
   "outputs": [],
   "source": [
    "data.crs = {'init' :'epsg:4326'}\n",
    "data.to_file(\"../data/OSM_Chile/grid/geo_stgo_100_crash_train_dataset.shp\")"
   ]
  },
  {
   "cell_type": "markdown",
   "metadata": {},
   "source": [
    "---"
   ]
  },
  {
   "cell_type": "markdown",
   "metadata": {},
   "source": [
    "### Creating a .CSV Static Feature dataset"
   ]
  },
  {
   "cell_type": "code",
   "execution_count": 145,
   "metadata": {
    "ExecuteTime": {
     "end_time": "2019-08-02T20:55:52.165337Z",
     "start_time": "2019-08-02T20:55:52.132309Z"
    }
   },
   "outputs": [
    {
     "data": {
      "text/html": [
       "<div>\n",
       "<style scoped>\n",
       "    .dataframe tbody tr th:only-of-type {\n",
       "        vertical-align: middle;\n",
       "    }\n",
       "\n",
       "    .dataframe tbody tr th {\n",
       "        vertical-align: top;\n",
       "    }\n",
       "\n",
       "    .dataframe thead th {\n",
       "        text-align: right;\n",
       "    }\n",
       "</style>\n",
       "<table border=\"1\" class=\"dataframe\">\n",
       "  <thead>\n",
       "    <tr style=\"text-align: right;\">\n",
       "      <th></th>\n",
       "      <th>ATROPELLO</th>\n",
       "      <th>ATROPELLO_100</th>\n",
       "      <th>ATROPELLO_200</th>\n",
       "      <th>CAIDA</th>\n",
       "      <th>CAIDA_100</th>\n",
       "      <th>CAIDA_200</th>\n",
       "      <th>CHOQUE</th>\n",
       "      <th>CHOQUE_100</th>\n",
       "      <th>CHOQUE_200</th>\n",
       "      <th>COLISION</th>\n",
       "      <th>...</th>\n",
       "      <th>OTRO TIPO_100</th>\n",
       "      <th>OTRO TIPO_200</th>\n",
       "      <th>SEV_Index_1</th>\n",
       "      <th>SEV_Index_100</th>\n",
       "      <th>SEV_Index_200</th>\n",
       "      <th>VOLCADURA</th>\n",
       "      <th>VOLCADURA_100</th>\n",
       "      <th>VOLCADURA_200</th>\n",
       "      <th>X</th>\n",
       "      <th>Y</th>\n",
       "    </tr>\n",
       "  </thead>\n",
       "  <tbody>\n",
       "    <tr>\n",
       "      <th>0</th>\n",
       "      <td>0</td>\n",
       "      <td>0</td>\n",
       "      <td>0</td>\n",
       "      <td>0</td>\n",
       "      <td>0</td>\n",
       "      <td>0</td>\n",
       "      <td>0</td>\n",
       "      <td>0</td>\n",
       "      <td>0</td>\n",
       "      <td>0</td>\n",
       "      <td>...</td>\n",
       "      <td>0</td>\n",
       "      <td>0</td>\n",
       "      <td>0.0</td>\n",
       "      <td>0.0</td>\n",
       "      <td>0.0</td>\n",
       "      <td>0</td>\n",
       "      <td>0</td>\n",
       "      <td>0</td>\n",
       "      <td>-70.824738</td>\n",
       "      <td>-33.557697</td>\n",
       "    </tr>\n",
       "    <tr>\n",
       "      <th>1</th>\n",
       "      <td>0</td>\n",
       "      <td>0</td>\n",
       "      <td>0</td>\n",
       "      <td>0</td>\n",
       "      <td>0</td>\n",
       "      <td>0</td>\n",
       "      <td>0</td>\n",
       "      <td>0</td>\n",
       "      <td>0</td>\n",
       "      <td>0</td>\n",
       "      <td>...</td>\n",
       "      <td>0</td>\n",
       "      <td>0</td>\n",
       "      <td>0.0</td>\n",
       "      <td>0.0</td>\n",
       "      <td>0.0</td>\n",
       "      <td>0</td>\n",
       "      <td>0</td>\n",
       "      <td>0</td>\n",
       "      <td>-70.823831</td>\n",
       "      <td>-33.556787</td>\n",
       "    </tr>\n",
       "  </tbody>\n",
       "</table>\n",
       "<p>2 rows × 27 columns</p>\n",
       "</div>"
      ],
      "text/plain": [
       "   ATROPELLO  ATROPELLO_100  ATROPELLO_200  CAIDA  CAIDA_100  CAIDA_200  \\\n",
       "0          0              0              0      0          0          0   \n",
       "1          0              0              0      0          0          0   \n",
       "\n",
       "   CHOQUE  CHOQUE_100  CHOQUE_200  COLISION  ...  OTRO TIPO_100  \\\n",
       "0       0           0           0         0  ...              0   \n",
       "1       0           0           0         0  ...              0   \n",
       "\n",
       "   OTRO TIPO_200  SEV_Index_1  SEV_Index_100  SEV_Index_200  VOLCADURA  \\\n",
       "0              0          0.0            0.0            0.0          0   \n",
       "1              0          0.0            0.0            0.0          0   \n",
       "\n",
       "   VOLCADURA_100  VOLCADURA_200          X          Y  \n",
       "0              0              0 -70.824738 -33.557697  \n",
       "1              0              0 -70.823831 -33.556787  \n",
       "\n",
       "[2 rows x 27 columns]"
      ]
     },
     "execution_count": 145,
     "metadata": {},
     "output_type": "execute_result"
    }
   ],
   "source": [
    "dt = data.copy()\n",
    "del dt['geometry']\n",
    "dt.head(2)"
   ]
  },
  {
   "cell_type": "code",
   "execution_count": 146,
   "metadata": {
    "ExecuteTime": {
     "end_time": "2019-08-02T20:56:07.145852Z",
     "start_time": "2019-08-02T20:56:07.098494Z"
    }
   },
   "outputs": [
    {
     "name": "stdout",
     "output_type": "stream",
     "text": [
      "<class 'geopandas.geodataframe.GeoDataFrame'>\n",
      "RangeIndex: 63029 entries, 0 to 63028\n",
      "Data columns (total 27 columns):\n",
      "ATROPELLO        63029 non-null int64\n",
      "ATROPELLO_100    63029 non-null int64\n",
      "ATROPELLO_200    63029 non-null int64\n",
      "CAIDA            63029 non-null int64\n",
      "CAIDA_100        63029 non-null int64\n",
      "CAIDA_200        63029 non-null int64\n",
      "CHOQUE           63029 non-null int64\n",
      "CHOQUE_100       63029 non-null int64\n",
      "CHOQUE_200       63029 non-null int64\n",
      "COLISION         63029 non-null int64\n",
      "COLISION_100     63029 non-null int64\n",
      "COLISION_200     63029 non-null int64\n",
      "FID              63029 non-null int64\n",
      "INCENDIO         63029 non-null int64\n",
      "INCENDIO_100     63029 non-null int64\n",
      "INCENDIO_200     63029 non-null int64\n",
      "OTRO TIPO        63029 non-null int64\n",
      "OTRO TIPO_100    63029 non-null int64\n",
      "OTRO TIPO_200    63029 non-null int64\n",
      "SEV_Index_1      63029 non-null float64\n",
      "SEV_Index_100    63029 non-null float64\n",
      "SEV_Index_200    63029 non-null float64\n",
      "VOLCADURA        63029 non-null int64\n",
      "VOLCADURA_100    63029 non-null int64\n",
      "VOLCADURA_200    63029 non-null int64\n",
      "X                63029 non-null float64\n",
      "Y                63029 non-null float64\n",
      "dtypes: float64(5), int64(22)\n",
      "memory usage: 13.0 MB\n"
     ]
    },
    {
     "data": {
      "text/html": [
       "<div>\n",
       "<style scoped>\n",
       "    .dataframe tbody tr th:only-of-type {\n",
       "        vertical-align: middle;\n",
       "    }\n",
       "\n",
       "    .dataframe tbody tr th {\n",
       "        vertical-align: top;\n",
       "    }\n",
       "\n",
       "    .dataframe thead th {\n",
       "        text-align: right;\n",
       "    }\n",
       "</style>\n",
       "<table border=\"1\" class=\"dataframe\">\n",
       "  <thead>\n",
       "    <tr style=\"text-align: right;\">\n",
       "      <th></th>\n",
       "      <th>ATROPELLO</th>\n",
       "      <th>ATROPELLO_100</th>\n",
       "      <th>ATROPELLO_200</th>\n",
       "      <th>CAIDA</th>\n",
       "      <th>CAIDA_100</th>\n",
       "      <th>CAIDA_200</th>\n",
       "      <th>CHOQUE</th>\n",
       "      <th>CHOQUE_100</th>\n",
       "      <th>CHOQUE_200</th>\n",
       "      <th>COLISION</th>\n",
       "      <th>...</th>\n",
       "      <th>OTRO TIPO_100</th>\n",
       "      <th>OTRO TIPO_200</th>\n",
       "      <th>SEV_Index_1</th>\n",
       "      <th>SEV_Index_100</th>\n",
       "      <th>SEV_Index_200</th>\n",
       "      <th>VOLCADURA</th>\n",
       "      <th>VOLCADURA_100</th>\n",
       "      <th>VOLCADURA_200</th>\n",
       "      <th>X</th>\n",
       "      <th>Y</th>\n",
       "    </tr>\n",
       "  </thead>\n",
       "  <tbody>\n",
       "    <tr>\n",
       "      <th>57298</th>\n",
       "      <td>0</td>\n",
       "      <td>0</td>\n",
       "      <td>0</td>\n",
       "      <td>0</td>\n",
       "      <td>0</td>\n",
       "      <td>0</td>\n",
       "      <td>0</td>\n",
       "      <td>0</td>\n",
       "      <td>5</td>\n",
       "      <td>0</td>\n",
       "      <td>...</td>\n",
       "      <td>0</td>\n",
       "      <td>0</td>\n",
       "      <td>0.0</td>\n",
       "      <td>0.0</td>\n",
       "      <td>1.0</td>\n",
       "      <td>0</td>\n",
       "      <td>0</td>\n",
       "      <td>0</td>\n",
       "      <td>-70.539285</td>\n",
       "      <td>-33.435878</td>\n",
       "    </tr>\n",
       "    <tr>\n",
       "      <th>42961</th>\n",
       "      <td>1</td>\n",
       "      <td>12</td>\n",
       "      <td>15</td>\n",
       "      <td>0</td>\n",
       "      <td>2</td>\n",
       "      <td>2</td>\n",
       "      <td>1</td>\n",
       "      <td>5</td>\n",
       "      <td>7</td>\n",
       "      <td>1</td>\n",
       "      <td>...</td>\n",
       "      <td>1</td>\n",
       "      <td>1</td>\n",
       "      <td>1.0</td>\n",
       "      <td>1.0</td>\n",
       "      <td>1.0</td>\n",
       "      <td>0</td>\n",
       "      <td>0</td>\n",
       "      <td>0</td>\n",
       "      <td>-70.592922</td>\n",
       "      <td>-33.416787</td>\n",
       "    </tr>\n",
       "    <tr>\n",
       "      <th>1347</th>\n",
       "      <td>0</td>\n",
       "      <td>0</td>\n",
       "      <td>0</td>\n",
       "      <td>0</td>\n",
       "      <td>0</td>\n",
       "      <td>0</td>\n",
       "      <td>0</td>\n",
       "      <td>2</td>\n",
       "      <td>3</td>\n",
       "      <td>0</td>\n",
       "      <td>...</td>\n",
       "      <td>1</td>\n",
       "      <td>1</td>\n",
       "      <td>0.0</td>\n",
       "      <td>1.0</td>\n",
       "      <td>1.0</td>\n",
       "      <td>0</td>\n",
       "      <td>0</td>\n",
       "      <td>0</td>\n",
       "      <td>-70.778376</td>\n",
       "      <td>-33.421333</td>\n",
       "    </tr>\n",
       "    <tr>\n",
       "      <th>56736</th>\n",
       "      <td>0</td>\n",
       "      <td>0</td>\n",
       "      <td>4</td>\n",
       "      <td>0</td>\n",
       "      <td>0</td>\n",
       "      <td>1</td>\n",
       "      <td>0</td>\n",
       "      <td>1</td>\n",
       "      <td>4</td>\n",
       "      <td>0</td>\n",
       "      <td>...</td>\n",
       "      <td>1</td>\n",
       "      <td>3</td>\n",
       "      <td>0.0</td>\n",
       "      <td>1.0</td>\n",
       "      <td>1.0</td>\n",
       "      <td>0</td>\n",
       "      <td>0</td>\n",
       "      <td>0</td>\n",
       "      <td>-70.542013</td>\n",
       "      <td>-33.412242</td>\n",
       "    </tr>\n",
       "    <tr>\n",
       "      <th>19603</th>\n",
       "      <td>0</td>\n",
       "      <td>10</td>\n",
       "      <td>26</td>\n",
       "      <td>1</td>\n",
       "      <td>2</td>\n",
       "      <td>4</td>\n",
       "      <td>1</td>\n",
       "      <td>2</td>\n",
       "      <td>9</td>\n",
       "      <td>14</td>\n",
       "      <td>...</td>\n",
       "      <td>0</td>\n",
       "      <td>0</td>\n",
       "      <td>1.0</td>\n",
       "      <td>1.0</td>\n",
       "      <td>1.0</td>\n",
       "      <td>1</td>\n",
       "      <td>1</td>\n",
       "      <td>1</td>\n",
       "      <td>-70.686558</td>\n",
       "      <td>-33.453151</td>\n",
       "    </tr>\n",
       "  </tbody>\n",
       "</table>\n",
       "<p>5 rows × 27 columns</p>\n",
       "</div>"
      ],
      "text/plain": [
       "       ATROPELLO  ATROPELLO_100  ATROPELLO_200  CAIDA  CAIDA_100  CAIDA_200  \\\n",
       "57298          0              0              0      0          0          0   \n",
       "42961          1             12             15      0          2          2   \n",
       "1347           0              0              0      0          0          0   \n",
       "56736          0              0              4      0          0          1   \n",
       "19603          0             10             26      1          2          4   \n",
       "\n",
       "       CHOQUE  CHOQUE_100  CHOQUE_200  COLISION  ...  OTRO TIPO_100  \\\n",
       "57298       0           0           5         0  ...              0   \n",
       "42961       1           5           7         1  ...              1   \n",
       "1347        0           2           3         0  ...              1   \n",
       "56736       0           1           4         0  ...              1   \n",
       "19603       1           2           9        14  ...              0   \n",
       "\n",
       "       OTRO TIPO_200  SEV_Index_1  SEV_Index_100  SEV_Index_200  VOLCADURA  \\\n",
       "57298              0          0.0            0.0            1.0          0   \n",
       "42961              1          1.0            1.0            1.0          0   \n",
       "1347               1          0.0            1.0            1.0          0   \n",
       "56736              3          0.0            1.0            1.0          0   \n",
       "19603              0          1.0            1.0            1.0          1   \n",
       "\n",
       "       VOLCADURA_100  VOLCADURA_200          X          Y  \n",
       "57298              0              0 -70.539285 -33.435878  \n",
       "42961              0              0 -70.592922 -33.416787  \n",
       "1347               0              0 -70.778376 -33.421333  \n",
       "56736              0              0 -70.542013 -33.412242  \n",
       "19603              1              1 -70.686558 -33.453151  \n",
       "\n",
       "[5 rows x 27 columns]"
      ]
     },
     "execution_count": 146,
     "metadata": {},
     "output_type": "execute_result"
    }
   ],
   "source": [
    "dt.info()\n",
    "dt.sample(5)"
   ]
  },
  {
   "cell_type": "code",
   "execution_count": 147,
   "metadata": {
    "ExecuteTime": {
     "end_time": "2019-08-02T20:56:22.564207Z",
     "start_time": "2019-08-02T20:56:21.134721Z"
    }
   },
   "outputs": [],
   "source": [
    "dt.to_csv(\"../data/geo_stgo_100_crash_train_dataset.csv\")"
   ]
  },
  {
   "cell_type": "markdown",
   "metadata": {},
   "source": [
    "---"
   ]
  },
  {
   "cell_type": "markdown",
   "metadata": {},
   "source": [
    "## Defining Features from 2018 to be used as a Test dataset\n",
    "This dataset will be used as VALIDATION.\n",
    "- The real crash events will be from 2018\n",
    "- The features will be from the year before (2017)"
   ]
  },
  {
   "cell_type": "markdown",
   "metadata": {},
   "source": [
    "### Crash Events by type "
   ]
  },
  {
   "cell_type": "code",
   "execution_count": 72,
   "metadata": {
    "ExecuteTime": {
     "end_time": "2019-08-03T13:14:58.606985Z",
     "start_time": "2019-08-03T13:14:58.604206Z"
    }
   },
   "outputs": [],
   "source": [
    "D1 = 2018\n",
    "D2 = 2018"
   ]
  },
  {
   "cell_type": "code",
   "execution_count": 75,
   "metadata": {
    "ExecuteTime": {
     "end_time": "2019-08-03T13:16:15.723864Z",
     "start_time": "2019-08-03T13:16:08.546600Z"
    }
   },
   "outputs": [
    {
     "name": "stdout",
     "output_type": "stream",
     "text": [
      "Grid shape:  (63029, 3)\n",
      "Crash type COLISION has 11130 events\n",
      " - 182 events not capured on grid\n"
     ]
    }
   ],
   "source": [
    "Y = 'COLISION'\n",
    "COLISION = adding_sin_type_date_to_grid(grid, siniestros, Y, D1, D2)"
   ]
  },
  {
   "cell_type": "code",
   "execution_count": 76,
   "metadata": {
    "ExecuteTime": {
     "end_time": "2019-08-03T13:16:33.089674Z",
     "start_time": "2019-08-03T13:16:26.421250Z"
    }
   },
   "outputs": [
    {
     "name": "stdout",
     "output_type": "stream",
     "text": [
      "Grid shape:  (63029, 3)\n",
      "Crash type CHOQUE has 4480 events\n",
      " - 98 events not capured on grid\n"
     ]
    }
   ],
   "source": [
    "Y = 'CHOQUE'\n",
    "CHOQUE = adding_sin_type_date_to_grid(grid, siniestros, Y, D1, D2)"
   ]
  },
  {
   "cell_type": "code",
   "execution_count": 77,
   "metadata": {
    "ExecuteTime": {
     "end_time": "2019-08-03T13:16:50.412833Z",
     "start_time": "2019-08-03T13:16:43.997506Z"
    }
   },
   "outputs": [
    {
     "name": "stdout",
     "output_type": "stream",
     "text": [
      "Grid shape:  (63029, 3)\n",
      "Crash type ATROPELLO has 1892 events\n",
      " - 25 events not capured on grid\n"
     ]
    }
   ],
   "source": [
    "Y = 'ATROPELLO'\n",
    "ATROPELLO = adding_sin_type_date_to_grid(grid, siniestros, Y, D1, D2)"
   ]
  },
  {
   "cell_type": "code",
   "execution_count": 78,
   "metadata": {
    "ExecuteTime": {
     "end_time": "2019-08-03T13:17:07.404023Z",
     "start_time": "2019-08-03T13:17:01.347823Z"
    }
   },
   "outputs": [
    {
     "name": "stdout",
     "output_type": "stream",
     "text": [
      "Grid shape:  (63029, 3)\n",
      "Crash type OTRO TIPO has 480 events\n",
      " - 19 events not capured on grid\n"
     ]
    }
   ],
   "source": [
    "Y = 'OTRO TIPO'\n",
    "OTRO_TIPO = adding_sin_type_date_to_grid(grid, siniestros, Y, D1, D2)"
   ]
  },
  {
   "cell_type": "code",
   "execution_count": 79,
   "metadata": {
    "ExecuteTime": {
     "end_time": "2019-08-03T13:17:26.125700Z",
     "start_time": "2019-08-03T13:17:19.061448Z"
    }
   },
   "outputs": [
    {
     "name": "stdout",
     "output_type": "stream",
     "text": [
      "Grid shape:  (63029, 3)\n",
      "Crash type CAIDA has 434 events\n",
      " - 15 events not capured on grid\n"
     ]
    }
   ],
   "source": [
    "Y = 'CAIDA'\n",
    "CAIDA = adding_sin_type_date_to_grid(grid, siniestros, Y, D1, D2)"
   ]
  },
  {
   "cell_type": "code",
   "execution_count": 80,
   "metadata": {
    "ExecuteTime": {
     "end_time": "2019-08-03T13:17:45.263744Z",
     "start_time": "2019-08-03T13:17:38.609531Z"
    }
   },
   "outputs": [
    {
     "name": "stdout",
     "output_type": "stream",
     "text": [
      "Grid shape:  (63029, 3)\n",
      "Crash type VOLCADURA has 509 events\n",
      " - 8 events not capured on grid\n"
     ]
    }
   ],
   "source": [
    "Y = 'VOLCADURA'\n",
    "VOLCADURA = adding_sin_type_date_to_grid(grid, siniestros, Y, D1, D2)"
   ]
  },
  {
   "cell_type": "code",
   "execution_count": 81,
   "metadata": {
    "ExecuteTime": {
     "end_time": "2019-08-03T13:18:03.233143Z",
     "start_time": "2019-08-03T13:17:56.416124Z"
    }
   },
   "outputs": [
    {
     "name": "stdout",
     "output_type": "stream",
     "text": [
      "Grid shape:  (63029, 3)\n",
      "Crash type INCENDIO has 4 events\n",
      " - 0 events not capured on grid\n"
     ]
    }
   ],
   "source": [
    "Y = 'INCENDIO'\n",
    "INCENDIO = adding_sin_type_date_to_grid(grid, siniestros, Y, D1, D2)"
   ]
  },
  {
   "cell_type": "markdown",
   "metadata": {},
   "source": [
    "### Crash Events per type and distance "
   ]
  },
  {
   "cell_type": "code",
   "execution_count": 82,
   "metadata": {
    "ExecuteTime": {
     "end_time": "2019-08-03T13:18:34.567931Z",
     "start_time": "2019-08-03T13:18:34.565134Z"
    }
   },
   "outputs": [],
   "source": [
    "D1 = 2017\n",
    "D2 = 2017"
   ]
  },
  {
   "cell_type": "code",
   "execution_count": 83,
   "metadata": {
    "ExecuteTime": {
     "end_time": "2019-08-03T13:20:41.690445Z",
     "start_time": "2019-08-03T13:18:46.479860Z"
    }
   },
   "outputs": [
    {
     "name": "stdout",
     "output_type": "stream",
     "text": [
      "Grid shape:  (63029, 3)\n",
      "Crash type INCENDIO_100 has 47 events\n",
      "Grid shape:  (63029, 3)\n",
      "Crash type INCENDIO_200 has 124 events\n",
      "Grid shape:  (63029, 3)\n",
      "Crash type ATROPELLO_100 has 18145 events\n",
      "Grid shape:  (63029, 3)\n",
      "Crash type ATROPELLO_200 has 47339 events\n",
      "Grid shape:  (63029, 3)\n",
      "Crash type CAIDA_100 has 4613 events\n",
      "Grid shape:  (63029, 3)\n",
      "Crash type CAIDA_200 has 12017 events\n",
      "Grid shape:  (63029, 3)\n",
      "Crash type COLISION_100 has 114753 events\n",
      "Grid shape:  (63029, 3)\n",
      "Crash type COLISION_200 has 298563 events\n",
      "Grid shape:  (63029, 3)\n",
      "Crash type OTRO TIPO_100 has 4636 events\n",
      "Grid shape:  (63029, 3)\n",
      "Crash type OTRO TIPO_200 has 12047 events\n",
      "Grid shape:  (63029, 3)\n",
      "Crash type VOLCADURA_100 has 3663 events\n",
      "Grid shape:  (63029, 3)\n",
      "Crash type VOLCADURA_200 has 9383 events\n",
      "Grid shape:  (63029, 3)\n",
      "Crash type CHOQUE_100 has 36975 events\n",
      "Grid shape:  (63029, 3)\n",
      "Crash type CHOQUE_200 has 96292 events\n"
     ]
    }
   ],
   "source": [
    "INCENDIO_100 = adding_sin_type_date_dist_to_grid(grid, siniestros, 'INCENDIO',\n",
    "                                                 D1, D2, 100)\n",
    "INCENDIO_200 = adding_sin_type_date_dist_to_grid(grid, siniestros, 'INCENDIO',\n",
    "                                                 D1, D2, 200)\n",
    "\n",
    "ATROPELLO_100 = adding_sin_type_date_dist_to_grid(grid, siniestros,\n",
    "                                                  'ATROPELLO', D1, D2, 100)\n",
    "ATROPELLO_200 = adding_sin_type_date_dist_to_grid(grid, siniestros,\n",
    "                                                  'ATROPELLO', D1, D2, 200)\n",
    "\n",
    "CAIDA_100 = adding_sin_type_date_dist_to_grid(grid, siniestros, 'CAIDA', D1,\n",
    "                                              D2, 100)\n",
    "CAIDA_200 = adding_sin_type_date_dist_to_grid(grid, siniestros, 'CAIDA', D1,\n",
    "                                              D2, 200)\n",
    "\n",
    "COLISION_100 = adding_sin_type_date_dist_to_grid(grid, siniestros, 'COLISION',\n",
    "                                                 D1, D2, 100)\n",
    "COLISION_200 = adding_sin_type_date_dist_to_grid(grid, siniestros, 'COLISION',\n",
    "                                                 D1, D2, 200)\n",
    "\n",
    "OTRO_TIPO_100 = adding_sin_type_date_dist_to_grid(grid, siniestros,\n",
    "                                                  'OTRO TIPO', D1, D2, 100)\n",
    "OTRO_TIPO_200 = adding_sin_type_date_dist_to_grid(grid, siniestros,\n",
    "                                                  'OTRO TIPO', D1, D2, 200)\n",
    "\n",
    "VOLCADURA_100 = adding_sin_type_date_dist_to_grid(grid, siniestros,\n",
    "                                                  'VOLCADURA', D1, D2, 100)\n",
    "VOLCADURA_200 = adding_sin_type_date_dist_to_grid(grid, siniestros,\n",
    "                                                  'VOLCADURA', D1, D2, 200)\n",
    "\n",
    "CHOQUE_100 = adding_sin_type_date_dist_to_grid(grid, siniestros, 'CHOQUE', D1,\n",
    "                                               D2, 100)\n",
    "CHOQUE_200 = adding_sin_type_date_dist_to_grid(grid, siniestros, 'CHOQUE', D1,\n",
    "                                               D2, 200)"
   ]
  },
  {
   "cell_type": "code",
   "execution_count": 84,
   "metadata": {
    "ExecuteTime": {
     "end_time": "2019-08-03T13:21:46.434565Z",
     "start_time": "2019-08-03T13:20:54.497020Z"
    }
   },
   "outputs": [
    {
     "name": "stdout",
     "output_type": "stream",
     "text": [
      "Grid shape:  (63029, 3)\n",
      "Crash type SEV_Index_1 has 10177 events\n",
      "Grid shape:  (63029, 3)\n",
      "Crash type SEV_Index_100 has 38749 events\n",
      "Grid shape:  (63029, 3)\n",
      "Crash type SEV_Index_200 has 51330 events\n"
     ]
    }
   ],
   "source": [
    "Feature = 'SEV_Index'\n",
    "sever_idx = adding_din_feat_date_dist_to_grid(grid, siniestros, Feature, D1, D2, 1, agg_type='mean')\n",
    "sever_idx_100 = adding_din_feat_date_dist_to_grid(grid, siniestros, Feature, D1, D2, 100, agg_type='mean')\n",
    "sever_idx_200 = adding_din_feat_date_dist_to_grid(grid, siniestros, Feature, D1, D2, 200, agg_type='mean')"
   ]
  },
  {
   "cell_type": "markdown",
   "metadata": {},
   "source": [
    "---"
   ]
  },
  {
   "cell_type": "markdown",
   "metadata": {},
   "source": [
    "## Creating a Test dataset"
   ]
  },
  {
   "cell_type": "markdown",
   "metadata": {},
   "source": [
    "**Adding Centroid features**"
   ]
  },
  {
   "cell_type": "code",
   "execution_count": 85,
   "metadata": {
    "ExecuteTime": {
     "end_time": "2019-08-03T13:23:22.599726Z",
     "start_time": "2019-08-03T13:23:20.054777Z"
    }
   },
   "outputs": [
    {
     "data": {
      "text/html": [
       "<div>\n",
       "<style scoped>\n",
       "    .dataframe tbody tr th:only-of-type {\n",
       "        vertical-align: middle;\n",
       "    }\n",
       "\n",
       "    .dataframe tbody tr th {\n",
       "        vertical-align: top;\n",
       "    }\n",
       "\n",
       "    .dataframe thead th {\n",
       "        text-align: right;\n",
       "    }\n",
       "</style>\n",
       "<table border=\"1\" class=\"dataframe\">\n",
       "  <thead>\n",
       "    <tr style=\"text-align: right;\">\n",
       "      <th></th>\n",
       "      <th>FID</th>\n",
       "      <th>geometry</th>\n",
       "      <th>X</th>\n",
       "      <th>Y</th>\n",
       "    </tr>\n",
       "  </thead>\n",
       "  <tbody>\n",
       "    <tr>\n",
       "      <th>0</th>\n",
       "      <td>0</td>\n",
       "      <td>POLYGON ((-70.8251902322438 -33.55724198234194...</td>\n",
       "      <td>-70.824738</td>\n",
       "      <td>-33.557697</td>\n",
       "    </tr>\n",
       "    <tr>\n",
       "      <th>1</th>\n",
       "      <td>1</td>\n",
       "      <td>POLYGON ((-70.82428525910399 -33.5563328914328...</td>\n",
       "      <td>-70.823831</td>\n",
       "      <td>-33.556787</td>\n",
       "    </tr>\n",
       "  </tbody>\n",
       "</table>\n",
       "</div>"
      ],
      "text/plain": [
       "   FID                                           geometry          X  \\\n",
       "0    0  POLYGON ((-70.8251902322438 -33.55724198234194... -70.824738   \n",
       "1    1  POLYGON ((-70.82428525910399 -33.5563328914328... -70.823831   \n",
       "\n",
       "           Y  \n",
       "0 -33.557697  \n",
       "1 -33.556787  "
      ]
     },
     "execution_count": 85,
     "metadata": {},
     "output_type": "execute_result"
    }
   ],
   "source": [
    "data = grid.copy()\n",
    "data[\"X\"] = data.centroid.x\n",
    "data[\"Y\"] = data.centroid.y\n",
    "data.head(2)"
   ]
  },
  {
   "cell_type": "markdown",
   "metadata": {},
   "source": [
    "**Adding dynamic features**"
   ]
  },
  {
   "cell_type": "code",
   "execution_count": 86,
   "metadata": {
    "ExecuteTime": {
     "end_time": "2019-08-03T13:23:36.413333Z",
     "start_time": "2019-08-03T13:23:35.559090Z"
    }
   },
   "outputs": [
    {
     "data": {
      "text/plain": [
       "(63029, 28)"
      ]
     },
     "execution_count": 86,
     "metadata": {},
     "output_type": "execute_result"
    }
   ],
   "source": [
    "data = concat_dataset(data, COLISION)\n",
    "data = concat_dataset(data, COLISION_100)\n",
    "data = concat_dataset(data, COLISION_200)\n",
    "\n",
    "data = concat_dataset(data, CHOQUE)\n",
    "data = concat_dataset(data, CHOQUE_100)\n",
    "data = concat_dataset(data, CHOQUE_200)\n",
    "\n",
    "data = concat_dataset(data, ATROPELLO)\n",
    "data = concat_dataset(data, ATROPELLO_100)\n",
    "data = concat_dataset(data, ATROPELLO_200)\n",
    "\n",
    "data = concat_dataset(data, OTRO_TIPO)\n",
    "data = concat_dataset(data, OTRO_TIPO_100)\n",
    "data = concat_dataset(data, OTRO_TIPO_200)\n",
    "\n",
    "data = concat_dataset(data, CAIDA)\n",
    "data = concat_dataset(data, CAIDA_100)\n",
    "data = concat_dataset(data, CAIDA_200)\n",
    "\n",
    "data = concat_dataset(data, VOLCADURA)\n",
    "data = concat_dataset(data, VOLCADURA_100)\n",
    "data = concat_dataset(data, VOLCADURA_200)\n",
    "\n",
    "data = concat_dataset(data, INCENDIO)\n",
    "data = concat_dataset(data, INCENDIO_100)\n",
    "data = concat_dataset(data, INCENDIO_200)\n",
    "\n",
    "data = concat_dataset(data, sever_idx)\n",
    "data = concat_dataset(data, sever_idx_100)\n",
    "data = concat_dataset(data, sever_idx_200)\n",
    "\n",
    "data.shape"
   ]
  },
  {
   "cell_type": "code",
   "execution_count": 87,
   "metadata": {
    "ExecuteTime": {
     "end_time": "2019-08-03T13:23:49.448758Z",
     "start_time": "2019-08-03T13:23:49.407969Z"
    }
   },
   "outputs": [
    {
     "name": "stdout",
     "output_type": "stream",
     "text": [
      "<class 'geopandas.geodataframe.GeoDataFrame'>\n",
      "RangeIndex: 63029 entries, 0 to 63028\n",
      "Data columns (total 28 columns):\n",
      "ATROPELLO        63029 non-null int64\n",
      "ATROPELLO_100    63029 non-null int64\n",
      "ATROPELLO_200    63029 non-null int64\n",
      "CAIDA            63029 non-null int64\n",
      "CAIDA_100        63029 non-null int64\n",
      "CAIDA_200        63029 non-null int64\n",
      "CHOQUE           63029 non-null int64\n",
      "CHOQUE_100       63029 non-null int64\n",
      "CHOQUE_200       63029 non-null int64\n",
      "COLISION         63029 non-null int64\n",
      "COLISION_100     63029 non-null int64\n",
      "COLISION_200     63029 non-null int64\n",
      "FID              63029 non-null int64\n",
      "INCENDIO         63029 non-null int64\n",
      "INCENDIO_100     63029 non-null int64\n",
      "INCENDIO_200     63029 non-null int64\n",
      "OTRO TIPO        63029 non-null int64\n",
      "OTRO TIPO_100    63029 non-null int64\n",
      "OTRO TIPO_200    63029 non-null int64\n",
      "SEV_Index_1      63029 non-null int64\n",
      "SEV_Index_100    63029 non-null int64\n",
      "SEV_Index_200    63029 non-null int64\n",
      "VOLCADURA        63029 non-null int64\n",
      "VOLCADURA_100    63029 non-null int64\n",
      "VOLCADURA_200    63029 non-null int64\n",
      "X                63029 non-null float64\n",
      "Y                63029 non-null float64\n",
      "geometry         63029 non-null object\n",
      "dtypes: float64(2), int64(25), object(1)\n",
      "memory usage: 13.5+ MB\n"
     ]
    }
   ],
   "source": [
    "data.crs = {'init' :'epsg:4326'}\n",
    "data.info()"
   ]
  },
  {
   "cell_type": "code",
   "execution_count": 88,
   "metadata": {
    "ExecuteTime": {
     "end_time": "2019-08-03T13:24:44.325058Z",
     "start_time": "2019-08-03T13:24:02.383261Z"
    }
   },
   "outputs": [],
   "source": [
    "data.to_file(\"../data/OSM_Chile/grid/geo_stgo_100_crash_test_dataset.shp\")"
   ]
  },
  {
   "cell_type": "markdown",
   "metadata": {
    "ExecuteTime": {
     "end_time": "2019-07-29T23:01:46.117793Z",
     "start_time": "2019-07-29T23:01:46.112310Z"
    }
   },
   "source": [
    "---"
   ]
  },
  {
   "cell_type": "markdown",
   "metadata": {
    "ExecuteTime": {
     "end_time": "2019-07-29T23:01:46.117793Z",
     "start_time": "2019-07-29T23:01:46.112310Z"
    }
   },
   "source": [
    "### Creating a .CSV Static Feature dataset"
   ]
  },
  {
   "cell_type": "code",
   "execution_count": 89,
   "metadata": {
    "ExecuteTime": {
     "end_time": "2019-08-03T13:24:57.502114Z",
     "start_time": "2019-08-03T13:24:57.477825Z"
    }
   },
   "outputs": [
    {
     "data": {
      "text/html": [
       "<div>\n",
       "<style scoped>\n",
       "    .dataframe tbody tr th:only-of-type {\n",
       "        vertical-align: middle;\n",
       "    }\n",
       "\n",
       "    .dataframe tbody tr th {\n",
       "        vertical-align: top;\n",
       "    }\n",
       "\n",
       "    .dataframe thead th {\n",
       "        text-align: right;\n",
       "    }\n",
       "</style>\n",
       "<table border=\"1\" class=\"dataframe\">\n",
       "  <thead>\n",
       "    <tr style=\"text-align: right;\">\n",
       "      <th></th>\n",
       "      <th>ATROPELLO</th>\n",
       "      <th>ATROPELLO_100</th>\n",
       "      <th>ATROPELLO_200</th>\n",
       "      <th>CAIDA</th>\n",
       "      <th>CAIDA_100</th>\n",
       "      <th>CAIDA_200</th>\n",
       "      <th>CHOQUE</th>\n",
       "      <th>CHOQUE_100</th>\n",
       "      <th>CHOQUE_200</th>\n",
       "      <th>COLISION</th>\n",
       "      <th>...</th>\n",
       "      <th>OTRO TIPO_100</th>\n",
       "      <th>OTRO TIPO_200</th>\n",
       "      <th>SEV_Index_1</th>\n",
       "      <th>SEV_Index_100</th>\n",
       "      <th>SEV_Index_200</th>\n",
       "      <th>VOLCADURA</th>\n",
       "      <th>VOLCADURA_100</th>\n",
       "      <th>VOLCADURA_200</th>\n",
       "      <th>X</th>\n",
       "      <th>Y</th>\n",
       "    </tr>\n",
       "  </thead>\n",
       "  <tbody>\n",
       "    <tr>\n",
       "      <th>0</th>\n",
       "      <td>0</td>\n",
       "      <td>0</td>\n",
       "      <td>0</td>\n",
       "      <td>0</td>\n",
       "      <td>0</td>\n",
       "      <td>0</td>\n",
       "      <td>0</td>\n",
       "      <td>0</td>\n",
       "      <td>0</td>\n",
       "      <td>0</td>\n",
       "      <td>...</td>\n",
       "      <td>0</td>\n",
       "      <td>0</td>\n",
       "      <td>0</td>\n",
       "      <td>0</td>\n",
       "      <td>0</td>\n",
       "      <td>0</td>\n",
       "      <td>0</td>\n",
       "      <td>0</td>\n",
       "      <td>-70.824738</td>\n",
       "      <td>-33.557697</td>\n",
       "    </tr>\n",
       "    <tr>\n",
       "      <th>1</th>\n",
       "      <td>0</td>\n",
       "      <td>0</td>\n",
       "      <td>0</td>\n",
       "      <td>0</td>\n",
       "      <td>0</td>\n",
       "      <td>0</td>\n",
       "      <td>0</td>\n",
       "      <td>0</td>\n",
       "      <td>0</td>\n",
       "      <td>0</td>\n",
       "      <td>...</td>\n",
       "      <td>0</td>\n",
       "      <td>0</td>\n",
       "      <td>0</td>\n",
       "      <td>0</td>\n",
       "      <td>0</td>\n",
       "      <td>0</td>\n",
       "      <td>0</td>\n",
       "      <td>0</td>\n",
       "      <td>-70.823831</td>\n",
       "      <td>-33.556787</td>\n",
       "    </tr>\n",
       "  </tbody>\n",
       "</table>\n",
       "<p>2 rows × 27 columns</p>\n",
       "</div>"
      ],
      "text/plain": [
       "   ATROPELLO  ATROPELLO_100  ATROPELLO_200  CAIDA  CAIDA_100  CAIDA_200  \\\n",
       "0          0              0              0      0          0          0   \n",
       "1          0              0              0      0          0          0   \n",
       "\n",
       "   CHOQUE  CHOQUE_100  CHOQUE_200  COLISION  ...  OTRO TIPO_100  \\\n",
       "0       0           0           0         0  ...              0   \n",
       "1       0           0           0         0  ...              0   \n",
       "\n",
       "   OTRO TIPO_200  SEV_Index_1  SEV_Index_100  SEV_Index_200  VOLCADURA  \\\n",
       "0              0            0              0              0          0   \n",
       "1              0            0              0              0          0   \n",
       "\n",
       "   VOLCADURA_100  VOLCADURA_200          X          Y  \n",
       "0              0              0 -70.824738 -33.557697  \n",
       "1              0              0 -70.823831 -33.556787  \n",
       "\n",
       "[2 rows x 27 columns]"
      ]
     },
     "execution_count": 89,
     "metadata": {},
     "output_type": "execute_result"
    }
   ],
   "source": [
    "dt = data.copy()\n",
    "del dt['geometry']\n",
    "dt.head(2)"
   ]
  },
  {
   "cell_type": "code",
   "execution_count": 90,
   "metadata": {
    "ExecuteTime": {
     "end_time": "2019-08-03T13:25:10.883459Z",
     "start_time": "2019-08-03T13:25:10.853270Z"
    }
   },
   "outputs": [
    {
     "name": "stdout",
     "output_type": "stream",
     "text": [
      "<class 'geopandas.geodataframe.GeoDataFrame'>\n",
      "RangeIndex: 63029 entries, 0 to 63028\n",
      "Data columns (total 27 columns):\n",
      "ATROPELLO        63029 non-null int64\n",
      "ATROPELLO_100    63029 non-null int64\n",
      "ATROPELLO_200    63029 non-null int64\n",
      "CAIDA            63029 non-null int64\n",
      "CAIDA_100        63029 non-null int64\n",
      "CAIDA_200        63029 non-null int64\n",
      "CHOQUE           63029 non-null int64\n",
      "CHOQUE_100       63029 non-null int64\n",
      "CHOQUE_200       63029 non-null int64\n",
      "COLISION         63029 non-null int64\n",
      "COLISION_100     63029 non-null int64\n",
      "COLISION_200     63029 non-null int64\n",
      "FID              63029 non-null int64\n",
      "INCENDIO         63029 non-null int64\n",
      "INCENDIO_100     63029 non-null int64\n",
      "INCENDIO_200     63029 non-null int64\n",
      "OTRO TIPO        63029 non-null int64\n",
      "OTRO TIPO_100    63029 non-null int64\n",
      "OTRO TIPO_200    63029 non-null int64\n",
      "SEV_Index_1      63029 non-null int64\n",
      "SEV_Index_100    63029 non-null int64\n",
      "SEV_Index_200    63029 non-null int64\n",
      "VOLCADURA        63029 non-null int64\n",
      "VOLCADURA_100    63029 non-null int64\n",
      "VOLCADURA_200    63029 non-null int64\n",
      "X                63029 non-null float64\n",
      "Y                63029 non-null float64\n",
      "dtypes: float64(2), int64(25)\n",
      "memory usage: 13.0 MB\n"
     ]
    }
   ],
   "source": [
    "dt.info()"
   ]
  },
  {
   "cell_type": "code",
   "execution_count": 91,
   "metadata": {
    "ExecuteTime": {
     "end_time": "2019-08-03T13:25:24.015913Z",
     "start_time": "2019-08-03T13:25:24.000331Z"
    }
   },
   "outputs": [
    {
     "data": {
      "text/html": [
       "<div>\n",
       "<style scoped>\n",
       "    .dataframe tbody tr th:only-of-type {\n",
       "        vertical-align: middle;\n",
       "    }\n",
       "\n",
       "    .dataframe tbody tr th {\n",
       "        vertical-align: top;\n",
       "    }\n",
       "\n",
       "    .dataframe thead th {\n",
       "        text-align: right;\n",
       "    }\n",
       "</style>\n",
       "<table border=\"1\" class=\"dataframe\">\n",
       "  <thead>\n",
       "    <tr style=\"text-align: right;\">\n",
       "      <th></th>\n",
       "      <th>ATROPELLO</th>\n",
       "      <th>ATROPELLO_100</th>\n",
       "      <th>ATROPELLO_200</th>\n",
       "      <th>CAIDA</th>\n",
       "      <th>CAIDA_100</th>\n",
       "      <th>CAIDA_200</th>\n",
       "      <th>CHOQUE</th>\n",
       "      <th>CHOQUE_100</th>\n",
       "      <th>CHOQUE_200</th>\n",
       "      <th>COLISION</th>\n",
       "      <th>...</th>\n",
       "      <th>OTRO TIPO_100</th>\n",
       "      <th>OTRO TIPO_200</th>\n",
       "      <th>SEV_Index_1</th>\n",
       "      <th>SEV_Index_100</th>\n",
       "      <th>SEV_Index_200</th>\n",
       "      <th>VOLCADURA</th>\n",
       "      <th>VOLCADURA_100</th>\n",
       "      <th>VOLCADURA_200</th>\n",
       "      <th>X</th>\n",
       "      <th>Y</th>\n",
       "    </tr>\n",
       "  </thead>\n",
       "  <tbody>\n",
       "    <tr>\n",
       "      <th>40475</th>\n",
       "      <td>0</td>\n",
       "      <td>0</td>\n",
       "      <td>0</td>\n",
       "      <td>0</td>\n",
       "      <td>0</td>\n",
       "      <td>0</td>\n",
       "      <td>0</td>\n",
       "      <td>0</td>\n",
       "      <td>3</td>\n",
       "      <td>0</td>\n",
       "      <td>...</td>\n",
       "      <td>0</td>\n",
       "      <td>0</td>\n",
       "      <td>1</td>\n",
       "      <td>1</td>\n",
       "      <td>1</td>\n",
       "      <td>0</td>\n",
       "      <td>1</td>\n",
       "      <td>1</td>\n",
       "      <td>-70.602922</td>\n",
       "      <td>-33.500424</td>\n",
       "    </tr>\n",
       "    <tr>\n",
       "      <th>34934</th>\n",
       "      <td>0</td>\n",
       "      <td>1</td>\n",
       "      <td>4</td>\n",
       "      <td>0</td>\n",
       "      <td>0</td>\n",
       "      <td>0</td>\n",
       "      <td>0</td>\n",
       "      <td>0</td>\n",
       "      <td>3</td>\n",
       "      <td>2</td>\n",
       "      <td>...</td>\n",
       "      <td>1</td>\n",
       "      <td>4</td>\n",
       "      <td>1</td>\n",
       "      <td>1</td>\n",
       "      <td>1</td>\n",
       "      <td>0</td>\n",
       "      <td>0</td>\n",
       "      <td>0</td>\n",
       "      <td>-70.626558</td>\n",
       "      <td>-33.394969</td>\n",
       "    </tr>\n",
       "    <tr>\n",
       "      <th>13224</th>\n",
       "      <td>0</td>\n",
       "      <td>0</td>\n",
       "      <td>0</td>\n",
       "      <td>0</td>\n",
       "      <td>0</td>\n",
       "      <td>1</td>\n",
       "      <td>0</td>\n",
       "      <td>0</td>\n",
       "      <td>1</td>\n",
       "      <td>0</td>\n",
       "      <td>...</td>\n",
       "      <td>0</td>\n",
       "      <td>0</td>\n",
       "      <td>0</td>\n",
       "      <td>0</td>\n",
       "      <td>1</td>\n",
       "      <td>0</td>\n",
       "      <td>0</td>\n",
       "      <td>0</td>\n",
       "      <td>-70.711103</td>\n",
       "      <td>-33.418606</td>\n",
       "    </tr>\n",
       "    <tr>\n",
       "      <th>2912</th>\n",
       "      <td>0</td>\n",
       "      <td>0</td>\n",
       "      <td>0</td>\n",
       "      <td>0</td>\n",
       "      <td>0</td>\n",
       "      <td>0</td>\n",
       "      <td>0</td>\n",
       "      <td>0</td>\n",
       "      <td>0</td>\n",
       "      <td>0</td>\n",
       "      <td>...</td>\n",
       "      <td>0</td>\n",
       "      <td>0</td>\n",
       "      <td>0</td>\n",
       "      <td>0</td>\n",
       "      <td>0</td>\n",
       "      <td>0</td>\n",
       "      <td>0</td>\n",
       "      <td>0</td>\n",
       "      <td>-70.765649</td>\n",
       "      <td>-33.452242</td>\n",
       "    </tr>\n",
       "    <tr>\n",
       "      <th>52751</th>\n",
       "      <td>0</td>\n",
       "      <td>2</td>\n",
       "      <td>2</td>\n",
       "      <td>0</td>\n",
       "      <td>0</td>\n",
       "      <td>0</td>\n",
       "      <td>0</td>\n",
       "      <td>0</td>\n",
       "      <td>0</td>\n",
       "      <td>0</td>\n",
       "      <td>...</td>\n",
       "      <td>0</td>\n",
       "      <td>0</td>\n",
       "      <td>0</td>\n",
       "      <td>1</td>\n",
       "      <td>1</td>\n",
       "      <td>0</td>\n",
       "      <td>0</td>\n",
       "      <td>0</td>\n",
       "      <td>-70.558376</td>\n",
       "      <td>-33.483151</td>\n",
       "    </tr>\n",
       "  </tbody>\n",
       "</table>\n",
       "<p>5 rows × 27 columns</p>\n",
       "</div>"
      ],
      "text/plain": [
       "       ATROPELLO  ATROPELLO_100  ATROPELLO_200  CAIDA  CAIDA_100  CAIDA_200  \\\n",
       "40475          0              0              0      0          0          0   \n",
       "34934          0              1              4      0          0          0   \n",
       "13224          0              0              0      0          0          1   \n",
       "2912           0              0              0      0          0          0   \n",
       "52751          0              2              2      0          0          0   \n",
       "\n",
       "       CHOQUE  CHOQUE_100  CHOQUE_200  COLISION  ...  OTRO TIPO_100  \\\n",
       "40475       0           0           3         0  ...              0   \n",
       "34934       0           0           3         2  ...              1   \n",
       "13224       0           0           1         0  ...              0   \n",
       "2912        0           0           0         0  ...              0   \n",
       "52751       0           0           0         0  ...              0   \n",
       "\n",
       "       OTRO TIPO_200  SEV_Index_1  SEV_Index_100  SEV_Index_200  VOLCADURA  \\\n",
       "40475              0            1              1              1          0   \n",
       "34934              4            1              1              1          0   \n",
       "13224              0            0              0              1          0   \n",
       "2912               0            0              0              0          0   \n",
       "52751              0            0              1              1          0   \n",
       "\n",
       "       VOLCADURA_100  VOLCADURA_200          X          Y  \n",
       "40475              1              1 -70.602922 -33.500424  \n",
       "34934              0              0 -70.626558 -33.394969  \n",
       "13224              0              0 -70.711103 -33.418606  \n",
       "2912               0              0 -70.765649 -33.452242  \n",
       "52751              0              0 -70.558376 -33.483151  \n",
       "\n",
       "[5 rows x 27 columns]"
      ]
     },
     "execution_count": 91,
     "metadata": {},
     "output_type": "execute_result"
    }
   ],
   "source": [
    "dt.sample(5)"
   ]
  },
  {
   "cell_type": "code",
   "execution_count": 92,
   "metadata": {
    "ExecuteTime": {
     "end_time": "2019-08-03T13:25:38.220860Z",
     "start_time": "2019-08-03T13:25:36.800849Z"
    }
   },
   "outputs": [],
   "source": [
    "dt.to_csv(\"../data/geo_stgo_100_crash_test_dataset.csv\")"
   ]
  },
  {
   "cell_type": "code",
   "execution_count": null,
   "metadata": {},
   "outputs": [],
   "source": []
  }
 ],
 "metadata": {
  "kernelspec": {
   "display_name": "geo_p_3_7",
   "language": "python",
   "name": "geo_p_3_7"
  },
  "language_info": {
   "codemirror_mode": {
    "name": "ipython",
    "version": 3
   },
   "file_extension": ".py",
   "mimetype": "text/x-python",
   "name": "python",
   "nbconvert_exporter": "python",
   "pygments_lexer": "ipython3",
   "version": "3.7.3"
  },
  "nbTranslate": {
   "displayLangs": [
    "*"
   ],
   "hotkey": "alt-t",
   "langInMainMenu": true,
   "sourceLang": "en",
   "targetLang": "fr",
   "useGoogleTranslate": true
  },
  "toc": {
   "base_numbering": 1,
   "nav_menu": {},
   "number_sections": true,
   "sideBar": true,
   "skip_h1_title": true,
   "title_cell": "Table of Contents",
   "title_sidebar": "Contents",
   "toc_cell": false,
   "toc_position": {},
   "toc_section_display": true,
   "toc_window_display": false
  },
  "varInspector": {
   "cols": {
    "lenName": 16,
    "lenType": 16,
    "lenVar": 40
   },
   "kernels_config": {
    "python": {
     "delete_cmd_postfix": "",
     "delete_cmd_prefix": "del ",
     "library": "var_list.py",
     "varRefreshCmd": "print(var_dic_list())"
    },
    "r": {
     "delete_cmd_postfix": ") ",
     "delete_cmd_prefix": "rm(",
     "library": "var_list.r",
     "varRefreshCmd": "cat(var_dic_list()) "
    }
   },
   "types_to_exclude": [
    "module",
    "function",
    "builtin_function_or_method",
    "instance",
    "_Feature"
   ],
   "window_display": false
  }
 },
 "nbformat": 4,
 "nbformat_minor": 2
}
