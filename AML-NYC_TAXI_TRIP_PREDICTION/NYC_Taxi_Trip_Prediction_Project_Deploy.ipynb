{
 "cells": [
  {
   "cell_type": "markdown",
   "metadata": {},
   "source": [
    "# Interactive NYC Taxi Fare Duration Prediction Project Deployment"
   ]
  },
  {
   "cell_type": "code",
   "execution_count": 1,
   "metadata": {
    "ExecuteTime": {
     "end_time": "2019-02-07T17:20:42.818508Z",
     "start_time": "2019-02-07T17:20:42.227552Z"
    }
   },
   "outputs": [],
   "source": [
    "from math import radians, cos, sin, asin, sqrt, atan2\n",
    "import numpy as np\n",
    "import pandas as pd\n",
    "import pickle\n",
    "from sklearn.externals import joblib\n",
    "from geopy.geocoders import Nominatim\n",
    "import shapefile as shp\n",
    "from shapely.geometry import Point, Polygon\n",
    "from ipyleaflet import Map, Marker, Polyline"
   ]
  },
  {
   "cell_type": "markdown",
   "metadata": {},
   "source": [
    "## Geo Location - Manhattan Definition and distance calculation"
   ]
  },
  {
   "cell_type": "markdown",
   "metadata": {},
   "source": [
    "`The bounderies (lat/long) are bad. lets take NYC center coordinates (40.7127, -74.0059) and consider as bounders 1 degree (aprox 69 Miles) in each direction.`"
   ]
  },
  {
   "cell_type": "code",
   "execution_count": 2,
   "metadata": {
    "ExecuteTime": {
     "end_time": "2019-02-07T17:20:44.470392Z",
     "start_time": "2019-02-07T17:20:44.448155Z"
    }
   },
   "outputs": [
    {
     "data": {
      "application/vnd.jupyter.widget-view+json": {
       "model_id": "cb81fce344d8468f831425b709c4fa76",
       "version_major": 2,
       "version_minor": 0
      },
      "text/plain": [
       "Map(basemap={'url': 'https://{s}.tile.openstreetmap.org/{z}/{x}/{y}.png', 'max_zoom': 19, 'attribution': 'Map …"
      ]
     },
     "metadata": {},
     "output_type": "display_data"
    }
   ],
   "source": [
    "lat_min = 39.7\n",
    "lat_max = 41.7\n",
    "long_min = -75.0\n",
    "long_max = -73.0\n",
    "\n",
    "line = Polyline(\n",
    "    locations=[[[[lat_min, long_min], [lat_min, long_max], [lat_max, long_max],\n",
    "                 [lat_max, long_min], [lat_min, long_min]]]],\n",
    "    color=\"green\",\n",
    "    fill_color=\"green\")\n",
    "m = Map(center=(40.7127, -74.0059), zoom=7)\n",
    "m.add_layer(line)\n",
    "m"
   ]
  },
  {
   "cell_type": "code",
   "execution_count": 3,
   "metadata": {
    "ExecuteTime": {
     "end_time": "2019-02-07T17:20:49.845374Z",
     "start_time": "2019-02-07T17:20:49.789168Z"
    }
   },
   "outputs": [],
   "source": [
    "shp_path = \"./data/NYC_BB/geo_export_8cc1e1df-036a-4a38-ae67-63772ec4de2a.shp\"\n",
    "sf = shp.Reader(shp_path)"
   ]
  },
  {
   "cell_type": "code",
   "execution_count": 4,
   "metadata": {
    "ExecuteTime": {
     "end_time": "2019-02-07T17:20:50.324826Z",
     "start_time": "2019-02-07T17:20:50.318849Z"
    }
   },
   "outputs": [],
   "source": [
    "def haver_dist_in_miles(lat1, lat2, long1, long2):\n",
    "    \"\"\"\n",
    "    Calculate the great circle distance between two points \n",
    "    on the earth (specified in decimal degrees)\n",
    "    \"\"\"\n",
    "    # convert decimal degrees to radians\n",
    "    long1, lat1, long2, lat2 = map(radians, [long1, lat1, long2, lat2])\n",
    "\n",
    "    # haversine formula\n",
    "    dlong = long2 - long1\n",
    "    dlat = lat2 - lat1\n",
    "    a = sin(dlat/2)**2 + cos(lat1) * cos(lat2) * sin(dlong/2)**2\n",
    "    c = 2 * asin(sqrt(a))\n",
    "    r = 3956\n",
    "    return c * r"
   ]
  },
  {
   "cell_type": "code",
   "execution_count": 5,
   "metadata": {
    "ExecuteTime": {
     "end_time": "2019-02-07T17:20:51.119052Z",
     "start_time": "2019-02-07T17:20:51.113075Z"
    }
   },
   "outputs": [],
   "source": [
    "def polygon_create(sf, id):  \n",
    "    coords = list()\n",
    "    shape_ex = sf.shape(id)\n",
    "    x_lon = np.zeros((len(shape_ex.points),1))\n",
    "    y_lat = np.zeros((len(shape_ex.points),1))\n",
    "    for ip in range(len(shape_ex.points)):\n",
    "        x_lon[ip] = shape_ex.points[ip][0]\n",
    "        y_lat[ip] = shape_ex.points[ip][1]\n",
    "\n",
    "    for i in range(len(x_lon)):\n",
    "        data = ((x_lon[i], y_lat[i]))\n",
    "        coords.append(data)  \n",
    "    return Polygon(coords)"
   ]
  },
  {
   "cell_type": "code",
   "execution_count": 6,
   "metadata": {
    "ExecuteTime": {
     "end_time": "2019-02-07T17:20:51.915404Z",
     "start_time": "2019-02-07T17:20:51.846329Z"
    }
   },
   "outputs": [],
   "source": [
    "manh_poly = polygon_create(sf, 0)"
   ]
  },
  {
   "cell_type": "markdown",
   "metadata": {},
   "source": [
    "## Loading and testing saved ML models"
   ]
  },
  {
   "cell_type": "code",
   "execution_count": 7,
   "metadata": {
    "ExecuteTime": {
     "end_time": "2019-02-07T17:20:59.230175Z",
     "start_time": "2019-02-07T17:20:53.073736Z"
    }
   },
   "outputs": [],
   "source": [
    "# Load the fare model from a pickled file\n",
    "fare_model = joblib.load('./models/fare_model.pkl')\n",
    "\n",
    "# Load the duration model from a pickled file\n",
    "dur_model = joblib.load('./models/dur_model.pkl')\n",
    "\n",
    "# Load the distance model from a pickled file\n",
    "dis_model = joblib.load('./models/dis_model.pkl')"
   ]
  },
  {
   "cell_type": "markdown",
   "metadata": {},
   "source": [
    "## Prediction functions with Geo Location"
   ]
  },
  {
   "cell_type": "code",
   "execution_count": 8,
   "metadata": {
    "ExecuteTime": {
     "end_time": "2019-02-07T17:20:59.276053Z",
     "start_time": "2019-02-07T17:20:59.268734Z"
    }
   },
   "outputs": [],
   "source": [
    "def estimate_nyc_taxi_fare_duration(pickup_longitude,\n",
    "                                    pickup_latitude,\n",
    "                                    dropoff_longitude,\n",
    "                                    dropoff_latitude,\n",
    "                                    RateCodeID=1,\n",
    "                                    passenger_count=1,\n",
    "                                    in_man=1,\n",
    "                                    out_man=0):\n",
    "\n",
    "    import datetime as dt\n",
    "    hour = (dt.datetime.now().hour) - 2\n",
    "    weekday = dt.datetime.now().weekday()\n",
    "\n",
    "    haver_dist = haver_dist_in_miles(pickup_latitude, dropoff_latitude,\n",
    "                                   pickup_longitude, dropoff_longitude)\n",
    "\n",
    "    data_input = pd.DataFrame(\n",
    "        {\n",
    "            'passenger_count': passenger_count,\n",
    "            'pickup_longitude': pickup_longitude,\n",
    "            'pickup_latitude': pickup_latitude,\n",
    "            'RateCodeID': RateCodeID,\n",
    "            'dropoff_longitude': dropoff_longitude,\n",
    "            'dropoff_latitude': dropoff_latitude,\n",
    "            'weekday': weekday,\n",
    "            'hour': hour,\n",
    "            'in_man': in_man,\n",
    "            'out_man': out_man,\n",
    "            'haver_dist': haver_dist\n",
    "        },\n",
    "        index=[0],\n",
    "        columns=[\n",
    "            'passenger_count', 'pickup_longitude', 'pickup_latitude',\n",
    "            'RateCodeID', 'dropoff_longitude', 'dropoff_latitude', 'weekday',\n",
    "            'hour', 'in_man', 'out_man', 'haver_dist'\n",
    "        ])\n",
    "\n",
    "    fare_pred = fare_model.predict(data_input)\n",
    "    dur_pred = dur_model.predict(data_input)\n",
    "    dis_pred = dis_model.predict(data_input)\n",
    "    print(\"\\nTrip has {} miles and will last {} minutes, with a basic cost od ${}\".format(\n",
    "        round(dis_pred[0], 2), round(dur_pred[0], 1), round(fare_pred[0], 2)))"
   ]
  },
  {
   "cell_type": "code",
   "execution_count": 9,
   "metadata": {
    "ExecuteTime": {
     "end_time": "2019-02-07T17:20:59.322651Z",
     "start_time": "2019-02-07T17:20:59.313720Z"
    }
   },
   "outputs": [],
   "source": [
    "def nyc_trip_estimation(start_loc, end_loc, passenger_count=1):\n",
    "\n",
    "    geolocator = Nominatim(user_agent=\"mjrovai\")\n",
    "    start_point = geolocator.geocode(start_loc)\n",
    "    end_point = geolocator.geocode(end_loc)\n",
    "\n",
    "    sp = Point(start_point.longitude, start_point.latitude)\n",
    "    sp = sp.within(manh_poly)\n",
    "    ep = Point(end_point.longitude, end_point.latitude)\n",
    "    ep = ep.within(manh_poly)\n",
    "\n",
    "    if (sp == True) and (ep == True):\n",
    "        in_man = 1\n",
    "        trip = 'inside Manhattan'\n",
    "    else:\n",
    "        in_man = 0\n",
    "\n",
    "    if (sp == False) and (ep == False):\n",
    "        out_man = 1\n",
    "        trip = 'outside Manhattan'\n",
    "    else:\n",
    "        out_man = 0\n",
    "\n",
    "    if (in_man == 0) and (out_man == 0):\n",
    "        trip = 'partially in Manhattan'\n",
    "        \n",
    "    if (sp == True) and (end_loc == 'JFK'):\n",
    "        RateCodeID = 2\n",
    "        Code = 'JFK'\n",
    "    elif end_loc == 'EWR':\n",
    "        RateCodeID = 3\n",
    "        Code = 'EWR'\n",
    "    else:\n",
    "        RateCodeID = 1\n",
    "        Code = 'Standard'\n",
    "\n",
    "    estimate_nyc_taxi_fare_duration(\n",
    "        start_point.longitude,\n",
    "        start_point.latitude,\n",
    "        end_point.longitude,\n",
    "        end_point.latitude,\n",
    "        RateCodeID=RateCodeID,\n",
    "        passenger_count=passenger_count,\n",
    "        in_man=in_man,\n",
    "        out_man=out_man)\n",
    "\n",
    "    print(\n",
    "        \"[Trip Info]: Trip {}; Rate Code: {}\"\n",
    "        .format(trip, Code))\n",
    "    \n",
    "    return start_point.latitude, start_point.longitude, end_point.latitude, end_point.longitude,"
   ]
  },
  {
   "cell_type": "code",
   "execution_count": 10,
   "metadata": {
    "ExecuteTime": {
     "end_time": "2019-02-07T17:20:59.362066Z",
     "start_time": "2019-02-07T17:20:59.357870Z"
    }
   },
   "outputs": [],
   "source": [
    "def plot_map(plat, plon, dlat, dlon):\n",
    "    pickup = [plat, plon]\n",
    "    dropoff = [dlat, dlon]\n",
    "\n",
    "    map_center = ((plat + dlat) / 2), ((plon + dlon) / 2)\n",
    "    m = Map(center=map_center)\n",
    "\n",
    "    mp = Marker(location=pickup, draggable=True, opacity = 1, title = 'Pickup')\n",
    "    m.add_layer(mp);\n",
    "\n",
    "    md = Marker(location=dropoff, draggable=True, opacity = 0.5, title='Dropoff')\n",
    "    m.add_layer(md);\n",
    "\n",
    "    return m, mp, md"
   ]
  },
  {
   "cell_type": "markdown",
   "metadata": {},
   "source": [
    "---\n",
    "## Predictions"
   ]
  },
  {
   "cell_type": "code",
   "execution_count": 20,
   "metadata": {
    "ExecuteTime": {
     "end_time": "2019-02-08T15:01:44.145404Z",
     "start_time": "2019-02-08T15:01:44.141492Z"
    }
   },
   "outputs": [],
   "source": [
    "def predict_trip(start_loc, end_loc):\n",
    "    plat, plon, dlat, dlon = nyc_trip_estimation(start_loc, end_loc)\n",
    "    m, mp, md = plot_map(plat, plon, dlat, dlon)\n",
    "    return m"
   ]
  },
  {
   "cell_type": "code",
   "execution_count": 21,
   "metadata": {
    "ExecuteTime": {
     "end_time": "2019-02-08T15:01:50.119395Z",
     "start_time": "2019-02-08T15:01:45.996819Z"
    }
   },
   "outputs": [
    {
     "name": "stdout",
     "output_type": "stream",
     "text": [
      "\n",
      "Trip has 5.31 miles and will last 25.6 minutes, with a basic cost od $20.88\n",
      "[Trip Info]: Trip partially in Manhattan; Rate Code: Standard\n"
     ]
    },
    {
     "data": {
      "application/vnd.jupyter.widget-view+json": {
       "model_id": "4af6b7d0026540068f0b16a65bcecd56",
       "version_major": 2,
       "version_minor": 0
      },
      "text/plain": [
       "Map(basemap={'url': 'https://{s}.tile.openstreetmap.org/{z}/{x}/{y}.png', 'max_zoom': 19, 'attribution': 'Map …"
      ]
     },
     "metadata": {},
     "output_type": "display_data"
    }
   ],
   "source": [
    "start_loc = \"Empire State Building\"\n",
    "end_loc = \"Brooklyn Bridge\"\n",
    "\n",
    "predict_trip(start_loc, end_loc)"
   ]
  },
  {
   "cell_type": "markdown",
   "metadata": {},
   "source": [
    "- Google: 20 to 24 minutes and 3.7 to 5.2 miles\n",
    "- TaxiFareFinder: $21.25, 5.1 miles and 14 min"
   ]
  },
  {
   "cell_type": "code",
   "execution_count": 41,
   "metadata": {
    "ExecuteTime": {
     "end_time": "2019-01-31T19:04:45.138549Z",
     "start_time": "2019-01-31T19:04:41.860366Z"
    }
   },
   "outputs": [
    {
     "name": "stdout",
     "output_type": "stream",
     "text": [
      "\n",
      "Trip has 8.49 miles and will last 28.6 minutes, with a basic cost od $25.4\n",
      "[Trip Info]: Trip inside Manhattan; Rate Code: Standard\n"
     ]
    },
    {
     "data": {
      "application/vnd.jupyter.widget-view+json": {
       "model_id": "8f3c31399e934ec4a325b38c17bfebee",
       "version_major": 2,
       "version_minor": 0
      },
      "text/plain": [
       "Map(basemap={'url': 'https://{s}.tile.openstreetmap.org/{z}/{x}/{y}.png', 'max_zoom': 19, 'attribution': 'Map …"
      ]
     },
     "metadata": {},
     "output_type": "display_data"
    }
   ],
   "source": [
    "start_loc = \"Columbia University\"\n",
    "end_loc = \"Empire State Building\"\n",
    "\n",
    "predict_trip(start_loc, end_loc)"
   ]
  },
  {
   "cell_type": "markdown",
   "metadata": {},
   "source": [
    "- Google: 28 to 41 minutes; 5 to 7 miles\n",
    "- TaxiFareFinder: $26.43, 5.8 miles and 23 minutes"
   ]
  },
  {
   "cell_type": "code",
   "execution_count": 42,
   "metadata": {
    "ExecuteTime": {
     "end_time": "2019-01-31T19:07:32.970083Z",
     "start_time": "2019-01-31T19:07:30.262821Z"
    }
   },
   "outputs": [
    {
     "name": "stdout",
     "output_type": "stream",
     "text": [
      "\n",
      "Trip has 18.74 miles and will last 44.2 minutes, with a basic cost od $68.5\n",
      "[Trip Info]: Trip partially in Manhattan; Rate Code: EWR\n"
     ]
    },
    {
     "data": {
      "application/vnd.jupyter.widget-view+json": {
       "model_id": "e80763dfe88942d7a70537c7969e5d4e",
       "version_major": 2,
       "version_minor": 0
      },
      "text/plain": [
       "Map(basemap={'url': 'https://{s}.tile.openstreetmap.org/{z}/{x}/{y}.png', 'max_zoom': 19, 'attribution': 'Map …"
      ]
     },
     "metadata": {},
     "output_type": "display_data"
    }
   ],
   "source": [
    "start_loc = \"Carnegie Hall\"\n",
    "end_loc = \"EWR\"\n",
    "\n",
    "predict_trip(start_loc, end_loc)"
   ]
  },
  {
   "cell_type": "markdown",
   "metadata": {},
   "source": [
    "- Google: 34 to 38 minutes; 16.8 to 20.1 miles\n",
    "- TaxiFareFinder: $54.04, 17 miles and 33 minutes"
   ]
  },
  {
   "cell_type": "code",
   "execution_count": 43,
   "metadata": {
    "ExecuteTime": {
     "end_time": "2019-01-31T19:10:33.488535Z",
     "start_time": "2019-01-31T19:10:30.183590Z"
    }
   },
   "outputs": [
    {
     "name": "stdout",
     "output_type": "stream",
     "text": [
      "\n",
      "Trip has 18.95 miles and will last 78.3 minutes, with a basic cost od $64.56\n",
      "[Trip Info]: Trip outside Manhattan; Rate Code: Standard\n"
     ]
    },
    {
     "data": {
      "application/vnd.jupyter.widget-view+json": {
       "model_id": "5bccb821bbc7486eaddeef731f6a46e0",
       "version_major": 2,
       "version_minor": 0
      },
      "text/plain": [
       "Map(basemap={'url': 'https://{s}.tile.openstreetmap.org/{z}/{x}/{y}.png', 'max_zoom': 19, 'attribution': 'Map …"
      ]
     },
     "metadata": {},
     "output_type": "display_data"
    }
   ],
   "source": [
    "start_loc = \"Hoboken NJ\"\n",
    "end_loc = \"JFK\"\n",
    "\n",
    "predict_trip(start_loc, end_loc)"
   ]
  },
  {
   "cell_type": "markdown",
   "metadata": {},
   "source": [
    "- Google: 62 to 67 minutes and 19.2 to 33.8 miles\n",
    "- TaxiFareFinder: $67.45, 21.7 miles and 59 min"
   ]
  },
  {
   "cell_type": "code",
   "execution_count": 44,
   "metadata": {
    "ExecuteTime": {
     "end_time": "2019-01-31T19:13:46.705221Z",
     "start_time": "2019-01-31T19:13:43.870562Z"
    }
   },
   "outputs": [
    {
     "name": "stdout",
     "output_type": "stream",
     "text": [
      "\n",
      "Trip has 17.01 miles and will last 67.0 minutes, with a basic cost od $52.0\n",
      "[Trip Info]: Trip partially in Manhattan; Rate Code: JFK\n"
     ]
    },
    {
     "data": {
      "application/vnd.jupyter.widget-view+json": {
       "model_id": "fcfacfa714ee4c48a6ef18c64145afdc",
       "version_major": 2,
       "version_minor": 0
      },
      "text/plain": [
       "Map(basemap={'url': 'https://{s}.tile.openstreetmap.org/{z}/{x}/{y}.png', 'max_zoom': 19, 'attribution': 'Map …"
      ]
     },
     "metadata": {},
     "output_type": "display_data"
    }
   ],
   "source": [
    "start_loc = \"Empire State Building\"\n",
    "end_loc = \"JFK\"\n",
    "\n",
    "predict_trip(start_loc, end_loc)"
   ]
  },
  {
   "cell_type": "markdown",
   "metadata": {},
   "source": [
    "- Google: 43 to 52 minutes and 15.2 to 20.4 miles\n",
    "- TaxiFareFinder: $52.00 (special Fare), 17.6 miles and 42 min"
   ]
  },
  {
   "cell_type": "code",
   "execution_count": 45,
   "metadata": {
    "ExecuteTime": {
     "end_time": "2019-01-31T19:16:59.807146Z",
     "start_time": "2019-01-31T19:16:56.271774Z"
    }
   },
   "outputs": [
    {
     "name": "stdout",
     "output_type": "stream",
     "text": [
      "\n",
      "Trip has 3.7 miles and will last 32.2 minutes, with a basic cost od $20.17\n",
      "[Trip Info]: Trip partially in Manhattan; Rate Code: Standard\n"
     ]
    },
    {
     "data": {
      "application/vnd.jupyter.widget-view+json": {
       "model_id": "103f92ad0d264a3e92be7a9d06fe0dc3",
       "version_major": 2,
       "version_minor": 0
      },
      "text/plain": [
       "Map(basemap={'url': 'https://{s}.tile.openstreetmap.org/{z}/{x}/{y}.png', 'max_zoom': 19, 'attribution': 'Map …"
      ]
     },
     "metadata": {},
     "output_type": "display_data"
    }
   ],
   "source": [
    "start_loc = \"152 W 10th St New York, NY\"\n",
    "end_loc = \"249 E 65th St, New York, NY \"\n",
    "\n",
    "predict_trip(start_loc, end_loc)"
   ]
  },
  {
   "cell_type": "markdown",
   "metadata": {},
   "source": [
    "- Google: 29 to 31 min and 3.5 to 3.6 miles\n",
    "- TaxiFareFinder: $20.35. 3.5 miles and 21 min"
   ]
  },
  {
   "cell_type": "markdown",
   "metadata": {},
   "source": [
    "Veryfy Fare at *TaxiFareFinder*:\n",
    "https://www.taxifarefinder.com/main.php?city=NY"
   ]
  },
  {
   "cell_type": "code",
   "execution_count": 12,
   "metadata": {
    "ExecuteTime": {
     "end_time": "2019-02-01T14:47:33.848734Z",
     "start_time": "2019-02-01T14:47:31.183073Z"
    }
   },
   "outputs": [
    {
     "name": "stdout",
     "output_type": "stream",
     "text": [
      "\n",
      "Trip has 4.12 miles and will last 22.0 minutes, with a basic cost od $17.73\n",
      "[Trip Info]: Trip inside Manhattan; Rate Code: Standard\n"
     ]
    },
    {
     "data": {
      "application/vnd.jupyter.widget-view+json": {
       "model_id": "0078990559e34ee08d2588a66bd43200",
       "version_major": 2,
       "version_minor": 0
      },
      "text/plain": [
       "Map(basemap={'url': 'https://{s}.tile.openstreetmap.org/{z}/{x}/{y}.png', 'max_zoom': 19, 'attribution': 'Map …"
      ]
     },
     "metadata": {},
     "output_type": "display_data"
    }
   ],
   "source": [
    "start_loc = \"Empire State Building\"\n",
    "end_loc = \"World Trade Center\"\n",
    "\n",
    "predict_trip(start_loc, end_loc)"
   ]
  },
  {
   "cell_type": "code",
   "execution_count": 26,
   "metadata": {
    "ExecuteTime": {
     "end_time": "2019-02-08T15:03:08.453662Z",
     "start_time": "2019-02-08T15:03:04.290071Z"
    }
   },
   "outputs": [
    {
     "name": "stdout",
     "output_type": "stream",
     "text": [
      "\n",
      "Trip has 4.8 miles and will last 28.0 minutes, with a basic cost od $21.57\n",
      "[Trip Info]: Trip inside Manhattan; Rate Code: Standard\n"
     ]
    },
    {
     "data": {
      "application/vnd.jupyter.widget-view+json": {
       "model_id": "ec0c8fd4d7814d0b8fb7aad89c9199f0",
       "version_major": 2,
       "version_minor": 0
      },
      "text/plain": [
       "Map(basemap={'url': 'https://{s}.tile.openstreetmap.org/{z}/{x}/{y}.png', 'max_zoom': 19, 'attribution': 'Map …"
      ]
     },
     "metadata": {},
     "output_type": "display_data"
    }
   ],
   "source": [
    "start_loc = \"New York Marriott Downtown\"\n",
    "end_loc = \"Empire State Building\"\n",
    "\n",
    "predict_trip(start_loc, end_loc)"
   ]
  },
  {
   "cell_type": "markdown",
   "metadata": {},
   "source": [
    "## Getting  Fare/Duration directly from Map"
   ]
  },
  {
   "cell_type": "code",
   "execution_count": 11,
   "metadata": {
    "ExecuteTime": {
     "end_time": "2019-02-07T17:21:10.651352Z",
     "start_time": "2019-02-07T17:21:10.645610Z"
    }
   },
   "outputs": [],
   "source": [
    "def get_mark_locations():   \n",
    "    d = 0.01\n",
    "    NYC_center = [40.7227, -74.0039]\n",
    "    pickup = [NYC_center[0]-d, NYC_center[1]-d]\n",
    "    dropoff = [NYC_center[0]+d, NYC_center[1]+d]\n",
    "    m = Map(center=NYC_center)\n",
    "\n",
    "    mp = Marker(location=pickup, draggable=True, opacity = 1, title = 'Pickup')\n",
    "    m.add_layer(mp);\n",
    "\n",
    "    md = Marker(location=dropoff, draggable=True, opacity = 0.5, title='Dropoff')\n",
    "    m.add_layer(md);\n",
    "\n",
    "    return m, mp, md"
   ]
  },
  {
   "cell_type": "code",
   "execution_count": 12,
   "metadata": {
    "ExecuteTime": {
     "end_time": "2019-02-07T17:21:11.388504Z",
     "start_time": "2019-02-07T17:21:11.367076Z"
    }
   },
   "outputs": [
    {
     "data": {
      "application/vnd.jupyter.widget-view+json": {
       "model_id": "56ca5a794c294d06b0a5f22f7bb97118",
       "version_major": 2,
       "version_minor": 0
      },
      "text/plain": [
       "Map(basemap={'url': 'https://{s}.tile.openstreetmap.org/{z}/{x}/{y}.png', 'max_zoom': 19, 'attribution': 'Map …"
      ]
     },
     "metadata": {},
     "output_type": "display_data"
    }
   ],
   "source": [
    "m, mp, md = get_mark_locations()\n",
    "m"
   ]
  },
  {
   "cell_type": "code",
   "execution_count": 18,
   "metadata": {
    "ExecuteTime": {
     "end_time": "2019-02-08T14:53:07.474215Z",
     "start_time": "2019-02-08T14:53:07.470650Z"
    }
   },
   "outputs": [
    {
     "name": "stdout",
     "output_type": "stream",
     "text": [
      "Pickup location:  [40.709548030891845, -74.01469945907594]\n",
      "Dropoff location:  [40.748785032897864, -73.98560285568239]\n"
     ]
    }
   ],
   "source": [
    "print (\"Pickup location: \", mp.location)\n",
    "print (\"Dropoff location: \", md.location)"
   ]
  },
  {
   "cell_type": "code",
   "execution_count": 16,
   "metadata": {
    "ExecuteTime": {
     "end_time": "2019-02-08T14:49:28.717381Z",
     "start_time": "2019-02-08T14:49:28.373118Z"
    }
   },
   "outputs": [
    {
     "name": "stdout",
     "output_type": "stream",
     "text": [
      "\n",
      "Trip has 4.64 miles and will last 28.3 minutes, with a basic cost od $21.27\n"
     ]
    }
   ],
   "source": [
    "estimate_nyc_taxi_fare_duration(mp.location[1],\n",
    "                                    mp.location[0],\n",
    "                                    md.location[1],\n",
    "                                    md.location[0],\n",
    "                                    RateCodeID=1,\n",
    "                                    passenger_count=1,\n",
    "                                    in_man=1,\n",
    "                                    out_man=0)"
   ]
  },
  {
   "cell_type": "code",
   "execution_count": null,
   "metadata": {},
   "outputs": [],
   "source": []
  }
 ],
 "metadata": {
  "kernelspec": {
   "display_name": "Python 3",
   "language": "python",
   "name": "python3"
  },
  "language_info": {
   "codemirror_mode": {
    "name": "ipython",
    "version": 3
   },
   "file_extension": ".py",
   "mimetype": "text/x-python",
   "name": "python",
   "nbconvert_exporter": "python",
   "pygments_lexer": "ipython3",
   "version": "3.6.6"
  },
  "toc": {
   "base_numbering": 1,
   "nav_menu": {},
   "number_sections": true,
   "sideBar": true,
   "skip_h1_title": true,
   "title_cell": "Table of Contents",
   "title_sidebar": "Contents",
   "toc_cell": false,
   "toc_position": {},
   "toc_section_display": true,
   "toc_window_display": true
  },
  "varInspector": {
   "cols": {
    "lenName": 16,
    "lenType": 16,
    "lenVar": 40
   },
   "kernels_config": {
    "python": {
     "delete_cmd_postfix": "",
     "delete_cmd_prefix": "del ",
     "library": "var_list.py",
     "varRefreshCmd": "print(var_dic_list())"
    },
    "r": {
     "delete_cmd_postfix": ") ",
     "delete_cmd_prefix": "rm(",
     "library": "var_list.r",
     "varRefreshCmd": "cat(var_dic_list()) "
    }
   },
   "types_to_exclude": [
    "module",
    "function",
    "builtin_function_or_method",
    "instance",
    "_Feature"
   ],
   "window_display": false
  }
 },
 "nbformat": 4,
 "nbformat_minor": 2
}
