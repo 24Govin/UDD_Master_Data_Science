{
 "cells": [
  {
   "cell_type": "markdown",
   "metadata": {},
   "source": [
    "# User Oriented Dataset - UMAP\n",
    "- UDD/MDS18/PP4\n",
    "- Final Project: 'Studying Twitter User Accounts: Spotting Suspicious Social Bot Behavior'\n",
    "- Master Candidate: Marcelo Rovai\n",
    "- Professors:\t   \n",
    "    - Eduardo Graells-Garrido (Supervisor)\n",
    "    - Loreto Bravo\n",
    "    - Leo Ferres"
   ]
  },
  {
   "cell_type": "markdown",
   "metadata": {},
   "source": [
    "## Main Libraries & Setup"
   ]
  },
  {
   "cell_type": "code",
   "execution_count": null,
   "metadata": {
    "ExecuteTime": {
     "end_time": "2019-12-12T15:51:08.773258Z",
     "start_time": "2019-12-12T15:51:08.769380Z"
    }
   },
   "outputs": [],
   "source": [
    "import numpy as np\n",
    "import pandas as pd\n",
    "import matplotlib.pyplot as plt\n",
    "import seaborn as sns\n",
    "from sklearn.datasets import load_iris, load_digits\n",
    "from sklearn.model_selection import train_test_split\n",
    "import umap"
   ]
  },
  {
   "cell_type": "code",
   "execution_count": null,
   "metadata": {
    "ExecuteTime": {
     "end_time": "2019-12-12T15:51:09.375405Z",
     "start_time": "2019-12-12T15:51:09.365565Z"
    }
   },
   "outputs": [],
   "source": [
    "from bokeh.plotting import figure, show, output_notebook\n",
    "from bokeh.models import HoverTool, ColumnDataSource, CategoricalColorMapper\n",
    "from bokeh.palettes import Spectral10\n",
    "\n",
    "output_notebook()"
   ]
  },
  {
   "cell_type": "code",
   "execution_count": null,
   "metadata": {
    "ExecuteTime": {
     "end_time": "2019-12-12T15:51:10.051499Z",
     "start_time": "2019-12-12T15:51:10.048585Z"
    }
   },
   "outputs": [],
   "source": [
    "import warnings\n",
    "warnings.filterwarnings('ignore')"
   ]
  },
  {
   "cell_type": "code",
   "execution_count": null,
   "metadata": {
    "ExecuteTime": {
     "end_time": "2019-12-12T15:51:10.785059Z",
     "start_time": "2019-12-12T15:51:10.779957Z"
    }
   },
   "outputs": [],
   "source": [
    "pd.set_option('display.float_format', lambda x: '%.f' % x)\n",
    "sns.set_context(\"paper\",\n",
    "                rc={\n",
    "                    \"font.size\": 12,\n",
    "                    \"axes.titlesize\": 12,\n",
    "                    \"axes.labelsize\": 12,\n",
    "                    'figure.figsize': (14, 10)\n",
    "                })"
   ]
  },
  {
   "cell_type": "markdown",
   "metadata": {},
   "source": [
    "## Main Functions"
   ]
  },
  {
   "cell_type": "code",
   "execution_count": null,
   "metadata": {
    "ExecuteTime": {
     "end_time": "2019-12-12T15:51:12.034660Z",
     "start_time": "2019-12-12T15:51:12.028235Z"
    }
   },
   "outputs": [],
   "source": [
    "def plot_feature(df, feat, kde=True, prt=False, save_file_name=None, x_max = None):\n",
    "    f, axes = plt.subplots(ncols=1, figsize=(10, 4))\n",
    "    sns.despine(left=True)\n",
    "    sns.distplot(df[feat],\n",
    "                 color=\"m\",\n",
    "                 hist=False,\n",
    "                 kde=kde,\n",
    "                 kde_kws={\n",
    "                     'shade': True,\n",
    "                     'linewidth': 3\n",
    "                 })\n",
    "    plt.suptitle(feat + \" distribution\", fontsize=20)\n",
    "    plt.xlabel(feat,fontsize=15)\n",
    "    plt.setp(axes, yticks=[])\n",
    "    plt.xlim(0, x_max)\n",
    "\n",
    "    if prt == True:\n",
    "        plt.savefig(\"../images/\"+save_file_name, bbox_inches='tight')"
   ]
  },
  {
   "cell_type": "code",
   "execution_count": null,
   "metadata": {
    "ExecuteTime": {
     "end_time": "2019-12-12T15:51:12.650238Z",
     "start_time": "2019-12-12T15:51:12.646910Z"
    }
   },
   "outputs": [],
   "source": [
    "def get_df_name(df):\n",
    "    name =[x for x in globals() if globals()[x] is df][0]\n",
    "    return name"
   ]
  },
  {
   "cell_type": "code",
   "execution_count": null,
   "metadata": {
    "ExecuteTime": {
     "end_time": "2019-12-12T18:48:15.990538Z",
     "start_time": "2019-12-12T18:48:15.980470Z"
    }
   },
   "outputs": [],
   "source": [
    "def plot_feat_comp(df1,\n",
    "                   df2,\n",
    "                   feat,\n",
    "                   color1='m',\n",
    "                   color2='g',\n",
    "                   prt=False,\n",
    "                   x_max=None,\n",
    "                  logx=False,\n",
    "                  logy=False):\n",
    "    feat1 = df1[feat]\n",
    "    feat2 = df2[feat]\n",
    "    label_1 = get_df_name(df1)\n",
    "    label_2 = get_df_name(df2)\n",
    "    fig, axes = plt.subplots(ncols=1, figsize=(10, 5))\n",
    "\n",
    "    #fig = plt.figure(figsize = (10,5))\n",
    "    ax = sns.distplot(feat1,\n",
    "                      color=color1,\n",
    "                      label=label_1,\n",
    "                      hist=False,\n",
    "                      kde=True,\n",
    "                      kde_kws={\n",
    "                          'shade': True,\n",
    "                          'linewidth': 3\n",
    "                      })\n",
    "    plt.xlim(x_max)\n",
    "    if logx:\n",
    "        ax.set_xscale('log')\n",
    "    if logy:\n",
    "        ax.set_yscale('log')\n",
    "    \n",
    "    ax = sns.distplot(feat2,\n",
    "                      color=color2,\n",
    "                      label=label_2,\n",
    "                      hist=False,\n",
    "                      kde=True,\n",
    "                      kde_kws={\n",
    "                          'shade': True,\n",
    "                          'linewidth': 3\n",
    "                      })\n",
    "    plt.xlim(x_max)\n",
    "    if logx:\n",
    "        ax.set_xscale('log')\n",
    "    if logy:\n",
    "        ax.set_yscale('log')\n",
    "    \n",
    "    plt.suptitle(label_1 + \"-\" + label_2 + \"  \" + feat + ' distribution',\n",
    "                 fontsize=16)\n",
    "    sns.despine(left=True)\n",
    "    plt.setp(axes, yticks=[])\n",
    "\n",
    "    if prt == True:\n",
    "        plt.savefig(\"../images/\" + label_1 + \"-\" + label_2 + \"-\" + feat+\".png\",\n",
    "                    bbox_inches='tight')"
   ]
  },
  {
   "cell_type": "code",
   "execution_count": null,
   "metadata": {
    "ExecuteTime": {
     "end_time": "2019-12-12T18:48:54.007719Z",
     "start_time": "2019-12-12T18:48:53.997705Z"
    }
   },
   "outputs": [],
   "source": [
    "def plot_feat_comp_2_graph(df1,\n",
    "                           df2,\n",
    "                           feat,\n",
    "                           color1='m',\n",
    "                           color2='g',\n",
    "                           prt=False,\n",
    "                           logx=False,\n",
    "                           logy=False):\n",
    "    feat1 = df1[feat]\n",
    "    feat2 = df2[feat]\n",
    "    label_1 = get_df_name(df1)\n",
    "    label_2 = get_df_name(df2)\n",
    "    f, axes = plt.subplots(ncols=2, figsize=(10, 4))\n",
    "    sns.despine(left=True)\n",
    "    ax = sns.distplot(feat1,\n",
    "                      color=color1,\n",
    "                      label=label_1,\n",
    "                      hist=False,\n",
    "                      kde=True,\n",
    "                      kde_kws={\n",
    "                          'shade': True,\n",
    "                          'linewidth': 3\n",
    "                      },\n",
    "                      ax=axes[0])\n",
    "\n",
    "    if logx:\n",
    "        ax.set_xscale('log')\n",
    "        \n",
    "    if logy:\n",
    "        ax.set_yscale('log')\n",
    "        \n",
    "    ax = sns.distplot(feat2,\n",
    "                      color=color2,\n",
    "                      label=label_2,\n",
    "                      hist=False,\n",
    "                      kde=True,\n",
    "                      kde_kws={\n",
    "                          'shade': True,\n",
    "                          'linewidth': 3\n",
    "                      },\n",
    "                      ax=axes[1])\n",
    "\n",
    "    if logx:\n",
    "        ax.set_xscale('log')\n",
    "    if logy:\n",
    "        ax.set_yscale('log')\n",
    "\n",
    "    plt.suptitle(label_1 + \"-\" + label_2 + \"  \" + feat + \" distribution\",\n",
    "                 fontsize=16)\n",
    "    plt.setp(axes, yticks=[])\n",
    "\n",
    "    if prt == True:\n",
    "        plt.savefig(\"../images/\" + label_1 + \"-\" + label_2 + \"-\" + feat+\".png\",\n",
    "                    bbox_inches='tight')"
   ]
  },
  {
   "cell_type": "markdown",
   "metadata": {},
   "source": [
    "## Import Dataset"
   ]
  },
  {
   "cell_type": "code",
   "execution_count": null,
   "metadata": {
    "ExecuteTime": {
     "end_time": "2019-12-12T15:51:16.197233Z",
     "start_time": "2019-12-12T15:51:16.055682Z"
    }
   },
   "outputs": [],
   "source": [
    "ls ../data/"
   ]
  },
  {
   "cell_type": "code",
   "execution_count": null,
   "metadata": {
    "ExecuteTime": {
     "end_time": "2019-12-12T15:51:17.271794Z",
     "start_time": "2019-12-12T15:51:16.763362Z"
    }
   },
   "outputs": [],
   "source": [
    "df = pd.read_csv(\"../data/60_user_metrics_label.csv\", lineterminator='\\n', low_memory=False)\n",
    "df.shape"
   ]
  },
  {
   "cell_type": "code",
   "execution_count": null,
   "metadata": {
    "ExecuteTime": {
     "end_time": "2019-12-12T15:51:18.147830Z",
     "start_time": "2019-12-12T15:51:18.125364Z"
    }
   },
   "outputs": [],
   "source": [
    "df.head(2)"
   ]
  },
  {
   "cell_type": "code",
   "execution_count": null,
   "metadata": {
    "ExecuteTime": {
     "end_time": "2019-12-12T15:51:19.665852Z",
     "start_time": "2019-12-12T15:51:19.655639Z"
    }
   },
   "outputs": [],
   "source": [
    "del df['Unnamed: 0']"
   ]
  },
  {
   "cell_type": "code",
   "execution_count": null,
   "metadata": {
    "ExecuteTime": {
     "end_time": "2019-12-12T15:51:20.368627Z",
     "start_time": "2019-12-12T15:51:20.307072Z"
    }
   },
   "outputs": [],
   "source": [
    "df.info()"
   ]
  },
  {
   "cell_type": "code",
   "execution_count": null,
   "metadata": {
    "ExecuteTime": {
     "end_time": "2019-12-12T15:51:20.969391Z",
     "start_time": "2019-12-12T15:51:20.960446Z"
    }
   },
   "outputs": [],
   "source": [
    "df[df.acc_verif == 1].label.value_counts()"
   ]
  },
  {
   "cell_type": "markdown",
   "metadata": {},
   "source": [
    "## Prepare data"
   ]
  },
  {
   "cell_type": "code",
   "execution_count": null,
   "metadata": {
    "ExecuteTime": {
     "end_time": "2019-12-12T15:51:22.432138Z",
     "start_time": "2019-12-12T15:51:22.391327Z"
    }
   },
   "outputs": [],
   "source": [
    "data = df.copy()\n",
    "data.set_index(\"user\", inplace = True)\n",
    "data.head(2)"
   ]
  },
  {
   "cell_type": "code",
   "execution_count": null,
   "metadata": {
    "ExecuteTime": {
     "end_time": "2019-12-12T15:51:23.844326Z",
     "start_time": "2019-12-12T15:51:23.705960Z"
    }
   },
   "outputs": [],
   "source": [
    "X_train = data.values[:,0:(data.shape[1]-1)]"
   ]
  },
  {
   "cell_type": "code",
   "execution_count": null,
   "metadata": {
    "ExecuteTime": {
     "end_time": "2019-12-12T15:51:24.562987Z",
     "start_time": "2019-12-12T15:51:24.558980Z"
    }
   },
   "outputs": [],
   "source": [
    "X_train"
   ]
  },
  {
   "cell_type": "code",
   "execution_count": null,
   "metadata": {
    "ExecuteTime": {
     "end_time": "2019-12-12T15:51:25.577172Z",
     "start_time": "2019-12-12T15:51:25.258135Z"
    }
   },
   "outputs": [],
   "source": [
    "#X_train = np.log(X_train + 1)\n",
    "n = X_train.shape[0]\n",
    "print(\"\\nThis data set contains \" + str(n) + \" samples\")\n",
    "y_train = data.values[:,data.shape[1]-1]\n",
    "print(\"\\nDimensions of the  data set: \")\n",
    "print(X_train.shape, y_train.shape)"
   ]
  },
  {
   "cell_type": "markdown",
   "metadata": {},
   "source": [
    "## Apply Model"
   ]
  },
  {
   "cell_type": "markdown",
   "metadata": {},
   "source": [
    "### Default parameters:"
   ]
  },
  {
   "cell_type": "raw",
   "metadata": {},
   "source": [
    "umap.UMAP(\n",
    "    n_neighbors=15,\n",
    "    n_components=2,\n",
    "    metric='euclidean',\n",
    "    n_epochs=None,\n",
    "    learning_rate=1.0,\n",
    "    init='spectral',\n",
    "    min_dist=0.1,\n",
    "    spread=1.0,\n",
    "    set_op_mix_ratio=1.0,\n",
    "    local_connectivity=1.0,\n",
    "    repulsion_strength=1.0,\n",
    "    negative_sample_rate=5,\n",
    "    transform_queue_size=4.0,\n",
    "    a=None,\n",
    "    b=None,\n",
    "    random_state=None,\n",
    "    metric_kwds=None,\n",
    "    angular_rp_forest=False,\n",
    "    target_n_neighbors=-1,\n",
    "    target_metric='categorical',\n",
    "    target_metric_kwds=None,\n",
    "    target_weight=0.5,\n",
    "    transform_seed=42,\n",
    "    verbose=False,\n",
    ")"
   ]
  },
  {
   "cell_type": "code",
   "execution_count": null,
   "metadata": {
    "ExecuteTime": {
     "end_time": "2019-12-12T15:51:31.291544Z",
     "start_time": "2019-12-12T15:51:31.266721Z"
    }
   },
   "outputs": [],
   "source": [
    "reducer = umap.UMAP()"
   ]
  },
  {
   "cell_type": "code",
   "execution_count": null,
   "metadata": {
    "ExecuteTime": {
     "end_time": "2019-12-12T15:53:06.744560Z",
     "start_time": "2019-12-12T15:51:31.911054Z"
    },
    "scrolled": true
   },
   "outputs": [],
   "source": [
    "embedding = reducer.fit_transform(X_train)\n",
    "embedding.shape"
   ]
  },
  {
   "cell_type": "code",
   "execution_count": null,
   "metadata": {
    "ExecuteTime": {
     "end_time": "2019-12-12T15:53:06.843042Z",
     "start_time": "2019-12-12T15:53:06.838616Z"
    }
   },
   "outputs": [],
   "source": [
    "embedding"
   ]
  },
  {
   "cell_type": "code",
   "execution_count": null,
   "metadata": {
    "ExecuteTime": {
     "end_time": "2019-12-12T15:53:06.925569Z",
     "start_time": "2019-12-12T15:53:06.916668Z"
    }
   },
   "outputs": [],
   "source": [
    "def plt_color(lst):\n",
    "    cols=[]\n",
    "    size=[]\n",
    "    for l in lst:\n",
    "        if l=='low_freq':\n",
    "            cols.append('gray')\n",
    "            size.append(.1)\n",
    "        elif l=='high_freq':\n",
    "            cols.append('red')\n",
    "            size.append(50)\n",
    "        else:\n",
    "            cols.append('blue')\n",
    "            size.append(25)\n",
    "    return cols, size"
   ]
  },
  {
   "cell_type": "code",
   "execution_count": null,
   "metadata": {
    "ExecuteTime": {
     "end_time": "2019-12-12T15:53:10.667375Z",
     "start_time": "2019-12-12T15:53:07.000595Z"
    }
   },
   "outputs": [],
   "source": [
    "cols, size = plt_color(y_train)\n",
    "plt.figure(figsize=(15,15))\n",
    "plt.scatter(embedding[:, 0], embedding[:, 1], c=cols, s=size)\n",
    "plt.gca().set_aspect('equal', 'datalim')\n",
    "plt.title('UMAP projection of the User dataset', fontsize=15);"
   ]
  },
  {
   "cell_type": "markdown",
   "metadata": {},
   "source": [
    "---"
   ]
  },
  {
   "cell_type": "markdown",
   "metadata": {},
   "source": [
    "### UMAP enhanced clustering"
   ]
  },
  {
   "cell_type": "code",
   "execution_count": null,
   "metadata": {
    "ExecuteTime": {
     "end_time": "2019-12-12T15:56:52.847327Z",
     "start_time": "2019-12-12T15:56:52.840690Z"
    }
   },
   "outputs": [],
   "source": [
    "def plot_UMAP(X_train, n_neighbors=15, min_dist=0.1, save=False):\n",
    "\n",
    "    clusterable_embedding = umap.UMAP(\n",
    "        n_neighbors=n_neighbors,\n",
    "        min_dist=min_dist,\n",
    "        n_components=2,\n",
    "        random_state=42,\n",
    "    ).fit_transform(X_train)\n",
    "\n",
    "    cols, size = plt_color(y_train)\n",
    "    plt.figure(figsize=(15, 15))\n",
    "    plt.scatter(clusterable_embedding[:, 0],\n",
    "                clusterable_embedding[:, 1],\n",
    "                c=cols,\n",
    "                s=size)\n",
    "    plt.gca().set_aspect('equal', 'datalim')\n",
    "    plt.title('2D UMAP Projection - n_neighbors=' + str(n_neighbors) +\n",
    "              ' - min_dist=' + str(min_dist),\n",
    "              fontsize=15)\n",
    "    if save:\n",
    "        plt.savefig('../images/UMAP-User_Dataset_Result_n_neighbors=' +\n",
    "                    str(n_neighbors) + '_min_dist=' + str(min_dist)+'.png',\n",
    "                    bbox_inches='tight')\n",
    "    return clusterable_embedding"
   ]
  },
  {
   "cell_type": "code",
   "execution_count": null,
   "metadata": {
    "ExecuteTime": {
     "end_time": "2019-12-02T20:40:46.124912Z",
     "start_time": "2019-12-02T20:39:20.139608Z"
    }
   },
   "outputs": [],
   "source": [
    "n_neighbors=3\n",
    "min_dist=0.1\n",
    "clusterable_embedding = plot_UMAP(X_train, n_neighbors, min_dist, save=True)"
   ]
  },
  {
   "cell_type": "code",
   "execution_count": null,
   "metadata": {
    "ExecuteTime": {
     "end_time": "2019-12-02T20:44:13.319535Z",
     "start_time": "2019-12-02T20:42:49.421703Z"
    }
   },
   "outputs": [],
   "source": [
    "n_neighbors=3\n",
    "min_dist=0.0\n",
    "clusterable_embedding_3 = plot_UMAP(X_train, n_neighbors, min_dist, save=True)"
   ]
  },
  {
   "cell_type": "code",
   "execution_count": null,
   "metadata": {
    "ExecuteTime": {
     "end_time": "2019-12-02T20:45:57.730691Z",
     "start_time": "2019-12-02T20:44:47.054640Z"
    }
   },
   "outputs": [],
   "source": [
    "n_neighbors=5\n",
    "min_dist=0.0\n",
    "clusterable_embedding_5 = plot_UMAP(X_train, n_neighbors, min_dist, save=True)"
   ]
  },
  {
   "cell_type": "code",
   "execution_count": null,
   "metadata": {
    "ExecuteTime": {
     "end_time": "2019-12-02T20:48:23.867285Z",
     "start_time": "2019-12-02T20:46:44.950608Z"
    }
   },
   "outputs": [],
   "source": [
    "n_neighbors=10\n",
    "min_dist=0.0\n",
    "clusterable_embedding_10 = plot_UMAP(X_train, n_neighbors, min_dist, save=True)"
   ]
  },
  {
   "cell_type": "code",
   "execution_count": null,
   "metadata": {
    "ExecuteTime": {
     "end_time": "2019-12-02T20:50:25.311723Z",
     "start_time": "2019-12-02T20:48:52.742888Z"
    }
   },
   "outputs": [],
   "source": [
    "n_neighbors=15\n",
    "min_dist=0.0\n",
    "clusterable_embedding_15 = plot_UMAP(X_train, n_neighbors, min_dist, save=True)"
   ]
  },
  {
   "cell_type": "code",
   "execution_count": null,
   "metadata": {
    "ExecuteTime": {
     "end_time": "2019-12-12T15:59:15.695273Z",
     "start_time": "2019-12-12T15:57:01.715241Z"
    }
   },
   "outputs": [],
   "source": [
    "n_neighbors=30\n",
    "min_dist=0.0\n",
    "clusterable_embedding_30 = plot_UMAP(X_train, n_neighbors, min_dist, save=True)"
   ]
  },
  {
   "cell_type": "code",
   "execution_count": null,
   "metadata": {
    "ExecuteTime": {
     "end_time": "2019-12-02T20:58:33.969767Z",
     "start_time": "2019-12-02T20:55:36.293742Z"
    }
   },
   "outputs": [],
   "source": [
    "n_neighbors=50\n",
    "min_dist=0.0\n",
    "clusterable_embedding_50 = plot_UMAP(X_train, n_neighbors, min_dist, save=True)"
   ]
  },
  {
   "cell_type": "code",
   "execution_count": null,
   "metadata": {
    "ExecuteTime": {
     "end_time": "2019-12-02T21:02:49.235320Z",
     "start_time": "2019-12-02T20:59:16.241925Z"
    }
   },
   "outputs": [],
   "source": [
    "n_neighbors=100\n",
    "min_dist=0.0\n",
    "clusterable_embedding_100 = plot_UMAP(X_train, n_neighbors, min_dist, save=True)"
   ]
  },
  {
   "cell_type": "markdown",
   "metadata": {},
   "source": [
    "### Creating and exploration: Dataframe with 2D data"
   ]
  },
  {
   "cell_type": "markdown",
   "metadata": {},
   "source": [
    "Working with:\n",
    "- n_neighbors = 30\n",
    "- min_dist = 0.0"
   ]
  },
  {
   "cell_type": "code",
   "execution_count": null,
   "metadata": {
    "ExecuteTime": {
     "end_time": "2019-12-12T15:59:30.922223Z",
     "start_time": "2019-12-12T15:59:30.911084Z"
    }
   },
   "outputs": [],
   "source": [
    "user_df = pd.DataFrame(clusterable_embedding_30, columns=('x', 'y'))"
   ]
  },
  {
   "cell_type": "raw",
   "metadata": {
    "ExecuteTime": {
     "end_time": "2019-11-08T20:37:38.448957Z",
     "start_time": "2019-11-08T20:37:38.418944Z"
    }
   },
   "source": [
    "user_df['user'] = [str(x) for x in df.user]"
   ]
  },
  {
   "cell_type": "code",
   "execution_count": null,
   "metadata": {
    "ExecuteTime": {
     "end_time": "2019-12-12T15:59:32.445768Z",
     "start_time": "2019-12-12T15:59:32.428975Z"
    }
   },
   "outputs": [],
   "source": [
    "user_df = pd.concat([df, user_df], axis=1)"
   ]
  },
  {
   "cell_type": "code",
   "execution_count": null,
   "metadata": {
    "ExecuteTime": {
     "end_time": "2019-12-12T15:59:33.119178Z",
     "start_time": "2019-12-12T15:59:33.099522Z"
    }
   },
   "outputs": [],
   "source": [
    "user_df.head(2)"
   ]
  },
  {
   "cell_type": "code",
   "execution_count": null,
   "metadata": {
    "ExecuteTime": {
     "end_time": "2019-12-12T15:59:34.642817Z",
     "start_time": "2019-12-12T15:59:34.630267Z"
    }
   },
   "outputs": [],
   "source": [
    "def add_color_size(row): \n",
    "    if row['user'] in list_users:\n",
    "        color = 'orange'\n",
    "        size = 50\n",
    "    elif row['acc_verif']:\n",
    "        color = 'yellow'\n",
    "        size = 5\n",
    "    else:\n",
    "        freq = row['label']\n",
    "        if freq == 'low_freq':\n",
    "            color = 'gray'\n",
    "            size = .1\n",
    "        elif freq == 'high_freq':\n",
    "            color = 'red'\n",
    "            size = 5\n",
    "        else:\n",
    "            color = 'blue'\n",
    "            size = 3\n",
    "        \n",
    "    row['color'] = color\n",
    "    row['size'] = size\n",
    "\n",
    "    return row"
   ]
  },
  {
   "cell_type": "code",
   "execution_count": null,
   "metadata": {
    "ExecuteTime": {
     "end_time": "2019-12-12T16:09:17.274252Z",
     "start_time": "2019-12-12T16:09:17.268305Z"
    }
   },
   "outputs": [],
   "source": [
    "def explore_Umap(user_df, list_users, title = 'UMAP projection of the User dataset'):\n",
    "    user_df = user_df.apply(add_color_size, axis=1)\n",
    "    datasource = ColumnDataSource(user_df)\n",
    "\n",
    "    p = figure(title=title,\n",
    "               plot_width=800,\n",
    "               plot_height=800,\n",
    "               tools=('crosshair, pan, wheel_zoom, reset, save, box_select'))\n",
    "    p.xaxis.axis_label = 'X'\n",
    "    p.yaxis.axis_label = 'Y'\n",
    "\n",
    "    p.add_tools(\n",
    "        HoverTool(tooltips=[\n",
    "            (\"user\", \"@user\"),\n",
    "            (\"(x,y)\", \"($x, $y)\"),\n",
    "            (\"acc_verif\", \"@acc_verif\"),\n",
    "            (\"fols_frs_ratio\", \"@fols_frs_ratio\")\n",
    "        ]))\n",
    "    p.circle('x',\n",
    "             'y',\n",
    "             source=datasource,\n",
    "             color='color',\n",
    "             size='size',\n",
    "             fill_alpha=0.6)\n",
    "\n",
    "    show(p)"
   ]
  },
  {
   "cell_type": "markdown",
   "metadata": {},
   "source": [
    "### Verifying Simple Bots"
   ]
  },
  {
   "cell_type": "code",
   "execution_count": null,
   "metadata": {
    "ExecuteTime": {
     "end_time": "2019-12-12T16:01:49.630069Z",
     "start_time": "2019-12-12T15:59:37.163117Z"
    }
   },
   "outputs": [],
   "source": [
    "list_users = ['fedoraletelier', 'Aliciacarafipl3', 'Dolores09072598']\n",
    "explore_Umap(user_df, list_users)"
   ]
  },
  {
   "cell_type": "markdown",
   "metadata": {},
   "source": [
    "### Verifying Top High-Frequency users"
   ]
  },
  {
   "cell_type": "code",
   "execution_count": null,
   "metadata": {
    "ExecuteTime": {
     "end_time": "2019-12-03T14:52:25.622697Z",
     "start_time": "2019-12-03T14:52:08.910097Z"
    }
   },
   "outputs": [],
   "source": [
    "list_users = ['AlbertoMayol','Tomaskovacic', 'NelsonCL28']\n",
    "explore_Umap(user_df, list_users)"
   ]
  },
  {
   "cell_type": "markdown",
   "metadata": {},
   "source": [
    "### Verifying bot suspicius new users "
   ]
  },
  {
   "cell_type": "code",
   "execution_count": null,
   "metadata": {
    "ExecuteTime": {
     "end_time": "2019-12-12T16:12:22.646294Z",
     "start_time": "2019-12-12T16:10:10.962439Z"
    }
   },
   "outputs": [],
   "source": [
    "list_users = [\n",
    "    'EncuestaExpress', 'RResponsablecl', 'cazadorandino90', 'Piagutierrezs',\n",
    "    'NathalySeplved3', 'ElCentinelaMPE', 'AShumman', 'PamelaSoler3',\n",
    "    'Sumate_Guillier', 'jav_ast'\n",
    "]\n",
    "\n",
    "explore_Umap(user_df, list_users, 'Suspitious New Users - 2D UMAP Projection')"
   ]
  },
  {
   "cell_type": "markdown",
   "metadata": {
    "ExecuteTime": {
     "end_time": "2019-12-12T16:04:46.885560Z",
     "start_time": "2019-12-12T16:04:46.882980Z"
    }
   },
   "source": [
    "### Verifying all users suspicius to be a bot"
   ]
  },
  {
   "cell_type": "code",
   "execution_count": null,
   "metadata": {
    "ExecuteTime": {
     "end_time": "2019-12-12T16:14:42.044854Z",
     "start_time": "2019-12-12T16:12:22.828193Z"
    }
   },
   "outputs": [],
   "source": [
    "list_users = [\n",
    "    'fedoraletelier', 'Aliciacarafipl3', 'Dolores09072598'\n",
    "    'AlbertoMayol','Tomaskovacic', 'NelsonCL28',\n",
    "    'EncuestaExpress', 'RResponsablecl', 'cazadorandino90', 'Piagutierrezs',\n",
    "    'NathalySeplved3', 'ElCentinelaMPE', 'AShumman', 'PamelaSoler3',\n",
    "    'Sumate_Guillier', 'jav_ast'\n",
    "]\n",
    "\n",
    "explore_Umap(user_df, list_users, 'Suspitious Users - 2D UMAP Projection')"
   ]
  },
  {
   "cell_type": "markdown",
   "metadata": {},
   "source": [
    "### Verifying - Suspitious Users Cluster 0"
   ]
  },
  {
   "cell_type": "code",
   "execution_count": null,
   "metadata": {
    "ExecuteTime": {
     "end_time": "2019-12-13T21:08:54.024989Z",
     "start_time": "2019-12-13T21:06:19.692754Z"
    }
   },
   "outputs": [],
   "source": [
    "bots_users_lst = [\n",
    "    'Aptimate', 'EncuestaExpress', 'jaimeantonio67', 'comandoguillie4',\n",
    "    'RResponsablecl', 'mas_estudiantil', 'arqmneira', 'Maria_sepul66',\n",
    "    'cazadorandino90', 'DulceViborita', 'FresiaPavez1', 'Sirius4321',\n",
    "    'viejofasho', 'Ignacio90415476', 'EstudioOsorno', 'NathalySeplved3',\n",
    "    'MSP_LasCondes', 'ElCentinelaMPE', 'caco_sanmartin', 'maasma58',\n",
    "    'Dolores09072598', 'SoleAitkenP', 'JuanManuelCorn5', 'Trab_vXguillier',\n",
    "    'c_alvan_0207', 'Santiag87306226', 'Edelarosacris', 'andres20der',\n",
    "    'mrgrtgautier', 'BassaRiveros', 'Conapro_jjcc', 'SebastianFont20',\n",
    "    'ChristianPolo7', 'almquin', 'chunchitomauro', 'Atletadelgol32',\n",
    "    'laviedej', 'Ange_GossowF', 'Sumate_Guillier', 'solgensen',\n",
    "    'FelipeAlegreJ', 'BarbManriquez', 'jav_ast'\n",
    "]\n",
    "explore_Umap(user_df, bots_users_lst, 'Suspitious Users Cluster 0 - 2D UMAP Projection')"
   ]
  },
  {
   "cell_type": "markdown",
   "metadata": {},
   "source": [
    "### Creating selected Clusters"
   ]
  },
  {
   "cell_type": "markdown",
   "metadata": {
    "ExecuteTime": {
     "end_time": "2019-12-12T19:45:06.164452Z",
     "start_time": "2019-12-12T19:45:06.087980Z"
    }
   },
   "source": [
    "<img src=\"UMAP_clusters.png\">"
   ]
  },
  {
   "cell_type": "code",
   "execution_count": null,
   "metadata": {
    "ExecuteTime": {
     "end_time": "2019-11-09T21:23:21.749615Z",
     "start_time": "2019-11-09T21:23:21.745338Z"
    }
   },
   "outputs": [],
   "source": [
    "datasource.selected.indices"
   ]
  },
  {
   "cell_type": "code",
   "execution_count": null,
   "metadata": {
    "ExecuteTime": {
     "end_time": "2019-12-12T18:42:13.966721Z",
     "start_time": "2019-12-12T18:42:13.940374Z"
    }
   },
   "outputs": [],
   "source": [
    "user_cluster_1 = user_df[(user_df.x > 7) \n",
    "                         & (user_df.x < 12) \n",
    "                         & (user_df.y < -5)\n",
    "                         & (user_df.y > -10)]\n",
    "user_cluster_1.shape"
   ]
  },
  {
   "cell_type": "code",
   "execution_count": null,
   "metadata": {
    "ExecuteTime": {
     "end_time": "2019-12-12T18:42:16.161162Z",
     "start_time": "2019-12-12T18:42:16.148398Z"
    }
   },
   "outputs": [],
   "source": [
    "user_cluster_2 = user_df[(user_df.x > 9) \n",
    "                         & (user_df.x < 13) \n",
    "                         & (user_df.y < -2.2)\n",
    "                         & (user_df.y > -4)]\n",
    "user_cluster_2.shape"
   ]
  },
  {
   "cell_type": "code",
   "execution_count": null,
   "metadata": {
    "ExecuteTime": {
     "end_time": "2019-12-12T18:42:16.813124Z",
     "start_time": "2019-12-12T18:42:16.799346Z"
    }
   },
   "outputs": [],
   "source": [
    "user_cluster_3 = user_df[(user_df.x > -3) \n",
    "                         & (user_df.x < 0.5) \n",
    "                         & (user_df.y < -10)\n",
    "                         & (user_df.y > -13)]\n",
    "user_cluster_3.shape"
   ]
  },
  {
   "cell_type": "code",
   "execution_count": null,
   "metadata": {
    "ExecuteTime": {
     "end_time": "2019-12-12T18:42:17.760990Z",
     "start_time": "2019-12-12T18:42:17.673244Z"
    }
   },
   "outputs": [],
   "source": [
    "user_cluster_1.describe().T"
   ]
  },
  {
   "cell_type": "code",
   "execution_count": null,
   "metadata": {
    "ExecuteTime": {
     "end_time": "2019-12-12T18:53:04.539856Z",
     "start_time": "2019-12-12T18:53:04.451577Z"
    }
   },
   "outputs": [],
   "source": [
    "user_cluster_3.describe().T"
   ]
  },
  {
   "cell_type": "code",
   "execution_count": null,
   "metadata": {
    "ExecuteTime": {
     "end_time": "2019-12-12T18:42:20.028748Z",
     "start_time": "2019-12-12T18:42:20.015796Z"
    }
   },
   "outputs": [],
   "source": [
    "features = ['default_prof_image', 'acc_verif', 'local_bol',\n",
    "       'default_profile', 'descr_bol', 'active_acc', 'tws_cnt', 'frs_cnt',\n",
    "       'fols_cnt', 'fav_cnt', 'tweets_analysed', 'account_age_days',\n",
    "       'ave_acc_tw_day', 'ave_recent_tw_day', 'max_tweet_day',\n",
    "       'ment_tweets_cnt', 'hash_tweets_cnt', 'unique_mentions_cnt',\n",
    "       'unique_hashtags_cnt', 'ment_idx', 'hash_idx', 'rt_ratio', 'mean_urls',\n",
    "       'mean_lenght', 'recent_age_days', 'user_name_len', 'name_len',\n",
    "       'user_name_len_num', 'simil_name', 'descr_len', 'fols_frs_ratio']"
   ]
  },
  {
   "cell_type": "code",
   "execution_count": null,
   "metadata": {
    "ExecuteTime": {
     "end_time": "2019-12-12T18:42:25.332922Z",
     "start_time": "2019-12-12T18:42:22.184647Z"
    },
    "scrolled": true
   },
   "outputs": [],
   "source": [
    "for feat in features:\n",
    "    plot_feature(user_cluster_1, feat, prt=False, save_file_name=None)"
   ]
  },
  {
   "cell_type": "code",
   "execution_count": null,
   "metadata": {
    "ExecuteTime": {
     "end_time": "2019-12-12T18:51:50.184860Z",
     "start_time": "2019-12-12T18:51:49.792041Z"
    }
   },
   "outputs": [],
   "source": [
    "feat = 'max_tweet_day'\n",
    "plot_feat_comp_2_graph(user_cluster_1, user_cluster_3, feat, logx=False, prt=True)"
   ]
  },
  {
   "cell_type": "code",
   "execution_count": null,
   "metadata": {
    "ExecuteTime": {
     "end_time": "2019-12-12T18:50:24.787265Z",
     "start_time": "2019-12-12T18:50:24.226338Z"
    }
   },
   "outputs": [],
   "source": [
    "feat = 'max_tweet_day'\n",
    "plot_feat_comp(user_cluster_1, user_cluster_3, feat, logx=True, logy=False, prt=True)"
   ]
  },
  {
   "cell_type": "code",
   "execution_count": null,
   "metadata": {
    "ExecuteTime": {
     "end_time": "2019-11-12T18:08:53.776711Z",
     "start_time": "2019-11-12T18:08:53.531622Z"
    }
   },
   "outputs": [],
   "source": [
    "plot_feat_comp(user_cluster_1, user_cluster_3,'descr_len', prt=True) "
   ]
  },
  {
   "cell_type": "code",
   "execution_count": null,
   "metadata": {
    "ExecuteTime": {
     "end_time": "2019-11-12T18:12:43.299197Z",
     "start_time": "2019-11-12T18:12:43.040280Z"
    }
   },
   "outputs": [],
   "source": [
    "plot_feat_comp(user_cluster_1, user_cluster_3,'simil_name', prt=True) "
   ]
  },
  {
   "cell_type": "code",
   "execution_count": null,
   "metadata": {
    "ExecuteTime": {
     "end_time": "2019-11-11T15:14:17.029612Z",
     "start_time": "2019-11-11T15:14:16.880343Z"
    }
   },
   "outputs": [],
   "source": [
    "plot_feat_comp(user_cluster_1, user_cluster_3,'user_name_len_num') "
   ]
  },
  {
   "cell_type": "code",
   "execution_count": null,
   "metadata": {
    "ExecuteTime": {
     "end_time": "2019-11-11T15:14:26.210631Z",
     "start_time": "2019-11-11T15:14:26.055147Z"
    }
   },
   "outputs": [],
   "source": [
    "plot_feat_comp(user_cluster_1, user_cluster_3,'name_len') "
   ]
  },
  {
   "cell_type": "code",
   "execution_count": null,
   "metadata": {
    "ExecuteTime": {
     "end_time": "2019-11-12T18:16:12.787635Z",
     "start_time": "2019-11-12T18:16:12.526641Z"
    }
   },
   "outputs": [],
   "source": [
    "plot_feat_comp(user_cluster_1, user_cluster_3,'user_name_len',prt=True) "
   ]
  },
  {
   "cell_type": "code",
   "execution_count": null,
   "metadata": {
    "ExecuteTime": {
     "end_time": "2019-11-11T15:15:57.862018Z",
     "start_time": "2019-11-11T15:15:57.711416Z"
    }
   },
   "outputs": [],
   "source": [
    "plot_feat_comp(user_cluster_1, user_cluster_3,'mean_lenght', prt=False ) "
   ]
  },
  {
   "cell_type": "code",
   "execution_count": null,
   "metadata": {
    "ExecuteTime": {
     "end_time": "2019-11-11T15:16:03.168672Z",
     "start_time": "2019-11-11T15:16:03.013525Z"
    }
   },
   "outputs": [],
   "source": [
    "plot_feat_comp(user_cluster_1, user_cluster_3,'mean_urls') "
   ]
  },
  {
   "cell_type": "code",
   "execution_count": null,
   "metadata": {
    "ExecuteTime": {
     "end_time": "2019-11-12T18:22:01.927787Z",
     "start_time": "2019-11-12T18:22:01.682662Z"
    }
   },
   "outputs": [],
   "source": [
    "plot_feat_comp(user_cluster_1, user_cluster_3,'rt_ratio', prt=True ) # (rt_tweets_cnt/tweets_analysed)*100"
   ]
  },
  {
   "cell_type": "code",
   "execution_count": null,
   "metadata": {
    "ExecuteTime": {
     "end_time": "2019-11-11T15:16:16.387336Z",
     "start_time": "2019-11-11T15:16:16.229023Z"
    }
   },
   "outputs": [],
   "source": [
    "plot_feat_comp(user_cluster_1, user_cluster_3,'hash_idx') # unique_hashtags_cnt/hash_tweets_cnt"
   ]
  },
  {
   "cell_type": "code",
   "execution_count": null,
   "metadata": {
    "ExecuteTime": {
     "end_time": "2019-11-11T15:16:21.460086Z",
     "start_time": "2019-11-11T15:16:21.311875Z"
    }
   },
   "outputs": [],
   "source": [
    "plot_feat_comp(user_cluster_1, user_cluster_3, 'ment_idx', prt=False,\n",
    "               x_max=10)  # unique_mentions_cnt/ment_tweets_cnt"
   ]
  },
  {
   "cell_type": "code",
   "execution_count": null,
   "metadata": {
    "ExecuteTime": {
     "end_time": "2019-11-11T15:16:32.788654Z",
     "start_time": "2019-11-11T15:16:32.622360Z"
    }
   },
   "outputs": [],
   "source": [
    "plot_feat_comp(user_cluster_1, user_cluster_3,'unique_hashtags_cnt', prt=False, x_max=100)"
   ]
  },
  {
   "cell_type": "code",
   "execution_count": null,
   "metadata": {
    "ExecuteTime": {
     "end_time": "2019-11-11T15:16:39.590972Z",
     "start_time": "2019-11-11T15:16:39.370480Z"
    }
   },
   "outputs": [],
   "source": [
    "plot_feat_comp_2_graph(user_cluster_1, user_cluster_3,'unique_mentions_cnt')"
   ]
  },
  {
   "cell_type": "code",
   "execution_count": null,
   "metadata": {
    "ExecuteTime": {
     "end_time": "2019-11-11T15:16:44.831122Z",
     "start_time": "2019-11-11T15:16:44.623509Z"
    }
   },
   "outputs": [],
   "source": [
    "plot_feat_comp_2_graph(user_cluster_1, user_cluster_3,'hash_tweets_cnt')"
   ]
  },
  {
   "cell_type": "code",
   "execution_count": null,
   "metadata": {
    "ExecuteTime": {
     "end_time": "2019-11-11T15:16:49.147338Z",
     "start_time": "2019-11-11T15:16:48.936566Z"
    }
   },
   "outputs": [],
   "source": [
    "plot_feat_comp_2_graph(user_cluster_1, user_cluster_3,'ment_tweets_cnt')"
   ]
  },
  {
   "cell_type": "code",
   "execution_count": null,
   "metadata": {
    "ExecuteTime": {
     "end_time": "2019-11-11T15:16:53.292840Z",
     "start_time": "2019-11-11T15:16:53.085544Z"
    }
   },
   "outputs": [],
   "source": [
    "plot_feat_comp_2_graph(user_cluster_1, user_cluster_3,'ave_recent_tw_day')"
   ]
  },
  {
   "cell_type": "code",
   "execution_count": null,
   "metadata": {
    "ExecuteTime": {
     "end_time": "2019-11-11T15:16:57.404501Z",
     "start_time": "2019-11-11T15:16:57.190209Z"
    }
   },
   "outputs": [],
   "source": [
    "plot_feat_comp_2_graph(user_cluster_1, user_cluster_3,'ave_acc_tw_day')"
   ]
  },
  {
   "cell_type": "code",
   "execution_count": null,
   "metadata": {
    "ExecuteTime": {
     "end_time": "2019-11-12T18:19:30.378617Z",
     "start_time": "2019-11-12T18:19:30.142946Z"
    }
   },
   "outputs": [],
   "source": [
    "plot_feat_comp(user_cluster_1, user_cluster_3,'account_age_days', prt=True)"
   ]
  },
  {
   "cell_type": "code",
   "execution_count": null,
   "metadata": {
    "ExecuteTime": {
     "end_time": "2019-11-11T15:17:05.550286Z",
     "start_time": "2019-11-11T15:17:05.387170Z"
    }
   },
   "outputs": [],
   "source": [
    "plot_feat_comp(user_cluster_1, user_cluster_3,'recent_age_days', prt=False)"
   ]
  },
  {
   "cell_type": "code",
   "execution_count": null,
   "metadata": {
    "ExecuteTime": {
     "end_time": "2019-11-11T15:17:09.706317Z",
     "start_time": "2019-11-11T15:17:09.485720Z"
    },
    "scrolled": true
   },
   "outputs": [],
   "source": [
    "plot_feat_comp_2_graph(user_cluster_1, user_cluster_3,'tws_cnt')"
   ]
  },
  {
   "cell_type": "code",
   "execution_count": null,
   "metadata": {
    "ExecuteTime": {
     "end_time": "2019-11-11T15:20:51.148523Z",
     "start_time": "2019-11-11T15:20:50.995425Z"
    }
   },
   "outputs": [],
   "source": [
    "plot_feat_comp(user_cluster_1, user_cluster_3,'frs_cnt', prt=False, x_max=5_000)"
   ]
  },
  {
   "cell_type": "code",
   "execution_count": null,
   "metadata": {
    "ExecuteTime": {
     "end_time": "2019-11-11T15:20:31.438231Z",
     "start_time": "2019-11-11T15:20:31.227346Z"
    }
   },
   "outputs": [],
   "source": [
    "plot_feat_comp_2_graph(user_cluster_1, user_cluster_3,'fols_cnt', prt=False)"
   ]
  },
  {
   "cell_type": "code",
   "execution_count": null,
   "metadata": {
    "ExecuteTime": {
     "end_time": "2019-11-11T15:19:22.705616Z",
     "start_time": "2019-11-11T15:19:22.494807Z"
    }
   },
   "outputs": [],
   "source": [
    "plot_feat_comp_2_graph(user_cluster_1, user_cluster_3,'fols_frs_ratio') # followers / Following"
   ]
  },
  {
   "cell_type": "code",
   "execution_count": null,
   "metadata": {
    "ExecuteTime": {
     "end_time": "2019-11-11T15:18:26.796576Z",
     "start_time": "2019-11-11T15:18:26.595905Z"
    }
   },
   "outputs": [],
   "source": [
    "plot_feat_comp_2_graph(user_cluster_1, user_cluster_3,'fav_cnt') # likes"
   ]
  },
  {
   "cell_type": "code",
   "execution_count": null,
   "metadata": {
    "ExecuteTime": {
     "end_time": "2019-11-11T15:18:38.575063Z",
     "start_time": "2019-11-11T15:18:38.363902Z"
    }
   },
   "outputs": [],
   "source": [
    "plot_feat_comp_2_graph(user_cluster_1, user_cluster_3,'tweets_analysed')"
   ]
  }
 ],
 "metadata": {
  "kernelspec": {
   "display_name": "python_3_7",
   "language": "python",
   "name": "python_3_7"
  },
  "language_info": {
   "codemirror_mode": {
    "name": "ipython",
    "version": 3
   },
   "file_extension": ".py",
   "mimetype": "text/x-python",
   "name": "python",
   "nbconvert_exporter": "python",
   "pygments_lexer": "ipython3",
   "version": "3.7.3"
  },
  "nbTranslate": {
   "displayLangs": [
    "*"
   ],
   "hotkey": "alt-t",
   "langInMainMenu": true,
   "sourceLang": "en",
   "targetLang": "fr",
   "useGoogleTranslate": true
  },
  "toc": {
   "base_numbering": 1,
   "nav_menu": {},
   "number_sections": true,
   "sideBar": true,
   "skip_h1_title": true,
   "title_cell": "Table of Contents",
   "title_sidebar": "Contents",
   "toc_cell": false,
   "toc_position": {},
   "toc_section_display": true,
   "toc_window_display": true
  },
  "varInspector": {
   "cols": {
    "lenName": 16,
    "lenType": 16,
    "lenVar": 40
   },
   "kernels_config": {
    "python": {
     "delete_cmd_postfix": "",
     "delete_cmd_prefix": "del ",
     "library": "var_list.py",
     "varRefreshCmd": "print(var_dic_list())"
    },
    "r": {
     "delete_cmd_postfix": ") ",
     "delete_cmd_prefix": "rm(",
     "library": "var_list.r",
     "varRefreshCmd": "cat(var_dic_list()) "
    }
   },
   "types_to_exclude": [
    "module",
    "function",
    "builtin_function_or_method",
    "instance",
    "_Feature"
   ],
   "window_display": false
  }
 },
 "nbformat": 4,
 "nbformat_minor": 2
}
