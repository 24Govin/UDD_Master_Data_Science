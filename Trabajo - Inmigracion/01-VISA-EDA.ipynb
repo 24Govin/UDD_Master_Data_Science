{
 "cells": [
  {
   "cell_type": "markdown",
   "metadata": {
    "colab_type": "text",
    "id": "acxmVRM0vimw"
   },
   "source": [
    "# Análisis exploratorio de los datos\n",
    "## Trabajo MDS-2oTrim. ==> Inmigracion en Chile\n",
    "\n",
    "**Profesora:** Donoso I.<br>\n",
    "**Alumnos:** Briceno, H.; Rovai, M.; Tessada G."
   ]
  },
  {
   "cell_type": "code",
   "execution_count": 1,
   "metadata": {
    "colab": {},
    "colab_type": "code",
    "id": "ClmIINxGvimx"
   },
   "outputs": [],
   "source": [
    "import pandas as pd\n",
    "import numpy as np\n",
    "import seaborn as sns\n",
    "import matplotlib.pyplot as plt\n",
    "%matplotlib inline  "
   ]
  },
  {
   "cell_type": "markdown",
   "metadata": {
    "colab_type": "text",
    "id": "kGypOlx8vim0"
   },
   "source": [
    "## 1. Importar el dataset"
   ]
  },
  {
   "cell_type": "markdown",
   "metadata": {
    "colab_type": "text",
    "id": "3idgtF7Gvim1"
   },
   "source": [
    "Vamos a usar datos de la base de datos del [Departamento de Extranjeria y Migracion de Chile](http://www.extranjeria.gob.cl/estadisticas-migratorias/). "
   ]
  },
  {
   "cell_type": "markdown",
   "metadata": {
    "colab": {},
    "colab_type": "code",
    "id": "cgxDYMypvim2"
   },
   "source": [
    "El Departamanto de Extranjeria y Migracion de Chile, aclara que si bien las bases se presentan de manera separada por tratarse de distintos tipos de permiso, ellas no constituyen universos distintos de inmigrantes. Un inmigrante en Chile para obtener una permanencia definitiva DEBE haber obtenido con anterioridad una visa, por lo que las bases de permanencias definitivas se conforman de personas que están contabilizadas en las visas. <br>\n",
    "<br>Así, para una mejor lectura de los datos haremos una distinción en términos de migración transitoria y migración permanente. Se considerará que las visas corresponden a migración transitoria, pues los permisos duran entre uno y dos años. Las personas que sean titulares de una visa, para quedarse por un plazo mayor a dos años, deben solicitar un permiso de permanencia definitiva, de otra manera deben abandonar el país.<br>\n",
    "- En este trabajo focaremos en la MIGRACIÓN DEFINITIVA, que están relacionadas a las Permisos de Residencia Definitiva\n",
    "- Y se complementará esa información con la migración reciente, es decir, las visas otorgadas los dos últimos años (2017/2018)."
   ]
  },
  {
   "cell_type": "markdown",
   "metadata": {},
   "source": [
    "**Información Registrada**\n",
    "Las planillas de permisos migratorios contienen los siguientes datos, los cuales son extraídos de los formularios establecidos para solicitar residencia, disponibles en la página web del Departamento de Extranjería y Migración:\n",
    "- Sexo\n",
    "- Fecha de nacimiento\n",
    "- Actividad (*): refiere a la actividad que el extranjero declara realizar en nuestro país. \n",
    "- Profesión (*): refiere a la profesión que el extranjero declara al momento de realizar su solicitud.\n",
    "- País\n",
    "- Estudios (*): refiere al nivel de estudios que el migrante declara al momento de realizar su solicitud. \n",
    "- Comuna (*):corresponde a la comuna de residencia que declara el inmigrante al momento de realizar su solicitud y no da cuenta necesariamente de la actual residencia del extranjero\n",
    "- Provincia (*): corresponde a la provincia de residencia que declara el inmigrante al momento de realizar su solicitud y no da cuenta necesariamente de la actual residencia del extranjero\n",
    "- Región (*): corresponde a la región de residencia que declara el inmigrante al momento de realizar su solicitud y no da cuenta necesariamente de la actual residencia del extranjero\n",
    "- Tit – Dep: se refiere a la categoría TITULAR del permiso migratorio otorgado o DEPENDIENTE en el caso que el permiso es otorgado a un familiar directo, y el dependiente lo acompaña en su residencia en Chile.\n",
    "- Año: se refiere al año en que se otorga el permiso migratorio\n",
    "- Beneficio: referido al permiso de residencia otorgado (tipo de visa según categoría legal: estudiante, sujeta a contrato, temporaria)\n",
    "\n",
    "(*) Se trata de una variable con moderada tasa de registro, por lo que se sugiere utilizar con cautela la información que ella arroja. Ademas, por tratarse de información autodeclarada no se presentan medios de verificación\n",
    "\n",
    "---\n",
    "#### Los numeros finales no són una fotografia de los inmigrantes en Chile, pero se podrá analisar tendencias"
   ]
  },
  {
   "cell_type": "code",
   "execution_count": 2,
   "metadata": {
    "scrolled": false
   },
   "outputs": [
    {
     "name": "stdout",
     "output_type": "stream",
     "text": [
      "01-VISA-EDA.ipynb\r\n",
      "\u001b[31m02-HABIT-EDA.ipynb\u001b[m\u001b[m*\r\n",
      "02-HABIT-EDA_MR.ipynb\r\n",
      "03-CENSO-2017-EDA.ipynb\r\n",
      "Inmigrantes - Glosario-Estadísticas-Final-Inst.pdf\r\n",
      "\u001b[34mMicrodatos_Manzanas\u001b[m\u001b[m/\r\n",
      "Presentation-Proyecto.pdf\r\n",
      "Presentation-Proyecto.pptx\r\n",
      "Proyecto-Magister-Data-Science.pdf\r\n",
      "RM_PoblacionMigranteChile.pdf\r\n",
      "\u001b[34mdata\u001b[m\u001b[m/\r\n",
      "inmigrantes_metropolitan.xlsx\r\n",
      "inmigrantes_rm_comuna.xlsx\r\n",
      "~$Presentation-Proyecto.pptx\r\n"
     ]
    }
   ],
   "source": [
    "ls"
   ]
  },
  {
   "cell_type": "code",
   "execution_count": 3,
   "metadata": {},
   "outputs": [
    {
     "name": "stdout",
     "output_type": "stream",
     "text": [
      "PDs-2005-2016.xlsx\r\n",
      "PDs-2017.xlsx\r\n",
      "PDs_2018_1.xlsx\r\n",
      "Visas-2005-2010.xlsx\r\n",
      "Visas-2011-2016.xlsx\r\n",
      "Visas-2017.xlsx\r\n",
      "Visas-2018_1.xlsx\r\n",
      "frec_casos_dmcs_mensual_2001_2017w.xlsx\r\n",
      "inmigrantes_metropolitana.xlsx\r\n",
      "inmigrantes_rm_comuna.xlsx\r\n",
      "pe_2010-2017.xlsx\r\n"
     ]
    }
   ],
   "source": [
    "ls ./data"
   ]
  },
  {
   "cell_type": "code",
   "execution_count": 4,
   "metadata": {
    "colab": {},
    "colab_type": "code",
    "id": "lOaTPEgSvim7"
   },
   "outputs": [
    {
     "data": {
      "text/plain": [
       "(324932, 12)"
      ]
     },
     "execution_count": 4,
     "metadata": {},
     "output_type": "execute_result"
    }
   ],
   "source": [
    "df1 = pd.read_excel('./data/PDs-2005-2016.xlsx')\n",
    "df1.shape"
   ]
  },
  {
   "cell_type": "code",
   "execution_count": 5,
   "metadata": {},
   "outputs": [
    {
     "data": {
      "text/html": [
       "<div>\n",
       "<style scoped>\n",
       "    .dataframe tbody tr th:only-of-type {\n",
       "        vertical-align: middle;\n",
       "    }\n",
       "\n",
       "    .dataframe tbody tr th {\n",
       "        vertical-align: top;\n",
       "    }\n",
       "\n",
       "    .dataframe thead th {\n",
       "        text-align: right;\n",
       "    }\n",
       "</style>\n",
       "<table border=\"1\" class=\"dataframe\">\n",
       "  <thead>\n",
       "    <tr style=\"text-align: right;\">\n",
       "      <th></th>\n",
       "      <th>SEXO</th>\n",
       "      <th>NACIMIENTO</th>\n",
       "      <th>ACTIVIDAD</th>\n",
       "      <th>PROFESION</th>\n",
       "      <th>PAIS</th>\n",
       "      <th>ESTUDIOS</th>\n",
       "      <th>COMUNA</th>\n",
       "      <th>PROVINCIA</th>\n",
       "      <th>REGION</th>\n",
       "      <th>TIT_DEP</th>\n",
       "      <th>AÑO</th>\n",
       "      <th>BENEFICIO</th>\n",
       "    </tr>\n",
       "  </thead>\n",
       "  <tbody>\n",
       "    <tr>\n",
       "      <th>0</th>\n",
       "      <td>Femenino</td>\n",
       "      <td>1974-10-05</td>\n",
       "      <td>EMPLEADO</td>\n",
       "      <td>MATRONA</td>\n",
       "      <td>PERÚ</td>\n",
       "      <td>no indica</td>\n",
       "      <td>SANTIAGO</td>\n",
       "      <td>SANTIAGO</td>\n",
       "      <td>METROPOLITANA</td>\n",
       "      <td>T</td>\n",
       "      <td>2006</td>\n",
       "      <td>PERMANENCIA DEFINITIVA</td>\n",
       "    </tr>\n",
       "    <tr>\n",
       "      <th>1</th>\n",
       "      <td>Masculino</td>\n",
       "      <td>1949-09-13</td>\n",
       "      <td>EMPLEADO</td>\n",
       "      <td>INGENIERO</td>\n",
       "      <td>ECUADOR</td>\n",
       "      <td>no indica</td>\n",
       "      <td>PROVIDENCIA</td>\n",
       "      <td>SANTIAGO</td>\n",
       "      <td>METROPOLITANA</td>\n",
       "      <td>T</td>\n",
       "      <td>2007</td>\n",
       "      <td>PERMANENCIA DEFINITIVA</td>\n",
       "    </tr>\n",
       "  </tbody>\n",
       "</table>\n",
       "</div>"
      ],
      "text/plain": [
       "        SEXO NACIMIENTO ACTIVIDAD  PROFESION     PAIS   ESTUDIOS       COMUNA  \\\n",
       "0   Femenino 1974-10-05  EMPLEADO    MATRONA     PERÚ  no indica     SANTIAGO   \n",
       "1  Masculino 1949-09-13  EMPLEADO  INGENIERO  ECUADOR  no indica  PROVIDENCIA   \n",
       "\n",
       "  PROVINCIA         REGION TIT_DEP   AÑO               BENEFICIO  \n",
       "0  SANTIAGO  METROPOLITANA       T  2006  PERMANENCIA DEFINITIVA  \n",
       "1  SANTIAGO  METROPOLITANA       T  2007  PERMANENCIA DEFINITIVA  "
      ]
     },
     "execution_count": 5,
     "metadata": {},
     "output_type": "execute_result"
    }
   ],
   "source": [
    "df1.head(2)"
   ]
  },
  {
   "cell_type": "code",
   "execution_count": 6,
   "metadata": {
    "colab": {},
    "colab_type": "code",
    "id": "lOaTPEgSvim7"
   },
   "outputs": [
    {
     "data": {
      "text/plain": [
       "(87757, 12)"
      ]
     },
     "execution_count": 6,
     "metadata": {},
     "output_type": "execute_result"
    }
   ],
   "source": [
    "df2 = pd.read_excel('./data/PDs-2017.xlsx')\n",
    "df2.shape"
   ]
  },
  {
   "cell_type": "code",
   "execution_count": 7,
   "metadata": {},
   "outputs": [
    {
     "data": {
      "text/html": [
       "<div>\n",
       "<style scoped>\n",
       "    .dataframe tbody tr th:only-of-type {\n",
       "        vertical-align: middle;\n",
       "    }\n",
       "\n",
       "    .dataframe tbody tr th {\n",
       "        vertical-align: top;\n",
       "    }\n",
       "\n",
       "    .dataframe thead th {\n",
       "        text-align: right;\n",
       "    }\n",
       "</style>\n",
       "<table border=\"1\" class=\"dataframe\">\n",
       "  <thead>\n",
       "    <tr style=\"text-align: right;\">\n",
       "      <th></th>\n",
       "      <th>SEXO</th>\n",
       "      <th>NACIMIENTO</th>\n",
       "      <th>ACTIVIDAD</th>\n",
       "      <th>PROFESION</th>\n",
       "      <th>PAIS</th>\n",
       "      <th>ESTUDIOS</th>\n",
       "      <th>COMUNA</th>\n",
       "      <th>PROVINCIA</th>\n",
       "      <th>REGION</th>\n",
       "      <th>TIT_DEP</th>\n",
       "      <th>AÑO</th>\n",
       "      <th>BENEFICIO</th>\n",
       "    </tr>\n",
       "  </thead>\n",
       "  <tbody>\n",
       "    <tr>\n",
       "      <th>0</th>\n",
       "      <td>femenino</td>\n",
       "      <td>1992-06-23</td>\n",
       "      <td>EMPLEADO</td>\n",
       "      <td>LICENCIADO</td>\n",
       "      <td>ECUADOR</td>\n",
       "      <td>UNIVERSITARIO</td>\n",
       "      <td>HUECHURABA</td>\n",
       "      <td>SANTIAGO</td>\n",
       "      <td>METROPOLITANA</td>\n",
       "      <td>T</td>\n",
       "      <td>2017</td>\n",
       "      <td>PERMANENCIA DEFINITIVA</td>\n",
       "    </tr>\n",
       "    <tr>\n",
       "      <th>1</th>\n",
       "      <td>masculino</td>\n",
       "      <td>1965-01-01</td>\n",
       "      <td>EMPRESARIO O PATRON</td>\n",
       "      <td>EMPRESARIO O PATRON</td>\n",
       "      <td>CHINA REPUBLICA POPULAR</td>\n",
       "      <td>UNIVERSITARIO</td>\n",
       "      <td>SAN FERNANDO</td>\n",
       "      <td>COLCHAGUA</td>\n",
       "      <td>O'HIGGINS</td>\n",
       "      <td>T</td>\n",
       "      <td>2017</td>\n",
       "      <td>PERMANENCIA DEFINITIVA</td>\n",
       "    </tr>\n",
       "  </tbody>\n",
       "</table>\n",
       "</div>"
      ],
      "text/plain": [
       "        SEXO NACIMIENTO            ACTIVIDAD            PROFESION  \\\n",
       "0   femenino 1992-06-23             EMPLEADO           LICENCIADO   \n",
       "1  masculino 1965-01-01  EMPRESARIO O PATRON  EMPRESARIO O PATRON   \n",
       "\n",
       "                      PAIS       ESTUDIOS        COMUNA  PROVINCIA  \\\n",
       "0                  ECUADOR  UNIVERSITARIO    HUECHURABA   SANTIAGO   \n",
       "1  CHINA REPUBLICA POPULAR  UNIVERSITARIO  SAN FERNANDO  COLCHAGUA   \n",
       "\n",
       "          REGION TIT_DEP   AÑO               BENEFICIO  \n",
       "0  METROPOLITANA       T  2017  PERMANENCIA DEFINITIVA  \n",
       "1      O'HIGGINS       T  2017  PERMANENCIA DEFINITIVA  "
      ]
     },
     "execution_count": 7,
     "metadata": {},
     "output_type": "execute_result"
    }
   ],
   "source": [
    "df2.head(2)"
   ]
  },
  {
   "cell_type": "code",
   "execution_count": 8,
   "metadata": {
    "colab": {},
    "colab_type": "code",
    "id": "lOaTPEgSvim7"
   },
   "outputs": [
    {
     "data": {
      "text/plain": [
       "(48208, 12)"
      ]
     },
     "execution_count": 8,
     "metadata": {},
     "output_type": "execute_result"
    }
   ],
   "source": [
    "df3 = pd.read_excel('./data/PDs_2018_1.xlsx')\n",
    "df3.shape"
   ]
  },
  {
   "cell_type": "code",
   "execution_count": 9,
   "metadata": {},
   "outputs": [
    {
     "data": {
      "text/html": [
       "<div>\n",
       "<style scoped>\n",
       "    .dataframe tbody tr th:only-of-type {\n",
       "        vertical-align: middle;\n",
       "    }\n",
       "\n",
       "    .dataframe tbody tr th {\n",
       "        vertical-align: top;\n",
       "    }\n",
       "\n",
       "    .dataframe thead th {\n",
       "        text-align: right;\n",
       "    }\n",
       "</style>\n",
       "<table border=\"1\" class=\"dataframe\">\n",
       "  <thead>\n",
       "    <tr style=\"text-align: right;\">\n",
       "      <th></th>\n",
       "      <th>SEXO</th>\n",
       "      <th>FECH-NAC</th>\n",
       "      <th>ACTIVIDAD</th>\n",
       "      <th>PROFESION</th>\n",
       "      <th>PAIS</th>\n",
       "      <th>ESTUDIOS</th>\n",
       "      <th>COMUNA</th>\n",
       "      <th>PROVINCIA</th>\n",
       "      <th>REGION</th>\n",
       "      <th>TIT_DEP</th>\n",
       "      <th>AÑO</th>\n",
       "      <th>BENEFICIO</th>\n",
       "    </tr>\n",
       "  </thead>\n",
       "  <tbody>\n",
       "    <tr>\n",
       "      <th>0</th>\n",
       "      <td>masculino</td>\n",
       "      <td>1985-08-01</td>\n",
       "      <td>EMPLEADO</td>\n",
       "      <td>MENSAJERO</td>\n",
       "      <td>PERÚ</td>\n",
       "      <td>NO INFORMA</td>\n",
       "      <td>RECOLETA</td>\n",
       "      <td>SANTIAGO</td>\n",
       "      <td>REGION METROPOLITANA DE SANTIAGO</td>\n",
       "      <td>T</td>\n",
       "      <td>2018</td>\n",
       "      <td>OTORGA PERMANENCIA DEFINITIVA</td>\n",
       "    </tr>\n",
       "    <tr>\n",
       "      <th>1</th>\n",
       "      <td>masculino</td>\n",
       "      <td>2001-11-01</td>\n",
       "      <td>ESTUDIANTE</td>\n",
       "      <td>ESTUDIANTE</td>\n",
       "      <td>COLOMBIA</td>\n",
       "      <td>BASICO</td>\n",
       "      <td>INDEPENDENCIA</td>\n",
       "      <td>SANTIAGO</td>\n",
       "      <td>REGION METROPOLITANA DE SANTIAGO</td>\n",
       "      <td>D</td>\n",
       "      <td>2018</td>\n",
       "      <td>OTORGA PERMANENCIA DEFINITIVA</td>\n",
       "    </tr>\n",
       "  </tbody>\n",
       "</table>\n",
       "</div>"
      ],
      "text/plain": [
       "        SEXO   FECH-NAC   ACTIVIDAD   PROFESION      PAIS    ESTUDIOS  \\\n",
       "0  masculino 1985-08-01    EMPLEADO   MENSAJERO      PERÚ  NO INFORMA   \n",
       "1  masculino 2001-11-01  ESTUDIANTE  ESTUDIANTE  COLOMBIA      BASICO   \n",
       "\n",
       "          COMUNA PROVINCIA                            REGION TIT_DEP   AÑO  \\\n",
       "0       RECOLETA  SANTIAGO  REGION METROPOLITANA DE SANTIAGO       T  2018   \n",
       "1  INDEPENDENCIA  SANTIAGO  REGION METROPOLITANA DE SANTIAGO       D  2018   \n",
       "\n",
       "                       BENEFICIO  \n",
       "0  OTORGA PERMANENCIA DEFINITIVA  \n",
       "1  OTORGA PERMANENCIA DEFINITIVA  "
      ]
     },
     "execution_count": 9,
     "metadata": {},
     "output_type": "execute_result"
    }
   ],
   "source": [
    "df3.head(2)"
   ]
  },
  {
   "cell_type": "code",
   "execution_count": 10,
   "metadata": {
    "colab": {},
    "colab_type": "code",
    "id": "lOaTPEgSvim7"
   },
   "outputs": [
    {
     "data": {
      "text/plain": [
       "(267596, 12)"
      ]
     },
     "execution_count": 10,
     "metadata": {},
     "output_type": "execute_result"
    }
   ],
   "source": [
    "df4 = pd.read_excel('./data/Visas-2017.xlsx')\n",
    "df4.shape"
   ]
  },
  {
   "cell_type": "code",
   "execution_count": 11,
   "metadata": {},
   "outputs": [
    {
     "data": {
      "text/html": [
       "<div>\n",
       "<style scoped>\n",
       "    .dataframe tbody tr th:only-of-type {\n",
       "        vertical-align: middle;\n",
       "    }\n",
       "\n",
       "    .dataframe tbody tr th {\n",
       "        vertical-align: top;\n",
       "    }\n",
       "\n",
       "    .dataframe thead th {\n",
       "        text-align: right;\n",
       "    }\n",
       "</style>\n",
       "<table border=\"1\" class=\"dataframe\">\n",
       "  <thead>\n",
       "    <tr style=\"text-align: right;\">\n",
       "      <th></th>\n",
       "      <th>SEXO</th>\n",
       "      <th>FECH-NAC</th>\n",
       "      <th>ACTIVIDAD</th>\n",
       "      <th>PROFESION</th>\n",
       "      <th>PAIS</th>\n",
       "      <th>ESTUDIOS</th>\n",
       "      <th>COMUNA</th>\n",
       "      <th>PROVINCIA</th>\n",
       "      <th>REGION</th>\n",
       "      <th>TIT_DEP</th>\n",
       "      <th>AÑO</th>\n",
       "      <th>BENEFICIO RESUMIDO</th>\n",
       "    </tr>\n",
       "  </thead>\n",
       "  <tbody>\n",
       "    <tr>\n",
       "      <th>0</th>\n",
       "      <td>masculino</td>\n",
       "      <td>1962-01-24</td>\n",
       "      <td>OTRAS ACTIVIDADES</td>\n",
       "      <td>GEOFISICO</td>\n",
       "      <td>ESTADOS UNIDOS</td>\n",
       "      <td>UNIVERSITARIO</td>\n",
       "      <td>SANTIAGO</td>\n",
       "      <td>SANTIAGO</td>\n",
       "      <td>METROPOLITANA</td>\n",
       "      <td>T</td>\n",
       "      <td>2017</td>\n",
       "      <td>TEMPORARIA</td>\n",
       "    </tr>\n",
       "    <tr>\n",
       "      <th>1</th>\n",
       "      <td>masculino</td>\n",
       "      <td>1973-01-04</td>\n",
       "      <td>EMPLEADO</td>\n",
       "      <td>INGENIERO</td>\n",
       "      <td>BOLIVIA</td>\n",
       "      <td>NO INFORMA</td>\n",
       "      <td>LAS CONDES</td>\n",
       "      <td>SANTIAGO</td>\n",
       "      <td>METROPOLITANA</td>\n",
       "      <td>T</td>\n",
       "      <td>2017</td>\n",
       "      <td>TEMPORARIA</td>\n",
       "    </tr>\n",
       "  </tbody>\n",
       "</table>\n",
       "</div>"
      ],
      "text/plain": [
       "        SEXO   FECH-NAC          ACTIVIDAD  PROFESION            PAIS  \\\n",
       "0  masculino 1962-01-24  OTRAS ACTIVIDADES  GEOFISICO  ESTADOS UNIDOS   \n",
       "1  masculino 1973-01-04           EMPLEADO  INGENIERO         BOLIVIA   \n",
       "\n",
       "        ESTUDIOS      COMUNA PROVINCIA         REGION TIT_DEP   AÑO  \\\n",
       "0  UNIVERSITARIO    SANTIAGO  SANTIAGO  METROPOLITANA       T  2017   \n",
       "1     NO INFORMA  LAS CONDES  SANTIAGO  METROPOLITANA       T  2017   \n",
       "\n",
       "  BENEFICIO RESUMIDO  \n",
       "0         TEMPORARIA  \n",
       "1         TEMPORARIA  "
      ]
     },
     "execution_count": 11,
     "metadata": {},
     "output_type": "execute_result"
    }
   ],
   "source": [
    "df4.head(2)"
   ]
  },
  {
   "cell_type": "code",
   "execution_count": 12,
   "metadata": {
    "colab": {},
    "colab_type": "code",
    "id": "lOaTPEgSvim7"
   },
   "outputs": [
    {
     "data": {
      "text/plain": [
       "(188638, 12)"
      ]
     },
     "execution_count": 12,
     "metadata": {},
     "output_type": "execute_result"
    }
   ],
   "source": [
    "df5 = pd.read_excel('./data/Visas-2018_1.xlsx', sheet_name=1)\n",
    "df5.shape"
   ]
  },
  {
   "cell_type": "code",
   "execution_count": 13,
   "metadata": {},
   "outputs": [
    {
     "data": {
      "text/html": [
       "<div>\n",
       "<style scoped>\n",
       "    .dataframe tbody tr th:only-of-type {\n",
       "        vertical-align: middle;\n",
       "    }\n",
       "\n",
       "    .dataframe tbody tr th {\n",
       "        vertical-align: top;\n",
       "    }\n",
       "\n",
       "    .dataframe thead th {\n",
       "        text-align: right;\n",
       "    }\n",
       "</style>\n",
       "<table border=\"1\" class=\"dataframe\">\n",
       "  <thead>\n",
       "    <tr style=\"text-align: right;\">\n",
       "      <th></th>\n",
       "      <th>SEXO</th>\n",
       "      <th>FECH-NAC</th>\n",
       "      <th>ACTIVIDAD</th>\n",
       "      <th>PROFESION</th>\n",
       "      <th>PAIS</th>\n",
       "      <th>ESTUDIOS</th>\n",
       "      <th>COMUNA</th>\n",
       "      <th>PROVINCIA</th>\n",
       "      <th>REGION</th>\n",
       "      <th>TIT_DEP</th>\n",
       "      <th>AÑO</th>\n",
       "      <th>BENEFICIO RESUMIDO</th>\n",
       "    </tr>\n",
       "  </thead>\n",
       "  <tbody>\n",
       "    <tr>\n",
       "      <th>0</th>\n",
       "      <td>masculino</td>\n",
       "      <td>1993-02-10</td>\n",
       "      <td>INACTIVO</td>\n",
       "      <td>EMPLEADO</td>\n",
       "      <td>ARGENTINA</td>\n",
       "      <td>UNIVERSITARIO</td>\n",
       "      <td>PUCON</td>\n",
       "      <td>CAUTÍN</td>\n",
       "      <td>REGION DE LA ARAUCANIA</td>\n",
       "      <td>T</td>\n",
       "      <td>2018</td>\n",
       "      <td>TEMPORARIA</td>\n",
       "    </tr>\n",
       "    <tr>\n",
       "      <th>1</th>\n",
       "      <td>femenino</td>\n",
       "      <td>1976-01-20</td>\n",
       "      <td>DUEÑA DE CASA</td>\n",
       "      <td>DUEÑA DE CASA</td>\n",
       "      <td>ARGENTINA</td>\n",
       "      <td>no indica</td>\n",
       "      <td>VALDIVIA</td>\n",
       "      <td>VALDIVIA</td>\n",
       "      <td>REGION DE LOS RIOS</td>\n",
       "      <td>T</td>\n",
       "      <td>2018</td>\n",
       "      <td>TEMPORARIA</td>\n",
       "    </tr>\n",
       "  </tbody>\n",
       "</table>\n",
       "</div>"
      ],
      "text/plain": [
       "        SEXO   FECH-NAC      ACTIVIDAD      PROFESION       PAIS  \\\n",
       "0  masculino 1993-02-10       INACTIVO       EMPLEADO  ARGENTINA   \n",
       "1   femenino 1976-01-20  DUEÑA DE CASA  DUEÑA DE CASA  ARGENTINA   \n",
       "\n",
       "        ESTUDIOS    COMUNA PROVINCIA                  REGION TIT_DEP   AÑO  \\\n",
       "0  UNIVERSITARIO     PUCON    CAUTÍN  REGION DE LA ARAUCANIA       T  2018   \n",
       "1      no indica  VALDIVIA  VALDIVIA      REGION DE LOS RIOS       T  2018   \n",
       "\n",
       "  BENEFICIO RESUMIDO  \n",
       "0         TEMPORARIA  \n",
       "1         TEMPORARIA  "
      ]
     },
     "execution_count": 13,
     "metadata": {},
     "output_type": "execute_result"
    }
   ],
   "source": [
    "df5.head(2)"
   ]
  },
  {
   "cell_type": "markdown",
   "metadata": {},
   "source": [
    "Se observa que todos los datasets tienen las mismas columnas, excepto por nombres de la columnas \"FECH-NAC\" y 'BENEFICIO RESUMIDO', las cuales tienen que ser cambiadas. "
   ]
  },
  {
   "cell_type": "code",
   "execution_count": 14,
   "metadata": {},
   "outputs": [],
   "source": [
    "df3.rename(columns = {'FECH-NAC': 'NACIMIENTO'}, inplace=True)\n",
    "df4.rename(columns = {'FECH-NAC': 'NACIMIENTO'}, inplace=True)\n",
    "df5.rename(columns = {'FECH-NAC': 'NACIMIENTO'}, inplace=True)\n",
    "df4.rename(columns = {'BENEFICIO RESUMIDO': 'BENEFICIO'}, inplace=True)\n",
    "df5.rename(columns = {'BENEFICIO RESUMIDO': 'BENEFICIO'}, inplace=True)"
   ]
  },
  {
   "cell_type": "markdown",
   "metadata": {},
   "source": [
    "Concatenar los datasets en un unico dataset"
   ]
  },
  {
   "cell_type": "code",
   "execution_count": 15,
   "metadata": {},
   "outputs": [
    {
     "data": {
      "text/plain": [
       "(412689, 12)"
      ]
     },
     "execution_count": 15,
     "metadata": {},
     "output_type": "execute_result"
    }
   ],
   "source": [
    "df = pd.concat([df1, df2])\n",
    "df.shape"
   ]
  },
  {
   "cell_type": "code",
   "execution_count": 16,
   "metadata": {},
   "outputs": [
    {
     "data": {
      "text/plain": [
       "(460897, 12)"
      ]
     },
     "execution_count": 16,
     "metadata": {},
     "output_type": "execute_result"
    }
   ],
   "source": [
    "df = pd.concat([df, df3])\n",
    "df.shape"
   ]
  },
  {
   "cell_type": "code",
   "execution_count": 17,
   "metadata": {},
   "outputs": [
    {
     "data": {
      "text/plain": [
       "(728493, 12)"
      ]
     },
     "execution_count": 17,
     "metadata": {},
     "output_type": "execute_result"
    }
   ],
   "source": [
    "df = pd.concat([df, df4])\n",
    "df.shape"
   ]
  },
  {
   "cell_type": "code",
   "execution_count": 18,
   "metadata": {},
   "outputs": [
    {
     "data": {
      "text/plain": [
       "(917131, 12)"
      ]
     },
     "execution_count": 18,
     "metadata": {},
     "output_type": "execute_result"
    }
   ],
   "source": [
    "df = pd.concat([df, df5])\n",
    "df.shape"
   ]
  },
  {
   "cell_type": "markdown",
   "metadata": {
    "colab_type": "text",
    "id": "RQ1QqrNKvim9"
   },
   "source": [
    "## 2. Limpiar el dataset"
   ]
  },
  {
   "cell_type": "code",
   "execution_count": 19,
   "metadata": {
    "colab": {},
    "colab_type": "code",
    "id": "Bl_QWKyXvim9"
   },
   "outputs": [
    {
     "data": {
      "text/html": [
       "<div>\n",
       "<style scoped>\n",
       "    .dataframe tbody tr th:only-of-type {\n",
       "        vertical-align: middle;\n",
       "    }\n",
       "\n",
       "    .dataframe tbody tr th {\n",
       "        vertical-align: top;\n",
       "    }\n",
       "\n",
       "    .dataframe thead th {\n",
       "        text-align: right;\n",
       "    }\n",
       "</style>\n",
       "<table border=\"1\" class=\"dataframe\">\n",
       "  <thead>\n",
       "    <tr style=\"text-align: right;\">\n",
       "      <th></th>\n",
       "      <th>SEXO</th>\n",
       "      <th>NACIMIENTO</th>\n",
       "      <th>ACTIVIDAD</th>\n",
       "      <th>PROFESION</th>\n",
       "      <th>PAIS</th>\n",
       "      <th>ESTUDIOS</th>\n",
       "      <th>COMUNA</th>\n",
       "      <th>PROVINCIA</th>\n",
       "      <th>REGION</th>\n",
       "      <th>TIT_DEP</th>\n",
       "      <th>AÑO</th>\n",
       "      <th>BENEFICIO</th>\n",
       "    </tr>\n",
       "  </thead>\n",
       "  <tbody>\n",
       "    <tr>\n",
       "      <th>0</th>\n",
       "      <td>Femenino</td>\n",
       "      <td>1974-10-05</td>\n",
       "      <td>EMPLEADO</td>\n",
       "      <td>MATRONA</td>\n",
       "      <td>PERÚ</td>\n",
       "      <td>no indica</td>\n",
       "      <td>SANTIAGO</td>\n",
       "      <td>SANTIAGO</td>\n",
       "      <td>METROPOLITANA</td>\n",
       "      <td>T</td>\n",
       "      <td>2006</td>\n",
       "      <td>PERMANENCIA DEFINITIVA</td>\n",
       "    </tr>\n",
       "    <tr>\n",
       "      <th>1</th>\n",
       "      <td>Masculino</td>\n",
       "      <td>1949-09-13</td>\n",
       "      <td>EMPLEADO</td>\n",
       "      <td>INGENIERO</td>\n",
       "      <td>ECUADOR</td>\n",
       "      <td>no indica</td>\n",
       "      <td>PROVIDENCIA</td>\n",
       "      <td>SANTIAGO</td>\n",
       "      <td>METROPOLITANA</td>\n",
       "      <td>T</td>\n",
       "      <td>2007</td>\n",
       "      <td>PERMANENCIA DEFINITIVA</td>\n",
       "    </tr>\n",
       "    <tr>\n",
       "      <th>2</th>\n",
       "      <td>Femenino</td>\n",
       "      <td>1949-12-07</td>\n",
       "      <td>EMPLEADO</td>\n",
       "      <td>ASESORA DEL HOGAR</td>\n",
       "      <td>BOLIVIA</td>\n",
       "      <td>BASICO</td>\n",
       "      <td>ARICA</td>\n",
       "      <td>ARICA</td>\n",
       "      <td>ARICA Y PARINACOTA</td>\n",
       "      <td>T</td>\n",
       "      <td>2007</td>\n",
       "      <td>PERMANENCIA DEFINITIVA</td>\n",
       "    </tr>\n",
       "    <tr>\n",
       "      <th>3</th>\n",
       "      <td>Femenino</td>\n",
       "      <td>1966-09-20</td>\n",
       "      <td>DUEÑA DE CASA</td>\n",
       "      <td>DUEÑA DE CASA</td>\n",
       "      <td>BOLIVIA</td>\n",
       "      <td>MEDIO</td>\n",
       "      <td>ARICA</td>\n",
       "      <td>ARICA</td>\n",
       "      <td>ARICA Y PARINACOTA</td>\n",
       "      <td>T</td>\n",
       "      <td>2006</td>\n",
       "      <td>PERMANENCIA DEFINITIVA</td>\n",
       "    </tr>\n",
       "    <tr>\n",
       "      <th>4</th>\n",
       "      <td>Masculino</td>\n",
       "      <td>1981-08-15</td>\n",
       "      <td>EMPRESARIO O PATRON</td>\n",
       "      <td>COMERCIANTE</td>\n",
       "      <td>BRASIL</td>\n",
       "      <td>no indica</td>\n",
       "      <td>LAS CONDES</td>\n",
       "      <td>SANTIAGO</td>\n",
       "      <td>METROPOLITANA</td>\n",
       "      <td>T</td>\n",
       "      <td>2008</td>\n",
       "      <td>PERMANENCIA DEFINITIVA</td>\n",
       "    </tr>\n",
       "  </tbody>\n",
       "</table>\n",
       "</div>"
      ],
      "text/plain": [
       "        SEXO NACIMIENTO            ACTIVIDAD          PROFESION     PAIS  \\\n",
       "0   Femenino 1974-10-05             EMPLEADO            MATRONA     PERÚ   \n",
       "1  Masculino 1949-09-13             EMPLEADO          INGENIERO  ECUADOR   \n",
       "2   Femenino 1949-12-07             EMPLEADO  ASESORA DEL HOGAR  BOLIVIA   \n",
       "3   Femenino 1966-09-20        DUEÑA DE CASA      DUEÑA DE CASA  BOLIVIA   \n",
       "4  Masculino 1981-08-15  EMPRESARIO O PATRON        COMERCIANTE   BRASIL   \n",
       "\n",
       "    ESTUDIOS       COMUNA PROVINCIA              REGION TIT_DEP   AÑO  \\\n",
       "0  no indica     SANTIAGO  SANTIAGO       METROPOLITANA       T  2006   \n",
       "1  no indica  PROVIDENCIA  SANTIAGO       METROPOLITANA       T  2007   \n",
       "2     BASICO        ARICA     ARICA  ARICA Y PARINACOTA       T  2007   \n",
       "3      MEDIO        ARICA     ARICA  ARICA Y PARINACOTA       T  2006   \n",
       "4  no indica   LAS CONDES  SANTIAGO       METROPOLITANA       T  2008   \n",
       "\n",
       "                BENEFICIO  \n",
       "0  PERMANENCIA DEFINITIVA  \n",
       "1  PERMANENCIA DEFINITIVA  \n",
       "2  PERMANENCIA DEFINITIVA  \n",
       "3  PERMANENCIA DEFINITIVA  \n",
       "4  PERMANENCIA DEFINITIVA  "
      ]
     },
     "execution_count": 19,
     "metadata": {},
     "output_type": "execute_result"
    }
   ],
   "source": [
    "df.head() "
   ]
  },
  {
   "cell_type": "code",
   "execution_count": 20,
   "metadata": {
    "colab": {},
    "colab_type": "code",
    "id": "yClOyaHTvinA"
   },
   "outputs": [
    {
     "data": {
      "text/html": [
       "<div>\n",
       "<style scoped>\n",
       "    .dataframe tbody tr th:only-of-type {\n",
       "        vertical-align: middle;\n",
       "    }\n",
       "\n",
       "    .dataframe tbody tr th {\n",
       "        vertical-align: top;\n",
       "    }\n",
       "\n",
       "    .dataframe thead th {\n",
       "        text-align: right;\n",
       "    }\n",
       "</style>\n",
       "<table border=\"1\" class=\"dataframe\">\n",
       "  <thead>\n",
       "    <tr style=\"text-align: right;\">\n",
       "      <th></th>\n",
       "      <th>SEXO</th>\n",
       "      <th>NACIMIENTO</th>\n",
       "      <th>ACTIVIDAD</th>\n",
       "      <th>PROFESION</th>\n",
       "      <th>PAIS</th>\n",
       "      <th>ESTUDIOS</th>\n",
       "      <th>COMUNA</th>\n",
       "      <th>PROVINCIA</th>\n",
       "      <th>REGION</th>\n",
       "      <th>TIT_DEP</th>\n",
       "      <th>AÑO</th>\n",
       "      <th>BENEFICIO</th>\n",
       "    </tr>\n",
       "  </thead>\n",
       "  <tbody>\n",
       "    <tr>\n",
       "      <th>188633</th>\n",
       "      <td>masculino</td>\n",
       "      <td>1952-01-20</td>\n",
       "      <td>EMPRESARIO O PATRON</td>\n",
       "      <td>EMPRESARIO O PATRON</td>\n",
       "      <td>ARGENTINA</td>\n",
       "      <td>MEDIO</td>\n",
       "      <td>SAN ESTEBAN</td>\n",
       "      <td>LOS ANDES</td>\n",
       "      <td>REGION DE VALPARAISO</td>\n",
       "      <td>T</td>\n",
       "      <td>2018</td>\n",
       "      <td>TEMPORARIA</td>\n",
       "    </tr>\n",
       "    <tr>\n",
       "      <th>188634</th>\n",
       "      <td>masculino</td>\n",
       "      <td>1974-10-10</td>\n",
       "      <td>EMPLEADO</td>\n",
       "      <td>CHOFER</td>\n",
       "      <td>ARGENTINA</td>\n",
       "      <td>BASICO</td>\n",
       "      <td>LOS ANDES</td>\n",
       "      <td>LOS ANDES</td>\n",
       "      <td>REGION DE VALPARAISO</td>\n",
       "      <td>T</td>\n",
       "      <td>2018</td>\n",
       "      <td>TEMPORARIA</td>\n",
       "    </tr>\n",
       "    <tr>\n",
       "      <th>188635</th>\n",
       "      <td>masculino</td>\n",
       "      <td>1985-05-03</td>\n",
       "      <td>EMPLEADO</td>\n",
       "      <td>EMPLEADO</td>\n",
       "      <td>BRASIL</td>\n",
       "      <td>MEDIO</td>\n",
       "      <td>LOS ANDES</td>\n",
       "      <td>LOS ANDES</td>\n",
       "      <td>REGION DE VALPARAISO</td>\n",
       "      <td>T</td>\n",
       "      <td>2018</td>\n",
       "      <td>TEMPORARIA</td>\n",
       "    </tr>\n",
       "    <tr>\n",
       "      <th>188636</th>\n",
       "      <td>masculino</td>\n",
       "      <td>2006-05-01</td>\n",
       "      <td>ESTUDIANTE</td>\n",
       "      <td>ESTUDIANTE</td>\n",
       "      <td>ARGENTINA</td>\n",
       "      <td>BASICO</td>\n",
       "      <td>CALLE LARGA</td>\n",
       "      <td>LOS ANDES</td>\n",
       "      <td>REGION DE VALPARAISO</td>\n",
       "      <td>D</td>\n",
       "      <td>2018</td>\n",
       "      <td>TEMPORARIA</td>\n",
       "    </tr>\n",
       "    <tr>\n",
       "      <th>188637</th>\n",
       "      <td>masculino</td>\n",
       "      <td>2009-06-17</td>\n",
       "      <td>ESTUDIANTE</td>\n",
       "      <td>ESTUDIANTE</td>\n",
       "      <td>ARGENTINA</td>\n",
       "      <td>BASICO</td>\n",
       "      <td>CALLE LARGA</td>\n",
       "      <td>LOS ANDES</td>\n",
       "      <td>REGION DE VALPARAISO</td>\n",
       "      <td>D</td>\n",
       "      <td>2018</td>\n",
       "      <td>TEMPORARIA</td>\n",
       "    </tr>\n",
       "  </tbody>\n",
       "</table>\n",
       "</div>"
      ],
      "text/plain": [
       "             SEXO NACIMIENTO            ACTIVIDAD            PROFESION  \\\n",
       "188633  masculino 1952-01-20  EMPRESARIO O PATRON  EMPRESARIO O PATRON   \n",
       "188634  masculino 1974-10-10             EMPLEADO               CHOFER   \n",
       "188635  masculino 1985-05-03             EMPLEADO             EMPLEADO   \n",
       "188636  masculino 2006-05-01           ESTUDIANTE           ESTUDIANTE   \n",
       "188637  masculino 2009-06-17           ESTUDIANTE           ESTUDIANTE   \n",
       "\n",
       "             PAIS ESTUDIOS       COMUNA  PROVINCIA                REGION  \\\n",
       "188633  ARGENTINA    MEDIO  SAN ESTEBAN  LOS ANDES  REGION DE VALPARAISO   \n",
       "188634  ARGENTINA   BASICO    LOS ANDES  LOS ANDES  REGION DE VALPARAISO   \n",
       "188635     BRASIL    MEDIO    LOS ANDES  LOS ANDES  REGION DE VALPARAISO   \n",
       "188636  ARGENTINA   BASICO  CALLE LARGA  LOS ANDES  REGION DE VALPARAISO   \n",
       "188637  ARGENTINA   BASICO  CALLE LARGA  LOS ANDES  REGION DE VALPARAISO   \n",
       "\n",
       "       TIT_DEP   AÑO   BENEFICIO  \n",
       "188633       T  2018  TEMPORARIA  \n",
       "188634       T  2018  TEMPORARIA  \n",
       "188635       T  2018  TEMPORARIA  \n",
       "188636       D  2018  TEMPORARIA  \n",
       "188637       D  2018  TEMPORARIA  "
      ]
     },
     "execution_count": 20,
     "metadata": {},
     "output_type": "execute_result"
    }
   ],
   "source": [
    "df.tail()"
   ]
  },
  {
   "cell_type": "code",
   "execution_count": 21,
   "metadata": {},
   "outputs": [],
   "source": [
    "df.rename(columns = {'AÑO': 'ANIO'}, inplace=True)"
   ]
  },
  {
   "cell_type": "code",
   "execution_count": 22,
   "metadata": {
    "scrolled": true
   },
   "outputs": [
    {
     "name": "stdout",
     "output_type": "stream",
     "text": [
      "<class 'pandas.core.frame.DataFrame'>\n",
      "Int64Index: 917131 entries, 0 to 188637\n",
      "Data columns (total 12 columns):\n",
      "SEXO          917131 non-null object\n",
      "NACIMIENTO    917130 non-null datetime64[ns]\n",
      "ACTIVIDAD     917131 non-null object\n",
      "PROFESION     917131 non-null object\n",
      "PAIS          917131 non-null object\n",
      "ESTUDIOS      917131 non-null object\n",
      "COMUNA        917131 non-null object\n",
      "PROVINCIA     917131 non-null object\n",
      "REGION        917131 non-null object\n",
      "TIT_DEP       915476 non-null object\n",
      "ANIO          917131 non-null int64\n",
      "BENEFICIO     917131 non-null object\n",
      "dtypes: datetime64[ns](1), int64(1), object(10)\n",
      "memory usage: 91.0+ MB\n"
     ]
    }
   ],
   "source": [
    "df.info()"
   ]
  },
  {
   "cell_type": "markdown",
   "metadata": {
    "colab_type": "text",
    "id": "-rqseUlYvinG"
   },
   "source": [
    "El dataset tiene 917.131 observaciones y 12 caracterísiticas. \n",
    "- TIT_DEP tiene menos datos que los demas\n",
    "- NACIMIENTO posue un registro sin dato"
   ]
  },
  {
   "cell_type": "code",
   "execution_count": 23,
   "metadata": {},
   "outputs": [
    {
     "data": {
      "text/plain": [
       "T    809661\n",
       "D    105815\n",
       "Name: TIT_DEP, dtype: int64"
      ]
     },
     "execution_count": 23,
     "metadata": {},
     "output_type": "execute_result"
    }
   ],
   "source": [
    "df.TIT_DEP.value_counts()"
   ]
  },
  {
   "cell_type": "code",
   "execution_count": 24,
   "metadata": {},
   "outputs": [
    {
     "data": {
      "text/plain": [
       "count     915476\n",
       "unique         2\n",
       "top            T\n",
       "freq      809661\n",
       "Name: TIT_DEP, dtype: object"
      ]
     },
     "execution_count": 24,
     "metadata": {},
     "output_type": "execute_result"
    }
   ],
   "source": [
    "df.TIT_DEP.describe()"
   ]
  },
  {
   "cell_type": "code",
   "execution_count": 25,
   "metadata": {},
   "outputs": [
    {
     "data": {
      "text/plain": [
       "1655"
      ]
     },
     "execution_count": 25,
     "metadata": {},
     "output_type": "execute_result"
    }
   ],
   "source": [
    "df.TIT_DEP.isnull().sum()"
   ]
  },
  {
   "cell_type": "markdown",
   "metadata": {},
   "source": [
    "Hay 1655 lineas que no especifican si es titular o dependente. Por ahora, consideremos D"
   ]
  },
  {
   "cell_type": "code",
   "execution_count": 26,
   "metadata": {},
   "outputs": [
    {
     "data": {
      "text/html": [
       "<div>\n",
       "<style scoped>\n",
       "    .dataframe tbody tr th:only-of-type {\n",
       "        vertical-align: middle;\n",
       "    }\n",
       "\n",
       "    .dataframe tbody tr th {\n",
       "        vertical-align: top;\n",
       "    }\n",
       "\n",
       "    .dataframe thead th {\n",
       "        text-align: right;\n",
       "    }\n",
       "</style>\n",
       "<table border=\"1\" class=\"dataframe\">\n",
       "  <thead>\n",
       "    <tr style=\"text-align: right;\">\n",
       "      <th></th>\n",
       "      <th>SEXO</th>\n",
       "      <th>NACIMIENTO</th>\n",
       "      <th>ACTIVIDAD</th>\n",
       "      <th>PROFESION</th>\n",
       "      <th>PAIS</th>\n",
       "      <th>ESTUDIOS</th>\n",
       "      <th>COMUNA</th>\n",
       "      <th>PROVINCIA</th>\n",
       "      <th>REGION</th>\n",
       "      <th>TIT_DEP</th>\n",
       "      <th>ANIO</th>\n",
       "      <th>BENEFICIO</th>\n",
       "    </tr>\n",
       "  </thead>\n",
       "  <tbody>\n",
       "    <tr>\n",
       "      <th>29196</th>\n",
       "      <td>Femenino</td>\n",
       "      <td>1999-12-28</td>\n",
       "      <td>INACTIVO</td>\n",
       "      <td>MENOR DE EDAD</td>\n",
       "      <td>ECUADOR</td>\n",
       "      <td>no indica</td>\n",
       "      <td>CHILLAN</td>\n",
       "      <td>ÑUBLE</td>\n",
       "      <td>BIOBIO</td>\n",
       "      <td>NaN</td>\n",
       "      <td>2005</td>\n",
       "      <td>PERMANENCIA DEFINITIVA</td>\n",
       "    </tr>\n",
       "    <tr>\n",
       "      <th>152326</th>\n",
       "      <td>masculino</td>\n",
       "      <td>2016-03-30</td>\n",
       "      <td>ESTUDIANTE</td>\n",
       "      <td>ESTUDIANTE</td>\n",
       "      <td>BOLIVIA</td>\n",
       "      <td>PREBASICO</td>\n",
       "      <td>CHILLAN VIEJO</td>\n",
       "      <td>ÑUBLE</td>\n",
       "      <td>REGION DEL BIOBIO</td>\n",
       "      <td>NaN</td>\n",
       "      <td>2018</td>\n",
       "      <td>TEMPORARIA</td>\n",
       "    </tr>\n",
       "    <tr>\n",
       "      <th>53168</th>\n",
       "      <td>Femenino</td>\n",
       "      <td>1978-10-31</td>\n",
       "      <td>DUEÑA DE CASA</td>\n",
       "      <td>DUEÑA DE CASA</td>\n",
       "      <td>BOLIVIA</td>\n",
       "      <td>no indica</td>\n",
       "      <td>CALAMA</td>\n",
       "      <td>EL LOA</td>\n",
       "      <td>ANTOFAGASTA</td>\n",
       "      <td>NaN</td>\n",
       "      <td>2006</td>\n",
       "      <td>PERMANENCIA DEFINITIVA</td>\n",
       "    </tr>\n",
       "    <tr>\n",
       "      <th>54441</th>\n",
       "      <td>Femenino</td>\n",
       "      <td>1990-09-15</td>\n",
       "      <td>ESTUDIANTE</td>\n",
       "      <td>ESTUDIANTE</td>\n",
       "      <td>ECUADOR</td>\n",
       "      <td>no indica</td>\n",
       "      <td>PEÑALOLEN</td>\n",
       "      <td>SANTIAGO</td>\n",
       "      <td>METROPOLITANA</td>\n",
       "      <td>NaN</td>\n",
       "      <td>2008</td>\n",
       "      <td>PERMANENCIA DEFINITIVA</td>\n",
       "    </tr>\n",
       "    <tr>\n",
       "      <th>29398</th>\n",
       "      <td>Femenino</td>\n",
       "      <td>1981-04-21</td>\n",
       "      <td>DUEÑA DE CASA</td>\n",
       "      <td>DUEÑA DE CASA</td>\n",
       "      <td>ARGENTINA</td>\n",
       "      <td>no indica</td>\n",
       "      <td>CALERA</td>\n",
       "      <td>QUILLOTA</td>\n",
       "      <td>VALPARAISO</td>\n",
       "      <td>NaN</td>\n",
       "      <td>2005</td>\n",
       "      <td>PERMANENCIA DEFINITIVA</td>\n",
       "    </tr>\n",
       "  </tbody>\n",
       "</table>\n",
       "</div>"
      ],
      "text/plain": [
       "             SEXO NACIMIENTO      ACTIVIDAD      PROFESION       PAIS  \\\n",
       "29196    Femenino 1999-12-28       INACTIVO  MENOR DE EDAD    ECUADOR   \n",
       "152326  masculino 2016-03-30     ESTUDIANTE     ESTUDIANTE    BOLIVIA   \n",
       "53168    Femenino 1978-10-31  DUEÑA DE CASA  DUEÑA DE CASA    BOLIVIA   \n",
       "54441    Femenino 1990-09-15     ESTUDIANTE     ESTUDIANTE    ECUADOR   \n",
       "29398    Femenino 1981-04-21  DUEÑA DE CASA  DUEÑA DE CASA  ARGENTINA   \n",
       "\n",
       "         ESTUDIOS         COMUNA PROVINCIA             REGION TIT_DEP  ANIO  \\\n",
       "29196   no indica        CHILLAN     ÑUBLE             BIOBIO     NaN  2005   \n",
       "152326  PREBASICO  CHILLAN VIEJO     ÑUBLE  REGION DEL BIOBIO     NaN  2018   \n",
       "53168   no indica         CALAMA    EL LOA        ANTOFAGASTA     NaN  2006   \n",
       "54441   no indica      PEÑALOLEN  SANTIAGO      METROPOLITANA     NaN  2008   \n",
       "29398   no indica         CALERA  QUILLOTA         VALPARAISO     NaN  2005   \n",
       "\n",
       "                     BENEFICIO  \n",
       "29196   PERMANENCIA DEFINITIVA  \n",
       "152326              TEMPORARIA  \n",
       "53168   PERMANENCIA DEFINITIVA  \n",
       "54441   PERMANENCIA DEFINITIVA  \n",
       "29398   PERMANENCIA DEFINITIVA  "
      ]
     },
     "execution_count": 26,
     "metadata": {},
     "output_type": "execute_result"
    }
   ],
   "source": [
    "df[df.TIT_DEP.isnull()].sample(5)"
   ]
  },
  {
   "cell_type": "code",
   "execution_count": 27,
   "metadata": {},
   "outputs": [],
   "source": [
    "df.TIT_DEP.fillna('D', inplace=True)"
   ]
  },
  {
   "cell_type": "code",
   "execution_count": 28,
   "metadata": {},
   "outputs": [
    {
     "data": {
      "text/plain": [
       "917131"
      ]
     },
     "execution_count": 28,
     "metadata": {},
     "output_type": "execute_result"
    }
   ],
   "source": [
    "len(df.TIT_DEP)"
   ]
  },
  {
   "cell_type": "code",
   "execution_count": 29,
   "metadata": {},
   "outputs": [
    {
     "data": {
      "text/plain": [
       "1"
      ]
     },
     "execution_count": 29,
     "metadata": {},
     "output_type": "execute_result"
    }
   ],
   "source": [
    "df.NACIMIENTO.isnull().sum()"
   ]
  },
  {
   "cell_type": "code",
   "execution_count": 30,
   "metadata": {},
   "outputs": [
    {
     "data": {
      "text/html": [
       "<div>\n",
       "<style scoped>\n",
       "    .dataframe tbody tr th:only-of-type {\n",
       "        vertical-align: middle;\n",
       "    }\n",
       "\n",
       "    .dataframe tbody tr th {\n",
       "        vertical-align: top;\n",
       "    }\n",
       "\n",
       "    .dataframe thead th {\n",
       "        text-align: right;\n",
       "    }\n",
       "</style>\n",
       "<table border=\"1\" class=\"dataframe\">\n",
       "  <thead>\n",
       "    <tr style=\"text-align: right;\">\n",
       "      <th></th>\n",
       "      <th>SEXO</th>\n",
       "      <th>NACIMIENTO</th>\n",
       "      <th>ACTIVIDAD</th>\n",
       "      <th>PROFESION</th>\n",
       "      <th>PAIS</th>\n",
       "      <th>ESTUDIOS</th>\n",
       "      <th>COMUNA</th>\n",
       "      <th>PROVINCIA</th>\n",
       "      <th>REGION</th>\n",
       "      <th>TIT_DEP</th>\n",
       "      <th>ANIO</th>\n",
       "      <th>BENEFICIO</th>\n",
       "    </tr>\n",
       "  </thead>\n",
       "  <tbody>\n",
       "    <tr>\n",
       "      <th>155441</th>\n",
       "      <td>Femenino</td>\n",
       "      <td>NaT</td>\n",
       "      <td>EMPLEADO</td>\n",
       "      <td>EMPLEADO</td>\n",
       "      <td>COLOMBIA</td>\n",
       "      <td>NO INFORMA</td>\n",
       "      <td>MACUL</td>\n",
       "      <td>SANTIAGO</td>\n",
       "      <td>METROPOLITANA</td>\n",
       "      <td>T</td>\n",
       "      <td>2010</td>\n",
       "      <td>PERMANENCIA DEFINITIVA</td>\n",
       "    </tr>\n",
       "  </tbody>\n",
       "</table>\n",
       "</div>"
      ],
      "text/plain": [
       "            SEXO NACIMIENTO ACTIVIDAD PROFESION      PAIS    ESTUDIOS COMUNA  \\\n",
       "155441  Femenino        NaT  EMPLEADO  EMPLEADO  COLOMBIA  NO INFORMA  MACUL   \n",
       "\n",
       "       PROVINCIA         REGION TIT_DEP  ANIO               BENEFICIO  \n",
       "155441  SANTIAGO  METROPOLITANA       T  2010  PERMANENCIA DEFINITIVA  "
      ]
     },
     "execution_count": 30,
     "metadata": {},
     "output_type": "execute_result"
    }
   ],
   "source": [
    "df[df.NACIMIENTO.isnull()]"
   ]
  },
  {
   "cell_type": "markdown",
   "metadata": {},
   "source": [
    "Hay 1 Titular del sexo feminino que no posue fecha de nacimiento"
   ]
  },
  {
   "cell_type": "code",
   "execution_count": 31,
   "metadata": {},
   "outputs": [
    {
     "data": {
      "text/plain": [
       "count    809660.000000\n",
       "mean       1982.863655\n",
       "std          11.941489\n",
       "min        1900.000000\n",
       "25%        1976.000000\n",
       "50%        1985.000000\n",
       "75%        1991.000000\n",
       "max        2018.000000\n",
       "Name: NACIMIENTO, dtype: float64"
      ]
     },
     "execution_count": 31,
     "metadata": {},
     "output_type": "execute_result"
    }
   ],
   "source": [
    "df[df.TIT_DEP == 'T'].NACIMIENTO.dt.year.describe()"
   ]
  },
  {
   "cell_type": "markdown",
   "metadata": {},
   "source": [
    "La mediana del año de necimiento es 1985. Usaremos una fecha de ncimiento de este año. "
   ]
  },
  {
   "cell_type": "code",
   "execution_count": 32,
   "metadata": {},
   "outputs": [],
   "source": [
    "df.NACIMIENTO.fillna('1985-01-01', inplace=True)"
   ]
  },
  {
   "cell_type": "code",
   "execution_count": 33,
   "metadata": {},
   "outputs": [],
   "source": [
    "df['NACIMIENTO'] = pd.to_datetime(df['NACIMIENTO'])"
   ]
  },
  {
   "cell_type": "code",
   "execution_count": 34,
   "metadata": {
    "colab": {},
    "colab_type": "code",
    "id": "i7vNyZXJvinH"
   },
   "outputs": [
    {
     "data": {
      "text/plain": [
       "masculino    324068\n",
       "femenino     268131\n",
       "Femenino     173110\n",
       "Masculino    151822\n",
       "Name: SEXO, dtype: int64"
      ]
     },
     "execution_count": 34,
     "metadata": {},
     "output_type": "execute_result"
    }
   ],
   "source": [
    "df.SEXO.value_counts()"
   ]
  },
  {
   "cell_type": "markdown",
   "metadata": {},
   "source": [
    "Se observa que hay informaciones en mayusculas y minusculas. Cambiemos todas las columnas del dataset con strings a minusculas y aprovechamos y veriquemos que no hay caracteres especiales"
   ]
  },
  {
   "cell_type": "code",
   "execution_count": 35,
   "metadata": {},
   "outputs": [],
   "source": [
    "def replaceCaracteres(text):\n",
    "    text = text.replace('á', 'a')\n",
    "    text = text.replace('é', 'e')\n",
    "    text = text.replace('í', 'i')\n",
    "    text = text.replace('ó', 'o')\n",
    "    text = text.replace('ú', 'u')\n",
    "    text = text.replace('ñ', 'n')\n",
    "    text = text.replace('ã', 'a')\n",
    "    return text"
   ]
  },
  {
   "cell_type": "code",
   "execution_count": 36,
   "metadata": {},
   "outputs": [],
   "source": [
    "def limpaTexto(text):\n",
    "    text = text.lower()\n",
    "    text = replaceCaracteres(text)\n",
    "    return text "
   ]
  },
  {
   "cell_type": "markdown",
   "metadata": {},
   "source": [
    "Testemos para la columna SEXO"
   ]
  },
  {
   "cell_type": "code",
   "execution_count": 37,
   "metadata": {},
   "outputs": [],
   "source": [
    "df['SEXO'] = df.SEXO.apply(limpaTexto)"
   ]
  },
  {
   "cell_type": "code",
   "execution_count": 38,
   "metadata": {},
   "outputs": [
    {
     "data": {
      "text/plain": [
       "masculino    475890\n",
       "femenino     441241\n",
       "Name: SEXO, dtype: int64"
      ]
     },
     "execution_count": 38,
     "metadata": {},
     "output_type": "execute_result"
    }
   ],
   "source": [
    "df.SEXO.value_counts()"
   ]
  },
  {
   "cell_type": "markdown",
   "metadata": {},
   "source": [
    "Limpiemos todas las columnas con strings"
   ]
  },
  {
   "cell_type": "code",
   "execution_count": 39,
   "metadata": {},
   "outputs": [],
   "source": [
    "df['ACTIVIDAD'] = df.ACTIVIDAD.apply(limpaTexto)\n",
    "df['PROFESION'] = df.PROFESION.apply(limpaTexto)\n",
    "df['PAIS'] = df.PAIS.apply(limpaTexto)\n",
    "df['ESTUDIOS'] = df.ESTUDIOS.apply(limpaTexto)\n",
    "df['COMUNA'] = df.COMUNA.apply(limpaTexto)\n",
    "df['PROVINCIA'] = df.PROVINCIA.apply(limpaTexto)\n",
    "df['REGION'] = df.REGION.apply(limpaTexto)\n",
    "df['TIT_DEP'] = df.TIT_DEP.apply(limpaTexto)\n",
    "df['BENEFICIO'] = df.BENEFICIO.apply(limpaTexto)"
   ]
  },
  {
   "cell_type": "code",
   "execution_count": 40,
   "metadata": {},
   "outputs": [
    {
     "data": {
      "text/plain": [
       "empleado                        518371\n",
       "estudiante                      114792\n",
       "empleado domestico               73514\n",
       "duena de casa                    52698\n",
       "obrero o jornalero               42566\n",
       "inactivo                         34856\n",
       "no informa                       21721\n",
       "otras actividades                20866\n",
       "trabajador por cuenta propia     15047\n",
       "empresario o patron              10082\n",
       "religioso                         7412\n",
       "jubilado o pensionado             3846\n",
       "rentista                           549\n",
       "tripulante                         539\n",
       "sin actividad                      272\n",
       "Name: ACTIVIDAD, dtype: int64"
      ]
     },
     "execution_count": 40,
     "metadata": {},
     "output_type": "execute_result"
    }
   ],
   "source": [
    "df.ACTIVIDAD.value_counts()"
   ]
  },
  {
   "cell_type": "code",
   "execution_count": 41,
   "metadata": {
    "scrolled": false
   },
   "outputs": [
    {
     "data": {
      "text/plain": [
       "empleado             139421\n",
       "estudiante            95464\n",
       "asesora del hogar     70933\n",
       "menor de edad         47331\n",
       "duena de casa         46299\n",
       "ayudante              27136\n",
       "vendedor              26851\n",
       "ingeniero             25164\n",
       "obrero                23442\n",
       "jornalero             22146\n",
       "aseador               14705\n",
       "no informa            13780\n",
       "tecnico               13252\n",
       "operario              12732\n",
       "auxiliar              12731\n",
       "garzon                12728\n",
       "licenciado            11226\n",
       "comerciante           10486\n",
       "cocinero               9327\n",
       "medico                 8178\n",
       "profesor               7851\n",
       "contador               7284\n",
       "asistente              7252\n",
       "agricultor             6793\n",
       "otras actividades      6715\n",
       "Name: PROFESION, dtype: int64"
      ]
     },
     "execution_count": 41,
     "metadata": {},
     "output_type": "execute_result"
    }
   ],
   "source": [
    "df.PROFESION.value_counts()[0:25]"
   ]
  },
  {
   "cell_type": "code",
   "execution_count": 42,
   "metadata": {},
   "outputs": [
    {
     "data": {
      "text/plain": [
       "metropolitana                                       443285\n",
       "region metropolitana de santiago                    145821\n",
       "antofagasta                                          72556\n",
       "tarapaca                                             38281\n",
       "valparaiso                                           30057\n",
       "region de valparaiso                                 18015\n",
       "region de antofagasta                                14714\n",
       "o'higgins                                            12283\n",
       "coquimbo                                             12269\n",
       "atacama                                              12265\n",
       "biobio                                               12160\n",
       "maule                                                11308\n",
       "region del maule                                     10721\n",
       "arica y parinacota                                   10532\n",
       "region del libertador general bernardo o'higgins      9373\n",
       "region del biobio                                     7947\n",
       "region de tarapaca                                    7014\n",
       "los lagos                                             6625\n",
       "arica                                                 5839\n",
       "la araucania                                          5406\n",
       "region de coquimbo                                    4919\n",
       "region de atacama                                     4168\n",
       "magallanes                                            4152\n",
       "region de los lagos                                   4024\n",
       "region de arica y parinacota                          3655\n",
       "region de la araucania                                3008\n",
       "los rios                                              1891\n",
       "region de magallanes y de la antartica chilena        1645\n",
       "aysen                                                 1376\n",
       "region de los rios                                    1107\n",
       "region aisen del general carlos ibanez del campo       715\n",
       "Name: REGION, dtype: int64"
      ]
     },
     "execution_count": 42,
     "metadata": {},
     "output_type": "execute_result"
    }
   ],
   "source": [
    "df.REGION.value_counts()"
   ]
  },
  {
   "cell_type": "code",
   "execution_count": 43,
   "metadata": {},
   "outputs": [],
   "source": [
    "def limpaRegiones(text):\n",
    "    text = text.split(' ')\n",
    "    if 'aisen' in text: text = 'aysen'\n",
    "    elif 'aysen' in text: text= 'aysen'\n",
    "    elif 'tarapaca' in text: text= 'tarapaca'\n",
    "    elif 'bio-bio' in text: text= 'biobio'\n",
    "    elif 'biobio' in text: text= 'biobio'\n",
    "    elif 'metropolitana' in text: text= 'metropolitana'\n",
    "    elif 'valparaiso' in text: text= 'valparaiso'\n",
    "    elif 'lagos' in text: text= 'los-lagos'\n",
    "    elif \"o'higgins\" in text: text= \"o-higgins\"\n",
    "    elif 'araucania' in text: text= 'araucania'\n",
    "    elif 'maule' in text: text= 'maule'\n",
    "    elif 'coquimbo' in text: text= 'coquimbo'\n",
    "    elif 'magallanes' in text: text= 'magallanes'\n",
    "    elif 'antofagasta' in text: text= 'antofagasta'\n",
    "    elif 'atacama' in text: text= 'atacama'\n",
    "    elif 'rios' in text: text= 'los-rios'\n",
    "    elif 'arica' in text: text= 'arica'\n",
    "    else: text = 'Sin identificacion'\n",
    "    return text "
   ]
  },
  {
   "cell_type": "code",
   "execution_count": 44,
   "metadata": {},
   "outputs": [],
   "source": [
    "df['REGION'] = df.REGION.apply(limpaRegiones)"
   ]
  },
  {
   "cell_type": "code",
   "execution_count": 45,
   "metadata": {},
   "outputs": [
    {
     "data": {
      "text/plain": [
       "metropolitana    589106\n",
       "antofagasta       87270\n",
       "valparaiso        48072\n",
       "tarapaca          45295\n",
       "maule             22029\n",
       "o-higgins         21656\n",
       "biobio            20107\n",
       "arica             20026\n",
       "coquimbo          17188\n",
       "atacama           16433\n",
       "los-lagos         10649\n",
       "araucania          8414\n",
       "magallanes         5797\n",
       "los-rios           2998\n",
       "aysen              2091\n",
       "Name: REGION, dtype: int64"
      ]
     },
     "execution_count": 45,
     "metadata": {},
     "output_type": "execute_result"
    }
   ],
   "source": [
    "df.REGION.value_counts()"
   ]
  },
  {
   "cell_type": "code",
   "execution_count": 46,
   "metadata": {
    "scrolled": false
   },
   "outputs": [
    {
     "data": {
      "text/plain": [
       "peru                       213936\n",
       "venezuela                  166718\n",
       "haiti                      129914\n",
       "colombia                   127008\n",
       "bolivia                     98400\n",
       "argentina                   32456\n",
       "ecuador                     29571\n",
       "china republica popular     14825\n",
       "espana                      13861\n",
       "brasil                      12193\n",
       "cuba                        10592\n",
       "republica dominicana         9126\n",
       "estados unidos               8149\n",
       "mexico                       5174\n",
       "uruguay                      5050\n",
       "paraguay                     4880\n",
       "francia                      4472\n",
       "alemania                     2995\n",
       "italia                       2648\n",
       "republica de corea           1866\n",
       "india                        1607\n",
       "japon                        1372\n",
       "canada                       1208\n",
       "federacion de rusia          1048\n",
       "gran bretana                 1023\n",
       "Name: PAIS, dtype: int64"
      ]
     },
     "execution_count": 46,
     "metadata": {},
     "output_type": "execute_result"
    }
   ],
   "source": [
    "df.PAIS.value_counts()[0:25]"
   ]
  },
  {
   "cell_type": "code",
   "execution_count": 47,
   "metadata": {},
   "outputs": [
    {
     "data": {
      "text/plain": [
       "medio            285606\n",
       "no indica        230654\n",
       "universitario    118509\n",
       "no informa       112428\n",
       "basico            94959\n",
       "tecnico           50666\n",
       "ninguno           14570\n",
       "prebasico          9739\n",
       "Name: ESTUDIOS, dtype: int64"
      ]
     },
     "execution_count": 47,
     "metadata": {},
     "output_type": "execute_result"
    }
   ],
   "source": [
    "df.ESTUDIOS.value_counts()"
   ]
  },
  {
   "cell_type": "code",
   "execution_count": 48,
   "metadata": {},
   "outputs": [],
   "source": [
    "df.ESTUDIOS.replace('no indica', 'no informa', inplace=True)"
   ]
  },
  {
   "cell_type": "code",
   "execution_count": 49,
   "metadata": {},
   "outputs": [],
   "source": [
    "df.ESTUDIOS.replace('prebasico', 'basico', inplace=True)"
   ]
  },
  {
   "cell_type": "code",
   "execution_count": 50,
   "metadata": {},
   "outputs": [
    {
     "data": {
      "text/plain": [
       "no informa       343082\n",
       "medio            285606\n",
       "universitario    118509\n",
       "basico           104698\n",
       "tecnico           50666\n",
       "ninguno           14570\n",
       "Name: ESTUDIOS, dtype: int64"
      ]
     },
     "execution_count": 50,
     "metadata": {},
     "output_type": "execute_result"
    }
   ],
   "source": [
    "df.ESTUDIOS.value_counts()"
   ]
  },
  {
   "cell_type": "code",
   "execution_count": 51,
   "metadata": {},
   "outputs": [
    {
     "data": {
      "text/plain": [
       "temporaria                               449916\n",
       "permanencia definitiva                   411970\n",
       "otorga permanencia definitiva             48204\n",
       "sujeta a contrato                          3999\n",
       "estudiante                                 2319\n",
       "permanencia definitiva por gracia           719\n",
       "dse rechazo pede c/visa y otorga pede         4\n",
       "Name: BENEFICIO, dtype: int64"
      ]
     },
     "execution_count": 51,
     "metadata": {},
     "output_type": "execute_result"
    }
   ],
   "source": [
    "df.BENEFICIO.value_counts()"
   ]
  },
  {
   "cell_type": "code",
   "execution_count": 52,
   "metadata": {},
   "outputs": [],
   "source": [
    "df.BENEFICIO.replace('otorga permanencia definitiva', 'permanencia definitiva', inplace=True)\n",
    "df.BENEFICIO.replace('permanencia definitiva por gracia', 'permanencia definitiva', inplace=True)\n",
    "df.BENEFICIO.replace('dse rechazo pede c/visa y otorga pede', 'temporaria', inplace=True)\n",
    "df.BENEFICIO.replace('sujeta a contrato', 'temporaria', inplace=True)\n",
    "df.BENEFICIO.replace('estudiante', 'temporaria', inplace=True)\n",
    "df.BENEFICIO.replace('permanencia definitiva', 'definitiva', inplace=True)"
   ]
  },
  {
   "cell_type": "code",
   "execution_count": 53,
   "metadata": {},
   "outputs": [
    {
     "data": {
      "text/plain": [
       "definitiva    460893\n",
       "temporaria    456238\n",
       "Name: BENEFICIO, dtype: int64"
      ]
     },
     "execution_count": 53,
     "metadata": {},
     "output_type": "execute_result"
    }
   ],
   "source": [
    "df.BENEFICIO.value_counts()"
   ]
  },
  {
   "cell_type": "markdown",
   "metadata": {},
   "source": [
    "## 3. Analisar general de la data"
   ]
  },
  {
   "cell_type": "code",
   "execution_count": 54,
   "metadata": {},
   "outputs": [
    {
     "name": "stdout",
     "output_type": "stream",
     "text": [
      "<class 'pandas.core.frame.DataFrame'>\n",
      "Int64Index: 917131 entries, 0 to 188637\n",
      "Data columns (total 12 columns):\n",
      "SEXO          917131 non-null object\n",
      "NACIMIENTO    917131 non-null datetime64[ns]\n",
      "ACTIVIDAD     917131 non-null object\n",
      "PROFESION     917131 non-null object\n",
      "PAIS          917131 non-null object\n",
      "ESTUDIOS      917131 non-null object\n",
      "COMUNA        917131 non-null object\n",
      "PROVINCIA     917131 non-null object\n",
      "REGION        917131 non-null object\n",
      "TIT_DEP       917131 non-null object\n",
      "ANIO          917131 non-null int64\n",
      "BENEFICIO     917131 non-null object\n",
      "dtypes: datetime64[ns](1), int64(1), object(10)\n",
      "memory usage: 91.0+ MB\n"
     ]
    }
   ],
   "source": [
    "df.info()"
   ]
  },
  {
   "cell_type": "code",
   "execution_count": 55,
   "metadata": {},
   "outputs": [
    {
     "data": {
      "image/png": "[encoded data removed]",
      "text/plain": [
       "<matplotlib.figure.Figure at 0x1a170d2390>"
      ]
     },
     "metadata": {
      "needs_background": "light"
     },
     "output_type": "display_data"
    }
   ],
   "source": [
    "sns.countplot(y=df['SEXO'])\n",
    "sns.despine()"
   ]
  },
  {
   "cell_type": "code",
   "execution_count": 56,
   "metadata": {},
   "outputs": [
    {
     "data": {
      "image/png": "[encoded data removed]",
      "text/plain": [
       "<matplotlib.figure.Figure at 0x1a1ef74320>"
      ]
     },
     "metadata": {
      "needs_background": "light"
     },
     "output_type": "display_data"
    }
   ],
   "source": [
    "sns.countplot(y=df['ACTIVIDAD'])\n",
    "sns.despine()"
   ]
  },
  {
   "cell_type": "code",
   "execution_count": 57,
   "metadata": {},
   "outputs": [
    {
     "data": {
      "text/plain": [
       "empleado             139421\n",
       "estudiante            95464\n",
       "asesora del hogar     70933\n",
       "menor de edad         47331\n",
       "duena de casa         46299\n",
       "ayudante              27136\n",
       "vendedor              26851\n",
       "ingeniero             25164\n",
       "obrero                23442\n",
       "jornalero             22146\n",
       "Name: PROFESION, dtype: int64"
      ]
     },
     "execution_count": 57,
     "metadata": {},
     "output_type": "execute_result"
    }
   ],
   "source": [
    "top_profesion = df.PROFESION.value_counts()[0:10]\n",
    "top_profesion"
   ]
  },
  {
   "cell_type": "code",
   "execution_count": 58,
   "metadata": {},
   "outputs": [
    {
     "data": {
      "image/png": "[encoded data removed]",
      "text/plain": [
       "<matplotlib.figure.Figure at 0x1a4bab1d68>"
      ]
     },
     "metadata": {
      "needs_background": "light"
     },
     "output_type": "display_data"
    }
   ],
   "source": [
    "sns.countplot(y=df['ESTUDIOS'], color='grey')\n",
    "sns.despine()"
   ]
  },
  {
   "cell_type": "code",
   "execution_count": 59,
   "metadata": {},
   "outputs": [
    {
     "data": {
      "image/png": "[encoded data removed]",
      "text/plain": [
       "<matplotlib.figure.Figure at 0x1a4d741ac8>"
      ]
     },
     "metadata": {
      "needs_background": "light"
     },
     "output_type": "display_data"
    }
   ],
   "source": [
    "sns.countplot(y=df['ANIO'])\n",
    "sns.despine()"
   ]
  },
  {
   "cell_type": "code",
   "execution_count": 60,
   "metadata": {},
   "outputs": [
    {
     "data": {
      "text/plain": [
       "peru                       213936\n",
       "venezuela                  166718\n",
       "haiti                      129914\n",
       "colombia                   127008\n",
       "bolivia                     98400\n",
       "argentina                   32456\n",
       "ecuador                     29571\n",
       "china republica popular     14825\n",
       "espana                      13861\n",
       "brasil                      12193\n",
       "Name: PAIS, dtype: int64"
      ]
     },
     "execution_count": 60,
     "metadata": {},
     "output_type": "execute_result"
    }
   ],
   "source": [
    "top_paises = df.PAIS.value_counts()[0:10]\n",
    "top_paises"
   ]
  },
  {
   "cell_type": "code",
   "execution_count": 61,
   "metadata": {},
   "outputs": [
    {
     "name": "stdout",
     "output_type": "stream",
     "text": [
      "Total de Inmigrantes 917131\n",
      "Total de Inmigrantes dos Top10:838882, que es 91.0% del total\n"
     ]
    }
   ],
   "source": [
    "TOP_PAISES_POP = top_paises.sum()\n",
    "TOT_INM = len(df.SEXO)\n",
    "print(\"Total de Inmigrantes\", TOT_INM)\n",
    "print(\"Total de Inmigrantes dos Top10:{}, que es {}% del total\".format(TOP_PAISES_POP, round((TOP_PAISES_POP/TOT_INM)*100, 0)))"
   ]
  },
  {
   "cell_type": "code",
   "execution_count": 62,
   "metadata": {},
   "outputs": [
    {
     "data": {
      "text/plain": [
       "metropolitana    589106\n",
       "antofagasta       87270\n",
       "valparaiso        48072\n",
       "Name: REGION, dtype: int64"
      ]
     },
     "execution_count": 62,
     "metadata": {},
     "output_type": "execute_result"
    }
   ],
   "source": [
    "top_regiones = df.REGION.value_counts()[0:3]\n",
    "top_regiones"
   ]
  },
  {
   "cell_type": "code",
   "execution_count": 63,
   "metadata": {},
   "outputs": [
    {
     "name": "stdout",
     "output_type": "stream",
     "text": [
      "Total de Inmigrantes dos Top3 regiones: 724448, que es 79.0% del total\n"
     ]
    }
   ],
   "source": [
    "TOP_REG_POP = top_regiones.sum()\n",
    "print(\"Total de Inmigrantes dos Top3 regiones: {}, que es {}% del total\".format(TOP_REG_POP, round((TOP_REG_POP/TOT_INM)*100, 0)))"
   ]
  },
  {
   "cell_type": "markdown",
   "metadata": {
    "colab_type": "text",
    "id": "amgUi8DOvinJ"
   },
   "source": [
    "**Key Insight**\n",
    "\n",
    "- 91% de los estranjeros són de 10 paises, y \n",
    "- Case 80% del total está concentrado en 3 regiones, con mas de la mitad en la Metropolitana "
   ]
  },
  {
   "cell_type": "code",
   "execution_count": 64,
   "metadata": {},
   "outputs": [
    {
     "data": {
      "text/plain": [
       "count    917131.000000\n",
       "mean         33.084956\n",
       "std          13.474518\n",
       "min           0.000000\n",
       "25%          25.000000\n",
       "50%          32.000000\n",
       "75%          41.000000\n",
       "max         118.000000\n",
       "Name: NACIMIENTO, dtype: float64"
      ]
     },
     "execution_count": 64,
     "metadata": {},
     "output_type": "execute_result"
    }
   ],
   "source": [
    "edad = 2018 - (df.NACIMIENTO.dt.year)\n",
    "edad.describe()"
   ]
  },
  {
   "cell_type": "code",
   "execution_count": 65,
   "metadata": {},
   "outputs": [
    {
     "data": {
      "text/plain": [
       "<matplotlib.axes._subplots.AxesSubplot at 0x1a3f6bd320>"
      ]
     },
     "execution_count": 65,
     "metadata": {},
     "output_type": "execute_result"
    },
    {
     "data": {
      "image/png": "[encoded data removed]",
      "text/plain": [
       "<matplotlib.figure.Figure at 0x1a4d71c320>"
      ]
     },
     "metadata": {
      "needs_background": "light"
     },
     "output_type": "display_data"
    }
   ],
   "source": [
    "sns.kdeplot(edad, shade=True)"
   ]
  },
  {
   "cell_type": "code",
   "execution_count": 66,
   "metadata": {},
   "outputs": [
    {
     "data": {
      "text/plain": [
       "<matplotlib.axes._subplots.AxesSubplot at 0x1a3f6bdfd0>"
      ]
     },
     "execution_count": 66,
     "metadata": {},
     "output_type": "execute_result"
    },
    {
     "data": {
      "image/png": "[encoded data removed]",
      "text/plain": [
       "<matplotlib.figure.Figure at 0x1a2cf8f7b8>"
      ]
     },
     "metadata": {
      "needs_background": "light"
     },
     "output_type": "display_data"
    }
   ],
   "source": [
    "sns.boxplot(edad)"
   ]
  },
  {
   "cell_type": "markdown",
   "metadata": {},
   "source": [
    "Hay muchos que són niños y seguro otros que ya falecerón"
   ]
  },
  {
   "cell_type": "code",
   "execution_count": 67,
   "metadata": {},
   "outputs": [],
   "source": [
    "edad_titular = 2018 - (df[df.TIT_DEP =='t'].NACIMIENTO.dt.year)"
   ]
  },
  {
   "cell_type": "code",
   "execution_count": 68,
   "metadata": {},
   "outputs": [
    {
     "data": {
      "text/plain": [
       "<matplotlib.axes._subplots.AxesSubplot at 0x1a2ce33198>"
      ]
     },
     "execution_count": 68,
     "metadata": {},
     "output_type": "execute_result"
    },
    {
     "data": {
      "image/png": "[encoded data removed]",
      "text/plain": [
       "<matplotlib.figure.Figure at 0x1a17455780>"
      ]
     },
     "metadata": {
      "needs_background": "light"
     },
     "output_type": "display_data"
    }
   ],
   "source": [
    "sns.kdeplot(edad_titular, shade=True)"
   ]
  },
  {
   "cell_type": "code",
   "execution_count": 69,
   "metadata": {},
   "outputs": [
    {
     "data": {
      "text/plain": [
       "count    809661.000000\n",
       "mean         35.136342\n",
       "std          11.941482\n",
       "min           0.000000\n",
       "25%          27.000000\n",
       "50%          33.000000\n",
       "75%          42.000000\n",
       "max         118.000000\n",
       "Name: NACIMIENTO, dtype: float64"
      ]
     },
     "execution_count": 69,
     "metadata": {},
     "output_type": "execute_result"
    }
   ],
   "source": [
    "edad_titular.describe()"
   ]
  },
  {
   "cell_type": "code",
   "execution_count": 70,
   "metadata": {},
   "outputs": [
    {
     "data": {
      "text/plain": [
       "<matplotlib.axes._subplots.AxesSubplot at 0x1a2cfcac18>"
      ]
     },
     "execution_count": 70,
     "metadata": {},
     "output_type": "execute_result"
    },
    {
     "data": {
      "image/png": "[encoded data removed]",
      "text/plain": [
       "<matplotlib.figure.Figure at 0x1a2ab783c8>"
      ]
     },
     "metadata": {
      "needs_background": "light"
     },
     "output_type": "display_data"
    }
   ],
   "source": [
    "sns.boxplot(edad_titular)"
   ]
  },
  {
   "cell_type": "code",
   "execution_count": 71,
   "metadata": {},
   "outputs": [
    {
     "data": {
      "text/plain": [
       "54"
      ]
     },
     "execution_count": 71,
     "metadata": {},
     "output_type": "execute_result"
    }
   ],
   "source": [
    "(edad_titular > 100).sum()"
   ]
  },
  {
   "cell_type": "code",
   "execution_count": 72,
   "metadata": {},
   "outputs": [
    {
     "data": {
      "text/plain": [
       "22656"
      ]
     },
     "execution_count": 72,
     "metadata": {},
     "output_type": "execute_result"
    }
   ],
   "source": [
    "(edad_titular < 15).sum()"
   ]
  },
  {
   "cell_type": "markdown",
   "metadata": {
    "colab_type": "text",
    "id": "5AyXltlfvinY"
   },
   "source": [
    "##### **Key Insights**\n",
    "\n",
    "- Muy pocas personas titulares que podrian tener mas de 100 años y ademas muchos fueron permisos consedidos a mas de 10 años. Así o se puede borrar estos datos o dejarlos. No harán mucha diferencia. \n",
    "- El problema mas grande es en relación a la edad minima de los titulares, pues hay un numero significativo de personas que són titulares pero tienen menos de 15 anõs y seguro deben de ser dependentes de otros. "
   ]
  },
  {
   "cell_type": "markdown",
   "metadata": {},
   "source": [
    "## 4. Validación de los datos de Extrangería con el Censo 2017 para la RM"
   ]
  },
  {
   "cell_type": "markdown",
   "metadata": {},
   "source": [
    "###  Región Metropolitana en detalles"
   ]
  },
  {
   "cell_type": "code",
   "execution_count": 73,
   "metadata": {},
   "outputs": [
    {
     "data": {
      "text/plain": [
       "(589106, 12)"
      ]
     },
     "execution_count": 73,
     "metadata": {},
     "output_type": "execute_result"
    }
   ],
   "source": [
    "metro = df[df.REGION == 'metropolitana']\n",
    "metro.shape"
   ]
  },
  {
   "cell_type": "code",
   "execution_count": 74,
   "metadata": {},
   "outputs": [
    {
     "data": {
      "text/html": [
       "<div>\n",
       "<style scoped>\n",
       "    .dataframe tbody tr th:only-of-type {\n",
       "        vertical-align: middle;\n",
       "    }\n",
       "\n",
       "    .dataframe tbody tr th {\n",
       "        vertical-align: top;\n",
       "    }\n",
       "\n",
       "    .dataframe thead th {\n",
       "        text-align: right;\n",
       "    }\n",
       "</style>\n",
       "<table border=\"1\" class=\"dataframe\">\n",
       "  <thead>\n",
       "    <tr style=\"text-align: right;\">\n",
       "      <th></th>\n",
       "      <th>SEXO</th>\n",
       "      <th>NACIMIENTO</th>\n",
       "      <th>ACTIVIDAD</th>\n",
       "      <th>PROFESION</th>\n",
       "      <th>PAIS</th>\n",
       "      <th>ESTUDIOS</th>\n",
       "      <th>COMUNA</th>\n",
       "      <th>PROVINCIA</th>\n",
       "      <th>REGION</th>\n",
       "      <th>TIT_DEP</th>\n",
       "      <th>ANIO</th>\n",
       "      <th>BENEFICIO</th>\n",
       "    </tr>\n",
       "  </thead>\n",
       "  <tbody>\n",
       "    <tr>\n",
       "      <th>105822</th>\n",
       "      <td>masculino</td>\n",
       "      <td>2011-06-18</td>\n",
       "      <td>inactivo</td>\n",
       "      <td>menor de edad</td>\n",
       "      <td>colombia</td>\n",
       "      <td>ninguno</td>\n",
       "      <td>recoleta</td>\n",
       "      <td>santiago</td>\n",
       "      <td>metropolitana</td>\n",
       "      <td>d</td>\n",
       "      <td>2017</td>\n",
       "      <td>temporaria</td>\n",
       "    </tr>\n",
       "    <tr>\n",
       "      <th>54671</th>\n",
       "      <td>femenino</td>\n",
       "      <td>1992-11-27</td>\n",
       "      <td>empleado</td>\n",
       "      <td>aseador</td>\n",
       "      <td>haiti</td>\n",
       "      <td>no informa</td>\n",
       "      <td>la pintana</td>\n",
       "      <td>santiago</td>\n",
       "      <td>metropolitana</td>\n",
       "      <td>t</td>\n",
       "      <td>2017</td>\n",
       "      <td>temporaria</td>\n",
       "    </tr>\n",
       "    <tr>\n",
       "      <th>110398</th>\n",
       "      <td>masculino</td>\n",
       "      <td>1973-04-29</td>\n",
       "      <td>obrero o jornalero</td>\n",
       "      <td>obrero</td>\n",
       "      <td>peru</td>\n",
       "      <td>medio</td>\n",
       "      <td>recoleta</td>\n",
       "      <td>santiago</td>\n",
       "      <td>metropolitana</td>\n",
       "      <td>t</td>\n",
       "      <td>2009</td>\n",
       "      <td>definitiva</td>\n",
       "    </tr>\n",
       "    <tr>\n",
       "      <th>33411</th>\n",
       "      <td>masculino</td>\n",
       "      <td>1939-03-31</td>\n",
       "      <td>jubilado o pensionado</td>\n",
       "      <td>jubilado o pensionado</td>\n",
       "      <td>estados unidos</td>\n",
       "      <td>no informa</td>\n",
       "      <td>el bosque</td>\n",
       "      <td>santiago</td>\n",
       "      <td>metropolitana</td>\n",
       "      <td>t</td>\n",
       "      <td>2005</td>\n",
       "      <td>definitiva</td>\n",
       "    </tr>\n",
       "    <tr>\n",
       "      <th>4806</th>\n",
       "      <td>femenino</td>\n",
       "      <td>2008-01-16</td>\n",
       "      <td>estudiante</td>\n",
       "      <td>estudiante</td>\n",
       "      <td>ecuador</td>\n",
       "      <td>basico</td>\n",
       "      <td>la florida</td>\n",
       "      <td>santiago</td>\n",
       "      <td>metropolitana</td>\n",
       "      <td>d</td>\n",
       "      <td>2018</td>\n",
       "      <td>definitiva</td>\n",
       "    </tr>\n",
       "  </tbody>\n",
       "</table>\n",
       "</div>"
      ],
      "text/plain": [
       "             SEXO NACIMIENTO              ACTIVIDAD              PROFESION  \\\n",
       "105822  masculino 2011-06-18               inactivo          menor de edad   \n",
       "54671    femenino 1992-11-27               empleado                aseador   \n",
       "110398  masculino 1973-04-29     obrero o jornalero                 obrero   \n",
       "33411   masculino 1939-03-31  jubilado o pensionado  jubilado o pensionado   \n",
       "4806     femenino 2008-01-16             estudiante             estudiante   \n",
       "\n",
       "                  PAIS    ESTUDIOS      COMUNA PROVINCIA         REGION  \\\n",
       "105822        colombia     ninguno    recoleta  santiago  metropolitana   \n",
       "54671            haiti  no informa  la pintana  santiago  metropolitana   \n",
       "110398            peru       medio    recoleta  santiago  metropolitana   \n",
       "33411   estados unidos  no informa   el bosque  santiago  metropolitana   \n",
       "4806           ecuador      basico  la florida  santiago  metropolitana   \n",
       "\n",
       "       TIT_DEP  ANIO   BENEFICIO  \n",
       "105822       d  2017  temporaria  \n",
       "54671        t  2017  temporaria  \n",
       "110398       t  2009  definitiva  \n",
       "33411        t  2005  definitiva  \n",
       "4806         d  2018  definitiva  "
      ]
     },
     "execution_count": 74,
     "metadata": {},
     "output_type": "execute_result"
    }
   ],
   "source": [
    "metro.sample(5)"
   ]
  },
  {
   "cell_type": "code",
   "execution_count": 75,
   "metadata": {},
   "outputs": [
    {
     "data": {
      "text/plain": [
       "array(['santiago', 'chacabuco', 'talagante', 'melipilla', 'cordillera',\n",
       "       'maipo'], dtype=object)"
      ]
     },
     "execution_count": 75,
     "metadata": {},
     "output_type": "execute_result"
    }
   ],
   "source": [
    "metro.PROVINCIA.unique()"
   ]
  },
  {
   "cell_type": "markdown",
   "metadata": {},
   "source": [
    "### Obtener datos del Censo 2017 - Region Metropolitana"
   ]
  },
  {
   "cell_type": "code",
   "execution_count": 76,
   "metadata": {},
   "outputs": [
    {
     "name": "stdout",
     "output_type": "stream",
     "text": [
      "PDs-2005-2016.xlsx                      Visas-2018_1.xlsx\r\n",
      "PDs-2017.xlsx                           frec_casos_dmcs_mensual_2001_2017w.xlsx\r\n",
      "PDs_2018_1.xlsx                         inmigrantes_metropolitana.xlsx\r\n",
      "Visas-2005-2010.xlsx                    inmigrantes_rm_comuna.xlsx\r\n",
      "Visas-2011-2016.xlsx                    pe_2010-2017.xlsx\r\n",
      "Visas-2017.xlsx\r\n"
     ]
    }
   ],
   "source": [
    "!ls ./data/"
   ]
  },
  {
   "cell_type": "code",
   "execution_count": 77,
   "metadata": {},
   "outputs": [],
   "source": [
    "censo = pd.read_excel('./data/inmigrantes_rm_comuna.xlsx')"
   ]
  },
  {
   "cell_type": "code",
   "execution_count": 78,
   "metadata": {},
   "outputs": [
    {
     "name": "stdout",
     "output_type": "stream",
     "text": [
      "<class 'pandas.core.frame.DataFrame'>\n",
      "RangeIndex: 52 entries, 0 to 51\n",
      "Data columns (total 3 columns):\n",
      "COMUNA         52 non-null int64\n",
      "NOM_COMUNA     52 non-null object\n",
      "INMIGRANTES    52 non-null int64\n",
      "dtypes: int64(2), object(1)\n",
      "memory usage: 1.3+ KB\n"
     ]
    }
   ],
   "source": [
    "censo.info()"
   ]
  },
  {
   "cell_type": "code",
   "execution_count": 79,
   "metadata": {},
   "outputs": [
    {
     "data": {
      "text/plain": [
       "457110"
      ]
     },
     "execution_count": 79,
     "metadata": {},
     "output_type": "execute_result"
    }
   ],
   "source": [
    "censo.INMIGRANTES.sum()"
   ]
  },
  {
   "cell_type": "code",
   "execution_count": 80,
   "metadata": {},
   "outputs": [
    {
     "data": {
      "text/plain": [
       "589106"
      ]
     },
     "execution_count": 80,
     "metadata": {},
     "output_type": "execute_result"
    }
   ],
   "source": [
    "len(metro)"
   ]
  },
  {
   "cell_type": "markdown",
   "metadata": {},
   "source": [
    "Es lo que se esperaría, pues muchas Visas temporárias fueron sacadas entre 2017 y 2018. Para validar en detalles, hay que mirar los datasets df4 (Visas 2017) y df5 (Visas 2018 con 'mas foco')"
   ]
  },
  {
   "cell_type": "code",
   "execution_count": 81,
   "metadata": {},
   "outputs": [
    {
     "data": {
      "text/plain": [
       "(52, 3)"
      ]
     },
     "execution_count": 81,
     "metadata": {},
     "output_type": "execute_result"
    }
   ],
   "source": [
    "censo.shape"
   ]
  },
  {
   "cell_type": "code",
   "execution_count": 82,
   "metadata": {},
   "outputs": [
    {
     "data": {
      "text/plain": [
       "52"
      ]
     },
     "execution_count": 82,
     "metadata": {},
     "output_type": "execute_result"
    }
   ],
   "source": [
    "len(metro.COMUNA.unique())"
   ]
  },
  {
   "cell_type": "markdown",
   "metadata": {},
   "source": [
    "Los dos datasets posuen 52 comunas"
   ]
  },
  {
   "cell_type": "code",
   "execution_count": 83,
   "metadata": {
    "scrolled": false
   },
   "outputs": [],
   "source": [
    "censo_test = censo.INMIGRANTES[0:20]"
   ]
  },
  {
   "cell_type": "code",
   "execution_count": 84,
   "metadata": {},
   "outputs": [],
   "source": [
    "censo_test = censo_test.reset_index()"
   ]
  },
  {
   "cell_type": "code",
   "execution_count": 85,
   "metadata": {},
   "outputs": [],
   "source": [
    "censo_test = censo_test.INMIGRANTES"
   ]
  },
  {
   "cell_type": "code",
   "execution_count": 86,
   "metadata": {},
   "outputs": [
    {
     "data": {
      "text/plain": [
       "0     110732\n",
       "1      30308\n",
       "2      30023\n",
       "3      23329\n",
       "4      22479\n",
       "5      15628\n",
       "6      15578\n",
       "7      15004\n",
       "8      12030\n",
       "9      11626\n",
       "10     10667\n",
       "11     10173\n",
       "12      9876\n",
       "13      9608\n",
       "14      9330\n",
       "15      9223\n",
       "16      7495\n",
       "17      7411\n",
       "18      6916\n",
       "19      6544\n",
       "Name: INMIGRANTES, dtype: int64"
      ]
     },
     "execution_count": 86,
     "metadata": {},
     "output_type": "execute_result"
    }
   ],
   "source": [
    "censo_test"
   ]
  },
  {
   "cell_type": "code",
   "execution_count": 92,
   "metadata": {},
   "outputs": [],
   "source": [
    "metro_test = metro.COMUNA.value_counts()[0:20]"
   ]
  },
  {
   "cell_type": "code",
   "execution_count": 93,
   "metadata": {},
   "outputs": [],
   "source": [
    "metro_test = metro_test.reset_index()"
   ]
  },
  {
   "cell_type": "code",
   "execution_count": 95,
   "metadata": {},
   "outputs": [],
   "source": [
    "metro_test = metro_test.COMUNA"
   ]
  },
  {
   "cell_type": "code",
   "execution_count": 96,
   "metadata": {},
   "outputs": [
    {
     "data": {
      "text/plain": [
       "0     162325\n",
       "1      38888\n",
       "2      37783\n",
       "3      30937\n",
       "4      29155\n",
       "5      21176\n",
       "6      19523\n",
       "7      18449\n",
       "8      15685\n",
       "9      14020\n",
       "10     12404\n",
       "11     11003\n",
       "12     10426\n",
       "13     10391\n",
       "14     10141\n",
       "15      9442\n",
       "16      9088\n",
       "17      8879\n",
       "18      8296\n",
       "19      7578\n",
       "Name: COMUNA, dtype: int64"
      ]
     },
     "execution_count": 96,
     "metadata": {},
     "output_type": "execute_result"
    }
   ],
   "source": [
    "metro_test"
   ]
  },
  {
   "cell_type": "code",
   "execution_count": 97,
   "metadata": {},
   "outputs": [
    {
     "data": {
      "text/plain": [
       "[<matplotlib.lines.Line2D at 0x1a2c9867b8>]"
      ]
     },
     "execution_count": 97,
     "metadata": {},
     "output_type": "execute_result"
    },
    {
     "data": {
      "image/png": "[encoded data removed]",
      "text/plain": [
       "<matplotlib.figure.Figure at 0x1a2c95c550>"
      ]
     },
     "metadata": {
      "needs_background": "light"
     },
     "output_type": "display_data"
    }
   ],
   "source": [
    "plt.plot(censo_test, metro_test)"
   ]
  },
  {
   "cell_type": "code",
   "execution_count": 98,
   "metadata": {},
   "outputs": [
    {
     "data": {
      "text/plain": [
       "0.9992184483609619"
      ]
     },
     "execution_count": 98,
     "metadata": {},
     "output_type": "execute_result"
    }
   ],
   "source": [
    "censo_test.corr(metro_test)"
   ]
  },
  {
   "cell_type": "markdown",
   "metadata": {},
   "source": [
    "Existe una correlación case perfecta entre los dos datasets! Trabajaremos con los datos del dataset 'metro'"
   ]
  },
  {
   "cell_type": "markdown",
   "metadata": {},
   "source": [
    "## 5. Analisis Datos Inmigrantes Region Metropolitana"
   ]
  },
  {
   "cell_type": "code",
   "execution_count": 99,
   "metadata": {},
   "outputs": [
    {
     "name": "stdout",
     "output_type": "stream",
     "text": [
      "<class 'pandas.core.frame.DataFrame'>\n",
      "Int64Index: 589106 entries, 0 to 188619\n",
      "Data columns (total 12 columns):\n",
      "SEXO          589106 non-null object\n",
      "NACIMIENTO    589106 non-null datetime64[ns]\n",
      "ACTIVIDAD     589106 non-null object\n",
      "PROFESION     589106 non-null object\n",
      "PAIS          589106 non-null object\n",
      "ESTUDIOS      589106 non-null object\n",
      "COMUNA        589106 non-null object\n",
      "PROVINCIA     589106 non-null object\n",
      "REGION        589106 non-null object\n",
      "TIT_DEP       589106 non-null object\n",
      "ANIO          589106 non-null int64\n",
      "BENEFICIO     589106 non-null object\n",
      "dtypes: datetime64[ns](1), int64(1), object(10)\n",
      "memory usage: 58.4+ MB\n"
     ]
    }
   ],
   "source": [
    "metro.info()"
   ]
  },
  {
   "cell_type": "code",
   "execution_count": 100,
   "metadata": {},
   "outputs": [
    {
     "data": {
      "text/html": [
       "<div>\n",
       "<style scoped>\n",
       "    .dataframe tbody tr th:only-of-type {\n",
       "        vertical-align: middle;\n",
       "    }\n",
       "\n",
       "    .dataframe tbody tr th {\n",
       "        vertical-align: top;\n",
       "    }\n",
       "\n",
       "    .dataframe thead th {\n",
       "        text-align: right;\n",
       "    }\n",
       "</style>\n",
       "<table border=\"1\" class=\"dataframe\">\n",
       "  <thead>\n",
       "    <tr style=\"text-align: right;\">\n",
       "      <th></th>\n",
       "      <th>SEXO</th>\n",
       "      <th>NACIMIENTO</th>\n",
       "      <th>ACTIVIDAD</th>\n",
       "      <th>PROFESION</th>\n",
       "      <th>PAIS</th>\n",
       "      <th>ESTUDIOS</th>\n",
       "      <th>COMUNA</th>\n",
       "      <th>PROVINCIA</th>\n",
       "      <th>REGION</th>\n",
       "      <th>TIT_DEP</th>\n",
       "      <th>ANIO</th>\n",
       "      <th>BENEFICIO</th>\n",
       "    </tr>\n",
       "  </thead>\n",
       "  <tbody>\n",
       "    <tr>\n",
       "      <th>0</th>\n",
       "      <td>femenino</td>\n",
       "      <td>1974-10-05</td>\n",
       "      <td>empleado</td>\n",
       "      <td>matrona</td>\n",
       "      <td>peru</td>\n",
       "      <td>no informa</td>\n",
       "      <td>santiago</td>\n",
       "      <td>santiago</td>\n",
       "      <td>metropolitana</td>\n",
       "      <td>t</td>\n",
       "      <td>2006</td>\n",
       "      <td>definitiva</td>\n",
       "    </tr>\n",
       "    <tr>\n",
       "      <th>1</th>\n",
       "      <td>masculino</td>\n",
       "      <td>1949-09-13</td>\n",
       "      <td>empleado</td>\n",
       "      <td>ingeniero</td>\n",
       "      <td>ecuador</td>\n",
       "      <td>no informa</td>\n",
       "      <td>providencia</td>\n",
       "      <td>santiago</td>\n",
       "      <td>metropolitana</td>\n",
       "      <td>t</td>\n",
       "      <td>2007</td>\n",
       "      <td>definitiva</td>\n",
       "    </tr>\n",
       "  </tbody>\n",
       "</table>\n",
       "</div>"
      ],
      "text/plain": [
       "        SEXO NACIMIENTO ACTIVIDAD  PROFESION     PAIS    ESTUDIOS  \\\n",
       "0   femenino 1974-10-05  empleado    matrona     peru  no informa   \n",
       "1  masculino 1949-09-13  empleado  ingeniero  ecuador  no informa   \n",
       "\n",
       "        COMUNA PROVINCIA         REGION TIT_DEP  ANIO   BENEFICIO  \n",
       "0     santiago  santiago  metropolitana       t  2006  definitiva  \n",
       "1  providencia  santiago  metropolitana       t  2007  definitiva  "
      ]
     },
     "execution_count": 100,
     "metadata": {},
     "output_type": "execute_result"
    }
   ],
   "source": [
    "metro.head(2)"
   ]
  },
  {
   "cell_type": "code",
   "execution_count": 101,
   "metadata": {},
   "outputs": [
    {
     "data": {
      "text/plain": [
       "santiago            162325\n",
       "las condes           38888\n",
       "independencia        37783\n",
       "estacion central     30937\n",
       "recoleta             29155\n",
       "providencia          21176\n",
       "nunoa                19523\n",
       "quilicura            18449\n",
       "quinta normal        15685\n",
       "la florida           14020\n",
       "Name: COMUNA, dtype: int64"
      ]
     },
     "execution_count": 101,
     "metadata": {},
     "output_type": "execute_result"
    }
   ],
   "source": [
    "metro.COMUNA.value_counts()[0:10]"
   ]
  },
  {
   "cell_type": "code",
   "execution_count": 102,
   "metadata": {},
   "outputs": [
    {
     "data": {
      "text/plain": [
       "peru                       163440\n",
       "venezuela                  129248\n",
       "haiti                       86289\n",
       "colombia                    72365\n",
       "argentina                   20359\n",
       "bolivia                     18707\n",
       "ecuador                     18675\n",
       "espana                      10253\n",
       "china republica popular      9703\n",
       "brasil                       8833\n",
       "Name: PAIS, dtype: int64"
      ]
     },
     "execution_count": 102,
     "metadata": {},
     "output_type": "execute_result"
    }
   ],
   "source": [
    "metro.PAIS.value_counts()[0:10]"
   ]
  },
  {
   "cell_type": "code",
   "execution_count": 103,
   "metadata": {
    "scrolled": true
   },
   "outputs": [
    {
     "data": {
      "text/plain": [
       "las condes             2191\n",
       "santiago               1552\n",
       "providencia            1097\n",
       "nunoa                   520\n",
       "vitacura                323\n",
       "lo barnechea            318\n",
       "maipu                   248\n",
       "la florida              247\n",
       "quilicura               223\n",
       "puente alto             202\n",
       "huechuraba              165\n",
       "macul                   143\n",
       "recoleta                138\n",
       "estacion central        122\n",
       "san miguel              121\n",
       "colina                  103\n",
       "penalolen               101\n",
       "la reina                 99\n",
       "san bernardo             92\n",
       "independencia            71\n",
       "pudahuel                 66\n",
       "quinta normal            58\n",
       "la cisterna              48\n",
       "san joaquin              38\n",
       "conchali                 38\n",
       "melipilla                38\n",
       "el bosque                35\n",
       "buin                     35\n",
       "lampa                    35\n",
       "talagante                34\n",
       "lo prado                 33\n",
       "cerrillos                32\n",
       "cerro navia              29\n",
       "pedro aguirre cerda      27\n",
       "la granja                25\n",
       "la pintana               24\n",
       "renca                    24\n",
       "lo espejo                22\n",
       "san ramon                20\n",
       "padre hurtado            19\n",
       "paine                    18\n",
       "penaflor                 17\n",
       "calera de tango           9\n",
       "tiltil                    8\n",
       "pirque                    6\n",
       "curacavi                  6\n",
       "el monte                  5\n",
       "isla de maipo             4\n",
       "san jose de maipo         4\n",
       "Name: COMUNA, dtype: int64"
      ]
     },
     "execution_count": 103,
     "metadata": {},
     "output_type": "execute_result"
    }
   ],
   "source": [
    "metro[metro.PAIS == 'brasil'].COMUNA.value_counts()"
   ]
  },
  {
   "cell_type": "code",
   "execution_count": 104,
   "metadata": {},
   "outputs": [
    {
     "data": {
      "text/plain": [
       "2017    2892\n",
       "2018    1278\n",
       "2015     581\n",
       "2014     519\n",
       "2012     514\n",
       "2013     495\n",
       "2016     493\n",
       "2011     386\n",
       "2009     349\n",
       "2010     325\n",
       "2007     310\n",
       "2008     276\n",
       "2005     225\n",
       "2006     190\n",
       "Name: ANIO, dtype: int64"
      ]
     },
     "execution_count": 104,
     "metadata": {},
     "output_type": "execute_result"
    }
   ],
   "source": [
    "metro[metro.PAIS == 'brasil'].ANIO.value_counts()"
   ]
  },
  {
   "cell_type": "code",
   "execution_count": 105,
   "metadata": {
    "scrolled": true
   },
   "outputs": [
    {
     "data": {
      "text/plain": [
       "quilicura              11494\n",
       "estacion central        8365\n",
       "santiago                6158\n",
       "san bernardo            5883\n",
       "melipilla               4793\n",
       "recoleta                3933\n",
       "pedro aguirre cerda     3655\n",
       "lo espejo               3561\n",
       "independencia           2940\n",
       "cerro navia             2600\n",
       "maipu                   2161\n",
       "quinta normal           2034\n",
       "conchali                2006\n",
       "lampa                   1640\n",
       "el bosque               1590\n",
       "colina                  1582\n",
       "renca                   1540\n",
       "la cisterna             1479\n",
       "la florida              1460\n",
       "paine                   1400\n",
       "san ramon               1318\n",
       "pudahuel                1284\n",
       "cerrillos               1122\n",
       "la pintana              1084\n",
       "lo prado                1035\n",
       "la granja               1025\n",
       "san joaquin              916\n",
       "san miguel               902\n",
       "puente alto              803\n",
       "penalolen                763\n",
       "buin                     669\n",
       "padre hurtado            541\n",
       "talagante                539\n",
       "huechuraba               520\n",
       "macul                    453\n",
       "la reina                 419\n",
       "curacavi                 365\n",
       "alhue                    288\n",
       "calera de tango          229\n",
       "penaflor                 218\n",
       "san pedro                184\n",
       "maria pinto              183\n",
       "nunoa                    164\n",
       "isla de maipo            158\n",
       "el monte                 155\n",
       "tiltil                   145\n",
       "san jose de maipo        142\n",
       "providencia              136\n",
       "las condes               102\n",
       "lo barnechea              88\n",
       "pirque                    52\n",
       "vitacura                  13\n",
       "Name: COMUNA, dtype: int64"
      ]
     },
     "execution_count": 105,
     "metadata": {},
     "output_type": "execute_result"
    }
   ],
   "source": [
    "metro[metro.PAIS == 'haiti'].COMUNA.value_counts()"
   ]
  },
  {
   "cell_type": "code",
   "execution_count": 106,
   "metadata": {},
   "outputs": [
    {
     "data": {
      "text/plain": [
       "2017    42961\n",
       "2018    37039\n",
       "2016     3594\n",
       "2015     1151\n",
       "2014      741\n",
       "2013      288\n",
       "2011      226\n",
       "2012      138\n",
       "2009       56\n",
       "2010       49\n",
       "2008       40\n",
       "2007        5\n",
       "2006        1\n",
       "Name: ANIO, dtype: int64"
      ]
     },
     "execution_count": 106,
     "metadata": {},
     "output_type": "execute_result"
    }
   ],
   "source": [
    "metro[metro.PAIS == 'haiti'].ANIO.value_counts()"
   ]
  },
  {
   "cell_type": "code",
   "execution_count": 107,
   "metadata": {
    "scrolled": true
   },
   "outputs": [
    {
     "data": {
      "text/plain": [
       "santiago               61777\n",
       "independencia           9422\n",
       "nunoa                   7829\n",
       "estacion central        6465\n",
       "las condes              4638\n",
       "san miguel              4068\n",
       "providencia             3544\n",
       "la florida              3510\n",
       "quinta normal           3189\n",
       "macul                   2419\n",
       "puente alto             2025\n",
       "recoleta                1971\n",
       "maipu                   1832\n",
       "la cisterna             1489\n",
       "san bernardo            1451\n",
       "quilicura               1202\n",
       "san joaquin             1188\n",
       "penalolen                954\n",
       "huechuraba               855\n",
       "pudahuel                 771\n",
       "colina                   769\n",
       "lampa                    642\n",
       "conchali                 573\n",
       "la reina                 516\n",
       "lo barnechea             513\n",
       "melipilla                483\n",
       "lo prado                 472\n",
       "cerrillos                432\n",
       "renca                    413\n",
       "vitacura                 406\n",
       "buin                     367\n",
       "el bosque                353\n",
       "padre hurtado            328\n",
       "penaflor                 310\n",
       "cerro navia              308\n",
       "la granja                279\n",
       "talagante                238\n",
       "pedro aguirre cerda      220\n",
       "san ramon                207\n",
       "la pintana               164\n",
       "paine                    141\n",
       "lo espejo                129\n",
       "tiltil                    75\n",
       "isla de maipo             69\n",
       "el monte                  54\n",
       "curacavi                  53\n",
       "san jose de maipo         42\n",
       "pirque                    40\n",
       "calera de tango           29\n",
       "alhue                     19\n",
       "san pedro                  3\n",
       "maria pinto                2\n",
       "Name: COMUNA, dtype: int64"
      ]
     },
     "execution_count": 107,
     "metadata": {},
     "output_type": "execute_result"
    }
   ],
   "source": [
    "metro[metro.PAIS == 'venezuela'].COMUNA.value_counts()"
   ]
  },
  {
   "cell_type": "code",
   "execution_count": 108,
   "metadata": {},
   "outputs": [
    {
     "data": {
      "text/plain": [
       "2017    68294\n",
       "2018    53573\n",
       "2016     3272\n",
       "2015     1128\n",
       "2014      587\n",
       "2013      467\n",
       "2012      437\n",
       "2011      313\n",
       "2010      297\n",
       "2009      290\n",
       "2008      161\n",
       "2005      151\n",
       "2006      150\n",
       "2007      128\n",
       "Name: ANIO, dtype: int64"
      ]
     },
     "execution_count": 108,
     "metadata": {},
     "output_type": "execute_result"
    }
   ],
   "source": [
    "metro[metro.PAIS == 'venezuela'].ANIO.value_counts()"
   ]
  },
  {
   "cell_type": "code",
   "execution_count": 109,
   "metadata": {},
   "outputs": [
    {
     "data": {
      "text/plain": [
       "2017    49283\n",
       "2009    21816\n",
       "2018    20844\n",
       "2016    10487\n",
       "2015     8621\n",
       "2012     8071\n",
       "2014     7527\n",
       "2013     6813\n",
       "2008     6071\n",
       "2011     5736\n",
       "2010     5726\n",
       "2007     5301\n",
       "2005     3758\n",
       "2006     3386\n",
       "Name: ANIO, dtype: int64"
      ]
     },
     "execution_count": 109,
     "metadata": {},
     "output_type": "execute_result"
    }
   ],
   "source": [
    "metro[metro.PAIS == 'peru'].ANIO.value_counts()"
   ]
  },
  {
   "cell_type": "code",
   "execution_count": 110,
   "metadata": {},
   "outputs": [
    {
     "data": {
      "text/plain": [
       "2017    4677\n",
       "2018    1783\n",
       "2015    1574\n",
       "2016    1393\n",
       "2005    1369\n",
       "2014    1307\n",
       "2006    1256\n",
       "2007    1166\n",
       "2012    1140\n",
       "2013    1037\n",
       "2008     981\n",
       "2009     941\n",
       "2011     874\n",
       "2010     861\n",
       "Name: ANIO, dtype: int64"
      ]
     },
     "execution_count": 110,
     "metadata": {},
     "output_type": "execute_result"
    }
   ],
   "source": [
    "metro[metro.PAIS == 'argentina'].ANIO.value_counts()"
   ]
  },
  {
   "cell_type": "code",
   "execution_count": 111,
   "metadata": {},
   "outputs": [
    {
     "data": {
      "image/png": "[encoded data removed]",
      "text/plain": [
       "<matplotlib.figure.Figure at 0x1a2c990908>"
      ]
     },
     "metadata": {
      "needs_background": "light"
     },
     "output_type": "display_data"
    }
   ],
   "source": [
    "sns.countplot(y=metro['SEXO'])\n",
    "sns.despine()"
   ]
  },
  {
   "cell_type": "code",
   "execution_count": 112,
   "metadata": {},
   "outputs": [
    {
     "data": {
      "image/png": "[encoded data removed]",
      "text/plain": [
       "<matplotlib.figure.Figure at 0x1a2c969550>"
      ]
     },
     "metadata": {
      "needs_background": "light"
     },
     "output_type": "display_data"
    }
   ],
   "source": [
    "sns.countplot(y=metro['ACTIVIDAD'])\n",
    "sns.despine()"
   ]
  },
  {
   "cell_type": "code",
   "execution_count": 113,
   "metadata": {},
   "outputs": [
    {
     "data": {
      "text/plain": [
       "empleado             75403\n",
       "estudiante           59121\n",
       "asesora del hogar    55115\n",
       "menor de edad        33376\n",
       "duena de casa        27646\n",
       "ingeniero            20895\n",
       "ayudante             18905\n",
       "vendedor             18617\n",
       "jornalero            17096\n",
       "aseador              11498\n",
       "Name: PROFESION, dtype: int64"
      ]
     },
     "execution_count": 113,
     "metadata": {},
     "output_type": "execute_result"
    }
   ],
   "source": [
    "top_profesion = metro.PROFESION.value_counts()[0:10]\n",
    "top_profesion"
   ]
  },
  {
   "cell_type": "code",
   "execution_count": 114,
   "metadata": {},
   "outputs": [
    {
     "data": {
      "image/png": "[encoded data removed]",
      "text/plain": [
       "<matplotlib.figure.Figure at 0x1a2c969a20>"
      ]
     },
     "metadata": {
      "needs_background": "light"
     },
     "output_type": "display_data"
    }
   ],
   "source": [
    "sns.countplot(y=metro['ESTUDIOS'], color='grey')\n",
    "sns.despine()"
   ]
  },
  {
   "cell_type": "code",
   "execution_count": 115,
   "metadata": {},
   "outputs": [
    {
     "data": {
      "image/png": "[encoded data removed]",
      "text/plain": [
       "<matplotlib.figure.Figure at 0x1a202344e0>"
      ]
     },
     "metadata": {
      "needs_background": "light"
     },
     "output_type": "display_data"
    }
   ],
   "source": [
    "sns.countplot(y=metro['ANIO'])\n",
    "sns.despine()"
   ]
  },
  {
   "cell_type": "code",
   "execution_count": 116,
   "metadata": {},
   "outputs": [
    {
     "data": {
      "text/plain": [
       "peru                       163440\n",
       "venezuela                  129248\n",
       "haiti                       86289\n",
       "colombia                    72365\n",
       "argentina                   20359\n",
       "bolivia                     18707\n",
       "ecuador                     18675\n",
       "espana                      10253\n",
       "china republica popular      9703\n",
       "brasil                       8833\n",
       "Name: PAIS, dtype: int64"
      ]
     },
     "execution_count": 116,
     "metadata": {},
     "output_type": "execute_result"
    }
   ],
   "source": [
    "top_paises = metro.PAIS.value_counts()[0:10]\n",
    "top_paises"
   ]
  },
  {
   "cell_type": "code",
   "execution_count": 117,
   "metadata": {},
   "outputs": [
    {
     "data": {
      "text/plain": [
       "537872"
      ]
     },
     "execution_count": 117,
     "metadata": {},
     "output_type": "execute_result"
    }
   ],
   "source": [
    "TOP_PAISES_POP_RM = top_paises.sum()\n",
    "TOP_PAISES_POP_RM"
   ]
  },
  {
   "cell_type": "code",
   "execution_count": 119,
   "metadata": {},
   "outputs": [
    {
     "data": {
      "text/plain": [
       "589106"
      ]
     },
     "execution_count": 119,
     "metadata": {},
     "output_type": "execute_result"
    }
   ],
   "source": [
    "TOT_INM_RM = metro.PAIS.value_counts().sum()\n",
    "TOT_INM_RM"
   ]
  },
  {
   "cell_type": "code",
   "execution_count": 120,
   "metadata": {
    "scrolled": true
   },
   "outputs": [
    {
     "name": "stdout",
     "output_type": "stream",
     "text": [
      "Total de Inmigrantes 589106\n",
      "Total de Inmigrantes dos Top10: 537872, que es 91.0% del total\n"
     ]
    }
   ],
   "source": [
    "print(\"Total de Inmigrantes\", TOT_INM_RM)\n",
    "print(\"Total de Inmigrantes dos Top10: {}, que es {}% del total\".format(TOP_PAISES_POP_RM, round((TOP_PAISES_POP_RM/TOT_INM_RM)*100, 0)))"
   ]
  },
  {
   "cell_type": "code",
   "execution_count": 122,
   "metadata": {},
   "outputs": [
    {
     "data": {
      "text/plain": [
       "santiago            162325\n",
       "las condes           38888\n",
       "independencia        37783\n",
       "estacion central     30937\n",
       "recoleta             29155\n",
       "providencia          21176\n",
       "nunoa                19523\n",
       "quilicura            18449\n",
       "quinta normal        15685\n",
       "la florida           14020\n",
       "Name: COMUNA, dtype: int64"
      ]
     },
     "execution_count": 122,
     "metadata": {},
     "output_type": "execute_result"
    }
   ],
   "source": [
    "top_comunas = metro.COMUNA.value_counts()[0:10]\n",
    "top_comunas"
   ]
  },
  {
   "cell_type": "code",
   "execution_count": 123,
   "metadata": {
    "scrolled": true
   },
   "outputs": [
    {
     "name": "stdout",
     "output_type": "stream",
     "text": [
      "Total de Inmigrantes dos Top10 comunas: 387941, que es 66.0% del total\n"
     ]
    }
   ],
   "source": [
    "TOP_COM_POP = top_comunas.sum()\n",
    "print(\"Total de Inmigrantes dos Top10 comunas: {}, que es {}% del total\".format(TOP_COM_POP, round((TOP_COM_POP/TOT_INM_RM)*100, 0)))"
   ]
  },
  {
   "cell_type": "code",
   "execution_count": null,
   "metadata": {},
   "outputs": [],
   "source": []
  }
 ],
 "metadata": {
  "colab": {
   "name": "Tutorial - EDA.ipynb",
   "provenance": [],
   "version": "0.3.2"
  },
  "kernelspec": {
   "display_name": "Python 3",
   "language": "python",
   "name": "python3"
  },
  "language_info": {
   "codemirror_mode": {
    "name": "ipython",
    "version": 3
   },
   "file_extension": ".py",
   "mimetype": "text/x-python",
   "name": "python",
   "nbconvert_exporter": "python",
   "pygments_lexer": "ipython3",
   "version": "3.6.4"
  }
 },
 "nbformat": 4,
 "nbformat_minor": 1
}
