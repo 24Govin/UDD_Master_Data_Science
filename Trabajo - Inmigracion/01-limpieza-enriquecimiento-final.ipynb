{
 "cells": [
  {
   "cell_type": "markdown",
   "metadata": {
    "colab_type": "text",
    "id": "acxmVRM0vimw"
   },
   "source": [
    "# 01 - Limpieza y enriquecimiento de datos\n",
    "## Trabajo MDS-2oTrim. ==> Inmigracion en Chile\n",
    "\n",
    "**Profesora:** Donoso I.<br>\n",
    "**Alumnos:** Briceno, H.; Rovai, M.; Tessada G.\n",
    "<p>Santiago, 06 de Noviembre 2018"
   ]
  },
  {
   "cell_type": "markdown",
   "metadata": {},
   "source": [
    "<p><img src=\"./images/01_limp_data.png\"></p>"
   ]
  },
  {
   "cell_type": "markdown",
   "metadata": {},
   "source": [
    "---\n",
    "## Pregunta:\n",
    "### En cuales comunas se concentran los inmigrantes que llegaron a la Región Metropolitana? Quien son? Como són? Y los nuevos, donde viverán?\n",
    "---"
   ]
  },
  {
   "cell_type": "markdown",
   "metadata": {
    "colab_type": "text",
    "id": "kGypOlx8vim0"
   },
   "source": [
    "## 1. Importar el dataset"
   ]
  },
  {
   "cell_type": "markdown",
   "metadata": {
    "colab_type": "text",
    "id": "3idgtF7Gvim1"
   },
   "source": [
    "Para la generación del dataset del proyecto, vamos a usar datos de la base de datos del [Departamento de Extranjeria y Migracion de Chile](http://www.extranjeria.gob.cl/estadisticas-migratorias/). "
   ]
  },
  {
   "cell_type": "markdown",
   "metadata": {
    "colab": {},
    "colab_type": "code",
    "id": "cgxDYMypvim2"
   },
   "source": [
    "El Departamanto de Extranjeria y Migracion de Chile, aclara que si bien las bases se presentan de manera separada por tratarse de distintos tipos de permiso, ellas no constituyen universos distintos de inmigrantes. Un inmigrante en Chile para obtener una permanencia definitiva DEBE haber obtenido con anterioridad una visa, por lo que las bases de permanencias definitivas se conforman de personas que están contabilizadas en las visas. <br>\n",
    "<br>Así, para una mejor lectura de los datos haremos una distinción en términos de migración transitoria y migración permanente. Se considerará que las visas corresponden a migración transitoria, pues los permisos duran entre uno y dos años. Las personas que sean titulares de una visa, para quedarse por un plazo mayor a dos años, deben solicitar un permiso de permanencia definitiva, de otra manera deben abandonar el país.<br>\n",
    "- En este trabajo nos enfocaremos en la MIGRACIÓN DEFINITIVA, que están relacionadas a las Permisos de Residencia Definitiva y desean convivir en Chile para desarrollarse.\n",
    "- Y se complementará esa información con la migración reciente, es decir, las visas otorgadas los dos últimos años (2017/2018)."
   ]
  },
  {
   "cell_type": "markdown",
   "metadata": {},
   "source": [
    "**Información Registrada**<br>\n",
    "Las planillas de permisos migratorios contienen los siguientes datos, los cuales son extraídos de los formularios establecidos para solicitar residencia, disponibles en la página web del Departamento de Extranjería y Migración:\n",
    "- Sexo\n",
    "- Fecha de nacimiento\n",
    "- Actividad (*): refiere a la actividad que el extranjero declara realizar en nuestro país. \n",
    "- Profesión (*): refiere a la profesión que el extranjero declara al momento de realizar su solicitud.\n",
    "- País\n",
    "- Estudios (*): refiere al nivel de estudios que el migrante declara al momento de realizar su solicitud. \n",
    "- Comuna (*):corresponde a la comuna de residencia que declara el inmigrante al momento de realizar su solicitud y no da cuenta necesariamente de la actual residencia del extranjero\n",
    "- Provincia (*): corresponde a la provincia de residencia que declara el inmigrante al momento de realizar su solicitud y no da cuenta necesariamente de la actual residencia del extranjero\n",
    "- Región (*): corresponde a la región de residencia que declara el inmigrante al momento de realizar su solicitud y no da cuenta necesariamente de la actual residencia del extranjero\n",
    "- Tit – Dep: se refiere a la categoría TITULAR del permiso migratorio otorgado o DEPENDIENTE en el caso que el permiso es otorgado a un familiar directo, y el dependiente lo acompaña en su residencia en Chile.\n",
    "- Año: se refiere al año en que se otorga el permiso migratorio\n",
    "- Beneficio: referido al permiso de residencia otorgado (tipo de visa según categoría legal: estudiante, sujeta a contrato, temporaria)\n",
    "\n",
    "(*) Se trata de una variable con moderada tasa de registro, por lo que se sugiere utilizar con cautela la información que ella arroja. Ademas, por tratarse de información autodeclarada no se presentan medios de verificación"
   ]
  },
  {
   "cell_type": "markdown",
   "metadata": {},
   "source": [
    "#### NOTA:\n",
    "Hasta el presente momento, el INE no entrega datos detallados del Censo 2017 en lo que corresponde a los extranjeros (dados públicos són consolidados por manzanas y no por casas (\"households\"). por esto, se optó por trabajar con los datos del IME. Así, es importnate apuntar, que los numeros finales no són una fotografia de los inmigrantes en Chile, pero una muy buena representación y tendencias. Además, en un análisis adicional, se puede confirmar que el dataset generado, al menos en termino de cantidad de extrajeros por comunas, tiene un alto grade de correlación con los datos del Censo 2017, esta correlacion es un indicio bastante fuerte de que los resultados encontrados en el dataset final son bastante confiables. \n",
    "\n",
    "---"
   ]
  },
  {
   "cell_type": "markdown",
   "metadata": {},
   "source": [
    "**Importación de las principales librerias y setup inicial para las gráficas**"
   ]
  },
  {
   "cell_type": "code",
   "execution_count": 108,
   "metadata": {
    "colab": {},
    "colab_type": "code",
    "id": "ClmIINxGvimx"
   },
   "outputs": [],
   "source": [
    "import pandas as pd\n",
    "import numpy as np\n",
    "import seaborn as sns\n",
    "import matplotlib.pyplot as plt\n",
    "%matplotlib inline  \n",
    "\n",
    "sns.set(style=\"whitegrid\", palette=\"pastel\", color_codes=True)\n",
    "sns.mpl.rc(\"figure\", figsize=(12,6))\n",
    "\n",
    "import warnings\n",
    "warnings.filterwarnings(\"ignore\")"
   ]
  },
  {
   "cell_type": "code",
   "execution_count": 2,
   "metadata": {},
   "outputs": [
    {
     "name": "stdout",
     "output_type": "stream",
     "text": [
      "01_extranjeros_rm.xlsx                 PDs_2018_1.xlsx\r\n",
      "CENSO_2017_COMUNAS_RM.xlsx             Visas-2017.xlsx\r\n",
      "\u001b[34mComunas_RM_Mapas_Vectoriales\u001b[m\u001b[m/          Visas-2018_1.xlsx\r\n",
      "ML_extranjeros_rm.xlsx                 censo_2017_RM.xlsx\r\n",
      "PDs-2005-2016.xlsx                     censo_2017_inmigrantes_rm_comuna.xlsx\r\n",
      "PDs-2017.xlsx\r\n"
     ]
    }
   ],
   "source": [
    "ls ./data"
   ]
  },
  {
   "cell_type": "markdown",
   "metadata": {},
   "source": [
    "`Los datos se distribuir en 5 datasets, los cuales deben ser leídos y concatenados en un único conjunto de datos.` "
   ]
  },
  {
   "cell_type": "code",
   "execution_count": 3,
   "metadata": {
    "colab": {},
    "colab_type": "code",
    "id": "lOaTPEgSvim7"
   },
   "outputs": [
    {
     "data": {
      "text/plain": [
       "(324932, 12)"
      ]
     },
     "execution_count": 3,
     "metadata": {},
     "output_type": "execute_result"
    }
   ],
   "source": [
    "df1 = pd.read_excel('./data/PDs-2005-2016.xlsx')\n",
    "df1.shape"
   ]
  },
  {
   "cell_type": "code",
   "execution_count": 4,
   "metadata": {},
   "outputs": [
    {
     "data": {
      "text/html": [
       "<div>\n",
       "<style scoped>\n",
       "    .dataframe tbody tr th:only-of-type {\n",
       "        vertical-align: middle;\n",
       "    }\n",
       "\n",
       "    .dataframe tbody tr th {\n",
       "        vertical-align: top;\n",
       "    }\n",
       "\n",
       "    .dataframe thead th {\n",
       "        text-align: right;\n",
       "    }\n",
       "</style>\n",
       "<table border=\"1\" class=\"dataframe\">\n",
       "  <thead>\n",
       "    <tr style=\"text-align: right;\">\n",
       "      <th></th>\n",
       "      <th>SEXO</th>\n",
       "      <th>NACIMIENTO</th>\n",
       "      <th>ACTIVIDAD</th>\n",
       "      <th>PROFESION</th>\n",
       "      <th>PAIS</th>\n",
       "      <th>ESTUDIOS</th>\n",
       "      <th>COMUNA</th>\n",
       "      <th>PROVINCIA</th>\n",
       "      <th>REGION</th>\n",
       "      <th>TIT_DEP</th>\n",
       "      <th>AÑO</th>\n",
       "      <th>BENEFICIO</th>\n",
       "    </tr>\n",
       "  </thead>\n",
       "  <tbody>\n",
       "    <tr>\n",
       "      <th>0</th>\n",
       "      <td>Femenino</td>\n",
       "      <td>1974-10-05</td>\n",
       "      <td>EMPLEADO</td>\n",
       "      <td>MATRONA</td>\n",
       "      <td>PERÚ</td>\n",
       "      <td>no indica</td>\n",
       "      <td>SANTIAGO</td>\n",
       "      <td>SANTIAGO</td>\n",
       "      <td>METROPOLITANA</td>\n",
       "      <td>T</td>\n",
       "      <td>2006</td>\n",
       "      <td>PERMANENCIA DEFINITIVA</td>\n",
       "    </tr>\n",
       "    <tr>\n",
       "      <th>1</th>\n",
       "      <td>Masculino</td>\n",
       "      <td>1949-09-13</td>\n",
       "      <td>EMPLEADO</td>\n",
       "      <td>INGENIERO</td>\n",
       "      <td>ECUADOR</td>\n",
       "      <td>no indica</td>\n",
       "      <td>PROVIDENCIA</td>\n",
       "      <td>SANTIAGO</td>\n",
       "      <td>METROPOLITANA</td>\n",
       "      <td>T</td>\n",
       "      <td>2007</td>\n",
       "      <td>PERMANENCIA DEFINITIVA</td>\n",
       "    </tr>\n",
       "  </tbody>\n",
       "</table>\n",
       "</div>"
      ],
      "text/plain": [
       "        SEXO NACIMIENTO ACTIVIDAD  PROFESION     PAIS   ESTUDIOS       COMUNA  \\\n",
       "0   Femenino 1974-10-05  EMPLEADO    MATRONA     PERÚ  no indica     SANTIAGO   \n",
       "1  Masculino 1949-09-13  EMPLEADO  INGENIERO  ECUADOR  no indica  PROVIDENCIA   \n",
       "\n",
       "  PROVINCIA         REGION TIT_DEP   AÑO               BENEFICIO  \n",
       "0  SANTIAGO  METROPOLITANA       T  2006  PERMANENCIA DEFINITIVA  \n",
       "1  SANTIAGO  METROPOLITANA       T  2007  PERMANENCIA DEFINITIVA  "
      ]
     },
     "execution_count": 4,
     "metadata": {},
     "output_type": "execute_result"
    }
   ],
   "source": [
    "df1.head(2)"
   ]
  },
  {
   "cell_type": "code",
   "execution_count": 5,
   "metadata": {
    "colab": {},
    "colab_type": "code",
    "id": "lOaTPEgSvim7"
   },
   "outputs": [
    {
     "data": {
      "text/plain": [
       "(87757, 12)"
      ]
     },
     "execution_count": 5,
     "metadata": {},
     "output_type": "execute_result"
    }
   ],
   "source": [
    "df2 = pd.read_excel('./data/PDs-2017.xlsx')\n",
    "df2.shape"
   ]
  },
  {
   "cell_type": "code",
   "execution_count": 6,
   "metadata": {},
   "outputs": [
    {
     "data": {
      "text/html": [
       "<div>\n",
       "<style scoped>\n",
       "    .dataframe tbody tr th:only-of-type {\n",
       "        vertical-align: middle;\n",
       "    }\n",
       "\n",
       "    .dataframe tbody tr th {\n",
       "        vertical-align: top;\n",
       "    }\n",
       "\n",
       "    .dataframe thead th {\n",
       "        text-align: right;\n",
       "    }\n",
       "</style>\n",
       "<table border=\"1\" class=\"dataframe\">\n",
       "  <thead>\n",
       "    <tr style=\"text-align: right;\">\n",
       "      <th></th>\n",
       "      <th>SEXO</th>\n",
       "      <th>NACIMIENTO</th>\n",
       "      <th>ACTIVIDAD</th>\n",
       "      <th>PROFESION</th>\n",
       "      <th>PAIS</th>\n",
       "      <th>ESTUDIOS</th>\n",
       "      <th>COMUNA</th>\n",
       "      <th>PROVINCIA</th>\n",
       "      <th>REGION</th>\n",
       "      <th>TIT_DEP</th>\n",
       "      <th>AÑO</th>\n",
       "      <th>BENEFICIO</th>\n",
       "    </tr>\n",
       "  </thead>\n",
       "  <tbody>\n",
       "    <tr>\n",
       "      <th>0</th>\n",
       "      <td>femenino</td>\n",
       "      <td>1992-06-23</td>\n",
       "      <td>EMPLEADO</td>\n",
       "      <td>LICENCIADO</td>\n",
       "      <td>ECUADOR</td>\n",
       "      <td>UNIVERSITARIO</td>\n",
       "      <td>HUECHURABA</td>\n",
       "      <td>SANTIAGO</td>\n",
       "      <td>METROPOLITANA</td>\n",
       "      <td>T</td>\n",
       "      <td>2017</td>\n",
       "      <td>PERMANENCIA DEFINITIVA</td>\n",
       "    </tr>\n",
       "    <tr>\n",
       "      <th>1</th>\n",
       "      <td>masculino</td>\n",
       "      <td>1965-01-01</td>\n",
       "      <td>EMPRESARIO O PATRON</td>\n",
       "      <td>EMPRESARIO O PATRON</td>\n",
       "      <td>CHINA REPUBLICA POPULAR</td>\n",
       "      <td>UNIVERSITARIO</td>\n",
       "      <td>SAN FERNANDO</td>\n",
       "      <td>COLCHAGUA</td>\n",
       "      <td>O'HIGGINS</td>\n",
       "      <td>T</td>\n",
       "      <td>2017</td>\n",
       "      <td>PERMANENCIA DEFINITIVA</td>\n",
       "    </tr>\n",
       "  </tbody>\n",
       "</table>\n",
       "</div>"
      ],
      "text/plain": [
       "        SEXO NACIMIENTO            ACTIVIDAD            PROFESION  \\\n",
       "0   femenino 1992-06-23             EMPLEADO           LICENCIADO   \n",
       "1  masculino 1965-01-01  EMPRESARIO O PATRON  EMPRESARIO O PATRON   \n",
       "\n",
       "                      PAIS       ESTUDIOS        COMUNA  PROVINCIA  \\\n",
       "0                  ECUADOR  UNIVERSITARIO    HUECHURABA   SANTIAGO   \n",
       "1  CHINA REPUBLICA POPULAR  UNIVERSITARIO  SAN FERNANDO  COLCHAGUA   \n",
       "\n",
       "          REGION TIT_DEP   AÑO               BENEFICIO  \n",
       "0  METROPOLITANA       T  2017  PERMANENCIA DEFINITIVA  \n",
       "1      O'HIGGINS       T  2017  PERMANENCIA DEFINITIVA  "
      ]
     },
     "execution_count": 6,
     "metadata": {},
     "output_type": "execute_result"
    }
   ],
   "source": [
    "df2.head(2)"
   ]
  },
  {
   "cell_type": "code",
   "execution_count": 7,
   "metadata": {
    "colab": {},
    "colab_type": "code",
    "id": "lOaTPEgSvim7"
   },
   "outputs": [
    {
     "data": {
      "text/plain": [
       "(48208, 12)"
      ]
     },
     "execution_count": 7,
     "metadata": {},
     "output_type": "execute_result"
    }
   ],
   "source": [
    "df3 = pd.read_excel('./data/PDs_2018_1.xlsx')\n",
    "df3.shape"
   ]
  },
  {
   "cell_type": "code",
   "execution_count": 8,
   "metadata": {},
   "outputs": [
    {
     "data": {
      "text/html": [
       "<div>\n",
       "<style scoped>\n",
       "    .dataframe tbody tr th:only-of-type {\n",
       "        vertical-align: middle;\n",
       "    }\n",
       "\n",
       "    .dataframe tbody tr th {\n",
       "        vertical-align: top;\n",
       "    }\n",
       "\n",
       "    .dataframe thead th {\n",
       "        text-align: right;\n",
       "    }\n",
       "</style>\n",
       "<table border=\"1\" class=\"dataframe\">\n",
       "  <thead>\n",
       "    <tr style=\"text-align: right;\">\n",
       "      <th></th>\n",
       "      <th>SEXO</th>\n",
       "      <th>FECH-NAC</th>\n",
       "      <th>ACTIVIDAD</th>\n",
       "      <th>PROFESION</th>\n",
       "      <th>PAIS</th>\n",
       "      <th>ESTUDIOS</th>\n",
       "      <th>COMUNA</th>\n",
       "      <th>PROVINCIA</th>\n",
       "      <th>REGION</th>\n",
       "      <th>TIT_DEP</th>\n",
       "      <th>AÑO</th>\n",
       "      <th>BENEFICIO</th>\n",
       "    </tr>\n",
       "  </thead>\n",
       "  <tbody>\n",
       "    <tr>\n",
       "      <th>0</th>\n",
       "      <td>masculino</td>\n",
       "      <td>1985-08-01</td>\n",
       "      <td>EMPLEADO</td>\n",
       "      <td>MENSAJERO</td>\n",
       "      <td>PERÚ</td>\n",
       "      <td>NO INFORMA</td>\n",
       "      <td>RECOLETA</td>\n",
       "      <td>SANTIAGO</td>\n",
       "      <td>REGION METROPOLITANA DE SANTIAGO</td>\n",
       "      <td>T</td>\n",
       "      <td>2018</td>\n",
       "      <td>OTORGA PERMANENCIA DEFINITIVA</td>\n",
       "    </tr>\n",
       "    <tr>\n",
       "      <th>1</th>\n",
       "      <td>masculino</td>\n",
       "      <td>2001-11-01</td>\n",
       "      <td>ESTUDIANTE</td>\n",
       "      <td>ESTUDIANTE</td>\n",
       "      <td>COLOMBIA</td>\n",
       "      <td>BASICO</td>\n",
       "      <td>INDEPENDENCIA</td>\n",
       "      <td>SANTIAGO</td>\n",
       "      <td>REGION METROPOLITANA DE SANTIAGO</td>\n",
       "      <td>D</td>\n",
       "      <td>2018</td>\n",
       "      <td>OTORGA PERMANENCIA DEFINITIVA</td>\n",
       "    </tr>\n",
       "  </tbody>\n",
       "</table>\n",
       "</div>"
      ],
      "text/plain": [
       "        SEXO   FECH-NAC   ACTIVIDAD   PROFESION      PAIS    ESTUDIOS  \\\n",
       "0  masculino 1985-08-01    EMPLEADO   MENSAJERO      PERÚ  NO INFORMA   \n",
       "1  masculino 2001-11-01  ESTUDIANTE  ESTUDIANTE  COLOMBIA      BASICO   \n",
       "\n",
       "          COMUNA PROVINCIA                            REGION TIT_DEP   AÑO  \\\n",
       "0       RECOLETA  SANTIAGO  REGION METROPOLITANA DE SANTIAGO       T  2018   \n",
       "1  INDEPENDENCIA  SANTIAGO  REGION METROPOLITANA DE SANTIAGO       D  2018   \n",
       "\n",
       "                       BENEFICIO  \n",
       "0  OTORGA PERMANENCIA DEFINITIVA  \n",
       "1  OTORGA PERMANENCIA DEFINITIVA  "
      ]
     },
     "execution_count": 8,
     "metadata": {},
     "output_type": "execute_result"
    }
   ],
   "source": [
    "df3.head(2)"
   ]
  },
  {
   "cell_type": "code",
   "execution_count": 9,
   "metadata": {
    "colab": {},
    "colab_type": "code",
    "id": "lOaTPEgSvim7"
   },
   "outputs": [
    {
     "data": {
      "text/plain": [
       "(267596, 12)"
      ]
     },
     "execution_count": 9,
     "metadata": {},
     "output_type": "execute_result"
    }
   ],
   "source": [
    "df4 = pd.read_excel('./data/Visas-2017.xlsx')\n",
    "df4.shape"
   ]
  },
  {
   "cell_type": "code",
   "execution_count": 10,
   "metadata": {},
   "outputs": [
    {
     "data": {
      "text/html": [
       "<div>\n",
       "<style scoped>\n",
       "    .dataframe tbody tr th:only-of-type {\n",
       "        vertical-align: middle;\n",
       "    }\n",
       "\n",
       "    .dataframe tbody tr th {\n",
       "        vertical-align: top;\n",
       "    }\n",
       "\n",
       "    .dataframe thead th {\n",
       "        text-align: right;\n",
       "    }\n",
       "</style>\n",
       "<table border=\"1\" class=\"dataframe\">\n",
       "  <thead>\n",
       "    <tr style=\"text-align: right;\">\n",
       "      <th></th>\n",
       "      <th>SEXO</th>\n",
       "      <th>FECH-NAC</th>\n",
       "      <th>ACTIVIDAD</th>\n",
       "      <th>PROFESION</th>\n",
       "      <th>PAIS</th>\n",
       "      <th>ESTUDIOS</th>\n",
       "      <th>COMUNA</th>\n",
       "      <th>PROVINCIA</th>\n",
       "      <th>REGION</th>\n",
       "      <th>TIT_DEP</th>\n",
       "      <th>AÑO</th>\n",
       "      <th>BENEFICIO RESUMIDO</th>\n",
       "    </tr>\n",
       "  </thead>\n",
       "  <tbody>\n",
       "    <tr>\n",
       "      <th>0</th>\n",
       "      <td>masculino</td>\n",
       "      <td>1962-01-24</td>\n",
       "      <td>OTRAS ACTIVIDADES</td>\n",
       "      <td>GEOFISICO</td>\n",
       "      <td>ESTADOS UNIDOS</td>\n",
       "      <td>UNIVERSITARIO</td>\n",
       "      <td>SANTIAGO</td>\n",
       "      <td>SANTIAGO</td>\n",
       "      <td>METROPOLITANA</td>\n",
       "      <td>T</td>\n",
       "      <td>2017</td>\n",
       "      <td>TEMPORARIA</td>\n",
       "    </tr>\n",
       "    <tr>\n",
       "      <th>1</th>\n",
       "      <td>masculino</td>\n",
       "      <td>1973-01-04</td>\n",
       "      <td>EMPLEADO</td>\n",
       "      <td>INGENIERO</td>\n",
       "      <td>BOLIVIA</td>\n",
       "      <td>NO INFORMA</td>\n",
       "      <td>LAS CONDES</td>\n",
       "      <td>SANTIAGO</td>\n",
       "      <td>METROPOLITANA</td>\n",
       "      <td>T</td>\n",
       "      <td>2017</td>\n",
       "      <td>TEMPORARIA</td>\n",
       "    </tr>\n",
       "  </tbody>\n",
       "</table>\n",
       "</div>"
      ],
      "text/plain": [
       "        SEXO   FECH-NAC          ACTIVIDAD  PROFESION            PAIS  \\\n",
       "0  masculino 1962-01-24  OTRAS ACTIVIDADES  GEOFISICO  ESTADOS UNIDOS   \n",
       "1  masculino 1973-01-04           EMPLEADO  INGENIERO         BOLIVIA   \n",
       "\n",
       "        ESTUDIOS      COMUNA PROVINCIA         REGION TIT_DEP   AÑO  \\\n",
       "0  UNIVERSITARIO    SANTIAGO  SANTIAGO  METROPOLITANA       T  2017   \n",
       "1     NO INFORMA  LAS CONDES  SANTIAGO  METROPOLITANA       T  2017   \n",
       "\n",
       "  BENEFICIO RESUMIDO  \n",
       "0         TEMPORARIA  \n",
       "1         TEMPORARIA  "
      ]
     },
     "execution_count": 10,
     "metadata": {},
     "output_type": "execute_result"
    }
   ],
   "source": [
    "df4.head(2)"
   ]
  },
  {
   "cell_type": "code",
   "execution_count": 11,
   "metadata": {
    "colab": {},
    "colab_type": "code",
    "id": "lOaTPEgSvim7"
   },
   "outputs": [
    {
     "data": {
      "text/plain": [
       "(188638, 12)"
      ]
     },
     "execution_count": 11,
     "metadata": {},
     "output_type": "execute_result"
    }
   ],
   "source": [
    "df5 = pd.read_excel('./data/Visas-2018_1.xlsx', sheet_name=1)\n",
    "df5.shape"
   ]
  },
  {
   "cell_type": "code",
   "execution_count": 12,
   "metadata": {},
   "outputs": [
    {
     "data": {
      "text/html": [
       "<div>\n",
       "<style scoped>\n",
       "    .dataframe tbody tr th:only-of-type {\n",
       "        vertical-align: middle;\n",
       "    }\n",
       "\n",
       "    .dataframe tbody tr th {\n",
       "        vertical-align: top;\n",
       "    }\n",
       "\n",
       "    .dataframe thead th {\n",
       "        text-align: right;\n",
       "    }\n",
       "</style>\n",
       "<table border=\"1\" class=\"dataframe\">\n",
       "  <thead>\n",
       "    <tr style=\"text-align: right;\">\n",
       "      <th></th>\n",
       "      <th>SEXO</th>\n",
       "      <th>FECH-NAC</th>\n",
       "      <th>ACTIVIDAD</th>\n",
       "      <th>PROFESION</th>\n",
       "      <th>PAIS</th>\n",
       "      <th>ESTUDIOS</th>\n",
       "      <th>COMUNA</th>\n",
       "      <th>PROVINCIA</th>\n",
       "      <th>REGION</th>\n",
       "      <th>TIT_DEP</th>\n",
       "      <th>AÑO</th>\n",
       "      <th>BENEFICIO RESUMIDO</th>\n",
       "    </tr>\n",
       "  </thead>\n",
       "  <tbody>\n",
       "    <tr>\n",
       "      <th>0</th>\n",
       "      <td>masculino</td>\n",
       "      <td>1993-02-10</td>\n",
       "      <td>INACTIVO</td>\n",
       "      <td>EMPLEADO</td>\n",
       "      <td>ARGENTINA</td>\n",
       "      <td>UNIVERSITARIO</td>\n",
       "      <td>PUCON</td>\n",
       "      <td>CAUTÍN</td>\n",
       "      <td>REGION DE LA ARAUCANIA</td>\n",
       "      <td>T</td>\n",
       "      <td>2018</td>\n",
       "      <td>TEMPORARIA</td>\n",
       "    </tr>\n",
       "    <tr>\n",
       "      <th>1</th>\n",
       "      <td>femenino</td>\n",
       "      <td>1976-01-20</td>\n",
       "      <td>DUEÑA DE CASA</td>\n",
       "      <td>DUEÑA DE CASA</td>\n",
       "      <td>ARGENTINA</td>\n",
       "      <td>no indica</td>\n",
       "      <td>VALDIVIA</td>\n",
       "      <td>VALDIVIA</td>\n",
       "      <td>REGION DE LOS RIOS</td>\n",
       "      <td>T</td>\n",
       "      <td>2018</td>\n",
       "      <td>TEMPORARIA</td>\n",
       "    </tr>\n",
       "  </tbody>\n",
       "</table>\n",
       "</div>"
      ],
      "text/plain": [
       "        SEXO   FECH-NAC      ACTIVIDAD      PROFESION       PAIS  \\\n",
       "0  masculino 1993-02-10       INACTIVO       EMPLEADO  ARGENTINA   \n",
       "1   femenino 1976-01-20  DUEÑA DE CASA  DUEÑA DE CASA  ARGENTINA   \n",
       "\n",
       "        ESTUDIOS    COMUNA PROVINCIA                  REGION TIT_DEP   AÑO  \\\n",
       "0  UNIVERSITARIO     PUCON    CAUTÍN  REGION DE LA ARAUCANIA       T  2018   \n",
       "1      no indica  VALDIVIA  VALDIVIA      REGION DE LOS RIOS       T  2018   \n",
       "\n",
       "  BENEFICIO RESUMIDO  \n",
       "0         TEMPORARIA  \n",
       "1         TEMPORARIA  "
      ]
     },
     "execution_count": 12,
     "metadata": {},
     "output_type": "execute_result"
    }
   ],
   "source": [
    "df5.head(2)"
   ]
  },
  {
   "cell_type": "markdown",
   "metadata": {},
   "source": [
    "`Se observa que todos los datasets tienen las mismas columnas, excepto por los nombres de las columnas \"FECH-NAC\" y 'BENEFICIO RESUMIDO', las cuales tienen que ser cambiadas.`"
   ]
  },
  {
   "cell_type": "code",
   "execution_count": 13,
   "metadata": {},
   "outputs": [],
   "source": [
    "df3.rename(columns = {'FECH-NAC': 'NACIMIENTO'}, inplace=True)\n",
    "df4.rename(columns = {'FECH-NAC': 'NACIMIENTO'}, inplace=True)\n",
    "df5.rename(columns = {'FECH-NAC': 'NACIMIENTO'}, inplace=True)\n",
    "df4.rename(columns = {'BENEFICIO RESUMIDO': 'BENEFICIO'}, inplace=True)\n",
    "df5.rename(columns = {'BENEFICIO RESUMIDO': 'BENEFICIO'}, inplace=True)"
   ]
  },
  {
   "cell_type": "markdown",
   "metadata": {},
   "source": [
    "`Con los 5 datasets normalizados, hay entonces que concatenarlos en un unico dataset`"
   ]
  },
  {
   "cell_type": "code",
   "execution_count": 14,
   "metadata": {},
   "outputs": [
    {
     "data": {
      "text/plain": [
       "(412689, 12)"
      ]
     },
     "execution_count": 14,
     "metadata": {},
     "output_type": "execute_result"
    }
   ],
   "source": [
    "df = pd.concat([df1, df2])\n",
    "df.shape"
   ]
  },
  {
   "cell_type": "code",
   "execution_count": 15,
   "metadata": {},
   "outputs": [
    {
     "data": {
      "text/plain": [
       "(460897, 12)"
      ]
     },
     "execution_count": 15,
     "metadata": {},
     "output_type": "execute_result"
    }
   ],
   "source": [
    "df = pd.concat([df, df3])\n",
    "df.shape"
   ]
  },
  {
   "cell_type": "code",
   "execution_count": 16,
   "metadata": {},
   "outputs": [
    {
     "data": {
      "text/plain": [
       "(728493, 12)"
      ]
     },
     "execution_count": 16,
     "metadata": {},
     "output_type": "execute_result"
    }
   ],
   "source": [
    "df = pd.concat([df, df4])\n",
    "df.shape"
   ]
  },
  {
   "cell_type": "code",
   "execution_count": 17,
   "metadata": {},
   "outputs": [
    {
     "data": {
      "text/plain": [
       "(917131, 12)"
      ]
     },
     "execution_count": 17,
     "metadata": {},
     "output_type": "execute_result"
    }
   ],
   "source": [
    "df = pd.concat([df, df5])\n",
    "df.shape"
   ]
  },
  {
   "cell_type": "markdown",
   "metadata": {},
   "source": [
    "`Con los datos ya concatenados, se procede a realizar un rápido overview del dataset`"
   ]
  },
  {
   "cell_type": "markdown",
   "metadata": {
    "colab_type": "text",
    "id": "RQ1QqrNKvim9"
   },
   "source": [
    "## 2. Limpiar el dataset"
   ]
  },
  {
   "cell_type": "code",
   "execution_count": 18,
   "metadata": {},
   "outputs": [
    {
     "name": "stdout",
     "output_type": "stream",
     "text": [
      "<class 'pandas.core.frame.DataFrame'>\n",
      "Int64Index: 917131 entries, 0 to 188637\n",
      "Data columns (total 12 columns):\n",
      "SEXO          917131 non-null object\n",
      "NACIMIENTO    917130 non-null datetime64[ns]\n",
      "ACTIVIDAD     917131 non-null object\n",
      "PROFESION     917131 non-null object\n",
      "PAIS          917131 non-null object\n",
      "ESTUDIOS      917131 non-null object\n",
      "COMUNA        917131 non-null object\n",
      "PROVINCIA     917131 non-null object\n",
      "REGION        917131 non-null object\n",
      "TIT_DEP       915476 non-null object\n",
      "AÑO           917131 non-null int64\n",
      "BENEFICIO     917131 non-null object\n",
      "dtypes: datetime64[ns](1), int64(1), object(10)\n",
      "memory usage: 91.0+ MB\n"
     ]
    }
   ],
   "source": [
    "df.info()"
   ]
  },
  {
   "cell_type": "markdown",
   "metadata": {},
   "source": [
    "`El dataset posee 917.131 registros, los cuales constituyen un conjunto aproximado de los extranjeros que viven en todo el Chile y 12 caracterísiticas distintas de los mismos (pero ni todas las observaciones están completas). El próximo paso es proceeder a la limpieza del dataset`"
   ]
  },
  {
   "cell_type": "markdown",
   "metadata": {},
   "source": [
    "**a) Cambiar nombre de la columna AÑO a ANIO, para evitar caracteres especiles**"
   ]
  },
  {
   "cell_type": "code",
   "execution_count": 19,
   "metadata": {},
   "outputs": [],
   "source": [
    "df.rename(columns = {'AÑO': 'ANIO'}, inplace=True)"
   ]
  },
  {
   "cell_type": "code",
   "execution_count": 20,
   "metadata": {
    "colab": {},
    "colab_type": "code",
    "id": "Bl_QWKyXvim9"
   },
   "outputs": [
    {
     "data": {
      "text/html": [
       "<div>\n",
       "<style scoped>\n",
       "    .dataframe tbody tr th:only-of-type {\n",
       "        vertical-align: middle;\n",
       "    }\n",
       "\n",
       "    .dataframe tbody tr th {\n",
       "        vertical-align: top;\n",
       "    }\n",
       "\n",
       "    .dataframe thead th {\n",
       "        text-align: right;\n",
       "    }\n",
       "</style>\n",
       "<table border=\"1\" class=\"dataframe\">\n",
       "  <thead>\n",
       "    <tr style=\"text-align: right;\">\n",
       "      <th></th>\n",
       "      <th>SEXO</th>\n",
       "      <th>NACIMIENTO</th>\n",
       "      <th>ACTIVIDAD</th>\n",
       "      <th>PROFESION</th>\n",
       "      <th>PAIS</th>\n",
       "      <th>ESTUDIOS</th>\n",
       "      <th>COMUNA</th>\n",
       "      <th>PROVINCIA</th>\n",
       "      <th>REGION</th>\n",
       "      <th>TIT_DEP</th>\n",
       "      <th>ANIO</th>\n",
       "      <th>BENEFICIO</th>\n",
       "    </tr>\n",
       "  </thead>\n",
       "  <tbody>\n",
       "    <tr>\n",
       "      <th>0</th>\n",
       "      <td>Femenino</td>\n",
       "      <td>1974-10-05</td>\n",
       "      <td>EMPLEADO</td>\n",
       "      <td>MATRONA</td>\n",
       "      <td>PERÚ</td>\n",
       "      <td>no indica</td>\n",
       "      <td>SANTIAGO</td>\n",
       "      <td>SANTIAGO</td>\n",
       "      <td>METROPOLITANA</td>\n",
       "      <td>T</td>\n",
       "      <td>2006</td>\n",
       "      <td>PERMANENCIA DEFINITIVA</td>\n",
       "    </tr>\n",
       "    <tr>\n",
       "      <th>1</th>\n",
       "      <td>Masculino</td>\n",
       "      <td>1949-09-13</td>\n",
       "      <td>EMPLEADO</td>\n",
       "      <td>INGENIERO</td>\n",
       "      <td>ECUADOR</td>\n",
       "      <td>no indica</td>\n",
       "      <td>PROVIDENCIA</td>\n",
       "      <td>SANTIAGO</td>\n",
       "      <td>METROPOLITANA</td>\n",
       "      <td>T</td>\n",
       "      <td>2007</td>\n",
       "      <td>PERMANENCIA DEFINITIVA</td>\n",
       "    </tr>\n",
       "    <tr>\n",
       "      <th>2</th>\n",
       "      <td>Femenino</td>\n",
       "      <td>1949-12-07</td>\n",
       "      <td>EMPLEADO</td>\n",
       "      <td>ASESORA DEL HOGAR</td>\n",
       "      <td>BOLIVIA</td>\n",
       "      <td>BASICO</td>\n",
       "      <td>ARICA</td>\n",
       "      <td>ARICA</td>\n",
       "      <td>ARICA Y PARINACOTA</td>\n",
       "      <td>T</td>\n",
       "      <td>2007</td>\n",
       "      <td>PERMANENCIA DEFINITIVA</td>\n",
       "    </tr>\n",
       "    <tr>\n",
       "      <th>3</th>\n",
       "      <td>Femenino</td>\n",
       "      <td>1966-09-20</td>\n",
       "      <td>DUEÑA DE CASA</td>\n",
       "      <td>DUEÑA DE CASA</td>\n",
       "      <td>BOLIVIA</td>\n",
       "      <td>MEDIO</td>\n",
       "      <td>ARICA</td>\n",
       "      <td>ARICA</td>\n",
       "      <td>ARICA Y PARINACOTA</td>\n",
       "      <td>T</td>\n",
       "      <td>2006</td>\n",
       "      <td>PERMANENCIA DEFINITIVA</td>\n",
       "    </tr>\n",
       "    <tr>\n",
       "      <th>4</th>\n",
       "      <td>Masculino</td>\n",
       "      <td>1981-08-15</td>\n",
       "      <td>EMPRESARIO O PATRON</td>\n",
       "      <td>COMERCIANTE</td>\n",
       "      <td>BRASIL</td>\n",
       "      <td>no indica</td>\n",
       "      <td>LAS CONDES</td>\n",
       "      <td>SANTIAGO</td>\n",
       "      <td>METROPOLITANA</td>\n",
       "      <td>T</td>\n",
       "      <td>2008</td>\n",
       "      <td>PERMANENCIA DEFINITIVA</td>\n",
       "    </tr>\n",
       "  </tbody>\n",
       "</table>\n",
       "</div>"
      ],
      "text/plain": [
       "        SEXO NACIMIENTO            ACTIVIDAD          PROFESION     PAIS  \\\n",
       "0   Femenino 1974-10-05             EMPLEADO            MATRONA     PERÚ   \n",
       "1  Masculino 1949-09-13             EMPLEADO          INGENIERO  ECUADOR   \n",
       "2   Femenino 1949-12-07             EMPLEADO  ASESORA DEL HOGAR  BOLIVIA   \n",
       "3   Femenino 1966-09-20        DUEÑA DE CASA      DUEÑA DE CASA  BOLIVIA   \n",
       "4  Masculino 1981-08-15  EMPRESARIO O PATRON        COMERCIANTE   BRASIL   \n",
       "\n",
       "    ESTUDIOS       COMUNA PROVINCIA              REGION TIT_DEP  ANIO  \\\n",
       "0  no indica     SANTIAGO  SANTIAGO       METROPOLITANA       T  2006   \n",
       "1  no indica  PROVIDENCIA  SANTIAGO       METROPOLITANA       T  2007   \n",
       "2     BASICO        ARICA     ARICA  ARICA Y PARINACOTA       T  2007   \n",
       "3      MEDIO        ARICA     ARICA  ARICA Y PARINACOTA       T  2006   \n",
       "4  no indica   LAS CONDES  SANTIAGO       METROPOLITANA       T  2008   \n",
       "\n",
       "                BENEFICIO  \n",
       "0  PERMANENCIA DEFINITIVA  \n",
       "1  PERMANENCIA DEFINITIVA  \n",
       "2  PERMANENCIA DEFINITIVA  \n",
       "3  PERMANENCIA DEFINITIVA  \n",
       "4  PERMANENCIA DEFINITIVA  "
      ]
     },
     "execution_count": 20,
     "metadata": {},
     "output_type": "execute_result"
    }
   ],
   "source": [
    "df.head() "
   ]
  },
  {
   "cell_type": "code",
   "execution_count": 21,
   "metadata": {
    "colab": {},
    "colab_type": "code",
    "id": "yClOyaHTvinA"
   },
   "outputs": [
    {
     "data": {
      "text/html": [
       "<div>\n",
       "<style scoped>\n",
       "    .dataframe tbody tr th:only-of-type {\n",
       "        vertical-align: middle;\n",
       "    }\n",
       "\n",
       "    .dataframe tbody tr th {\n",
       "        vertical-align: top;\n",
       "    }\n",
       "\n",
       "    .dataframe thead th {\n",
       "        text-align: right;\n",
       "    }\n",
       "</style>\n",
       "<table border=\"1\" class=\"dataframe\">\n",
       "  <thead>\n",
       "    <tr style=\"text-align: right;\">\n",
       "      <th></th>\n",
       "      <th>SEXO</th>\n",
       "      <th>NACIMIENTO</th>\n",
       "      <th>ACTIVIDAD</th>\n",
       "      <th>PROFESION</th>\n",
       "      <th>PAIS</th>\n",
       "      <th>ESTUDIOS</th>\n",
       "      <th>COMUNA</th>\n",
       "      <th>PROVINCIA</th>\n",
       "      <th>REGION</th>\n",
       "      <th>TIT_DEP</th>\n",
       "      <th>ANIO</th>\n",
       "      <th>BENEFICIO</th>\n",
       "    </tr>\n",
       "  </thead>\n",
       "  <tbody>\n",
       "    <tr>\n",
       "      <th>188633</th>\n",
       "      <td>masculino</td>\n",
       "      <td>1952-01-20</td>\n",
       "      <td>EMPRESARIO O PATRON</td>\n",
       "      <td>EMPRESARIO O PATRON</td>\n",
       "      <td>ARGENTINA</td>\n",
       "      <td>MEDIO</td>\n",
       "      <td>SAN ESTEBAN</td>\n",
       "      <td>LOS ANDES</td>\n",
       "      <td>REGION DE VALPARAISO</td>\n",
       "      <td>T</td>\n",
       "      <td>2018</td>\n",
       "      <td>TEMPORARIA</td>\n",
       "    </tr>\n",
       "    <tr>\n",
       "      <th>188634</th>\n",
       "      <td>masculino</td>\n",
       "      <td>1974-10-10</td>\n",
       "      <td>EMPLEADO</td>\n",
       "      <td>CHOFER</td>\n",
       "      <td>ARGENTINA</td>\n",
       "      <td>BASICO</td>\n",
       "      <td>LOS ANDES</td>\n",
       "      <td>LOS ANDES</td>\n",
       "      <td>REGION DE VALPARAISO</td>\n",
       "      <td>T</td>\n",
       "      <td>2018</td>\n",
       "      <td>TEMPORARIA</td>\n",
       "    </tr>\n",
       "    <tr>\n",
       "      <th>188635</th>\n",
       "      <td>masculino</td>\n",
       "      <td>1985-05-03</td>\n",
       "      <td>EMPLEADO</td>\n",
       "      <td>EMPLEADO</td>\n",
       "      <td>BRASIL</td>\n",
       "      <td>MEDIO</td>\n",
       "      <td>LOS ANDES</td>\n",
       "      <td>LOS ANDES</td>\n",
       "      <td>REGION DE VALPARAISO</td>\n",
       "      <td>T</td>\n",
       "      <td>2018</td>\n",
       "      <td>TEMPORARIA</td>\n",
       "    </tr>\n",
       "    <tr>\n",
       "      <th>188636</th>\n",
       "      <td>masculino</td>\n",
       "      <td>2006-05-01</td>\n",
       "      <td>ESTUDIANTE</td>\n",
       "      <td>ESTUDIANTE</td>\n",
       "      <td>ARGENTINA</td>\n",
       "      <td>BASICO</td>\n",
       "      <td>CALLE LARGA</td>\n",
       "      <td>LOS ANDES</td>\n",
       "      <td>REGION DE VALPARAISO</td>\n",
       "      <td>D</td>\n",
       "      <td>2018</td>\n",
       "      <td>TEMPORARIA</td>\n",
       "    </tr>\n",
       "    <tr>\n",
       "      <th>188637</th>\n",
       "      <td>masculino</td>\n",
       "      <td>2009-06-17</td>\n",
       "      <td>ESTUDIANTE</td>\n",
       "      <td>ESTUDIANTE</td>\n",
       "      <td>ARGENTINA</td>\n",
       "      <td>BASICO</td>\n",
       "      <td>CALLE LARGA</td>\n",
       "      <td>LOS ANDES</td>\n",
       "      <td>REGION DE VALPARAISO</td>\n",
       "      <td>D</td>\n",
       "      <td>2018</td>\n",
       "      <td>TEMPORARIA</td>\n",
       "    </tr>\n",
       "  </tbody>\n",
       "</table>\n",
       "</div>"
      ],
      "text/plain": [
       "             SEXO NACIMIENTO            ACTIVIDAD            PROFESION  \\\n",
       "188633  masculino 1952-01-20  EMPRESARIO O PATRON  EMPRESARIO O PATRON   \n",
       "188634  masculino 1974-10-10             EMPLEADO               CHOFER   \n",
       "188635  masculino 1985-05-03             EMPLEADO             EMPLEADO   \n",
       "188636  masculino 2006-05-01           ESTUDIANTE           ESTUDIANTE   \n",
       "188637  masculino 2009-06-17           ESTUDIANTE           ESTUDIANTE   \n",
       "\n",
       "             PAIS ESTUDIOS       COMUNA  PROVINCIA                REGION  \\\n",
       "188633  ARGENTINA    MEDIO  SAN ESTEBAN  LOS ANDES  REGION DE VALPARAISO   \n",
       "188634  ARGENTINA   BASICO    LOS ANDES  LOS ANDES  REGION DE VALPARAISO   \n",
       "188635     BRASIL    MEDIO    LOS ANDES  LOS ANDES  REGION DE VALPARAISO   \n",
       "188636  ARGENTINA   BASICO  CALLE LARGA  LOS ANDES  REGION DE VALPARAISO   \n",
       "188637  ARGENTINA   BASICO  CALLE LARGA  LOS ANDES  REGION DE VALPARAISO   \n",
       "\n",
       "       TIT_DEP  ANIO   BENEFICIO  \n",
       "188633       T  2018  TEMPORARIA  \n",
       "188634       T  2018  TEMPORARIA  \n",
       "188635       T  2018  TEMPORARIA  \n",
       "188636       D  2018  TEMPORARIA  \n",
       "188637       D  2018  TEMPORARIA  "
      ]
     },
     "execution_count": 21,
     "metadata": {},
     "output_type": "execute_result"
    }
   ],
   "source": [
    "df.tail()"
   ]
  },
  {
   "cell_type": "markdown",
   "metadata": {
    "colab_type": "text",
    "id": "-rqseUlYvinG"
   },
   "source": [
    "`TIT_DEP tiene menos datos que los demas`"
   ]
  },
  {
   "cell_type": "code",
   "execution_count": 22,
   "metadata": {},
   "outputs": [
    {
     "data": {
      "text/plain": [
       "T    809661\n",
       "D    105815\n",
       "Name: TIT_DEP, dtype: int64"
      ]
     },
     "execution_count": 22,
     "metadata": {},
     "output_type": "execute_result"
    }
   ],
   "source": [
    "df.TIT_DEP.value_counts()"
   ]
  },
  {
   "cell_type": "code",
   "execution_count": 23,
   "metadata": {},
   "outputs": [
    {
     "data": {
      "text/plain": [
       "count     915476\n",
       "unique         2\n",
       "top            T\n",
       "freq      809661\n",
       "Name: TIT_DEP, dtype: object"
      ]
     },
     "execution_count": 23,
     "metadata": {},
     "output_type": "execute_result"
    }
   ],
   "source": [
    "df.TIT_DEP.describe()"
   ]
  },
  {
   "cell_type": "code",
   "execution_count": 24,
   "metadata": {},
   "outputs": [
    {
     "data": {
      "text/plain": [
       "1655"
      ]
     },
     "execution_count": 24,
     "metadata": {},
     "output_type": "execute_result"
    }
   ],
   "source": [
    "df.TIT_DEP.isnull().sum()"
   ]
  },
  {
   "cell_type": "markdown",
   "metadata": {},
   "source": [
    "`Hay 1655 lineas que no especifican si es titular o dependente. Lo consideraremos dependentes (D)`"
   ]
  },
  {
   "cell_type": "code",
   "execution_count": 25,
   "metadata": {},
   "outputs": [
    {
     "data": {
      "text/html": [
       "<div>\n",
       "<style scoped>\n",
       "    .dataframe tbody tr th:only-of-type {\n",
       "        vertical-align: middle;\n",
       "    }\n",
       "\n",
       "    .dataframe tbody tr th {\n",
       "        vertical-align: top;\n",
       "    }\n",
       "\n",
       "    .dataframe thead th {\n",
       "        text-align: right;\n",
       "    }\n",
       "</style>\n",
       "<table border=\"1\" class=\"dataframe\">\n",
       "  <thead>\n",
       "    <tr style=\"text-align: right;\">\n",
       "      <th></th>\n",
       "      <th>SEXO</th>\n",
       "      <th>NACIMIENTO</th>\n",
       "      <th>ACTIVIDAD</th>\n",
       "      <th>PROFESION</th>\n",
       "      <th>PAIS</th>\n",
       "      <th>ESTUDIOS</th>\n",
       "      <th>COMUNA</th>\n",
       "      <th>PROVINCIA</th>\n",
       "      <th>REGION</th>\n",
       "      <th>TIT_DEP</th>\n",
       "      <th>ANIO</th>\n",
       "      <th>BENEFICIO</th>\n",
       "    </tr>\n",
       "  </thead>\n",
       "  <tbody>\n",
       "    <tr>\n",
       "      <th>23745</th>\n",
       "      <td>Masculino</td>\n",
       "      <td>1975-02-05</td>\n",
       "      <td>EMPLEADO</td>\n",
       "      <td>COCINERO</td>\n",
       "      <td>CHINA REPUBLICA POPULAR</td>\n",
       "      <td>no indica</td>\n",
       "      <td>VIÑA DEL MAR</td>\n",
       "      <td>VALPARAISO</td>\n",
       "      <td>VALPARAISO</td>\n",
       "      <td>NaN</td>\n",
       "      <td>2005</td>\n",
       "      <td>PERMANENCIA DEFINITIVA</td>\n",
       "    </tr>\n",
       "    <tr>\n",
       "      <th>24229</th>\n",
       "      <td>Femenino</td>\n",
       "      <td>1975-10-07</td>\n",
       "      <td>DUEÑA DE CASA</td>\n",
       "      <td>DUEÑA DE CASA</td>\n",
       "      <td>PARAGUAY</td>\n",
       "      <td>no indica</td>\n",
       "      <td>VALPARAISO</td>\n",
       "      <td>VALPARAISO</td>\n",
       "      <td>VALPARAISO</td>\n",
       "      <td>NaN</td>\n",
       "      <td>2005</td>\n",
       "      <td>PERMANENCIA DEFINITIVA</td>\n",
       "    </tr>\n",
       "    <tr>\n",
       "      <th>20773</th>\n",
       "      <td>Femenino</td>\n",
       "      <td>1953-02-16</td>\n",
       "      <td>EMPLEADO DOMESTICO</td>\n",
       "      <td>ASESORA DEL HOGAR</td>\n",
       "      <td>PERÚ</td>\n",
       "      <td>no indica</td>\n",
       "      <td>SANTIAGO</td>\n",
       "      <td>SANTIAGO</td>\n",
       "      <td>METROPOLITANA</td>\n",
       "      <td>NaN</td>\n",
       "      <td>2005</td>\n",
       "      <td>PERMANENCIA DEFINITIVA</td>\n",
       "    </tr>\n",
       "    <tr>\n",
       "      <th>10880</th>\n",
       "      <td>Femenino</td>\n",
       "      <td>1973-08-09</td>\n",
       "      <td>DUEÑA DE CASA</td>\n",
       "      <td>DUEÑA DE CASA</td>\n",
       "      <td>PERÚ</td>\n",
       "      <td>no indica</td>\n",
       "      <td>CALAMA</td>\n",
       "      <td>EL LOA</td>\n",
       "      <td>ANTOFAGASTA</td>\n",
       "      <td>NaN</td>\n",
       "      <td>2006</td>\n",
       "      <td>PERMANENCIA DEFINITIVA</td>\n",
       "    </tr>\n",
       "    <tr>\n",
       "      <th>58693</th>\n",
       "      <td>femenino</td>\n",
       "      <td>1984-02-29</td>\n",
       "      <td>NO INFORMA</td>\n",
       "      <td>NO INFORMA</td>\n",
       "      <td>REPÚBLICA DOMINICANA</td>\n",
       "      <td>MEDIO</td>\n",
       "      <td>RECOLETA</td>\n",
       "      <td>SANTIAGO</td>\n",
       "      <td>REGION METROPOLITANA DE SANTIAGO</td>\n",
       "      <td>NaN</td>\n",
       "      <td>2018</td>\n",
       "      <td>TEMPORARIA</td>\n",
       "    </tr>\n",
       "  </tbody>\n",
       "</table>\n",
       "</div>"
      ],
      "text/plain": [
       "            SEXO NACIMIENTO           ACTIVIDAD          PROFESION  \\\n",
       "23745  Masculino 1975-02-05            EMPLEADO           COCINERO   \n",
       "24229   Femenino 1975-10-07       DUEÑA DE CASA      DUEÑA DE CASA   \n",
       "20773   Femenino 1953-02-16  EMPLEADO DOMESTICO  ASESORA DEL HOGAR   \n",
       "10880   Femenino 1973-08-09       DUEÑA DE CASA      DUEÑA DE CASA   \n",
       "58693   femenino 1984-02-29          NO INFORMA         NO INFORMA   \n",
       "\n",
       "                          PAIS   ESTUDIOS        COMUNA   PROVINCIA  \\\n",
       "23745  CHINA REPUBLICA POPULAR  no indica  VIÑA DEL MAR  VALPARAISO   \n",
       "24229                 PARAGUAY  no indica    VALPARAISO  VALPARAISO   \n",
       "20773                     PERÚ  no indica      SANTIAGO    SANTIAGO   \n",
       "10880                     PERÚ  no indica        CALAMA      EL LOA   \n",
       "58693     REPÚBLICA DOMINICANA      MEDIO      RECOLETA    SANTIAGO   \n",
       "\n",
       "                                 REGION TIT_DEP  ANIO               BENEFICIO  \n",
       "23745                        VALPARAISO     NaN  2005  PERMANENCIA DEFINITIVA  \n",
       "24229                        VALPARAISO     NaN  2005  PERMANENCIA DEFINITIVA  \n",
       "20773                     METROPOLITANA     NaN  2005  PERMANENCIA DEFINITIVA  \n",
       "10880                       ANTOFAGASTA     NaN  2006  PERMANENCIA DEFINITIVA  \n",
       "58693  REGION METROPOLITANA DE SANTIAGO     NaN  2018              TEMPORARIA  "
      ]
     },
     "execution_count": 25,
     "metadata": {},
     "output_type": "execute_result"
    }
   ],
   "source": [
    "df[df.TIT_DEP.isnull()].sample(5)"
   ]
  },
  {
   "cell_type": "code",
   "execution_count": 26,
   "metadata": {},
   "outputs": [],
   "source": [
    "df.TIT_DEP.fillna('D', inplace=True)"
   ]
  },
  {
   "cell_type": "code",
   "execution_count": 27,
   "metadata": {},
   "outputs": [
    {
     "data": {
      "text/plain": [
       "917131"
      ]
     },
     "execution_count": 27,
     "metadata": {},
     "output_type": "execute_result"
    }
   ],
   "source": [
    "len(df.TIT_DEP)"
   ]
  },
  {
   "cell_type": "markdown",
   "metadata": {
    "colab_type": "text",
    "id": "-rqseUlYvinG"
   },
   "source": [
    "`También se observa que NACIMIENTO posee un registro sin dato`"
   ]
  },
  {
   "cell_type": "code",
   "execution_count": 28,
   "metadata": {},
   "outputs": [
    {
     "data": {
      "text/plain": [
       "1"
      ]
     },
     "execution_count": 28,
     "metadata": {},
     "output_type": "execute_result"
    }
   ],
   "source": [
    "df.NACIMIENTO.isnull().sum()"
   ]
  },
  {
   "cell_type": "code",
   "execution_count": 29,
   "metadata": {},
   "outputs": [
    {
     "data": {
      "text/html": [
       "<div>\n",
       "<style scoped>\n",
       "    .dataframe tbody tr th:only-of-type {\n",
       "        vertical-align: middle;\n",
       "    }\n",
       "\n",
       "    .dataframe tbody tr th {\n",
       "        vertical-align: top;\n",
       "    }\n",
       "\n",
       "    .dataframe thead th {\n",
       "        text-align: right;\n",
       "    }\n",
       "</style>\n",
       "<table border=\"1\" class=\"dataframe\">\n",
       "  <thead>\n",
       "    <tr style=\"text-align: right;\">\n",
       "      <th></th>\n",
       "      <th>SEXO</th>\n",
       "      <th>NACIMIENTO</th>\n",
       "      <th>ACTIVIDAD</th>\n",
       "      <th>PROFESION</th>\n",
       "      <th>PAIS</th>\n",
       "      <th>ESTUDIOS</th>\n",
       "      <th>COMUNA</th>\n",
       "      <th>PROVINCIA</th>\n",
       "      <th>REGION</th>\n",
       "      <th>TIT_DEP</th>\n",
       "      <th>ANIO</th>\n",
       "      <th>BENEFICIO</th>\n",
       "    </tr>\n",
       "  </thead>\n",
       "  <tbody>\n",
       "    <tr>\n",
       "      <th>155441</th>\n",
       "      <td>Femenino</td>\n",
       "      <td>NaT</td>\n",
       "      <td>EMPLEADO</td>\n",
       "      <td>EMPLEADO</td>\n",
       "      <td>COLOMBIA</td>\n",
       "      <td>NO INFORMA</td>\n",
       "      <td>MACUL</td>\n",
       "      <td>SANTIAGO</td>\n",
       "      <td>METROPOLITANA</td>\n",
       "      <td>T</td>\n",
       "      <td>2010</td>\n",
       "      <td>PERMANENCIA DEFINITIVA</td>\n",
       "    </tr>\n",
       "  </tbody>\n",
       "</table>\n",
       "</div>"
      ],
      "text/plain": [
       "            SEXO NACIMIENTO ACTIVIDAD PROFESION      PAIS    ESTUDIOS COMUNA  \\\n",
       "155441  Femenino        NaT  EMPLEADO  EMPLEADO  COLOMBIA  NO INFORMA  MACUL   \n",
       "\n",
       "       PROVINCIA         REGION TIT_DEP  ANIO               BENEFICIO  \n",
       "155441  SANTIAGO  METROPOLITANA       T  2010  PERMANENCIA DEFINITIVA  "
      ]
     },
     "execution_count": 29,
     "metadata": {},
     "output_type": "execute_result"
    }
   ],
   "source": [
    "df[df.NACIMIENTO.isnull()]"
   ]
  },
  {
   "cell_type": "markdown",
   "metadata": {},
   "source": [
    "`Hay una titular del sexo feminino que no posee fecha de nacimiento`"
   ]
  },
  {
   "cell_type": "code",
   "execution_count": 30,
   "metadata": {},
   "outputs": [
    {
     "data": {
      "text/plain": [
       "count    809660.000000\n",
       "mean       1982.863655\n",
       "std          11.941489\n",
       "min        1900.000000\n",
       "25%        1976.000000\n",
       "50%        1985.000000\n",
       "75%        1991.000000\n",
       "max        2018.000000\n",
       "Name: NACIMIENTO, dtype: float64"
      ]
     },
     "execution_count": 30,
     "metadata": {},
     "output_type": "execute_result"
    }
   ],
   "source": [
    "df[df.TIT_DEP == 'T'].NACIMIENTO.dt.year.describe()"
   ]
  },
  {
   "cell_type": "markdown",
   "metadata": {},
   "source": [
    "`La mediana del año de nacimiento es 1985. Vamos a usar una fecha de nacimiento de este año para rellenar la edad de esta persona.`"
   ]
  },
  {
   "cell_type": "code",
   "execution_count": 31,
   "metadata": {},
   "outputs": [],
   "source": [
    "df.NACIMIENTO.fillna('1985-01-01', inplace=True)"
   ]
  },
  {
   "cell_type": "code",
   "execution_count": 32,
   "metadata": {},
   "outputs": [],
   "source": [
    "df['NACIMIENTO'] = pd.to_datetime(df['NACIMIENTO'])"
   ]
  },
  {
   "cell_type": "code",
   "execution_count": 33,
   "metadata": {
    "colab": {},
    "colab_type": "code",
    "id": "i7vNyZXJvinH"
   },
   "outputs": [
    {
     "data": {
      "text/plain": [
       "masculino    324068\n",
       "femenino     268131\n",
       "Femenino     173110\n",
       "Masculino    151822\n",
       "Name: SEXO, dtype: int64"
      ]
     },
     "execution_count": 33,
     "metadata": {},
     "output_type": "execute_result"
    }
   ],
   "source": [
    "df.SEXO.value_counts()"
   ]
  },
  {
   "cell_type": "markdown",
   "metadata": {},
   "source": [
    "`Por los valores arriba, se observa que hay informaciones en mayusculas y minusculas ('feminino' y 'Feminino'. Cambiemos todas las observaciones del dataset con strings a minusculas para asi aprovechar y diferenciar de que no existan también caracteres especiales`"
   ]
  },
  {
   "cell_type": "code",
   "execution_count": 34,
   "metadata": {},
   "outputs": [],
   "source": [
    "def replaceCaracteres(text):\n",
    "    text = text.replace('á', 'a')\n",
    "    text = text.replace('é', 'e')\n",
    "    text = text.replace('í', 'i')\n",
    "    text = text.replace('ó', 'o')\n",
    "    text = text.replace('ú', 'u')\n",
    "    text = text.replace('ñ', 'n')\n",
    "    text = text.replace('ã', 'a')\n",
    "    return text"
   ]
  },
  {
   "cell_type": "code",
   "execution_count": 35,
   "metadata": {},
   "outputs": [],
   "source": [
    "def limpaTexto(text):\n",
    "    text = text.lower()\n",
    "    text = replaceCaracteres(text)\n",
    "    return text "
   ]
  },
  {
   "cell_type": "markdown",
   "metadata": {},
   "source": [
    "`Testemos la función para la columna SEXO`"
   ]
  },
  {
   "cell_type": "code",
   "execution_count": 36,
   "metadata": {},
   "outputs": [],
   "source": [
    "df['SEXO'] = df.SEXO.apply(limpaTexto)"
   ]
  },
  {
   "cell_type": "code",
   "execution_count": 37,
   "metadata": {},
   "outputs": [
    {
     "data": {
      "text/plain": [
       "masculino    475890\n",
       "femenino     441241\n",
       "Name: SEXO, dtype: int64"
      ]
     },
     "execution_count": 37,
     "metadata": {},
     "output_type": "execute_result"
    }
   ],
   "source": [
    "df.SEXO.value_counts()"
   ]
  },
  {
   "cell_type": "markdown",
   "metadata": {},
   "source": [
    "`Ahora apliquemos la función a todas las columnas con strings`"
   ]
  },
  {
   "cell_type": "code",
   "execution_count": 38,
   "metadata": {},
   "outputs": [],
   "source": [
    "df['ACTIVIDAD'] = df.ACTIVIDAD.apply(limpaTexto)\n",
    "df['PROFESION'] = df.PROFESION.apply(limpaTexto)\n",
    "df['PAIS'] = df.PAIS.apply(limpaTexto)\n",
    "df['ESTUDIOS'] = df.ESTUDIOS.apply(limpaTexto)\n",
    "df['COMUNA'] = df.COMUNA.apply(limpaTexto)\n",
    "df['PROVINCIA'] = df.PROVINCIA.apply(limpaTexto)\n",
    "df['REGION'] = df.REGION.apply(limpaTexto)\n",
    "df['TIT_DEP'] = df.TIT_DEP.apply(limpaTexto)\n",
    "df['BENEFICIO'] = df.BENEFICIO.apply(limpaTexto)"
   ]
  },
  {
   "cell_type": "code",
   "execution_count": 39,
   "metadata": {},
   "outputs": [
    {
     "data": {
      "text/plain": [
       "empleado                        518371\n",
       "estudiante                      114792\n",
       "empleado domestico               73514\n",
       "duena de casa                    52698\n",
       "obrero o jornalero               42566\n",
       "inactivo                         34856\n",
       "no informa                       21721\n",
       "otras actividades                20866\n",
       "trabajador por cuenta propia     15047\n",
       "empresario o patron              10082\n",
       "religioso                         7412\n",
       "jubilado o pensionado             3846\n",
       "rentista                           549\n",
       "tripulante                         539\n",
       "sin actividad                      272\n",
       "Name: ACTIVIDAD, dtype: int64"
      ]
     },
     "execution_count": 39,
     "metadata": {},
     "output_type": "execute_result"
    }
   ],
   "source": [
    "df.ACTIVIDAD.value_counts()"
   ]
  },
  {
   "cell_type": "markdown",
   "metadata": {},
   "source": [
    "`Hay muchas actividades que pueden ser normalizadas en menos grupos`"
   ]
  },
  {
   "cell_type": "code",
   "execution_count": 40,
   "metadata": {},
   "outputs": [],
   "source": [
    "df.ACTIVIDAD.replace('empleado domestico', 'domestico', inplace=True)\n",
    "df.ACTIVIDAD.replace('obrero o jornalero', 'obrero', inplace=True)\n",
    "df.ACTIVIDAD.replace('trabajador por cuenta propia', 'autonomo', inplace=True)\n",
    "df.ACTIVIDAD.replace('empresario o patron', 'empresario', inplace=True)\n",
    "df.ACTIVIDAD.replace('autonomo', 'empresario', inplace=True)\n",
    "df.ACTIVIDAD.replace('jubilado o pensionado', 'jubilado', inplace=True)\n",
    "df.ACTIVIDAD.replace('otras actividades', 'otras', inplace=True)\n",
    "df.ACTIVIDAD.replace('sin actividad', 'inactivo', inplace=True)\n",
    "df.ACTIVIDAD.replace('rentista', 'otras', inplace=True)\n",
    "df.ACTIVIDAD.replace('tripulante', 'otras', inplace=True)\n",
    "df.ACTIVIDAD.replace('duena de casa', 'inactivo', inplace=True)\n",
    "df.ACTIVIDAD.replace('no informa', 'no_informa', inplace=True)\n",
    "df.ACTIVIDAD.replace('otras', 'no_informa', inplace=True)"
   ]
  },
  {
   "cell_type": "code",
   "execution_count": 41,
   "metadata": {},
   "outputs": [
    {
     "data": {
      "text/plain": [
       "empleado      518371\n",
       "estudiante    114792\n",
       "inactivo       87826\n",
       "domestico      73514\n",
       "no_informa     43675\n",
       "obrero         42566\n",
       "empresario     25129\n",
       "religioso       7412\n",
       "jubilado        3846\n",
       "Name: ACTIVIDAD, dtype: int64"
      ]
     },
     "execution_count": 41,
     "metadata": {},
     "output_type": "execute_result"
    }
   ],
   "source": [
    "df.ACTIVIDAD.value_counts()"
   ]
  },
  {
   "cell_type": "code",
   "execution_count": 42,
   "metadata": {},
   "outputs": [
    {
     "data": {
      "text/plain": [
       "666"
      ]
     },
     "execution_count": 42,
     "metadata": {},
     "output_type": "execute_result"
    }
   ],
   "source": [
    "len(df.PROFESION.unique())"
   ]
  },
  {
   "cell_type": "markdown",
   "metadata": {},
   "source": [
    "`Como profesion, se observa que hay un numero muy grande de diferentes valores (666), por lo que denota que no existe critério para la captura de este dato. Abajo miramos los primeros 25 tipos de profesión.` "
   ]
  },
  {
   "cell_type": "code",
   "execution_count": 43,
   "metadata": {
    "scrolled": false
   },
   "outputs": [
    {
     "data": {
      "text/plain": [
       "empleado             139421\n",
       "estudiante            95464\n",
       "asesora del hogar     70933\n",
       "menor de edad         47331\n",
       "duena de casa         46299\n",
       "ayudante              27136\n",
       "vendedor              26851\n",
       "ingeniero             25164\n",
       "obrero                23442\n",
       "jornalero             22146\n",
       "aseador               14705\n",
       "no informa            13780\n",
       "tecnico               13252\n",
       "operario              12732\n",
       "auxiliar              12731\n",
       "garzon                12728\n",
       "licenciado            11226\n",
       "comerciante           10486\n",
       "cocinero               9327\n",
       "medico                 8178\n",
       "profesor               7851\n",
       "contador               7284\n",
       "asistente              7252\n",
       "agricultor             6793\n",
       "otras actividades      6715\n",
       "Name: PROFESION, dtype: int64"
      ]
     },
     "execution_count": 43,
     "metadata": {},
     "output_type": "execute_result"
    }
   ],
   "source": [
    "df.PROFESION.value_counts()[0:25]"
   ]
  },
  {
   "cell_type": "code",
   "execution_count": 44,
   "metadata": {},
   "outputs": [
    {
     "data": {
      "text/plain": [
       "metropolitana                                       443285\n",
       "region metropolitana de santiago                    145821\n",
       "antofagasta                                          72556\n",
       "tarapaca                                             38281\n",
       "valparaiso                                           30057\n",
       "region de valparaiso                                 18015\n",
       "region de antofagasta                                14714\n",
       "o'higgins                                            12283\n",
       "coquimbo                                             12269\n",
       "atacama                                              12265\n",
       "biobio                                               12160\n",
       "maule                                                11308\n",
       "region del maule                                     10721\n",
       "arica y parinacota                                   10532\n",
       "region del libertador general bernardo o'higgins      9373\n",
       "region del biobio                                     7947\n",
       "region de tarapaca                                    7014\n",
       "los lagos                                             6625\n",
       "arica                                                 5839\n",
       "la araucania                                          5406\n",
       "region de coquimbo                                    4919\n",
       "region de atacama                                     4168\n",
       "magallanes                                            4152\n",
       "region de los lagos                                   4024\n",
       "region de arica y parinacota                          3655\n",
       "region de la araucania                                3008\n",
       "los rios                                              1891\n",
       "region de magallanes y de la antartica chilena        1645\n",
       "aysen                                                 1376\n",
       "region de los rios                                    1107\n",
       "region aisen del general carlos ibanez del campo       715\n",
       "Name: REGION, dtype: int64"
      ]
     },
     "execution_count": 44,
     "metadata": {},
     "output_type": "execute_result"
    }
   ],
   "source": [
    "df.REGION.value_counts()"
   ]
  },
  {
   "cell_type": "markdown",
   "metadata": {},
   "source": [
    "`Los nombres de las regiones están mezclados, por lo que se necesita normalizarlos`"
   ]
  },
  {
   "cell_type": "code",
   "execution_count": 45,
   "metadata": {},
   "outputs": [],
   "source": [
    "def limpaRegiones(text):\n",
    "    text = text.split(' ')\n",
    "    if 'aisen' in text: text = 'aysen'\n",
    "    elif 'aysen' in text: text= 'aysen'\n",
    "    elif 'tarapaca' in text: text= 'tarapaca'\n",
    "    elif 'bio-bio' in text: text= 'biobio'\n",
    "    elif 'biobio' in text: text= 'biobio'\n",
    "    elif 'metropolitana' in text: text= 'metropolitana'\n",
    "    elif 'valparaiso' in text: text= 'valparaiso'\n",
    "    elif 'lagos' in text: text= 'los-lagos'\n",
    "    elif \"o'higgins\" in text: text= \"o-higgins\"\n",
    "    elif 'araucania' in text: text= 'araucania'\n",
    "    elif 'maule' in text: text= 'maule'\n",
    "    elif 'coquimbo' in text: text= 'coquimbo'\n",
    "    elif 'magallanes' in text: text= 'magallanes'\n",
    "    elif 'antofagasta' in text: text= 'antofagasta'\n",
    "    elif 'atacama' in text: text= 'atacama'\n",
    "    elif 'rios' in text: text= 'los-rios'\n",
    "    elif 'arica' in text: text= 'arica'\n",
    "    else: text = 'Sin identificacion'\n",
    "    return text "
   ]
  },
  {
   "cell_type": "code",
   "execution_count": 46,
   "metadata": {},
   "outputs": [],
   "source": [
    "df['REGION'] = df.REGION.apply(limpaRegiones)"
   ]
  },
  {
   "cell_type": "code",
   "execution_count": 47,
   "metadata": {},
   "outputs": [
    {
     "data": {
      "text/plain": [
       "metropolitana    589106\n",
       "antofagasta       87270\n",
       "valparaiso        48072\n",
       "tarapaca          45295\n",
       "maule             22029\n",
       "o-higgins         21656\n",
       "biobio            20107\n",
       "arica             20026\n",
       "coquimbo          17188\n",
       "atacama           16433\n",
       "los-lagos         10649\n",
       "araucania          8414\n",
       "magallanes         5797\n",
       "los-rios           2998\n",
       "aysen              2091\n",
       "Name: REGION, dtype: int64"
      ]
     },
     "execution_count": 47,
     "metadata": {},
     "output_type": "execute_result"
    }
   ],
   "source": [
    "df.REGION.value_counts()"
   ]
  },
  {
   "cell_type": "code",
   "execution_count": 48,
   "metadata": {},
   "outputs": [
    {
     "data": {
      "text/plain": [
       "183"
      ]
     },
     "execution_count": 48,
     "metadata": {},
     "output_type": "execute_result"
    }
   ],
   "source": [
    "len(df.PAIS.unique())"
   ]
  },
  {
   "cell_type": "markdown",
   "metadata": {},
   "source": [
    "`Como PAIS, se observa que hay un numero muy grande de diferentes valores (183). Abajo miramos los primeros 25 países de donde provienen los extranjeros a Chile.` "
   ]
  },
  {
   "cell_type": "code",
   "execution_count": 49,
   "metadata": {
    "scrolled": false
   },
   "outputs": [
    {
     "data": {
      "text/plain": [
       "peru                       213936\n",
       "venezuela                  166718\n",
       "haiti                      129914\n",
       "colombia                   127008\n",
       "bolivia                     98400\n",
       "argentina                   32456\n",
       "ecuador                     29571\n",
       "china republica popular     14825\n",
       "espana                      13861\n",
       "brasil                      12193\n",
       "cuba                        10592\n",
       "republica dominicana         9126\n",
       "estados unidos               8149\n",
       "mexico                       5174\n",
       "uruguay                      5050\n",
       "paraguay                     4880\n",
       "francia                      4472\n",
       "alemania                     2995\n",
       "italia                       2648\n",
       "republica de corea           1866\n",
       "india                        1607\n",
       "japon                        1372\n",
       "canada                       1208\n",
       "federacion de rusia          1048\n",
       "gran bretana                 1023\n",
       "Name: PAIS, dtype: int64"
      ]
     },
     "execution_count": 49,
     "metadata": {},
     "output_type": "execute_result"
    }
   ],
   "source": [
    "df.PAIS.value_counts()[0:25]"
   ]
  },
  {
   "cell_type": "code",
   "execution_count": 50,
   "metadata": {},
   "outputs": [
    {
     "data": {
      "text/plain": [
       "medio            285606\n",
       "no indica        230654\n",
       "universitario    118509\n",
       "no informa       112428\n",
       "basico            94959\n",
       "tecnico           50666\n",
       "ninguno           14570\n",
       "prebasico          9739\n",
       "Name: ESTUDIOS, dtype: int64"
      ]
     },
     "execution_count": 50,
     "metadata": {},
     "output_type": "execute_result"
    }
   ],
   "source": [
    "df.ESTUDIOS.value_counts()"
   ]
  },
  {
   "cell_type": "markdown",
   "metadata": {},
   "source": [
    "`De igual forma que arriba, hay que normalizar ESTUDIOS`"
   ]
  },
  {
   "cell_type": "code",
   "execution_count": 51,
   "metadata": {},
   "outputs": [],
   "source": [
    "df.ESTUDIOS.replace('no indica', 'no informa', inplace=True)"
   ]
  },
  {
   "cell_type": "code",
   "execution_count": 52,
   "metadata": {},
   "outputs": [],
   "source": [
    "df.ESTUDIOS.replace('prebasico', 'basico', inplace=True)"
   ]
  },
  {
   "cell_type": "code",
   "execution_count": 53,
   "metadata": {},
   "outputs": [
    {
     "data": {
      "text/plain": [
       "no informa       343082\n",
       "medio            285606\n",
       "universitario    118509\n",
       "basico           104698\n",
       "tecnico           50666\n",
       "ninguno           14570\n",
       "Name: ESTUDIOS, dtype: int64"
      ]
     },
     "execution_count": 53,
     "metadata": {},
     "output_type": "execute_result"
    }
   ],
   "source": [
    "df.ESTUDIOS.value_counts()"
   ]
  },
  {
   "cell_type": "code",
   "execution_count": 54,
   "metadata": {},
   "outputs": [
    {
     "data": {
      "text/plain": [
       "temporaria                               449916\n",
       "permanencia definitiva                   411970\n",
       "otorga permanencia definitiva             48204\n",
       "sujeta a contrato                          3999\n",
       "estudiante                                 2319\n",
       "permanencia definitiva por gracia           719\n",
       "dse rechazo pede c/visa y otorga pede         4\n",
       "Name: BENEFICIO, dtype: int64"
      ]
     },
     "execution_count": 54,
     "metadata": {},
     "output_type": "execute_result"
    }
   ],
   "source": [
    "df.BENEFICIO.value_counts()"
   ]
  },
  {
   "cell_type": "markdown",
   "metadata": {},
   "source": [
    "`De igual forma normalizaremos el atributo BENEFICIO`"
   ]
  },
  {
   "cell_type": "code",
   "execution_count": 55,
   "metadata": {},
   "outputs": [],
   "source": [
    "df.BENEFICIO.replace('otorga permanencia definitiva', 'permanencia definitiva', inplace=True)\n",
    "df.BENEFICIO.replace('permanencia definitiva por gracia', 'permanencia definitiva', inplace=True)\n",
    "df.BENEFICIO.replace('dse rechazo pede c/visa y otorga pede', 'temporaria', inplace=True)\n",
    "df.BENEFICIO.replace('sujeta a contrato', 'temporaria', inplace=True)\n",
    "df.BENEFICIO.replace('estudiante', 'temporaria', inplace=True)\n",
    "df.BENEFICIO.replace('permanencia definitiva', 'definitiva', inplace=True)"
   ]
  },
  {
   "cell_type": "code",
   "execution_count": 56,
   "metadata": {},
   "outputs": [
    {
     "data": {
      "text/plain": [
       "definitiva    460893\n",
       "temporaria    456238\n",
       "Name: BENEFICIO, dtype: int64"
      ]
     },
     "execution_count": 56,
     "metadata": {},
     "output_type": "execute_result"
    }
   ],
   "source": [
    "df.BENEFICIO.value_counts()"
   ]
  },
  {
   "cell_type": "markdown",
   "metadata": {},
   "source": [
    "`A partir de la fecha del nacimiento y año de obtención del benefício, crearemos una nueva columna \"EDAD\", para capturar la edad del extranjero al momento de obtener el benefício. Se deletará NACIMIENTO`"
   ]
  },
  {
   "cell_type": "code",
   "execution_count": 57,
   "metadata": {},
   "outputs": [
    {
     "data": {
      "text/html": [
       "<div>\n",
       "<style scoped>\n",
       "    .dataframe tbody tr th:only-of-type {\n",
       "        vertical-align: middle;\n",
       "    }\n",
       "\n",
       "    .dataframe tbody tr th {\n",
       "        vertical-align: top;\n",
       "    }\n",
       "\n",
       "    .dataframe thead th {\n",
       "        text-align: right;\n",
       "    }\n",
       "</style>\n",
       "<table border=\"1\" class=\"dataframe\">\n",
       "  <thead>\n",
       "    <tr style=\"text-align: right;\">\n",
       "      <th></th>\n",
       "      <th>SEXO</th>\n",
       "      <th>NACIMIENTO</th>\n",
       "      <th>ACTIVIDAD</th>\n",
       "      <th>PROFESION</th>\n",
       "      <th>PAIS</th>\n",
       "      <th>ESTUDIOS</th>\n",
       "      <th>COMUNA</th>\n",
       "      <th>PROVINCIA</th>\n",
       "      <th>REGION</th>\n",
       "      <th>TIT_DEP</th>\n",
       "      <th>ANIO</th>\n",
       "      <th>BENEFICIO</th>\n",
       "      <th>EDAD</th>\n",
       "    </tr>\n",
       "  </thead>\n",
       "  <tbody>\n",
       "    <tr>\n",
       "      <th>0</th>\n",
       "      <td>femenino</td>\n",
       "      <td>1974-10-05</td>\n",
       "      <td>empleado</td>\n",
       "      <td>matrona</td>\n",
       "      <td>peru</td>\n",
       "      <td>no informa</td>\n",
       "      <td>santiago</td>\n",
       "      <td>santiago</td>\n",
       "      <td>metropolitana</td>\n",
       "      <td>t</td>\n",
       "      <td>2006</td>\n",
       "      <td>definitiva</td>\n",
       "      <td>32</td>\n",
       "    </tr>\n",
       "    <tr>\n",
       "      <th>1</th>\n",
       "      <td>masculino</td>\n",
       "      <td>1949-09-13</td>\n",
       "      <td>empleado</td>\n",
       "      <td>ingeniero</td>\n",
       "      <td>ecuador</td>\n",
       "      <td>no informa</td>\n",
       "      <td>providencia</td>\n",
       "      <td>santiago</td>\n",
       "      <td>metropolitana</td>\n",
       "      <td>t</td>\n",
       "      <td>2007</td>\n",
       "      <td>definitiva</td>\n",
       "      <td>58</td>\n",
       "    </tr>\n",
       "    <tr>\n",
       "      <th>2</th>\n",
       "      <td>femenino</td>\n",
       "      <td>1949-12-07</td>\n",
       "      <td>empleado</td>\n",
       "      <td>asesora del hogar</td>\n",
       "      <td>bolivia</td>\n",
       "      <td>basico</td>\n",
       "      <td>arica</td>\n",
       "      <td>arica</td>\n",
       "      <td>arica</td>\n",
       "      <td>t</td>\n",
       "      <td>2007</td>\n",
       "      <td>definitiva</td>\n",
       "      <td>58</td>\n",
       "    </tr>\n",
       "    <tr>\n",
       "      <th>3</th>\n",
       "      <td>femenino</td>\n",
       "      <td>1966-09-20</td>\n",
       "      <td>inactivo</td>\n",
       "      <td>duena de casa</td>\n",
       "      <td>bolivia</td>\n",
       "      <td>medio</td>\n",
       "      <td>arica</td>\n",
       "      <td>arica</td>\n",
       "      <td>arica</td>\n",
       "      <td>t</td>\n",
       "      <td>2006</td>\n",
       "      <td>definitiva</td>\n",
       "      <td>40</td>\n",
       "    </tr>\n",
       "    <tr>\n",
       "      <th>4</th>\n",
       "      <td>masculino</td>\n",
       "      <td>1981-08-15</td>\n",
       "      <td>empresario</td>\n",
       "      <td>comerciante</td>\n",
       "      <td>brasil</td>\n",
       "      <td>no informa</td>\n",
       "      <td>las condes</td>\n",
       "      <td>santiago</td>\n",
       "      <td>metropolitana</td>\n",
       "      <td>t</td>\n",
       "      <td>2008</td>\n",
       "      <td>definitiva</td>\n",
       "      <td>27</td>\n",
       "    </tr>\n",
       "  </tbody>\n",
       "</table>\n",
       "</div>"
      ],
      "text/plain": [
       "        SEXO NACIMIENTO   ACTIVIDAD          PROFESION     PAIS    ESTUDIOS  \\\n",
       "0   femenino 1974-10-05    empleado            matrona     peru  no informa   \n",
       "1  masculino 1949-09-13    empleado          ingeniero  ecuador  no informa   \n",
       "2   femenino 1949-12-07    empleado  asesora del hogar  bolivia      basico   \n",
       "3   femenino 1966-09-20    inactivo      duena de casa  bolivia       medio   \n",
       "4  masculino 1981-08-15  empresario        comerciante   brasil  no informa   \n",
       "\n",
       "        COMUNA PROVINCIA         REGION TIT_DEP  ANIO   BENEFICIO  EDAD  \n",
       "0     santiago  santiago  metropolitana       t  2006  definitiva    32  \n",
       "1  providencia  santiago  metropolitana       t  2007  definitiva    58  \n",
       "2        arica     arica          arica       t  2007  definitiva    58  \n",
       "3        arica     arica          arica       t  2006  definitiva    40  \n",
       "4   las condes  santiago  metropolitana       t  2008  definitiva    27  "
      ]
     },
     "execution_count": 57,
     "metadata": {},
     "output_type": "execute_result"
    }
   ],
   "source": [
    "df['EDAD'] = df.ANIO - df.NACIMIENTO.dt.year\n",
    "df.head()"
   ]
  },
  {
   "cell_type": "markdown",
   "metadata": {},
   "source": [
    "`Por fin, seleccionamos las columnas de interes para el dataset final: CHILE`"
   ]
  },
  {
   "cell_type": "code",
   "execution_count": 58,
   "metadata": {},
   "outputs": [],
   "source": [
    "df = df[['PAIS', 'SEXO', 'EDAD', 'ESTUDIOS', 'ACTIVIDAD', 'PROFESION', 'BENEFICIO', 'TIT_DEP', 'ANIO', 'REGION', 'COMUNA']]"
   ]
  },
  {
   "cell_type": "code",
   "execution_count": 59,
   "metadata": {},
   "outputs": [
    {
     "data": {
      "text/html": [
       "<div>\n",
       "<style scoped>\n",
       "    .dataframe tbody tr th:only-of-type {\n",
       "        vertical-align: middle;\n",
       "    }\n",
       "\n",
       "    .dataframe tbody tr th {\n",
       "        vertical-align: top;\n",
       "    }\n",
       "\n",
       "    .dataframe thead th {\n",
       "        text-align: right;\n",
       "    }\n",
       "</style>\n",
       "<table border=\"1\" class=\"dataframe\">\n",
       "  <thead>\n",
       "    <tr style=\"text-align: right;\">\n",
       "      <th></th>\n",
       "      <th>PAIS</th>\n",
       "      <th>SEXO</th>\n",
       "      <th>EDAD</th>\n",
       "      <th>ESTUDIOS</th>\n",
       "      <th>ACTIVIDAD</th>\n",
       "      <th>PROFESION</th>\n",
       "      <th>BENEFICIO</th>\n",
       "      <th>TIT_DEP</th>\n",
       "      <th>ANIO</th>\n",
       "      <th>REGION</th>\n",
       "      <th>COMUNA</th>\n",
       "    </tr>\n",
       "  </thead>\n",
       "  <tbody>\n",
       "    <tr>\n",
       "      <th>0</th>\n",
       "      <td>peru</td>\n",
       "      <td>femenino</td>\n",
       "      <td>32</td>\n",
       "      <td>no informa</td>\n",
       "      <td>empleado</td>\n",
       "      <td>matrona</td>\n",
       "      <td>definitiva</td>\n",
       "      <td>t</td>\n",
       "      <td>2006</td>\n",
       "      <td>metropolitana</td>\n",
       "      <td>santiago</td>\n",
       "    </tr>\n",
       "    <tr>\n",
       "      <th>1</th>\n",
       "      <td>ecuador</td>\n",
       "      <td>masculino</td>\n",
       "      <td>58</td>\n",
       "      <td>no informa</td>\n",
       "      <td>empleado</td>\n",
       "      <td>ingeniero</td>\n",
       "      <td>definitiva</td>\n",
       "      <td>t</td>\n",
       "      <td>2007</td>\n",
       "      <td>metropolitana</td>\n",
       "      <td>providencia</td>\n",
       "    </tr>\n",
       "    <tr>\n",
       "      <th>2</th>\n",
       "      <td>bolivia</td>\n",
       "      <td>femenino</td>\n",
       "      <td>58</td>\n",
       "      <td>basico</td>\n",
       "      <td>empleado</td>\n",
       "      <td>asesora del hogar</td>\n",
       "      <td>definitiva</td>\n",
       "      <td>t</td>\n",
       "      <td>2007</td>\n",
       "      <td>arica</td>\n",
       "      <td>arica</td>\n",
       "    </tr>\n",
       "    <tr>\n",
       "      <th>3</th>\n",
       "      <td>bolivia</td>\n",
       "      <td>femenino</td>\n",
       "      <td>40</td>\n",
       "      <td>medio</td>\n",
       "      <td>inactivo</td>\n",
       "      <td>duena de casa</td>\n",
       "      <td>definitiva</td>\n",
       "      <td>t</td>\n",
       "      <td>2006</td>\n",
       "      <td>arica</td>\n",
       "      <td>arica</td>\n",
       "    </tr>\n",
       "    <tr>\n",
       "      <th>4</th>\n",
       "      <td>brasil</td>\n",
       "      <td>masculino</td>\n",
       "      <td>27</td>\n",
       "      <td>no informa</td>\n",
       "      <td>empresario</td>\n",
       "      <td>comerciante</td>\n",
       "      <td>definitiva</td>\n",
       "      <td>t</td>\n",
       "      <td>2008</td>\n",
       "      <td>metropolitana</td>\n",
       "      <td>las condes</td>\n",
       "    </tr>\n",
       "  </tbody>\n",
       "</table>\n",
       "</div>"
      ],
      "text/plain": [
       "      PAIS       SEXO  EDAD    ESTUDIOS   ACTIVIDAD          PROFESION  \\\n",
       "0     peru   femenino    32  no informa    empleado            matrona   \n",
       "1  ecuador  masculino    58  no informa    empleado          ingeniero   \n",
       "2  bolivia   femenino    58      basico    empleado  asesora del hogar   \n",
       "3  bolivia   femenino    40       medio    inactivo      duena de casa   \n",
       "4   brasil  masculino    27  no informa  empresario        comerciante   \n",
       "\n",
       "    BENEFICIO TIT_DEP  ANIO         REGION       COMUNA  \n",
       "0  definitiva       t  2006  metropolitana     santiago  \n",
       "1  definitiva       t  2007  metropolitana  providencia  \n",
       "2  definitiva       t  2007          arica        arica  \n",
       "3  definitiva       t  2006          arica        arica  \n",
       "4  definitiva       t  2008  metropolitana   las condes  "
      ]
     },
     "execution_count": 59,
     "metadata": {},
     "output_type": "execute_result"
    }
   ],
   "source": [
    "df.head()"
   ]
  },
  {
   "cell_type": "markdown",
   "metadata": {},
   "source": [
    "## 3. Analisis preliminar de la data a nivel nacional\n",
    "En esta parte realizamos un analisis preliminar para revisar de forma muy rapida la homogeneidad en los datos. De igual forma se sabe que los este analisis se ampliara en el notebook 2. "
   ]
  },
  {
   "cell_type": "code",
   "execution_count": 60,
   "metadata": {
    "scrolled": true
   },
   "outputs": [
    {
     "data": {
      "text/html": [
       "<div>\n",
       "<style scoped>\n",
       "    .dataframe tbody tr th:only-of-type {\n",
       "        vertical-align: middle;\n",
       "    }\n",
       "\n",
       "    .dataframe tbody tr th {\n",
       "        vertical-align: top;\n",
       "    }\n",
       "\n",
       "    .dataframe thead th {\n",
       "        text-align: right;\n",
       "    }\n",
       "</style>\n",
       "<table border=\"1\" class=\"dataframe\">\n",
       "  <thead>\n",
       "    <tr style=\"text-align: right;\">\n",
       "      <th></th>\n",
       "      <th>PAIS</th>\n",
       "      <th>SEXO</th>\n",
       "      <th>EDAD</th>\n",
       "      <th>ESTUDIOS</th>\n",
       "      <th>ACTIVIDAD</th>\n",
       "      <th>PROFESION</th>\n",
       "      <th>BENEFICIO</th>\n",
       "      <th>TIT_DEP</th>\n",
       "      <th>ANIO</th>\n",
       "      <th>REGION</th>\n",
       "      <th>COMUNA</th>\n",
       "    </tr>\n",
       "  </thead>\n",
       "  <tbody>\n",
       "    <tr>\n",
       "      <th>0</th>\n",
       "      <td>peru</td>\n",
       "      <td>femenino</td>\n",
       "      <td>32</td>\n",
       "      <td>no informa</td>\n",
       "      <td>empleado</td>\n",
       "      <td>matrona</td>\n",
       "      <td>definitiva</td>\n",
       "      <td>t</td>\n",
       "      <td>2006</td>\n",
       "      <td>metropolitana</td>\n",
       "      <td>santiago</td>\n",
       "    </tr>\n",
       "    <tr>\n",
       "      <th>1</th>\n",
       "      <td>ecuador</td>\n",
       "      <td>masculino</td>\n",
       "      <td>58</td>\n",
       "      <td>no informa</td>\n",
       "      <td>empleado</td>\n",
       "      <td>ingeniero</td>\n",
       "      <td>definitiva</td>\n",
       "      <td>t</td>\n",
       "      <td>2007</td>\n",
       "      <td>metropolitana</td>\n",
       "      <td>providencia</td>\n",
       "    </tr>\n",
       "  </tbody>\n",
       "</table>\n",
       "</div>"
      ],
      "text/plain": [
       "      PAIS       SEXO  EDAD    ESTUDIOS ACTIVIDAD  PROFESION   BENEFICIO  \\\n",
       "0     peru   femenino    32  no informa  empleado    matrona  definitiva   \n",
       "1  ecuador  masculino    58  no informa  empleado  ingeniero  definitiva   \n",
       "\n",
       "  TIT_DEP  ANIO         REGION       COMUNA  \n",
       "0       t  2006  metropolitana     santiago  \n",
       "1       t  2007  metropolitana  providencia  "
      ]
     },
     "execution_count": 60,
     "metadata": {},
     "output_type": "execute_result"
    }
   ],
   "source": [
    "df.head(2)"
   ]
  },
  {
   "cell_type": "code",
   "execution_count": 61,
   "metadata": {},
   "outputs": [],
   "source": [
    "TOT_INM = len(df.SEXO)"
   ]
  },
  {
   "cell_type": "code",
   "execution_count": 62,
   "metadata": {},
   "outputs": [
    {
     "data": {
      "text/plain": [
       "475890"
      ]
     },
     "execution_count": 62,
     "metadata": {},
     "output_type": "execute_result"
    }
   ],
   "source": [
    "sum(df.SEXO=='masculino')"
   ]
  },
  {
   "cell_type": "code",
   "execution_count": 63,
   "metadata": {},
   "outputs": [
    {
     "data": {
      "text/plain": [
       "441241"
      ]
     },
     "execution_count": 63,
     "metadata": {},
     "output_type": "execute_result"
    }
   ],
   "source": [
    "sum(df.SEXO=='femenino')"
   ]
  },
  {
   "cell_type": "code",
   "execution_count": 64,
   "metadata": {},
   "outputs": [
    {
     "name": "stdout",
     "output_type": "stream",
     "text": [
      "Porcentage de mujeres sobre honbres: 48%\n"
     ]
    }
   ],
   "source": [
    "print (\"Porcentage de mujeres sobre honbres: {}%\"\n",
    "       .format(round(100* sum(df.SEXO=='femenino')/TOT_INM)))"
   ]
  },
  {
   "cell_type": "code",
   "execution_count": 109,
   "metadata": {},
   "outputs": [
    {
     "data": {
      "image/png": "[encoded data removed]",
      "text/plain": [
       "<matplotlib.figure.Figure at 0x115f04ac8>"
      ]
     },
     "metadata": {},
     "output_type": "display_data"
    }
   ],
   "source": [
    "sns.countplot(y=df['SEXO'])\n",
    "sns.despine()"
   ]
  },
  {
   "cell_type": "code",
   "execution_count": 110,
   "metadata": {},
   "outputs": [
    {
     "data": {
      "image/png": "[encoded data removed]",
      "text/plain": [
       "<matplotlib.figure.Figure at 0x114849b38>"
      ]
     },
     "metadata": {},
     "output_type": "display_data"
    }
   ],
   "source": [
    "sns.countplot(y=df['ACTIVIDAD'])\n",
    "sns.despine()"
   ]
  },
  {
   "cell_type": "code",
   "execution_count": 111,
   "metadata": {},
   "outputs": [
    {
     "data": {
      "image/png": "[encoded data removed]",
      "text/plain": [
       "<matplotlib.figure.Figure at 0x115f594a8>"
      ]
     },
     "metadata": {},
     "output_type": "display_data"
    }
   ],
   "source": [
    "sns.countplot(y=df['ESTUDIOS'])\n",
    "sns.despine()"
   ]
  },
  {
   "cell_type": "code",
   "execution_count": 112,
   "metadata": {},
   "outputs": [
    {
     "data": {
      "image/png": "[encoded data removed]",
      "text/plain": [
       "<matplotlib.figure.Figure at 0x116971160>"
      ]
     },
     "metadata": {},
     "output_type": "display_data"
    }
   ],
   "source": [
    "sns.countplot(y=df['ANIO'])\n",
    "sns.despine()"
   ]
  },
  {
   "cell_type": "code",
   "execution_count": 69,
   "metadata": {},
   "outputs": [
    {
     "data": {
      "text/plain": [
       "peru                       213936\n",
       "venezuela                  166718\n",
       "haiti                      129914\n",
       "colombia                   127008\n",
       "bolivia                     98400\n",
       "argentina                   32456\n",
       "ecuador                     29571\n",
       "china republica popular     14825\n",
       "espana                      13861\n",
       "brasil                      12193\n",
       "Name: PAIS, dtype: int64"
      ]
     },
     "execution_count": 69,
     "metadata": {},
     "output_type": "execute_result"
    }
   ],
   "source": [
    "top_paises = df.PAIS.value_counts()[0:10]\n",
    "top_paises"
   ]
  },
  {
   "cell_type": "code",
   "execution_count": 70,
   "metadata": {},
   "outputs": [
    {
     "name": "stdout",
     "output_type": "stream",
     "text": [
      "Total de Inmigrantes 917131\n",
      "Total de Inmigrantes dos Top10: 838882, que es 91.0% del total\n"
     ]
    }
   ],
   "source": [
    "TOP_PAISES_POP = top_paises.sum()\n",
    "print(\"Total de Inmigrantes\", TOT_INM)\n",
    "print(\"Total de Inmigrantes dos Top10: {}, que es {}% del total\".format(TOP_PAISES_POP, round((TOP_PAISES_POP/TOT_INM)*100, 0)))"
   ]
  },
  {
   "cell_type": "code",
   "execution_count": 71,
   "metadata": {},
   "outputs": [
    {
     "data": {
      "text/plain": [
       "metropolitana    589106\n",
       "antofagasta       87270\n",
       "valparaiso        48072\n",
       "Name: REGION, dtype: int64"
      ]
     },
     "execution_count": 71,
     "metadata": {},
     "output_type": "execute_result"
    }
   ],
   "source": [
    "top_regiones = df.REGION.value_counts()[0:3]\n",
    "top_regiones"
   ]
  },
  {
   "cell_type": "code",
   "execution_count": 72,
   "metadata": {},
   "outputs": [
    {
     "name": "stdout",
     "output_type": "stream",
     "text": [
      "Total de Inmigrantes dos Top3 regiones: 724448, que es 79.0% del total\n"
     ]
    }
   ],
   "source": [
    "TOP_REG_POP = top_regiones.sum()\n",
    "print(\"Total de Inmigrantes dos Top3 regiones: {}, que es {}% del total\".format(TOP_REG_POP, round((TOP_REG_POP/TOT_INM)*100, 0)))"
   ]
  },
  {
   "cell_type": "code",
   "execution_count": 73,
   "metadata": {},
   "outputs": [
    {
     "data": {
      "text/plain": [
       "count    917131.000000\n",
       "mean         30.556505\n",
       "std          12.923269\n",
       "min           0.000000\n",
       "25%          24.000000\n",
       "50%          30.000000\n",
       "75%          38.000000\n",
       "max         118.000000\n",
       "Name: EDAD, dtype: float64"
      ]
     },
     "execution_count": 73,
     "metadata": {},
     "output_type": "execute_result"
    }
   ],
   "source": [
    "df.EDAD.describe()"
   ]
  },
  {
   "cell_type": "code",
   "execution_count": 113,
   "metadata": {},
   "outputs": [
    {
     "data": {
      "text/plain": [
       "<matplotlib.axes._subplots.AxesSubplot at 0x1433af898>"
      ]
     },
     "execution_count": 113,
     "metadata": {},
     "output_type": "execute_result"
    },
    {
     "data": {
      "image/png": "[encoded data removed]",
      "text/plain": [
       "<matplotlib.figure.Figure at 0x1431905f8>"
      ]
     },
     "metadata": {},
     "output_type": "display_data"
    }
   ],
   "source": [
    "sns.kdeplot(df.EDAD, shade=True)"
   ]
  },
  {
   "cell_type": "code",
   "execution_count": 114,
   "metadata": {},
   "outputs": [
    {
     "data": {
      "text/plain": [
       "<matplotlib.axes._subplots.AxesSubplot at 0x142d48a20>"
      ]
     },
     "execution_count": 114,
     "metadata": {},
     "output_type": "execute_result"
    },
    {
     "data": {
      "image/png": "[encoded data removed]",
      "text/plain": [
       "<matplotlib.figure.Figure at 0x13a57dd30>"
      ]
     },
     "metadata": {},
     "output_type": "display_data"
    }
   ],
   "source": [
    "sns.boxplot(df.EDAD)"
   ]
  },
  {
   "cell_type": "markdown",
   "metadata": {
    "colab_type": "text",
    "id": "amgUi8DOvinJ"
   },
   "source": [
    "**Key Insights para los inmigrantes en CHILE**\n",
    "\n",
    "- En Chile segun los datos que tienen, existen 920.000 extranjeros en Chile, siendo que 52% són hombres y 48% de mujeres.\n",
    "- La edad media de los inmigramtes es de 30 anõs (cuando sacan el benefício)\n",
    "- 91% de los extranjeros provienen de 10 paises, y \n",
    "- Casi el 80% del total está concentrado en 3 regiones, con mas de la mitad en la Metropolitana . "
   ]
  },
  {
   "cell_type": "markdown",
   "metadata": {},
   "source": [
    "### 4. Creación del dataset para la Región Metropolitana"
   ]
  },
  {
   "cell_type": "code",
   "execution_count": 76,
   "metadata": {},
   "outputs": [
    {
     "data": {
      "text/plain": [
       "(589106, 11)"
      ]
     },
     "execution_count": 76,
     "metadata": {},
     "output_type": "execute_result"
    }
   ],
   "source": [
    "metro = df[df.REGION == 'metropolitana']\n",
    "metro.shape"
   ]
  },
  {
   "cell_type": "code",
   "execution_count": 77,
   "metadata": {},
   "outputs": [],
   "source": [
    "del metro['REGION'] "
   ]
  },
  {
   "cell_type": "code",
   "execution_count": 78,
   "metadata": {},
   "outputs": [
    {
     "data": {
      "text/html": [
       "<div>\n",
       "<style scoped>\n",
       "    .dataframe tbody tr th:only-of-type {\n",
       "        vertical-align: middle;\n",
       "    }\n",
       "\n",
       "    .dataframe tbody tr th {\n",
       "        vertical-align: top;\n",
       "    }\n",
       "\n",
       "    .dataframe thead th {\n",
       "        text-align: right;\n",
       "    }\n",
       "</style>\n",
       "<table border=\"1\" class=\"dataframe\">\n",
       "  <thead>\n",
       "    <tr style=\"text-align: right;\">\n",
       "      <th></th>\n",
       "      <th>PAIS</th>\n",
       "      <th>SEXO</th>\n",
       "      <th>EDAD</th>\n",
       "      <th>ESTUDIOS</th>\n",
       "      <th>ACTIVIDAD</th>\n",
       "      <th>PROFESION</th>\n",
       "      <th>BENEFICIO</th>\n",
       "      <th>TIT_DEP</th>\n",
       "      <th>ANIO</th>\n",
       "      <th>COMUNA</th>\n",
       "    </tr>\n",
       "  </thead>\n",
       "  <tbody>\n",
       "    <tr>\n",
       "      <th>0</th>\n",
       "      <td>peru</td>\n",
       "      <td>femenino</td>\n",
       "      <td>32</td>\n",
       "      <td>no informa</td>\n",
       "      <td>empleado</td>\n",
       "      <td>matrona</td>\n",
       "      <td>definitiva</td>\n",
       "      <td>t</td>\n",
       "      <td>2006</td>\n",
       "      <td>santiago</td>\n",
       "    </tr>\n",
       "    <tr>\n",
       "      <th>1</th>\n",
       "      <td>ecuador</td>\n",
       "      <td>masculino</td>\n",
       "      <td>58</td>\n",
       "      <td>no informa</td>\n",
       "      <td>empleado</td>\n",
       "      <td>ingeniero</td>\n",
       "      <td>definitiva</td>\n",
       "      <td>t</td>\n",
       "      <td>2007</td>\n",
       "      <td>providencia</td>\n",
       "    </tr>\n",
       "  </tbody>\n",
       "</table>\n",
       "</div>"
      ],
      "text/plain": [
       "      PAIS       SEXO  EDAD    ESTUDIOS ACTIVIDAD  PROFESION   BENEFICIO  \\\n",
       "0     peru   femenino    32  no informa  empleado    matrona  definitiva   \n",
       "1  ecuador  masculino    58  no informa  empleado  ingeniero  definitiva   \n",
       "\n",
       "  TIT_DEP  ANIO       COMUNA  \n",
       "0       t  2006     santiago  \n",
       "1       t  2007  providencia  "
      ]
     },
     "execution_count": 78,
     "metadata": {},
     "output_type": "execute_result"
    }
   ],
   "source": [
    "metro.reset_index(drop = True, inplace=True)\n",
    "metro.head(2)"
   ]
  },
  {
   "cell_type": "markdown",
   "metadata": {},
   "source": [
    "`El dataset \"01_extranjeros_rm.xlsx\" será generado y dejado disponible para ser trabajado en el notebook: \"02_Analisis-Datos.ipynb\"`"
   ]
  },
  {
   "cell_type": "code",
   "execution_count": 79,
   "metadata": {},
   "outputs": [],
   "source": [
    "metro.to_excel('./data/01_extranjeros_rm.xlsx')"
   ]
  },
  {
   "cell_type": "markdown",
   "metadata": {},
   "source": [
    "---\n",
    "## Adendum:\n",
    "### A. Validación de los datos de Extranjería con el Censo 2017 para la RM"
   ]
  },
  {
   "cell_type": "markdown",
   "metadata": {},
   "source": [
    "`Para validar el dataset creado, haremos un pequeña analisis, correlacionando entre lo número de extranjeros en las comunas de la RM ('metro'), versus los datos obtenídos en último Censo Nacional 2017 ('censo')`"
   ]
  },
  {
   "cell_type": "markdown",
   "metadata": {},
   "source": [
    "#### Obtener datos del Censo 2017 - Region Metropolitana"
   ]
  },
  {
   "cell_type": "code",
   "execution_count": 80,
   "metadata": {},
   "outputs": [
    {
     "name": "stdout",
     "output_type": "stream",
     "text": [
      "01_extranjeros_rm.xlsx                PDs_2018_1.xlsx\r\n",
      "CENSO_2017_COMUNAS_RM.xlsx            Visas-2017.xlsx\r\n",
      "\u001b[34mComunas_RM_Mapas_Vectoriales\u001b[m\u001b[m          Visas-2018_1.xlsx\r\n",
      "ML_extranjeros_rm.xlsx                censo_2017_RM.xlsx\r\n",
      "PDs-2005-2016.xlsx                    censo_2017_inmigrantes_rm_comuna.xlsx\r\n",
      "PDs-2017.xlsx\r\n"
     ]
    }
   ],
   "source": [
    "!ls ./data/"
   ]
  },
  {
   "cell_type": "code",
   "execution_count": 81,
   "metadata": {},
   "outputs": [],
   "source": [
    "censo = pd.read_excel('./data/censo_2017_inmigrantes_rm_comuna.xlsx')"
   ]
  },
  {
   "cell_type": "code",
   "execution_count": 82,
   "metadata": {},
   "outputs": [
    {
     "name": "stdout",
     "output_type": "stream",
     "text": [
      "<class 'pandas.core.frame.DataFrame'>\n",
      "RangeIndex: 52 entries, 0 to 51\n",
      "Data columns (total 3 columns):\n",
      "COMUNA         52 non-null int64\n",
      "NOM_COMUNA     52 non-null object\n",
      "INMIGRANTES    52 non-null int64\n",
      "dtypes: int64(2), object(1)\n",
      "memory usage: 1.3+ KB\n"
     ]
    }
   ],
   "source": [
    "censo.info()"
   ]
  },
  {
   "cell_type": "code",
   "execution_count": 83,
   "metadata": {},
   "outputs": [
    {
     "data": {
      "text/plain": [
       "457110"
      ]
     },
     "execution_count": 83,
     "metadata": {},
     "output_type": "execute_result"
    }
   ],
   "source": [
    "censo.INMIGRANTES.sum()"
   ]
  },
  {
   "cell_type": "code",
   "execution_count": 84,
   "metadata": {},
   "outputs": [
    {
     "data": {
      "text/plain": [
       "589106"
      ]
     },
     "execution_count": 84,
     "metadata": {},
     "output_type": "execute_result"
    }
   ],
   "source": [
    "len(metro)"
   ]
  },
  {
   "cell_type": "markdown",
   "metadata": {},
   "source": [
    "`La diferencia encontrada es lo que se esperaría, pues muchas Visas temporárias fueron sacadas entre 2017 y 2018. Para validar en detalles, hay que mirar los datasets df4 (Visas 2017) y df5 (Visas 2018 con 'mas foco')`"
   ]
  },
  {
   "cell_type": "code",
   "execution_count": 85,
   "metadata": {},
   "outputs": [
    {
     "data": {
      "text/plain": [
       "(52, 3)"
      ]
     },
     "execution_count": 85,
     "metadata": {},
     "output_type": "execute_result"
    }
   ],
   "source": [
    "censo.shape"
   ]
  },
  {
   "cell_type": "code",
   "execution_count": 86,
   "metadata": {},
   "outputs": [
    {
     "data": {
      "text/plain": [
       "52"
      ]
     },
     "execution_count": 86,
     "metadata": {},
     "output_type": "execute_result"
    }
   ],
   "source": [
    "len(metro.COMUNA.unique())"
   ]
  },
  {
   "cell_type": "markdown",
   "metadata": {},
   "source": [
    "Los dos datasets posuen 52 comunas"
   ]
  },
  {
   "cell_type": "code",
   "execution_count": 87,
   "metadata": {
    "scrolled": false
   },
   "outputs": [],
   "source": [
    "censo_test = censo.INMIGRANTES[0:20]"
   ]
  },
  {
   "cell_type": "code",
   "execution_count": 88,
   "metadata": {},
   "outputs": [],
   "source": [
    "censo_test = censo_test.reset_index()"
   ]
  },
  {
   "cell_type": "code",
   "execution_count": 89,
   "metadata": {},
   "outputs": [],
   "source": [
    "censo_test = censo_test.INMIGRANTES"
   ]
  },
  {
   "cell_type": "code",
   "execution_count": 90,
   "metadata": {},
   "outputs": [
    {
     "data": {
      "text/plain": [
       "0     110732\n",
       "1      30308\n",
       "2      30023\n",
       "3      23329\n",
       "4      22479\n",
       "5      15628\n",
       "6      15578\n",
       "7      15004\n",
       "8      12030\n",
       "9      11626\n",
       "10     10667\n",
       "11     10173\n",
       "12      9876\n",
       "13      9608\n",
       "14      9330\n",
       "15      9223\n",
       "16      7495\n",
       "17      7411\n",
       "18      6916\n",
       "19      6544\n",
       "Name: INMIGRANTES, dtype: int64"
      ]
     },
     "execution_count": 90,
     "metadata": {},
     "output_type": "execute_result"
    }
   ],
   "source": [
    "censo_test"
   ]
  },
  {
   "cell_type": "code",
   "execution_count": 91,
   "metadata": {},
   "outputs": [],
   "source": [
    "metro_test = metro.COMUNA.value_counts()[0:20]"
   ]
  },
  {
   "cell_type": "code",
   "execution_count": 92,
   "metadata": {},
   "outputs": [],
   "source": [
    "metro_test = metro_test.reset_index()"
   ]
  },
  {
   "cell_type": "code",
   "execution_count": 93,
   "metadata": {},
   "outputs": [],
   "source": [
    "metro_test = metro_test.COMUNA"
   ]
  },
  {
   "cell_type": "code",
   "execution_count": 94,
   "metadata": {},
   "outputs": [
    {
     "data": {
      "text/plain": [
       "0     162325\n",
       "1      38888\n",
       "2      37783\n",
       "3      30937\n",
       "4      29155\n",
       "5      21176\n",
       "6      19523\n",
       "7      18449\n",
       "8      15685\n",
       "9      14020\n",
       "10     12404\n",
       "11     11003\n",
       "12     10426\n",
       "13     10391\n",
       "14     10141\n",
       "15      9442\n",
       "16      9088\n",
       "17      8879\n",
       "18      8296\n",
       "19      7578\n",
       "Name: COMUNA, dtype: int64"
      ]
     },
     "execution_count": 94,
     "metadata": {},
     "output_type": "execute_result"
    }
   ],
   "source": [
    "metro_test"
   ]
  },
  {
   "cell_type": "code",
   "execution_count": 95,
   "metadata": {},
   "outputs": [
    {
     "data": {
      "text/plain": [
       "[<matplotlib.lines.Line2D at 0x116a49978>]"
      ]
     },
     "execution_count": 95,
     "metadata": {},
     "output_type": "execute_result"
    },
    {
     "data": {
      "image/png": "[encoded data removed]",
      "text/plain": [
       "<matplotlib.figure.Figure at 0x116b34b38>"
      ]
     },
     "metadata": {
      "needs_background": "light"
     },
     "output_type": "display_data"
    }
   ],
   "source": [
    "plt.plot(censo_test, metro_test)"
   ]
  },
  {
   "cell_type": "code",
   "execution_count": 96,
   "metadata": {},
   "outputs": [
    {
     "data": {
      "text/plain": [
       "0.9992184483609619"
      ]
     },
     "execution_count": 96,
     "metadata": {},
     "output_type": "execute_result"
    }
   ],
   "source": [
    "censo_test.corr(metro_test)"
   ]
  },
  {
   "cell_type": "markdown",
   "metadata": {},
   "source": [
    "`Existe una correlación case perfecta entre los dos datasets! Trabajaremos en la análisis de dados con el dataset 'metro' (exportado en la planilla excel).` "
   ]
  },
  {
   "cell_type": "markdown",
   "metadata": {},
   "source": [
    "## B. Generar dataset para contextualización de la data analisada en el Notebook 02"
   ]
  },
  {
   "cell_type": "code",
   "execution_count": 115,
   "metadata": {},
   "outputs": [
    {
     "name": "stdout",
     "output_type": "stream",
     "text": [
      "01_extranjeros_rm.xlsx                PDs_2018_1.xlsx\r\n",
      "CENSO_2017_COMUNAS_RM.xlsx            Visas-2017.xlsx\r\n",
      "\u001b[34mComunas_RM_Mapas_Vectoriales\u001b[m\u001b[m          Visas-2018_1.xlsx\r\n",
      "ML_extranjeros_rm.xlsx                censo_2017_RM.xlsx\r\n",
      "PDs-2005-2016.xlsx                    censo_2017_inmigrantes_rm_comuna.xlsx\r\n",
      "PDs-2017.xlsx\r\n"
     ]
    }
   ],
   "source": [
    "!ls ./data"
   ]
  },
  {
   "cell_type": "code",
   "execution_count": 98,
   "metadata": {},
   "outputs": [
    {
     "data": {
      "text/html": [
       "<div>\n",
       "<style scoped>\n",
       "    .dataframe tbody tr th:only-of-type {\n",
       "        vertical-align: middle;\n",
       "    }\n",
       "\n",
       "    .dataframe tbody tr th {\n",
       "        vertical-align: top;\n",
       "    }\n",
       "\n",
       "    .dataframe thead th {\n",
       "        text-align: right;\n",
       "    }\n",
       "</style>\n",
       "<table border=\"1\" class=\"dataframe\">\n",
       "  <thead>\n",
       "    <tr style=\"text-align: right;\">\n",
       "      <th></th>\n",
       "      <th>NOM_COMUNA</th>\n",
       "      <th>INMIGRANTES</th>\n",
       "    </tr>\n",
       "    <tr>\n",
       "      <th>COMUNA</th>\n",
       "      <th></th>\n",
       "      <th></th>\n",
       "    </tr>\n",
       "  </thead>\n",
       "  <tbody>\n",
       "    <tr>\n",
       "      <th>13101</th>\n",
       "      <td>santiago</td>\n",
       "      <td>110732</td>\n",
       "    </tr>\n",
       "    <tr>\n",
       "      <th>13114</th>\n",
       "      <td>las condes</td>\n",
       "      <td>30308</td>\n",
       "    </tr>\n",
       "    <tr>\n",
       "      <th>13108</th>\n",
       "      <td>independencia</td>\n",
       "      <td>30023</td>\n",
       "    </tr>\n",
       "    <tr>\n",
       "      <th>13127</th>\n",
       "      <td>recoleta</td>\n",
       "      <td>23329</td>\n",
       "    </tr>\n",
       "    <tr>\n",
       "      <th>13106</th>\n",
       "      <td>estacion central</td>\n",
       "      <td>22479</td>\n",
       "    </tr>\n",
       "  </tbody>\n",
       "</table>\n",
       "</div>"
      ],
      "text/plain": [
       "              NOM_COMUNA  INMIGRANTES\n",
       "COMUNA                               \n",
       "13101           santiago       110732\n",
       "13114         las condes        30308\n",
       "13108      independencia        30023\n",
       "13127           recoleta        23329\n",
       "13106   estacion central        22479"
      ]
     },
     "execution_count": 98,
     "metadata": {},
     "output_type": "execute_result"
    }
   ],
   "source": [
    "censo = pd.read_excel('./data/censo_2017_inmigrantes_rm_comuna.xlsx')\n",
    "censo = censo.set_index('COMUNA')\n",
    "censo.head()"
   ]
  },
  {
   "cell_type": "code",
   "execution_count": 99,
   "metadata": {},
   "outputs": [
    {
     "data": {
      "text/html": [
       "<div>\n",
       "<style scoped>\n",
       "    .dataframe tbody tr th:only-of-type {\n",
       "        vertical-align: middle;\n",
       "    }\n",
       "\n",
       "    .dataframe tbody tr th {\n",
       "        vertical-align: top;\n",
       "    }\n",
       "\n",
       "    .dataframe thead th {\n",
       "        text-align: right;\n",
       "    }\n",
       "</style>\n",
       "<table border=\"1\" class=\"dataframe\">\n",
       "  <thead>\n",
       "    <tr style=\"text-align: right;\">\n",
       "      <th></th>\n",
       "      <th>REGION</th>\n",
       "      <th>PROVINCIA</th>\n",
       "      <th>COMUNA</th>\n",
       "      <th>DC</th>\n",
       "      <th>AREA</th>\n",
       "      <th>ZC_LOC</th>\n",
       "      <th>MZ_ENT</th>\n",
       "      <th>ID_ZONA_LOC</th>\n",
       "      <th>ID_MANZENT</th>\n",
       "      <th>PERSONAS</th>\n",
       "      <th>...</th>\n",
       "      <th>P03B_7</th>\n",
       "      <th>P03C_1</th>\n",
       "      <th>P03C_2</th>\n",
       "      <th>P03C_3</th>\n",
       "      <th>P03C_4</th>\n",
       "      <th>P03C_5</th>\n",
       "      <th>P05_1</th>\n",
       "      <th>P05_2</th>\n",
       "      <th>P05_3</th>\n",
       "      <th>P05_4</th>\n",
       "    </tr>\n",
       "  </thead>\n",
       "  <tbody>\n",
       "    <tr>\n",
       "      <th>121508</th>\n",
       "      <td>13</td>\n",
       "      <td>131</td>\n",
       "      <td>13101</td>\n",
       "      <td>1</td>\n",
       "      <td>1</td>\n",
       "      <td>1</td>\n",
       "      <td>3</td>\n",
       "      <td>1279</td>\n",
       "      <td>13101011001003</td>\n",
       "      <td>421</td>\n",
       "      <td>...</td>\n",
       "      <td>0</td>\n",
       "      <td>186</td>\n",
       "      <td>0</td>\n",
       "      <td>0</td>\n",
       "      <td>0</td>\n",
       "      <td>0</td>\n",
       "      <td>188</td>\n",
       "      <td>0</td>\n",
       "      <td>0</td>\n",
       "      <td>0</td>\n",
       "    </tr>\n",
       "    <tr>\n",
       "      <th>121509</th>\n",
       "      <td>13</td>\n",
       "      <td>131</td>\n",
       "      <td>13101</td>\n",
       "      <td>1</td>\n",
       "      <td>1</td>\n",
       "      <td>1</td>\n",
       "      <td>4</td>\n",
       "      <td>1279</td>\n",
       "      <td>13101011001004</td>\n",
       "      <td>185</td>\n",
       "      <td>...</td>\n",
       "      <td>0</td>\n",
       "      <td>113</td>\n",
       "      <td>0</td>\n",
       "      <td>0</td>\n",
       "      <td>0</td>\n",
       "      <td>0</td>\n",
       "      <td>113</td>\n",
       "      <td>0</td>\n",
       "      <td>0</td>\n",
       "      <td>0</td>\n",
       "    </tr>\n",
       "    <tr>\n",
       "      <th>121510</th>\n",
       "      <td>13</td>\n",
       "      <td>131</td>\n",
       "      <td>13101</td>\n",
       "      <td>1</td>\n",
       "      <td>1</td>\n",
       "      <td>1</td>\n",
       "      <td>5</td>\n",
       "      <td>1279</td>\n",
       "      <td>13101011001005</td>\n",
       "      <td>776</td>\n",
       "      <td>...</td>\n",
       "      <td>0</td>\n",
       "      <td>419</td>\n",
       "      <td>1</td>\n",
       "      <td>0</td>\n",
       "      <td>0</td>\n",
       "      <td>0</td>\n",
       "      <td>422</td>\n",
       "      <td>0</td>\n",
       "      <td>0</td>\n",
       "      <td>0</td>\n",
       "    </tr>\n",
       "    <tr>\n",
       "      <th>121511</th>\n",
       "      <td>13</td>\n",
       "      <td>131</td>\n",
       "      <td>13101</td>\n",
       "      <td>1</td>\n",
       "      <td>1</td>\n",
       "      <td>1</td>\n",
       "      <td>6</td>\n",
       "      <td>1279</td>\n",
       "      <td>13101011001006</td>\n",
       "      <td>416</td>\n",
       "      <td>...</td>\n",
       "      <td>0</td>\n",
       "      <td>224</td>\n",
       "      <td>0</td>\n",
       "      <td>0</td>\n",
       "      <td>0</td>\n",
       "      <td>0</td>\n",
       "      <td>222</td>\n",
       "      <td>0</td>\n",
       "      <td>0</td>\n",
       "      <td>0</td>\n",
       "    </tr>\n",
       "    <tr>\n",
       "      <th>121512</th>\n",
       "      <td>13</td>\n",
       "      <td>131</td>\n",
       "      <td>13101</td>\n",
       "      <td>1</td>\n",
       "      <td>1</td>\n",
       "      <td>1</td>\n",
       "      <td>7</td>\n",
       "      <td>1279</td>\n",
       "      <td>13101011001007</td>\n",
       "      <td>376</td>\n",
       "      <td>...</td>\n",
       "      <td>0</td>\n",
       "      <td>191</td>\n",
       "      <td>0</td>\n",
       "      <td>0</td>\n",
       "      <td>0</td>\n",
       "      <td>0</td>\n",
       "      <td>195</td>\n",
       "      <td>0</td>\n",
       "      <td>0</td>\n",
       "      <td>0</td>\n",
       "    </tr>\n",
       "  </tbody>\n",
       "</table>\n",
       "<p>5 rows × 47 columns</p>\n",
       "</div>"
      ],
      "text/plain": [
       "        REGION  PROVINCIA  COMUNA  DC  AREA  ZC_LOC  MZ_ENT  ID_ZONA_LOC  \\\n",
       "121508      13        131   13101   1     1       1       3         1279   \n",
       "121509      13        131   13101   1     1       1       4         1279   \n",
       "121510      13        131   13101   1     1       1       5         1279   \n",
       "121511      13        131   13101   1     1       1       6         1279   \n",
       "121512      13        131   13101   1     1       1       7         1279   \n",
       "\n",
       "            ID_MANZENT  PERSONAS  ...    P03B_7  P03C_1 P03C_2 P03C_3 P03C_4  \\\n",
       "121508  13101011001003       421  ...         0     186      0      0      0   \n",
       "121509  13101011001004       185  ...         0     113      0      0      0   \n",
       "121510  13101011001005       776  ...         0     419      1      0      0   \n",
       "121511  13101011001006       416  ...         0     224      0      0      0   \n",
       "121512  13101011001007       376  ...         0     191      0      0      0   \n",
       "\n",
       "       P03C_5  P05_1 P05_2  P05_3  P05_4  \n",
       "121508      0    188     0      0      0  \n",
       "121509      0    113     0      0      0  \n",
       "121510      0    422     0      0      0  \n",
       "121511      0    222     0      0      0  \n",
       "121512      0    195     0      0      0  \n",
       "\n",
       "[5 rows x 47 columns]"
      ]
     },
     "execution_count": 99,
     "metadata": {},
     "output_type": "execute_result"
    }
   ],
   "source": [
    "censo_2017_RM = pd.read_excel('./data/censo_2017_RM.xlsx')\n",
    "censo_2017_RM.head()"
   ]
  },
  {
   "cell_type": "code",
   "execution_count": 100,
   "metadata": {},
   "outputs": [
    {
     "data": {
      "text/html": [
       "<div>\n",
       "<style scoped>\n",
       "    .dataframe tbody tr th:only-of-type {\n",
       "        vertical-align: middle;\n",
       "    }\n",
       "\n",
       "    .dataframe tbody tr th {\n",
       "        vertical-align: top;\n",
       "    }\n",
       "\n",
       "    .dataframe thead th {\n",
       "        text-align: right;\n",
       "    }\n",
       "</style>\n",
       "<table border=\"1\" class=\"dataframe\">\n",
       "  <thead>\n",
       "    <tr style=\"text-align: right;\">\n",
       "      <th></th>\n",
       "      <th>PERSONAS</th>\n",
       "    </tr>\n",
       "    <tr>\n",
       "      <th>COMUNA</th>\n",
       "      <th></th>\n",
       "    </tr>\n",
       "  </thead>\n",
       "  <tbody>\n",
       "    <tr>\n",
       "      <th>13101</th>\n",
       "      <td>404495</td>\n",
       "    </tr>\n",
       "    <tr>\n",
       "      <th>13102</th>\n",
       "      <td>80832</td>\n",
       "    </tr>\n",
       "    <tr>\n",
       "      <th>13103</th>\n",
       "      <td>132622</td>\n",
       "    </tr>\n",
       "    <tr>\n",
       "      <th>13104</th>\n",
       "      <td>126955</td>\n",
       "    </tr>\n",
       "    <tr>\n",
       "      <th>13105</th>\n",
       "      <td>162505</td>\n",
       "    </tr>\n",
       "  </tbody>\n",
       "</table>\n",
       "</div>"
      ],
      "text/plain": [
       "        PERSONAS\n",
       "COMUNA          \n",
       "13101     404495\n",
       "13102      80832\n",
       "13103     132622\n",
       "13104     126955\n",
       "13105     162505"
      ]
     },
     "execution_count": 100,
     "metadata": {},
     "output_type": "execute_result"
    }
   ],
   "source": [
    "data = censo_2017_RM.groupby(by=['COMUNA']).PERSONAS.sum()\n",
    "data = pd.DataFrame(data)\n",
    "data.head()"
   ]
  },
  {
   "cell_type": "code",
   "execution_count": 101,
   "metadata": {},
   "outputs": [
    {
     "data": {
      "text/html": [
       "<div>\n",
       "<style scoped>\n",
       "    .dataframe tbody tr th:only-of-type {\n",
       "        vertical-align: middle;\n",
       "    }\n",
       "\n",
       "    .dataframe tbody tr th {\n",
       "        vertical-align: top;\n",
       "    }\n",
       "\n",
       "    .dataframe thead th {\n",
       "        text-align: right;\n",
       "    }\n",
       "</style>\n",
       "<table border=\"1\" class=\"dataframe\">\n",
       "  <thead>\n",
       "    <tr style=\"text-align: right;\">\n",
       "      <th></th>\n",
       "      <th>NOM_COMUNA</th>\n",
       "      <th>INMIGRANTES</th>\n",
       "      <th>PERSONAS</th>\n",
       "    </tr>\n",
       "    <tr>\n",
       "      <th>COMUNA</th>\n",
       "      <th></th>\n",
       "      <th></th>\n",
       "      <th></th>\n",
       "    </tr>\n",
       "  </thead>\n",
       "  <tbody>\n",
       "    <tr>\n",
       "      <th>13101</th>\n",
       "      <td>santiago</td>\n",
       "      <td>110732</td>\n",
       "      <td>404495</td>\n",
       "    </tr>\n",
       "    <tr>\n",
       "      <th>13102</th>\n",
       "      <td>cerrillos</td>\n",
       "      <td>3620</td>\n",
       "      <td>80832</td>\n",
       "    </tr>\n",
       "    <tr>\n",
       "      <th>13103</th>\n",
       "      <td>cerro navia</td>\n",
       "      <td>6022</td>\n",
       "      <td>132622</td>\n",
       "    </tr>\n",
       "    <tr>\n",
       "      <th>13104</th>\n",
       "      <td>conchali</td>\n",
       "      <td>9223</td>\n",
       "      <td>126955</td>\n",
       "    </tr>\n",
       "    <tr>\n",
       "      <th>13105</th>\n",
       "      <td>el bosque</td>\n",
       "      <td>3368</td>\n",
       "      <td>162505</td>\n",
       "    </tr>\n",
       "  </tbody>\n",
       "</table>\n",
       "</div>"
      ],
      "text/plain": [
       "         NOM_COMUNA  INMIGRANTES  PERSONAS\n",
       "COMUNA                                    \n",
       "13101      santiago       110732    404495\n",
       "13102     cerrillos         3620     80832\n",
       "13103   cerro navia         6022    132622\n",
       "13104      conchali         9223    126955\n",
       "13105     el bosque         3368    162505"
      ]
     },
     "execution_count": 101,
     "metadata": {},
     "output_type": "execute_result"
    }
   ],
   "source": [
    "censo = pd.concat([censo, data], axis = 1)\n",
    "censo.head()"
   ]
  },
  {
   "cell_type": "code",
   "execution_count": 102,
   "metadata": {},
   "outputs": [],
   "source": [
    "censo['INM_PERC'] = (censo.INMIGRANTES/censo.PERSONAS)*100 "
   ]
  },
  {
   "cell_type": "code",
   "execution_count": 103,
   "metadata": {},
   "outputs": [
    {
     "data": {
      "text/html": [
       "<div>\n",
       "<style scoped>\n",
       "    .dataframe tbody tr th:only-of-type {\n",
       "        vertical-align: middle;\n",
       "    }\n",
       "\n",
       "    .dataframe tbody tr th {\n",
       "        vertical-align: top;\n",
       "    }\n",
       "\n",
       "    .dataframe thead th {\n",
       "        text-align: right;\n",
       "    }\n",
       "</style>\n",
       "<table border=\"1\" class=\"dataframe\">\n",
       "  <thead>\n",
       "    <tr style=\"text-align: right;\">\n",
       "      <th></th>\n",
       "      <th>TOTAL_VIV</th>\n",
       "    </tr>\n",
       "    <tr>\n",
       "      <th>COMUNA</th>\n",
       "      <th></th>\n",
       "    </tr>\n",
       "  </thead>\n",
       "  <tbody>\n",
       "    <tr>\n",
       "      <th>13101</th>\n",
       "      <td>193628</td>\n",
       "    </tr>\n",
       "    <tr>\n",
       "      <th>13102</th>\n",
       "      <td>24547</td>\n",
       "    </tr>\n",
       "    <tr>\n",
       "      <th>13103</th>\n",
       "      <td>38020</td>\n",
       "    </tr>\n",
       "    <tr>\n",
       "      <th>13104</th>\n",
       "      <td>37759</td>\n",
       "    </tr>\n",
       "    <tr>\n",
       "      <th>13105</th>\n",
       "      <td>47941</td>\n",
       "    </tr>\n",
       "  </tbody>\n",
       "</table>\n",
       "</div>"
      ],
      "text/plain": [
       "        TOTAL_VIV\n",
       "COMUNA           \n",
       "13101      193628\n",
       "13102       24547\n",
       "13103       38020\n",
       "13104       37759\n",
       "13105       47941"
      ]
     },
     "execution_count": 103,
     "metadata": {},
     "output_type": "execute_result"
    }
   ],
   "source": [
    "data = censo_2017_RM.groupby(by=['COMUNA']).TOTAL_VIV.sum()\n",
    "data = pd.DataFrame(data)\n",
    "data.head()"
   ]
  },
  {
   "cell_type": "code",
   "execution_count": 104,
   "metadata": {},
   "outputs": [
    {
     "data": {
      "text/html": [
       "<div>\n",
       "<style scoped>\n",
       "    .dataframe tbody tr th:only-of-type {\n",
       "        vertical-align: middle;\n",
       "    }\n",
       "\n",
       "    .dataframe tbody tr th {\n",
       "        vertical-align: top;\n",
       "    }\n",
       "\n",
       "    .dataframe thead th {\n",
       "        text-align: right;\n",
       "    }\n",
       "</style>\n",
       "<table border=\"1\" class=\"dataframe\">\n",
       "  <thead>\n",
       "    <tr style=\"text-align: right;\">\n",
       "      <th></th>\n",
       "      <th>NOM_COMUNA</th>\n",
       "      <th>INMIGRANTES</th>\n",
       "      <th>PERSONAS</th>\n",
       "      <th>INM_PERC</th>\n",
       "      <th>TOTAL_VIV</th>\n",
       "    </tr>\n",
       "    <tr>\n",
       "      <th>COMUNA</th>\n",
       "      <th></th>\n",
       "      <th></th>\n",
       "      <th></th>\n",
       "      <th></th>\n",
       "      <th></th>\n",
       "    </tr>\n",
       "  </thead>\n",
       "  <tbody>\n",
       "    <tr>\n",
       "      <th>13101</th>\n",
       "      <td>santiago</td>\n",
       "      <td>110732</td>\n",
       "      <td>404495</td>\n",
       "      <td>27.375369</td>\n",
       "      <td>193628</td>\n",
       "    </tr>\n",
       "    <tr>\n",
       "      <th>13102</th>\n",
       "      <td>cerrillos</td>\n",
       "      <td>3620</td>\n",
       "      <td>80832</td>\n",
       "      <td>4.478424</td>\n",
       "      <td>24547</td>\n",
       "    </tr>\n",
       "    <tr>\n",
       "      <th>13103</th>\n",
       "      <td>cerro navia</td>\n",
       "      <td>6022</td>\n",
       "      <td>132622</td>\n",
       "      <td>4.540725</td>\n",
       "      <td>38020</td>\n",
       "    </tr>\n",
       "    <tr>\n",
       "      <th>13104</th>\n",
       "      <td>conchali</td>\n",
       "      <td>9223</td>\n",
       "      <td>126955</td>\n",
       "      <td>7.264779</td>\n",
       "      <td>37759</td>\n",
       "    </tr>\n",
       "    <tr>\n",
       "      <th>13105</th>\n",
       "      <td>el bosque</td>\n",
       "      <td>3368</td>\n",
       "      <td>162505</td>\n",
       "      <td>2.072552</td>\n",
       "      <td>47941</td>\n",
       "    </tr>\n",
       "  </tbody>\n",
       "</table>\n",
       "</div>"
      ],
      "text/plain": [
       "         NOM_COMUNA  INMIGRANTES  PERSONAS   INM_PERC  TOTAL_VIV\n",
       "COMUNA                                                          \n",
       "13101      santiago       110732    404495  27.375369     193628\n",
       "13102     cerrillos         3620     80832   4.478424      24547\n",
       "13103   cerro navia         6022    132622   4.540725      38020\n",
       "13104      conchali         9223    126955   7.264779      37759\n",
       "13105     el bosque         3368    162505   2.072552      47941"
      ]
     },
     "execution_count": 104,
     "metadata": {},
     "output_type": "execute_result"
    }
   ],
   "source": [
    "censo = pd.concat([censo, data], axis = 1)\n",
    "censo.head()"
   ]
  },
  {
   "cell_type": "code",
   "execution_count": 105,
   "metadata": {},
   "outputs": [
    {
     "data": {
      "text/html": [
       "<div>\n",
       "<style scoped>\n",
       "    .dataframe tbody tr th:only-of-type {\n",
       "        vertical-align: middle;\n",
       "    }\n",
       "\n",
       "    .dataframe tbody tr th {\n",
       "        vertical-align: top;\n",
       "    }\n",
       "\n",
       "    .dataframe thead th {\n",
       "        text-align: right;\n",
       "    }\n",
       "</style>\n",
       "<table border=\"1\" class=\"dataframe\">\n",
       "  <thead>\n",
       "    <tr style=\"text-align: right;\">\n",
       "      <th></th>\n",
       "      <th>NOM_COMUNA</th>\n",
       "      <th>INMIGRANTES</th>\n",
       "      <th>PERSONAS</th>\n",
       "      <th>INM_PERC</th>\n",
       "      <th>TOTAL_VIV</th>\n",
       "      <th>PERS_VIV</th>\n",
       "    </tr>\n",
       "    <tr>\n",
       "      <th>COMUNA</th>\n",
       "      <th></th>\n",
       "      <th></th>\n",
       "      <th></th>\n",
       "      <th></th>\n",
       "      <th></th>\n",
       "      <th></th>\n",
       "    </tr>\n",
       "  </thead>\n",
       "  <tbody>\n",
       "    <tr>\n",
       "      <th>13101</th>\n",
       "      <td>santiago</td>\n",
       "      <td>110732</td>\n",
       "      <td>404495</td>\n",
       "      <td>27.375369</td>\n",
       "      <td>193628</td>\n",
       "      <td>2.089032</td>\n",
       "    </tr>\n",
       "    <tr>\n",
       "      <th>13102</th>\n",
       "      <td>cerrillos</td>\n",
       "      <td>3620</td>\n",
       "      <td>80832</td>\n",
       "      <td>4.478424</td>\n",
       "      <td>24547</td>\n",
       "      <td>3.292948</td>\n",
       "    </tr>\n",
       "    <tr>\n",
       "      <th>13103</th>\n",
       "      <td>cerro navia</td>\n",
       "      <td>6022</td>\n",
       "      <td>132622</td>\n",
       "      <td>4.540725</td>\n",
       "      <td>38020</td>\n",
       "      <td>3.488217</td>\n",
       "    </tr>\n",
       "    <tr>\n",
       "      <th>13104</th>\n",
       "      <td>conchali</td>\n",
       "      <td>9223</td>\n",
       "      <td>126955</td>\n",
       "      <td>7.264779</td>\n",
       "      <td>37759</td>\n",
       "      <td>3.362245</td>\n",
       "    </tr>\n",
       "    <tr>\n",
       "      <th>13105</th>\n",
       "      <td>el bosque</td>\n",
       "      <td>3368</td>\n",
       "      <td>162505</td>\n",
       "      <td>2.072552</td>\n",
       "      <td>47941</td>\n",
       "      <td>3.389687</td>\n",
       "    </tr>\n",
       "  </tbody>\n",
       "</table>\n",
       "</div>"
      ],
      "text/plain": [
       "         NOM_COMUNA  INMIGRANTES  PERSONAS   INM_PERC  TOTAL_VIV  PERS_VIV\n",
       "COMUNA                                                                    \n",
       "13101      santiago       110732    404495  27.375369     193628  2.089032\n",
       "13102     cerrillos         3620     80832   4.478424      24547  3.292948\n",
       "13103   cerro navia         6022    132622   4.540725      38020  3.488217\n",
       "13104      conchali         9223    126955   7.264779      37759  3.362245\n",
       "13105     el bosque         3368    162505   2.072552      47941  3.389687"
      ]
     },
     "execution_count": 105,
     "metadata": {},
     "output_type": "execute_result"
    }
   ],
   "source": [
    "censo['PERS_VIV'] = censo.PERSONAS/censo.TOTAL_VIV\n",
    "censo.head()"
   ]
  },
  {
   "cell_type": "code",
   "execution_count": 106,
   "metadata": {},
   "outputs": [],
   "source": [
    "censo.to_excel('./data/CENSO_2017_COMUNAS_RM.xlsx')"
   ]
  }
 ],
 "metadata": {
  "colab": {
   "name": "Tutorial - EDA.ipynb",
   "provenance": [],
   "version": "0.3.2"
  },
  "kernelspec": {
   "display_name": "Python 3",
   "language": "python",
   "name": "python3"
  },
  "language_info": {
   "codemirror_mode": {
    "name": "ipython",
    "version": 3
   },
   "file_extension": ".py",
   "mimetype": "text/x-python",
   "name": "python",
   "nbconvert_exporter": "python",
   "pygments_lexer": "ipython3",
   "version": "3.6.4"
  }
 },
 "nbformat": 4,
 "nbformat_minor": 2
}
