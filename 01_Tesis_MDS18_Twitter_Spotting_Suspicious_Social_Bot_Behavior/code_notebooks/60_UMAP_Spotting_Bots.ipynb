{
 "cells": [
  {
   "cell_type": "markdown",
   "metadata": {},
   "source": [
    "# UMAP - Spotting Bots \n",
    "- UDD/MDS18/PP4\n",
    "- Final Project: 'Studying Twitter User Accounts: Spotting Suspicious Social Bot Behavior'\n",
    "- Master Candidate: Marcelo Rovai\n",
    "- Professors:\t   \n",
    "    - Eduardo Graells-Garrido (Supervisor)\n",
    "    - Loreto Bravo\n",
    "    - Leo Ferres"
   ]
  },
  {
   "cell_type": "markdown",
   "metadata": {},
   "source": [
    "## Main Libraries & Setup"
   ]
  },
  {
   "cell_type": "code",
   "execution_count": 1,
   "metadata": {
    "ExecuteTime": {
     "end_time": "2019-12-12T14:50:57.020542Z",
     "start_time": "2019-12-12T14:50:51.025331Z"
    }
   },
   "outputs": [],
   "source": [
    "import pandas as pd\n",
    "from pandas.plotting import table\n",
    "import numpy as np\n",
    "import matplotlib.pyplot as plt\n",
    "import seaborn as sns\n",
    "from urllib.request import urlopen\n",
    "import re\n",
    "import botometer\n",
    "import tweepy"
   ]
  },
  {
   "cell_type": "code",
   "execution_count": 2,
   "metadata": {
    "ExecuteTime": {
     "end_time": "2019-12-12T14:50:57.024569Z",
     "start_time": "2019-12-12T14:50:57.022075Z"
    }
   },
   "outputs": [],
   "source": [
    "import warnings\n",
    "warnings.filterwarnings('ignore')"
   ]
  },
  {
   "cell_type": "code",
   "execution_count": 3,
   "metadata": {
    "ExecuteTime": {
     "end_time": "2019-12-12T14:50:57.030961Z",
     "start_time": "2019-12-12T14:50:57.027676Z"
    }
   },
   "outputs": [],
   "source": [
    "pd.set_option('display.float_format', lambda x: '%.f' % x)\n",
    "sns.set_context(\"paper\", rc={\"font.size\":12,\"axes.titlesize\":12,\"axes.labelsize\":12})"
   ]
  },
  {
   "cell_type": "code",
   "execution_count": null,
   "metadata": {
    "ExecuteTime": {
     "end_time": "2019-12-03T13:56:57.529040Z",
     "start_time": "2019-12-03T13:56:57.525741Z"
    }
   },
   "outputs": [],
   "source": [
    "mashape_key = 'botomer_mashape_key'\n",
    "twitter_app_auth = {\n",
    "    'access_token' : \"twitter_acc_access_token\",\n",
    "    'access_token_secret' : \"twitter_acc_access_token_secret\",\n",
    "    'consumer_key' : \"twitter_acc_consumer_key\",\n",
    "    'consumer_secret' : \"twitter_acc_consumer_secret\",    \n",
    "}\n",
    "bom = botometer.Botometer(wait_on_ratelimit = True, mashape_key = mashape_key, **twitter_app_auth)"
   ]
  },
  {
   "cell_type": "markdown",
   "metadata": {},
   "source": [
    "## Main Functions"
   ]
  },
  {
   "cell_type": "code",
   "execution_count": 5,
   "metadata": {
    "ExecuteTime": {
     "end_time": "2019-12-12T14:50:57.042096Z",
     "start_time": "2019-12-12T14:50:57.038600Z"
    }
   },
   "outputs": [],
   "source": [
    "def get_twts_per_day(tweets):\n",
    "    tw_day = []\n",
    "    for d in range (1, 31):\n",
    "        tw_day.append(len(tweets[tweets.day == d]))\n",
    "    return tw_day"
   ]
  },
  {
   "cell_type": "code",
   "execution_count": 6,
   "metadata": {
    "ExecuteTime": {
     "end_time": "2019-12-12T14:50:57.048604Z",
     "start_time": "2019-12-12T14:50:57.044060Z"
    }
   },
   "outputs": [],
   "source": [
    "def get_max_tweet_day(tweets, user_list):\n",
    "    max_twt_day = []\n",
    "    for user_name in user_list:\n",
    "        t = tweets[tweets.user == user_name].reset_index(drop=True)\n",
    "        twt_day = get_twts_per_day(t)\n",
    "        max_twt_day.append(max(twt_day))\n",
    "    max_tweet_day_user = dict(zip(user_list, max_twt_day))\n",
    "    max_tweet_day_user = sorted(max_tweet_day_user.items(), key=lambda x:x[1], reverse=True)\n",
    "    return max_tweet_day_user"
   ]
  },
  {
   "cell_type": "code",
   "execution_count": 7,
   "metadata": {
    "ExecuteTime": {
     "end_time": "2019-12-12T14:50:57.054237Z",
     "start_time": "2019-12-12T14:50:57.050609Z"
    }
   },
   "outputs": [],
   "source": [
    "def verif_acc_active(user):\n",
    "    url = \"https://twitter.com/\"\n",
    "    try:\n",
    "        html = urlopen(url+user).read()\n",
    "        return True \n",
    "    except:\n",
    "        return False"
   ]
  },
  {
   "cell_type": "code",
   "execution_count": 8,
   "metadata": {
    "ExecuteTime": {
     "end_time": "2019-12-12T14:50:57.063127Z",
     "start_time": "2019-12-12T14:50:57.057076Z"
    }
   },
   "outputs": [],
   "source": [
    "def get_hashtags(tweets):\n",
    "    hashtags = []\n",
    "    hashtag_pattern = re.compile(r\"#[a-zA-Z]+\")\n",
    "    hashtag_matches = list(tweets['text'].apply(hashtag_pattern.findall))\n",
    "    hashtag_dict = {}\n",
    "    cnt = 0\n",
    "    for match in hashtag_matches:\n",
    "        for singlematch in match:\n",
    "            if singlematch not in hashtag_dict.keys():\n",
    "                hashtag_dict[singlematch] = 1\n",
    "                cnt +=1\n",
    "            else:\n",
    "                hashtag_dict[singlematch] = hashtag_dict[singlematch]+1\n",
    "                cnt +=1\n",
    "    hashtag_ordered_list =sorted(hashtag_dict.items(), key=lambda x:x[1], reverse=True)\n",
    "    return hashtag_ordered_list, len(hashtag_ordered_list), cnt"
   ]
  },
  {
   "cell_type": "code",
   "execution_count": 9,
   "metadata": {
    "ExecuteTime": {
     "end_time": "2019-12-12T14:50:57.071419Z",
     "start_time": "2019-12-12T14:50:57.065622Z"
    }
   },
   "outputs": [],
   "source": [
    "def get_mentions(tweets):\n",
    "    mentions = []\n",
    "    mention_pattern = re.compile(r\"@[a-zA-Z_]+\")\n",
    "    mention_matches = list(tweets['text'].apply(mention_pattern.findall))\n",
    "    mentions_dict = {}\n",
    "    cnt = 0\n",
    "    for match in mention_matches:\n",
    "        for singlematch in match:\n",
    "            if singlematch not in mentions_dict.keys():\n",
    "                mentions_dict[singlematch] = 1\n",
    "                cnt +=1\n",
    "            else:\n",
    "                mentions_dict[singlematch] = mentions_dict[singlematch]+1\n",
    "                cnt +=1\n",
    "    mentions_ordered_list =sorted(mentions_dict.items(), key=lambda x:x[1], reverse=True)\n",
    "    return mentions_ordered_list, len(mentions_ordered_list), cnt"
   ]
  },
  {
   "cell_type": "code",
   "execution_count": 10,
   "metadata": {
    "ExecuteTime": {
     "end_time": "2019-12-12T14:50:57.105592Z",
     "start_time": "2019-12-12T14:50:57.073698Z"
    }
   },
   "outputs": [],
   "source": [
    "def print_user_features(tweets, user_name, prt=True, ver_act=False): \n",
    "    if ver_act == False:\n",
    "        active_acc = \"Not checked\" \n",
    "    else:\n",
    "        active_acc = verif_acc_active(user_name)\n",
    "        if verif_acc_active(user_name):\n",
    "            active_acc = \"Active\"\n",
    "        else:\n",
    "            active_acc = \"Not Active\"        \n",
    "        \n",
    "    t = tweets[tweets.user == user_name].reset_index(drop=True)\n",
    "\n",
    "    user =  t.user.values[0]\n",
    "    name = t.name.values[0]\n",
    "    user_id = t.user_id.values[0]\n",
    "    default_prof_image = t.default_prof_image.values[0]\n",
    "    photo_url = t.image.values[0]\n",
    "    acc_verif = t.verified.values[0]\n",
    "    location = t.location.values[0]\n",
    "    default_profile = t.default_profile.values[0]\n",
    "    descr = t.description.values[0]  \n",
    "    tws_cnt = t.tweets_cnt.values[0]\n",
    "    frs_cnt = t.following.values[0]\n",
    "    fols_cnt = t.followers.values[0]\n",
    "    fav_cnt = t.favourites.values[0]\n",
    "    \n",
    "    if default_prof_image == False:\n",
    "        if photo_url == 'http://abs.twimg.com/sticky/default_profile_images/default_profile_normal.png':\n",
    "            default_prof_image = True\n",
    "        else:\n",
    "            default_prof_image = False\n",
    "    \n",
    "    if location == '': \n",
    "        local_bol = False\n",
    "    else:\n",
    "        local_bol = True\n",
    "    \n",
    "    if descr == '':\n",
    "        descr_bol = False\n",
    "    else:\n",
    "        descr_bol = True\n",
    "    \n",
    "    tweets_analysed = len(t)\n",
    "    \n",
    "    last_tweet_date = t.created_at.values[-1]\n",
    "    older_tweet_date = t.created_at.values[0]\n",
    "    account_created_date = t.acc_creation.values[0]\n",
    "    \n",
    "    delta = last_tweet_date - account_created_date\n",
    "    days = delta.astype('timedelta64[D]')\n",
    "    account_age_days = days / np.timedelta64(1, 'D')\n",
    "    \n",
    "    recent_delta = last_tweet_date - older_tweet_date\n",
    "    days = recent_delta.astype('timedelta64[D]')\n",
    "    recent_age_days = days / np.timedelta64(1, 'D')  \n",
    "    \n",
    "    ave_acc_tw_day = round(tws_cnt/account_age_days, 2)\n",
    "    ave_recent_tw_day = round(tweets_analysed/recent_age_days, 2)\n",
    "    tw_day = get_twts_per_day(t)\n",
    "    max_tweet_day = max(tw_day)\n",
    "    peak_day = [i for i, j in enumerate(tw_day) if j == max_tweet_day]\n",
    "    peak_day = peak_day[0] + 1\n",
    "\n",
    "    if fav_cnt != 0:    \n",
    "        rt_fv_idx = round(t.retweet_cnt.values[0]/fav_cnt, 2)\n",
    "    else:\n",
    "        rt_fv_idx = 0    \n",
    "    \n",
    "    if frs_cnt != 0:    \n",
    "        fl_fw_idx = round(fols_cnt/frs_cnt, 2)\n",
    "    else:\n",
    "        fl_fw_idx = 0\n",
    "    \n",
    "    RT_tweets = t[t['RT'] == True]\n",
    "    rt_tweets_cnt =  len(RT_tweets)   \n",
    "    rt_ratio = round(rt_tweets_cnt/tweets_analysed*100)\n",
    "\n",
    "    ment_tweets = t[t['num_mentions'] !=0]\n",
    "    ment_tweets_cnt = len(ment_tweets)\n",
    "    ment_ratio = round(ment_tweets_cnt/tweets_analysed*100)\n",
    "    \n",
    "    hash_tweets = t[t['num_hashtags'] !=0]\n",
    "    hash_tweets_cnt = len(hash_tweets)\n",
    "    hash_ratio = round(hash_tweets_cnt/tweets_analysed*100)\n",
    "    \n",
    "    mentions, unique_mentions_cnt, ment_cnt = get_mentions(t)\n",
    "    hashtags, unique_hashtags_cnt, hash_cnt = get_hashtags(t)\n",
    "    \n",
    "    try:\n",
    "        ment_idx = round(unique_mentions_cnt/ment_cnt, 2)\n",
    "    except:\n",
    "        ment_idx = 0.0\n",
    "    try:\n",
    "        hash_idx = round(unique_hashtags_cnt/hash_cnt, 2) \n",
    "    except:\n",
    "        hash_idx = 0.0\n",
    "        \n",
    "    mean_urls = round(t.num_urls.values.mean(), 2)\n",
    "    mean_lenght = round(t.lenght.values.mean(),0)\n",
    " \n",
    "    # New Features   \n",
    "    user_len = len(user)\n",
    "    name_len = len(name)\n",
    "    descr_len = len(descr)\n",
    "    \n",
    "    temp = re.findall(r'\\d+', user)\n",
    "    if len(temp) == 0:\n",
    "        user_len_num = 0\n",
    "    else:\n",
    "        user_len_num = len(temp[0])\n",
    "    \n",
    "    try:\n",
    "        simil_name = 100*(jaccard_similarity(user, name))\n",
    "    except:\n",
    "        simil_name = 0          \n",
    "    \n",
    "    if frs_cnt != 0:    \n",
    "        fols_frs_ratio = round(fols_cnt/frs_cnt, 2)\n",
    "    else:\n",
    "        fols_frs_ratio = 0\n",
    "    \n",
    "    metrics = [\n",
    "        user, user_id, name, default_prof_image, photo_url, acc_verif, \n",
    "        location, local_bol, default_profile, descr, descr_bol, active_acc, tws_cnt, frs_cnt, \n",
    "        fols_cnt, fav_cnt, fl_fw_idx, last_tweet_date, older_tweet_date, \n",
    "        tweets_analysed, account_age_days, ave_acc_tw_day, \n",
    "        ave_recent_tw_day, max_tweet_day, ment_tweets_cnt, hash_tweets_cnt, \n",
    "        unique_mentions_cnt, unique_hashtags_cnt, ment_idx, hash_idx, \n",
    "        rt_ratio, mean_urls, mean_lenght, recent_age_days, user_len, name_len,\n",
    "        user_len_num, simil_name, descr_len\n",
    "    ]\n",
    "    \n",
    "    if prt == True:   \n",
    "        print(\"\\nInfo Data for @\" + user)\n",
    "        print(\"\\nName:                      \", name)\n",
    "        print(\"Name Length:               \", name_len)\n",
    "        print(\"@user number Numeric Chars:\", user_len_num)\n",
    "        print(\"@user and name similarity: \", simil_name)\n",
    "        print(\"User Id:                   \", user_id)\n",
    "        print(\"Default_Photo:             \", default_prof_image)\n",
    "        print(\"Photo URL:                 \", photo_url)\n",
    "        print(\"Acc Verified:              \", acc_verif)\n",
    "        print(\"Has Location:              \", local_bol)\n",
    "        print(\"Location:                  \", location)\n",
    "        print(\"default_profile:           \", default_profile)\n",
    "        print(\"Has Description:           \", descr_bol)\n",
    "        print(\"Description:               \", descr) \n",
    "        print(\"Description length:        \", descr_len) \n",
    "        print(\"Account Active:            \", active_acc)\n",
    "\n",
    "        print(\"\\nNumber of Tweets analyzed:         \", tweets_analysed)\n",
    "        print(\"Last Tweet:                        \", last_tweet_date)\n",
    "        print(\"Older Tweet Analyzed:              \", older_tweet_date)\n",
    "        print(\"Account Active age (in days)        {0:,}\".format(account_age_days))\n",
    "        print(\"Average recent tweets per day:      {}\".format(ave_recent_tw_day))\n",
    "        print(\"Maximum Recent Tweets Per Day:      {} at day {}\".format(max_tweet_day, peak_day))\n",
    "        print(\"Average tweets per day since start: {}\".format(ave_acc_tw_day))\n",
    "        print(\"Total Tweets since start:           {0:,}\".format(tws_cnt))\n",
    "        print(\"Followers_count:                    {0:,}\".format(fols_cnt))\n",
    "        print(\"Friends_following_count             {0:,}\".format(frs_cnt))\n",
    "        print(\"Followers/Following_index:          {}\".format(fl_fw_idx)) \n",
    "        print(\"Favourites (Like) count:            {0:,}\".format(fav_cnt))       \n",
    "        print(\"Retweet_Like_index:                 {}\".format(rt_fv_idx)) \n",
    "        print(\"Retweet Ratio:                      {}%\".format(rt_ratio))\n",
    "        print(\"unique mentions cnt:                {}\".format(unique_mentions_cnt)) \n",
    "        print(\"Mention Ratio:                      {}%\".format(ment_ratio))\n",
    "        print(\"Mention index:                      {}\".format(ment_idx))\n",
    "        print(\"unique hashtags cnt:                {}\".format(unique_hashtags_cnt))     \n",
    "        print(\"Hashtag Ratio:                      {}%\".format(hash_ratio))\n",
    "        print(\"Hashtag Index:                      {}\".format(hash_idx))\n",
    "        print(\"Average URLs per tweet:             {}\".format(mean_urls))\n",
    "        print(\"Average text length per tweet:      {}\".format(mean_lenght))\n",
    "    \n",
    "    return tw_day, peak_day, metrics, mentions, hashtags"
   ]
  },
  {
   "cell_type": "code",
   "execution_count": 11,
   "metadata": {
    "ExecuteTime": {
     "end_time": "2019-12-12T14:50:57.112687Z",
     "start_time": "2019-12-12T14:50:57.107205Z"
    }
   },
   "outputs": [],
   "source": [
    "def plot_feature(df, feat, kde=True, prt=False, save_file_name=None, x_max = None):\n",
    "    f, axes = plt.subplots(ncols=1, figsize=(10, 4))\n",
    "    sns.despine(left=True)\n",
    "    sns.distplot(df[feat],\n",
    "                 color=\"m\",\n",
    "                 hist=False,\n",
    "                 kde=kde,\n",
    "                 kde_kws={\n",
    "                     'shade': True,\n",
    "                     'linewidth': 3\n",
    "                 })\n",
    "    plt.suptitle(feat + \" distribution\", fontsize=20)\n",
    "    plt.xlabel(feat,fontsize=15)\n",
    "    plt.setp(axes, yticks=[])\n",
    "    plt.xlim(0, x_max)\n",
    "\n",
    "    if prt == True:\n",
    "        plt.savefig(\"../images/\"+save_file_name, bbox_inches='tight')"
   ]
  },
  {
   "cell_type": "code",
   "execution_count": 12,
   "metadata": {
    "ExecuteTime": {
     "end_time": "2019-12-12T14:50:57.119218Z",
     "start_time": "2019-12-12T14:50:57.114304Z"
    }
   },
   "outputs": [],
   "source": [
    "def get_info_data(tweets, user_name, ver_act=True, prt=False):\n",
    "    tw_day, peak_day, metrics, mentions, hastags = print_user_features(\n",
    "        tweets, user_name, ver_act=ver_act)\n",
    "    print(\n",
    "        \"\\n \\t[Tweets Sample at Peak Day] \\n\",\n",
    "        tweets[(tweets.user == user_name)\n",
    "               & (tweets.day == peak_day)].text[:10])\n",
    "    plot_user_timeline(user_name, tw_day, prt=prt)\n",
    "    return tw_day, metrics, mentions, hastags"
   ]
  },
  {
   "cell_type": "code",
   "execution_count": 55,
   "metadata": {
    "ExecuteTime": {
     "end_time": "2019-12-12T15:22:34.554719Z",
     "start_time": "2019-12-12T15:22:34.496087Z"
    }
   },
   "outputs": [],
   "source": [
    "def plot_user_timeline(user_name, tw_day, prt=False):   \n",
    "    f, axes = plt.subplots(ncols=1, figsize=(10, 4))\n",
    "    plt.suptitle(\"@\"+user_name+\" - Number of Tweets per day\", fontsize = 20)\n",
    "    sns.despine()\n",
    "    plt.xlabel(\"day of the month\",fontsize=15)\n",
    "    plt.ylabel(\"# tweets\",fontsize=15)\n",
    "    plt.bar(range(1, 31), tw_day);\n",
    "    \n",
    "    if prt == True:\n",
    "        plt.savefig(\"../images/\"+user_name+\" - Timeline.png\", bbox_inches='tight')"
   ]
  },
  {
   "cell_type": "code",
   "execution_count": 14,
   "metadata": {
    "ExecuteTime": {
     "end_time": "2019-12-12T14:50:57.136061Z",
     "start_time": "2019-12-12T14:50:57.127578Z"
    }
   },
   "outputs": [],
   "source": [
    "def plot_feat_comp(feat, prt=False, save_file_name=None, x_max = None):\n",
    "    feat1 = hf[feat]\n",
    "    feat2 = lf[feat]\n",
    "    fig, axes = plt.subplots(ncols=1, figsize=(10, 5))\n",
    "    #fig = plt.figure(figsize = (10,5))\n",
    "    sns.distplot(feat1,\n",
    "                 color=\"m\",\n",
    "                 label='High Frequency',\n",
    "                 hist=False,\n",
    "                 kde=True,\n",
    "                 kde_kws={\n",
    "                     'shade': True,\n",
    "                     'linewidth': 3\n",
    "                 })\n",
    "    plt.xlim(0, x_max)\n",
    "    \n",
    "    sns.distplot(feat2,\n",
    "                 color=\"g\",\n",
    "                 label='Low Frequency',\n",
    "                 hist=False,\n",
    "                 kde=True,\n",
    "                 kde_kws={\n",
    "                     'shade': True,\n",
    "                     'linewidth': 3\n",
    "                 })\n",
    "    plt.xlim(0, x_max)\n",
    "    plt.suptitle(feat+' distribution', fontsize=16)\n",
    "    sns.despine(left=True)\n",
    "    plt.setp(axes, yticks=[])\n",
    "    \n",
    "    if prt == True:\n",
    "        plt.savefig(\"../images/\"+save_file_name, bbox_inches='tight')"
   ]
  },
  {
   "cell_type": "code",
   "execution_count": 15,
   "metadata": {
    "ExecuteTime": {
     "end_time": "2019-12-12T14:50:57.144890Z",
     "start_time": "2019-12-12T14:50:57.138286Z"
    }
   },
   "outputs": [],
   "source": [
    "def plot_feat_comp_2_graph(feat, prt=False, save_file_name=None):\n",
    "    low_freq = lf[feat]\n",
    "    high_freq = hf[feat]\n",
    "    f, axes = plt.subplots(ncols=2, figsize=(10, 4))\n",
    "    sns.despine(left=True)\n",
    "    sns.distplot(high_freq,\n",
    "                 color=\"m\",\n",
    "                 label='High Frequency',\n",
    "                 hist=False,\n",
    "                 kde=True,\n",
    "                 kde_kws={\n",
    "                     'shade': True,\n",
    "                     'linewidth': 3\n",
    "                 },\n",
    "                 ax=axes[0])\n",
    "    sns.distplot(low_freq,\n",
    "                 color=\"g\",\n",
    "                 label='Low Frequency',\n",
    "                 hist=False,\n",
    "                 kde=True,\n",
    "                 kde_kws={\n",
    "                     'shade': True,\n",
    "                     'linewidth': 3\n",
    "                 },\n",
    "                 ax=axes[1])\n",
    "    plt.suptitle(feat + \" distribution\", fontsize=16)\n",
    "    plt.setp(axes, yticks=[])\n",
    "    \n",
    "    if prt == True:\n",
    "        plt.savefig(\"../images/\"+save_file_name, bbox_inches='tight')"
   ]
  },
  {
   "cell_type": "code",
   "execution_count": 16,
   "metadata": {
    "ExecuteTime": {
     "end_time": "2019-12-12T14:50:57.153711Z",
     "start_time": "2019-12-12T14:50:57.147061Z"
    }
   },
   "outputs": [],
   "source": [
    "def get_botometer_details(user, prt=True):\n",
    "    try:\n",
    "        result = bom.check_account(user)\n",
    "        score = result['scores']\n",
    "        score_eng = score[\"english\"]\n",
    "        score_unl = score[\"universal\"]\n",
    "        cap = result['cap']\n",
    "        cap_eng = cap[\"english\"]\n",
    "        cap_unl = cap[\"universal\"]\n",
    "        cat = result['categories']\n",
    "        bt_friend = cat['friend']\n",
    "        bt_network = cat['network']\n",
    "        bt_sent = cat['sentiment']\n",
    "        bt_temp = cat['temporal']\n",
    "        bt_user = cat['user']\n",
    "        if prt == True:\n",
    "            print_botometer_details(result)\n",
    "        return score_eng, score_unl, cap_eng, cap_unl, bt_friend, bt_network, bt_sent, bt_temp, bt_user\n",
    "    except:\n",
    "        if prt == True:\n",
    "            print('{} is not a Twitter user or is blocked'.format(user))\n",
    "        return 0, 0, 0, 0, 0, 0, 0, 0, 0"
   ]
  },
  {
   "cell_type": "code",
   "execution_count": 17,
   "metadata": {
    "ExecuteTime": {
     "end_time": "2019-12-12T14:50:57.162103Z",
     "start_time": "2019-12-12T14:50:57.155797Z"
    }
   },
   "outputs": [],
   "source": [
    "def print_botometer_details(result):\n",
    "    user_data = result['user']\n",
    "    print(\"\\nBotometer Result for @\" + user_data['screen_name'])\n",
    "    print(\"\\nUser Id:     \", user_data[\"id_str\"])\n",
    "    score = result['scores']\n",
    "    print(\"Score_eng:   \", score[\"english\"])\n",
    "    print(\"Score_unl:   \", score[\"universal\"])\n",
    "    cap = result['cap']\n",
    "    print(\"CAP_eng:     \", cap[\"english\"])\n",
    "    print(\"CAP_unl:     \", cap[\"universal\"])\n",
    "    cat = result['categories']\n",
    "    cat = result['categories']\n",
    "    print('\\nCategories:')\n",
    "    print(\"Friend:     \", cat['friend'])\n",
    "    print(\"Network:    \", cat['network'])\n",
    "    print(\"Sentiment:  \", cat['sentiment'])\n",
    "    print(\"Temporal:   \", cat['temporal'])\n",
    "    print(\"User:       \", cat['user'])\n",
    "    print(\"\\nProbability of @{} be a bot is {}%\".format(\n",
    "        user_data['screen_name'], round(score[\"universal\"] * 100)))"
   ]
  },
  {
   "cell_type": "markdown",
   "metadata": {},
   "source": [
    "## Loading Tweets Dataset"
   ]
  },
  {
   "cell_type": "code",
   "execution_count": 18,
   "metadata": {
    "ExecuteTime": {
     "end_time": "2019-12-12T14:50:57.292619Z",
     "start_time": "2019-12-12T14:50:57.164051Z"
    }
   },
   "outputs": [
    {
     "name": "stdout",
     "output_type": "stream",
     "text": [
      "20_tweets_nov_2017.csv             50_user_metrics_final.csv\r\n",
      "30_tweets_nov_2017_final.csv       60_user_metrics_label.csv\r\n",
      "40_user_metrics.csv                df_user_description.csv\r\n",
      "45_user_adit_clean_metrics.csv     select_tweet_feat_description.csv\r\n"
     ]
    }
   ],
   "source": [
    "ls ../data/"
   ]
  },
  {
   "cell_type": "code",
   "execution_count": 19,
   "metadata": {
    "ExecuteTime": {
     "end_time": "2019-12-12T14:51:13.942235Z",
     "start_time": "2019-12-12T14:50:57.294687Z"
    }
   },
   "outputs": [
    {
     "data": {
      "text/plain": [
       "(1601643, 36)"
      ]
     },
     "execution_count": 19,
     "metadata": {},
     "output_type": "execute_result"
    }
   ],
   "source": [
    "tweets = pd.read_csv(\"../data/30_tweets_nov_2017_final.csv\", lineterminator='\\n')\n",
    "tweets.shape"
   ]
  },
  {
   "cell_type": "code",
   "execution_count": 20,
   "metadata": {
    "ExecuteTime": {
     "end_time": "2019-12-12T14:51:14.045424Z",
     "start_time": "2019-12-12T14:51:13.944208Z"
    }
   },
   "outputs": [],
   "source": [
    "del tweets['Unnamed: 0']"
   ]
  },
  {
   "cell_type": "code",
   "execution_count": 21,
   "metadata": {
    "ExecuteTime": {
     "end_time": "2019-12-12T14:51:14.281059Z",
     "start_time": "2019-12-12T14:51:14.047346Z"
    }
   },
   "outputs": [],
   "source": [
    "tweets.description.fillna('', inplace=True)\n",
    "tweets.location.fillna('', inplace=True)"
   ]
  },
  {
   "cell_type": "code",
   "execution_count": 22,
   "metadata": {
    "ExecuteTime": {
     "end_time": "2019-12-12T14:51:17.370868Z",
     "start_time": "2019-12-12T14:51:14.283083Z"
    }
   },
   "outputs": [],
   "source": [
    "tweets['created_at'] = pd.to_datetime(tweets['created_at'], infer_datetime_format = \"%d/%m/%Y\", utc  = False)\n",
    "tweets['acc_creation'] = pd.to_datetime(tweets['acc_creation'], infer_datetime_format = \"%d/%m/%Y\", utc  = False)"
   ]
  },
  {
   "cell_type": "code",
   "execution_count": 23,
   "metadata": {
    "ExecuteTime": {
     "end_time": "2019-12-12T14:51:18.811378Z",
     "start_time": "2019-12-12T14:51:17.377588Z"
    }
   },
   "outputs": [
    {
     "name": "stdout",
     "output_type": "stream",
     "text": [
      "<class 'pandas.core.frame.DataFrame'>\n",
      "RangeIndex: 1601643 entries, 0 to 1601642\n",
      "Data columns (total 35 columns):\n",
      "user_id               1601643 non-null int64\n",
      "user                  1601643 non-null object\n",
      "name                  1601576 non-null object\n",
      "description           1601643 non-null object\n",
      "verified              1601643 non-null bool\n",
      "protected             1601643 non-null bool\n",
      "location              1601643 non-null object\n",
      "lang                  1601643 non-null object\n",
      "followers             1601643 non-null int64\n",
      "following             1601643 non-null int64\n",
      "favourites            1601643 non-null int64\n",
      "lists                 1601643 non-null int64\n",
      "tweets_cnt            1601643 non-null int64\n",
      "acc_creation          1601643 non-null datetime64[ns, UTC]\n",
      "default_profile       1601643 non-null bool\n",
      "default_prof_image    1601643 non-null bool\n",
      "image                 1601643 non-null object\n",
      "text                  1601643 non-null object\n",
      "tweet_id              1601643 non-null int64\n",
      "created_at            1601643 non-null datetime64[ns, UTC]\n",
      "lenght                1601643 non-null int64\n",
      "retweet_cnt           1601643 non-null int64\n",
      "favorite_cnt          1601643 non-null int64\n",
      "reply_to_twt_id       303655 non-null float64\n",
      "reply_to_user         327627 non-null object\n",
      "reply_to_user_id      327627 non-null float64\n",
      "device                1601643 non-null object\n",
      "RT                    1601643 non-null bool\n",
      "Reply                 327627 non-null object\n",
      "retweet_from          1601570 non-null object\n",
      "num_hashtags          1601643 non-null int64\n",
      "num_mentions          1601643 non-null int64\n",
      "num_urls              1601643 non-null int64\n",
      "clean_text            1601643 non-null object\n",
      "day                   1601643 non-null int64\n",
      "dtypes: bool(5), datetime64[ns, UTC](2), float64(2), int64(14), object(12)\n",
      "memory usage: 374.2+ MB\n"
     ]
    }
   ],
   "source": [
    "tweets.info()"
   ]
  },
  {
   "cell_type": "markdown",
   "metadata": {},
   "source": [
    "##  UMAP Possible Bots Users Analysis"
   ]
  },
  {
   "cell_type": "code",
   "execution_count": 24,
   "metadata": {
    "ExecuteTime": {
     "end_time": "2019-12-12T14:51:18.819717Z",
     "start_time": "2019-12-12T14:51:18.814697Z"
    }
   },
   "outputs": [],
   "source": [
    "bots_users_lst = [\n",
    "    'Aptimate', 'EncuestaExpress', 'jaimeantonio67', 'comandoguillie4',\n",
    "    'RResponsablecl', 'mas_estudiantil', 'arqmneira', 'Maria_sepul66',\n",
    "    'cazadorandino90', 'DulceViborita', 'FresiaPavez1', 'Sirius4321',\n",
    "    'viejofasho', 'Ignacio90415476', 'EstudioOsorno', 'NathalySeplved3',\n",
    "    'MSP_LasCondes', 'ElCentinelaMPE', 'caco_sanmartin', 'maasma58',\n",
    "    'Dolores09072598', 'SoleAitkenP', 'JuanManuelCorn5', 'Trab_vXguillier',\n",
    "    'c_alvan_0207', 'Santiag87306226', 'Edelarosacris', 'andres20der',\n",
    "    'mrgrtgautier', 'BassaRiveros', 'Conapro_jjcc', 'SebastianFont20',\n",
    "    'ChristianPolo7', 'almquin', 'chunchitomauro', 'Atletadelgol32',\n",
    "    'laviedej', 'Ange_GossowF', 'Sumate_Guillier', 'solgensen',\n",
    "    'FelipeAlegreJ', 'BarbManriquez', 'jav_ast'\n",
    "]"
   ]
  },
  {
   "cell_type": "markdown",
   "metadata": {},
   "source": [
    "### @mrgrtgautier"
   ]
  },
  {
   "cell_type": "code",
   "execution_count": 25,
   "metadata": {
    "ExecuteTime": {
     "end_time": "2019-12-12T14:51:21.436541Z",
     "start_time": "2019-12-12T14:51:18.821986Z"
    },
    "scrolled": false
   },
   "outputs": [
    {
     "name": "stdout",
     "output_type": "stream",
     "text": [
      "\n",
      "Info Data for @mrgrtgautier\n",
      "\n",
      "Name:                       Marianne\n",
      "Name Length:                8\n",
      "@user number Numeric Chars: 0\n",
      "@user and name similarity:  0\n",
      "User Id:                    927682098122711042\n",
      "Default_Photo:              True\n",
      "Photo URL:                  http://abs.twimg.com/sticky/default_profile_images/default_profile_normal.png\n",
      "Acc Verified:               False\n",
      "Has Location:               False\n",
      "Location:                   \n",
      "default_profile:            True\n",
      "Has Description:            False\n",
      "Description:                \n",
      "Description length:         0\n",
      "Account Active:             Active\n",
      "\n",
      "Number of Tweets analyzed:          55\n",
      "Last Tweet:                         2017-11-19T14:48:07.000000000\n",
      "Older Tweet Analyzed:               2017-11-06T23:57:23.000000000\n",
      "Account Active age (in days)        12.0\n",
      "Average recent tweets per day:      4.58\n",
      "Maximum Recent Tweets Per Day:      53 at day 7\n",
      "Average tweets per day since start: 0.42\n",
      "Total Tweets since start:           5\n",
      "Followers_count:                    0\n",
      "Friends_following_count             26\n",
      "Followers/Following_index:          0.0\n",
      "Favourites (Like) count:            2\n",
      "Retweet_Like_index:                 0.0\n",
      "Retweet Ratio:                      100%\n",
      "unique mentions cnt:                45\n",
      "Mention Ratio:                      100%\n",
      "Mention index:                      0.58\n",
      "unique hashtags cnt:                22\n",
      "Hashtag Ratio:                      85%\n",
      "Hashtag Index:                      0.29\n",
      "Average URLs per tweet:             0.22\n",
      "Average text length per tweet:      120.0\n",
      "\n",
      " \t[Tweets Sample at Peak Day] \n",
      " 203947    RT @comandoguillie4: 🙂📺👩‍🚀👩‍🎓👩‍🌾😎\\nDesde las 2...\n",
      "208115    RT @nonnacorleone: #DebateAnatel vamos Guillie...\n",
      "220510    RT @JovenesGuillier: Se lo dijimos, todos cont...\n",
      "230854    RT @DigitalGuillier: Para evitar que Chile se ...\n",
      "230900    RT @JovenesGuillier: Último debate, ayúdanos a...\n",
      "230978    RT @NUEVO_CICLO_: Piñera lo está diciendo: eli...\n",
      "230997    RT @DigitalGuillier: \"Haré todo lo posible por...\n",
      "231103    RT @NachoRojasC: La calma que proyecta @guilli...\n",
      "231127    RT @cndjlvz: Sólido @guillier, no pierde tiemp...\n",
      "231229    RT @CNJ_IC: El programa existe y lleva meses r...\n",
      "Name: text, dtype: object\n"
     ]
    },
    {
     "data": {
      "image/png": "[encoded data removed]",
      "text/plain": [
       "<Figure size 720x288 with 1 Axes>"
      ]
     },
     "metadata": {
      "needs_background": "light"
     },
     "output_type": "display_data"
    }
   ],
   "source": [
    "user_name = 'mrgrtgautier'\n",
    "tw_day, metrics, mentions, hashtags = get_info_data(tweets, user_name, prt=True)"
   ]
  },
  {
   "cell_type": "markdown",
   "metadata": {},
   "source": [
    "### @ChristianPolo7"
   ]
  },
  {
   "cell_type": "code",
   "execution_count": 26,
   "metadata": {
    "ExecuteTime": {
     "end_time": "2019-12-12T14:51:28.425127Z",
     "start_time": "2019-12-12T14:51:21.439450Z"
    }
   },
   "outputs": [
    {
     "name": "stdout",
     "output_type": "stream",
     "text": [
      "\n",
      "Info Data for @ChristianPolo7\n",
      "\n",
      "Name:                       Christian Polo\n",
      "Name Length:                14\n",
      "@user number Numeric Chars: 1\n",
      "@user and name similarity:  0\n",
      "User Id:                    930604744485285888\n",
      "Default_Photo:              False\n",
      "Photo URL:                  http://pbs.twimg.com/profile_images/930606834813108229/suldiSCt_normal.jpg\n",
      "Acc Verified:               False\n",
      "Has Location:               False\n",
      "Location:                   \n",
      "default_profile:            True\n",
      "Has Description:            True\n",
      "Description:                Siempre a la izquierda...\n",
      "Description length:         25\n",
      "Account Active:             Active\n",
      "\n",
      "Number of Tweets analyzed:          227\n",
      "Last Tweet:                         2017-11-30T23:51:58.000000000\n",
      "Older Tweet Analyzed:               2017-11-15T21:24:25.000000000\n",
      "Account Active age (in days)        15.0\n",
      "Average recent tweets per day:      15.13\n",
      "Maximum Recent Tweets Per Day:      54 at day 23\n",
      "Average tweets per day since start: 0.67\n",
      "Total Tweets since start:           10\n",
      "Followers_count:                    14\n",
      "Friends_following_count             80\n",
      "Followers/Following_index:          0.18\n",
      "Favourites (Like) count:            25\n",
      "Retweet_Like_index:                 0.0\n",
      "Retweet Ratio:                      87%\n",
      "unique mentions cnt:                163\n",
      "Mention Ratio:                      93%\n",
      "Mention index:                      0.52\n",
      "unique hashtags cnt:                46\n",
      "Hashtag Ratio:                      32%\n",
      "Hashtag Index:                      0.49\n",
      "Average URLs per tweet:             0.19\n",
      "Average text length per tweet:      126.0\n",
      "\n",
      " \t[Tweets Sample at Peak Day] \n",
      " 1017706    #LasCarasDeLaMoneda Guillier ganará la segunda...\n",
      "1018221    RT @JovenesGuillier: \"Las encuestas se utiliza...\n",
      "1018506    RT @simonaxm: #LasCarasDeLaMoneda\\n#GuillierGi...\n",
      "1019100    #LasCarasDeLaMoneda Guillier ganará la segunda...\n",
      "1020322    #LasCarasDeLaMoneda Guillier ganará la segunda...\n",
      "1021874    #LasCarasDeLaMoneda Guillier ganará la segunda...\n",
      "1024134    RT @JovenesGuillier: Se escucha en #LasCarasDe...\n",
      "1024169    RT @vueltadpagina: Guillier dando clase de \"de...\n",
      "1024371    RT @juan_acosta_a: @guillier: \"Yo quiero ayuda...\n",
      "1024570    RT @Chile_Alerta: Guillier no cae ante insiste...\n",
      "Name: text, dtype: object\n"
     ]
    },
    {
     "data": {
      "image/png": "[encoded data removed]",
      "text/plain": [
       "<Figure size 720x288 with 1 Axes>"
      ]
     },
     "metadata": {
      "needs_background": "light"
     },
     "output_type": "display_data"
    }
   ],
   "source": [
    "user_name = 'ChristianPolo7'\n",
    "tw_day, metrics, mentions, hashtags = get_info_data(tweets, user_name, prt=True)"
   ]
  },
  {
   "cell_type": "markdown",
   "metadata": {},
   "source": [
    "### @Conapro_jjcc"
   ]
  },
  {
   "cell_type": "code",
   "execution_count": 27,
   "metadata": {
    "ExecuteTime": {
     "end_time": "2019-12-12T14:51:30.884794Z",
     "start_time": "2019-12-12T14:51:28.427845Z"
    }
   },
   "outputs": [
    {
     "name": "stdout",
     "output_type": "stream",
     "text": [
      "\n",
      "Info Data for @Conapro_jjcc\n",
      "\n",
      "Name:                       CONAPRÓ\n",
      "Name Length:                7\n",
      "@user number Numeric Chars: 0\n",
      "@user and name similarity:  0\n",
      "User Id:                    920112515832565761\n",
      "Default_Photo:              False\n",
      "Photo URL:                  http://pbs.twimg.com/profile_images/920113808139571206/kBVbQwZd_normal.jpg\n",
      "Acc Verified:               False\n",
      "Has Location:               True\n",
      "Location:                   Chile\n",
      "default_profile:            True\n",
      "Has Description:            True\n",
      "Description:                Comisión Nacional de Profesores de las Juventudes Comunistas de Chile (@jjcc_chile)\n",
      "Description length:         83\n",
      "Account Active:             Active\n",
      "\n",
      "Number of Tweets analyzed:          72\n",
      "Last Tweet:                         2017-11-08T13:35:27.000000000\n",
      "Older Tweet Analyzed:               2017-11-08T13:35:27.000000000\n",
      "Account Active age (in days)        22.0\n",
      "Average recent tweets per day:      inf\n",
      "Maximum Recent Tweets Per Day:      61 at day 8\n",
      "Average tweets per day since start: 0.09\n",
      "Total Tweets since start:           2\n",
      "Followers_count:                    14\n",
      "Friends_following_count             9\n",
      "Followers/Following_index:          1.56\n",
      "Favourites (Like) count:            0\n",
      "Retweet_Like_index:                 0\n",
      "Retweet Ratio:                      0%\n",
      "unique mentions cnt:                1\n",
      "Mention Ratio:                      85%\n",
      "Mention index:                      0.02\n",
      "unique hashtags cnt:                4\n",
      "Hashtag Ratio:                      100%\n",
      "Hashtag Index:                      0.03\n",
      "Average URLs per tweet:             1.0\n",
      "Average text length per tweet:      183.0\n",
      "\n",
      " \t[Tweets Sample at Peak Day] \n",
      " 294412    Estas son algunas de las propuestas de @Guilli...\n",
      "294426    Estas son algunas de las propuestas de @Guilli...\n",
      "294438    Estas son algunas de las propuestas de @Guilli...\n",
      "294445    Estas son algunas de las propuestas de @Guilli...\n",
      "294458    Estas son algunas de las propuestas de @Guilli...\n",
      "294461    Estas son algunas de las propuestas de @Guilli...\n",
      "294482    Estas son algunas de las propuestas de @Guilli...\n",
      "294499    Estas son algunas de las propuestas de @Guilli...\n",
      "294563    Estas son algunas de las propuestas de @Guilli...\n",
      "294584    Estas son algunas de las propuestas de @Guilli...\n",
      "Name: text, dtype: object\n"
     ]
    },
    {
     "data": {
      "image/png": "[encoded data removed]",
      "text/plain": [
       "<Figure size 720x288 with 1 Axes>"
      ]
     },
     "metadata": {
      "needs_background": "light"
     },
     "output_type": "display_data"
    }
   ],
   "source": [
    "user_name = 'Conapro_jjcc'\n",
    "tw_day, metrics, mentions, hashtags = get_info_data(tweets, user_name, prt=True)"
   ]
  },
  {
   "cell_type": "markdown",
   "metadata": {},
   "source": [
    "### @Atletadelgol32"
   ]
  },
  {
   "cell_type": "code",
   "execution_count": 28,
   "metadata": {
    "ExecuteTime": {
     "end_time": "2019-12-12T14:51:33.035439Z",
     "start_time": "2019-12-12T14:51:30.886962Z"
    }
   },
   "outputs": [
    {
     "name": "stdout",
     "output_type": "stream",
     "text": [
      "\n",
      "Info Data for @Atletadelgol32\n",
      "\n",
      "Name:                       Leonardo Gonzalez\n",
      "Name Length:                17\n",
      "@user number Numeric Chars: 2\n",
      "@user and name similarity:  0\n",
      "User Id:                    931193481162383360\n",
      "Default_Photo:              False\n",
      "Photo URL:                  http://pbs.twimg.com/profile_images/931343805432975364/uedmN423_normal.jpg\n",
      "Acc Verified:               False\n",
      "Has Location:               True\n",
      "Location:                   Valparaíso, Chile\n",
      "default_profile:            False\n",
      "Has Description:            True\n",
      "Description:                Relator deportivo (no profesional todavia) , futuro periodista , locuciones 🙌 ⚽️🎙️📻❤️estudiante , emociones , opinion 100% al publico , buena onda😊😀 , sociable.\n",
      "Description length:         160\n",
      "Account Active:             Not Active\n",
      "\n",
      "Number of Tweets analyzed:          90\n",
      "Last Tweet:                         2017-11-20T03:33:41.000000000\n",
      "Older Tweet Analyzed:               2017-11-17T04:02:03.000000000\n",
      "Account Active age (in days)        3.0\n",
      "Average recent tweets per day:      45.0\n",
      "Maximum Recent Tweets Per Day:      54 at day 19\n",
      "Average tweets per day since start: 5.33\n",
      "Total Tweets since start:           16\n",
      "Followers_count:                    10\n",
      "Friends_following_count             232\n",
      "Followers/Following_index:          0.04\n",
      "Favourites (Like) count:            19\n",
      "Retweet_Like_index:                 0.0\n",
      "Retweet Ratio:                      97%\n",
      "unique mentions cnt:                30\n",
      "Mention Ratio:                      100%\n",
      "Mention index:                      0.27\n",
      "unique hashtags cnt:                14\n",
      "Hashtag Ratio:                      53%\n",
      "Hashtag Index:                      0.19\n",
      "Average URLs per tweet:             0.31\n",
      "Average text length per tweet:      132.0\n",
      "\n",
      " \t[Tweets Sample at Peak Day] \n",
      " 614929    RT @AmpuegolIvan: Alejandro Guillier gana en J...\n",
      "614971    RT @biobio: 🔴 El resultado de las primeras mes...\n",
      "614986    RT @pelotazo: DATOS extraoficiales. En Nueva Z...\n",
      "616937    RT @Cooperativa: Alejandro Navarro (País) real...\n",
      "618430    RT @Cooperativa: Carolina Goic: \"Estoy muy tra...\n",
      "618608    RT @PublimetroChile: 🗳 #EleccionesChile2017 #C...\n",
      "619756    RT @PublimetroChile: 🗳 #EleccionesChile2017 #C...\n",
      "619785    RT @Cooperativa: Alejandro Guillier reveló sus...\n",
      "623238    RT @biobio: #VotaChile Resultados preliminares...\n",
      "630074    Se vota en el instituto marítimo de #Valparais...\n",
      "Name: text, dtype: object\n"
     ]
    },
    {
     "data": {
      "image/png": "[encoded data removed]",
      "text/plain": [
       "<Figure size 720x288 with 1 Axes>"
      ]
     },
     "metadata": {
      "needs_background": "light"
     },
     "output_type": "display_data"
    }
   ],
   "source": [
    "user_name = 'Atletadelgol32'\n",
    "tw_day, metrics, mentions, hashtags = get_info_data(tweets, user_name, prt=True)"
   ]
  },
  {
   "cell_type": "markdown",
   "metadata": {},
   "source": [
    "### @ElCentinelaMPE"
   ]
  },
  {
   "cell_type": "code",
   "execution_count": 29,
   "metadata": {
    "ExecuteTime": {
     "end_time": "2019-12-12T14:51:36.798907Z",
     "start_time": "2019-12-12T14:51:33.038627Z"
    }
   },
   "outputs": [
    {
     "name": "stdout",
     "output_type": "stream",
     "text": [
      "\n",
      "Info Data for @ElCentinelaMPE\n",
      "\n",
      "Name:                       El Centinela\n",
      "Name Length:                12\n",
      "@user number Numeric Chars: 0\n",
      "@user and name similarity:  0\n",
      "User Id:                    921445622678478848\n",
      "Default_Photo:              False\n",
      "Photo URL:                  http://pbs.twimg.com/profile_images/921446439846383616/VJVnqA3F_normal.jpg\n",
      "Acc Verified:               False\n",
      "Has Location:               True\n",
      "Location:                   Santiago, Chile\n",
      "default_profile:            False\n",
      "Has Description:            True\n",
      "Description:                Noticias y actualidad desde el Magíster en Periodismo UC-El Mercurio.\n",
      "Description length:         69\n",
      "Account Active:             Active\n",
      "\n",
      "Number of Tweets analyzed:          141\n",
      "Last Tweet:                         2017-11-20T00:44:21.000000000\n",
      "Older Tweet Analyzed:               2017-11-02T17:00:04.000000000\n",
      "Account Active age (in days)        30.0\n",
      "Average recent tweets per day:      8.29\n",
      "Maximum Recent Tweets Per Day:      114 at day 19\n",
      "Average tweets per day since start: 0.47\n",
      "Total Tweets since start:           14\n",
      "Followers_count:                    9\n",
      "Friends_following_count             25\n",
      "Followers/Following_index:          0.36\n",
      "Favourites (Like) count:            1\n",
      "Retweet_Like_index:                 0.0\n",
      "Retweet Ratio:                      1%\n",
      "unique mentions cnt:                13\n",
      "Mention Ratio:                      30%\n",
      "Mention index:                      0.15\n",
      "unique hashtags cnt:                13\n",
      "Hashtag Ratio:                      90%\n",
      "Hashtag Index:                      0.08\n",
      "Average URLs per tweet:             0.74\n",
      "Average text length per tweet:      166.0\n",
      "\n",
      " \t[Tweets Sample at Peak Day] \n",
      " 620134    En las mesas de China y Hong Kong:\\nPiñera 88 ...\n",
      "624504    Rodeado de prensa y adherentes, Sebastián Piñe...\n",
      "626233    Piñera sale resguardado tras votar. Afuera de ...\n",
      "626646    En Viña del Mar, a esta hora vota el senador F...\n",
      "626815    En Viña del Mar, a esta hora vota el senador F...\n",
      "626863    En Viña del Mar, a esta hora vota el senador F...\n",
      "626997    En Viña del Mar, a esta hora vota el senador F...\n",
      "627004    En Viña del Mar, a esta hora vota el senador F...\n",
      "627317    En Antofagasta, acaba de votar Alejandro Guill...\n",
      "627339    En Viña del Mar, a esta hora vota el senador F...\n",
      "Name: text, dtype: object\n"
     ]
    },
    {
     "data": {
      "image/png": "[encoded data removed]",
      "text/plain": [
       "<Figure size 720x288 with 1 Axes>"
      ]
     },
     "metadata": {
      "needs_background": "light"
     },
     "output_type": "display_data"
    }
   ],
   "source": [
    "user_name = 'ElCentinelaMPE'\n",
    "tw_day, metrics, mentions, hashtags = get_info_data(tweets, user_name, prt=True)"
   ]
  },
  {
   "cell_type": "markdown",
   "metadata": {},
   "source": [
    "### @JuanManuelCorn5"
   ]
  },
  {
   "cell_type": "code",
   "execution_count": 30,
   "metadata": {
    "ExecuteTime": {
     "end_time": "2019-12-12T14:51:39.865173Z",
     "start_time": "2019-12-12T14:51:36.803803Z"
    }
   },
   "outputs": [
    {
     "name": "stdout",
     "output_type": "stream",
     "text": [
      "\n",
      "Info Data for @JuanManuelCorn5\n",
      "\n",
      "Name:                       Juan Manuel Cornejo\n",
      "Name Length:                19\n",
      "@user number Numeric Chars: 1\n",
      "@user and name similarity:  0\n",
      "User Id:                    902771116560789507\n",
      "Default_Photo:              True\n",
      "Photo URL:                  http://abs.twimg.com/sticky/default_profile_images/default_profile_normal.png\n",
      "Acc Verified:               False\n",
      "Has Location:               True\n",
      "Location:                   La Reina, Chile\n",
      "default_profile:            True\n",
      "Has Description:            True\n",
      "Description:                Me carga discriminar. Pero confieso que lo hago. Pido perdon por eso. Ayudame Dios poderoso para aprender amar bien.\n",
      "Description length:         116\n",
      "Account Active:             Active\n",
      "\n",
      "Number of Tweets analyzed:          84\n",
      "Last Tweet:                         2017-11-30T11:27:27.000000000\n",
      "Older Tweet Analyzed:               2017-11-03T20:23:47.000000000\n",
      "Account Active age (in days)        92.0\n",
      "Average recent tweets per day:      3.23\n",
      "Maximum Recent Tweets Per Day:      52 at day 20\n",
      "Average tweets per day since start: 0.29\n",
      "Total Tweets since start:           27\n",
      "Followers_count:                    1\n",
      "Friends_following_count             42\n",
      "Followers/Following_index:          0.02\n",
      "Favourites (Like) count:            1\n",
      "Retweet_Like_index:                 0.0\n",
      "Retweet Ratio:                      1%\n",
      "unique mentions cnt:                95\n",
      "Mention Ratio:                      100%\n",
      "Mention index:                      0.04\n",
      "unique hashtags cnt:                0\n",
      "Hashtag Ratio:                      0%\n",
      "Hashtag Index:                      0.0\n",
      "Average URLs per tweet:             0.02\n",
      "Average text length per tweet:      654.0\n",
      "\n",
      " \t[Tweets Sample at Peak Day] \n",
      " 722604    @douglasmery @lvillavicenciom @sebastianpinera...\n",
      "747788    @luisteelchazeau @douglasmery @joseantoniokast...\n",
      "747891    @luisteelchazeau @douglasmery @joseantoniokast...\n",
      "748430    @luisteelchazeau @douglasmery @joseantoniokast...\n",
      "749328    @luisteelchazeau @douglasmery @joseantoniokast...\n",
      "749739    @luisteelchazeau @douglasmery @joseantoniokast...\n",
      "751462    @luisteelchazeau @douglasmery @joseantoniokast...\n",
      "760865    @luisteelchazeau @douglasmery @joseantoniokast...\n",
      "764654    @Derechatuitera2 @joseantoniokast @sebastianpi...\n",
      "766101    @IvanOlguin @euge2145 @sebastianpinera @josean...\n",
      "Name: text, dtype: object\n"
     ]
    },
    {
     "data": {
      "image/png": "[encoded data removed]",
      "text/plain": [
       "<Figure size 720x288 with 1 Axes>"
      ]
     },
     "metadata": {
      "needs_background": "light"
     },
     "output_type": "display_data"
    }
   ],
   "source": [
    "user_name = 'JuanManuelCorn5'\n",
    "tw_day, metrics, mentions, hashtags = get_info_data(tweets, user_name, prt=True)"
   ]
  },
  {
   "cell_type": "markdown",
   "metadata": {},
   "source": [
    "### @Santiag87306226"
   ]
  },
  {
   "cell_type": "code",
   "execution_count": 31,
   "metadata": {
    "ExecuteTime": {
     "end_time": "2019-12-12T14:51:41.220426Z",
     "start_time": "2019-12-12T14:51:39.868101Z"
    }
   },
   "outputs": [
    {
     "name": "stdout",
     "output_type": "stream",
     "text": [
      "\n",
      "Info Data for @Santiag87306226\n",
      "\n",
      "Name:                       Santiago Carvajal S\n",
      "Name Length:                19\n",
      "@user number Numeric Chars: 8\n",
      "@user and name similarity:  0\n",
      "User Id:                    919691533212930048\n",
      "Default_Photo:              False\n",
      "Photo URL:                  http://pbs.twimg.com/profile_images/919907532558266369/W2r8KjFl_normal.jpg\n",
      "Acc Verified:               False\n",
      "Has Location:               False\n",
      "Location:                   \n",
      "default_profile:            True\n",
      "Has Description:            True\n",
      "Description:                Estudiante de Derecho UA y un ciudadano preocupado por el dia de hoy.\n",
      "Description length:         69\n",
      "Account Active:             Not Active\n",
      "\n",
      "Number of Tweets analyzed:          106\n",
      "Last Tweet:                         2017-11-29T22:26:51.000000000\n",
      "Older Tweet Analyzed:               2017-11-06T01:54:58.000000000\n",
      "Account Active age (in days)        44.0\n",
      "Average recent tweets per day:      4.61\n",
      "Maximum Recent Tweets Per Day:      72 at day 6\n",
      "Average tweets per day since start: 1.0\n",
      "Total Tweets since start:           44\n",
      "Followers_count:                    14\n",
      "Friends_following_count             60\n",
      "Followers/Following_index:          0.23\n",
      "Favourites (Like) count:            63\n",
      "Retweet_Like_index:                 0.0\n",
      "Retweet Ratio:                      9%\n",
      "unique mentions cnt:                23\n",
      "Mention Ratio:                      99%\n",
      "Mention index:                      0.17\n",
      "unique hashtags cnt:                22\n",
      "Hashtag Ratio:                      89%\n",
      "Hashtag Index:                      0.12\n",
      "Average URLs per tweet:             0.04\n",
      "Average text length per tweet:      155.0\n",
      "\n",
      " \t[Tweets Sample at Peak Day] \n",
      " 147507    RT @JovenesGuillier: ¡Ya empezó! Súmate a la c...\n",
      "148020    #Tolerancia0 @guillier si es un hombre prepara...\n",
      "153028    #Tolerancia0 para todos esos derechistas que d...\n",
      "153585    RT @NegroMartinez: Bien @guillier dando cifras...\n",
      "154429    #Tolerancia0  @Guillier2018  un hombre qe cree...\n",
      "156323    @MaceirasJorge @croldan77 @jtgazmuri @guillier...\n",
      "157879    #Tolerancia0 Todos los estudiantes qe estudiam...\n",
      "158071    #Tolerancia0 Todos los estudiantes qe estudiam...\n",
      "158500    #Tolerancia0 Todos los estudiantes qe estudiam...\n",
      "159091    #Tolerancia0 Todos los estudiantes qe estudiam...\n",
      "Name: text, dtype: object\n"
     ]
    },
    {
     "data": {
      "image/png": "[encoded data removed]",
      "text/plain": [
       "<Figure size 720x288 with 1 Axes>"
      ]
     },
     "metadata": {
      "needs_background": "light"
     },
     "output_type": "display_data"
    }
   ],
   "source": [
    "user_name = 'Santiag87306226'\n",
    "tw_day, metrics, mentions, hashtags = get_info_data(tweets, user_name, prt=True)"
   ]
  },
  {
   "cell_type": "markdown",
   "metadata": {},
   "source": [
    "### @FelipeAlegreJ"
   ]
  },
  {
   "cell_type": "code",
   "execution_count": 32,
   "metadata": {
    "ExecuteTime": {
     "end_time": "2019-12-12T14:51:43.896984Z",
     "start_time": "2019-12-12T14:51:41.222690Z"
    }
   },
   "outputs": [
    {
     "name": "stdout",
     "output_type": "stream",
     "text": [
      "\n",
      "Info Data for @FelipeAlegreJ\n",
      "\n",
      "Name:                       Felipe Alegre\n",
      "Name Length:                13\n",
      "@user number Numeric Chars: 0\n",
      "@user and name similarity:  0\n",
      "User Id:                    899835561669689344\n",
      "Default_Photo:              False\n",
      "Photo URL:                  http://pbs.twimg.com/profile_images/900117258051178497/r-LAHy5B_normal.jpg\n",
      "Acc Verified:               False\n",
      "Has Location:               True\n",
      "Location:                   San Miguel, Chile\n",
      "default_profile:            True\n",
      "Has Description:            True\n",
      "Description:                Periodista\n",
      "Description length:         10\n",
      "Account Active:             Active\n",
      "\n",
      "Number of Tweets analyzed:          176\n",
      "Last Tweet:                         2017-11-23T20:47:47.000000000\n",
      "Older Tweet Analyzed:               2017-11-23T20:47:47.000000000\n",
      "Account Active age (in days)        93.0\n",
      "Average recent tweets per day:      inf\n",
      "Maximum Recent Tweets Per Day:      174 at day 23\n",
      "Average tweets per day since start: 1.17\n",
      "Total Tweets since start:           109\n",
      "Followers_count:                    20\n",
      "Friends_following_count             220\n",
      "Followers/Following_index:          0.09\n",
      "Favourites (Like) count:            62\n",
      "Retweet_Like_index:                 0.0\n",
      "Retweet Ratio:                      0%\n",
      "unique mentions cnt:                7\n",
      "Mention Ratio:                      100%\n",
      "Mention index:                      0.03\n",
      "unique hashtags cnt:                2\n",
      "Hashtag Ratio:                      88%\n",
      "Hashtag Index:                      0.01\n",
      "Average URLs per tweet:             0.95\n",
      "Average text length per tweet:      220.0\n",
      "\n",
      " \t[Tweets Sample at Peak Day] \n",
      " 1095975    @Emol @sebastianpinera eres lo peor de lo nues...\n",
      "1097476    ¡VERGONZOSO! Se vienen los ofertones mulas del...\n",
      "1098321    @Emol @sebastianpinera eres lo peor de lo nues...\n",
      "1099970    ¡VERGONZOSO! Se vienen los ofertones mulas del...\n",
      "1100047    ¡VERGONZOSO! Se vienen los ofertones mulas del...\n",
      "1100110    ¡VERGONZOSO! Se vienen los ofertones mulas del...\n",
      "1100372    ¡VERGONZOSO! Se vienen los ofertones mulas del...\n",
      "1101464    ¡VERGONZOSO! Se vienen los ofertones mulas del...\n",
      "1101890    ¡VERGONZOSO! Se vienen los ofertones mulas del...\n",
      "1102024    ¡VERGONZOSO! Se vienen los ofertones mulas del...\n",
      "Name: text, dtype: object\n"
     ]
    },
    {
     "data": {
      "image/png": "[encoded data removed]",
      "text/plain": [
       "<Figure size 720x288 with 1 Axes>"
      ]
     },
     "metadata": {
      "needs_background": "light"
     },
     "output_type": "display_data"
    }
   ],
   "source": [
    "user_name = 'FelipeAlegreJ'\n",
    "tw_day, metrics, mentions, hashtags = get_info_data(tweets, user_name, prt=True)"
   ]
  },
  {
   "cell_type": "markdown",
   "metadata": {},
   "source": [
    "### @Trab_vXguillier"
   ]
  },
  {
   "cell_type": "code",
   "execution_count": 33,
   "metadata": {
    "ExecuteTime": {
     "end_time": "2019-12-12T14:51:47.058105Z",
     "start_time": "2019-12-12T14:51:43.899196Z"
    },
    "scrolled": false
   },
   "outputs": [
    {
     "name": "stdout",
     "output_type": "stream",
     "text": [
      "\n",
      "Info Data for @Trab_vXguillier\n",
      "\n",
      "Name:                       Guillier Por Chile\n",
      "Name Length:                18\n",
      "@user number Numeric Chars: 0\n",
      "@user and name similarity:  0\n",
      "User Id:                    914987912630083585\n",
      "Default_Photo:              False\n",
      "Photo URL:                  http://pbs.twimg.com/profile_images/915014108336066561/2jpojTwe_normal.jpg\n",
      "Acc Verified:               False\n",
      "Has Location:               False\n",
      "Location:                   \n",
      "default_profile:            True\n",
      "Has Description:            True\n",
      "Description:                Trabajadores públicos de la región de Valparaíso que apoyamos al futuro presidente de la gente de Chile\n",
      "Description length:         103\n",
      "Account Active:             Active\n",
      "\n",
      "Number of Tweets analyzed:          178\n",
      "Last Tweet:                         2017-11-29T22:18:36.000000000\n",
      "Older Tweet Analyzed:               2017-11-03T21:02:31.000000000\n",
      "Account Active age (in days)        57.0\n",
      "Average recent tweets per day:      6.85\n",
      "Maximum Recent Tweets Per Day:      71 at day 3\n",
      "Average tweets per day since start: 1.54\n",
      "Total Tweets since start:           88\n",
      "Followers_count:                    66\n",
      "Friends_following_count             302\n",
      "Followers/Following_index:          0.22\n",
      "Favourites (Like) count:            53\n",
      "Retweet_Like_index:                 0.0\n",
      "Retweet Ratio:                      5%\n",
      "unique mentions cnt:                26\n",
      "Mention Ratio:                      81%\n",
      "Mention index:                      0.08\n",
      "unique hashtags cnt:                13\n",
      "Hashtag Ratio:                      40%\n",
      "Hashtag Index:                      0.12\n",
      "Average URLs per tweet:             0.6\n",
      "Average text length per tweet:      175.0\n",
      "\n",
      " \t[Tweets Sample at Peak Day] \n",
      " 90557    En #VinadelMar @Trab_vXguillier  de la juegan ...\n",
      "91823    Cada gota de energía se suma para que el 19 de...\n",
      "91839    Cada gota de energía se suma para que el 19 de...\n",
      "91859    Cada gota de energía se suma para que el 19 de...\n",
      "92182    Cada gota de energía se suma para que el 19 de...\n",
      "92303    Cada gota de energía se suma para que el 19 de...\n",
      "92902    Cada gota de energía se suma para que el 19 de...\n",
      "93132    Cada gota de energía se suma para que el 19 de...\n",
      "93538    Cada gota de energía se suma para que el 19 de...\n",
      "95614    Cada gota de energía se suma para que el 19 de...\n",
      "Name: text, dtype: object\n"
     ]
    },
    {
     "data": {
      "image/png": "[encoded data removed]",
      "text/plain": [
       "<Figure size 720x288 with 1 Axes>"
      ]
     },
     "metadata": {
      "needs_background": "light"
     },
     "output_type": "display_data"
    }
   ],
   "source": [
    "user_name = 'Trab_vXguillier'\n",
    "tw_day, metrics, mentions, hashtags = get_info_data(tweets, user_name, prt=True)"
   ]
  },
  {
   "cell_type": "code",
   "execution_count": 34,
   "metadata": {
    "ExecuteTime": {
     "end_time": "2019-12-12T14:51:47.157374Z",
     "start_time": "2019-12-12T14:51:47.060423Z"
    },
    "scrolled": true
   },
   "outputs": [
    {
     "data": {
      "text/plain": [
       "128481    Hoy todos a sentarse al sillón a acompañar a @...\n",
       "128573    Hoy todos a sentarse al sillón a acompañar a @...\n",
       "129342    Hoy todos a sentarse al sillón a acompañar a @...\n",
       "129537    Hoy todos a sentarse al sillón a acompañar a @...\n",
       "131917    Hoy todos a sentarse al sillón a acompañar a @...\n",
       "134894    Hoy todos a sentarse al sillón a acompañar a @...\n",
       "137737    Hoy todos a sentarse al sillón a acompañar a @...\n",
       "140357    Hoy todos a sentarse al sillón a acompañar a @...\n",
       "419381    Hoy todos a sentarse al sillón a acompañar a @...\n",
       "Name: text, dtype: object"
      ]
     },
     "execution_count": 34,
     "metadata": {},
     "output_type": "execute_result"
    }
   ],
   "source": [
    "tweets[(tweets.user == user_name)& (tweets.day == 5)].text"
   ]
  },
  {
   "cell_type": "markdown",
   "metadata": {},
   "source": [
    "### @Sumate_Guillier"
   ]
  },
  {
   "cell_type": "code",
   "execution_count": 35,
   "metadata": {
    "ExecuteTime": {
     "end_time": "2019-12-12T14:51:48.471610Z",
     "start_time": "2019-12-12T14:51:47.159479Z"
    }
   },
   "outputs": [
    {
     "name": "stdout",
     "output_type": "stream",
     "text": [
      "\n",
      "Info Data for @Sumate_Guillier\n",
      "\n",
      "Name:                       #SúmateAGuillier\n",
      "Name Length:                16\n",
      "@user number Numeric Chars: 0\n",
      "@user and name similarity:  0\n",
      "User Id:                    933384768804110336\n",
      "Default_Photo:              False\n",
      "Photo URL:                  http://pbs.twimg.com/profile_images/933385440794632192/MwSY39xo_normal.jpg\n",
      "Acc Verified:               False\n",
      "Has Location:               True\n",
      "Location:                   Chile\n",
      "default_profile:            True\n",
      "Has Description:            True\n",
      "Description:                Súmate a apoyar la candidatura del próximo Presidente de Chile, Alejandro Guillier.\n",
      "Description length:         83\n",
      "Account Active:             Not Active\n",
      "\n",
      "Number of Tweets analyzed:          530\n",
      "Last Tweet:                         2017-11-29T13:47:07.000000000\n",
      "Older Tweet Analyzed:               2017-11-22T18:17:45.000000000\n",
      "Account Active age (in days)        6.0\n",
      "Average recent tweets per day:      88.33\n",
      "Maximum Recent Tweets Per Day:      195 at day 23\n",
      "Average tweets per day since start: 0.33\n",
      "Total Tweets since start:           2\n",
      "Followers_count:                    18\n",
      "Friends_following_count             32\n",
      "Followers/Following_index:          0.56\n",
      "Favourites (Like) count:            1\n",
      "Retweet_Like_index:                 17.0\n",
      "Retweet Ratio:                      3%\n",
      "unique mentions cnt:                15\n",
      "Mention Ratio:                      53%\n",
      "Mention index:                      0.03\n",
      "unique hashtags cnt:                11\n",
      "Hashtag Ratio:                      79%\n",
      "Hashtag Index:                      0.02\n",
      "Average URLs per tweet:             0.55\n",
      "Average text length per tweet:      159.0\n",
      "\n",
      " \t[Tweets Sample at Peak Day] \n",
      " 1011443    Hoy 22.30 hrs! El candidato de la gente @guill...\n",
      "1011591    Hoy 22.30 hrs! El candidato de la gente @guill...\n",
      "1011640    Hoy 22.30 hrs! El candidato de la gente @guill...\n",
      "1011706    Hoy 22.30 hrs! El candidato de la gente @guill...\n",
      "1012063    Hoy 22.30 hrs! El candidato de la gente @guill...\n",
      "1012223    Hoy 22.30 hrs! El candidato de la gente @guill...\n",
      "1012258    Hoy 22.30 hrs! El candidato de la gente @guill...\n",
      "1012924    Hoy 22.30 hrs! El candidato de la gente @guill...\n",
      "1013534    Hoy 22.30 hrs! El candidato de la gente @guill...\n",
      "1013561    Hoy 22.30 hrs! El candidato de la gente @guill...\n",
      "Name: text, dtype: object\n"
     ]
    },
    {
     "data": {
      "image/png": "[encoded data removed]",
      "text/plain": [
       "<Figure size 720x288 with 1 Axes>"
      ]
     },
     "metadata": {
      "needs_background": "light"
     },
     "output_type": "display_data"
    }
   ],
   "source": [
    "user_name = 'Sumate_Guillier'\n",
    "tw_day, metrics, mentions, hashtags = get_info_data(tweets, user_name, prt=True)"
   ]
  },
  {
   "cell_type": "markdown",
   "metadata": {},
   "source": [
    "### @viejofasho"
   ]
  },
  {
   "cell_type": "code",
   "execution_count": 37,
   "metadata": {
    "ExecuteTime": {
     "end_time": "2019-12-12T14:51:51.196606Z",
     "start_time": "2019-12-12T14:51:48.562904Z"
    }
   },
   "outputs": [
    {
     "name": "stdout",
     "output_type": "stream",
     "text": [
      "\n",
      "Info Data for @viejofasho\n",
      "\n",
      "Name:                       viejofachon\n",
      "Name Length:                11\n",
      "@user number Numeric Chars: 0\n",
      "@user and name similarity:  0\n",
      "User Id:                    923489618368106496\n",
      "Default_Photo:              False\n",
      "Photo URL:                  http://pbs.twimg.com/profile_images/923492228567388160/zljAIxzc_normal.jpg\n",
      "Acc Verified:               False\n",
      "Has Location:               True\n",
      "Location:                   Ucrania\n",
      "default_profile:            True\n",
      "Has Description:            True\n",
      "Description:                Camino por la derecha,la izq marxista es tóxica para la democracia...anti pinochet...\n",
      "Disparo con la palabra...\n",
      "Description length:         111\n",
      "Account Active:             Active\n",
      "\n",
      "Number of Tweets analyzed:          319\n",
      "Last Tweet:                         2017-11-29T11:51:42.000000000\n",
      "Older Tweet Analyzed:               2017-11-01T13:10:40.000000000\n",
      "Account Active age (in days)        34.0\n",
      "Average recent tweets per day:      11.81\n",
      "Maximum Recent Tweets Per Day:      58 at day 2\n",
      "Average tweets per day since start: 5.59\n",
      "Total Tweets since start:           190\n",
      "Followers_count:                    101\n",
      "Friends_following_count             419\n",
      "Followers/Following_index:          0.24\n",
      "Favourites (Like) count:            16\n",
      "Retweet_Like_index:                 0.0\n",
      "Retweet Ratio:                      0%\n",
      "unique mentions cnt:                185\n",
      "Mention Ratio:                      100%\n",
      "Mention index:                      0.03\n",
      "unique hashtags cnt:                0\n",
      "Hashtag Ratio:                      1%\n",
      "Hashtag Index:                      0.0\n",
      "Average URLs per tweet:             0.01\n",
      "Average text length per tweet:      344.0\n",
      "\n",
      " \t[Tweets Sample at Peak Day] \n",
      " 30499    @claucortezm @JQuiker @jfperezc @Seawitch008 @...\n",
      "30608    @mahnsa @claucortezm @JQuiker @jfperezc @Seawi...\n",
      "30678    @mahnsa @claucortezm @JQuiker @jfperezc @Seawi...\n",
      "30715    @Seawitch008 @claucortezm @JQuiker @jfperezc @...\n",
      "30768    @MateYTruco @mahnsa @claucortezm @JQuiker @jfp...\n",
      "30812    @Seawitch008 @claucortezm @JQuiker @jfperezc @...\n",
      "30813    @mahnsa @claucortezm @JQuiker @jfperezc @Seawi...\n",
      "30877    @mahnsa @MateYTruco @claucortezm @JQuiker @jfp...\n",
      "30936    @mahnsa @MateYTruco @claucortezm @JQuiker @jfp...\n",
      "31012    @mahnsa @MateYTruco @claucortezm @JQuiker @jfp...\n",
      "Name: text, dtype: object\n"
     ]
    },
    {
     "data": {
      "image/png": "[encoded data removed]",
      "text/plain": [
       "<Figure size 720x288 with 1 Axes>"
      ]
     },
     "metadata": {
      "needs_background": "light"
     },
     "output_type": "display_data"
    }
   ],
   "source": [
    "user_name = 'viejofasho'\n",
    "tw_day, metrics, mentions, hashtags = get_info_data(tweets, user_name, prt=True)"
   ]
  },
  {
   "cell_type": "markdown",
   "metadata": {},
   "source": [
    "### @RResponsablecl"
   ]
  },
  {
   "cell_type": "code",
   "execution_count": 38,
   "metadata": {
    "ExecuteTime": {
     "end_time": "2019-12-12T14:51:54.014114Z",
     "start_time": "2019-12-12T14:51:51.198916Z"
    }
   },
   "outputs": [
    {
     "name": "stdout",
     "output_type": "stream",
     "text": [
      "\n",
      "Info Data for @RResponsablecl\n",
      "\n",
      "Name:                       Reg Responsable Cl\n",
      "Name Length:                18\n",
      "@user number Numeric Chars: 0\n",
      "@user and name similarity:  0\n",
      "User Id:                    924982201434898433\n",
      "Default_Photo:              False\n",
      "Photo URL:                  http://pbs.twimg.com/profile_images/924986249143836674/DKYiJprG_normal.jpg\n",
      "Acc Verified:               False\n",
      "Has Location:               False\n",
      "Location:                   \n",
      "default_profile:            False\n",
      "Has Description:            True\n",
      "Description:                Buscamos transformar la política de drogas de Chile para regular democráticamente las vías de acceso al Cannabis medicinal y para el uso adulto.\n",
      "Description length:         144\n",
      "Account Active:             Active\n",
      "\n",
      "Number of Tweets analyzed:          422\n",
      "Last Tweet:                         2017-11-26T12:57:43.000000000\n",
      "Older Tweet Analyzed:               2017-11-01T01:06:03.000000000\n",
      "Account Active age (in days)        27.0\n",
      "Average recent tweets per day:      16.88\n",
      "Maximum Recent Tweets Per Day:      162 at day 26\n",
      "Average tweets per day since start: 1.37\n",
      "Total Tweets since start:           37\n",
      "Followers_count:                    34\n",
      "Friends_following_count             345\n",
      "Followers/Following_index:          0.1\n",
      "Favourites (Like) count:            2\n",
      "Retweet_Like_index:                 0.0\n",
      "Retweet Ratio:                      3%\n",
      "unique mentions cnt:                51\n",
      "Mention Ratio:                      72%\n",
      "Mention index:                      0.06\n",
      "unique hashtags cnt:                24\n",
      "Hashtag Ratio:                      53%\n",
      "Hashtag Index:                      0.04\n",
      "Average URLs per tweet:             1.27\n",
      "Average text length per tweet:      223.0\n",
      "\n",
      " \t[Tweets Sample at Peak Day] \n",
      " 1251424    El Candidato Alejandro Guillier reafirma su co...\n",
      "1251944    Alejandro @Guillier reafirma su compromiso por...\n",
      "1253536    Alejandro @Guillier reafirma su compromiso por...\n",
      "1253544    Alejandro @Guillier reafirma su compromiso por...\n",
      "1253608    Alejandro @Guillier reafirma su compromiso por...\n",
      "1253681    Alejandro @Guillier reafirma su compromiso por...\n",
      "1253699    Alejandro @Guillier reafirma su compromiso por...\n",
      "1253717    Alejandro @Guillier reafirma su compromiso por...\n",
      "1253839    Alejandro @Guillier reafirma su compromiso por...\n",
      "1253951    Alejandro @Guillier reafirma su compromiso por...\n",
      "Name: text, dtype: object\n"
     ]
    },
    {
     "data": {
      "image/png": "[encoded data removed]",
      "text/plain": [
       "<Figure size 720x288 with 1 Axes>"
      ]
     },
     "metadata": {
      "needs_background": "light"
     },
     "output_type": "display_data"
    }
   ],
   "source": [
    "user_name = 'RResponsablecl'\n",
    "tw_day, metrics, mentions, hashtags = get_info_data(tweets, user_name, prt=True)"
   ]
  },
  {
   "cell_type": "markdown",
   "metadata": {},
   "source": [
    "### @BassaRiveros"
   ]
  },
  {
   "cell_type": "code",
   "execution_count": 40,
   "metadata": {
    "ExecuteTime": {
     "end_time": "2019-12-12T14:51:56.781031Z",
     "start_time": "2019-12-12T14:51:54.113753Z"
    }
   },
   "outputs": [
    {
     "name": "stdout",
     "output_type": "stream",
     "text": [
      "\n",
      "Info Data for @BassaRiveros\n",
      "\n",
      "Name:                       Victor Riveros Bassa\n",
      "Name Length:                20\n",
      "@user number Numeric Chars: 0\n",
      "@user and name similarity:  0\n",
      "User Id:                    927701598893170688\n",
      "Default_Photo:              True\n",
      "Photo URL:                  http://abs.twimg.com/sticky/default_profile_images/default_profile_normal.png\n",
      "Acc Verified:               False\n",
      "Has Location:               False\n",
      "Location:                   \n",
      "default_profile:            True\n",
      "Has Description:            False\n",
      "Description:                \n",
      "Description length:         0\n",
      "Account Active:             Active\n",
      "\n",
      "Number of Tweets analyzed:          501\n",
      "Last Tweet:                         2017-11-30T22:57:18.000000000\n",
      "Older Tweet Analyzed:               2017-11-07T01:23:42.000000000\n",
      "Account Active age (in days)        23.0\n",
      "Average recent tweets per day:      21.78\n",
      "Maximum Recent Tweets Per Day:      55 at day 30\n",
      "Average tweets per day since start: 0.39\n",
      "Total Tweets since start:           9\n",
      "Followers_count:                    2\n",
      "Friends_following_count             118\n",
      "Followers/Following_index:          0.02\n",
      "Favourites (Like) count:            1\n",
      "Retweet_Like_index:                 0.0\n",
      "Retweet Ratio:                      82%\n",
      "unique mentions cnt:                301\n",
      "Mention Ratio:                      100%\n",
      "Mention index:                      0.27\n",
      "unique hashtags cnt:                102\n",
      "Hashtag Ratio:                      39%\n",
      "Hashtag Index:                      0.28\n",
      "Average URLs per tweet:             0.31\n",
      "Average text length per tweet:      147.0\n",
      "\n",
      " \t[Tweets Sample at Peak Day] \n",
      " 1515699    RT @anrasodu: @Manena @guillier Les dieron un ...\n",
      "1516009    @alemdou @DonWeasDoctor @Manena @yas_gray @gui...\n",
      "1516036    @alemdou @DonWeasDoctor @Manena @yas_gray @gui...\n",
      "1516037    RT @BassaRiveros: @alemdou @DonWeasDoctor @Man...\n",
      "1516080    RT @Danissa_SA: @Manena @Clofuentes @guillier ...\n",
      "1516110    RT @mneiraacevedo: @Manena @guillier solo se r...\n",
      "1516114    RT @vcifuente23: @Manena @guillier Lamentablem...\n",
      "1516846    Muy cierto, este nivel de descalificaciones es...\n",
      "1526050    RT @danivalderrama: @BassaRiveros @alemdou @Do...\n",
      "1526155    RT @danivalderrama: Guillier es nefasto, prime...\n",
      "Name: text, dtype: object\n"
     ]
    },
    {
     "data": {
      "image/png": "[encoded data removed]",
      "text/plain": [
       "<Figure size 720x288 with 1 Axes>"
      ]
     },
     "metadata": {
      "needs_background": "light"
     },
     "output_type": "display_data"
    }
   ],
   "source": [
    "user_name = 'BassaRiveros'\n",
    "tw_day, metrics, mentions, hashtags = get_info_data(tweets, user_name, prt=True)"
   ]
  },
  {
   "cell_type": "code",
   "execution_count": 41,
   "metadata": {
    "ExecuteTime": {
     "end_time": "2019-12-12T14:51:56.870364Z",
     "start_time": "2019-12-12T14:51:56.783493Z"
    },
    "scrolled": true
   },
   "outputs": [
    {
     "data": {
      "text/plain": [
       "917410     RT @rogofe47Chile: Acompañemos a @sebastianpin...\n",
       "917682     RT @rogofe47Chile: @sebastianpinera estará jun...\n",
       "917708     RT @paulinanu: Aquí el lote acompañando a nues...\n",
       "917871     RT @Janocifuentes: Nuestro Presidente @sebasti...\n",
       "918251     RT @amarielgg: 🇨🇱La gente sencilla de nuestro ...\n",
       "918320     RT @paulanarvaezo: Sebastián Piñera critica a ...\n",
       "918374     RT @Danielavy: Ahora; @joseantoniokast entrega...\n",
       "918411     RT @canal13: Amigos recuerden, hoy después de ...\n",
       "923467     RT @DR_FLORES: El comando de @sebastianpinera ...\n",
       "923494     RT @EstoyConPinera: \"Tengo mucha fe que podrem...\n",
       "923562     RT @ErnestoSilvaM: Porque tiene programa d uni...\n",
       "923652     RT @ErnestoSilvaM: Periodistas tratan de pilla...\n",
       "924019     RT @twitabogado: #PiñeraEnEl13 #LasCarasdelaMo...\n",
       "924324     RT @EstoyConPinera: \"Tuve el privilegio que mi...\n",
       "927239     RT @EstoyConPinera: \"La Nueva Mayoría le pide ...\n",
       "927690     RT @EstoyConPinera: \"El tema que nos interesa ...\n",
       "927793     RT @LucasPalaciosC: Cercano, humano y con buen...\n",
       "927928     RT @EstoyConPinera: \"Las familias chilenas nos...\n",
       "928500     @FranKo_Tira_Dor Toda la razón. Es una vergüen...\n",
       "928516     @FranKo_Tira_Dor Toda la razón. Es una vergüen...\n",
       "928517     RT @BassaRiveros: @FranKo_Tira_Dor Toda la raz...\n",
       "932109     RT @JuventudRN: @JuventudRN @UDIJuventud @Juve...\n",
       "933070     RT @miguelhuerta32: Es hora de que @mjossandon...\n",
       "933491     RT @rbascu1: El odio divisionista que está tra...\n",
       "933568     RT @andres20ad: Erika Olivera comparo el progr...\n",
       "947786     RT @EstoyConPinera: \"Tiempos mejores es que la...\n",
       "947806     RT @LucasPalaciosC: Grande Presidente @sebasti...\n",
       "966275     RT @PepaHoffmann: Tremendo candidato @sebastia...\n",
       "966980     RT @joseantoniokast: Si la Presidenta Bachelet...\n",
       "986825     Que grande es este Marcelo. Clarito #corta @se...\n",
       "986882     RT @maxcolodro: \"Sector de la DC prepara docum...\n",
       "986931     Que grande es este Marcelo. Clarito #corta @se...\n",
       "986932     RT @BassaRiveros: Que grande es este Marcelo. ...\n",
       "987133     RT @EstoyConPinera: \"El es político hace mucho...\n",
       "988016     Bien Ossandon , ahora a trabajar @sebastianpin...\n",
       "988025     Bien Ossandon , ahora a trabajar @sebastianpin...\n",
       "988026     RT @BassaRiveros: Bien Ossandon , ahora a trab...\n",
       "990481     RT @adnradiochile: VIDEO | Érika Olivera advie...\n",
       "999991     RT @sergioulloa1: ¿Y el abusador de mujeres Ri...\n",
       "1000342    RT @Eldesoto: Para Piñera, el enemigo de Chile...\n",
       "1000370    RT @joseantoniokast: Alvaro Elizalde,\\nPreside...\n",
       "1000777    Toda mi apoyo 🇨🇱En esta segunda vuelta debemos...\n",
       "1000877    Toda mi apoyo 🇨🇱En esta segunda vuelta debemos...\n",
       "1000878    RT @BassaRiveros: Toda mi apoyo 🇨🇱En esta segu...\n",
       "1000946    RT @latercera: Érika Olivera compara proyecto ...\n",
       "1000983    RT @CristianErrazur: @sebastianpinera @mjossan...\n",
       "1306985    Que grande es este Marcelo. Clarito #corta @se...\n",
       "1306988    Toda mi apoyo 🇨🇱En esta segunda vuelta debemos...\n",
       "1306992    Bien Ossandon , ahora a trabajar @sebastianpin...\n",
       "Name: text, dtype: object"
      ]
     },
     "execution_count": 41,
     "metadata": {},
     "output_type": "execute_result"
    }
   ],
   "source": [
    "tweets[(tweets.user == user_name)& (tweets.day == 22)].text"
   ]
  },
  {
   "cell_type": "markdown",
   "metadata": {},
   "source": [
    "### @arqmneira"
   ]
  },
  {
   "cell_type": "code",
   "execution_count": 42,
   "metadata": {
    "ExecuteTime": {
     "end_time": "2019-12-12T14:51:59.773334Z",
     "start_time": "2019-12-12T14:51:56.872280Z"
    }
   },
   "outputs": [
    {
     "name": "stdout",
     "output_type": "stream",
     "text": [
      "\n",
      "Info Data for @arqmneira\n",
      "\n",
      "Name:                       Mario Neira\n",
      "Name Length:                11\n",
      "@user number Numeric Chars: 0\n",
      "@user and name similarity:  0\n",
      "User Id:                    918734804283207681\n",
      "Default_Photo:              False\n",
      "Photo URL:                  http://pbs.twimg.com/profile_images/918739720527638529/GrcERcgf_normal.jpg\n",
      "Acc Verified:               False\n",
      "Has Location:               False\n",
      "Location:                   \n",
      "default_profile:            True\n",
      "Has Description:            False\n",
      "Description:                \n",
      "Description length:         0\n",
      "Account Active:             Active\n",
      "\n",
      "Number of Tweets analyzed:          353\n",
      "Last Tweet:                         2017-11-30T03:12:26.000000000\n",
      "Older Tweet Analyzed:               2017-11-01T01:36:16.000000000\n",
      "Account Active age (in days)        47.0\n",
      "Average recent tweets per day:      12.17\n",
      "Maximum Recent Tweets Per Day:      63 at day 17\n",
      "Average tweets per day since start: 6.87\n",
      "Total Tweets since start:           323\n",
      "Followers_count:                    22\n",
      "Friends_following_count             108\n",
      "Followers/Following_index:          0.2\n",
      "Favourites (Like) count:            235\n",
      "Retweet_Like_index:                 0.0\n",
      "Retweet Ratio:                      68%\n",
      "unique mentions cnt:                202\n",
      "Mention Ratio:                      93%\n",
      "Mention index:                      0.26\n",
      "unique hashtags cnt:                65\n",
      "Hashtag Ratio:                      26%\n",
      "Hashtag Index:                      0.5\n",
      "Average URLs per tweet:             0.34\n",
      "Average text length per tweet:      129.0\n",
      "\n",
      " \t[Tweets Sample at Peak Day] \n",
      " 538099    15.000 convocados en el cierre @guillier , el ...\n",
      "538139    RT @SecOrganizacion: #YoVotoGuillier  @guillie...\n",
      "538252    RT @nikicardoch: El pueblo está aquí junto a @...\n",
      "538262    RT @JovenesGuillier: #YoVotoGuillier: Ahora #L...\n",
      "538280    RT @DigitalGuillier: \"Aquí está el pueblo de C...\n",
      "538309    RT @JParadaHoyl: Así se ve el acto de cierre d...\n",
      "538506    15.000 convocados en el cierre @guillier , el ...\n",
      "538527    RT @JovenesGuillier: #YoVotoGuillier: “Le hemo...\n",
      "538549    RT @FelipeParadaM: Somos más de 10.000 persona...\n",
      "539539    Hoy @Guillier2018  marco tendencia en convocat...\n",
      "Name: text, dtype: object\n"
     ]
    },
    {
     "data": {
      "image/png": "[encoded data removed]",
      "text/plain": [
       "<Figure size 720x288 with 1 Axes>"
      ]
     },
     "metadata": {
      "needs_background": "light"
     },
     "output_type": "display_data"
    }
   ],
   "source": [
    "user_name = 'arqmneira'\n",
    "tw_day, metrics, mentions, hashtags = get_info_data(tweets, user_name, prt=True)"
   ]
  },
  {
   "cell_type": "markdown",
   "metadata": {},
   "source": [
    "### @Ignacio90415476"
   ]
  },
  {
   "cell_type": "code",
   "execution_count": 44,
   "metadata": {
    "ExecuteTime": {
     "end_time": "2019-12-12T14:52:03.181173Z",
     "start_time": "2019-12-12T14:51:59.865819Z"
    },
    "scrolled": false
   },
   "outputs": [
    {
     "name": "stdout",
     "output_type": "stream",
     "text": [
      "\n",
      "Info Data for @Ignacio90415476\n",
      "\n",
      "Name:                       JC\n",
      "Name Length:                2\n",
      "@user number Numeric Chars: 8\n",
      "@user and name similarity:  0\n",
      "User Id:                    894736543839129600\n",
      "Default_Photo:              False\n",
      "Photo URL:                  http://pbs.twimg.com/profile_images/895064995205173252/lqS5bowW_normal.jpg\n",
      "Acc Verified:               False\n",
      "Has Location:               True\n",
      "Location:                   Providencia, Chile\n",
      "default_profile:            True\n",
      "Has Description:            False\n",
      "Description:                \n",
      "Description length:         0\n",
      "Account Active:             Active\n",
      "\n",
      "Number of Tweets analyzed:          349\n",
      "Last Tweet:                         2017-11-30T23:58:34.000000000\n",
      "Older Tweet Analyzed:               2017-11-01T15:22:15.000000000\n",
      "Account Active age (in days)        114.0\n",
      "Average recent tweets per day:      12.03\n",
      "Maximum Recent Tweets Per Day:      50 at day 25\n",
      "Average tweets per day since start: 3.3\n",
      "Total Tweets since start:           376\n",
      "Followers_count:                    22\n",
      "Friends_following_count             204\n",
      "Followers/Following_index:          0.11\n",
      "Favourites (Like) count:            235\n",
      "Retweet_Like_index:                 0.0\n",
      "Retweet Ratio:                      27%\n",
      "unique mentions cnt:                315\n",
      "Mention Ratio:                      100%\n",
      "Mention index:                      0.24\n",
      "unique hashtags cnt:                26\n",
      "Hashtag Ratio:                      10%\n",
      "Hashtag Index:                      0.57\n",
      "Average URLs per tweet:             0.6\n",
      "Average text length per tweet:      135.0\n",
      "\n",
      " \t[Tweets Sample at Peak Day] \n",
      " 1176204    @pcp_chile @guillier Así nos vamos 👇 https://t...\n",
      "1180909    RT @corrupcionchile: Indignante: Guillier pagó...\n",
      "1181349    @felipekast @lcruzcoke @sebastianpinera Yo soy...\n",
      "1181402    RT @pcp_chile: Se persigue a los que desisten ...\n",
      "1181458    RT @profe_luis: #Guillier siempre rodeado de p...\n",
      "1181740    @ProvosteYasna @DiputadosDC @guillier @juanmor...\n",
      "1184352    @ElectoralPDC @DiputadosDC @guillier @Provoste...\n",
      "1184580    RT @chileno_soy: Lo dijo Fidel.. \"YO SOY ANTIC...\n",
      "1184770    RT @Certeza_Virtual: Quieres que Guillier UTIL...\n",
      "1184839    RT @tjholt: la relación Guillier - San Ramón l...\n",
      "Name: text, dtype: object\n"
     ]
    },
    {
     "data": {
      "image/png": "[encoded data removed]",
      "text/plain": [
       "<Figure size 720x288 with 1 Axes>"
      ]
     },
     "metadata": {
      "needs_background": "light"
     },
     "output_type": "display_data"
    }
   ],
   "source": [
    "user_name = 'Ignacio90415476'\n",
    "tw_day, metrics, mentions, hashtags = get_info_data(tweets, user_name, prt=True)"
   ]
  },
  {
   "cell_type": "code",
   "execution_count": 46,
   "metadata": {
    "ExecuteTime": {
     "end_time": "2019-12-12T14:52:08.693139Z",
     "start_time": "2019-12-12T14:52:03.280531Z"
    }
   },
   "outputs": [
    {
     "name": "stdout",
     "output_type": "stream",
     "text": [
      "\n",
      "Botometer Result for @Ignacio90415476\n",
      "\n",
      "User Id:      894736543839129600\n",
      "Score_eng:    0.46359219069702307\n",
      "Score_unl:    0.19466773728450495\n",
      "CAP_eng:      0.07583235670880943\n",
      "CAP_unl:      0.012907437350993261\n",
      "\n",
      "Categories:\n",
      "Friend:      0.2447797639495201\n",
      "Network:     0.22427046334856154\n",
      "Sentiment:   0.5766607179829245\n",
      "Temporal:    0.613204760264303\n",
      "User:        0.538941031882933\n",
      "\n",
      "Probability of @Ignacio90415476 be a bot is 19%\n"
     ]
    }
   ],
   "source": [
    "result = get_botometer_details(user_name, prt=True)"
   ]
  },
  {
   "cell_type": "markdown",
   "metadata": {},
   "source": [
    "### @maasma58"
   ]
  },
  {
   "cell_type": "code",
   "execution_count": 47,
   "metadata": {
    "ExecuteTime": {
     "end_time": "2019-12-12T14:52:09.966597Z",
     "start_time": "2019-12-12T14:52:08.695026Z"
    },
    "scrolled": false
   },
   "outputs": [
    {
     "name": "stdout",
     "output_type": "stream",
     "text": [
      "\n",
      "Info Data for @maasma58\n",
      "\n",
      "Name:                       Mauricio Silva Malig\n",
      "Name Length:                20\n",
      "@user number Numeric Chars: 2\n",
      "@user and name similarity:  0\n",
      "User Id:                    895660401827786753\n",
      "Default_Photo:              False\n",
      "Photo URL:                  http://pbs.twimg.com/profile_images/924493489345302529/ya6rKblF_normal.jpg\n",
      "Acc Verified:               False\n",
      "Has Location:               True\n",
      "Location:                   Marga-Marga, Chile\n",
      "default_profile:            True\n",
      "Has Description:            True\n",
      "Description:                Ingeniero Comercial MBA - Ex SEREMI de Economía Región de Valparaíso 2010 - 2014\n",
      "Description length:         80\n",
      "Account Active:             Not Active\n",
      "\n",
      "Number of Tweets analyzed:          227\n",
      "Last Tweet:                         2017-11-29T12:20:19.000000000\n",
      "Older Tweet Analyzed:               2017-11-03T00:19:13.000000000\n",
      "Account Active age (in days)        110.0\n",
      "Average recent tweets per day:      8.73\n",
      "Maximum Recent Tweets Per Day:      51 at day 13\n",
      "Average tweets per day since start: 4.32\n",
      "Total Tweets since start:           475\n",
      "Followers_count:                    25\n",
      "Friends_following_count             95\n",
      "Followers/Following_index:          0.26\n",
      "Favourites (Like) count:            37\n",
      "Retweet_Like_index:                 0.0\n",
      "Retweet Ratio:                      25%\n",
      "unique mentions cnt:                113\n",
      "Mention Ratio:                      99%\n",
      "Mention index:                      0.18\n",
      "unique hashtags cnt:                22\n",
      "Hashtag Ratio:                      40%\n",
      "Hashtag Index:                      0.17\n",
      "Average URLs per tweet:             0.04\n",
      "Average text length per tweet:      179.0\n",
      "\n",
      " \t[Tweets Sample at Peak Day] \n",
      " 407671    @Poracando Eso mismo.....saludos de \"otro Bot\"...\n",
      "408253    Y si @sebastianpinera  compró sus empresas par...\n",
      "409277    @robertoampuero @tolerancia0 Evidentemente que...\n",
      "409326    @robertoampuero @tolerancia0 Evidentemente que...\n",
      "409471    @robertoampuero @tolerancia0 Evidentemente que...\n",
      "409493    @robertoampuero @tolerancia0 Evidentemente que...\n",
      "409502    @robertoampuero @tolerancia0 Evidentemente que...\n",
      "409574    @robertoampuero @tolerancia0 Evidentemente que...\n",
      "409589    @robertoampuero @tolerancia0 Evidentemente que...\n",
      "409649    @robertoampuero @tolerancia0 Evidentemente que...\n",
      "Name: text, dtype: object\n"
     ]
    },
    {
     "data": {
      "image/png": "[encoded data removed]",
      "text/plain": [
       "<Figure size 720x288 with 1 Axes>"
      ]
     },
     "metadata": {
      "needs_background": "light"
     },
     "output_type": "display_data"
    }
   ],
   "source": [
    "user_name = 'maasma58'\n",
    "tw_day, metrics, mentions, hashtags = get_info_data(tweets, user_name, prt=True)"
   ]
  },
  {
   "cell_type": "markdown",
   "metadata": {},
   "source": [
    "### @Aptimate"
   ]
  },
  {
   "cell_type": "code",
   "execution_count": 49,
   "metadata": {
    "ExecuteTime": {
     "end_time": "2019-12-12T14:52:12.986340Z",
     "start_time": "2019-12-12T14:52:10.060271Z"
    },
    "scrolled": false
   },
   "outputs": [
    {
     "name": "stdout",
     "output_type": "stream",
     "text": [
      "\n",
      "Info Data for @Aptimate\n",
      "\n",
      "Name:                       Botticelli\n",
      "Name Length:                10\n",
      "@user number Numeric Chars: 0\n",
      "@user and name similarity:  0\n",
      "User Id:                    919677879444758533\n",
      "Default_Photo:              False\n",
      "Photo URL:                  http://pbs.twimg.com/profile_images/919684439919222784/PxRwbhMC_normal.jpg\n",
      "Acc Verified:               False\n",
      "Has Location:               False\n",
      "Location:                   \n",
      "default_profile:            True\n",
      "Has Description:            True\n",
      "Description:                Intolerante del abuso, la corrupción, la falta de equidad y del abuso institucionalizado.\n",
      "Description length:         89\n",
      "Account Active:             Active\n",
      "\n",
      "Number of Tweets analyzed:          167\n",
      "Last Tweet:                         2017-11-30T22:42:27.000000000\n",
      "Older Tweet Analyzed:               2017-11-01T00:08:09.000000000\n",
      "Account Active age (in days)        46.0\n",
      "Average recent tweets per day:      5.76\n",
      "Maximum Recent Tweets Per Day:      63 at day 23\n",
      "Average tweets per day since start: 8.17\n",
      "Total Tweets since start:           376\n",
      "Followers_count:                    11\n",
      "Friends_following_count             88\n",
      "Followers/Following_index:          0.12\n",
      "Favourites (Like) count:            143\n",
      "Retweet_Like_index:                 0.0\n",
      "Retweet Ratio:                      9%\n",
      "unique mentions cnt:                102\n",
      "Mention Ratio:                      44%\n",
      "Mention index:                      0.53\n",
      "unique hashtags cnt:                13\n",
      "Hashtag Ratio:                      40%\n",
      "Hashtag Index:                      0.18\n",
      "Average URLs per tweet:             0.21\n",
      "Average text length per tweet:      145.0\n",
      "\n",
      " \t[Tweets Sample at Peak Day] \n",
      " 1018560    #guilliergigante q altura la d Guillie. Marca ...\n",
      "1020681    #guilliergigante \\nClaridad conceptual d Guill...\n",
      "1021257    #guilliergigante \\nEl poder de las ideas es di...\n",
      "1021508    #guilliergigante \\nEl poder de las ideas es di...\n",
      "1021945    #guilliergigante \\nEl poder de las ideas es di...\n",
      "1022008    #guilliergigante \\nEl poder de las ideas es di...\n",
      "1023101    #guilliergigante \\nEl poder de las ideas es di...\n",
      "1023790    #guilliergigante \\nEl poder de las ideas es di...\n",
      "1023839    #GuillierGigante \\nPropuestas concretas para a...\n",
      "1024249    #GuillierGigante \\nPropuestas concretas para a...\n",
      "Name: text, dtype: object\n"
     ]
    },
    {
     "data": {
      "image/png": "[encoded data removed]",
      "text/plain": [
       "<Figure size 720x288 with 1 Axes>"
      ]
     },
     "metadata": {
      "needs_background": "light"
     },
     "output_type": "display_data"
    }
   ],
   "source": [
    "user_name = 'Aptimate'\n",
    "tw_day, metrics, mentions, hashtags = get_info_data(tweets, user_name, prt=True)"
   ]
  },
  {
   "cell_type": "markdown",
   "metadata": {},
   "source": [
    "### @mas_estudiantil"
   ]
  },
  {
   "cell_type": "code",
   "execution_count": 51,
   "metadata": {
    "ExecuteTime": {
     "end_time": "2019-12-12T14:52:15.810556Z",
     "start_time": "2019-12-12T14:52:13.080993Z"
    },
    "scrolled": false
   },
   "outputs": [
    {
     "name": "stdout",
     "output_type": "stream",
     "text": [
      "\n",
      "Info Data for @mas_estudiantil\n",
      "\n",
      "Name:                       Universitarios MAS\n",
      "Name Length:                18\n",
      "@user number Numeric Chars: 0\n",
      "@user and name similarity:  0\n",
      "User Id:                    712410126234337280\n",
      "Default_Photo:              False\n",
      "Photo URL:                  http://pbs.twimg.com/profile_images/712825553213132801/0aXsNp2a_normal.jpg\n",
      "Acc Verified:               False\n",
      "Has Location:               False\n",
      "Location:                   \n",
      "default_profile:            True\n",
      "Has Description:            True\n",
      "Description:                Somos estudiantes universitari@s militantes y adherentes del @mas_juventud.\n",
      "Description length:         75\n",
      "Account Active:             Active\n",
      "\n",
      "Number of Tweets analyzed:          75\n",
      "Last Tweet:                         2017-11-29T12:41:42.000000000\n",
      "Older Tweet Analyzed:               2017-11-01T01:32:52.000000000\n",
      "Account Active age (in days)        616.0\n",
      "Average recent tweets per day:      2.68\n",
      "Maximum Recent Tweets Per Day:      52 at day 16\n",
      "Average tweets per day since start: 0.82\n",
      "Total Tweets since start:           507\n",
      "Followers_count:                    62\n",
      "Friends_following_count             41\n",
      "Followers/Following_index:          1.51\n",
      "Favourites (Like) count:            3\n",
      "Retweet_Like_index:                 0.0\n",
      "Retweet Ratio:                      23%\n",
      "unique mentions cnt:                12\n",
      "Mention Ratio:                      97%\n",
      "Mention index:                      0.14\n",
      "unique hashtags cnt:                11\n",
      "Hashtag Ratio:                      84%\n",
      "Hashtag Index:                      0.17\n",
      "Average URLs per tweet:             0.15\n",
      "Average text length per tweet:      128.0\n",
      "\n",
      " \t[Tweets Sample at Peak Day] \n",
      " 519050    Con @guillier la gratuidad en la educación seg...\n",
      "519098    Con @guillier la gratuidad en la educación seg...\n",
      "519131    Con @guillier la gratuidad en la educación seg...\n",
      "519231    Con @guillier la gratuidad en la educación seg...\n",
      "519405    Con @guillier la gratuidad en la educación seg...\n",
      "519740    Con @guillier la gratuidad en la educación seg...\n",
      "519836    Con @guillier la gratuidad en la educación seg...\n",
      "519879    Con @guillier la gratuidad en la educación seg...\n",
      "520771    Con @guillier la gratuidad en la educación seg...\n",
      "521570    Con @guillier la gratuidad en la educación seg...\n",
      "Name: text, dtype: object\n"
     ]
    },
    {
     "data": {
      "image/png": "[encoded data removed]",
      "text/plain": [
       "<Figure size 720x288 with 1 Axes>"
      ]
     },
     "metadata": {
      "needs_background": "light"
     },
     "output_type": "display_data"
    }
   ],
   "source": [
    "user_name = 'mas_estudiantil'\n",
    "tw_day, metrics, mentions, hashtags = get_info_data(tweets, user_name, prt=True)"
   ]
  },
  {
   "cell_type": "markdown",
   "metadata": {},
   "source": [
    "## Conclusion"
   ]
  },
  {
   "cell_type": "markdown",
   "metadata": {},
   "source": [
    "@mrgrtgautier ==> BOT\n",
    "- 100% RT \n",
    "- 85% of all tweets have hashtags\n",
    "- Almost all tweets (53/55) at a single day\n",
    "- Young account: 12 days\n",
    "- Active account - Last tweet dez/2017\n",
    "- Pegabot: 82%\n",
    "- Botometer: 22%"
   ]
  },
  {
   "cell_type": "markdown",
   "metadata": {},
   "source": [
    "@ChristianPolo7 ==> BOT\n",
    "- 87% RT \n",
    "- 97% of all tweets have mentions\n",
    "- Very active account during elections and few months after\n",
    "- Young account: 15 days\n",
    "- Active account - Last tweet march/2018\n",
    "- Botometer: No (22%)\n",
    "- PegaBot: 41% (Network: 85%)"
   ]
  },
  {
   "cell_type": "markdown",
   "metadata": {},
   "source": [
    "@Conapro_jjcc ==> BOT\n",
    "- 0% RT \n",
    "- 85% of all tweets have a single mention (@Guillier)\n",
    "- Only posting on 2 days same tweet/day\n",
    "- Young account: 22 days\n",
    "- Active account - Last tweet march/2018\n",
    "- Botometer: Bot (92%)\n",
    "- PegaBot: No (16%)"
   ]
  },
  {
   "cell_type": "markdown",
   "metadata": {},
   "source": [
    "@Atletadelgol32 ==> BOT\n",
    "- 97% RT\n",
    "- 100% of all tweets have mentions\n",
    "- Only posting on 2 days\n",
    "- Young account: 3 days\n",
    "- Not Active account "
   ]
  },
  {
   "cell_type": "markdown",
   "metadata": {},
   "source": [
    "@ElCentinelaMPE ==> BOT \n",
    "- 1% RT\n",
    "- almost 100% of all tweets have hashtags, being #Elecciones on 96 of them\n",
    "- Only posting on 5 days (81% of all tweets (114 at same day)\n",
    "- Young account: created start of the month and do not post after nov/2017\n",
    "- Active account \n",
    "- Botometer: No (28%)\n",
    "- Pegabot: No find"
   ]
  },
  {
   "cell_type": "markdown",
   "metadata": {},
   "source": [
    "@JuanManuelCorn5 ==> BOT \n",
    "- 1% RT\n",
    "- 100% of all tweets have mentions: lot of them!\n",
    "- Average text length per tweet: 654 (@XXX)\n",
    "- Only posting few days after elections\n",
    "- Young account: 92 days and do not post after dec/2017\n",
    "- Active account \n",
    "- Pegabot: 47% (Network 58%)\n",
    "- Botometer: No (28%)"
   ]
  },
  {
   "cell_type": "markdown",
   "metadata": {},
   "source": [
    "@Santiag87306226 ==> BOT \n",
    "- 5% RT\n",
    "- 99% of all tweets have mentions\n",
    "- 89% have hashtags\n",
    "- 70% of all tweets at same day (6/nov), almost all with same text\n",
    "- Young account: 44 days\n",
    "- Blocked account "
   ]
  },
  {
   "cell_type": "markdown",
   "metadata": {},
   "source": [
    "@SFelipeAlegreJ ==> Possible BOT or Cyborg\n",
    "- 0% RT\n",
    "- 100% of all tweets have mentions\n",
    "- 88% have hashtags\n",
    "- Almost all tweets at same day (23/nov), almost all with same text\n",
    "- Young account: 93 days\n",
    "- Active account \n",
    "- Botometer: no (34%)\n",
    "- Pegabot: No found"
   ]
  },
  {
   "cell_type": "markdown",
   "metadata": {},
   "source": [
    "@Trab_vXguillier' ==> Possible BOT or Cyborg\n",
    "- 1 day with same tweet, having amost half of analysed tweets"
   ]
  },
  {
   "cell_type": "markdown",
   "metadata": {},
   "source": [
    "@Sumate_Guillier ==> BOT\n",
    "- 3% RT\n",
    "- 195 tweets at same day (23/nov), almost all with two different text\n",
    "- Young account: created after 1st round election\n",
    "- Not Active account "
   ]
  },
  {
   "cell_type": "markdown",
   "metadata": {},
   "source": [
    "@viejofasho ==> Possible BOT or cyborg\n",
    "- 0% RT\n",
    "- 100% mentions, with multiples mentions on a single tweet\n",
    "- Average text length per tweet: 344\n",
    "- Young account: created end of october/17\n",
    "- 5,725 in 9 months\n",
    "- Active account, but w/o tweet sinse mid/18.\n",
    "- PegaBot: 42% (77%:Network)\n",
    "- Botometer: No (18%)\n",
    "- weetBotOrNot: Error"
   ]
  },
  {
   "cell_type": "markdown",
   "metadata": {},
   "source": [
    "@RResponsablecl ==> Possible BOT or cyborg\n",
    "- one day (26/nov) with 162 tweets, 2 different texts.\n",
    "- young account, created same month (nov/17)\n",
    "- still active, but seems normal nowadays\n",
    "- Pegabot Yes (66%)\n",
    "- Botometer: No (24%)"
   ]
  },
  {
   "cell_type": "markdown",
   "metadata": {},
   "source": [
    "@BassaRiveros ==> Possible BOT or cyborg\n",
    "- one day (26/nov) with 162 tweets, 2 different texts.\n",
    "- young account, created same month (nov/17)\n",
    "- still active, but seems normal nowadays\n",
    "- Pegabot Yes (100%)\n",
    "- Botometer: No (36%)"
   ]
  },
  {
   "cell_type": "markdown",
   "metadata": {},
   "source": [
    "@arqmneira ==> Possible NOT BOT\n",
    "- PegaBot: 81%\n",
    "- Botometer: no (10%)\n",
    "- TweetBotOrNot: Error"
   ]
  },
  {
   "cell_type": "markdown",
   "metadata": {},
   "source": [
    "@Ignacio90415476 ==> Possible a cyborg\n",
    "- Account created 90 days before the start of nov/17\n",
    "- Today is active and posted 6,000 tweets/year since 2017\n",
    "- Botometer: No \n",
    "- PegaBot: Yes (76%)\n",
    "\n",
    "\n"
   ]
  },
  {
   "cell_type": "markdown",
   "metadata": {},
   "source": [
    "@maasma58 ==> Possible bot\n",
    "- Account created 90 days before the start of nov/17\n",
    "- Today Blocked"
   ]
  },
  {
   "cell_type": "markdown",
   "metadata": {},
   "source": [
    "@Aptimate ==> Possible cyborg\n",
    "- Account created 10 days before the start of nov/17\n",
    "- Today active\n",
    "- Botometer: 14%\n",
    "- PegaBot: 36%"
   ]
  },
  {
   "cell_type": "markdown",
   "metadata": {},
   "source": [
    "@mas_estudiantil ==> Possible bot\n",
    "- Few activity and one day with same tweet repeated\n",
    "- Today active but w/o post\n",
    "- Botometer: Not find\n",
    "- PegaBot: Not Find"
   ]
  },
  {
   "cell_type": "code",
   "execution_count": null,
   "metadata": {},
   "outputs": [],
   "source": []
  },
  {
   "cell_type": "markdown",
   "metadata": {},
   "source": [
    "### @Choroy_Traiguen"
   ]
  },
  {
   "cell_type": "code",
   "execution_count": 53,
   "metadata": {
    "ExecuteTime": {
     "end_time": "2019-12-12T14:52:19.152709Z",
     "start_time": "2019-12-12T14:52:15.904703Z"
    }
   },
   "outputs": [
    {
     "name": "stdout",
     "output_type": "stream",
     "text": [
      "\n",
      "Info Data for @Choroy_Traiguen\n",
      "\n",
      "Name:                       Jorge Campos S.\n",
      "Name Length:                15\n",
      "@user number Numeric Chars: 0\n",
      "@user and name similarity:  0\n",
      "User Id:                    309403232\n",
      "Default_Photo:              False\n",
      "Photo URL:                  http://pbs.twimg.com/profile_images/901100549176741889/iTUEAUd1_normal.jpg\n",
      "Acc Verified:               False\n",
      "Has Location:               True\n",
      "Location:                   Osorno, Chile\n",
      "default_profile:            False\n",
      "Has Description:            True\n",
      "Description:                #EmiliaNuyadoAncapichún\n",
      "Desde el territorio al parlamento\n",
      "Diputado Distrito 25\n",
      "Description length:         78\n",
      "Account Active:             Active\n",
      "\n",
      "Number of Tweets analyzed:          63\n",
      "Last Tweet:                         2017-11-14T17:28:52.000000000\n",
      "Older Tweet Analyzed:               2017-11-14T17:28:52.000000000\n",
      "Account Active age (in days)        2,357.0\n",
      "Average recent tweets per day:      inf\n",
      "Maximum Recent Tweets Per Day:      62 at day 14\n",
      "Average tweets per day since start: 15.96\n",
      "Total Tweets since start:           37,622\n",
      "Followers_count:                    20,461\n",
      "Friends_following_count             14,026\n",
      "Followers/Following_index:          1.46\n",
      "Favourites (Like) count:            19,561\n",
      "Retweet_Like_index:                 0.0\n",
      "Retweet Ratio:                      2%\n",
      "unique mentions cnt:                3\n",
      "Mention Ratio:                      100%\n",
      "Mention index:                      0.02\n",
      "unique hashtags cnt:                0\n",
      "Hashtag Ratio:                      0%\n",
      "Hashtag Index:                      0.0\n",
      "Average URLs per tweet:             0.98\n",
      "Average text length per tweet:      209.0\n",
      "\n",
      " \t[Tweets Sample at Peak Day] \n",
      " 467773    Piñera a Guillier por cadena nacional de @TVN ...\n",
      "467785    Piñera a Guillier por cadena nacional de @TVN ...\n",
      "467812    Piñera a Guillier por cadena nacional de @TVN ...\n",
      "467968    Piñera a Guillier por cadena nacional de @TVN ...\n",
      "468108    Piñera a Guillier por cadena nacional de @TVN ...\n",
      "468240    Piñera a Guillier por cadena nacional de @TVN ...\n",
      "468405    Piñera a Guillier por cadena nacional de @TVN ...\n",
      "468732    Piñera a Guillier por cadena nacional de @TVN ...\n",
      "469593    Piñera a Guillier por cadena nacional de @TVN ...\n",
      "469667    Piñera a Guillier por cadena nacional de @TVN ...\n",
      "Name: text, dtype: object\n"
     ]
    },
    {
     "data": {
      "image/png": "[encoded data removed]",
      "text/plain": [
       "<Figure size 720x288 with 1 Axes>"
      ]
     },
     "metadata": {
      "needs_background": "light"
     },
     "output_type": "display_data"
    }
   ],
   "source": [
    "user_name = 'Choroy_Traiguen'\n",
    "tw_day, metrics, mentions, hashtags = get_info_data(tweets, user_name, prt=True)"
   ]
  },
  {
   "cell_type": "code",
   "execution_count": 54,
   "metadata": {
    "ExecuteTime": {
     "end_time": "2019-12-12T14:52:19.246853Z",
     "start_time": "2019-12-12T14:52:19.154886Z"
    }
   },
   "outputs": [
    {
     "data": {
      "text/plain": [
       "488956    RT @Choroy_Traiguen: Piñera a Guillier por cad...\n",
       "Name: text, dtype: object"
      ]
     },
     "execution_count": 54,
     "metadata": {},
     "output_type": "execute_result"
    }
   ],
   "source": [
    "tweets[(tweets.user == user_name)& (tweets.day == 15)].text"
   ]
  }
 ],
 "metadata": {
  "kernelspec": {
   "display_name": "python_3_7",
   "language": "python",
   "name": "python_3_7"
  },
  "language_info": {
   "codemirror_mode": {
    "name": "ipython",
    "version": 3
   },
   "file_extension": ".py",
   "mimetype": "text/x-python",
   "name": "python",
   "nbconvert_exporter": "python",
   "pygments_lexer": "ipython3",
   "version": "3.7.3"
  },
  "nbTranslate": {
   "displayLangs": [
    "*"
   ],
   "hotkey": "alt-t",
   "langInMainMenu": true,
   "sourceLang": "en",
   "targetLang": "fr",
   "useGoogleTranslate": true
  },
  "toc": {
   "base_numbering": 1,
   "nav_menu": {},
   "number_sections": true,
   "sideBar": true,
   "skip_h1_title": true,
   "title_cell": "Table of Contents",
   "title_sidebar": "Contents",
   "toc_cell": false,
   "toc_position": {},
   "toc_section_display": true,
   "toc_window_display": true
  },
  "varInspector": {
   "cols": {
    "lenName": 16,
    "lenType": 16,
    "lenVar": 40
   },
   "kernels_config": {
    "python": {
     "delete_cmd_postfix": "",
     "delete_cmd_prefix": "del ",
     "library": "var_list.py",
     "varRefreshCmd": "print(var_dic_list())"
    },
    "r": {
     "delete_cmd_postfix": ") ",
     "delete_cmd_prefix": "rm(",
     "library": "var_list.r",
     "varRefreshCmd": "cat(var_dic_list()) "
    }
   },
   "types_to_exclude": [
    "module",
    "function",
    "builtin_function_or_method",
    "instance",
    "_Feature"
   ],
   "window_display": false
  }
 },
 "nbformat": 4,
 "nbformat_minor": 2
}
