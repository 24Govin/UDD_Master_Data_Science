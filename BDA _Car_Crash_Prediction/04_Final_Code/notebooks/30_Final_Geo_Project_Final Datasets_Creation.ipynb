{
 "cells": [
  {
   "cell_type": "markdown",
   "metadata": {},
   "source": [
    "# Modelo predictivo  (Espacial) de siniestros en las calles de Santiago\n",
    "- UDD - MDS18 - BDA\n",
    "- Final Delivery \n",
    "- 30_Final_Geo_Project_Final Datasets_Creation\n",
    "- 09 August 2019"
   ]
  },
  {
   "cell_type": "markdown",
   "metadata": {},
   "source": [
    "**CHANGE KERNEL:** geo_p_3_7"
   ]
  },
  {
   "cell_type": "markdown",
   "metadata": {},
   "source": [
    "## Datasets (Landing)"
   ]
  },
  {
   "cell_type": "markdown",
   "metadata": {},
   "source": [
    "###  CONASET\n",
    "http://mapas-conaset.opendata.arcgis.com/search?groupIds=fca1f61c6556499db843c09cc80c70c0"
   ]
  },
  {
   "cell_type": "markdown",
   "metadata": {},
   "source": [
    "Estas capas contienen la geocodificación de los accidentes de tránsito registrados en la Región Metropolitana entre los años 2013 y 2018. Contiene los detalles de fecha (en la mayoria solo día/mes), tipo de accidente, causa basal del accidente, dirección donde ocurrió el accidente, fallecidos y lesionados según gravedad. \n",
    "- [Siniestros RM - 2013](http://mapas-conaset.opendata.arcgis.com/datasets/12cb58c27a2846dfa60cf629a14d611a_0)\n",
    "- [Siniestros RM - 2014](http://mapas-conaset.opendata.arcgis.com/datasets/aa5b5322bc564b809aa29c70658b9cf9_0)\n",
    "- [Siniestros RM - 2015](http://mapas-conaset.opendata.arcgis.com/datasets/dafa26dbce99467985596d8a58216b79_0)\n",
    "- [Siniestros RM - 2016](http://mapas-conaset.opendata.arcgis.com/datasets/32ee49c703b840b885b9c80b37ae72d0_0)\n",
    "- [Siniestros RM - 2017](http://mapas-conaset.opendata.arcgis.com/datasets/907addac92b74e3fa30d40edb72d1813_0)\n",
    "- [Siniestros RM - 2018](http://mapas-conaset.opendata.arcgis.com/datasets/3a084373b58b45d0ae01d9c14a231cf8_0)"
   ]
  },
  {
   "cell_type": "markdown",
   "metadata": {},
   "source": [
    "### OpenStreetMap\n",
    "- POI and streets of Santiago\n",
    "<br><br>\n",
    "http://download.geofabrik.de/south-america/chile.html"
   ]
  },
  {
   "cell_type": "markdown",
   "metadata": {},
   "source": [
    "## Main Libraries"
   ]
  },
  {
   "cell_type": "code",
   "execution_count": 1,
   "metadata": {
    "ExecuteTime": {
     "end_time": "2019-08-03T13:27:17.598773Z",
     "start_time": "2019-08-03T13:27:14.893118Z"
    }
   },
   "outputs": [],
   "source": [
    "from math import radians, cos, sin, asin, sqrt, atan2\n",
    "import numpy as np\n",
    "import pandas as pd\n",
    "import matplotlib.pyplot as plt\n",
    "import matplotlib as mpl\n",
    "from pylab import rcParams\n",
    "import seaborn as sns\n",
    "import folium\n",
    "import networkx as nx\n",
    "import osmnx as ox\n",
    "import geopandas as gpd\n",
    "from shapely.geometry import Point, Polygon, LineString, MultiLineString\n",
    "import shapefile as shp\n",
    "import gpd_lite_toolbox as glt\n",
    "from gpd_lite_toolbox.utils_carto import m_plot_dataframe, m_plot_multipolygon\n",
    "import warnings\n",
    "warnings.filterwarnings('ignore')"
   ]
  },
  {
   "cell_type": "code",
   "execution_count": 2,
   "metadata": {
    "ExecuteTime": {
     "end_time": "2019-08-03T13:27:17.615872Z",
     "start_time": "2019-08-03T13:27:17.605885Z"
    }
   },
   "outputs": [],
   "source": [
    "sns.set(context='paper', style='ticks', palette='inferno')\n",
    "sns.mpl.rc(\"figure\", figsize=(10, 6))\n",
    "mpl.rcParams['figure.dpi']= 150"
   ]
  },
  {
   "cell_type": "markdown",
   "metadata": {},
   "source": [
    "## Creating Final Train and Test datasets "
   ]
  },
  {
   "cell_type": "code",
   "execution_count": 3,
   "metadata": {
    "ExecuteTime": {
     "end_time": "2019-08-03T13:27:17.748169Z",
     "start_time": "2019-08-03T13:27:17.623846Z"
    }
   },
   "outputs": [
    {
     "name": "stdout",
     "output_type": "stream",
     "text": [
      "\u001b[34mCONASET\u001b[m\u001b[m                              geo_stgo_100_crash_test_dataset.csv\r\n",
      "\u001b[34mOSM_Chile\u001b[m\u001b[m                            geo_stgo_100_crash_train_dataset.csv\r\n",
      "final_test_dataset_grid_100.csv      geo_stgo_100_estatic_dataset.csv\r\n",
      "final_train_dataset_grid_100.csv\r\n"
     ]
    }
   ],
   "source": [
    "!ls ../data"
   ]
  },
  {
   "cell_type": "code",
   "execution_count": 4,
   "metadata": {
    "ExecuteTime": {
     "end_time": "2019-08-03T13:27:23.633688Z",
     "start_time": "2019-08-03T13:27:23.439154Z"
    }
   },
   "outputs": [
    {
     "data": {
      "text/plain": [
       "(63029, 37)"
      ]
     },
     "execution_count": 4,
     "metadata": {},
     "output_type": "execute_result"
    }
   ],
   "source": [
    "Static_features = pd.read_csv(\"../data/geo_stgo_100_estatic_dataset.csv\")\n",
    "Static_features.shape"
   ]
  },
  {
   "cell_type": "code",
   "execution_count": 5,
   "metadata": {
    "ExecuteTime": {
     "end_time": "2019-08-03T13:27:24.506145Z",
     "start_time": "2019-08-03T13:27:24.487345Z"
    }
   },
   "outputs": [
    {
     "data": {
      "text/html": [
       "<div>\n",
       "<style scoped>\n",
       "    .dataframe tbody tr th:only-of-type {\n",
       "        vertical-align: middle;\n",
       "    }\n",
       "\n",
       "    .dataframe tbody tr th {\n",
       "        vertical-align: top;\n",
       "    }\n",
       "\n",
       "    .dataframe thead th {\n",
       "        text-align: right;\n",
       "    }\n",
       "</style>\n",
       "<table border=\"1\" class=\"dataframe\">\n",
       "  <thead>\n",
       "    <tr style=\"text-align: right;\">\n",
       "      <th></th>\n",
       "      <th>Unnamed: 0</th>\n",
       "      <th>X</th>\n",
       "      <th>Y</th>\n",
       "      <th>bank</th>\n",
       "      <th>bench</th>\n",
       "      <th>beverages</th>\n",
       "      <th>bus_stop</th>\n",
       "      <th>bus_stop_100</th>\n",
       "      <th>cafe</th>\n",
       "      <th>convenience</th>\n",
       "      <th>...</th>\n",
       "      <th>restaurant_100</th>\n",
       "      <th>school</th>\n",
       "      <th>school_100</th>\n",
       "      <th>school_200</th>\n",
       "      <th>stop</th>\n",
       "      <th>stop_100</th>\n",
       "      <th>taxi</th>\n",
       "      <th>traffic_signals</th>\n",
       "      <th>traffic_signals_100</th>\n",
       "      <th>turning_circle</th>\n",
       "    </tr>\n",
       "  </thead>\n",
       "  <tbody>\n",
       "    <tr>\n",
       "      <th>0</th>\n",
       "      <td>0</td>\n",
       "      <td>-70.824738</td>\n",
       "      <td>-33.557697</td>\n",
       "      <td>0</td>\n",
       "      <td>0</td>\n",
       "      <td>0</td>\n",
       "      <td>0</td>\n",
       "      <td>0</td>\n",
       "      <td>0</td>\n",
       "      <td>0</td>\n",
       "      <td>...</td>\n",
       "      <td>0</td>\n",
       "      <td>0</td>\n",
       "      <td>0</td>\n",
       "      <td>0</td>\n",
       "      <td>0</td>\n",
       "      <td>0</td>\n",
       "      <td>0</td>\n",
       "      <td>0</td>\n",
       "      <td>0</td>\n",
       "      <td>0</td>\n",
       "    </tr>\n",
       "    <tr>\n",
       "      <th>1</th>\n",
       "      <td>1</td>\n",
       "      <td>-70.823831</td>\n",
       "      <td>-33.556787</td>\n",
       "      <td>0</td>\n",
       "      <td>0</td>\n",
       "      <td>0</td>\n",
       "      <td>0</td>\n",
       "      <td>0</td>\n",
       "      <td>0</td>\n",
       "      <td>0</td>\n",
       "      <td>...</td>\n",
       "      <td>0</td>\n",
       "      <td>0</td>\n",
       "      <td>0</td>\n",
       "      <td>0</td>\n",
       "      <td>0</td>\n",
       "      <td>0</td>\n",
       "      <td>0</td>\n",
       "      <td>0</td>\n",
       "      <td>0</td>\n",
       "      <td>0</td>\n",
       "    </tr>\n",
       "  </tbody>\n",
       "</table>\n",
       "<p>2 rows × 37 columns</p>\n",
       "</div>"
      ],
      "text/plain": [
       "   Unnamed: 0          X          Y  bank  bench  beverages  bus_stop  \\\n",
       "0           0 -70.824738 -33.557697     0      0          0         0   \n",
       "1           1 -70.823831 -33.556787     0      0          0         0   \n",
       "\n",
       "   bus_stop_100  cafe  convenience  ...  restaurant_100  school  school_100  \\\n",
       "0             0     0            0  ...               0       0           0   \n",
       "1             0     0            0  ...               0       0           0   \n",
       "\n",
       "   school_200  stop  stop_100  taxi  traffic_signals  traffic_signals_100  \\\n",
       "0           0     0         0     0                0                    0   \n",
       "1           0     0         0     0                0                    0   \n",
       "\n",
       "   turning_circle  \n",
       "0               0  \n",
       "1               0  \n",
       "\n",
       "[2 rows x 37 columns]"
      ]
     },
     "execution_count": 5,
     "metadata": {},
     "output_type": "execute_result"
    }
   ],
   "source": [
    "Static_features.head(2)"
   ]
  },
  {
   "cell_type": "code",
   "execution_count": 6,
   "metadata": {
    "ExecuteTime": {
     "end_time": "2019-08-03T13:27:25.476379Z",
     "start_time": "2019-08-03T13:27:25.430767Z"
    }
   },
   "outputs": [
    {
     "name": "stdout",
     "output_type": "stream",
     "text": [
      "<class 'pandas.core.frame.DataFrame'>\n",
      "RangeIndex: 63029 entries, 0 to 63028\n",
      "Data columns (total 37 columns):\n",
      "Unnamed: 0             63029 non-null int64\n",
      "X                      63029 non-null float64\n",
      "Y                      63029 non-null float64\n",
      "bank                   63029 non-null int64\n",
      "bench                  63029 non-null int64\n",
      "beverages              63029 non-null int64\n",
      "bus_stop               63029 non-null int64\n",
      "bus_stop_100           63029 non-null int64\n",
      "cafe                   63029 non-null int64\n",
      "convenience            63029 non-null int64\n",
      "convenience_100        63029 non-null int64\n",
      "convenience_200        63029 non-null int64\n",
      "crossing               63029 non-null int64\n",
      "crossing_100           63029 non-null int64\n",
      "fast_food              63029 non-null int64\n",
      "fast_food_100          63029 non-null int64\n",
      "fast_food_200          63029 non-null int64\n",
      "fuel                   63029 non-null int64\n",
      "intercect              63029 non-null int64\n",
      "kindergarten           63029 non-null int64\n",
      "motorway_junction      63029 non-null int64\n",
      "parking                63029 non-null int64\n",
      "parking_bicycle        63029 non-null int64\n",
      "pharmacy               63029 non-null int64\n",
      "railway_station        63029 non-null int64\n",
      "railway_station_100    63029 non-null int64\n",
      "restaurant             63029 non-null int64\n",
      "restaurant_100         63029 non-null int64\n",
      "school                 63029 non-null int64\n",
      "school_100             63029 non-null int64\n",
      "school_200             63029 non-null int64\n",
      "stop                   63029 non-null int64\n",
      "stop_100               63029 non-null int64\n",
      "taxi                   63029 non-null int64\n",
      "traffic_signals        63029 non-null int64\n",
      "traffic_signals_100    63029 non-null int64\n",
      "turning_circle         63029 non-null int64\n",
      "dtypes: float64(2), int64(35)\n",
      "memory usage: 17.8 MB\n"
     ]
    }
   ],
   "source": [
    "Static_features.info()"
   ]
  },
  {
   "cell_type": "code",
   "execution_count": 7,
   "metadata": {
    "ExecuteTime": {
     "end_time": "2019-08-03T13:27:27.263048Z",
     "start_time": "2019-08-03T13:27:27.080976Z"
    }
   },
   "outputs": [
    {
     "data": {
      "text/plain": [
       "(63029, 28)"
      ]
     },
     "execution_count": 7,
     "metadata": {},
     "output_type": "execute_result"
    }
   ],
   "source": [
    "train_dyna_features = pd.read_csv(\"../data/geo_stgo_100_crash_train_dataset.csv\")\n",
    "train_dyna_features.shape"
   ]
  },
  {
   "cell_type": "code",
   "execution_count": 8,
   "metadata": {
    "ExecuteTime": {
     "end_time": "2019-08-03T13:27:28.738205Z",
     "start_time": "2019-08-03T13:27:28.565567Z"
    }
   },
   "outputs": [
    {
     "data": {
      "text/plain": [
       "(63029, 28)"
      ]
     },
     "execution_count": 8,
     "metadata": {},
     "output_type": "execute_result"
    }
   ],
   "source": [
    "test_dyna_features = pd.read_csv(\"../data/geo_stgo_100_crash_test_dataset.csv\")\n",
    "test_dyna_features.shape"
   ]
  },
  {
   "cell_type": "code",
   "execution_count": 9,
   "metadata": {
    "ExecuteTime": {
     "end_time": "2019-08-03T13:27:35.903505Z",
     "start_time": "2019-08-03T13:27:35.886446Z"
    }
   },
   "outputs": [
    {
     "data": {
      "text/html": [
       "<div>\n",
       "<style scoped>\n",
       "    .dataframe tbody tr th:only-of-type {\n",
       "        vertical-align: middle;\n",
       "    }\n",
       "\n",
       "    .dataframe tbody tr th {\n",
       "        vertical-align: top;\n",
       "    }\n",
       "\n",
       "    .dataframe thead th {\n",
       "        text-align: right;\n",
       "    }\n",
       "</style>\n",
       "<table border=\"1\" class=\"dataframe\">\n",
       "  <thead>\n",
       "    <tr style=\"text-align: right;\">\n",
       "      <th></th>\n",
       "      <th>Unnamed: 0</th>\n",
       "      <th>ATROPELLO</th>\n",
       "      <th>ATROPELLO_100</th>\n",
       "      <th>ATROPELLO_200</th>\n",
       "      <th>CAIDA</th>\n",
       "      <th>CAIDA_100</th>\n",
       "      <th>CAIDA_200</th>\n",
       "      <th>CHOQUE</th>\n",
       "      <th>CHOQUE_100</th>\n",
       "      <th>CHOQUE_200</th>\n",
       "      <th>...</th>\n",
       "      <th>OTRO TIPO_100</th>\n",
       "      <th>OTRO TIPO_200</th>\n",
       "      <th>SEV_Index_1</th>\n",
       "      <th>SEV_Index_100</th>\n",
       "      <th>SEV_Index_200</th>\n",
       "      <th>VOLCADURA</th>\n",
       "      <th>VOLCADURA_100</th>\n",
       "      <th>VOLCADURA_200</th>\n",
       "      <th>X</th>\n",
       "      <th>Y</th>\n",
       "    </tr>\n",
       "  </thead>\n",
       "  <tbody>\n",
       "    <tr>\n",
       "      <th>0</th>\n",
       "      <td>0</td>\n",
       "      <td>0</td>\n",
       "      <td>0</td>\n",
       "      <td>0</td>\n",
       "      <td>0</td>\n",
       "      <td>0</td>\n",
       "      <td>0</td>\n",
       "      <td>0</td>\n",
       "      <td>0</td>\n",
       "      <td>0</td>\n",
       "      <td>...</td>\n",
       "      <td>0</td>\n",
       "      <td>0</td>\n",
       "      <td>0</td>\n",
       "      <td>0</td>\n",
       "      <td>0</td>\n",
       "      <td>0</td>\n",
       "      <td>0</td>\n",
       "      <td>0</td>\n",
       "      <td>-70.824738</td>\n",
       "      <td>-33.557697</td>\n",
       "    </tr>\n",
       "    <tr>\n",
       "      <th>1</th>\n",
       "      <td>1</td>\n",
       "      <td>0</td>\n",
       "      <td>0</td>\n",
       "      <td>0</td>\n",
       "      <td>0</td>\n",
       "      <td>0</td>\n",
       "      <td>0</td>\n",
       "      <td>0</td>\n",
       "      <td>0</td>\n",
       "      <td>0</td>\n",
       "      <td>...</td>\n",
       "      <td>0</td>\n",
       "      <td>0</td>\n",
       "      <td>0</td>\n",
       "      <td>0</td>\n",
       "      <td>0</td>\n",
       "      <td>0</td>\n",
       "      <td>0</td>\n",
       "      <td>0</td>\n",
       "      <td>-70.823831</td>\n",
       "      <td>-33.556787</td>\n",
       "    </tr>\n",
       "  </tbody>\n",
       "</table>\n",
       "<p>2 rows × 28 columns</p>\n",
       "</div>"
      ],
      "text/plain": [
       "   Unnamed: 0  ATROPELLO  ATROPELLO_100  ATROPELLO_200  CAIDA  CAIDA_100  \\\n",
       "0           0          0              0              0      0          0   \n",
       "1           1          0              0              0      0          0   \n",
       "\n",
       "   CAIDA_200  CHOQUE  CHOQUE_100  CHOQUE_200  ...  OTRO TIPO_100  \\\n",
       "0          0       0           0           0  ...              0   \n",
       "1          0       0           0           0  ...              0   \n",
       "\n",
       "   OTRO TIPO_200  SEV_Index_1  SEV_Index_100  SEV_Index_200  VOLCADURA  \\\n",
       "0              0            0              0              0          0   \n",
       "1              0            0              0              0          0   \n",
       "\n",
       "   VOLCADURA_100  VOLCADURA_200          X          Y  \n",
       "0              0              0 -70.824738 -33.557697  \n",
       "1              0              0 -70.823831 -33.556787  \n",
       "\n",
       "[2 rows x 28 columns]"
      ]
     },
     "execution_count": 9,
     "metadata": {},
     "output_type": "execute_result"
    }
   ],
   "source": [
    "test_dyna_features.head(2)"
   ]
  },
  {
   "cell_type": "code",
   "execution_count": 10,
   "metadata": {
    "ExecuteTime": {
     "end_time": "2019-08-03T13:27:36.846734Z",
     "start_time": "2019-08-03T13:27:36.808115Z"
    }
   },
   "outputs": [
    {
     "name": "stdout",
     "output_type": "stream",
     "text": [
      "<class 'pandas.core.frame.DataFrame'>\n",
      "RangeIndex: 63029 entries, 0 to 63028\n",
      "Data columns (total 28 columns):\n",
      "Unnamed: 0       63029 non-null int64\n",
      "ATROPELLO        63029 non-null int64\n",
      "ATROPELLO_100    63029 non-null int64\n",
      "ATROPELLO_200    63029 non-null int64\n",
      "CAIDA            63029 non-null int64\n",
      "CAIDA_100        63029 non-null int64\n",
      "CAIDA_200        63029 non-null int64\n",
      "CHOQUE           63029 non-null int64\n",
      "CHOQUE_100       63029 non-null int64\n",
      "CHOQUE_200       63029 non-null int64\n",
      "COLISION         63029 non-null int64\n",
      "COLISION_100     63029 non-null int64\n",
      "COLISION_200     63029 non-null int64\n",
      "FID              63029 non-null int64\n",
      "INCENDIO         63029 non-null int64\n",
      "INCENDIO_100     63029 non-null int64\n",
      "INCENDIO_200     63029 non-null int64\n",
      "OTRO TIPO        63029 non-null int64\n",
      "OTRO TIPO_100    63029 non-null int64\n",
      "OTRO TIPO_200    63029 non-null int64\n",
      "SEV_Index_1      63029 non-null int64\n",
      "SEV_Index_100    63029 non-null int64\n",
      "SEV_Index_200    63029 non-null int64\n",
      "VOLCADURA        63029 non-null int64\n",
      "VOLCADURA_100    63029 non-null int64\n",
      "VOLCADURA_200    63029 non-null int64\n",
      "X                63029 non-null float64\n",
      "Y                63029 non-null float64\n",
      "dtypes: float64(2), int64(26)\n",
      "memory usage: 13.5 MB\n"
     ]
    }
   ],
   "source": [
    "test_dyna_features.info()"
   ]
  },
  {
   "cell_type": "code",
   "execution_count": 11,
   "metadata": {
    "ExecuteTime": {
     "end_time": "2019-08-03T13:27:37.644570Z",
     "start_time": "2019-08-03T13:27:37.640805Z"
    }
   },
   "outputs": [],
   "source": [
    "def create_dep_var(row):\n",
    "    if (row['ATROPELLO'] + row['CAIDA'] + row['COLISION'] + row['INCENDIO'] +\n",
    "            row['OTRO TIPO'] + row['VOLCADURA']) == 0:\n",
    "        return 0\n",
    "    else:\n",
    "        return 1"
   ]
  },
  {
   "cell_type": "code",
   "execution_count": 12,
   "metadata": {
    "ExecuteTime": {
     "end_time": "2019-08-03T13:27:44.795161Z",
     "start_time": "2019-08-03T13:27:40.092358Z"
    }
   },
   "outputs": [],
   "source": [
    "train_dyna_features['SINIESTRO'] = train_dyna_features.apply(create_dep_var, axis=1)\n",
    "test_dyna_features['SINIESTRO'] = test_dyna_features.apply(create_dep_var, axis=1)"
   ]
  },
  {
   "cell_type": "code",
   "execution_count": 13,
   "metadata": {
    "ExecuteTime": {
     "end_time": "2019-08-03T13:27:45.603274Z",
     "start_time": "2019-08-03T13:27:45.583211Z"
    }
   },
   "outputs": [
    {
     "data": {
      "text/html": [
       "<div>\n",
       "<style scoped>\n",
       "    .dataframe tbody tr th:only-of-type {\n",
       "        vertical-align: middle;\n",
       "    }\n",
       "\n",
       "    .dataframe tbody tr th {\n",
       "        vertical-align: top;\n",
       "    }\n",
       "\n",
       "    .dataframe thead th {\n",
       "        text-align: right;\n",
       "    }\n",
       "</style>\n",
       "<table border=\"1\" class=\"dataframe\">\n",
       "  <thead>\n",
       "    <tr style=\"text-align: right;\">\n",
       "      <th></th>\n",
       "      <th>Unnamed: 0</th>\n",
       "      <th>ATROPELLO</th>\n",
       "      <th>ATROPELLO_100</th>\n",
       "      <th>ATROPELLO_200</th>\n",
       "      <th>CAIDA</th>\n",
       "      <th>CAIDA_100</th>\n",
       "      <th>CAIDA_200</th>\n",
       "      <th>CHOQUE</th>\n",
       "      <th>CHOQUE_100</th>\n",
       "      <th>CHOQUE_200</th>\n",
       "      <th>...</th>\n",
       "      <th>OTRO TIPO_200</th>\n",
       "      <th>SEV_Index_1</th>\n",
       "      <th>SEV_Index_100</th>\n",
       "      <th>SEV_Index_200</th>\n",
       "      <th>VOLCADURA</th>\n",
       "      <th>VOLCADURA_100</th>\n",
       "      <th>VOLCADURA_200</th>\n",
       "      <th>X</th>\n",
       "      <th>Y</th>\n",
       "      <th>SINIESTRO</th>\n",
       "    </tr>\n",
       "  </thead>\n",
       "  <tbody>\n",
       "    <tr>\n",
       "      <th>0</th>\n",
       "      <td>0</td>\n",
       "      <td>0</td>\n",
       "      <td>0</td>\n",
       "      <td>0</td>\n",
       "      <td>0</td>\n",
       "      <td>0</td>\n",
       "      <td>0</td>\n",
       "      <td>0</td>\n",
       "      <td>0</td>\n",
       "      <td>0</td>\n",
       "      <td>...</td>\n",
       "      <td>0</td>\n",
       "      <td>0.0</td>\n",
       "      <td>0.0</td>\n",
       "      <td>0.0</td>\n",
       "      <td>0</td>\n",
       "      <td>0</td>\n",
       "      <td>0</td>\n",
       "      <td>-70.824738</td>\n",
       "      <td>-33.557697</td>\n",
       "      <td>0</td>\n",
       "    </tr>\n",
       "    <tr>\n",
       "      <th>1</th>\n",
       "      <td>1</td>\n",
       "      <td>0</td>\n",
       "      <td>0</td>\n",
       "      <td>0</td>\n",
       "      <td>0</td>\n",
       "      <td>0</td>\n",
       "      <td>0</td>\n",
       "      <td>0</td>\n",
       "      <td>0</td>\n",
       "      <td>0</td>\n",
       "      <td>...</td>\n",
       "      <td>0</td>\n",
       "      <td>0.0</td>\n",
       "      <td>0.0</td>\n",
       "      <td>0.0</td>\n",
       "      <td>0</td>\n",
       "      <td>0</td>\n",
       "      <td>0</td>\n",
       "      <td>-70.823831</td>\n",
       "      <td>-33.556787</td>\n",
       "      <td>0</td>\n",
       "    </tr>\n",
       "  </tbody>\n",
       "</table>\n",
       "<p>2 rows × 29 columns</p>\n",
       "</div>"
      ],
      "text/plain": [
       "   Unnamed: 0  ATROPELLO  ATROPELLO_100  ATROPELLO_200  CAIDA  CAIDA_100  \\\n",
       "0           0          0              0              0      0          0   \n",
       "1           1          0              0              0      0          0   \n",
       "\n",
       "   CAIDA_200  CHOQUE  CHOQUE_100  CHOQUE_200  ...  OTRO TIPO_200  SEV_Index_1  \\\n",
       "0          0       0           0           0  ...              0          0.0   \n",
       "1          0       0           0           0  ...              0          0.0   \n",
       "\n",
       "   SEV_Index_100  SEV_Index_200  VOLCADURA  VOLCADURA_100  VOLCADURA_200  \\\n",
       "0            0.0            0.0          0              0              0   \n",
       "1            0.0            0.0          0              0              0   \n",
       "\n",
       "           X          Y  SINIESTRO  \n",
       "0 -70.824738 -33.557697          0  \n",
       "1 -70.823831 -33.556787          0  \n",
       "\n",
       "[2 rows x 29 columns]"
      ]
     },
     "execution_count": 13,
     "metadata": {},
     "output_type": "execute_result"
    }
   ],
   "source": [
    "train_dyna_features.head(2)"
   ]
  },
  {
   "cell_type": "markdown",
   "metadata": {},
   "source": [
    "## Creating and Saving Train Dataset"
   ]
  },
  {
   "cell_type": "code",
   "execution_count": 14,
   "metadata": {
    "ExecuteTime": {
     "end_time": "2019-08-03T13:27:49.822724Z",
     "start_time": "2019-08-03T13:27:49.812935Z"
    }
   },
   "outputs": [],
   "source": [
    "data = Static_features.copy()"
   ]
  },
  {
   "cell_type": "code",
   "execution_count": 15,
   "metadata": {
    "ExecuteTime": {
     "end_time": "2019-08-03T13:27:50.554161Z",
     "start_time": "2019-08-03T13:27:50.531738Z"
    }
   },
   "outputs": [],
   "source": [
    "data = data.rename(columns={'Unnamed: 0':'id'})"
   ]
  },
  {
   "cell_type": "code",
   "execution_count": 16,
   "metadata": {
    "ExecuteTime": {
     "end_time": "2019-08-03T13:27:51.449977Z",
     "start_time": "2019-08-03T13:27:51.432590Z"
    }
   },
   "outputs": [
    {
     "data": {
      "text/html": [
       "<div>\n",
       "<style scoped>\n",
       "    .dataframe tbody tr th:only-of-type {\n",
       "        vertical-align: middle;\n",
       "    }\n",
       "\n",
       "    .dataframe tbody tr th {\n",
       "        vertical-align: top;\n",
       "    }\n",
       "\n",
       "    .dataframe thead th {\n",
       "        text-align: right;\n",
       "    }\n",
       "</style>\n",
       "<table border=\"1\" class=\"dataframe\">\n",
       "  <thead>\n",
       "    <tr style=\"text-align: right;\">\n",
       "      <th></th>\n",
       "      <th>id</th>\n",
       "      <th>X</th>\n",
       "      <th>Y</th>\n",
       "      <th>bank</th>\n",
       "      <th>bench</th>\n",
       "      <th>beverages</th>\n",
       "      <th>bus_stop</th>\n",
       "      <th>bus_stop_100</th>\n",
       "      <th>cafe</th>\n",
       "      <th>convenience</th>\n",
       "      <th>...</th>\n",
       "      <th>restaurant_100</th>\n",
       "      <th>school</th>\n",
       "      <th>school_100</th>\n",
       "      <th>school_200</th>\n",
       "      <th>stop</th>\n",
       "      <th>stop_100</th>\n",
       "      <th>taxi</th>\n",
       "      <th>traffic_signals</th>\n",
       "      <th>traffic_signals_100</th>\n",
       "      <th>turning_circle</th>\n",
       "    </tr>\n",
       "  </thead>\n",
       "  <tbody>\n",
       "    <tr>\n",
       "      <th>0</th>\n",
       "      <td>0</td>\n",
       "      <td>-70.824738</td>\n",
       "      <td>-33.557697</td>\n",
       "      <td>0</td>\n",
       "      <td>0</td>\n",
       "      <td>0</td>\n",
       "      <td>0</td>\n",
       "      <td>0</td>\n",
       "      <td>0</td>\n",
       "      <td>0</td>\n",
       "      <td>...</td>\n",
       "      <td>0</td>\n",
       "      <td>0</td>\n",
       "      <td>0</td>\n",
       "      <td>0</td>\n",
       "      <td>0</td>\n",
       "      <td>0</td>\n",
       "      <td>0</td>\n",
       "      <td>0</td>\n",
       "      <td>0</td>\n",
       "      <td>0</td>\n",
       "    </tr>\n",
       "    <tr>\n",
       "      <th>1</th>\n",
       "      <td>1</td>\n",
       "      <td>-70.823831</td>\n",
       "      <td>-33.556787</td>\n",
       "      <td>0</td>\n",
       "      <td>0</td>\n",
       "      <td>0</td>\n",
       "      <td>0</td>\n",
       "      <td>0</td>\n",
       "      <td>0</td>\n",
       "      <td>0</td>\n",
       "      <td>...</td>\n",
       "      <td>0</td>\n",
       "      <td>0</td>\n",
       "      <td>0</td>\n",
       "      <td>0</td>\n",
       "      <td>0</td>\n",
       "      <td>0</td>\n",
       "      <td>0</td>\n",
       "      <td>0</td>\n",
       "      <td>0</td>\n",
       "      <td>0</td>\n",
       "    </tr>\n",
       "  </tbody>\n",
       "</table>\n",
       "<p>2 rows × 37 columns</p>\n",
       "</div>"
      ],
      "text/plain": [
       "   id          X          Y  bank  bench  beverages  bus_stop  bus_stop_100  \\\n",
       "0   0 -70.824738 -33.557697     0      0          0         0             0   \n",
       "1   1 -70.823831 -33.556787     0      0          0         0             0   \n",
       "\n",
       "   cafe  convenience  ...  restaurant_100  school  school_100  school_200  \\\n",
       "0     0            0  ...               0       0           0           0   \n",
       "1     0            0  ...               0       0           0           0   \n",
       "\n",
       "   stop  stop_100  taxi  traffic_signals  traffic_signals_100  turning_circle  \n",
       "0     0         0     0                0                    0               0  \n",
       "1     0         0     0                0                    0               0  \n",
       "\n",
       "[2 rows x 37 columns]"
      ]
     },
     "execution_count": 16,
     "metadata": {},
     "output_type": "execute_result"
    }
   ],
   "source": [
    "data.head(2)"
   ]
  },
  {
   "cell_type": "code",
   "execution_count": 17,
   "metadata": {
    "ExecuteTime": {
     "end_time": "2019-08-03T13:27:52.910231Z",
     "start_time": "2019-08-03T13:27:52.905803Z"
    },
    "scrolled": true
   },
   "outputs": [
    {
     "data": {
      "text/plain": [
       "Index(['Unnamed: 0', 'ATROPELLO', 'ATROPELLO_100', 'ATROPELLO_200', 'CAIDA',\n",
       "       'CAIDA_100', 'CAIDA_200', 'CHOQUE', 'CHOQUE_100', 'CHOQUE_200',\n",
       "       'COLISION', 'COLISION_100', 'COLISION_200', 'FID', 'INCENDIO',\n",
       "       'INCENDIO_100', 'INCENDIO_200', 'OTRO TIPO', 'OTRO TIPO_100',\n",
       "       'OTRO TIPO_200', 'SEV_Index_1', 'SEV_Index_100', 'SEV_Index_200',\n",
       "       'VOLCADURA', 'VOLCADURA_100', 'VOLCADURA_200', 'X', 'Y', 'SINIESTRO'],\n",
       "      dtype='object')"
      ]
     },
     "execution_count": 17,
     "metadata": {},
     "output_type": "execute_result"
    }
   ],
   "source": [
    "train_dyna_features.columns"
   ]
  },
  {
   "cell_type": "code",
   "execution_count": 18,
   "metadata": {
    "ExecuteTime": {
     "end_time": "2019-08-03T13:27:53.940568Z",
     "start_time": "2019-08-03T13:27:53.918021Z"
    }
   },
   "outputs": [],
   "source": [
    "data_train = train_dyna_features[[\n",
    "    'ATROPELLO_100', 'ATROPELLO_200', 'CAIDA_100', 'CAIDA_200', 'CHOQUE_100',\n",
    "    'CHOQUE_200', 'COLISION_100', 'COLISION_200', 'INCENDIO_100',\n",
    "    'INCENDIO_200', 'OTRO TIPO_100', 'OTRO TIPO_200', 'SEV_Index_100',\n",
    "    'SEV_Index_200', 'VOLCADURA_100', 'VOLCADURA_200', 'SINIESTRO'\n",
    "]]"
   ]
  },
  {
   "cell_type": "code",
   "execution_count": 19,
   "metadata": {
    "ExecuteTime": {
     "end_time": "2019-08-03T13:27:54.565475Z",
     "start_time": "2019-08-03T13:27:54.547569Z"
    }
   },
   "outputs": [],
   "source": [
    "train = pd.concat([data,data_train], axis=1)"
   ]
  },
  {
   "cell_type": "code",
   "execution_count": 20,
   "metadata": {
    "ExecuteTime": {
     "end_time": "2019-08-03T13:27:55.375457Z",
     "start_time": "2019-08-03T13:27:55.281157Z"
    }
   },
   "outputs": [
    {
     "name": "stdout",
     "output_type": "stream",
     "text": [
      "<class 'pandas.core.frame.DataFrame'>\n",
      "RangeIndex: 63029 entries, 0 to 63028\n",
      "Data columns (total 54 columns):\n",
      "id                     63029 non-null int64\n",
      "X                      63029 non-null float64\n",
      "Y                      63029 non-null float64\n",
      "bank                   63029 non-null int64\n",
      "bench                  63029 non-null int64\n",
      "beverages              63029 non-null int64\n",
      "bus_stop               63029 non-null int64\n",
      "bus_stop_100           63029 non-null int64\n",
      "cafe                   63029 non-null int64\n",
      "convenience            63029 non-null int64\n",
      "convenience_100        63029 non-null int64\n",
      "convenience_200        63029 non-null int64\n",
      "crossing               63029 non-null int64\n",
      "crossing_100           63029 non-null int64\n",
      "fast_food              63029 non-null int64\n",
      "fast_food_100          63029 non-null int64\n",
      "fast_food_200          63029 non-null int64\n",
      "fuel                   63029 non-null int64\n",
      "intercect              63029 non-null int64\n",
      "kindergarten           63029 non-null int64\n",
      "motorway_junction      63029 non-null int64\n",
      "parking                63029 non-null int64\n",
      "parking_bicycle        63029 non-null int64\n",
      "pharmacy               63029 non-null int64\n",
      "railway_station        63029 non-null int64\n",
      "railway_station_100    63029 non-null int64\n",
      "restaurant             63029 non-null int64\n",
      "restaurant_100         63029 non-null int64\n",
      "school                 63029 non-null int64\n",
      "school_100             63029 non-null int64\n",
      "school_200             63029 non-null int64\n",
      "stop                   63029 non-null int64\n",
      "stop_100               63029 non-null int64\n",
      "taxi                   63029 non-null int64\n",
      "traffic_signals        63029 non-null int64\n",
      "traffic_signals_100    63029 non-null int64\n",
      "turning_circle         63029 non-null int64\n",
      "ATROPELLO_100          63029 non-null int64\n",
      "ATROPELLO_200          63029 non-null int64\n",
      "CAIDA_100              63029 non-null int64\n",
      "CAIDA_200              63029 non-null int64\n",
      "CHOQUE_100             63029 non-null int64\n",
      "CHOQUE_200             63029 non-null int64\n",
      "COLISION_100           63029 non-null int64\n",
      "COLISION_200           63029 non-null int64\n",
      "INCENDIO_100           63029 non-null int64\n",
      "INCENDIO_200           63029 non-null int64\n",
      "OTRO TIPO_100          63029 non-null int64\n",
      "OTRO TIPO_200          63029 non-null int64\n",
      "SEV_Index_100          63029 non-null float64\n",
      "SEV_Index_200          63029 non-null float64\n",
      "VOLCADURA_100          63029 non-null int64\n",
      "VOLCADURA_200          63029 non-null int64\n",
      "SINIESTRO              63029 non-null int64\n",
      "dtypes: float64(4), int64(50)\n",
      "memory usage: 26.0 MB\n"
     ]
    }
   ],
   "source": [
    "train.info()"
   ]
  },
  {
   "cell_type": "code",
   "execution_count": 21,
   "metadata": {
    "ExecuteTime": {
     "end_time": "2019-08-03T13:27:56.192989Z",
     "start_time": "2019-08-03T13:27:56.170380Z"
    }
   },
   "outputs": [
    {
     "data": {
      "text/html": [
       "<div>\n",
       "<style scoped>\n",
       "    .dataframe tbody tr th:only-of-type {\n",
       "        vertical-align: middle;\n",
       "    }\n",
       "\n",
       "    .dataframe tbody tr th {\n",
       "        vertical-align: top;\n",
       "    }\n",
       "\n",
       "    .dataframe thead th {\n",
       "        text-align: right;\n",
       "    }\n",
       "</style>\n",
       "<table border=\"1\" class=\"dataframe\">\n",
       "  <thead>\n",
       "    <tr style=\"text-align: right;\">\n",
       "      <th></th>\n",
       "      <th>id</th>\n",
       "      <th>X</th>\n",
       "      <th>Y</th>\n",
       "      <th>bank</th>\n",
       "      <th>bench</th>\n",
       "      <th>beverages</th>\n",
       "      <th>bus_stop</th>\n",
       "      <th>bus_stop_100</th>\n",
       "      <th>cafe</th>\n",
       "      <th>convenience</th>\n",
       "      <th>...</th>\n",
       "      <th>COLISION_200</th>\n",
       "      <th>INCENDIO_100</th>\n",
       "      <th>INCENDIO_200</th>\n",
       "      <th>OTRO TIPO_100</th>\n",
       "      <th>OTRO TIPO_200</th>\n",
       "      <th>SEV_Index_100</th>\n",
       "      <th>SEV_Index_200</th>\n",
       "      <th>VOLCADURA_100</th>\n",
       "      <th>VOLCADURA_200</th>\n",
       "      <th>SINIESTRO</th>\n",
       "    </tr>\n",
       "  </thead>\n",
       "  <tbody>\n",
       "    <tr>\n",
       "      <th>23386</th>\n",
       "      <td>23386</td>\n",
       "      <td>-70.672922</td>\n",
       "      <td>-33.567697</td>\n",
       "      <td>0</td>\n",
       "      <td>0</td>\n",
       "      <td>0</td>\n",
       "      <td>0</td>\n",
       "      <td>3</td>\n",
       "      <td>0</td>\n",
       "      <td>0</td>\n",
       "      <td>...</td>\n",
       "      <td>25</td>\n",
       "      <td>0</td>\n",
       "      <td>0</td>\n",
       "      <td>0</td>\n",
       "      <td>1</td>\n",
       "      <td>1.0</td>\n",
       "      <td>1.0</td>\n",
       "      <td>0</td>\n",
       "      <td>0</td>\n",
       "      <td>0</td>\n",
       "    </tr>\n",
       "    <tr>\n",
       "      <th>45267</th>\n",
       "      <td>45267</td>\n",
       "      <td>-70.584740</td>\n",
       "      <td>-33.394060</td>\n",
       "      <td>0</td>\n",
       "      <td>0</td>\n",
       "      <td>0</td>\n",
       "      <td>0</td>\n",
       "      <td>0</td>\n",
       "      <td>0</td>\n",
       "      <td>0</td>\n",
       "      <td>...</td>\n",
       "      <td>2</td>\n",
       "      <td>0</td>\n",
       "      <td>0</td>\n",
       "      <td>0</td>\n",
       "      <td>1</td>\n",
       "      <td>1.0</td>\n",
       "      <td>1.0</td>\n",
       "      <td>0</td>\n",
       "      <td>0</td>\n",
       "      <td>0</td>\n",
       "    </tr>\n",
       "    <tr>\n",
       "      <th>5798</th>\n",
       "      <td>5798</td>\n",
       "      <td>-70.748376</td>\n",
       "      <td>-33.476787</td>\n",
       "      <td>0</td>\n",
       "      <td>0</td>\n",
       "      <td>0</td>\n",
       "      <td>0</td>\n",
       "      <td>2</td>\n",
       "      <td>0</td>\n",
       "      <td>0</td>\n",
       "      <td>...</td>\n",
       "      <td>37</td>\n",
       "      <td>0</td>\n",
       "      <td>0</td>\n",
       "      <td>1</td>\n",
       "      <td>2</td>\n",
       "      <td>1.0</td>\n",
       "      <td>1.0</td>\n",
       "      <td>0</td>\n",
       "      <td>0</td>\n",
       "      <td>0</td>\n",
       "    </tr>\n",
       "    <tr>\n",
       "      <th>22290</th>\n",
       "      <td>22290</td>\n",
       "      <td>-70.676558</td>\n",
       "      <td>-33.506787</td>\n",
       "      <td>0</td>\n",
       "      <td>0</td>\n",
       "      <td>0</td>\n",
       "      <td>0</td>\n",
       "      <td>3</td>\n",
       "      <td>0</td>\n",
       "      <td>0</td>\n",
       "      <td>...</td>\n",
       "      <td>6</td>\n",
       "      <td>0</td>\n",
       "      <td>0</td>\n",
       "      <td>0</td>\n",
       "      <td>1</td>\n",
       "      <td>1.0</td>\n",
       "      <td>1.0</td>\n",
       "      <td>0</td>\n",
       "      <td>0</td>\n",
       "      <td>0</td>\n",
       "    </tr>\n",
       "    <tr>\n",
       "      <th>18147</th>\n",
       "      <td>18147</td>\n",
       "      <td>-70.692013</td>\n",
       "      <td>-33.358606</td>\n",
       "      <td>0</td>\n",
       "      <td>0</td>\n",
       "      <td>0</td>\n",
       "      <td>0</td>\n",
       "      <td>0</td>\n",
       "      <td>0</td>\n",
       "      <td>0</td>\n",
       "      <td>...</td>\n",
       "      <td>1</td>\n",
       "      <td>0</td>\n",
       "      <td>0</td>\n",
       "      <td>0</td>\n",
       "      <td>0</td>\n",
       "      <td>0.0</td>\n",
       "      <td>1.0</td>\n",
       "      <td>0</td>\n",
       "      <td>0</td>\n",
       "      <td>0</td>\n",
       "    </tr>\n",
       "  </tbody>\n",
       "</table>\n",
       "<p>5 rows × 54 columns</p>\n",
       "</div>"
      ],
      "text/plain": [
       "          id          X          Y  bank  bench  beverages  bus_stop  \\\n",
       "23386  23386 -70.672922 -33.567697     0      0          0         0   \n",
       "45267  45267 -70.584740 -33.394060     0      0          0         0   \n",
       "5798    5798 -70.748376 -33.476787     0      0          0         0   \n",
       "22290  22290 -70.676558 -33.506787     0      0          0         0   \n",
       "18147  18147 -70.692013 -33.358606     0      0          0         0   \n",
       "\n",
       "       bus_stop_100  cafe  convenience  ...  COLISION_200  INCENDIO_100  \\\n",
       "23386             3     0            0  ...            25             0   \n",
       "45267             0     0            0  ...             2             0   \n",
       "5798              2     0            0  ...            37             0   \n",
       "22290             3     0            0  ...             6             0   \n",
       "18147             0     0            0  ...             1             0   \n",
       "\n",
       "       INCENDIO_200  OTRO TIPO_100  OTRO TIPO_200  SEV_Index_100  \\\n",
       "23386             0              0              1            1.0   \n",
       "45267             0              0              1            1.0   \n",
       "5798              0              1              2            1.0   \n",
       "22290             0              0              1            1.0   \n",
       "18147             0              0              0            0.0   \n",
       "\n",
       "       SEV_Index_200  VOLCADURA_100  VOLCADURA_200  SINIESTRO  \n",
       "23386            1.0              0              0          0  \n",
       "45267            1.0              0              0          0  \n",
       "5798             1.0              0              0          0  \n",
       "22290            1.0              0              0          0  \n",
       "18147            1.0              0              0          0  \n",
       "\n",
       "[5 rows x 54 columns]"
      ]
     },
     "execution_count": 21,
     "metadata": {},
     "output_type": "execute_result"
    }
   ],
   "source": [
    "train.sample(5)"
   ]
  },
  {
   "cell_type": "code",
   "execution_count": 22,
   "metadata": {
    "ExecuteTime": {
     "end_time": "2019-08-03T13:28:00.436517Z",
     "start_time": "2019-08-03T13:27:57.832676Z"
    }
   },
   "outputs": [],
   "source": [
    "train.to_csv(\"../data/final_train_dataset_grid_100.csv\")"
   ]
  },
  {
   "cell_type": "markdown",
   "metadata": {},
   "source": [
    "## Creating and Saving Test Dataset"
   ]
  },
  {
   "cell_type": "code",
   "execution_count": 23,
   "metadata": {
    "ExecuteTime": {
     "end_time": "2019-08-03T13:28:00.599420Z",
     "start_time": "2019-08-03T13:28:00.581346Z"
    }
   },
   "outputs": [
    {
     "data": {
      "text/html": [
       "<div>\n",
       "<style scoped>\n",
       "    .dataframe tbody tr th:only-of-type {\n",
       "        vertical-align: middle;\n",
       "    }\n",
       "\n",
       "    .dataframe tbody tr th {\n",
       "        vertical-align: top;\n",
       "    }\n",
       "\n",
       "    .dataframe thead th {\n",
       "        text-align: right;\n",
       "    }\n",
       "</style>\n",
       "<table border=\"1\" class=\"dataframe\">\n",
       "  <thead>\n",
       "    <tr style=\"text-align: right;\">\n",
       "      <th></th>\n",
       "      <th>id</th>\n",
       "      <th>X</th>\n",
       "      <th>Y</th>\n",
       "      <th>bank</th>\n",
       "      <th>bench</th>\n",
       "      <th>beverages</th>\n",
       "      <th>bus_stop</th>\n",
       "      <th>bus_stop_100</th>\n",
       "      <th>cafe</th>\n",
       "      <th>convenience</th>\n",
       "      <th>...</th>\n",
       "      <th>restaurant_100</th>\n",
       "      <th>school</th>\n",
       "      <th>school_100</th>\n",
       "      <th>school_200</th>\n",
       "      <th>stop</th>\n",
       "      <th>stop_100</th>\n",
       "      <th>taxi</th>\n",
       "      <th>traffic_signals</th>\n",
       "      <th>traffic_signals_100</th>\n",
       "      <th>turning_circle</th>\n",
       "    </tr>\n",
       "  </thead>\n",
       "  <tbody>\n",
       "    <tr>\n",
       "      <th>0</th>\n",
       "      <td>0</td>\n",
       "      <td>-70.824738</td>\n",
       "      <td>-33.557697</td>\n",
       "      <td>0</td>\n",
       "      <td>0</td>\n",
       "      <td>0</td>\n",
       "      <td>0</td>\n",
       "      <td>0</td>\n",
       "      <td>0</td>\n",
       "      <td>0</td>\n",
       "      <td>...</td>\n",
       "      <td>0</td>\n",
       "      <td>0</td>\n",
       "      <td>0</td>\n",
       "      <td>0</td>\n",
       "      <td>0</td>\n",
       "      <td>0</td>\n",
       "      <td>0</td>\n",
       "      <td>0</td>\n",
       "      <td>0</td>\n",
       "      <td>0</td>\n",
       "    </tr>\n",
       "    <tr>\n",
       "      <th>1</th>\n",
       "      <td>1</td>\n",
       "      <td>-70.823831</td>\n",
       "      <td>-33.556787</td>\n",
       "      <td>0</td>\n",
       "      <td>0</td>\n",
       "      <td>0</td>\n",
       "      <td>0</td>\n",
       "      <td>0</td>\n",
       "      <td>0</td>\n",
       "      <td>0</td>\n",
       "      <td>...</td>\n",
       "      <td>0</td>\n",
       "      <td>0</td>\n",
       "      <td>0</td>\n",
       "      <td>0</td>\n",
       "      <td>0</td>\n",
       "      <td>0</td>\n",
       "      <td>0</td>\n",
       "      <td>0</td>\n",
       "      <td>0</td>\n",
       "      <td>0</td>\n",
       "    </tr>\n",
       "  </tbody>\n",
       "</table>\n",
       "<p>2 rows × 37 columns</p>\n",
       "</div>"
      ],
      "text/plain": [
       "   id          X          Y  bank  bench  beverages  bus_stop  bus_stop_100  \\\n",
       "0   0 -70.824738 -33.557697     0      0          0         0             0   \n",
       "1   1 -70.823831 -33.556787     0      0          0         0             0   \n",
       "\n",
       "   cafe  convenience  ...  restaurant_100  school  school_100  school_200  \\\n",
       "0     0            0  ...               0       0           0           0   \n",
       "1     0            0  ...               0       0           0           0   \n",
       "\n",
       "   stop  stop_100  taxi  traffic_signals  traffic_signals_100  turning_circle  \n",
       "0     0         0     0                0                    0               0  \n",
       "1     0         0     0                0                    0               0  \n",
       "\n",
       "[2 rows x 37 columns]"
      ]
     },
     "execution_count": 23,
     "metadata": {},
     "output_type": "execute_result"
    }
   ],
   "source": [
    "data.head(2)"
   ]
  },
  {
   "cell_type": "code",
   "execution_count": 24,
   "metadata": {
    "ExecuteTime": {
     "end_time": "2019-08-03T13:28:00.755754Z",
     "start_time": "2019-08-03T13:28:00.751819Z"
    },
    "scrolled": true
   },
   "outputs": [
    {
     "data": {
      "text/plain": [
       "Index(['Unnamed: 0', 'ATROPELLO', 'ATROPELLO_100', 'ATROPELLO_200', 'CAIDA',\n",
       "       'CAIDA_100', 'CAIDA_200', 'CHOQUE', 'CHOQUE_100', 'CHOQUE_200',\n",
       "       'COLISION', 'COLISION_100', 'COLISION_200', 'FID', 'INCENDIO',\n",
       "       'INCENDIO_100', 'INCENDIO_200', 'OTRO TIPO', 'OTRO TIPO_100',\n",
       "       'OTRO TIPO_200', 'SEV_Index_1', 'SEV_Index_100', 'SEV_Index_200',\n",
       "       'VOLCADURA', 'VOLCADURA_100', 'VOLCADURA_200', 'X', 'Y', 'SINIESTRO'],\n",
       "      dtype='object')"
      ]
     },
     "execution_count": 24,
     "metadata": {},
     "output_type": "execute_result"
    }
   ],
   "source": [
    "test_dyna_features.columns"
   ]
  },
  {
   "cell_type": "code",
   "execution_count": 25,
   "metadata": {
    "ExecuteTime": {
     "end_time": "2019-08-03T13:28:04.948785Z",
     "start_time": "2019-08-03T13:28:04.924349Z"
    }
   },
   "outputs": [],
   "source": [
    "data_test = test_dyna_features[[\n",
    "    'ATROPELLO_100', 'ATROPELLO_200', 'CAIDA_100', 'CAIDA_200', 'CHOQUE_100',\n",
    "    'CHOQUE_200', 'COLISION_100', 'COLISION_200', 'INCENDIO_100',\n",
    "    'INCENDIO_200', 'OTRO TIPO_100', 'OTRO TIPO_200', 'SEV_Index_100',\n",
    "    'SEV_Index_200', 'VOLCADURA_100', 'VOLCADURA_200', 'SINIESTRO'\n",
    "]]"
   ]
  },
  {
   "cell_type": "code",
   "execution_count": 26,
   "metadata": {
    "ExecuteTime": {
     "end_time": "2019-08-03T13:28:06.278302Z",
     "start_time": "2019-08-03T13:28:06.259736Z"
    }
   },
   "outputs": [],
   "source": [
    "test = pd.concat([data,data_test], axis=1)"
   ]
  },
  {
   "cell_type": "code",
   "execution_count": 27,
   "metadata": {
    "ExecuteTime": {
     "end_time": "2019-08-03T13:28:07.634678Z",
     "start_time": "2019-08-03T13:28:07.542250Z"
    }
   },
   "outputs": [
    {
     "name": "stdout",
     "output_type": "stream",
     "text": [
      "<class 'pandas.core.frame.DataFrame'>\n",
      "RangeIndex: 63029 entries, 0 to 63028\n",
      "Data columns (total 54 columns):\n",
      "id                     63029 non-null int64\n",
      "X                      63029 non-null float64\n",
      "Y                      63029 non-null float64\n",
      "bank                   63029 non-null int64\n",
      "bench                  63029 non-null int64\n",
      "beverages              63029 non-null int64\n",
      "bus_stop               63029 non-null int64\n",
      "bus_stop_100           63029 non-null int64\n",
      "cafe                   63029 non-null int64\n",
      "convenience            63029 non-null int64\n",
      "convenience_100        63029 non-null int64\n",
      "convenience_200        63029 non-null int64\n",
      "crossing               63029 non-null int64\n",
      "crossing_100           63029 non-null int64\n",
      "fast_food              63029 non-null int64\n",
      "fast_food_100          63029 non-null int64\n",
      "fast_food_200          63029 non-null int64\n",
      "fuel                   63029 non-null int64\n",
      "intercect              63029 non-null int64\n",
      "kindergarten           63029 non-null int64\n",
      "motorway_junction      63029 non-null int64\n",
      "parking                63029 non-null int64\n",
      "parking_bicycle        63029 non-null int64\n",
      "pharmacy               63029 non-null int64\n",
      "railway_station        63029 non-null int64\n",
      "railway_station_100    63029 non-null int64\n",
      "restaurant             63029 non-null int64\n",
      "restaurant_100         63029 non-null int64\n",
      "school                 63029 non-null int64\n",
      "school_100             63029 non-null int64\n",
      "school_200             63029 non-null int64\n",
      "stop                   63029 non-null int64\n",
      "stop_100               63029 non-null int64\n",
      "taxi                   63029 non-null int64\n",
      "traffic_signals        63029 non-null int64\n",
      "traffic_signals_100    63029 non-null int64\n",
      "turning_circle         63029 non-null int64\n",
      "ATROPELLO_100          63029 non-null int64\n",
      "ATROPELLO_200          63029 non-null int64\n",
      "CAIDA_100              63029 non-null int64\n",
      "CAIDA_200              63029 non-null int64\n",
      "CHOQUE_100             63029 non-null int64\n",
      "CHOQUE_200             63029 non-null int64\n",
      "COLISION_100           63029 non-null int64\n",
      "COLISION_200           63029 non-null int64\n",
      "INCENDIO_100           63029 non-null int64\n",
      "INCENDIO_200           63029 non-null int64\n",
      "OTRO TIPO_100          63029 non-null int64\n",
      "OTRO TIPO_200          63029 non-null int64\n",
      "SEV_Index_100          63029 non-null int64\n",
      "SEV_Index_200          63029 non-null int64\n",
      "VOLCADURA_100          63029 non-null int64\n",
      "VOLCADURA_200          63029 non-null int64\n",
      "SINIESTRO              63029 non-null int64\n",
      "dtypes: float64(2), int64(52)\n",
      "memory usage: 26.0 MB\n"
     ]
    }
   ],
   "source": [
    "test.info()"
   ]
  },
  {
   "cell_type": "code",
   "execution_count": 28,
   "metadata": {
    "ExecuteTime": {
     "end_time": "2019-08-03T13:28:21.551324Z",
     "start_time": "2019-08-03T13:28:21.531087Z"
    }
   },
   "outputs": [
    {
     "data": {
      "text/html": [
       "<div>\n",
       "<style scoped>\n",
       "    .dataframe tbody tr th:only-of-type {\n",
       "        vertical-align: middle;\n",
       "    }\n",
       "\n",
       "    .dataframe tbody tr th {\n",
       "        vertical-align: top;\n",
       "    }\n",
       "\n",
       "    .dataframe thead th {\n",
       "        text-align: right;\n",
       "    }\n",
       "</style>\n",
       "<table border=\"1\" class=\"dataframe\">\n",
       "  <thead>\n",
       "    <tr style=\"text-align: right;\">\n",
       "      <th></th>\n",
       "      <th>id</th>\n",
       "      <th>X</th>\n",
       "      <th>Y</th>\n",
       "      <th>bank</th>\n",
       "      <th>bench</th>\n",
       "      <th>beverages</th>\n",
       "      <th>bus_stop</th>\n",
       "      <th>bus_stop_100</th>\n",
       "      <th>cafe</th>\n",
       "      <th>convenience</th>\n",
       "      <th>...</th>\n",
       "      <th>COLISION_200</th>\n",
       "      <th>INCENDIO_100</th>\n",
       "      <th>INCENDIO_200</th>\n",
       "      <th>OTRO TIPO_100</th>\n",
       "      <th>OTRO TIPO_200</th>\n",
       "      <th>SEV_Index_100</th>\n",
       "      <th>SEV_Index_200</th>\n",
       "      <th>VOLCADURA_100</th>\n",
       "      <th>VOLCADURA_200</th>\n",
       "      <th>SINIESTRO</th>\n",
       "    </tr>\n",
       "  </thead>\n",
       "  <tbody>\n",
       "    <tr>\n",
       "      <th>16864</th>\n",
       "      <td>16864</td>\n",
       "      <td>-70.697467</td>\n",
       "      <td>-33.515878</td>\n",
       "      <td>0</td>\n",
       "      <td>0</td>\n",
       "      <td>0</td>\n",
       "      <td>0</td>\n",
       "      <td>0</td>\n",
       "      <td>0</td>\n",
       "      <td>0</td>\n",
       "      <td>...</td>\n",
       "      <td>0</td>\n",
       "      <td>0</td>\n",
       "      <td>0</td>\n",
       "      <td>0</td>\n",
       "      <td>0</td>\n",
       "      <td>0</td>\n",
       "      <td>0</td>\n",
       "      <td>0</td>\n",
       "      <td>0</td>\n",
       "      <td>0</td>\n",
       "    </tr>\n",
       "    <tr>\n",
       "      <th>47409</th>\n",
       "      <td>47409</td>\n",
       "      <td>-70.578376</td>\n",
       "      <td>-33.624060</td>\n",
       "      <td>0</td>\n",
       "      <td>0</td>\n",
       "      <td>0</td>\n",
       "      <td>0</td>\n",
       "      <td>0</td>\n",
       "      <td>0</td>\n",
       "      <td>0</td>\n",
       "      <td>...</td>\n",
       "      <td>2</td>\n",
       "      <td>0</td>\n",
       "      <td>0</td>\n",
       "      <td>0</td>\n",
       "      <td>0</td>\n",
       "      <td>1</td>\n",
       "      <td>1</td>\n",
       "      <td>0</td>\n",
       "      <td>0</td>\n",
       "      <td>0</td>\n",
       "    </tr>\n",
       "    <tr>\n",
       "      <th>40955</th>\n",
       "      <td>40955</td>\n",
       "      <td>-70.601103</td>\n",
       "      <td>-33.530424</td>\n",
       "      <td>0</td>\n",
       "      <td>0</td>\n",
       "      <td>0</td>\n",
       "      <td>0</td>\n",
       "      <td>0</td>\n",
       "      <td>0</td>\n",
       "      <td>0</td>\n",
       "      <td>...</td>\n",
       "      <td>9</td>\n",
       "      <td>0</td>\n",
       "      <td>0</td>\n",
       "      <td>0</td>\n",
       "      <td>0</td>\n",
       "      <td>0</td>\n",
       "      <td>1</td>\n",
       "      <td>0</td>\n",
       "      <td>0</td>\n",
       "      <td>0</td>\n",
       "    </tr>\n",
       "    <tr>\n",
       "      <th>59373</th>\n",
       "      <td>59373</td>\n",
       "      <td>-70.526558</td>\n",
       "      <td>-33.484969</td>\n",
       "      <td>0</td>\n",
       "      <td>0</td>\n",
       "      <td>0</td>\n",
       "      <td>0</td>\n",
       "      <td>0</td>\n",
       "      <td>0</td>\n",
       "      <td>0</td>\n",
       "      <td>...</td>\n",
       "      <td>0</td>\n",
       "      <td>0</td>\n",
       "      <td>0</td>\n",
       "      <td>0</td>\n",
       "      <td>0</td>\n",
       "      <td>0</td>\n",
       "      <td>0</td>\n",
       "      <td>0</td>\n",
       "      <td>0</td>\n",
       "      <td>0</td>\n",
       "    </tr>\n",
       "    <tr>\n",
       "      <th>44106</th>\n",
       "      <td>44106</td>\n",
       "      <td>-70.589285</td>\n",
       "      <td>-33.554969</td>\n",
       "      <td>0</td>\n",
       "      <td>0</td>\n",
       "      <td>0</td>\n",
       "      <td>0</td>\n",
       "      <td>1</td>\n",
       "      <td>0</td>\n",
       "      <td>0</td>\n",
       "      <td>...</td>\n",
       "      <td>1</td>\n",
       "      <td>0</td>\n",
       "      <td>0</td>\n",
       "      <td>0</td>\n",
       "      <td>0</td>\n",
       "      <td>1</td>\n",
       "      <td>1</td>\n",
       "      <td>0</td>\n",
       "      <td>0</td>\n",
       "      <td>0</td>\n",
       "    </tr>\n",
       "  </tbody>\n",
       "</table>\n",
       "<p>5 rows × 54 columns</p>\n",
       "</div>"
      ],
      "text/plain": [
       "          id          X          Y  bank  bench  beverages  bus_stop  \\\n",
       "16864  16864 -70.697467 -33.515878     0      0          0         0   \n",
       "47409  47409 -70.578376 -33.624060     0      0          0         0   \n",
       "40955  40955 -70.601103 -33.530424     0      0          0         0   \n",
       "59373  59373 -70.526558 -33.484969     0      0          0         0   \n",
       "44106  44106 -70.589285 -33.554969     0      0          0         0   \n",
       "\n",
       "       bus_stop_100  cafe  convenience  ...  COLISION_200  INCENDIO_100  \\\n",
       "16864             0     0            0  ...             0             0   \n",
       "47409             0     0            0  ...             2             0   \n",
       "40955             0     0            0  ...             9             0   \n",
       "59373             0     0            0  ...             0             0   \n",
       "44106             1     0            0  ...             1             0   \n",
       "\n",
       "       INCENDIO_200  OTRO TIPO_100  OTRO TIPO_200  SEV_Index_100  \\\n",
       "16864             0              0              0              0   \n",
       "47409             0              0              0              1   \n",
       "40955             0              0              0              0   \n",
       "59373             0              0              0              0   \n",
       "44106             0              0              0              1   \n",
       "\n",
       "       SEV_Index_200  VOLCADURA_100  VOLCADURA_200  SINIESTRO  \n",
       "16864              0              0              0          0  \n",
       "47409              1              0              0          0  \n",
       "40955              1              0              0          0  \n",
       "59373              0              0              0          0  \n",
       "44106              1              0              0          0  \n",
       "\n",
       "[5 rows x 54 columns]"
      ]
     },
     "execution_count": 28,
     "metadata": {},
     "output_type": "execute_result"
    }
   ],
   "source": [
    "test.sample(5)"
   ]
  },
  {
   "cell_type": "code",
   "execution_count": 29,
   "metadata": {
    "ExecuteTime": {
     "end_time": "2019-08-03T13:28:23.388680Z",
     "start_time": "2019-08-03T13:28:23.382163Z"
    }
   },
   "outputs": [
    {
     "data": {
      "text/plain": [
       "0    56342\n",
       "1     6687\n",
       "Name: SINIESTRO, dtype: int64"
      ]
     },
     "execution_count": 29,
     "metadata": {},
     "output_type": "execute_result"
    }
   ],
   "source": [
    "test.SINIESTRO.value_counts()"
   ]
  },
  {
   "cell_type": "code",
   "execution_count": 30,
   "metadata": {
    "ExecuteTime": {
     "end_time": "2019-08-03T13:28:29.832248Z",
     "start_time": "2019-08-03T13:28:27.039745Z"
    }
   },
   "outputs": [],
   "source": [
    "test.to_csv(\"../data/final_test_dataset_grid_100.csv\")"
   ]
  },
  {
   "cell_type": "markdown",
   "metadata": {},
   "source": [
    "---"
   ]
  }
 ],
 "metadata": {
  "kernelspec": {
   "display_name": "geo_p_3_7",
   "language": "python",
   "name": "geo_p_3_7"
  },
  "language_info": {
   "codemirror_mode": {
    "name": "ipython",
    "version": 3
   },
   "file_extension": ".py",
   "mimetype": "text/x-python",
   "name": "python",
   "nbconvert_exporter": "python",
   "pygments_lexer": "ipython3",
   "version": "3.7.3"
  },
  "nbTranslate": {
   "displayLangs": [
    "*"
   ],
   "hotkey": "alt-t",
   "langInMainMenu": true,
   "sourceLang": "en",
   "targetLang": "fr",
   "useGoogleTranslate": true
  },
  "toc": {
   "base_numbering": 1,
   "nav_menu": {},
   "number_sections": true,
   "sideBar": true,
   "skip_h1_title": true,
   "title_cell": "Table of Contents",
   "title_sidebar": "Contents",
   "toc_cell": false,
   "toc_position": {},
   "toc_section_display": true,
   "toc_window_display": false
  },
  "varInspector": {
   "cols": {
    "lenName": 16,
    "lenType": 16,
    "lenVar": 40
   },
   "kernels_config": {
    "python": {
     "delete_cmd_postfix": "",
     "delete_cmd_prefix": "del ",
     "library": "var_list.py",
     "varRefreshCmd": "print(var_dic_list())"
    },
    "r": {
     "delete_cmd_postfix": ") ",
     "delete_cmd_prefix": "rm(",
     "library": "var_list.r",
     "varRefreshCmd": "cat(var_dic_list()) "
    }
   },
   "types_to_exclude": [
    "module",
    "function",
    "builtin_function_or_method",
    "instance",
    "_Feature"
   ],
   "window_display": false
  }
 },
 "nbformat": 4,
 "nbformat_minor": 2
}
