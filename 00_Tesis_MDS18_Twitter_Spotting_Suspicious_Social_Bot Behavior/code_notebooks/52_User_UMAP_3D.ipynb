{
 "cells": [
  {
   "cell_type": "markdown",
   "metadata": {},
   "source": [
    "# User Oriented Dataset - 3D UMAP\n",
    "- UDD/MDS18/PP4\n",
    "- Final Project: 'Studying Twitter User Accounts: Spotting Suspicious Social Bot Behavior'\n",
    "- Master Candidate: Marcelo Rovai\n",
    "- Professors:\t   \n",
    "    - Eduardo Graells-Garrido (Supervisor)\n",
    "    - Loreto Bravo\n",
    "    - Leo Ferres"
   ]
  },
  {
   "cell_type": "markdown",
   "metadata": {},
   "source": [
    "## Main Libraries & Setup"
   ]
  },
  {
   "cell_type": "code",
   "execution_count": null,
   "metadata": {
    "ExecuteTime": {
     "end_time": "2019-12-13T20:55:35.337241Z",
     "start_time": "2019-12-13T20:55:35.332464Z"
    }
   },
   "outputs": [],
   "source": [
    "import numpy as np\n",
    "import pandas as pd\n",
    "import matplotlib.pyplot as plt\n",
    "from mpl_toolkits.mplot3d import Axes3D\n",
    "import seaborn as sns\n",
    "from sklearn.datasets import load_iris, load_digits\n",
    "from sklearn.model_selection import train_test_split\n",
    "import umap"
   ]
  },
  {
   "cell_type": "code",
   "execution_count": null,
   "metadata": {
    "ExecuteTime": {
     "end_time": "2019-12-13T20:55:35.915155Z",
     "start_time": "2019-12-13T20:55:35.902303Z"
    }
   },
   "outputs": [],
   "source": [
    "from bokeh.plotting import figure, show, output_notebook\n",
    "from bokeh.models import HoverTool, ColumnDataSource, CategoricalColorMapper\n",
    "from bokeh.palettes import Spectral10\n",
    "\n",
    "output_notebook()"
   ]
  },
  {
   "cell_type": "code",
   "execution_count": null,
   "metadata": {
    "ExecuteTime": {
     "end_time": "2019-12-13T20:55:36.687058Z",
     "start_time": "2019-12-13T20:55:36.562621Z"
    }
   },
   "outputs": [],
   "source": [
    "import plotly\n",
    "import plotly.express as px\n",
    "import plotly.graph_objs as go\n",
    "\n",
    "plotly.offline.init_notebook_mode()"
   ]
  },
  {
   "cell_type": "code",
   "execution_count": null,
   "metadata": {
    "ExecuteTime": {
     "end_time": "2019-12-13T20:55:39.230787Z",
     "start_time": "2019-12-13T20:55:39.227514Z"
    }
   },
   "outputs": [],
   "source": [
    "import warnings\n",
    "warnings.filterwarnings('ignore')"
   ]
  },
  {
   "cell_type": "code",
   "execution_count": null,
   "metadata": {
    "ExecuteTime": {
     "end_time": "2019-12-13T20:55:41.436937Z",
     "start_time": "2019-12-13T20:55:41.422774Z"
    }
   },
   "outputs": [],
   "source": [
    "pd.set_option('display.float_format', lambda x: '%.f' % x)\n",
    "sns.set_context(\"paper\",\n",
    "                rc={\n",
    "                    \"font.size\": 12,\n",
    "                    \"axes.titlesize\": 12,\n",
    "                    \"axes.labelsize\": 12,\n",
    "                    'figure.figsize': (14, 10)\n",
    "                })"
   ]
  },
  {
   "cell_type": "markdown",
   "metadata": {},
   "source": [
    "## Main Functions"
   ]
  },
  {
   "cell_type": "code",
   "execution_count": null,
   "metadata": {
    "ExecuteTime": {
     "end_time": "2019-12-13T20:55:42.555251Z",
     "start_time": "2019-12-13T20:55:42.548424Z"
    }
   },
   "outputs": [],
   "source": [
    "def plot_feature(df, feat, kde=True, prt=False, save_file_name=None, x_max = None):\n",
    "    f, axes = plt.subplots(ncols=1, figsize=(10, 4))\n",
    "    sns.despine(left=True)\n",
    "    sns.distplot(df[feat],\n",
    "                 color=\"m\",\n",
    "                 hist=False,\n",
    "                 kde=kde,\n",
    "                 kde_kws={\n",
    "                     'shade': True,\n",
    "                     'linewidth': 3\n",
    "                 })\n",
    "    plt.suptitle(feat + \" distribution\", fontsize=20)\n",
    "    plt.xlabel(feat,fontsize=15)\n",
    "    plt.setp(axes, yticks=[])\n",
    "    plt.xlim(0, x_max)\n",
    "\n",
    "    if prt == True:\n",
    "        plt.savefig(\"../images/\"+save_file_name, bbox_inches='tight')"
   ]
  },
  {
   "cell_type": "code",
   "execution_count": null,
   "metadata": {
    "ExecuteTime": {
     "end_time": "2019-12-13T20:55:43.151548Z",
     "start_time": "2019-12-13T20:55:43.147544Z"
    }
   },
   "outputs": [],
   "source": [
    "def get_df_name(df):\n",
    "    name =[x for x in globals() if globals()[x] is df][0]\n",
    "    return name"
   ]
  },
  {
   "cell_type": "code",
   "execution_count": null,
   "metadata": {
    "ExecuteTime": {
     "end_time": "2019-12-13T20:55:43.889041Z",
     "start_time": "2019-12-13T20:55:43.869149Z"
    }
   },
   "outputs": [],
   "source": [
    "def plot_feat_comp(df1,\n",
    "                   df2,\n",
    "                   feat,\n",
    "                   color1='m',\n",
    "                   color2='g',\n",
    "                   prt=False,\n",
    "                   x_max=None,\n",
    "                  log=False):\n",
    "    feat1 = df1[feat]\n",
    "    feat2 = df2[feat]\n",
    "    label_1 = get_df_name(df1)\n",
    "    label_2 = get_df_name(df2)\n",
    "    fig, axes = plt.subplots(ncols=1, figsize=(10, 5))\n",
    "\n",
    "    #fig = plt.figure(figsize = (10,5))\n",
    "    ax = sns.distplot(feat1,\n",
    "                      color=color1,\n",
    "                      label=label_1,\n",
    "                      hist=False,\n",
    "                      kde=True,\n",
    "                      kde_kws={\n",
    "                          'shade': True,\n",
    "                          'linewidth': 3\n",
    "                      })\n",
    "    plt.xlim(x_max)\n",
    "    if log:\n",
    "        ax.set_xscale('log')\n",
    "    \n",
    "    ax = sns.distplot(feat2,\n",
    "                      color=color2,\n",
    "                      label=label_2,\n",
    "                      hist=False,\n",
    "                      kde=True,\n",
    "                      kde_kws={\n",
    "                          'shade': True,\n",
    "                          'linewidth': 3\n",
    "                      })\n",
    "    plt.xlim(x_max)\n",
    "    if log:\n",
    "        ax.set_xscale('log')\n",
    "    \n",
    "    plt.suptitle(label_1 + \"-\" + label_2 + \"  \" + feat + ' distribution',\n",
    "                 fontsize=16)\n",
    "    sns.despine(left=True)\n",
    "    plt.setp(axes, yticks=[])\n",
    "\n",
    "    if prt == True:\n",
    "        plt.savefig(\"../images/\" + label_1 + \"-\" + label_2 + \"-\" + feat+\".png\",\n",
    "                    bbox_inches='tight')"
   ]
  },
  {
   "cell_type": "code",
   "execution_count": null,
   "metadata": {
    "ExecuteTime": {
     "end_time": "2019-12-13T20:55:44.749022Z",
     "start_time": "2019-12-13T20:55:44.738618Z"
    }
   },
   "outputs": [],
   "source": [
    "def plot_feat_comp_2_graph(df1,\n",
    "                           df2,\n",
    "                           feat,\n",
    "                           color1='m',\n",
    "                           color2='g',\n",
    "                           prt=False,\n",
    "                           log=False):\n",
    "    feat1 = df1[feat]\n",
    "    feat2 = df2[feat]\n",
    "    label_1 = get_df_name(df1)\n",
    "    label_2 = get_df_name(df2)\n",
    "    f, axes = plt.subplots(ncols=2, figsize=(10, 4))\n",
    "    sns.despine(left=True)\n",
    "    ax = sns.distplot(feat1,\n",
    "                      color=color1,\n",
    "                      label=label_1,\n",
    "                      hist=False,\n",
    "                      kde=True,\n",
    "                      kde_kws={\n",
    "                          'shade': True,\n",
    "                          'linewidth': 3\n",
    "                      },\n",
    "                      ax=axes[0])\n",
    "\n",
    "    if log:\n",
    "        ax.set_xscale('log')\n",
    "\n",
    "    ax = sns.distplot(feat2,\n",
    "                      color=color2,\n",
    "                      label=label_2,\n",
    "                      hist=False,\n",
    "                      kde=True,\n",
    "                      kde_kws={\n",
    "                          'shade': True,\n",
    "                          'linewidth': 3\n",
    "                      },\n",
    "                      ax=axes[1])\n",
    "\n",
    "    if log:\n",
    "        ax.set_xscale('log')\n",
    "\n",
    "    plt.suptitle(label_1 + \"-\" + label_2 + \"  \" + feat + \" distribution\",\n",
    "                 fontsize=16)\n",
    "    plt.setp(axes, yticks=[])\n",
    "\n",
    "    if prt == True:\n",
    "        plt.savefig(\"../images/\" + label_1 + \"-\" + label_2 + \"-\" + feat+\".png\",\n",
    "                    bbox_inches='tight')"
   ]
  },
  {
   "cell_type": "markdown",
   "metadata": {},
   "source": [
    "## Import Dataset"
   ]
  },
  {
   "cell_type": "code",
   "execution_count": null,
   "metadata": {
    "ExecuteTime": {
     "end_time": "2019-12-13T20:55:46.087282Z",
     "start_time": "2019-12-13T20:55:45.957259Z"
    }
   },
   "outputs": [],
   "source": [
    "ls ../data/"
   ]
  },
  {
   "cell_type": "code",
   "execution_count": null,
   "metadata": {
    "ExecuteTime": {
     "end_time": "2019-12-13T20:55:47.164802Z",
     "start_time": "2019-12-13T20:55:46.610885Z"
    }
   },
   "outputs": [],
   "source": [
    "df = pd.read_csv(\"../data/60_user_metrics_label.csv\", lineterminator='\\n', low_memory=False)\n",
    "df.shape"
   ]
  },
  {
   "cell_type": "code",
   "execution_count": null,
   "metadata": {
    "ExecuteTime": {
     "end_time": "2019-12-13T20:55:47.342466Z",
     "start_time": "2019-12-13T20:55:47.322019Z"
    }
   },
   "outputs": [],
   "source": [
    "df.head(2)"
   ]
  },
  {
   "cell_type": "code",
   "execution_count": null,
   "metadata": {
    "ExecuteTime": {
     "end_time": "2019-12-13T20:55:48.289794Z",
     "start_time": "2019-12-13T20:55:48.280385Z"
    }
   },
   "outputs": [],
   "source": [
    "del df['Unnamed: 0']"
   ]
  },
  {
   "cell_type": "code",
   "execution_count": null,
   "metadata": {
    "ExecuteTime": {
     "end_time": "2019-12-13T20:55:49.125860Z",
     "start_time": "2019-12-13T20:55:49.057766Z"
    }
   },
   "outputs": [],
   "source": [
    "df.info()"
   ]
  },
  {
   "cell_type": "code",
   "execution_count": null,
   "metadata": {
    "ExecuteTime": {
     "end_time": "2019-12-13T20:55:49.758049Z",
     "start_time": "2019-12-13T20:55:49.749289Z"
    }
   },
   "outputs": [],
   "source": [
    "df[df.acc_verif == 1].label.value_counts()"
   ]
  },
  {
   "cell_type": "markdown",
   "metadata": {},
   "source": [
    "## Prepare data"
   ]
  },
  {
   "cell_type": "markdown",
   "metadata": {},
   "source": [
    "Use all data"
   ]
  },
  {
   "cell_type": "code",
   "execution_count": null,
   "metadata": {
    "ExecuteTime": {
     "end_time": "2019-12-13T20:55:51.900922Z",
     "start_time": "2019-12-13T20:55:51.874169Z"
    }
   },
   "outputs": [],
   "source": [
    "data = df.copy()\n",
    "data.shape"
   ]
  },
  {
   "cell_type": "code",
   "execution_count": null,
   "metadata": {
    "ExecuteTime": {
     "end_time": "2019-12-13T20:55:52.609988Z",
     "start_time": "2019-12-13T20:55:52.582091Z"
    }
   },
   "outputs": [],
   "source": [
    "data.set_index(\"user\", inplace = True)\n",
    "data.head(2)"
   ]
  },
  {
   "cell_type": "code",
   "execution_count": null,
   "metadata": {
    "ExecuteTime": {
     "end_time": "2019-12-13T20:55:54.250891Z",
     "start_time": "2019-12-13T20:55:54.234339Z"
    }
   },
   "outputs": [],
   "source": [
    "data.label.value_counts()"
   ]
  },
  {
   "cell_type": "code",
   "execution_count": null,
   "metadata": {
    "ExecuteTime": {
     "end_time": "2019-12-13T20:55:55.084541Z",
     "start_time": "2019-12-13T20:55:54.933996Z"
    }
   },
   "outputs": [],
   "source": [
    "X_train = data.values[:,0:(data.shape[1]-1)]"
   ]
  },
  {
   "cell_type": "code",
   "execution_count": null,
   "metadata": {
    "ExecuteTime": {
     "end_time": "2019-12-13T20:55:55.601970Z",
     "start_time": "2019-12-13T20:55:55.597311Z"
    }
   },
   "outputs": [],
   "source": [
    "X_train"
   ]
  },
  {
   "cell_type": "code",
   "execution_count": null,
   "metadata": {
    "ExecuteTime": {
     "end_time": "2019-12-13T20:55:56.432950Z",
     "start_time": "2019-12-13T20:55:56.251598Z"
    }
   },
   "outputs": [],
   "source": [
    "#X_train = np.log(X_train + 1)\n",
    "n = X_train.shape[0]\n",
    "print(\"\\nThis data set contains \" + str(n) + \" samples\")\n",
    "y_train = data.values[:,data.shape[1]-1]\n",
    "print(\"\\nDimensions of the  data set: \")\n",
    "print(X_train.shape, y_train.shape)"
   ]
  },
  {
   "cell_type": "markdown",
   "metadata": {},
   "source": [
    "## Apply 3D Model"
   ]
  },
  {
   "cell_type": "markdown",
   "metadata": {},
   "source": [
    "### Default parameters:"
   ]
  },
  {
   "cell_type": "raw",
   "metadata": {},
   "source": [
    "umap.UMAP(\n",
    "    n_neighbors=15,\n",
    "    n_components=2,\n",
    "    metric='euclidean',\n",
    "    n_epochs=None,\n",
    "    learning_rate=1.0,\n",
    "    init='spectral',\n",
    "    min_dist=0.1,\n",
    "    spread=1.0,\n",
    "    set_op_mix_ratio=1.0,\n",
    "    local_connectivity=1.0,\n",
    "    repulsion_strength=1.0,\n",
    "    negative_sample_rate=5,\n",
    "    transform_queue_size=4.0,\n",
    "    a=None,\n",
    "    b=None,\n",
    "    random_state=None,\n",
    "    metric_kwds=None,\n",
    "    angular_rp_forest=False,\n",
    "    target_n_neighbors=-1,\n",
    "    target_metric='categorical',\n",
    "    target_metric_kwds=None,\n",
    "    target_weight=0.5,\n",
    "    transform_seed=42,\n",
    "    verbose=False,\n",
    ")"
   ]
  },
  {
   "cell_type": "code",
   "execution_count": null,
   "metadata": {
    "ExecuteTime": {
     "end_time": "2019-12-13T20:55:59.711481Z",
     "start_time": "2019-12-13T20:55:59.650512Z"
    }
   },
   "outputs": [],
   "source": [
    "reducer = umap.UMAP(n_components=3,)"
   ]
  },
  {
   "cell_type": "code",
   "execution_count": null,
   "metadata": {
    "ExecuteTime": {
     "end_time": "2019-12-13T20:57:46.082892Z",
     "start_time": "2019-12-13T20:56:00.424945Z"
    },
    "scrolled": true
   },
   "outputs": [],
   "source": [
    "embedding = reducer.fit_transform(X_train)\n",
    "embedding.shape"
   ]
  },
  {
   "cell_type": "code",
   "execution_count": null,
   "metadata": {
    "ExecuteTime": {
     "end_time": "2019-12-13T20:57:46.208666Z",
     "start_time": "2019-12-13T20:57:46.203613Z"
    }
   },
   "outputs": [],
   "source": [
    "embedding"
   ]
  },
  {
   "cell_type": "code",
   "execution_count": null,
   "metadata": {
    "ExecuteTime": {
     "end_time": "2019-12-13T20:57:46.318477Z",
     "start_time": "2019-12-13T20:57:46.312978Z"
    }
   },
   "outputs": [],
   "source": [
    "def plt_color(lst):\n",
    "    cols=[]\n",
    "    size=[]\n",
    "    for l in lst:\n",
    "        if l=='low_freq':\n",
    "            cols.append('gray')\n",
    "            size.append(.1)\n",
    "        elif l=='high_freq':\n",
    "            cols.append('red')\n",
    "            size.append(50)\n",
    "        else:\n",
    "            cols.append('blue')\n",
    "            size.append(25)\n",
    "    return cols, size"
   ]
  },
  {
   "cell_type": "code",
   "execution_count": null,
   "metadata": {
    "ExecuteTime": {
     "end_time": "2019-12-13T20:57:50.173132Z",
     "start_time": "2019-12-13T20:57:46.443574Z"
    }
   },
   "outputs": [],
   "source": [
    "cols, size = plt_color(y_train)\n",
    "plt.figure(figsize=(15,15))\n",
    "plt.scatter(embedding[:, 0], embedding[:, 1], c=cols, s=size)\n",
    "plt.gca().set_aspect('equal', 'datalim')\n",
    "plt.title('UMAP projection of the User dataset', fontsize=15);"
   ]
  },
  {
   "cell_type": "code",
   "execution_count": null,
   "metadata": {
    "ExecuteTime": {
     "end_time": "2019-12-12T14:30:56.397222Z",
     "start_time": "2019-12-12T14:30:52.802333Z"
    }
   },
   "outputs": [],
   "source": [
    "cols, size = plt_color(y_train)\n",
    "plt.figure(figsize=(15,15))\n",
    "plt.scatter(embedding[:, 0], embedding[:, 2], c=cols, s=size)\n",
    "plt.gca().set_aspect('equal', 'datalim')\n",
    "plt.title('UMAP projection of the User dataset', fontsize=15);"
   ]
  },
  {
   "cell_type": "code",
   "execution_count": null,
   "metadata": {
    "ExecuteTime": {
     "end_time": "2019-12-12T14:31:00.228514Z",
     "start_time": "2019-12-12T14:30:56.516640Z"
    }
   },
   "outputs": [],
   "source": [
    "cols, size = plt_color(y_train)\n",
    "plt.figure(figsize=(15,15))\n",
    "plt.scatter(embedding[:, 1], embedding[:, 2], c=cols, s=size)\n",
    "plt.gca().set_aspect('equal', 'datalim')\n",
    "plt.title('UMAP projection of the User dataset', fontsize=15);"
   ]
  },
  {
   "cell_type": "code",
   "execution_count": null,
   "metadata": {
    "ExecuteTime": {
     "end_time": "2019-12-12T14:35:57.747833Z",
     "start_time": "2019-12-12T14:35:51.306647Z"
    }
   },
   "outputs": [],
   "source": [
    "fig = plt.figure(figsize=(15,15))\n",
    "ax = Axes3D(fig)\n",
    "ax.scatter(embedding[:, 0], embedding[:, 1], embedding[:, 2], c=cols, s=size)\n",
    "plt.suptitle('UMAP 3D projection of the User dataset', fontsize=15);\n",
    "plt.savefig(\"../images/3D/UMAP_3D_proj_Use_dataset\", bbox_inches='tight')"
   ]
  },
  {
   "cell_type": "markdown",
   "metadata": {},
   "source": [
    "---"
   ]
  },
  {
   "cell_type": "markdown",
   "metadata": {},
   "source": [
    "### UMAP enhanced clustering"
   ]
  },
  {
   "cell_type": "code",
   "execution_count": null,
   "metadata": {
    "ExecuteTime": {
     "end_time": "2019-12-13T20:58:20.164388Z",
     "start_time": "2019-12-13T20:58:20.157954Z"
    }
   },
   "outputs": [],
   "source": [
    "def plot_UMAP_3D(X_train, n_neighbors, min_dist, save=False):\n",
    "\n",
    "    clusterable_embedding = umap.UMAP(\n",
    "        n_neighbors=n_neighbors,\n",
    "        min_dist=min_dist,\n",
    "        n_components=3,\n",
    "        random_state=42,\n",
    "    ).fit_transform(X_train)\n",
    "\n",
    "    cols, size = plt_color(y_train)\n",
    "    fig = plt.figure(figsize=(15, 15))\n",
    "    ax = Axes3D(fig)\n",
    "    ax.scatter(clusterable_embedding[:, 0],\n",
    "               clusterable_embedding[:, 1],\n",
    "               clusterable_embedding[:, 2],\n",
    "               c=cols,\n",
    "               s=size)\n",
    "    plt.suptitle('3D UMAP Projection Mid-High-Freq- n_neighbors=' +\n",
    "                 str(n_neighbors) + ' - min_dist=' + str(min_dist),\n",
    "                 fontsize=15)\n",
    "    if save:\n",
    "        plt.savefig('../images/3D/3D_UMAP-Susp_User_Dataset_Result_n_neighbors=' +\n",
    "                    str(n_neighbors) + '_min_dist=' + str(min_dist)+'.png',\n",
    "                    bbox_inches='tight')\n",
    "    return clusterable_embedding"
   ]
  },
  {
   "cell_type": "code",
   "execution_count": null,
   "metadata": {
    "ExecuteTime": {
     "end_time": "2019-12-12T14:54:01.209791Z",
     "start_time": "2019-12-12T14:52:38.523417Z"
    }
   },
   "outputs": [],
   "source": [
    "n_neighbors=3\n",
    "min_dist=0.1\n",
    "clusterable_embedding = plot_UMAP_3D(X_train, n_neighbors, min_dist, save=True)"
   ]
  },
  {
   "cell_type": "code",
   "execution_count": null,
   "metadata": {
    "ExecuteTime": {
     "end_time": "2019-12-12T14:54:01.385376Z",
     "start_time": "2019-12-12T14:54:01.380107Z"
    }
   },
   "outputs": [],
   "source": [
    "clusterable_embedding"
   ]
  },
  {
   "cell_type": "code",
   "execution_count": null,
   "metadata": {
    "ExecuteTime": {
     "end_time": "2019-12-12T14:55:31.133501Z",
     "start_time": "2019-12-12T14:54:01.514811Z"
    }
   },
   "outputs": [],
   "source": [
    "n_neighbors=3\n",
    "min_dist=0.0\n",
    "clusterable_embedding_3 = plot_UMAP_3D(X_train, n_neighbors, min_dist, save=True)"
   ]
  },
  {
   "cell_type": "code",
   "execution_count": null,
   "metadata": {
    "ExecuteTime": {
     "end_time": "2019-12-12T14:56:52.272302Z",
     "start_time": "2019-12-12T14:55:31.264834Z"
    }
   },
   "outputs": [],
   "source": [
    "n_neighbors=5\n",
    "min_dist=0.0\n",
    "clusterable_embedding_5 = plot_UMAP_3D(X_train, n_neighbors, min_dist, save=True)"
   ]
  },
  {
   "cell_type": "code",
   "execution_count": null,
   "metadata": {
    "ExecuteTime": {
     "end_time": "2019-12-12T14:58:24.219823Z",
     "start_time": "2019-12-12T14:56:52.391063Z"
    }
   },
   "outputs": [],
   "source": [
    "n_neighbors=10\n",
    "min_dist=0.0\n",
    "clusterable_embedding_10 = plot_UMAP_3D(X_train, n_neighbors, min_dist, save=True)"
   ]
  },
  {
   "cell_type": "code",
   "execution_count": null,
   "metadata": {
    "ExecuteTime": {
     "end_time": "2019-12-12T15:00:17.852727Z",
     "start_time": "2019-12-12T14:58:24.370551Z"
    }
   },
   "outputs": [],
   "source": [
    "n_neighbors=15\n",
    "min_dist=0.0\n",
    "clusterable_embedding_15 = plot_UMAP_3D(X_train, n_neighbors, min_dist, save=True)"
   ]
  },
  {
   "cell_type": "code",
   "execution_count": null,
   "metadata": {
    "ExecuteTime": {
     "end_time": "2019-12-13T21:01:06.456268Z",
     "start_time": "2019-12-13T20:58:38.221122Z"
    }
   },
   "outputs": [],
   "source": [
    "n_neighbors=30\n",
    "min_dist=0.0\n",
    "clusterable_embedding_30 = plot_UMAP_3D(X_train, n_neighbors, min_dist, save=True)"
   ]
  },
  {
   "cell_type": "code",
   "execution_count": null,
   "metadata": {
    "ExecuteTime": {
     "end_time": "2019-12-05T14:34:16.380260Z",
     "start_time": "2019-12-05T14:31:07.045999Z"
    }
   },
   "outputs": [],
   "source": [
    "n_neighbors=50\n",
    "min_dist=0.0\n",
    "clusterable_embedding_50 = plot_UMAP_3D(X_train, n_neighbors, min_dist, save=False)"
   ]
  },
  {
   "cell_type": "code",
   "execution_count": null,
   "metadata": {
    "ExecuteTime": {
     "end_time": "2019-12-12T15:06:36.089904Z",
     "start_time": "2019-12-12T15:02:40.287562Z"
    }
   },
   "outputs": [],
   "source": [
    "n_neighbors=100\n",
    "min_dist=0.0\n",
    "clusterable_embedding_100 = plot_UMAP_3D(X_train, n_neighbors, min_dist, save=False)"
   ]
  },
  {
   "cell_type": "markdown",
   "metadata": {},
   "source": [
    "## Manipulation 3D with Plotly"
   ]
  },
  {
   "cell_type": "code",
   "execution_count": null,
   "metadata": {
    "ExecuteTime": {
     "end_time": "2019-12-13T21:22:16.576028Z",
     "start_time": "2019-12-13T21:22:16.549948Z"
    }
   },
   "outputs": [],
   "source": [
    "def Interactive_3D_UMAP(clusterable_embedding):\n",
    "    trace = go.Scatter3d(\n",
    "        x = clusterable_embedding[:, 0],\n",
    "        y = clusterable_embedding[:, 1],\n",
    "        z = clusterable_embedding[:, 2],\n",
    "        mode='markers',\n",
    "        marker={\n",
    "            'size': 5,\n",
    "            'opacity': 0.5,\n",
    "            'color':'red'\n",
    "        }\n",
    "    )\n",
    "\n",
    "    layout = go.Layout(\n",
    "        margin={'l': 0, 'r': 0, 'b': 0, 't': 0}\n",
    "    )\n",
    "    data = [trace]\n",
    "    plot_figure = go.Figure(data=data, layout=layout)\n",
    "\n",
    "    plotly.offline.iplot(plot_figure)"
   ]
  },
  {
   "cell_type": "code",
   "execution_count": null,
   "metadata": {
    "ExecuteTime": {
     "end_time": "2019-12-05T14:39:13.077606Z",
     "start_time": "2019-12-05T14:39:01.202105Z"
    }
   },
   "outputs": [],
   "source": [
    "Interactive_3D_UMAP(clusterable_embedding_5)"
   ]
  },
  {
   "cell_type": "code",
   "execution_count": null,
   "metadata": {
    "ExecuteTime": {
     "end_time": "2019-12-04T18:07:42.101612Z",
     "start_time": "2019-12-04T18:07:41.855324Z"
    }
   },
   "outputs": [],
   "source": [
    "Interactive_3D_UMAP(clusterable_embedding_10)"
   ]
  },
  {
   "cell_type": "code",
   "execution_count": null,
   "metadata": {
    "ExecuteTime": {
     "end_time": "2019-12-04T18:11:14.595562Z",
     "start_time": "2019-12-04T18:11:14.334242Z"
    }
   },
   "outputs": [],
   "source": [
    "Interactive_3D_UMAP(clusterable_embedding_100)"
   ]
  },
  {
   "cell_type": "markdown",
   "metadata": {},
   "source": [
    "## Creating and exploration: Dataframe with 2D and 3D data"
   ]
  },
  {
   "cell_type": "markdown",
   "metadata": {},
   "source": [
    "Working with:\n",
    "- n_neighbors = 30\n",
    "- min_dist = 0.0"
   ]
  },
  {
   "cell_type": "code",
   "execution_count": null,
   "metadata": {
    "ExecuteTime": {
     "end_time": "2019-12-13T21:01:50.949422Z",
     "start_time": "2019-12-13T21:01:50.945100Z"
    }
   },
   "outputs": [],
   "source": [
    "len(clusterable_embedding_30)"
   ]
  },
  {
   "cell_type": "code",
   "execution_count": null,
   "metadata": {
    "ExecuteTime": {
     "end_time": "2019-12-13T21:01:51.984602Z",
     "start_time": "2019-12-13T21:01:51.979586Z"
    }
   },
   "outputs": [],
   "source": [
    "user_df = pd.DataFrame(clusterable_embedding_30, columns=('x', 'y', 'z'))"
   ]
  },
  {
   "cell_type": "code",
   "execution_count": null,
   "metadata": {
    "ExecuteTime": {
     "end_time": "2019-12-13T21:01:52.689278Z",
     "start_time": "2019-12-13T21:01:52.678717Z"
    }
   },
   "outputs": [],
   "source": [
    "user_df.head()"
   ]
  },
  {
   "cell_type": "raw",
   "metadata": {
    "ExecuteTime": {
     "end_time": "2019-12-03T17:41:31.580938Z",
     "start_time": "2019-12-03T17:41:31.564972Z"
    }
   },
   "source": [
    "user_df['user'] = [str(x) for x in df.user]"
   ]
  },
  {
   "cell_type": "code",
   "execution_count": null,
   "metadata": {
    "ExecuteTime": {
     "end_time": "2019-12-13T21:01:59.557114Z",
     "start_time": "2019-12-13T21:01:59.498251Z"
    }
   },
   "outputs": [],
   "source": [
    "user_df = pd.concat([data.reset_index(), user_df], axis=1)"
   ]
  },
  {
   "cell_type": "code",
   "execution_count": null,
   "metadata": {
    "ExecuteTime": {
     "end_time": "2019-12-13T21:02:00.327207Z",
     "start_time": "2019-12-13T21:02:00.306703Z"
    }
   },
   "outputs": [],
   "source": [
    "user_df.head(2)"
   ]
  },
  {
   "cell_type": "markdown",
   "metadata": {},
   "source": [
    "### Exploring 3D"
   ]
  },
  {
   "cell_type": "code",
   "execution_count": null,
   "metadata": {
    "ExecuteTime": {
     "end_time": "2019-12-13T21:01:36.849463Z",
     "start_time": "2019-12-13T21:01:36.830455Z"
    }
   },
   "outputs": [],
   "source": [
    "def explore_Umap_3D(user_df,\n",
    "                    list_users,\n",
    "                    showbackground=True,\n",
    "                    showticklabels=True):\n",
    "    \n",
    "    user_data = user_df.apply(add_color_size, axis=1)\n",
    "    fig = go.Figure(data=[\n",
    "        go.Scatter3d(x=user_data.x,\n",
    "                     y=user_data.y,\n",
    "                     z=user_data.z,\n",
    "                     mode='markers',\n",
    "                     text = 'User: @'+ user_data['user'],\n",
    "                     hoverinfo='text+x+y+z',\n",
    "                     marker=dict(color=user_data.color,\n",
    "                                 sizemode='diameter',\n",
    "                                 sizeref=1,\n",
    "                                 size=.5,\n",
    "                                 opacity=0.9))\n",
    "    ])\n",
    "    fig.update_layout(margin=dict(l=0, r=0, b=0, t=0),\n",
    "                      scene=dict(xaxis=dict(showbackground=showbackground,\n",
    "                                            showticklabels=showticklabels),\n",
    "                                 yaxis=dict(showbackground=showbackground,\n",
    "                                            showticklabels=showticklabels),\n",
    "                                 zaxis=dict(showbackground=showbackground,\n",
    "                                            showticklabels=showticklabels)))\n",
    "    plotly.offline.plot(fig, filename='user_UMAP_3D.html', auto_open=False)\n",
    "    fig.show()"
   ]
  },
  {
   "cell_type": "code",
   "execution_count": null,
   "metadata": {
    "ExecuteTime": {
     "end_time": "2019-12-13T21:02:30.329537Z",
     "start_time": "2019-12-13T21:02:30.322740Z"
    }
   },
   "outputs": [],
   "source": [
    "def add_color_size(row): \n",
    "    if row['user'] in list_users:\n",
    "        color = 'orange'\n",
    "        size = 50\n",
    "    elif row['acc_verif']:\n",
    "        color = 'yellow'\n",
    "        size = 5\n",
    "    else:\n",
    "        freq = row['label']\n",
    "        if freq == 'low_freq':\n",
    "            color = 'gray'\n",
    "            size = .1\n",
    "        elif freq == 'high_freq':\n",
    "            color = 'red'\n",
    "            size = 5\n",
    "        else:\n",
    "            color = 'blue'\n",
    "            size = 3\n",
    "        \n",
    "    row['color'] = color\n",
    "    row['size'] = size\n",
    "\n",
    "    return row"
   ]
  },
  {
   "cell_type": "code",
   "execution_count": null,
   "metadata": {
    "ExecuteTime": {
     "end_time": "2019-12-06T15:49:41.995976Z",
     "start_time": "2019-12-06T15:46:55.704108Z"
    }
   },
   "outputs": [],
   "source": [
    "list_users = []\n",
    "explore_Umap_3D(user_df, list_users)"
   ]
  },
  {
   "cell_type": "markdown",
   "metadata": {},
   "source": [
    "### Exploring 2D"
   ]
  },
  {
   "cell_type": "code",
   "execution_count": null,
   "metadata": {
    "ExecuteTime": {
     "end_time": "2019-12-13T20:51:20.388719Z",
     "start_time": "2019-12-13T20:51:20.382449Z"
    }
   },
   "outputs": [],
   "source": [
    "def explore_Umap_2D(user_df, list_users, x='x', y='y', title = '2D UMAP projection of the User dataset'):\n",
    "    user_df = user_df.apply(add_color_size, axis=1)\n",
    "    datasource = ColumnDataSource(user_df)\n",
    "\n",
    "    p = figure(title='(' + x + ',' + y +') ' + title,\n",
    "               plot_width=800,\n",
    "               plot_height=800,\n",
    "               tools=('crosshair, pan, wheel_zoom, reset, save, box_select'))\n",
    "    p.xaxis.axis_label = x.upper()\n",
    "    p.yaxis.axis_label = y.upper()\n",
    "\n",
    "    p.add_tools(\n",
    "        HoverTool(tooltips=[(\"user\", \"@user\"), (\n",
    "            \"(x,y)\",\n",
    "            \"($x, $y)\"), (\"acc_verif\",\n",
    "                          \"@acc_verif\"), (\"fols_frs_ratio\",\n",
    "                                          \"@fols_frs_ratio\")]))\n",
    "    p.circle(x,\n",
    "             y,\n",
    "             source=datasource,\n",
    "             color='color',\n",
    "             size='size',\n",
    "             fill_alpha=0.6)\n",
    "\n",
    "    show(p)"
   ]
  },
  {
   "cell_type": "code",
   "execution_count": null,
   "metadata": {
    "ExecuteTime": {
     "end_time": "2019-12-05T15:06:33.115760Z",
     "start_time": "2019-12-05T15:04:19.868091Z"
    }
   },
   "outputs": [],
   "source": [
    "list_users = []\n",
    "explore_Umap_2D(user_df, list_users, 'x', 'y')"
   ]
  },
  {
   "cell_type": "markdown",
   "metadata": {},
   "source": [
    "### Verifying Simple Bots"
   ]
  },
  {
   "cell_type": "code",
   "execution_count": null,
   "metadata": {
    "ExecuteTime": {
     "end_time": "2019-12-05T15:10:01.709436Z",
     "start_time": "2019-12-05T15:07:28.570971Z"
    }
   },
   "outputs": [],
   "source": [
    "list_users = ['fedoraletelier', 'Aliciacarafipl3', 'Dolores09072598']\n",
    "explore_Umap_2D(user_df, list_users, 'x', 'y')"
   ]
  },
  {
   "cell_type": "code",
   "execution_count": null,
   "metadata": {
    "ExecuteTime": {
     "end_time": "2019-12-05T15:12:31.421932Z",
     "start_time": "2019-12-05T15:10:02.088376Z"
    }
   },
   "outputs": [],
   "source": [
    "list_users = ['fedoraletelier', 'Aliciacarafipl3', 'Dolores09072598']\n",
    "explore_Umap_2D(user_df, list_users, 'x', 'z')"
   ]
  },
  {
   "cell_type": "code",
   "execution_count": null,
   "metadata": {
    "ExecuteTime": {
     "end_time": "2019-12-05T15:14:53.043621Z",
     "start_time": "2019-12-05T15:12:31.748094Z"
    }
   },
   "outputs": [],
   "source": [
    "list_users = ['fedoraletelier', 'Aliciacarafipl3', 'Dolores09072598']\n",
    "explore_Umap_2D(user_df, list_users, 'y', 'z')"
   ]
  },
  {
   "cell_type": "markdown",
   "metadata": {},
   "source": [
    "### Verifying Top High-Frequency users"
   ]
  },
  {
   "cell_type": "code",
   "execution_count": null,
   "metadata": {
    "ExecuteTime": {
     "end_time": "2019-12-05T15:17:21.447863Z",
     "start_time": "2019-12-05T15:14:53.395085Z"
    }
   },
   "outputs": [],
   "source": [
    "list_users = ['AlbertoMayol','Tomaskovacic', 'NelsonCL28']\n",
    "explore_Umap_2D(user_df, list_users)"
   ]
  },
  {
   "cell_type": "markdown",
   "metadata": {},
   "source": [
    "### Verifying bot suspicius new users "
   ]
  },
  {
   "cell_type": "code",
   "execution_count": null,
   "metadata": {
    "ExecuteTime": {
     "end_time": "2019-12-05T15:29:51.383447Z",
     "start_time": "2019-12-05T15:27:29.999319Z"
    }
   },
   "outputs": [],
   "source": [
    "list_users = [\n",
    "    'EncuestaExpress', 'RResponsablecl', 'cazadorandino90', 'Piagutierrezs',\n",
    "    'NathalySeplved3', 'ElCentinelaMPE', 'AShumman', 'PamelaSoler3',\n",
    "    'Sumate_Guillier', 'jav_ast'\n",
    "]\n",
    "\n",
    "explore_Umap_2D(user_df, list_users)"
   ]
  },
  {
   "cell_type": "code",
   "execution_count": null,
   "metadata": {
    "ExecuteTime": {
     "end_time": "2019-12-05T15:37:08.093863Z",
     "start_time": "2019-12-05T15:34:31.469052Z"
    }
   },
   "outputs": [],
   "source": [
    "explore_Umap_2D(user_df, list_users, 'x', 'z')"
   ]
  },
  {
   "cell_type": "code",
   "execution_count": null,
   "metadata": {
    "ExecuteTime": {
     "end_time": "2019-12-05T15:39:37.431882Z",
     "start_time": "2019-12-05T15:37:08.438843Z"
    },
    "scrolled": false
   },
   "outputs": [],
   "source": [
    "explore_Umap_2D(user_df, list_users, 'y', 'z')"
   ]
  },
  {
   "cell_type": "markdown",
   "metadata": {},
   "source": [
    "### Verifying - Suspitious Users Cluster 0"
   ]
  },
  {
   "cell_type": "code",
   "execution_count": null,
   "metadata": {
    "ExecuteTime": {
     "end_time": "2019-12-13T21:33:56.035787Z",
     "start_time": "2019-12-13T21:33:56.026470Z"
    }
   },
   "outputs": [],
   "source": [
    "list_users = [\n",
    "    'Aptimate', 'EncuestaExpress', 'jaimeantonio67', 'comandoguillie4',\n",
    "    'RResponsablecl', 'mas_estudiantil', 'arqmneira', 'Maria_sepul66',\n",
    "    'cazadorandino90', 'DulceViborita', 'FresiaPavez1', 'Sirius4321',\n",
    "    'viejofasho', 'Ignacio90415476', 'EstudioOsorno', 'NathalySeplved3',\n",
    "    'MSP_LasCondes', 'ElCentinelaMPE', 'caco_sanmartin', 'maasma58',\n",
    "    'Dolores09072598', 'SoleAitkenP', 'JuanManuelCorn5', 'Trab_vXguillier',\n",
    "    'c_alvan_0207', 'Santiag87306226', 'Edelarosacris', 'andres20der',\n",
    "    'mrgrtgautier', 'BassaRiveros', 'Conapro_jjcc', 'SebastianFont20',\n",
    "    'ChristianPolo7', 'almquin', 'chunchitomauro', 'Atletadelgol32',\n",
    "    'laviedej', 'Ange_GossowF', 'Sumate_Guillier', 'solgensen',\n",
    "    'FelipeAlegreJ', 'BarbManriquez', 'jav_ast'\n",
    "]"
   ]
  },
  {
   "cell_type": "code",
   "execution_count": null,
   "metadata": {
    "ExecuteTime": {
     "end_time": "2019-12-13T21:38:04.095202Z",
     "start_time": "2019-12-13T21:35:52.805522Z"
    }
   },
   "outputs": [],
   "source": [
    "explore_Umap_2D(user_df, list_users, 'x', 'y', '3D UMAP Projection - Suspicious Users Cluster 0')"
   ]
  },
  {
   "cell_type": "code",
   "execution_count": null,
   "metadata": {
    "ExecuteTime": {
     "end_time": "2019-12-13T21:42:38.451137Z",
     "start_time": "2019-12-13T21:40:24.237852Z"
    }
   },
   "outputs": [],
   "source": [
    "explore_Umap_2D(user_df, list_users, 'x', 'z', '3D UMAP Projection - Suspicious Users Cluster 0')"
   ]
  },
  {
   "cell_type": "code",
   "execution_count": null,
   "metadata": {
    "ExecuteTime": {
     "end_time": "2019-12-13T21:42:38.451137Z",
     "start_time": "2019-12-13T21:40:24.237852Z"
    }
   },
   "outputs": [],
   "source": [
    "explore_Umap_2D(user_df, list_users, 'y', 'z', '3D UMAP Projection - Suspicious Users Cluster 0')"
   ]
  },
  {
   "cell_type": "code",
   "execution_count": null,
   "metadata": {
    "ExecuteTime": {
     "end_time": "2019-12-13T21:49:24.421613Z",
     "start_time": "2019-12-13T21:49:24.354969Z"
    }
   },
   "outputs": [],
   "source": [
    "list_users = list(set([\n",
    "    'fedoraletelier', 'Aliciacarafipl3', 'Dolores09072598'\n",
    "    'AlbertoMayol','Tomaskovacic', 'NelsonCL28',\n",
    "    'EncuestaExpress', 'RResponsablecl', 'cazadorandino90', 'Piagutierrezs',\n",
    "    'NathalySeplved3', 'ElCentinelaMPE', 'AShumman', 'PamelaSoler3',\n",
    "    'Sumate_Guillier', 'jav_ast'\n",
    "    'Aptimate', 'EncuestaExpress', 'jaimeantonio67', 'comandoguillie4',\n",
    "    'RResponsablecl', 'mas_estudiantil', 'arqmneira', 'Maria_sepul66',\n",
    "    'cazadorandino90', 'DulceViborita', 'FresiaPavez1', 'Sirius4321',\n",
    "    'viejofasho', 'Ignacio90415476', 'EstudioOsorno', 'NathalySeplved3',\n",
    "    'MSP_LasCondes', 'ElCentinelaMPE', 'caco_sanmartin', 'maasma58',\n",
    "    'Dolores09072598', 'SoleAitkenP', 'JuanManuelCorn5', 'Trab_vXguillier',\n",
    "    'c_alvan_0207', 'Santiag87306226', 'Edelarosacris', 'andres20der',\n",
    "    'mrgrtgautier', 'BassaRiveros', 'Conapro_jjcc', 'SebastianFont20',\n",
    "    'ChristianPolo7', 'almquin', 'chunchitomauro', 'Atletadelgol32',\n",
    "    'laviedej', 'Ange_GossowF', 'Sumate_Guillier', 'solgensen',\n",
    "    'FelipeAlegreJ', 'BarbManriquez', 'jav_ast'\n",
    "]))"
   ]
  },
  {
   "cell_type": "code",
   "execution_count": null,
   "metadata": {
    "ExecuteTime": {
     "end_time": "2019-12-13T21:58:18.465396Z",
     "start_time": "2019-12-13T21:55:55.836841Z"
    }
   },
   "outputs": [],
   "source": [
    "explore_Umap_2D(user_df, list_users, 'x', 'y', '3D UMAP Projection - All Suspicious Users')"
   ]
  },
  {
   "cell_type": "code",
   "execution_count": null,
   "metadata": {
    "ExecuteTime": {
     "end_time": "2019-12-13T22:00:41.843165Z",
     "start_time": "2019-12-13T21:58:18.715331Z"
    }
   },
   "outputs": [],
   "source": [
    "explore_Umap_2D(user_df, list_users, 'x', 'z', '3D UMAP Projection - All Suspicious Users')"
   ]
  },
  {
   "cell_type": "code",
   "execution_count": null,
   "metadata": {
    "ExecuteTime": {
     "end_time": "2019-12-13T21:52:31.466580Z",
     "start_time": "2019-12-13T21:50:19.180958Z"
    }
   },
   "outputs": [],
   "source": [
    "explore_Umap_2D(user_df, list_users, 'y', 'z', '3D UMAP Projection - All Suspicious Users')"
   ]
  }
 ],
 "metadata": {
  "kernelspec": {
   "display_name": "python_3_7",
   "language": "python",
   "name": "python_3_7"
  },
  "language_info": {
   "codemirror_mode": {
    "name": "ipython",
    "version": 3
   },
   "file_extension": ".py",
   "mimetype": "text/x-python",
   "name": "python",
   "nbconvert_exporter": "python",
   "pygments_lexer": "ipython3",
   "version": "3.7.3"
  },
  "nbTranslate": {
   "displayLangs": [
    "*"
   ],
   "hotkey": "alt-t",
   "langInMainMenu": true,
   "sourceLang": "en",
   "targetLang": "fr",
   "useGoogleTranslate": true
  },
  "toc": {
   "base_numbering": 1,
   "nav_menu": {},
   "number_sections": true,
   "sideBar": true,
   "skip_h1_title": true,
   "title_cell": "Table of Contents",
   "title_sidebar": "Contents",
   "toc_cell": false,
   "toc_position": {},
   "toc_section_display": true,
   "toc_window_display": true
  },
  "varInspector": {
   "cols": {
    "lenName": 16,
    "lenType": 16,
    "lenVar": 40
   },
   "kernels_config": {
    "python": {
     "delete_cmd_postfix": "",
     "delete_cmd_prefix": "del ",
     "library": "var_list.py",
     "varRefreshCmd": "print(var_dic_list())"
    },
    "r": {
     "delete_cmd_postfix": ") ",
     "delete_cmd_prefix": "rm(",
     "library": "var_list.r",
     "varRefreshCmd": "cat(var_dic_list()) "
    }
   },
   "types_to_exclude": [
    "module",
    "function",
    "builtin_function_or_method",
    "instance",
    "_Feature"
   ],
   "window_display": false
  }
 },
 "nbformat": 4,
 "nbformat_minor": 2
}
