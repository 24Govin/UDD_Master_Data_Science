{
 "cells": [
  {
   "cell_type": "markdown",
   "metadata": {
    "colab_type": "text",
    "id": "acxmVRM0vimw"
   },
   "source": [
    "# Análisis exploratorio de los datos\n",
    "## Trabajo MDS-2oTrim. ==> Inmigracion en Chile\n",
    "\n",
    "**Profesora:** Donoso I.<br>\n",
    "**Alumnos:** Briceno, H.; Rovai, M.; Tessada G."
   ]
  },
  {
   "cell_type": "code",
   "execution_count": 1,
   "metadata": {
    "colab": {},
    "colab_type": "code",
    "id": "ClmIINxGvimx"
   },
   "outputs": [],
   "source": [
    "import pandas as pd\n",
    "import numpy as np\n",
    "import seaborn as sns\n",
    "import matplotlib.pyplot as plt\n",
    "%matplotlib inline  "
   ]
  },
  {
   "cell_type": "markdown",
   "metadata": {
    "colab_type": "text",
    "id": "kGypOlx8vim0"
   },
   "source": [
    "## 1. Importar el dataset"
   ]
  },
  {
   "cell_type": "markdown",
   "metadata": {
    "colab_type": "text",
    "id": "3idgtF7Gvim1"
   },
   "source": [
    "Vamos a usar datos de la base de datos del [Departamento de Extranjeria y Migracion de Chile](http://www.extranjeria.gob.cl/estadisticas-migratorias/). "
   ]
  },
  {
   "cell_type": "markdown",
   "metadata": {
    "colab": {},
    "colab_type": "code",
    "id": "cgxDYMypvim2"
   },
   "source": [
    "El Departamanto de Extranjeria y Migracion de Chile, aclara que si bien las bases se presentan de manera separada por tratarse de distintos tipos de permiso, ellas no constituyen universos distintos de inmigrantes. Un inmigrante en Chile para obtener una permanencia definitiva DEBE haber obtenido con anterioridad una visa, por lo que las bases de permanencias definitivas se conforman de personas que están contabilizadas en las visas. <br>\n",
    "<br>Así, para una mejor lectura de los datos haremos una distinción en términos de migración transitoria y migración permanente. Se considerará que las visas corresponden a migración transitoria, pues los permisos duran entre uno y dos años. Las personas que sean titulares de una visa, para quedarse por un plazo mayor a dos años, deben solicitar un permiso de permanencia definitiva, de otra manera deben abandonar el país.<br>\n",
    "- En este trabajo focaremos en la MIGRACIÓN DEFINITIVA, que están relacionadas a las Permisos de Residencia Definitiva\n",
    "- Y se complementará esa información con la migración reciente, es decir, las visas otorgadas los dos últimos años (2017/2018).\n",
    "<br>\n",
    "<br>\n",
    "---\n",
    "#### Los numeros finales no són una fotografia de los inmigrantes en Chile, pero se podrá analisar tendencias"
   ]
  },
  {
   "cell_type": "code",
   "execution_count": 2,
   "metadata": {
    "scrolled": false
   },
   "outputs": [
    {
     "name": "stdout",
     "output_type": "stream",
     "text": [
      "Inmigracion-EDA.ipynb\r\n",
      "Inmigrantes - Glosario-Estadísticas-Final-Inst.pdf\r\n",
      "RM_PoblacionMigranteChile.pdf\r\n",
      "\u001b[34mdata\u001b[m\u001b[m/\r\n"
     ]
    }
   ],
   "source": [
    "ls"
   ]
  },
  {
   "cell_type": "code",
   "execution_count": 3,
   "metadata": {},
   "outputs": [
    {
     "name": "stdout",
     "output_type": "stream",
     "text": [
      "PDs-2005-2016.xlsx              Visas-2011-2016.xlsx\r\n",
      "PDs-2017.xlsx                   Visas-2017.xlsx\r\n",
      "PDs_2018_1.xlsx                 Visas-2018_1.xlsx\r\n",
      "Visas-2005-2010.xlsx            inmigrantes_metropolitana.xlsx\r\n"
     ]
    }
   ],
   "source": [
    "ls ./data"
   ]
  },
  {
   "cell_type": "code",
   "execution_count": 4,
   "metadata": {
    "colab": {},
    "colab_type": "code",
    "id": "lOaTPEgSvim7"
   },
   "outputs": [
    {
     "data": {
      "text/plain": [
       "(324932, 12)"
      ]
     },
     "execution_count": 4,
     "metadata": {},
     "output_type": "execute_result"
    }
   ],
   "source": [
    "df1 = pd.read_excel('./data/PDs-2005-2016.xlsx')\n",
    "df1.shape"
   ]
  },
  {
   "cell_type": "code",
   "execution_count": 5,
   "metadata": {},
   "outputs": [
    {
     "data": {
      "text/html": [
       "<div>\n",
       "<style scoped>\n",
       "    .dataframe tbody tr th:only-of-type {\n",
       "        vertical-align: middle;\n",
       "    }\n",
       "\n",
       "    .dataframe tbody tr th {\n",
       "        vertical-align: top;\n",
       "    }\n",
       "\n",
       "    .dataframe thead th {\n",
       "        text-align: right;\n",
       "    }\n",
       "</style>\n",
       "<table border=\"1\" class=\"dataframe\">\n",
       "  <thead>\n",
       "    <tr style=\"text-align: right;\">\n",
       "      <th></th>\n",
       "      <th>SEXO</th>\n",
       "      <th>NACIMIENTO</th>\n",
       "      <th>ACTIVIDAD</th>\n",
       "      <th>PROFESION</th>\n",
       "      <th>PAIS</th>\n",
       "      <th>ESTUDIOS</th>\n",
       "      <th>COMUNA</th>\n",
       "      <th>PROVINCIA</th>\n",
       "      <th>REGION</th>\n",
       "      <th>TIT_DEP</th>\n",
       "      <th>AÑO</th>\n",
       "      <th>BENEFICIO</th>\n",
       "    </tr>\n",
       "  </thead>\n",
       "  <tbody>\n",
       "    <tr>\n",
       "      <th>0</th>\n",
       "      <td>Femenino</td>\n",
       "      <td>1974-10-05</td>\n",
       "      <td>EMPLEADO</td>\n",
       "      <td>MATRONA</td>\n",
       "      <td>PERÚ</td>\n",
       "      <td>no indica</td>\n",
       "      <td>SANTIAGO</td>\n",
       "      <td>SANTIAGO</td>\n",
       "      <td>METROPOLITANA</td>\n",
       "      <td>T</td>\n",
       "      <td>2006</td>\n",
       "      <td>PERMANENCIA DEFINITIVA</td>\n",
       "    </tr>\n",
       "    <tr>\n",
       "      <th>1</th>\n",
       "      <td>Masculino</td>\n",
       "      <td>1949-09-13</td>\n",
       "      <td>EMPLEADO</td>\n",
       "      <td>INGENIERO</td>\n",
       "      <td>ECUADOR</td>\n",
       "      <td>no indica</td>\n",
       "      <td>PROVIDENCIA</td>\n",
       "      <td>SANTIAGO</td>\n",
       "      <td>METROPOLITANA</td>\n",
       "      <td>T</td>\n",
       "      <td>2007</td>\n",
       "      <td>PERMANENCIA DEFINITIVA</td>\n",
       "    </tr>\n",
       "  </tbody>\n",
       "</table>\n",
       "</div>"
      ],
      "text/plain": [
       "        SEXO NACIMIENTO ACTIVIDAD  PROFESION     PAIS   ESTUDIOS       COMUNA  \\\n",
       "0   Femenino 1974-10-05  EMPLEADO    MATRONA     PERÚ  no indica     SANTIAGO   \n",
       "1  Masculino 1949-09-13  EMPLEADO  INGENIERO  ECUADOR  no indica  PROVIDENCIA   \n",
       "\n",
       "  PROVINCIA         REGION TIT_DEP   AÑO               BENEFICIO  \n",
       "0  SANTIAGO  METROPOLITANA       T  2006  PERMANENCIA DEFINITIVA  \n",
       "1  SANTIAGO  METROPOLITANA       T  2007  PERMANENCIA DEFINITIVA  "
      ]
     },
     "execution_count": 5,
     "metadata": {},
     "output_type": "execute_result"
    }
   ],
   "source": [
    "df1.head(2)"
   ]
  },
  {
   "cell_type": "code",
   "execution_count": 6,
   "metadata": {
    "colab": {},
    "colab_type": "code",
    "id": "lOaTPEgSvim7"
   },
   "outputs": [
    {
     "data": {
      "text/plain": [
       "(87757, 12)"
      ]
     },
     "execution_count": 6,
     "metadata": {},
     "output_type": "execute_result"
    }
   ],
   "source": [
    "df2 = pd.read_excel('./data/PDs-2017.xlsx')\n",
    "df2.shape"
   ]
  },
  {
   "cell_type": "code",
   "execution_count": 7,
   "metadata": {},
   "outputs": [
    {
     "data": {
      "text/html": [
       "<div>\n",
       "<style scoped>\n",
       "    .dataframe tbody tr th:only-of-type {\n",
       "        vertical-align: middle;\n",
       "    }\n",
       "\n",
       "    .dataframe tbody tr th {\n",
       "        vertical-align: top;\n",
       "    }\n",
       "\n",
       "    .dataframe thead th {\n",
       "        text-align: right;\n",
       "    }\n",
       "</style>\n",
       "<table border=\"1\" class=\"dataframe\">\n",
       "  <thead>\n",
       "    <tr style=\"text-align: right;\">\n",
       "      <th></th>\n",
       "      <th>SEXO</th>\n",
       "      <th>NACIMIENTO</th>\n",
       "      <th>ACTIVIDAD</th>\n",
       "      <th>PROFESION</th>\n",
       "      <th>PAIS</th>\n",
       "      <th>ESTUDIOS</th>\n",
       "      <th>COMUNA</th>\n",
       "      <th>PROVINCIA</th>\n",
       "      <th>REGION</th>\n",
       "      <th>TIT_DEP</th>\n",
       "      <th>AÑO</th>\n",
       "      <th>BENEFICIO</th>\n",
       "    </tr>\n",
       "  </thead>\n",
       "  <tbody>\n",
       "    <tr>\n",
       "      <th>0</th>\n",
       "      <td>femenino</td>\n",
       "      <td>1992-06-23</td>\n",
       "      <td>EMPLEADO</td>\n",
       "      <td>LICENCIADO</td>\n",
       "      <td>ECUADOR</td>\n",
       "      <td>UNIVERSITARIO</td>\n",
       "      <td>HUECHURABA</td>\n",
       "      <td>SANTIAGO</td>\n",
       "      <td>METROPOLITANA</td>\n",
       "      <td>T</td>\n",
       "      <td>2017</td>\n",
       "      <td>PERMANENCIA DEFINITIVA</td>\n",
       "    </tr>\n",
       "    <tr>\n",
       "      <th>1</th>\n",
       "      <td>masculino</td>\n",
       "      <td>1965-01-01</td>\n",
       "      <td>EMPRESARIO O PATRON</td>\n",
       "      <td>EMPRESARIO O PATRON</td>\n",
       "      <td>CHINA REPUBLICA POPULAR</td>\n",
       "      <td>UNIVERSITARIO</td>\n",
       "      <td>SAN FERNANDO</td>\n",
       "      <td>COLCHAGUA</td>\n",
       "      <td>O'HIGGINS</td>\n",
       "      <td>T</td>\n",
       "      <td>2017</td>\n",
       "      <td>PERMANENCIA DEFINITIVA</td>\n",
       "    </tr>\n",
       "  </tbody>\n",
       "</table>\n",
       "</div>"
      ],
      "text/plain": [
       "        SEXO NACIMIENTO            ACTIVIDAD            PROFESION  \\\n",
       "0   femenino 1992-06-23             EMPLEADO           LICENCIADO   \n",
       "1  masculino 1965-01-01  EMPRESARIO O PATRON  EMPRESARIO O PATRON   \n",
       "\n",
       "                      PAIS       ESTUDIOS        COMUNA  PROVINCIA  \\\n",
       "0                  ECUADOR  UNIVERSITARIO    HUECHURABA   SANTIAGO   \n",
       "1  CHINA REPUBLICA POPULAR  UNIVERSITARIO  SAN FERNANDO  COLCHAGUA   \n",
       "\n",
       "          REGION TIT_DEP   AÑO               BENEFICIO  \n",
       "0  METROPOLITANA       T  2017  PERMANENCIA DEFINITIVA  \n",
       "1      O'HIGGINS       T  2017  PERMANENCIA DEFINITIVA  "
      ]
     },
     "execution_count": 7,
     "metadata": {},
     "output_type": "execute_result"
    }
   ],
   "source": [
    "df2.head(2)"
   ]
  },
  {
   "cell_type": "code",
   "execution_count": 8,
   "metadata": {
    "colab": {},
    "colab_type": "code",
    "id": "lOaTPEgSvim7"
   },
   "outputs": [
    {
     "data": {
      "text/plain": [
       "(48208, 12)"
      ]
     },
     "execution_count": 8,
     "metadata": {},
     "output_type": "execute_result"
    }
   ],
   "source": [
    "df3 = pd.read_excel('./data/PDs_2018_1.xlsx')\n",
    "df3.shape"
   ]
  },
  {
   "cell_type": "code",
   "execution_count": 9,
   "metadata": {},
   "outputs": [
    {
     "data": {
      "text/html": [
       "<div>\n",
       "<style scoped>\n",
       "    .dataframe tbody tr th:only-of-type {\n",
       "        vertical-align: middle;\n",
       "    }\n",
       "\n",
       "    .dataframe tbody tr th {\n",
       "        vertical-align: top;\n",
       "    }\n",
       "\n",
       "    .dataframe thead th {\n",
       "        text-align: right;\n",
       "    }\n",
       "</style>\n",
       "<table border=\"1\" class=\"dataframe\">\n",
       "  <thead>\n",
       "    <tr style=\"text-align: right;\">\n",
       "      <th></th>\n",
       "      <th>SEXO</th>\n",
       "      <th>FECH-NAC</th>\n",
       "      <th>ACTIVIDAD</th>\n",
       "      <th>PROFESION</th>\n",
       "      <th>PAIS</th>\n",
       "      <th>ESTUDIOS</th>\n",
       "      <th>COMUNA</th>\n",
       "      <th>PROVINCIA</th>\n",
       "      <th>REGION</th>\n",
       "      <th>TIT_DEP</th>\n",
       "      <th>AÑO</th>\n",
       "      <th>BENEFICIO</th>\n",
       "    </tr>\n",
       "  </thead>\n",
       "  <tbody>\n",
       "    <tr>\n",
       "      <th>0</th>\n",
       "      <td>masculino</td>\n",
       "      <td>1985-08-01</td>\n",
       "      <td>EMPLEADO</td>\n",
       "      <td>MENSAJERO</td>\n",
       "      <td>PERÚ</td>\n",
       "      <td>NO INFORMA</td>\n",
       "      <td>RECOLETA</td>\n",
       "      <td>SANTIAGO</td>\n",
       "      <td>REGION METROPOLITANA DE SANTIAGO</td>\n",
       "      <td>T</td>\n",
       "      <td>2018</td>\n",
       "      <td>OTORGA PERMANENCIA DEFINITIVA</td>\n",
       "    </tr>\n",
       "    <tr>\n",
       "      <th>1</th>\n",
       "      <td>masculino</td>\n",
       "      <td>2001-11-01</td>\n",
       "      <td>ESTUDIANTE</td>\n",
       "      <td>ESTUDIANTE</td>\n",
       "      <td>COLOMBIA</td>\n",
       "      <td>BASICO</td>\n",
       "      <td>INDEPENDENCIA</td>\n",
       "      <td>SANTIAGO</td>\n",
       "      <td>REGION METROPOLITANA DE SANTIAGO</td>\n",
       "      <td>D</td>\n",
       "      <td>2018</td>\n",
       "      <td>OTORGA PERMANENCIA DEFINITIVA</td>\n",
       "    </tr>\n",
       "  </tbody>\n",
       "</table>\n",
       "</div>"
      ],
      "text/plain": [
       "        SEXO   FECH-NAC   ACTIVIDAD   PROFESION      PAIS    ESTUDIOS  \\\n",
       "0  masculino 1985-08-01    EMPLEADO   MENSAJERO      PERÚ  NO INFORMA   \n",
       "1  masculino 2001-11-01  ESTUDIANTE  ESTUDIANTE  COLOMBIA      BASICO   \n",
       "\n",
       "          COMUNA PROVINCIA                            REGION TIT_DEP   AÑO  \\\n",
       "0       RECOLETA  SANTIAGO  REGION METROPOLITANA DE SANTIAGO       T  2018   \n",
       "1  INDEPENDENCIA  SANTIAGO  REGION METROPOLITANA DE SANTIAGO       D  2018   \n",
       "\n",
       "                       BENEFICIO  \n",
       "0  OTORGA PERMANENCIA DEFINITIVA  \n",
       "1  OTORGA PERMANENCIA DEFINITIVA  "
      ]
     },
     "execution_count": 9,
     "metadata": {},
     "output_type": "execute_result"
    }
   ],
   "source": [
    "df3.head(2)"
   ]
  },
  {
   "cell_type": "code",
   "execution_count": 10,
   "metadata": {
    "colab": {},
    "colab_type": "code",
    "id": "lOaTPEgSvim7"
   },
   "outputs": [
    {
     "data": {
      "text/plain": [
       "(267596, 12)"
      ]
     },
     "execution_count": 10,
     "metadata": {},
     "output_type": "execute_result"
    }
   ],
   "source": [
    "df4 = pd.read_excel('./data/Visas-2017.xlsx')\n",
    "df4.shape"
   ]
  },
  {
   "cell_type": "code",
   "execution_count": 11,
   "metadata": {},
   "outputs": [
    {
     "data": {
      "text/html": [
       "<div>\n",
       "<style scoped>\n",
       "    .dataframe tbody tr th:only-of-type {\n",
       "        vertical-align: middle;\n",
       "    }\n",
       "\n",
       "    .dataframe tbody tr th {\n",
       "        vertical-align: top;\n",
       "    }\n",
       "\n",
       "    .dataframe thead th {\n",
       "        text-align: right;\n",
       "    }\n",
       "</style>\n",
       "<table border=\"1\" class=\"dataframe\">\n",
       "  <thead>\n",
       "    <tr style=\"text-align: right;\">\n",
       "      <th></th>\n",
       "      <th>SEXO</th>\n",
       "      <th>FECH-NAC</th>\n",
       "      <th>ACTIVIDAD</th>\n",
       "      <th>PROFESION</th>\n",
       "      <th>PAIS</th>\n",
       "      <th>ESTUDIOS</th>\n",
       "      <th>COMUNA</th>\n",
       "      <th>PROVINCIA</th>\n",
       "      <th>REGION</th>\n",
       "      <th>TIT_DEP</th>\n",
       "      <th>AÑO</th>\n",
       "      <th>BENEFICIO RESUMIDO</th>\n",
       "    </tr>\n",
       "  </thead>\n",
       "  <tbody>\n",
       "    <tr>\n",
       "      <th>0</th>\n",
       "      <td>masculino</td>\n",
       "      <td>1962-01-24</td>\n",
       "      <td>OTRAS ACTIVIDADES</td>\n",
       "      <td>GEOFISICO</td>\n",
       "      <td>ESTADOS UNIDOS</td>\n",
       "      <td>UNIVERSITARIO</td>\n",
       "      <td>SANTIAGO</td>\n",
       "      <td>SANTIAGO</td>\n",
       "      <td>METROPOLITANA</td>\n",
       "      <td>T</td>\n",
       "      <td>2017</td>\n",
       "      <td>TEMPORARIA</td>\n",
       "    </tr>\n",
       "    <tr>\n",
       "      <th>1</th>\n",
       "      <td>masculino</td>\n",
       "      <td>1973-01-04</td>\n",
       "      <td>EMPLEADO</td>\n",
       "      <td>INGENIERO</td>\n",
       "      <td>BOLIVIA</td>\n",
       "      <td>NO INFORMA</td>\n",
       "      <td>LAS CONDES</td>\n",
       "      <td>SANTIAGO</td>\n",
       "      <td>METROPOLITANA</td>\n",
       "      <td>T</td>\n",
       "      <td>2017</td>\n",
       "      <td>TEMPORARIA</td>\n",
       "    </tr>\n",
       "  </tbody>\n",
       "</table>\n",
       "</div>"
      ],
      "text/plain": [
       "        SEXO   FECH-NAC          ACTIVIDAD  PROFESION            PAIS  \\\n",
       "0  masculino 1962-01-24  OTRAS ACTIVIDADES  GEOFISICO  ESTADOS UNIDOS   \n",
       "1  masculino 1973-01-04           EMPLEADO  INGENIERO         BOLIVIA   \n",
       "\n",
       "        ESTUDIOS      COMUNA PROVINCIA         REGION TIT_DEP   AÑO  \\\n",
       "0  UNIVERSITARIO    SANTIAGO  SANTIAGO  METROPOLITANA       T  2017   \n",
       "1     NO INFORMA  LAS CONDES  SANTIAGO  METROPOLITANA       T  2017   \n",
       "\n",
       "  BENEFICIO RESUMIDO  \n",
       "0         TEMPORARIA  \n",
       "1         TEMPORARIA  "
      ]
     },
     "execution_count": 11,
     "metadata": {},
     "output_type": "execute_result"
    }
   ],
   "source": [
    "df4.head(2)"
   ]
  },
  {
   "cell_type": "code",
   "execution_count": 12,
   "metadata": {
    "colab": {},
    "colab_type": "code",
    "id": "lOaTPEgSvim7"
   },
   "outputs": [
    {
     "data": {
      "text/plain": [
       "(188638, 12)"
      ]
     },
     "execution_count": 12,
     "metadata": {},
     "output_type": "execute_result"
    }
   ],
   "source": [
    "df5 = pd.read_excel('./data/Visas-2018_1.xlsx', sheet_name=1)\n",
    "df5.shape"
   ]
  },
  {
   "cell_type": "code",
   "execution_count": 13,
   "metadata": {},
   "outputs": [
    {
     "data": {
      "text/html": [
       "<div>\n",
       "<style scoped>\n",
       "    .dataframe tbody tr th:only-of-type {\n",
       "        vertical-align: middle;\n",
       "    }\n",
       "\n",
       "    .dataframe tbody tr th {\n",
       "        vertical-align: top;\n",
       "    }\n",
       "\n",
       "    .dataframe thead th {\n",
       "        text-align: right;\n",
       "    }\n",
       "</style>\n",
       "<table border=\"1\" class=\"dataframe\">\n",
       "  <thead>\n",
       "    <tr style=\"text-align: right;\">\n",
       "      <th></th>\n",
       "      <th>SEXO</th>\n",
       "      <th>FECH-NAC</th>\n",
       "      <th>ACTIVIDAD</th>\n",
       "      <th>PROFESION</th>\n",
       "      <th>PAIS</th>\n",
       "      <th>ESTUDIOS</th>\n",
       "      <th>COMUNA</th>\n",
       "      <th>PROVINCIA</th>\n",
       "      <th>REGION</th>\n",
       "      <th>TIT_DEP</th>\n",
       "      <th>AÑO</th>\n",
       "      <th>BENEFICIO RESUMIDO</th>\n",
       "    </tr>\n",
       "  </thead>\n",
       "  <tbody>\n",
       "    <tr>\n",
       "      <th>0</th>\n",
       "      <td>masculino</td>\n",
       "      <td>1993-02-10</td>\n",
       "      <td>INACTIVO</td>\n",
       "      <td>EMPLEADO</td>\n",
       "      <td>ARGENTINA</td>\n",
       "      <td>UNIVERSITARIO</td>\n",
       "      <td>PUCON</td>\n",
       "      <td>CAUTÍN</td>\n",
       "      <td>REGION DE LA ARAUCANIA</td>\n",
       "      <td>T</td>\n",
       "      <td>2018</td>\n",
       "      <td>TEMPORARIA</td>\n",
       "    </tr>\n",
       "    <tr>\n",
       "      <th>1</th>\n",
       "      <td>femenino</td>\n",
       "      <td>1976-01-20</td>\n",
       "      <td>DUEÑA DE CASA</td>\n",
       "      <td>DUEÑA DE CASA</td>\n",
       "      <td>ARGENTINA</td>\n",
       "      <td>no indica</td>\n",
       "      <td>VALDIVIA</td>\n",
       "      <td>VALDIVIA</td>\n",
       "      <td>REGION DE LOS RIOS</td>\n",
       "      <td>T</td>\n",
       "      <td>2018</td>\n",
       "      <td>TEMPORARIA</td>\n",
       "    </tr>\n",
       "  </tbody>\n",
       "</table>\n",
       "</div>"
      ],
      "text/plain": [
       "        SEXO   FECH-NAC      ACTIVIDAD      PROFESION       PAIS  \\\n",
       "0  masculino 1993-02-10       INACTIVO       EMPLEADO  ARGENTINA   \n",
       "1   femenino 1976-01-20  DUEÑA DE CASA  DUEÑA DE CASA  ARGENTINA   \n",
       "\n",
       "        ESTUDIOS    COMUNA PROVINCIA                  REGION TIT_DEP   AÑO  \\\n",
       "0  UNIVERSITARIO     PUCON    CAUTÍN  REGION DE LA ARAUCANIA       T  2018   \n",
       "1      no indica  VALDIVIA  VALDIVIA      REGION DE LOS RIOS       T  2018   \n",
       "\n",
       "  BENEFICIO RESUMIDO  \n",
       "0         TEMPORARIA  \n",
       "1         TEMPORARIA  "
      ]
     },
     "execution_count": 13,
     "metadata": {},
     "output_type": "execute_result"
    }
   ],
   "source": [
    "df5.head(2)"
   ]
  },
  {
   "cell_type": "markdown",
   "metadata": {},
   "source": [
    "Se observa que todos los datasets tienen las mismas columnas, excepto por nombres de la columnas \"FECH-NAC\" y 'BENEFICIO RESUMIDO', las cuales tienen que ser cambiadas. "
   ]
  },
  {
   "cell_type": "code",
   "execution_count": 14,
   "metadata": {},
   "outputs": [],
   "source": [
    "df3.rename(columns = {'FECH-NAC': 'NACIMIENTO'}, inplace=True)\n",
    "df4.rename(columns = {'FECH-NAC': 'NACIMIENTO'}, inplace=True)\n",
    "df5.rename(columns = {'FECH-NAC': 'NACIMIENTO'}, inplace=True)\n",
    "df4.rename(columns = {'BENEFICIO RESUMIDO': 'BENEFICIO'}, inplace=True)\n",
    "df5.rename(columns = {'BENEFICIO RESUMIDO': 'BENEFICIO'}, inplace=True)"
   ]
  },
  {
   "cell_type": "markdown",
   "metadata": {},
   "source": [
    "Concatenar los datasets en un unico dataset"
   ]
  },
  {
   "cell_type": "code",
   "execution_count": 15,
   "metadata": {},
   "outputs": [
    {
     "data": {
      "text/plain": [
       "(412689, 12)"
      ]
     },
     "execution_count": 15,
     "metadata": {},
     "output_type": "execute_result"
    }
   ],
   "source": [
    "df = pd.concat([df1, df2])\n",
    "df.shape"
   ]
  },
  {
   "cell_type": "code",
   "execution_count": 16,
   "metadata": {},
   "outputs": [
    {
     "data": {
      "text/plain": [
       "(460897, 12)"
      ]
     },
     "execution_count": 16,
     "metadata": {},
     "output_type": "execute_result"
    }
   ],
   "source": [
    "df = pd.concat([df, df3])\n",
    "df.shape"
   ]
  },
  {
   "cell_type": "code",
   "execution_count": 17,
   "metadata": {},
   "outputs": [
    {
     "data": {
      "text/plain": [
       "(728493, 12)"
      ]
     },
     "execution_count": 17,
     "metadata": {},
     "output_type": "execute_result"
    }
   ],
   "source": [
    "df = pd.concat([df, df4])\n",
    "df.shape"
   ]
  },
  {
   "cell_type": "code",
   "execution_count": 18,
   "metadata": {},
   "outputs": [
    {
     "data": {
      "text/plain": [
       "(917131, 12)"
      ]
     },
     "execution_count": 18,
     "metadata": {},
     "output_type": "execute_result"
    }
   ],
   "source": [
    "df = pd.concat([df, df5])\n",
    "df.shape"
   ]
  },
  {
   "cell_type": "markdown",
   "metadata": {
    "colab_type": "text",
    "id": "RQ1QqrNKvim9"
   },
   "source": [
    "## 2. Limpiar el dataset"
   ]
  },
  {
   "cell_type": "code",
   "execution_count": 19,
   "metadata": {
    "colab": {},
    "colab_type": "code",
    "id": "Bl_QWKyXvim9"
   },
   "outputs": [
    {
     "data": {
      "text/html": [
       "<div>\n",
       "<style scoped>\n",
       "    .dataframe tbody tr th:only-of-type {\n",
       "        vertical-align: middle;\n",
       "    }\n",
       "\n",
       "    .dataframe tbody tr th {\n",
       "        vertical-align: top;\n",
       "    }\n",
       "\n",
       "    .dataframe thead th {\n",
       "        text-align: right;\n",
       "    }\n",
       "</style>\n",
       "<table border=\"1\" class=\"dataframe\">\n",
       "  <thead>\n",
       "    <tr style=\"text-align: right;\">\n",
       "      <th></th>\n",
       "      <th>SEXO</th>\n",
       "      <th>NACIMIENTO</th>\n",
       "      <th>ACTIVIDAD</th>\n",
       "      <th>PROFESION</th>\n",
       "      <th>PAIS</th>\n",
       "      <th>ESTUDIOS</th>\n",
       "      <th>COMUNA</th>\n",
       "      <th>PROVINCIA</th>\n",
       "      <th>REGION</th>\n",
       "      <th>TIT_DEP</th>\n",
       "      <th>AÑO</th>\n",
       "      <th>BENEFICIO</th>\n",
       "    </tr>\n",
       "  </thead>\n",
       "  <tbody>\n",
       "    <tr>\n",
       "      <th>0</th>\n",
       "      <td>Femenino</td>\n",
       "      <td>1974-10-05</td>\n",
       "      <td>EMPLEADO</td>\n",
       "      <td>MATRONA</td>\n",
       "      <td>PERÚ</td>\n",
       "      <td>no indica</td>\n",
       "      <td>SANTIAGO</td>\n",
       "      <td>SANTIAGO</td>\n",
       "      <td>METROPOLITANA</td>\n",
       "      <td>T</td>\n",
       "      <td>2006</td>\n",
       "      <td>PERMANENCIA DEFINITIVA</td>\n",
       "    </tr>\n",
       "    <tr>\n",
       "      <th>1</th>\n",
       "      <td>Masculino</td>\n",
       "      <td>1949-09-13</td>\n",
       "      <td>EMPLEADO</td>\n",
       "      <td>INGENIERO</td>\n",
       "      <td>ECUADOR</td>\n",
       "      <td>no indica</td>\n",
       "      <td>PROVIDENCIA</td>\n",
       "      <td>SANTIAGO</td>\n",
       "      <td>METROPOLITANA</td>\n",
       "      <td>T</td>\n",
       "      <td>2007</td>\n",
       "      <td>PERMANENCIA DEFINITIVA</td>\n",
       "    </tr>\n",
       "    <tr>\n",
       "      <th>2</th>\n",
       "      <td>Femenino</td>\n",
       "      <td>1949-12-07</td>\n",
       "      <td>EMPLEADO</td>\n",
       "      <td>ASESORA DEL HOGAR</td>\n",
       "      <td>BOLIVIA</td>\n",
       "      <td>BASICO</td>\n",
       "      <td>ARICA</td>\n",
       "      <td>ARICA</td>\n",
       "      <td>ARICA Y PARINACOTA</td>\n",
       "      <td>T</td>\n",
       "      <td>2007</td>\n",
       "      <td>PERMANENCIA DEFINITIVA</td>\n",
       "    </tr>\n",
       "    <tr>\n",
       "      <th>3</th>\n",
       "      <td>Femenino</td>\n",
       "      <td>1966-09-20</td>\n",
       "      <td>DUEÑA DE CASA</td>\n",
       "      <td>DUEÑA DE CASA</td>\n",
       "      <td>BOLIVIA</td>\n",
       "      <td>MEDIO</td>\n",
       "      <td>ARICA</td>\n",
       "      <td>ARICA</td>\n",
       "      <td>ARICA Y PARINACOTA</td>\n",
       "      <td>T</td>\n",
       "      <td>2006</td>\n",
       "      <td>PERMANENCIA DEFINITIVA</td>\n",
       "    </tr>\n",
       "    <tr>\n",
       "      <th>4</th>\n",
       "      <td>Masculino</td>\n",
       "      <td>1981-08-15</td>\n",
       "      <td>EMPRESARIO O PATRON</td>\n",
       "      <td>COMERCIANTE</td>\n",
       "      <td>BRASIL</td>\n",
       "      <td>no indica</td>\n",
       "      <td>LAS CONDES</td>\n",
       "      <td>SANTIAGO</td>\n",
       "      <td>METROPOLITANA</td>\n",
       "      <td>T</td>\n",
       "      <td>2008</td>\n",
       "      <td>PERMANENCIA DEFINITIVA</td>\n",
       "    </tr>\n",
       "  </tbody>\n",
       "</table>\n",
       "</div>"
      ],
      "text/plain": [
       "        SEXO NACIMIENTO            ACTIVIDAD          PROFESION     PAIS  \\\n",
       "0   Femenino 1974-10-05             EMPLEADO            MATRONA     PERÚ   \n",
       "1  Masculino 1949-09-13             EMPLEADO          INGENIERO  ECUADOR   \n",
       "2   Femenino 1949-12-07             EMPLEADO  ASESORA DEL HOGAR  BOLIVIA   \n",
       "3   Femenino 1966-09-20        DUEÑA DE CASA      DUEÑA DE CASA  BOLIVIA   \n",
       "4  Masculino 1981-08-15  EMPRESARIO O PATRON        COMERCIANTE   BRASIL   \n",
       "\n",
       "    ESTUDIOS       COMUNA PROVINCIA              REGION TIT_DEP   AÑO  \\\n",
       "0  no indica     SANTIAGO  SANTIAGO       METROPOLITANA       T  2006   \n",
       "1  no indica  PROVIDENCIA  SANTIAGO       METROPOLITANA       T  2007   \n",
       "2     BASICO        ARICA     ARICA  ARICA Y PARINACOTA       T  2007   \n",
       "3      MEDIO        ARICA     ARICA  ARICA Y PARINACOTA       T  2006   \n",
       "4  no indica   LAS CONDES  SANTIAGO       METROPOLITANA       T  2008   \n",
       "\n",
       "                BENEFICIO  \n",
       "0  PERMANENCIA DEFINITIVA  \n",
       "1  PERMANENCIA DEFINITIVA  \n",
       "2  PERMANENCIA DEFINITIVA  \n",
       "3  PERMANENCIA DEFINITIVA  \n",
       "4  PERMANENCIA DEFINITIVA  "
      ]
     },
     "execution_count": 19,
     "metadata": {},
     "output_type": "execute_result"
    }
   ],
   "source": [
    "df.head() "
   ]
  },
  {
   "cell_type": "code",
   "execution_count": 20,
   "metadata": {
    "colab": {},
    "colab_type": "code",
    "id": "yClOyaHTvinA"
   },
   "outputs": [
    {
     "data": {
      "text/html": [
       "<div>\n",
       "<style scoped>\n",
       "    .dataframe tbody tr th:only-of-type {\n",
       "        vertical-align: middle;\n",
       "    }\n",
       "\n",
       "    .dataframe tbody tr th {\n",
       "        vertical-align: top;\n",
       "    }\n",
       "\n",
       "    .dataframe thead th {\n",
       "        text-align: right;\n",
       "    }\n",
       "</style>\n",
       "<table border=\"1\" class=\"dataframe\">\n",
       "  <thead>\n",
       "    <tr style=\"text-align: right;\">\n",
       "      <th></th>\n",
       "      <th>SEXO</th>\n",
       "      <th>NACIMIENTO</th>\n",
       "      <th>ACTIVIDAD</th>\n",
       "      <th>PROFESION</th>\n",
       "      <th>PAIS</th>\n",
       "      <th>ESTUDIOS</th>\n",
       "      <th>COMUNA</th>\n",
       "      <th>PROVINCIA</th>\n",
       "      <th>REGION</th>\n",
       "      <th>TIT_DEP</th>\n",
       "      <th>AÑO</th>\n",
       "      <th>BENEFICIO</th>\n",
       "    </tr>\n",
       "  </thead>\n",
       "  <tbody>\n",
       "    <tr>\n",
       "      <th>188633</th>\n",
       "      <td>masculino</td>\n",
       "      <td>1952-01-20</td>\n",
       "      <td>EMPRESARIO O PATRON</td>\n",
       "      <td>EMPRESARIO O PATRON</td>\n",
       "      <td>ARGENTINA</td>\n",
       "      <td>MEDIO</td>\n",
       "      <td>SAN ESTEBAN</td>\n",
       "      <td>LOS ANDES</td>\n",
       "      <td>REGION DE VALPARAISO</td>\n",
       "      <td>T</td>\n",
       "      <td>2018</td>\n",
       "      <td>TEMPORARIA</td>\n",
       "    </tr>\n",
       "    <tr>\n",
       "      <th>188634</th>\n",
       "      <td>masculino</td>\n",
       "      <td>1974-10-10</td>\n",
       "      <td>EMPLEADO</td>\n",
       "      <td>CHOFER</td>\n",
       "      <td>ARGENTINA</td>\n",
       "      <td>BASICO</td>\n",
       "      <td>LOS ANDES</td>\n",
       "      <td>LOS ANDES</td>\n",
       "      <td>REGION DE VALPARAISO</td>\n",
       "      <td>T</td>\n",
       "      <td>2018</td>\n",
       "      <td>TEMPORARIA</td>\n",
       "    </tr>\n",
       "    <tr>\n",
       "      <th>188635</th>\n",
       "      <td>masculino</td>\n",
       "      <td>1985-05-03</td>\n",
       "      <td>EMPLEADO</td>\n",
       "      <td>EMPLEADO</td>\n",
       "      <td>BRASIL</td>\n",
       "      <td>MEDIO</td>\n",
       "      <td>LOS ANDES</td>\n",
       "      <td>LOS ANDES</td>\n",
       "      <td>REGION DE VALPARAISO</td>\n",
       "      <td>T</td>\n",
       "      <td>2018</td>\n",
       "      <td>TEMPORARIA</td>\n",
       "    </tr>\n",
       "    <tr>\n",
       "      <th>188636</th>\n",
       "      <td>masculino</td>\n",
       "      <td>2006-05-01</td>\n",
       "      <td>ESTUDIANTE</td>\n",
       "      <td>ESTUDIANTE</td>\n",
       "      <td>ARGENTINA</td>\n",
       "      <td>BASICO</td>\n",
       "      <td>CALLE LARGA</td>\n",
       "      <td>LOS ANDES</td>\n",
       "      <td>REGION DE VALPARAISO</td>\n",
       "      <td>D</td>\n",
       "      <td>2018</td>\n",
       "      <td>TEMPORARIA</td>\n",
       "    </tr>\n",
       "    <tr>\n",
       "      <th>188637</th>\n",
       "      <td>masculino</td>\n",
       "      <td>2009-06-17</td>\n",
       "      <td>ESTUDIANTE</td>\n",
       "      <td>ESTUDIANTE</td>\n",
       "      <td>ARGENTINA</td>\n",
       "      <td>BASICO</td>\n",
       "      <td>CALLE LARGA</td>\n",
       "      <td>LOS ANDES</td>\n",
       "      <td>REGION DE VALPARAISO</td>\n",
       "      <td>D</td>\n",
       "      <td>2018</td>\n",
       "      <td>TEMPORARIA</td>\n",
       "    </tr>\n",
       "  </tbody>\n",
       "</table>\n",
       "</div>"
      ],
      "text/plain": [
       "             SEXO NACIMIENTO            ACTIVIDAD            PROFESION  \\\n",
       "188633  masculino 1952-01-20  EMPRESARIO O PATRON  EMPRESARIO O PATRON   \n",
       "188634  masculino 1974-10-10             EMPLEADO               CHOFER   \n",
       "188635  masculino 1985-05-03             EMPLEADO             EMPLEADO   \n",
       "188636  masculino 2006-05-01           ESTUDIANTE           ESTUDIANTE   \n",
       "188637  masculino 2009-06-17           ESTUDIANTE           ESTUDIANTE   \n",
       "\n",
       "             PAIS ESTUDIOS       COMUNA  PROVINCIA                REGION  \\\n",
       "188633  ARGENTINA    MEDIO  SAN ESTEBAN  LOS ANDES  REGION DE VALPARAISO   \n",
       "188634  ARGENTINA   BASICO    LOS ANDES  LOS ANDES  REGION DE VALPARAISO   \n",
       "188635     BRASIL    MEDIO    LOS ANDES  LOS ANDES  REGION DE VALPARAISO   \n",
       "188636  ARGENTINA   BASICO  CALLE LARGA  LOS ANDES  REGION DE VALPARAISO   \n",
       "188637  ARGENTINA   BASICO  CALLE LARGA  LOS ANDES  REGION DE VALPARAISO   \n",
       "\n",
       "       TIT_DEP   AÑO   BENEFICIO  \n",
       "188633       T  2018  TEMPORARIA  \n",
       "188634       T  2018  TEMPORARIA  \n",
       "188635       T  2018  TEMPORARIA  \n",
       "188636       D  2018  TEMPORARIA  \n",
       "188637       D  2018  TEMPORARIA  "
      ]
     },
     "execution_count": 20,
     "metadata": {},
     "output_type": "execute_result"
    }
   ],
   "source": [
    "df.tail()"
   ]
  },
  {
   "cell_type": "code",
   "execution_count": 21,
   "metadata": {
    "scrolled": true
   },
   "outputs": [
    {
     "name": "stdout",
     "output_type": "stream",
     "text": [
      "<class 'pandas.core.frame.DataFrame'>\n",
      "Int64Index: 917131 entries, 0 to 188637\n",
      "Data columns (total 12 columns):\n",
      "SEXO          917131 non-null object\n",
      "NACIMIENTO    917130 non-null datetime64[ns]\n",
      "ACTIVIDAD     917131 non-null object\n",
      "PROFESION     917131 non-null object\n",
      "PAIS          917131 non-null object\n",
      "ESTUDIOS      917131 non-null object\n",
      "COMUNA        917131 non-null object\n",
      "PROVINCIA     917131 non-null object\n",
      "REGION        917131 non-null object\n",
      "TIT_DEP       915476 non-null object\n",
      "AÑO           917131 non-null int64\n",
      "BENEFICIO     917131 non-null object\n",
      "dtypes: datetime64[ns](1), int64(1), object(10)\n",
      "memory usage: 91.0+ MB\n"
     ]
    }
   ],
   "source": [
    "df.info()"
   ]
  },
  {
   "cell_type": "markdown",
   "metadata": {
    "colab_type": "text",
    "id": "-rqseUlYvinG"
   },
   "source": [
    "El dataset tiene 917.131 observaciones y 12 caracterísiticas. \n",
    "- TIT_DEP tiene menos datos que los demas"
   ]
  },
  {
   "cell_type": "code",
   "execution_count": 22,
   "metadata": {},
   "outputs": [
    {
     "data": {
      "text/plain": [
       "T    809661\n",
       "D    105815\n",
       "Name: TIT_DEP, dtype: int64"
      ]
     },
     "execution_count": 22,
     "metadata": {},
     "output_type": "execute_result"
    }
   ],
   "source": [
    "df.TIT_DEP.value_counts()"
   ]
  },
  {
   "cell_type": "code",
   "execution_count": 23,
   "metadata": {},
   "outputs": [
    {
     "data": {
      "text/plain": [
       "count     915476\n",
       "unique         2\n",
       "top            T\n",
       "freq      809661\n",
       "Name: TIT_DEP, dtype: object"
      ]
     },
     "execution_count": 23,
     "metadata": {},
     "output_type": "execute_result"
    }
   ],
   "source": [
    "df.TIT_DEP.describe()"
   ]
  },
  {
   "cell_type": "code",
   "execution_count": 24,
   "metadata": {},
   "outputs": [
    {
     "data": {
      "text/plain": [
       "1655"
      ]
     },
     "execution_count": 24,
     "metadata": {},
     "output_type": "execute_result"
    }
   ],
   "source": [
    "df.TIT_DEP.isnull().sum()"
   ]
  },
  {
   "cell_type": "markdown",
   "metadata": {},
   "source": [
    "Hay 1655 lineas que no especifican si es titular o dependente. Por ahora, consideremos una clase 'x'"
   ]
  },
  {
   "cell_type": "code",
   "execution_count": 25,
   "metadata": {},
   "outputs": [
    {
     "data": {
      "text/html": [
       "<div>\n",
       "<style scoped>\n",
       "    .dataframe tbody tr th:only-of-type {\n",
       "        vertical-align: middle;\n",
       "    }\n",
       "\n",
       "    .dataframe tbody tr th {\n",
       "        vertical-align: top;\n",
       "    }\n",
       "\n",
       "    .dataframe thead th {\n",
       "        text-align: right;\n",
       "    }\n",
       "</style>\n",
       "<table border=\"1\" class=\"dataframe\">\n",
       "  <thead>\n",
       "    <tr style=\"text-align: right;\">\n",
       "      <th></th>\n",
       "      <th>SEXO</th>\n",
       "      <th>NACIMIENTO</th>\n",
       "      <th>ACTIVIDAD</th>\n",
       "      <th>PROFESION</th>\n",
       "      <th>PAIS</th>\n",
       "      <th>ESTUDIOS</th>\n",
       "      <th>COMUNA</th>\n",
       "      <th>PROVINCIA</th>\n",
       "      <th>REGION</th>\n",
       "      <th>TIT_DEP</th>\n",
       "      <th>AÑO</th>\n",
       "      <th>BENEFICIO</th>\n",
       "    </tr>\n",
       "  </thead>\n",
       "  <tbody>\n",
       "    <tr>\n",
       "      <th>49517</th>\n",
       "      <td>Femenino</td>\n",
       "      <td>1971-12-29</td>\n",
       "      <td>DUEÑA DE CASA</td>\n",
       "      <td>ENFERMERO</td>\n",
       "      <td>BOLIVIA</td>\n",
       "      <td>no indica</td>\n",
       "      <td>LA SERENA</td>\n",
       "      <td>ELQUI</td>\n",
       "      <td>COQUIMBO</td>\n",
       "      <td>NaN</td>\n",
       "      <td>2006</td>\n",
       "      <td>PERMANENCIA DEFINITIVA</td>\n",
       "    </tr>\n",
       "    <tr>\n",
       "      <th>32759</th>\n",
       "      <td>Masculino</td>\n",
       "      <td>1966-05-15</td>\n",
       "      <td>TRABAJADOR POR CUENTA PROPIA</td>\n",
       "      <td>LICENCIADO</td>\n",
       "      <td>CUBA</td>\n",
       "      <td>no indica</td>\n",
       "      <td>PUNTA ARENAS</td>\n",
       "      <td>MAGALLANES</td>\n",
       "      <td>MAGALLANES</td>\n",
       "      <td>NaN</td>\n",
       "      <td>2005</td>\n",
       "      <td>PERMANENCIA DEFINITIVA</td>\n",
       "    </tr>\n",
       "    <tr>\n",
       "      <th>15917</th>\n",
       "      <td>femenino</td>\n",
       "      <td>2015-08-13</td>\n",
       "      <td>INACTIVO</td>\n",
       "      <td>MENOR DE EDAD</td>\n",
       "      <td>BOLIVIA</td>\n",
       "      <td>NINGUNO</td>\n",
       "      <td>IQUIQUE</td>\n",
       "      <td>IQUIQUE</td>\n",
       "      <td>REGION DE TARAPACA</td>\n",
       "      <td>NaN</td>\n",
       "      <td>2018</td>\n",
       "      <td>TEMPORARIA</td>\n",
       "    </tr>\n",
       "    <tr>\n",
       "      <th>43180</th>\n",
       "      <td>Masculino</td>\n",
       "      <td>1943-07-05</td>\n",
       "      <td>NO INFORMA</td>\n",
       "      <td>COMERCIANTE</td>\n",
       "      <td>ARGENTINA</td>\n",
       "      <td>no indica</td>\n",
       "      <td>VALPARAISO</td>\n",
       "      <td>VALPARAISO</td>\n",
       "      <td>VALPARAISO</td>\n",
       "      <td>NaN</td>\n",
       "      <td>2005</td>\n",
       "      <td>PERMANENCIA DEFINITIVA</td>\n",
       "    </tr>\n",
       "    <tr>\n",
       "      <th>156824</th>\n",
       "      <td>femenino</td>\n",
       "      <td>2002-06-22</td>\n",
       "      <td>ESTUDIANTE</td>\n",
       "      <td>MENOR DE EDAD</td>\n",
       "      <td>COLOMBIA</td>\n",
       "      <td>MEDIO</td>\n",
       "      <td>COQUIMBO</td>\n",
       "      <td>ELQUI</td>\n",
       "      <td>REGION DE COQUIMBO</td>\n",
       "      <td>NaN</td>\n",
       "      <td>2018</td>\n",
       "      <td>TEMPORARIA</td>\n",
       "    </tr>\n",
       "  </tbody>\n",
       "</table>\n",
       "</div>"
      ],
      "text/plain": [
       "             SEXO NACIMIENTO                     ACTIVIDAD      PROFESION  \\\n",
       "49517    Femenino 1971-12-29                 DUEÑA DE CASA      ENFERMERO   \n",
       "32759   Masculino 1966-05-15  TRABAJADOR POR CUENTA PROPIA     LICENCIADO   \n",
       "15917    femenino 2015-08-13                      INACTIVO  MENOR DE EDAD   \n",
       "43180   Masculino 1943-07-05                    NO INFORMA    COMERCIANTE   \n",
       "156824   femenino 2002-06-22                    ESTUDIANTE  MENOR DE EDAD   \n",
       "\n",
       "             PAIS   ESTUDIOS        COMUNA   PROVINCIA              REGION  \\\n",
       "49517     BOLIVIA  no indica     LA SERENA       ELQUI            COQUIMBO   \n",
       "32759        CUBA  no indica  PUNTA ARENAS  MAGALLANES          MAGALLANES   \n",
       "15917     BOLIVIA    NINGUNO       IQUIQUE     IQUIQUE  REGION DE TARAPACA   \n",
       "43180   ARGENTINA  no indica    VALPARAISO  VALPARAISO          VALPARAISO   \n",
       "156824   COLOMBIA      MEDIO      COQUIMBO       ELQUI  REGION DE COQUIMBO   \n",
       "\n",
       "       TIT_DEP   AÑO               BENEFICIO  \n",
       "49517      NaN  2006  PERMANENCIA DEFINITIVA  \n",
       "32759      NaN  2005  PERMANENCIA DEFINITIVA  \n",
       "15917      NaN  2018              TEMPORARIA  \n",
       "43180      NaN  2005  PERMANENCIA DEFINITIVA  \n",
       "156824     NaN  2018              TEMPORARIA  "
      ]
     },
     "execution_count": 25,
     "metadata": {},
     "output_type": "execute_result"
    }
   ],
   "source": [
    "df[df.TIT_DEP.isnull()].sample(5)"
   ]
  },
  {
   "cell_type": "code",
   "execution_count": 26,
   "metadata": {},
   "outputs": [],
   "source": [
    "df.TIT_DEP.fillna('x', inplace=True)"
   ]
  },
  {
   "cell_type": "code",
   "execution_count": 27,
   "metadata": {},
   "outputs": [
    {
     "data": {
      "text/plain": [
       "917131"
      ]
     },
     "execution_count": 27,
     "metadata": {},
     "output_type": "execute_result"
    }
   ],
   "source": [
    "len(df.TIT_DEP)"
   ]
  },
  {
   "cell_type": "code",
   "execution_count": 28,
   "metadata": {},
   "outputs": [
    {
     "data": {
      "text/plain": [
       "1"
      ]
     },
     "execution_count": 28,
     "metadata": {},
     "output_type": "execute_result"
    }
   ],
   "source": [
    "df.NACIMIENTO.isnull().sum()"
   ]
  },
  {
   "cell_type": "code",
   "execution_count": 29,
   "metadata": {},
   "outputs": [
    {
     "data": {
      "text/html": [
       "<div>\n",
       "<style scoped>\n",
       "    .dataframe tbody tr th:only-of-type {\n",
       "        vertical-align: middle;\n",
       "    }\n",
       "\n",
       "    .dataframe tbody tr th {\n",
       "        vertical-align: top;\n",
       "    }\n",
       "\n",
       "    .dataframe thead th {\n",
       "        text-align: right;\n",
       "    }\n",
       "</style>\n",
       "<table border=\"1\" class=\"dataframe\">\n",
       "  <thead>\n",
       "    <tr style=\"text-align: right;\">\n",
       "      <th></th>\n",
       "      <th>SEXO</th>\n",
       "      <th>NACIMIENTO</th>\n",
       "      <th>ACTIVIDAD</th>\n",
       "      <th>PROFESION</th>\n",
       "      <th>PAIS</th>\n",
       "      <th>ESTUDIOS</th>\n",
       "      <th>COMUNA</th>\n",
       "      <th>PROVINCIA</th>\n",
       "      <th>REGION</th>\n",
       "      <th>TIT_DEP</th>\n",
       "      <th>AÑO</th>\n",
       "      <th>BENEFICIO</th>\n",
       "    </tr>\n",
       "  </thead>\n",
       "  <tbody>\n",
       "    <tr>\n",
       "      <th>155441</th>\n",
       "      <td>Femenino</td>\n",
       "      <td>NaT</td>\n",
       "      <td>EMPLEADO</td>\n",
       "      <td>EMPLEADO</td>\n",
       "      <td>COLOMBIA</td>\n",
       "      <td>NO INFORMA</td>\n",
       "      <td>MACUL</td>\n",
       "      <td>SANTIAGO</td>\n",
       "      <td>METROPOLITANA</td>\n",
       "      <td>T</td>\n",
       "      <td>2010</td>\n",
       "      <td>PERMANENCIA DEFINITIVA</td>\n",
       "    </tr>\n",
       "  </tbody>\n",
       "</table>\n",
       "</div>"
      ],
      "text/plain": [
       "            SEXO NACIMIENTO ACTIVIDAD PROFESION      PAIS    ESTUDIOS COMUNA  \\\n",
       "155441  Femenino        NaT  EMPLEADO  EMPLEADO  COLOMBIA  NO INFORMA  MACUL   \n",
       "\n",
       "       PROVINCIA         REGION TIT_DEP   AÑO               BENEFICIO  \n",
       "155441  SANTIAGO  METROPOLITANA       T  2010  PERMANENCIA DEFINITIVA  "
      ]
     },
     "execution_count": 29,
     "metadata": {},
     "output_type": "execute_result"
    }
   ],
   "source": [
    "df[df.NACIMIENTO.isnull()]"
   ]
  },
  {
   "cell_type": "markdown",
   "metadata": {},
   "source": [
    "Hay 1 Titular del sexo feminino que no posue fecha de nacimiento"
   ]
  },
  {
   "cell_type": "code",
   "execution_count": 30,
   "metadata": {},
   "outputs": [
    {
     "data": {
      "text/plain": [
       "Timestamp('1900-01-02 00:00:00')"
      ]
     },
     "execution_count": 30,
     "metadata": {},
     "output_type": "execute_result"
    }
   ],
   "source": [
    "df[df.TIT_DEP == 'T'].NACIMIENTO.min()"
   ]
  },
  {
   "cell_type": "code",
   "execution_count": 31,
   "metadata": {},
   "outputs": [],
   "source": [
    "df.NACIMIENTO.fillna('1985-01-01', inplace=True)"
   ]
  },
  {
   "cell_type": "code",
   "execution_count": 32,
   "metadata": {},
   "outputs": [],
   "source": [
    "df['NACIMIENTO'] = pd.to_datetime(df['NACIMIENTO'])"
   ]
  },
  {
   "cell_type": "code",
   "execution_count": 33,
   "metadata": {
    "colab": {},
    "colab_type": "code",
    "id": "i7vNyZXJvinH"
   },
   "outputs": [
    {
     "data": {
      "text/plain": [
       "masculino    324068\n",
       "femenino     268131\n",
       "Femenino     173110\n",
       "Masculino    151822\n",
       "Name: SEXO, dtype: int64"
      ]
     },
     "execution_count": 33,
     "metadata": {},
     "output_type": "execute_result"
    }
   ],
   "source": [
    "df.SEXO.value_counts()"
   ]
  },
  {
   "cell_type": "markdown",
   "metadata": {},
   "source": [
    "Se observa que hay informaciones en mayusculas y minusculas. Cambiemos todas las columnas del dataset con strings a minusculas y aprovechamos y veriquemos que no hay caracteres especiales"
   ]
  },
  {
   "cell_type": "code",
   "execution_count": 34,
   "metadata": {},
   "outputs": [],
   "source": [
    "def replaceCaracteres(text):\n",
    "    text = text.replace('á', 'a')\n",
    "    text = text.replace('é', 'e')\n",
    "    text = text.replace('í', 'i')\n",
    "    text = text.replace('ó', 'o')\n",
    "    text = text.replace('ú', 'u')\n",
    "    text = text.replace('ñ', 'n')\n",
    "    text = text.replace('ã', 'a')\n",
    "    return text"
   ]
  },
  {
   "cell_type": "code",
   "execution_count": 35,
   "metadata": {},
   "outputs": [],
   "source": [
    "def limpaTexto(text):\n",
    "    text = text.lower()\n",
    "    text = replaceCaracteres(text)\n",
    "    return text "
   ]
  },
  {
   "cell_type": "code",
   "execution_count": 36,
   "metadata": {},
   "outputs": [],
   "source": [
    "df['SEXO'] = df.SEXO.apply(limpaTexto)"
   ]
  },
  {
   "cell_type": "code",
   "execution_count": 37,
   "metadata": {},
   "outputs": [
    {
     "data": {
      "text/plain": [
       "masculino    475890\n",
       "femenino     441241\n",
       "Name: SEXO, dtype: int64"
      ]
     },
     "execution_count": 37,
     "metadata": {},
     "output_type": "execute_result"
    }
   ],
   "source": [
    "df.SEXO.value_counts()"
   ]
  },
  {
   "cell_type": "code",
   "execution_count": 38,
   "metadata": {},
   "outputs": [],
   "source": [
    "df['ACTIVIDAD'] = df.ACTIVIDAD.apply(limpaTexto)\n",
    "df['PROFESION'] = df.PROFESION.apply(limpaTexto)\n",
    "df['PAIS'] = df.PAIS.apply(limpaTexto)\n",
    "df['ESTUDIOS'] = df.ESTUDIOS.apply(limpaTexto)\n",
    "df['COMUNA'] = df.COMUNA.apply(limpaTexto)\n",
    "df['PROVINCIA'] = df.PROVINCIA.apply(limpaTexto)\n",
    "df['REGION'] = df.REGION.apply(limpaTexto)\n",
    "df['TIT_DEP'] = df.TIT_DEP.apply(limpaTexto)\n",
    "df['BENEFICIO'] = df.BENEFICIO.apply(limpaTexto)"
   ]
  },
  {
   "cell_type": "code",
   "execution_count": 39,
   "metadata": {},
   "outputs": [
    {
     "data": {
      "text/plain": [
       "empleado                        518371\n",
       "estudiante                      114792\n",
       "empleado domestico               73514\n",
       "duena de casa                    52698\n",
       "obrero o jornalero               42566\n",
       "inactivo                         34856\n",
       "no informa                       21721\n",
       "otras actividades                20866\n",
       "trabajador por cuenta propia     15047\n",
       "empresario o patron              10082\n",
       "religioso                         7412\n",
       "jubilado o pensionado             3846\n",
       "rentista                           549\n",
       "tripulante                         539\n",
       "sin actividad                      272\n",
       "Name: ACTIVIDAD, dtype: int64"
      ]
     },
     "execution_count": 39,
     "metadata": {},
     "output_type": "execute_result"
    }
   ],
   "source": [
    "df.ACTIVIDAD.value_counts()"
   ]
  },
  {
   "cell_type": "code",
   "execution_count": 145,
   "metadata": {
    "scrolled": false
   },
   "outputs": [
    {
     "data": {
      "text/plain": [
       "empleado             139421\n",
       "estudiante            95464\n",
       "asesora del hogar     70933\n",
       "menor de edad         47331\n",
       "duena de casa         46299\n",
       "ayudante              27136\n",
       "vendedor              26851\n",
       "ingeniero             25164\n",
       "obrero                23442\n",
       "jornalero             22146\n",
       "aseador               14705\n",
       "no informa            13780\n",
       "tecnico               13252\n",
       "operario              12732\n",
       "auxiliar              12731\n",
       "garzon                12728\n",
       "licenciado            11226\n",
       "comerciante           10486\n",
       "cocinero               9327\n",
       "medico                 8178\n",
       "profesor               7851\n",
       "contador               7284\n",
       "asistente              7252\n",
       "agricultor             6793\n",
       "otras actividades      6715\n",
       "Name: PROFESION, dtype: int64"
      ]
     },
     "execution_count": 145,
     "metadata": {},
     "output_type": "execute_result"
    }
   ],
   "source": [
    "df.PROFESION.value_counts()[0:25]"
   ]
  },
  {
   "cell_type": "code",
   "execution_count": 85,
   "metadata": {},
   "outputs": [
    {
     "data": {
      "text/plain": [
       "metropolitana                                       443285\n",
       "region metropolitana de santiago                    145821\n",
       "antofagasta                                          72556\n",
       "tarapaca                                             38281\n",
       "valparaiso                                           30057\n",
       "region de valparaiso                                 18015\n",
       "region de antofagasta                                14714\n",
       "o'higgins                                            12283\n",
       "coquimbo                                             12269\n",
       "atacama                                              12265\n",
       "biobio                                               12160\n",
       "maule                                                11308\n",
       "region del maule                                     10721\n",
       "arica y parinacota                                   10532\n",
       "region del libertador general bernardo o'higgins      9373\n",
       "region del biobio                                     7947\n",
       "region de tarapaca                                    7014\n",
       "los lagos                                             6625\n",
       "arica                                                 5839\n",
       "la araucania                                          5406\n",
       "region de coquimbo                                    4919\n",
       "region de atacama                                     4168\n",
       "magallanes                                            4152\n",
       "region de los lagos                                   4024\n",
       "region de arica y parinacota                          3655\n",
       "region de la araucania                                3008\n",
       "los rios                                              1891\n",
       "region de magallanes y de la antartica chilena        1645\n",
       "aysen                                                 1376\n",
       "region de los rios                                    1107\n",
       "region aisen del general carlos ibanez del campo       715\n",
       "Name: REGION, dtype: int64"
      ]
     },
     "execution_count": 85,
     "metadata": {},
     "output_type": "execute_result"
    }
   ],
   "source": [
    "df.REGION.value_counts()"
   ]
  },
  {
   "cell_type": "code",
   "execution_count": 86,
   "metadata": {},
   "outputs": [],
   "source": [
    "def limpaRegiones(text):\n",
    "    text = text.split(' ')\n",
    "    if 'aisen' in text: text = 'aysen'\n",
    "    elif 'aysen' in text: text= 'aysen'\n",
    "    elif 'tarapaca' in text: text= 'tarapaca'\n",
    "    elif 'bio-bio' in text: text= 'biobio'\n",
    "    elif 'biobio' in text: text= 'biobio'\n",
    "    elif 'metropolitana' in text: text= 'metropolitana'\n",
    "    elif 'valparaiso' in text: text= 'valparaiso'\n",
    "    elif 'lagos' in text: text= 'los-lagos'\n",
    "    elif \"o'higgins\" in text: text= \"o-higgins\"\n",
    "    elif 'araucania' in text: text= 'araucania'\n",
    "    elif 'maule' in text: text= 'maule'\n",
    "    elif 'coquimbo' in text: text= 'coquimbo'\n",
    "    elif 'magallanes' in text: text= 'magallanes'\n",
    "    elif 'antofagasta' in text: text= 'antofagasta'\n",
    "    elif 'atacama' in text: text= 'atacama'\n",
    "    elif 'rios' in text: text= 'los-rios'\n",
    "    elif 'arica' in text: text= 'arica'\n",
    "    else: text = 'Sin identificacion'\n",
    "    return text "
   ]
  },
  {
   "cell_type": "code",
   "execution_count": 87,
   "metadata": {},
   "outputs": [],
   "source": [
    "df['REGION'] = df.REGION.apply(limpaRegiones)"
   ]
  },
  {
   "cell_type": "code",
   "execution_count": 88,
   "metadata": {},
   "outputs": [
    {
     "data": {
      "text/plain": [
       "metropolitana    589106\n",
       "antofagasta       87270\n",
       "valparaiso        48072\n",
       "tarapaca          45295\n",
       "maule             22029\n",
       "o-higgins         21656\n",
       "biobio            20107\n",
       "arica             20026\n",
       "coquimbo          17188\n",
       "atacama           16433\n",
       "los-lagos         10649\n",
       "araucania          8414\n",
       "magallanes         5797\n",
       "los-rios           2998\n",
       "aysen              2091\n",
       "Name: REGION, dtype: int64"
      ]
     },
     "execution_count": 88,
     "metadata": {},
     "output_type": "execute_result"
    }
   ],
   "source": [
    "df.REGION.value_counts()"
   ]
  },
  {
   "cell_type": "code",
   "execution_count": 146,
   "metadata": {
    "scrolled": false
   },
   "outputs": [
    {
     "data": {
      "text/plain": [
       "peru                       213936\n",
       "venezuela                  166718\n",
       "haiti                      129914\n",
       "colombia                   127008\n",
       "bolivia                     98400\n",
       "argentina                   32456\n",
       "ecuador                     29571\n",
       "china republica popular     14825\n",
       "espana                      13861\n",
       "brasil                      12193\n",
       "cuba                        10592\n",
       "republica dominicana         9126\n",
       "estados unidos               8149\n",
       "mexico                       5174\n",
       "uruguay                      5050\n",
       "paraguay                     4880\n",
       "francia                      4472\n",
       "alemania                     2995\n",
       "italia                       2648\n",
       "republica de corea           1866\n",
       "india                        1607\n",
       "japon                        1372\n",
       "canada                       1208\n",
       "federacion de rusia          1048\n",
       "gran bretana                 1023\n",
       "Name: PAIS, dtype: int64"
      ]
     },
     "execution_count": 146,
     "metadata": {},
     "output_type": "execute_result"
    }
   ],
   "source": [
    "df.PAIS.value_counts()[0:25]"
   ]
  },
  {
   "cell_type": "code",
   "execution_count": 42,
   "metadata": {},
   "outputs": [
    {
     "data": {
      "text/plain": [
       "medio            285606\n",
       "no indica        230654\n",
       "universitario    118509\n",
       "no informa       112428\n",
       "basico            94959\n",
       "tecnico           50666\n",
       "ninguno           14570\n",
       "prebasico          9739\n",
       "Name: ESTUDIOS, dtype: int64"
      ]
     },
     "execution_count": 42,
     "metadata": {},
     "output_type": "execute_result"
    }
   ],
   "source": [
    "df.ESTUDIOS.value_counts()"
   ]
  },
  {
   "cell_type": "code",
   "execution_count": 43,
   "metadata": {},
   "outputs": [],
   "source": [
    "df.ESTUDIOS.replace('no indica', 'no informa', inplace=True)"
   ]
  },
  {
   "cell_type": "code",
   "execution_count": 44,
   "metadata": {},
   "outputs": [
    {
     "data": {
      "text/plain": [
       "no informa       343082\n",
       "medio            285606\n",
       "universitario    118509\n",
       "basico            94959\n",
       "tecnico           50666\n",
       "ninguno           14570\n",
       "prebasico          9739\n",
       "Name: ESTUDIOS, dtype: int64"
      ]
     },
     "execution_count": 44,
     "metadata": {},
     "output_type": "execute_result"
    }
   ],
   "source": [
    "df.ESTUDIOS.value_counts()"
   ]
  },
  {
   "cell_type": "code",
   "execution_count": 45,
   "metadata": {},
   "outputs": [
    {
     "data": {
      "text/plain": [
       "temporaria                               449916\n",
       "permanencia definitiva                   411970\n",
       "otorga permanencia definitiva             48204\n",
       "sujeta a contrato                          3999\n",
       "estudiante                                 2319\n",
       "permanencia definitiva por gracia           719\n",
       "dse rechazo pede c/visa y otorga pede         4\n",
       "Name: BENEFICIO, dtype: int64"
      ]
     },
     "execution_count": 45,
     "metadata": {},
     "output_type": "execute_result"
    }
   ],
   "source": [
    "df.BENEFICIO.value_counts()"
   ]
  },
  {
   "cell_type": "code",
   "execution_count": 46,
   "metadata": {},
   "outputs": [],
   "source": [
    "df.BENEFICIO.replace('otorga permanencia definitiva', 'permanencia definitiva', inplace=True)\n",
    "df.BENEFICIO.replace('permanencia definitiva por gracia', 'permanencia definitiva', inplace=True)\n",
    "df.BENEFICIO.replace('dse rechazo pede c/visa y otorga pede', 'temporaria', inplace=True)\n",
    "df.BENEFICIO.replace('sujeta a contrato', 'temporaria', inplace=True)\n",
    "df.BENEFICIO.replace('estudiante', 'temporaria', inplace=True)\n",
    "df.BENEFICIO.replace('permanencia definitiva', 'definitiva', inplace=True)"
   ]
  },
  {
   "cell_type": "code",
   "execution_count": 47,
   "metadata": {},
   "outputs": [
    {
     "data": {
      "text/plain": [
       "definitiva    460893\n",
       "temporaria    456238\n",
       "Name: BENEFICIO, dtype: int64"
      ]
     },
     "execution_count": 47,
     "metadata": {},
     "output_type": "execute_result"
    }
   ],
   "source": [
    "df.BENEFICIO.value_counts()"
   ]
  },
  {
   "cell_type": "markdown",
   "metadata": {},
   "source": [
    "## 3. Analisar data"
   ]
  },
  {
   "cell_type": "code",
   "execution_count": 48,
   "metadata": {},
   "outputs": [
    {
     "name": "stdout",
     "output_type": "stream",
     "text": [
      "<class 'pandas.core.frame.DataFrame'>\n",
      "Int64Index: 917131 entries, 0 to 188637\n",
      "Data columns (total 12 columns):\n",
      "SEXO          917131 non-null object\n",
      "NACIMIENTO    917131 non-null datetime64[ns]\n",
      "ACTIVIDAD     917131 non-null object\n",
      "PROFESION     917131 non-null object\n",
      "PAIS          917131 non-null object\n",
      "ESTUDIOS      917131 non-null object\n",
      "COMUNA        917131 non-null object\n",
      "PROVINCIA     917131 non-null object\n",
      "REGION        917131 non-null object\n",
      "TIT_DEP       917131 non-null object\n",
      "AÑO           917131 non-null int64\n",
      "BENEFICIO     917131 non-null object\n",
      "dtypes: datetime64[ns](1), int64(1), object(10)\n",
      "memory usage: 91.0+ MB\n"
     ]
    }
   ],
   "source": [
    "df.info()"
   ]
  },
  {
   "cell_type": "code",
   "execution_count": 49,
   "metadata": {},
   "outputs": [
    {
     "data": {
      "image/png": "[encoded data removed]",
      "text/plain": [
       "<matplotlib.figure.Figure at 0x1032ae198>"
      ]
     },
     "metadata": {
      "needs_background": "light"
     },
     "output_type": "display_data"
    }
   ],
   "source": [
    "sns.countplot(y=df['SEXO'])\n",
    "sns.despine()"
   ]
  },
  {
   "cell_type": "code",
   "execution_count": 52,
   "metadata": {},
   "outputs": [
    {
     "data": {
      "image/png": "[encoded data removed]",
      "text/plain": [
       "<matplotlib.figure.Figure at 0x1a3f3f8390>"
      ]
     },
     "metadata": {
      "needs_background": "light"
     },
     "output_type": "display_data"
    }
   ],
   "source": [
    "sns.countplot(y=df['ACTIVIDAD'])\n",
    "sns.despine()"
   ]
  },
  {
   "cell_type": "code",
   "execution_count": 53,
   "metadata": {},
   "outputs": [
    {
     "data": {
      "text/plain": [
       "empleado             139421\n",
       "estudiante            95464\n",
       "asesora del hogar     70933\n",
       "menor de edad         47331\n",
       "duena de casa         46299\n",
       "ayudante              27136\n",
       "vendedor              26851\n",
       "ingeniero             25164\n",
       "obrero                23442\n",
       "jornalero             22146\n",
       "Name: PROFESION, dtype: int64"
      ]
     },
     "execution_count": 53,
     "metadata": {},
     "output_type": "execute_result"
    }
   ],
   "source": [
    "top_profesion = df.PROFESION.value_counts()[0:10]\n",
    "top_profesion"
   ]
  },
  {
   "cell_type": "code",
   "execution_count": 54,
   "metadata": {},
   "outputs": [
    {
     "data": {
      "image/png": "[encoded data removed]",
      "text/plain": [
       "<matplotlib.figure.Figure at 0x1a3fe74c50>"
      ]
     },
     "metadata": {
      "needs_background": "light"
     },
     "output_type": "display_data"
    }
   ],
   "source": [
    "sns.countplot(y=df['ESTUDIOS'], color='grey')\n",
    "sns.despine()"
   ]
  },
  {
   "cell_type": "code",
   "execution_count": 55,
   "metadata": {},
   "outputs": [
    {
     "data": {
      "image/png": "[encoded data removed]",
      "text/plain": [
       "<matplotlib.figure.Figure at 0x1a26b294a8>"
      ]
     },
     "metadata": {
      "needs_background": "light"
     },
     "output_type": "display_data"
    }
   ],
   "source": [
    "sns.countplot(y=df['AÑO'])\n",
    "sns.despine()"
   ]
  },
  {
   "cell_type": "code",
   "execution_count": 50,
   "metadata": {},
   "outputs": [
    {
     "data": {
      "text/plain": [
       "peru                       213936\n",
       "venezuela                  166718\n",
       "haiti                      129914\n",
       "colombia                   127008\n",
       "bolivia                     98400\n",
       "argentina                   32456\n",
       "ecuador                     29571\n",
       "china republica popular     14825\n",
       "espana                      13861\n",
       "brasil                      12193\n",
       "Name: PAIS, dtype: int64"
      ]
     },
     "execution_count": 50,
     "metadata": {},
     "output_type": "execute_result"
    }
   ],
   "source": [
    "top_paises = df.PAIS.value_counts()[0:10]\n",
    "top_paises"
   ]
  },
  {
   "cell_type": "code",
   "execution_count": 58,
   "metadata": {},
   "outputs": [
    {
     "name": "stdout",
     "output_type": "stream",
     "text": [
      "Total de Inmigrantes 917131\n",
      "Total de Inmigrantes dos Top10:838882, que es 91.0% del total\n"
     ]
    }
   ],
   "source": [
    "TOP_PAISES_POP = top_paises.sum()\n",
    "TOT_INM = len(df.SEXO)\n",
    "print(\"Total de Inmigrantes\", TOT_INM)\n",
    "print(\"Total de Inmigrantes dos Top10:{}, que es {}% del total\".format(TOP_PAISES_POP, round((TOP_PAISES_POP/TOT_INM)*100, 0)))"
   ]
  },
  {
   "cell_type": "code",
   "execution_count": 96,
   "metadata": {},
   "outputs": [
    {
     "data": {
      "text/plain": [
       "metropolitana    589106\n",
       "antofagasta       87270\n",
       "valparaiso        48072\n",
       "Name: REGION, dtype: int64"
      ]
     },
     "execution_count": 96,
     "metadata": {},
     "output_type": "execute_result"
    }
   ],
   "source": [
    "top_regiones = df.REGION.value_counts()[0:3]\n",
    "top_regiones"
   ]
  },
  {
   "cell_type": "code",
   "execution_count": 97,
   "metadata": {},
   "outputs": [
    {
     "name": "stdout",
     "output_type": "stream",
     "text": [
      "Total de Inmigrantes dos Top3 regiones: 724448, que es 79.0% del total\n"
     ]
    }
   ],
   "source": [
    "TOP_REG_POP = top_regiones.sum()\n",
    "print(\"Total de Inmigrantes dos Top3 regiones: {}, que es {}% del total\".format(TOP_REG_POP, round((TOP_REG_POP/TOT_INM)*100, 0)))"
   ]
  },
  {
   "cell_type": "markdown",
   "metadata": {
    "colab_type": "text",
    "id": "amgUi8DOvinJ"
   },
   "source": [
    "**Key Insight**\n",
    "\n",
    "- 91% de los estranjeros són de 10 paises, y \n",
    "- Case 80% del total está concentrado en 3 regiones, con mas de la mitad en la Metrolpolitana "
   ]
  },
  {
   "cell_type": "markdown",
   "metadata": {
    "colab_type": "text",
    "id": "vnx-vqm5vinL"
   },
   "source": [
    "## 3. Reconocer dificultades del dataset"
   ]
  },
  {
   "cell_type": "markdown",
   "metadata": {
    "colab_type": "text",
    "id": "qVP3RFm6vinU"
   },
   "source": [
    "### Detectar outliers\n",
    "La fecha de nascimiento muy posiblemente puede tener outliers"
   ]
  },
  {
   "cell_type": "code",
   "execution_count": 101,
   "metadata": {},
   "outputs": [
    {
     "data": {
      "text/plain": [
       "count    917131.000000\n",
       "mean       1984.915044\n",
       "std          13.474518\n",
       "min        1900.000000\n",
       "25%        1977.000000\n",
       "50%        1986.000000\n",
       "75%        1993.000000\n",
       "max        2018.000000\n",
       "Name: NACIMIENTO, dtype: float64"
      ]
     },
     "execution_count": 101,
     "metadata": {},
     "output_type": "execute_result"
    }
   ],
   "source": [
    "df.NACIMIENTO.dt.year.describe()"
   ]
  },
  {
   "cell_type": "code",
   "execution_count": 104,
   "metadata": {},
   "outputs": [
    {
     "data": {
      "text/plain": [
       "<matplotlib.axes._subplots.AxesSubplot at 0x1a37e12f28>"
      ]
     },
     "execution_count": 104,
     "metadata": {},
     "output_type": "execute_result"
    },
    {
     "data": {
      "image/png": "[encoded data removed]",
      "text/plain": [
       "<matplotlib.figure.Figure at 0x1a37e12e48>"
      ]
     },
     "metadata": {
      "needs_background": "light"
     },
     "output_type": "display_data"
    }
   ],
   "source": [
    "sns.kdeplot(df.NACIMIENTO.dt.year, shade=True)"
   ]
  },
  {
   "cell_type": "code",
   "execution_count": 113,
   "metadata": {},
   "outputs": [
    {
     "data": {
      "text/plain": [
       "<matplotlib.axes._subplots.AxesSubplot at 0x1a26b06f60>"
      ]
     },
     "execution_count": 113,
     "metadata": {},
     "output_type": "execute_result"
    },
    {
     "data": {
      "image/png": "[encoded data removed]",
      "text/plain": [
       "<matplotlib.figure.Figure at 0x1a26ae6be0>"
      ]
     },
     "metadata": {
      "needs_background": "light"
     },
     "output_type": "display_data"
    }
   ],
   "source": [
    "sns.boxplot(df.NACIMIENTO.dt.year)"
   ]
  },
  {
   "cell_type": "code",
   "execution_count": 121,
   "metadata": {},
   "outputs": [
    {
     "data": {
      "text/plain": [
       "<matplotlib.axes._subplots.AxesSubplot at 0x1a1b1af4e0>"
      ]
     },
     "execution_count": 121,
     "metadata": {},
     "output_type": "execute_result"
    },
    {
     "data": {
      "image/png": "[encoded data removed]",
      "text/plain": [
       "<matplotlib.figure.Figure at 0x1a41487860>"
      ]
     },
     "metadata": {
      "needs_background": "light"
     },
     "output_type": "display_data"
    }
   ],
   "source": [
    "edad_titular = 2018 - (df[df.TIT_DEP =='t'].NACIMIENTO.dt.year)\n",
    "sns.boxplot(edad_titular)"
   ]
  },
  {
   "cell_type": "code",
   "execution_count": 122,
   "metadata": {},
   "outputs": [
    {
     "data": {
      "text/plain": [
       "count    809661.000000\n",
       "mean         35.136342\n",
       "std          11.941482\n",
       "min           0.000000\n",
       "25%          27.000000\n",
       "50%          33.000000\n",
       "75%          42.000000\n",
       "max         118.000000\n",
       "Name: NACIMIENTO, dtype: float64"
      ]
     },
     "execution_count": 122,
     "metadata": {},
     "output_type": "execute_result"
    }
   ],
   "source": [
    "edad_titular.describe()"
   ]
  },
  {
   "cell_type": "code",
   "execution_count": 124,
   "metadata": {},
   "outputs": [
    {
     "data": {
      "text/plain": [
       "54"
      ]
     },
     "execution_count": 124,
     "metadata": {},
     "output_type": "execute_result"
    }
   ],
   "source": [
    "(edad_titular > 100).sum()"
   ]
  },
  {
   "cell_type": "code",
   "execution_count": 127,
   "metadata": {},
   "outputs": [
    {
     "data": {
      "text/plain": [
       "25047"
      ]
     },
     "execution_count": 127,
     "metadata": {},
     "output_type": "execute_result"
    }
   ],
   "source": [
    "(edad_titular < 16).sum()"
   ]
  },
  {
   "cell_type": "markdown",
   "metadata": {
    "colab_type": "text",
    "id": "5AyXltlfvinY"
   },
   "source": [
    "**Key Insights**\n",
    "\n",
    "- Muy pocas personas titulares que podrian tener mas de 100 años y ademas muchos fueron permisos consedidos a mas de 10 años. Así o se puede borrar estos datos o dejarlos. No harán mucha diferencia. \n",
    "- El problema mas grande es en relación a la edad minima de los titulares, pues hay un numero significativo de personas que són titulares pero tienen menos de 16 anõs y seguro deben de ser dependentes de otros. "
   ]
  },
  {
   "cell_type": "markdown",
   "metadata": {},
   "source": [
    "## 4. Mirar la Región Metropolitana en detajes"
   ]
  },
  {
   "cell_type": "code",
   "execution_count": 135,
   "metadata": {},
   "outputs": [
    {
     "data": {
      "text/plain": [
       "(589106, 12)"
      ]
     },
     "execution_count": 135,
     "metadata": {},
     "output_type": "execute_result"
    }
   ],
   "source": [
    "metro = df[df.REGION == 'metropolitana']\n",
    "metro.shape"
   ]
  },
  {
   "cell_type": "code",
   "execution_count": 148,
   "metadata": {},
   "outputs": [
    {
     "data": {
      "text/html": [
       "<div>\n",
       "<style scoped>\n",
       "    .dataframe tbody tr th:only-of-type {\n",
       "        vertical-align: middle;\n",
       "    }\n",
       "\n",
       "    .dataframe tbody tr th {\n",
       "        vertical-align: top;\n",
       "    }\n",
       "\n",
       "    .dataframe thead th {\n",
       "        text-align: right;\n",
       "    }\n",
       "</style>\n",
       "<table border=\"1\" class=\"dataframe\">\n",
       "  <thead>\n",
       "    <tr style=\"text-align: right;\">\n",
       "      <th></th>\n",
       "      <th>SEXO</th>\n",
       "      <th>NACIMIENTO</th>\n",
       "      <th>ACTIVIDAD</th>\n",
       "      <th>PROFESION</th>\n",
       "      <th>PAIS</th>\n",
       "      <th>ESTUDIOS</th>\n",
       "      <th>COMUNA</th>\n",
       "      <th>PROVINCIA</th>\n",
       "      <th>REGION</th>\n",
       "      <th>TIT_DEP</th>\n",
       "      <th>AÑO</th>\n",
       "      <th>BENEFICIO</th>\n",
       "    </tr>\n",
       "  </thead>\n",
       "  <tbody>\n",
       "    <tr>\n",
       "      <th>54024</th>\n",
       "      <td>masculino</td>\n",
       "      <td>1980-09-30</td>\n",
       "      <td>obrero o jornalero</td>\n",
       "      <td>jornalero</td>\n",
       "      <td>haiti</td>\n",
       "      <td>no informa</td>\n",
       "      <td>maipu</td>\n",
       "      <td>santiago</td>\n",
       "      <td>metropolitana</td>\n",
       "      <td>t</td>\n",
       "      <td>2017</td>\n",
       "      <td>definitiva</td>\n",
       "    </tr>\n",
       "    <tr>\n",
       "      <th>114101</th>\n",
       "      <td>femenino</td>\n",
       "      <td>2002-11-27</td>\n",
       "      <td>estudiante</td>\n",
       "      <td>estudiante</td>\n",
       "      <td>venezuela</td>\n",
       "      <td>no informa</td>\n",
       "      <td>santiago</td>\n",
       "      <td>santiago</td>\n",
       "      <td>metropolitana</td>\n",
       "      <td>d</td>\n",
       "      <td>2017</td>\n",
       "      <td>temporaria</td>\n",
       "    </tr>\n",
       "    <tr>\n",
       "      <th>104704</th>\n",
       "      <td>masculino</td>\n",
       "      <td>1975-12-30</td>\n",
       "      <td>empleado</td>\n",
       "      <td>junior</td>\n",
       "      <td>venezuela</td>\n",
       "      <td>medio</td>\n",
       "      <td>maipu</td>\n",
       "      <td>santiago</td>\n",
       "      <td>metropolitana</td>\n",
       "      <td>t</td>\n",
       "      <td>2018</td>\n",
       "      <td>temporaria</td>\n",
       "    </tr>\n",
       "    <tr>\n",
       "      <th>77033</th>\n",
       "      <td>masculino</td>\n",
       "      <td>1989-08-16</td>\n",
       "      <td>empleado</td>\n",
       "      <td>ingeniero</td>\n",
       "      <td>venezuela</td>\n",
       "      <td>universitario</td>\n",
       "      <td>santiago</td>\n",
       "      <td>santiago</td>\n",
       "      <td>metropolitana</td>\n",
       "      <td>t</td>\n",
       "      <td>2017</td>\n",
       "      <td>definitiva</td>\n",
       "    </tr>\n",
       "    <tr>\n",
       "      <th>213408</th>\n",
       "      <td>femenino</td>\n",
       "      <td>1985-04-28</td>\n",
       "      <td>estudiante</td>\n",
       "      <td>estudiante</td>\n",
       "      <td>brasil</td>\n",
       "      <td>universitario</td>\n",
       "      <td>la florida</td>\n",
       "      <td>santiago</td>\n",
       "      <td>metropolitana</td>\n",
       "      <td>t</td>\n",
       "      <td>2014</td>\n",
       "      <td>definitiva</td>\n",
       "    </tr>\n",
       "    <tr>\n",
       "      <th>92883</th>\n",
       "      <td>masculino</td>\n",
       "      <td>1989-02-26</td>\n",
       "      <td>empleado</td>\n",
       "      <td>empleado</td>\n",
       "      <td>venezuela</td>\n",
       "      <td>medio</td>\n",
       "      <td>pudahuel</td>\n",
       "      <td>santiago</td>\n",
       "      <td>metropolitana</td>\n",
       "      <td>t</td>\n",
       "      <td>2017</td>\n",
       "      <td>temporaria</td>\n",
       "    </tr>\n",
       "    <tr>\n",
       "      <th>3538</th>\n",
       "      <td>masculino</td>\n",
       "      <td>1979-07-07</td>\n",
       "      <td>empleado</td>\n",
       "      <td>pintor</td>\n",
       "      <td>colombia</td>\n",
       "      <td>medio</td>\n",
       "      <td>providencia</td>\n",
       "      <td>santiago</td>\n",
       "      <td>metropolitana</td>\n",
       "      <td>t</td>\n",
       "      <td>2017</td>\n",
       "      <td>definitiva</td>\n",
       "    </tr>\n",
       "    <tr>\n",
       "      <th>28697</th>\n",
       "      <td>femenino</td>\n",
       "      <td>1957-06-07</td>\n",
       "      <td>empleado domestico</td>\n",
       "      <td>asesora del hogar</td>\n",
       "      <td>peru</td>\n",
       "      <td>no informa</td>\n",
       "      <td>pudahuel</td>\n",
       "      <td>santiago</td>\n",
       "      <td>metropolitana</td>\n",
       "      <td>t</td>\n",
       "      <td>2006</td>\n",
       "      <td>definitiva</td>\n",
       "    </tr>\n",
       "    <tr>\n",
       "      <th>12261</th>\n",
       "      <td>masculino</td>\n",
       "      <td>1985-04-03</td>\n",
       "      <td>empleado</td>\n",
       "      <td>vendedor</td>\n",
       "      <td>haiti</td>\n",
       "      <td>no informa</td>\n",
       "      <td>estacion central</td>\n",
       "      <td>santiago</td>\n",
       "      <td>metropolitana</td>\n",
       "      <td>t</td>\n",
       "      <td>2018</td>\n",
       "      <td>definitiva</td>\n",
       "    </tr>\n",
       "    <tr>\n",
       "      <th>98538</th>\n",
       "      <td>femenino</td>\n",
       "      <td>1983-03-31</td>\n",
       "      <td>empleado</td>\n",
       "      <td>estudiante</td>\n",
       "      <td>peru</td>\n",
       "      <td>no informa</td>\n",
       "      <td>estacion central</td>\n",
       "      <td>santiago</td>\n",
       "      <td>metropolitana</td>\n",
       "      <td>d</td>\n",
       "      <td>2008</td>\n",
       "      <td>definitiva</td>\n",
       "    </tr>\n",
       "  </tbody>\n",
       "</table>\n",
       "</div>"
      ],
      "text/plain": [
       "             SEXO NACIMIENTO           ACTIVIDAD          PROFESION  \\\n",
       "54024   masculino 1980-09-30  obrero o jornalero          jornalero   \n",
       "114101   femenino 2002-11-27          estudiante         estudiante   \n",
       "104704  masculino 1975-12-30            empleado             junior   \n",
       "77033   masculino 1989-08-16            empleado          ingeniero   \n",
       "213408   femenino 1985-04-28          estudiante         estudiante   \n",
       "92883   masculino 1989-02-26            empleado           empleado   \n",
       "3538    masculino 1979-07-07            empleado             pintor   \n",
       "28697    femenino 1957-06-07  empleado domestico  asesora del hogar   \n",
       "12261   masculino 1985-04-03            empleado           vendedor   \n",
       "98538    femenino 1983-03-31            empleado         estudiante   \n",
       "\n",
       "             PAIS       ESTUDIOS            COMUNA PROVINCIA         REGION  \\\n",
       "54024       haiti     no informa             maipu  santiago  metropolitana   \n",
       "114101  venezuela     no informa          santiago  santiago  metropolitana   \n",
       "104704  venezuela          medio             maipu  santiago  metropolitana   \n",
       "77033   venezuela  universitario          santiago  santiago  metropolitana   \n",
       "213408     brasil  universitario        la florida  santiago  metropolitana   \n",
       "92883   venezuela          medio          pudahuel  santiago  metropolitana   \n",
       "3538     colombia          medio       providencia  santiago  metropolitana   \n",
       "28697        peru     no informa          pudahuel  santiago  metropolitana   \n",
       "12261       haiti     no informa  estacion central  santiago  metropolitana   \n",
       "98538        peru     no informa  estacion central  santiago  metropolitana   \n",
       "\n",
       "       TIT_DEP   AÑO   BENEFICIO  \n",
       "54024        t  2017  definitiva  \n",
       "114101       d  2017  temporaria  \n",
       "104704       t  2018  temporaria  \n",
       "77033        t  2017  definitiva  \n",
       "213408       t  2014  definitiva  \n",
       "92883        t  2017  temporaria  \n",
       "3538         t  2017  definitiva  \n",
       "28697        t  2006  definitiva  \n",
       "12261        t  2018  definitiva  \n",
       "98538        d  2008  definitiva  "
      ]
     },
     "execution_count": 148,
     "metadata": {},
     "output_type": "execute_result"
    }
   ],
   "source": [
    "metro.sample(10)"
   ]
  },
  {
   "cell_type": "code",
   "execution_count": 137,
   "metadata": {},
   "outputs": [
    {
     "data": {
      "text/plain": [
       "array(['santiago', 'chacabuco', 'talagante', 'melipilla', 'cordillera',\n",
       "       'maipo'], dtype=object)"
      ]
     },
     "execution_count": 137,
     "metadata": {},
     "output_type": "execute_result"
    }
   ],
   "source": [
    "metro.PROVINCIA.unique()"
   ]
  },
  {
   "cell_type": "code",
   "execution_count": 143,
   "metadata": {
    "scrolled": true
   },
   "outputs": [
    {
     "data": {
      "text/plain": [
       "santiago               162325\n",
       "las condes              38888\n",
       "independencia           37783\n",
       "estacion central        30937\n",
       "recoleta                29155\n",
       "providencia             21176\n",
       "nunoa                   19523\n",
       "quilicura               18449\n",
       "quinta normal           15685\n",
       "la florida              14020\n",
       "maipu                   12404\n",
       "san bernardo            11003\n",
       "san miguel              10426\n",
       "penalolen               10391\n",
       "conchali                10141\n",
       "lo barnechea             9442\n",
       "puente alto              9088\n",
       "colina                   8879\n",
       "vitacura                 8296\n",
       "macul                    7578\n",
       "melipilla                7382\n",
       "cerro navia              7270\n",
       "pudahuel                 7054\n",
       "lo prado                 7040\n",
       "san joaquin              6319\n",
       "la cisterna              6169\n",
       "pedro aguirre cerda      6047\n",
       "renca                    5218\n",
       "cerrillos                4993\n",
       "lo espejo                4751\n",
       "la reina                 4601\n",
       "huechuraba               4542\n",
       "lampa                    4073\n",
       "el bosque                3698\n",
       "la granja                3524\n",
       "san ramon                3121\n",
       "paine                    2928\n",
       "la pintana               2770\n",
       "buin                     2122\n",
       "talagante                1695\n",
       "padre hurtado            1634\n",
       "penaflor                 1392\n",
       "alhue                    1072\n",
       "curacavi                  691\n",
       "isla de maipo             527\n",
       "san pedro                 506\n",
       "tiltil                    489\n",
       "calera de tango           487\n",
       "el monte                  457\n",
       "san jose de maipo         382\n",
       "pirque                    318\n",
       "maria pinto               245\n",
       "Name: COMUNA, dtype: int64"
      ]
     },
     "execution_count": 143,
     "metadata": {},
     "output_type": "execute_result"
    }
   ],
   "source": [
    "metro.COMUNA.value_counts()"
   ]
  }
 ],
 "metadata": {
  "colab": {
   "name": "Tutorial - EDA.ipynb",
   "provenance": [],
   "version": "0.3.2"
  },
  "kernelspec": {
   "display_name": "Python 3",
   "language": "python",
   "name": "python3"
  },
  "language_info": {
   "codemirror_mode": {
    "name": "ipython",
    "version": 3
   },
   "file_extension": ".py",
   "mimetype": "text/x-python",
   "name": "python",
   "nbconvert_exporter": "python",
   "pygments_lexer": "ipython3",
   "version": "3.6.4"
  }
 },
 "nbformat": 4,
 "nbformat_minor": 1
}
