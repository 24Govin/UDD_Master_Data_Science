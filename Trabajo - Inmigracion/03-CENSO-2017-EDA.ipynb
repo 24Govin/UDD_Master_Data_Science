{
 "cells": [
  {
   "cell_type": "markdown",
   "metadata": {},
   "source": [
    "# Chile Censo 2017 - Data analysis "
   ]
  },
  {
   "cell_type": "markdown",
   "metadata": {},
   "source": [
    "<p><img src=\"http://www.censo2017.cl/wp-content/uploads/2016/01/logo-2.png\"></p>\n",
    "## Trabajo MDS-2oTrim. ==> Inmigracion en Chile\n",
    "\n",
    "**Profesora:** Donoso I.<br>\n",
    "**Alumnos:** Briceno, H.; Rovai, M.; Tessada G.\n",
    "\n",
    "<br>"
   ]
  },
  {
   "cell_type": "markdown",
   "metadata": {},
   "source": [
    "## The Dataset:\n",
    "### Censo:\n",
    "http://www.censo2017.cl\n",
    "<br>"
   ]
  },
  {
   "cell_type": "code",
   "execution_count": 1,
   "metadata": {},
   "outputs": [],
   "source": [
    "import pandas as pd\n",
    "import numpy as np\n",
    "import matplotlib\n",
    "import matplotlib.pyplot as plt\n",
    "%matplotlib inline"
   ]
  },
  {
   "cell_type": "code",
   "execution_count": 3,
   "metadata": {},
   "outputs": [
    {
     "name": "stdout",
     "output_type": "stream",
     "text": [
      "\u001b[31mCenso2017_ManzanaEntidad_CSV\\Censo2017_Identificación_Geográfica\\Microdato_Censo2017-Areas.csv\u001b[m\u001b[m\r\n",
      "\u001b[31mCenso2017_ManzanaEntidad_CSV\\Censo2017_Identificación_Geográfica\\Microdato_Censo2017-Categorias.csv\u001b[m\u001b[m\r\n",
      "\u001b[31mCenso2017_ManzanaEntidad_CSV\\Censo2017_Identificación_Geográfica\\Microdato_Censo2017-Comunas.csv\u001b[m\u001b[m\r\n",
      "\u001b[31mCenso2017_ManzanaEntidad_CSV\\Censo2017_Identificación_Geográfica\\Microdato_Censo2017-Geografia_Manzanas.csv\u001b[m\u001b[m\r\n",
      "\u001b[31mCenso2017_ManzanaEntidad_CSV\\Censo2017_Identificación_Geográfica\\Microdato_Censo2017-Provincias.csv\u001b[m\u001b[m\r\n",
      "\u001b[31mCenso2017_ManzanaEntidad_CSV\\Censo2017_Identificación_Geográfica\\Microdato_Censo2017-Regiones.csv\u001b[m\u001b[m\r\n",
      "\u001b[31mCenso2017_ManzanaEntidad_CSV\\Censo2017_Identificación_Geográfica\\Microdato_Censo2017-Urbano.csv\u001b[m\u001b[m\r\n",
      "\u001b[31mCenso2017_ManzanaEntidad_CSV\\Censo2017_Manzanas.csv\u001b[m\u001b[m\r\n",
      "\u001b[31mCenso2017_ManzanaEntidad_CSV\\LEAME.docx\u001b[m\u001b[m\r\n",
      "Copy of Censo2017_Manzanas.xls\r\n"
     ]
    }
   ],
   "source": [
    "!ls ./Microdatos_Manzanas"
   ]
  },
  {
   "cell_type": "code",
   "execution_count": 4,
   "metadata": {},
   "outputs": [
    {
     "data": {
      "text/plain": [
       "(2, 2)"
      ]
     },
     "execution_count": 4,
     "metadata": {},
     "output_type": "execute_result"
    }
   ],
   "source": [
    "# Load dataset\n",
    "data = './Microdatos_Manzanas/Censo2017_ManzanaEntidad_CSV\\Censo2017_Identificación_Geográfica\\Microdato_Censo2017-Areas.csv'\n",
    "area = pd.read_csv(data, sep=';')\n",
    "area.shape # (2, 2)"
   ]
  },
  {
   "cell_type": "code",
   "execution_count": 5,
   "metadata": {
    "scrolled": true
   },
   "outputs": [
    {
     "data": {
      "text/html": [
       "<div>\n",
       "<style scoped>\n",
       "    .dataframe tbody tr th:only-of-type {\n",
       "        vertical-align: middle;\n",
       "    }\n",
       "\n",
       "    .dataframe tbody tr th {\n",
       "        vertical-align: top;\n",
       "    }\n",
       "\n",
       "    .dataframe thead th {\n",
       "        text-align: right;\n",
       "    }\n",
       "</style>\n",
       "<table border=\"1\" class=\"dataframe\">\n",
       "  <thead>\n",
       "    <tr style=\"text-align: right;\">\n",
       "      <th></th>\n",
       "      <th>AREA</th>\n",
       "      <th>NOM_AREA</th>\n",
       "    </tr>\n",
       "  </thead>\n",
       "  <tbody>\n",
       "    <tr>\n",
       "      <th>0</th>\n",
       "      <td>1</td>\n",
       "      <td>URBANO</td>\n",
       "    </tr>\n",
       "    <tr>\n",
       "      <th>1</th>\n",
       "      <td>2</td>\n",
       "      <td>RURAL</td>\n",
       "    </tr>\n",
       "  </tbody>\n",
       "</table>\n",
       "</div>"
      ],
      "text/plain": [
       "   AREA NOM_AREA\n",
       "0     1   URBANO\n",
       "1     2    RURAL"
      ]
     },
     "execution_count": 5,
     "metadata": {},
     "output_type": "execute_result"
    }
   ],
   "source": [
    "area"
   ]
  },
  {
   "cell_type": "code",
   "execution_count": 6,
   "metadata": {},
   "outputs": [
    {
     "data": {
      "text/plain": [
       "(14, 2)"
      ]
     },
     "execution_count": 6,
     "metadata": {},
     "output_type": "execute_result"
    }
   ],
   "source": [
    "# Load dataset\n",
    "data = './Microdatos_Manzanas/Censo2017_ManzanaEntidad_CSV\\Censo2017_Identificación_Geográfica\\Microdato_Censo2017-Categorias.csv'\n",
    "categorias = pd.read_csv(data, sep=';')\n",
    "categorias.shape # (14, 2)"
   ]
  },
  {
   "cell_type": "code",
   "execution_count": 7,
   "metadata": {
    "scrolled": true
   },
   "outputs": [
    {
     "data": {
      "text/html": [
       "<div>\n",
       "<style scoped>\n",
       "    .dataframe tbody tr th:only-of-type {\n",
       "        vertical-align: middle;\n",
       "    }\n",
       "\n",
       "    .dataframe tbody tr th {\n",
       "        vertical-align: top;\n",
       "    }\n",
       "\n",
       "    .dataframe thead th {\n",
       "        text-align: right;\n",
       "    }\n",
       "</style>\n",
       "<table border=\"1\" class=\"dataframe\">\n",
       "  <thead>\n",
       "    <tr style=\"text-align: right;\">\n",
       "      <th></th>\n",
       "      <th>CAT_ENT</th>\n",
       "      <th>NOM_CAT_ENT</th>\n",
       "    </tr>\n",
       "  </thead>\n",
       "  <tbody>\n",
       "    <tr>\n",
       "      <th>0</th>\n",
       "      <td>1</td>\n",
       "      <td>Ciudad</td>\n",
       "    </tr>\n",
       "    <tr>\n",
       "      <th>1</th>\n",
       "      <td>2</td>\n",
       "      <td>Pueblo</td>\n",
       "    </tr>\n",
       "    <tr>\n",
       "      <th>2</th>\n",
       "      <td>3</td>\n",
       "      <td>Aldea</td>\n",
       "    </tr>\n",
       "    <tr>\n",
       "      <th>3</th>\n",
       "      <td>4</td>\n",
       "      <td>Caserío</td>\n",
       "    </tr>\n",
       "    <tr>\n",
       "      <th>4</th>\n",
       "      <td>5</td>\n",
       "      <td>Asentamiento Minero</td>\n",
       "    </tr>\n",
       "    <tr>\n",
       "      <th>5</th>\n",
       "      <td>6</td>\n",
       "      <td>Asentamiento Pesquero</td>\n",
       "    </tr>\n",
       "    <tr>\n",
       "      <th>6</th>\n",
       "      <td>7</td>\n",
       "      <td>Fundo-Estancia-Hacienda</td>\n",
       "    </tr>\n",
       "    <tr>\n",
       "      <th>7</th>\n",
       "      <td>8</td>\n",
       "      <td>Parcela-Hijuela</td>\n",
       "    </tr>\n",
       "    <tr>\n",
       "      <th>8</th>\n",
       "      <td>9</td>\n",
       "      <td>Parcela de Agrado</td>\n",
       "    </tr>\n",
       "    <tr>\n",
       "      <th>9</th>\n",
       "      <td>10</td>\n",
       "      <td>Comunidad Indígena</td>\n",
       "    </tr>\n",
       "    <tr>\n",
       "      <th>10</th>\n",
       "      <td>12</td>\n",
       "      <td>Campamento</td>\n",
       "    </tr>\n",
       "    <tr>\n",
       "      <th>11</th>\n",
       "      <td>13</td>\n",
       "      <td>Veranada-Majada-Aguada</td>\n",
       "    </tr>\n",
       "    <tr>\n",
       "      <th>12</th>\n",
       "      <td>14</td>\n",
       "      <td>Otros</td>\n",
       "    </tr>\n",
       "    <tr>\n",
       "      <th>13</th>\n",
       "      <td>15</td>\n",
       "      <td>Indeterminada</td>\n",
       "    </tr>\n",
       "  </tbody>\n",
       "</table>\n",
       "</div>"
      ],
      "text/plain": [
       "    CAT_ENT              NOM_CAT_ENT\n",
       "0         1                   Ciudad\n",
       "1         2                   Pueblo\n",
       "2         3                    Aldea\n",
       "3         4                  Caserío\n",
       "4         5      Asentamiento Minero\n",
       "5         6    Asentamiento Pesquero\n",
       "6         7  Fundo-Estancia-Hacienda\n",
       "7         8          Parcela-Hijuela\n",
       "8         9        Parcela de Agrado\n",
       "9        10       Comunidad Indígena\n",
       "10       12               Campamento\n",
       "11       13   Veranada-Majada-Aguada\n",
       "12       14                    Otros\n",
       "13       15            Indeterminada"
      ]
     },
     "execution_count": 7,
     "metadata": {},
     "output_type": "execute_result"
    }
   ],
   "source": [
    "categorias"
   ]
  },
  {
   "cell_type": "code",
   "execution_count": 8,
   "metadata": {},
   "outputs": [
    {
     "data": {
      "text/plain": [
       "(346, 2)"
      ]
     },
     "execution_count": 8,
     "metadata": {},
     "output_type": "execute_result"
    }
   ],
   "source": [
    "# Load dataset\n",
    "data = \"./Microdatos_Manzanas/Censo2017_ManzanaEntidad_CSV\\Censo2017_Identificación_Geográfica\\Microdato_Censo2017-Comunas.csv\"\n",
    "comunas = pd.read_csv(data, sep=';')\n",
    "comunas.shape # (346, 2)"
   ]
  },
  {
   "cell_type": "code",
   "execution_count": 9,
   "metadata": {},
   "outputs": [
    {
     "data": {
      "text/html": [
       "<div>\n",
       "<style scoped>\n",
       "    .dataframe tbody tr th:only-of-type {\n",
       "        vertical-align: middle;\n",
       "    }\n",
       "\n",
       "    .dataframe tbody tr th {\n",
       "        vertical-align: top;\n",
       "    }\n",
       "\n",
       "    .dataframe thead th {\n",
       "        text-align: right;\n",
       "    }\n",
       "</style>\n",
       "<table border=\"1\" class=\"dataframe\">\n",
       "  <thead>\n",
       "    <tr style=\"text-align: right;\">\n",
       "      <th></th>\n",
       "      <th>COMUNA</th>\n",
       "      <th>NOM_COMUNA</th>\n",
       "    </tr>\n",
       "  </thead>\n",
       "  <tbody>\n",
       "    <tr>\n",
       "      <th>0</th>\n",
       "      <td>1101</td>\n",
       "      <td>IQUIQUE</td>\n",
       "    </tr>\n",
       "    <tr>\n",
       "      <th>1</th>\n",
       "      <td>1107</td>\n",
       "      <td>ALTO HOSPICIO</td>\n",
       "    </tr>\n",
       "    <tr>\n",
       "      <th>2</th>\n",
       "      <td>1401</td>\n",
       "      <td>POZO ALMONTE</td>\n",
       "    </tr>\n",
       "    <tr>\n",
       "      <th>3</th>\n",
       "      <td>1402</td>\n",
       "      <td>CAMIÑA</td>\n",
       "    </tr>\n",
       "    <tr>\n",
       "      <th>4</th>\n",
       "      <td>1403</td>\n",
       "      <td>COLCHANE</td>\n",
       "    </tr>\n",
       "  </tbody>\n",
       "</table>\n",
       "</div>"
      ],
      "text/plain": [
       "   COMUNA     NOM_COMUNA\n",
       "0    1101        IQUIQUE\n",
       "1    1107  ALTO HOSPICIO\n",
       "2    1401   POZO ALMONTE\n",
       "3    1402         CAMIÑA\n",
       "4    1403       COLCHANE"
      ]
     },
     "execution_count": 9,
     "metadata": {},
     "output_type": "execute_result"
    }
   ],
   "source": [
    "comunas.head()"
   ]
  },
  {
   "cell_type": "code",
   "execution_count": 10,
   "metadata": {},
   "outputs": [
    {
     "data": {
      "text/plain": [
       "(54, 2)"
      ]
     },
     "execution_count": 10,
     "metadata": {},
     "output_type": "execute_result"
    }
   ],
   "source": [
    "# Load dataset\n",
    "data = './Microdatos_Manzanas/Censo2017_ManzanaEntidad_CSV\\Censo2017_Identificación_Geográfica\\Microdato_Censo2017-Provincias.csv'\n",
    "provincias = pd.read_csv(data, sep=';')\n",
    "provincias.shape # (54,2)"
   ]
  },
  {
   "cell_type": "code",
   "execution_count": 11,
   "metadata": {
    "scrolled": true
   },
   "outputs": [
    {
     "data": {
      "text/html": [
       "<div>\n",
       "<style scoped>\n",
       "    .dataframe tbody tr th:only-of-type {\n",
       "        vertical-align: middle;\n",
       "    }\n",
       "\n",
       "    .dataframe tbody tr th {\n",
       "        vertical-align: top;\n",
       "    }\n",
       "\n",
       "    .dataframe thead th {\n",
       "        text-align: right;\n",
       "    }\n",
       "</style>\n",
       "<table border=\"1\" class=\"dataframe\">\n",
       "  <thead>\n",
       "    <tr style=\"text-align: right;\">\n",
       "      <th></th>\n",
       "      <th>PROVINCIA</th>\n",
       "      <th>NOM_PROVINCIA</th>\n",
       "    </tr>\n",
       "  </thead>\n",
       "  <tbody>\n",
       "    <tr>\n",
       "      <th>0</th>\n",
       "      <td>11</td>\n",
       "      <td>IQUIQUE</td>\n",
       "    </tr>\n",
       "    <tr>\n",
       "      <th>1</th>\n",
       "      <td>14</td>\n",
       "      <td>TAMARUGAL</td>\n",
       "    </tr>\n",
       "    <tr>\n",
       "      <th>2</th>\n",
       "      <td>21</td>\n",
       "      <td>ANTOFAGASTA</td>\n",
       "    </tr>\n",
       "    <tr>\n",
       "      <th>3</th>\n",
       "      <td>22</td>\n",
       "      <td>EL LOA</td>\n",
       "    </tr>\n",
       "    <tr>\n",
       "      <th>4</th>\n",
       "      <td>23</td>\n",
       "      <td>TOCOPILLA</td>\n",
       "    </tr>\n",
       "  </tbody>\n",
       "</table>\n",
       "</div>"
      ],
      "text/plain": [
       "   PROVINCIA NOM_PROVINCIA\n",
       "0         11       IQUIQUE\n",
       "1         14     TAMARUGAL\n",
       "2         21   ANTOFAGASTA\n",
       "3         22        EL LOA\n",
       "4         23     TOCOPILLA"
      ]
     },
     "execution_count": 11,
     "metadata": {},
     "output_type": "execute_result"
    }
   ],
   "source": [
    "provincias.head()"
   ]
  },
  {
   "cell_type": "code",
   "execution_count": 12,
   "metadata": {},
   "outputs": [
    {
     "data": {
      "text/plain": [
       "(15, 2)"
      ]
     },
     "execution_count": 12,
     "metadata": {},
     "output_type": "execute_result"
    }
   ],
   "source": [
    "# Load dataset\n",
    "data = './Microdatos_Manzanas/Censo2017_ManzanaEntidad_CSV\\Censo2017_Identificación_Geográfica\\Microdato_Censo2017-Regiones.csv'\n",
    "regiones = pd.read_csv(data, sep=';')\n",
    "regiones.shape # (15, 2)"
   ]
  },
  {
   "cell_type": "code",
   "execution_count": 13,
   "metadata": {},
   "outputs": [
    {
     "data": {
      "text/html": [
       "<div>\n",
       "<style scoped>\n",
       "    .dataframe tbody tr th:only-of-type {\n",
       "        vertical-align: middle;\n",
       "    }\n",
       "\n",
       "    .dataframe tbody tr th {\n",
       "        vertical-align: top;\n",
       "    }\n",
       "\n",
       "    .dataframe thead th {\n",
       "        text-align: right;\n",
       "    }\n",
       "</style>\n",
       "<table border=\"1\" class=\"dataframe\">\n",
       "  <thead>\n",
       "    <tr style=\"text-align: right;\">\n",
       "      <th></th>\n",
       "      <th>REGION</th>\n",
       "      <th>NOM_REGION</th>\n",
       "    </tr>\n",
       "  </thead>\n",
       "  <tbody>\n",
       "    <tr>\n",
       "      <th>0</th>\n",
       "      <td>1</td>\n",
       "      <td>TARAPACÁ</td>\n",
       "    </tr>\n",
       "    <tr>\n",
       "      <th>1</th>\n",
       "      <td>2</td>\n",
       "      <td>ANTOFAGASTA</td>\n",
       "    </tr>\n",
       "    <tr>\n",
       "      <th>2</th>\n",
       "      <td>3</td>\n",
       "      <td>ATACAMA</td>\n",
       "    </tr>\n",
       "    <tr>\n",
       "      <th>3</th>\n",
       "      <td>4</td>\n",
       "      <td>COQUIMBO</td>\n",
       "    </tr>\n",
       "    <tr>\n",
       "      <th>4</th>\n",
       "      <td>5</td>\n",
       "      <td>VALPARAÍSO</td>\n",
       "    </tr>\n",
       "    <tr>\n",
       "      <th>5</th>\n",
       "      <td>6</td>\n",
       "      <td>LIBERTADOR BERNARDO O’HIGGINS</td>\n",
       "    </tr>\n",
       "    <tr>\n",
       "      <th>6</th>\n",
       "      <td>7</td>\n",
       "      <td>MAULE</td>\n",
       "    </tr>\n",
       "    <tr>\n",
       "      <th>7</th>\n",
       "      <td>8</td>\n",
       "      <td>BIOBÍO</td>\n",
       "    </tr>\n",
       "    <tr>\n",
       "      <th>8</th>\n",
       "      <td>9</td>\n",
       "      <td>ARAUCANÍA</td>\n",
       "    </tr>\n",
       "    <tr>\n",
       "      <th>9</th>\n",
       "      <td>10</td>\n",
       "      <td>LOS LAGOS</td>\n",
       "    </tr>\n",
       "    <tr>\n",
       "      <th>10</th>\n",
       "      <td>11</td>\n",
       "      <td>AYSÉN</td>\n",
       "    </tr>\n",
       "    <tr>\n",
       "      <th>11</th>\n",
       "      <td>12</td>\n",
       "      <td>MAGALLANES</td>\n",
       "    </tr>\n",
       "    <tr>\n",
       "      <th>12</th>\n",
       "      <td>13</td>\n",
       "      <td>METROPOLITANA</td>\n",
       "    </tr>\n",
       "    <tr>\n",
       "      <th>13</th>\n",
       "      <td>14</td>\n",
       "      <td>LOS RÍOS</td>\n",
       "    </tr>\n",
       "    <tr>\n",
       "      <th>14</th>\n",
       "      <td>15</td>\n",
       "      <td>ARICA Y PARINACOTA</td>\n",
       "    </tr>\n",
       "  </tbody>\n",
       "</table>\n",
       "</div>"
      ],
      "text/plain": [
       "    REGION                     NOM_REGION\n",
       "0        1                       TARAPACÁ\n",
       "1        2                    ANTOFAGASTA\n",
       "2        3                        ATACAMA\n",
       "3        4                       COQUIMBO\n",
       "4        5                     VALPARAÍSO\n",
       "5        6  LIBERTADOR BERNARDO O’HIGGINS\n",
       "6        7                          MAULE\n",
       "7        8                         BIOBÍO\n",
       "8        9                      ARAUCANÍA\n",
       "9       10                      LOS LAGOS\n",
       "10      11                          AYSÉN\n",
       "11      12                     MAGALLANES\n",
       "12      13                  METROPOLITANA\n",
       "13      14                       LOS RÍOS\n",
       "14      15             ARICA Y PARINACOTA"
      ]
     },
     "execution_count": 13,
     "metadata": {},
     "output_type": "execute_result"
    }
   ],
   "source": [
    "regiones"
   ]
  },
  {
   "cell_type": "code",
   "execution_count": 14,
   "metadata": {},
   "outputs": [
    {
     "data": {
      "text/plain": [
       "(4858, 8)"
      ]
     },
     "execution_count": 14,
     "metadata": {},
     "output_type": "execute_result"
    }
   ],
   "source": [
    "# Load dataset\n",
    "data = \"./Microdatos_Manzanas/Censo2017_ManzanaEntidad_CSV\\Censo2017_Identificación_Geográfica\\Microdato_Censo2017-Urbano.csv\"\n",
    "urbano = pd.read_csv(data, sep=';')\n",
    "urbano.shape # (4858, 8)"
   ]
  },
  {
   "cell_type": "code",
   "execution_count": 15,
   "metadata": {},
   "outputs": [
    {
     "data": {
      "text/html": [
       "<div>\n",
       "<style scoped>\n",
       "    .dataframe tbody tr th:only-of-type {\n",
       "        vertical-align: middle;\n",
       "    }\n",
       "\n",
       "    .dataframe tbody tr th {\n",
       "        vertical-align: top;\n",
       "    }\n",
       "\n",
       "    .dataframe thead th {\n",
       "        text-align: right;\n",
       "    }\n",
       "</style>\n",
       "<table border=\"1\" class=\"dataframe\">\n",
       "  <thead>\n",
       "    <tr style=\"text-align: right;\">\n",
       "      <th></th>\n",
       "      <th>REGION</th>\n",
       "      <th>PROVINCIA</th>\n",
       "      <th>COMUNA</th>\n",
       "      <th>DC</th>\n",
       "      <th>AREA</th>\n",
       "      <th>ZONA</th>\n",
       "      <th>NOM_URBANO</th>\n",
       "      <th>CAT</th>\n",
       "    </tr>\n",
       "  </thead>\n",
       "  <tbody>\n",
       "    <tr>\n",
       "      <th>0</th>\n",
       "      <td>1</td>\n",
       "      <td>11</td>\n",
       "      <td>1101</td>\n",
       "      <td>1</td>\n",
       "      <td>1</td>\n",
       "      <td>1</td>\n",
       "      <td>IQUIQUE</td>\n",
       "      <td>1</td>\n",
       "    </tr>\n",
       "    <tr>\n",
       "      <th>1</th>\n",
       "      <td>1</td>\n",
       "      <td>11</td>\n",
       "      <td>1101</td>\n",
       "      <td>1</td>\n",
       "      <td>1</td>\n",
       "      <td>2</td>\n",
       "      <td>IQUIQUE</td>\n",
       "      <td>1</td>\n",
       "    </tr>\n",
       "    <tr>\n",
       "      <th>2</th>\n",
       "      <td>1</td>\n",
       "      <td>11</td>\n",
       "      <td>1101</td>\n",
       "      <td>2</td>\n",
       "      <td>1</td>\n",
       "      <td>1</td>\n",
       "      <td>IQUIQUE</td>\n",
       "      <td>1</td>\n",
       "    </tr>\n",
       "    <tr>\n",
       "      <th>3</th>\n",
       "      <td>1</td>\n",
       "      <td>11</td>\n",
       "      <td>1101</td>\n",
       "      <td>2</td>\n",
       "      <td>1</td>\n",
       "      <td>2</td>\n",
       "      <td>IQUIQUE</td>\n",
       "      <td>1</td>\n",
       "    </tr>\n",
       "    <tr>\n",
       "      <th>4</th>\n",
       "      <td>1</td>\n",
       "      <td>11</td>\n",
       "      <td>1101</td>\n",
       "      <td>2</td>\n",
       "      <td>1</td>\n",
       "      <td>3</td>\n",
       "      <td>IQUIQUE</td>\n",
       "      <td>1</td>\n",
       "    </tr>\n",
       "  </tbody>\n",
       "</table>\n",
       "</div>"
      ],
      "text/plain": [
       "   REGION  PROVINCIA  COMUNA  DC  AREA  ZONA NOM_URBANO  CAT\n",
       "0       1         11    1101   1     1     1    IQUIQUE    1\n",
       "1       1         11    1101   1     1     2    IQUIQUE    1\n",
       "2       1         11    1101   2     1     1    IQUIQUE    1\n",
       "3       1         11    1101   2     1     2    IQUIQUE    1\n",
       "4       1         11    1101   2     1     3    IQUIQUE    1"
      ]
     },
     "execution_count": 15,
     "metadata": {},
     "output_type": "execute_result"
    }
   ],
   "source": [
    "urbano.head()"
   ]
  },
  {
   "cell_type": "code",
   "execution_count": 16,
   "metadata": {},
   "outputs": [
    {
     "data": {
      "text/plain": [
       "(180499, 12)"
      ]
     },
     "execution_count": 16,
     "metadata": {},
     "output_type": "execute_result"
    }
   ],
   "source": [
    "# Load dataset\n",
    "data = './Microdatos_Manzanas/Censo2017_ManzanaEntidad_CSV\\Censo2017_Identificación_Geográfica\\Microdato_Censo2017-Geografia_Manzanas.csv'\n",
    "geo = pd.read_csv(data, sep=';')\n",
    "geo.shape # (180_499, 12)"
   ]
  },
  {
   "cell_type": "code",
   "execution_count": 17,
   "metadata": {
    "scrolled": true
   },
   "outputs": [
    {
     "data": {
      "text/html": [
       "<div>\n",
       "<style scoped>\n",
       "    .dataframe tbody tr th:only-of-type {\n",
       "        vertical-align: middle;\n",
       "    }\n",
       "\n",
       "    .dataframe tbody tr th {\n",
       "        vertical-align: top;\n",
       "    }\n",
       "\n",
       "    .dataframe thead th {\n",
       "        text-align: right;\n",
       "    }\n",
       "</style>\n",
       "<table border=\"1\" class=\"dataframe\">\n",
       "  <thead>\n",
       "    <tr style=\"text-align: right;\">\n",
       "      <th></th>\n",
       "      <th>REGION</th>\n",
       "      <th>PROVINCIA</th>\n",
       "      <th>COMUNA</th>\n",
       "      <th>AREA</th>\n",
       "      <th>DC</th>\n",
       "      <th>ZC_LOC</th>\n",
       "      <th>NOM_LOCALIDAD</th>\n",
       "      <th>ID_ZONA_LOC</th>\n",
       "      <th>MZ_ENT</th>\n",
       "      <th>NOM_ENTIDAD</th>\n",
       "      <th>CAT_ENT</th>\n",
       "      <th>ID_MANZENT</th>\n",
       "    </tr>\n",
       "  </thead>\n",
       "  <tbody>\n",
       "    <tr>\n",
       "      <th>0</th>\n",
       "      <td>12</td>\n",
       "      <td>121</td>\n",
       "      <td>12101</td>\n",
       "      <td>1</td>\n",
       "      <td>1</td>\n",
       "      <td>1</td>\n",
       "      <td>NaN</td>\n",
       "      <td>9817</td>\n",
       "      <td>1</td>\n",
       "      <td>NaN</td>\n",
       "      <td>NaN</td>\n",
       "      <td>12101011001001</td>\n",
       "    </tr>\n",
       "    <tr>\n",
       "      <th>1</th>\n",
       "      <td>12</td>\n",
       "      <td>121</td>\n",
       "      <td>12101</td>\n",
       "      <td>1</td>\n",
       "      <td>1</td>\n",
       "      <td>1</td>\n",
       "      <td>NaN</td>\n",
       "      <td>9817</td>\n",
       "      <td>3</td>\n",
       "      <td>NaN</td>\n",
       "      <td>NaN</td>\n",
       "      <td>12101011001003</td>\n",
       "    </tr>\n",
       "    <tr>\n",
       "      <th>2</th>\n",
       "      <td>12</td>\n",
       "      <td>121</td>\n",
       "      <td>12101</td>\n",
       "      <td>1</td>\n",
       "      <td>1</td>\n",
       "      <td>1</td>\n",
       "      <td>NaN</td>\n",
       "      <td>9817</td>\n",
       "      <td>6</td>\n",
       "      <td>NaN</td>\n",
       "      <td>NaN</td>\n",
       "      <td>12101011001006</td>\n",
       "    </tr>\n",
       "    <tr>\n",
       "      <th>3</th>\n",
       "      <td>12</td>\n",
       "      <td>121</td>\n",
       "      <td>12101</td>\n",
       "      <td>1</td>\n",
       "      <td>1</td>\n",
       "      <td>1</td>\n",
       "      <td>NaN</td>\n",
       "      <td>9817</td>\n",
       "      <td>7</td>\n",
       "      <td>NaN</td>\n",
       "      <td>NaN</td>\n",
       "      <td>12101011001007</td>\n",
       "    </tr>\n",
       "    <tr>\n",
       "      <th>4</th>\n",
       "      <td>12</td>\n",
       "      <td>121</td>\n",
       "      <td>12101</td>\n",
       "      <td>1</td>\n",
       "      <td>1</td>\n",
       "      <td>1</td>\n",
       "      <td>NaN</td>\n",
       "      <td>9817</td>\n",
       "      <td>8</td>\n",
       "      <td>NaN</td>\n",
       "      <td>NaN</td>\n",
       "      <td>12101011001008</td>\n",
       "    </tr>\n",
       "  </tbody>\n",
       "</table>\n",
       "</div>"
      ],
      "text/plain": [
       "   REGION  PROVINCIA  COMUNA  AREA  DC  ZC_LOC NOM_LOCALIDAD  ID_ZONA_LOC  \\\n",
       "0      12        121   12101     1   1       1           NaN         9817   \n",
       "1      12        121   12101     1   1       1           NaN         9817   \n",
       "2      12        121   12101     1   1       1           NaN         9817   \n",
       "3      12        121   12101     1   1       1           NaN         9817   \n",
       "4      12        121   12101     1   1       1           NaN         9817   \n",
       "\n",
       "   MZ_ENT NOM_ENTIDAD  CAT_ENT      ID_MANZENT  \n",
       "0       1         NaN      NaN  12101011001001  \n",
       "1       3         NaN      NaN  12101011001003  \n",
       "2       6         NaN      NaN  12101011001006  \n",
       "3       7         NaN      NaN  12101011001007  \n",
       "4       8         NaN      NaN  12101011001008  "
      ]
     },
     "execution_count": 17,
     "metadata": {},
     "output_type": "execute_result"
    }
   ],
   "source": [
    "geo.head()"
   ]
  },
  {
   "cell_type": "code",
   "execution_count": 18,
   "metadata": {},
   "outputs": [
    {
     "data": {
      "text/plain": [
       "(180499, 47)"
      ]
     },
     "execution_count": 18,
     "metadata": {},
     "output_type": "execute_result"
    }
   ],
   "source": [
    "# Load dataset\n",
    "data = './Microdatos_Manzanas/Censo2017_ManzanaEntidad_CSV\\Censo2017_Manzanas.csv'\n",
    "manzanas = pd.read_csv(data, sep=';')\n",
    "manzanas.shape # 180499, 47)"
   ]
  },
  {
   "cell_type": "code",
   "execution_count": 19,
   "metadata": {},
   "outputs": [],
   "source": [
    "# manzanas.to_excel('manzanas.xlsx')"
   ]
  },
  {
   "cell_type": "code",
   "execution_count": 20,
   "metadata": {},
   "outputs": [
    {
     "data": {
      "text/html": [
       "<div>\n",
       "<style scoped>\n",
       "    .dataframe tbody tr th:only-of-type {\n",
       "        vertical-align: middle;\n",
       "    }\n",
       "\n",
       "    .dataframe tbody tr th {\n",
       "        vertical-align: top;\n",
       "    }\n",
       "\n",
       "    .dataframe thead th {\n",
       "        text-align: right;\n",
       "    }\n",
       "</style>\n",
       "<table border=\"1\" class=\"dataframe\">\n",
       "  <thead>\n",
       "    <tr style=\"text-align: right;\">\n",
       "      <th></th>\n",
       "      <th>REGION</th>\n",
       "      <th>PROVINCIA</th>\n",
       "      <th>COMUNA</th>\n",
       "      <th>DC</th>\n",
       "      <th>AREA</th>\n",
       "      <th>ZC_LOC</th>\n",
       "      <th>MZ_ENT</th>\n",
       "      <th>ID_ZONA_LOC</th>\n",
       "      <th>ID_MANZENT</th>\n",
       "      <th>PERSONAS</th>\n",
       "      <th>...</th>\n",
       "      <th>P03B_7</th>\n",
       "      <th>P03C_1</th>\n",
       "      <th>P03C_2</th>\n",
       "      <th>P03C_3</th>\n",
       "      <th>P03C_4</th>\n",
       "      <th>P03C_5</th>\n",
       "      <th>P05_1</th>\n",
       "      <th>P05_2</th>\n",
       "      <th>P05_3</th>\n",
       "      <th>P05_4</th>\n",
       "    </tr>\n",
       "  </thead>\n",
       "  <tbody>\n",
       "    <tr>\n",
       "      <th>0</th>\n",
       "      <td>1</td>\n",
       "      <td>11</td>\n",
       "      <td>1101</td>\n",
       "      <td>1</td>\n",
       "      <td>1</td>\n",
       "      <td>1</td>\n",
       "      <td>1</td>\n",
       "      <td>7849</td>\n",
       "      <td>1101011001001</td>\n",
       "      <td>15</td>\n",
       "      <td>...</td>\n",
       "      <td>0</td>\n",
       "      <td>0</td>\n",
       "      <td>0</td>\n",
       "      <td>0</td>\n",
       "      <td>0</td>\n",
       "      <td>0</td>\n",
       "      <td>0</td>\n",
       "      <td>0</td>\n",
       "      <td>0</td>\n",
       "      <td>0</td>\n",
       "    </tr>\n",
       "    <tr>\n",
       "      <th>1</th>\n",
       "      <td>1</td>\n",
       "      <td>11</td>\n",
       "      <td>1101</td>\n",
       "      <td>1</td>\n",
       "      <td>1</td>\n",
       "      <td>1</td>\n",
       "      <td>10</td>\n",
       "      <td>7849</td>\n",
       "      <td>1101011001010</td>\n",
       "      <td>70</td>\n",
       "      <td>...</td>\n",
       "      <td>0</td>\n",
       "      <td>15</td>\n",
       "      <td>0</td>\n",
       "      <td>0</td>\n",
       "      <td>0</td>\n",
       "      <td>0</td>\n",
       "      <td>15</td>\n",
       "      <td>0</td>\n",
       "      <td>0</td>\n",
       "      <td>0</td>\n",
       "    </tr>\n",
       "    <tr>\n",
       "      <th>2</th>\n",
       "      <td>1</td>\n",
       "      <td>11</td>\n",
       "      <td>1101</td>\n",
       "      <td>1</td>\n",
       "      <td>1</td>\n",
       "      <td>1</td>\n",
       "      <td>11</td>\n",
       "      <td>7849</td>\n",
       "      <td>1101011001011</td>\n",
       "      <td>36</td>\n",
       "      <td>...</td>\n",
       "      <td>0</td>\n",
       "      <td>10</td>\n",
       "      <td>0</td>\n",
       "      <td>0</td>\n",
       "      <td>5</td>\n",
       "      <td>0</td>\n",
       "      <td>15</td>\n",
       "      <td>0</td>\n",
       "      <td>0</td>\n",
       "      <td>0</td>\n",
       "    </tr>\n",
       "    <tr>\n",
       "      <th>3</th>\n",
       "      <td>1</td>\n",
       "      <td>11</td>\n",
       "      <td>1101</td>\n",
       "      <td>1</td>\n",
       "      <td>1</td>\n",
       "      <td>1</td>\n",
       "      <td>12</td>\n",
       "      <td>7849</td>\n",
       "      <td>1101011001012</td>\n",
       "      <td>65</td>\n",
       "      <td>...</td>\n",
       "      <td>1</td>\n",
       "      <td>18</td>\n",
       "      <td>1</td>\n",
       "      <td>4</td>\n",
       "      <td>1</td>\n",
       "      <td>0</td>\n",
       "      <td>24</td>\n",
       "      <td>0</td>\n",
       "      <td>0</td>\n",
       "      <td>0</td>\n",
       "    </tr>\n",
       "    <tr>\n",
       "      <th>4</th>\n",
       "      <td>1</td>\n",
       "      <td>11</td>\n",
       "      <td>1101</td>\n",
       "      <td>1</td>\n",
       "      <td>1</td>\n",
       "      <td>1</td>\n",
       "      <td>13</td>\n",
       "      <td>7849</td>\n",
       "      <td>1101011001013</td>\n",
       "      <td>39</td>\n",
       "      <td>...</td>\n",
       "      <td>0</td>\n",
       "      <td>9</td>\n",
       "      <td>0</td>\n",
       "      <td>0</td>\n",
       "      <td>0</td>\n",
       "      <td>0</td>\n",
       "      <td>9</td>\n",
       "      <td>0</td>\n",
       "      <td>0</td>\n",
       "      <td>0</td>\n",
       "    </tr>\n",
       "  </tbody>\n",
       "</table>\n",
       "<p>5 rows × 47 columns</p>\n",
       "</div>"
      ],
      "text/plain": [
       "   REGION  PROVINCIA  COMUNA  DC  AREA  ZC_LOC  MZ_ENT  ID_ZONA_LOC  \\\n",
       "0       1         11    1101   1     1       1       1         7849   \n",
       "1       1         11    1101   1     1       1      10         7849   \n",
       "2       1         11    1101   1     1       1      11         7849   \n",
       "3       1         11    1101   1     1       1      12         7849   \n",
       "4       1         11    1101   1     1       1      13         7849   \n",
       "\n",
       "      ID_MANZENT  PERSONAS  ...   P03B_7 P03C_1 P03C_2 P03C_3 P03C_4 P03C_5  \\\n",
       "0  1101011001001        15  ...        0      0      0      0      0      0   \n",
       "1  1101011001010        70  ...        0     15      0      0      0      0   \n",
       "2  1101011001011        36  ...        0     10      0      0      5      0   \n",
       "3  1101011001012        65  ...        1     18      1      4      1      0   \n",
       "4  1101011001013        39  ...        0      9      0      0      0      0   \n",
       "\n",
       "  P05_1 P05_2  P05_3  P05_4  \n",
       "0     0     0      0      0  \n",
       "1    15     0      0      0  \n",
       "2    15     0      0      0  \n",
       "3    24     0      0      0  \n",
       "4     9     0      0      0  \n",
       "\n",
       "[5 rows x 47 columns]"
      ]
     },
     "execution_count": 20,
     "metadata": {},
     "output_type": "execute_result"
    }
   ],
   "source": [
    "manzanas.head()"
   ]
  },
  {
   "cell_type": "code",
   "execution_count": 21,
   "metadata": {
    "scrolled": true
   },
   "outputs": [
    {
     "name": "stdout",
     "output_type": "stream",
     "text": [
      "<class 'pandas.core.frame.DataFrame'>\n",
      "RangeIndex: 180499 entries, 0 to 180498\n",
      "Data columns (total 47 columns):\n",
      "REGION         180499 non-null int64\n",
      "PROVINCIA      180499 non-null int64\n",
      "COMUNA         180499 non-null int64\n",
      "DC             180499 non-null int64\n",
      "AREA           180499 non-null int64\n",
      "ZC_LOC         180499 non-null int64\n",
      "MZ_ENT         180499 non-null int64\n",
      "ID_ZONA_LOC    180499 non-null int64\n",
      "ID_MANZENT     180499 non-null int64\n",
      "PERSONAS       180499 non-null int64\n",
      "HOMBRES        180499 non-null object\n",
      "MUJERES        180499 non-null object\n",
      "EDAD_0A5       180499 non-null object\n",
      "EDAD_6A14      180499 non-null object\n",
      "EDAD_15A64     180499 non-null object\n",
      "EDAD_65YMAS    180499 non-null object\n",
      "INMIGRANTES    180499 non-null object\n",
      "PUEBLO         180499 non-null object\n",
      "VIV_PART       180499 non-null int64\n",
      "VIV_COL        180499 non-null int64\n",
      "MATACEP        180499 non-null int64\n",
      "MATREC         180499 non-null int64\n",
      "MATIRREC       180499 non-null int64\n",
      "VPOMP          180499 non-null int64\n",
      "TOTAL_VIV      180499 non-null int64\n",
      "P03A_1         180499 non-null int64\n",
      "P03A_2         180499 non-null int64\n",
      "P03A_3         180499 non-null int64\n",
      "P03A_4         180499 non-null int64\n",
      "P03A_5         180499 non-null int64\n",
      "P03A_6         180499 non-null int64\n",
      "P03B_1         180499 non-null int64\n",
      "P03B_2         180499 non-null int64\n",
      "P03B_3         180499 non-null int64\n",
      "P03B_4         180499 non-null int64\n",
      "P03B_5         180499 non-null int64\n",
      "P03B_6         180499 non-null int64\n",
      "P03B_7         180499 non-null int64\n",
      "P03C_1         180499 non-null int64\n",
      "P03C_2         180499 non-null int64\n",
      "P03C_3         180499 non-null int64\n",
      "P03C_4         180499 non-null int64\n",
      "P03C_5         180499 non-null int64\n",
      "P05_1          180499 non-null int64\n",
      "P05_2          180499 non-null int64\n",
      "P05_3          180499 non-null int64\n",
      "P05_4          180499 non-null int64\n",
      "dtypes: int64(39), object(8)\n",
      "memory usage: 64.7+ MB\n"
     ]
    }
   ],
   "source": [
    "manzanas.info()"
   ]
  },
  {
   "cell_type": "code",
   "execution_count": 22,
   "metadata": {},
   "outputs": [
    {
     "data": {
      "text/plain": [
       "count    180499.000000\n",
       "mean         97.363437\n",
       "std         149.647870\n",
       "min           0.000000\n",
       "25%          35.000000\n",
       "50%          63.000000\n",
       "75%         105.000000\n",
       "max        9197.000000\n",
       "Name: PERSONAS, dtype: float64"
      ]
     },
     "execution_count": 22,
     "metadata": {},
     "output_type": "execute_result"
    }
   ],
   "source": [
    "manzanas.PERSONAS.describe()"
   ]
  },
  {
   "cell_type": "code",
   "execution_count": 23,
   "metadata": {},
   "outputs": [
    {
     "data": {
      "text/plain": [
       "3413"
      ]
     },
     "execution_count": 23,
     "metadata": {},
     "output_type": "execute_result"
    }
   ],
   "source": [
    "len(manzanas.HOMBRES[manzanas.HOMBRES == '*'])"
   ]
  },
  {
   "cell_type": "code",
   "execution_count": 24,
   "metadata": {},
   "outputs": [
    {
     "data": {
      "text/plain": [
       "3413"
      ]
     },
     "execution_count": 24,
     "metadata": {},
     "output_type": "execute_result"
    }
   ],
   "source": [
    "len(manzanas.MUJERES[manzanas.MUJERES == '*'])"
   ]
  },
  {
   "cell_type": "markdown",
   "metadata": {},
   "source": [
    "Hay 3413 Hombres y mujeres que no són identificados. Se puede considerar la proporción chilena: 1.043 Mujer x 1.0 hombre o dejar 50% (#personas/2)<br>\n",
    "Las formulas abajo, calculan el numero de Hombres e mujeres desconocidos utilizadose de los 50%"
   ]
  },
  {
   "cell_type": "code",
   "execution_count": 25,
   "metadata": {},
   "outputs": [],
   "source": [
    "# *********** NOTA: REACER LAS FORMULAS CON .LOC ***************\n",
    "manzanas['HOMBRES'] = manzanas.apply(lambda row: round((row['PERSONAS'] / 2), 0) if row['HOMBRES'] in ('*') else row['HOMBRES'], axis=1)\n",
    "manzanas['MUJERES'] = manzanas.apply(lambda row: round((row['PERSONAS'] - row['HOMBRES']), 0) if row['MUJERES'] in ('*') else row['MUJERES'], axis=1)"
   ]
  },
  {
   "cell_type": "code",
   "execution_count": 26,
   "metadata": {},
   "outputs": [],
   "source": [
    "manzanas['HOMBRES'] = manzanas['HOMBRES'].astype(int)\n",
    "manzanas['MUJERES'] = manzanas['MUJERES'].astype(int)"
   ]
  },
  {
   "cell_type": "code",
   "execution_count": 27,
   "metadata": {},
   "outputs": [],
   "source": [
    "POP_CHILE = manzanas.PERSONAS.sum()"
   ]
  },
  {
   "cell_type": "code",
   "execution_count": 28,
   "metadata": {},
   "outputs": [],
   "source": [
    "POP_HOMBRES_CHILE = manzanas.HOMBRES.sum()"
   ]
  },
  {
   "cell_type": "code",
   "execution_count": 29,
   "metadata": {},
   "outputs": [],
   "source": [
    "POP_MUJERES_CHILE = manzanas.MUJERES.sum()"
   ]
  },
  {
   "cell_type": "code",
   "execution_count": 30,
   "metadata": {},
   "outputs": [],
   "source": [
    "VIVENDAS_CHILE = manzanas.TOTAL_VIV.sum()"
   ]
  },
  {
   "cell_type": "code",
   "execution_count": 31,
   "metadata": {},
   "outputs": [
    {
     "data": {
      "text/plain": [
       "count     180499\n",
       "unique       400\n",
       "top            0\n",
       "freq       95642\n",
       "Name: INMIGRANTES, dtype: object"
      ]
     },
     "execution_count": 31,
     "metadata": {},
     "output_type": "execute_result"
    }
   ],
   "source": [
    "manzanas.INMIGRANTES.describe()"
   ]
  },
  {
   "cell_type": "code",
   "execution_count": 32,
   "metadata": {},
   "outputs": [
    {
     "data": {
      "text/plain": [
       "180499"
      ]
     },
     "execution_count": 32,
     "metadata": {},
     "output_type": "execute_result"
    }
   ],
   "source": [
    "len(manzanas)"
   ]
  },
  {
   "cell_type": "code",
   "execution_count": 33,
   "metadata": {},
   "outputs": [
    {
     "data": {
      "text/plain": [
       "49220"
      ]
     },
     "execution_count": 33,
     "metadata": {},
     "output_type": "execute_result"
    }
   ],
   "source": [
    "len(manzanas.INMIGRANTES[manzanas.INMIGRANTES == '*'])"
   ]
  },
  {
   "cell_type": "code",
   "execution_count": 34,
   "metadata": {},
   "outputs": [
    {
     "data": {
      "text/plain": [
       "95642"
      ]
     },
     "execution_count": 34,
     "metadata": {},
     "output_type": "execute_result"
    }
   ],
   "source": [
    "len(manzanas.INMIGRANTES[manzanas.INMIGRANTES == '0'])"
   ]
  },
  {
   "cell_type": "code",
   "execution_count": 35,
   "metadata": {},
   "outputs": [
    {
     "data": {
      "text/plain": [
       "84857"
      ]
     },
     "execution_count": 35,
     "metadata": {},
     "output_type": "execute_result"
    }
   ],
   "source": [
    "len(manzanas.INMIGRANTES[manzanas.INMIGRANTES != '0'])"
   ]
  },
  {
   "cell_type": "markdown",
   "metadata": {},
   "source": [
    "Hay 49220 manzanas sin informacion si las personas son imigrantes. Acá se las consideró cero!"
   ]
  },
  {
   "cell_type": "code",
   "execution_count": 36,
   "metadata": {},
   "outputs": [],
   "source": [
    "manzanas['INMIGRANTES'] = manzanas.apply(lambda row: 0 if row['INMIGRANTES'] in ('*') else row['INMIGRANTES'], axis=1)\n",
    "manzanas['INMIGRANTES'] = manzanas['INMIGRANTES'].astype(int)"
   ]
  },
  {
   "cell_type": "code",
   "execution_count": 37,
   "metadata": {},
   "outputs": [],
   "source": [
    "POP_INMIGRANTES_CHILE = manzanas.INMIGRANTES.sum()"
   ]
  },
  {
   "cell_type": "code",
   "execution_count": 38,
   "metadata": {},
   "outputs": [
    {
     "name": "stdout",
     "output_type": "stream",
     "text": [
      "Numero de personas en Chile: 17574003\n",
      "Numero de hombres en Chile: 8596972\n",
      "Numero de mujeres en Chile: 8977031\n",
      "Numero de inmigrantes en Chile: 664120\n",
      "Numero de vivendas en Chile: 6499355\n",
      "Numero medio de personas por vivenda en Chile: 2.7\n",
      "Porcentaje de inmigrantes en Chile 3.78%\n"
     ]
    }
   ],
   "source": [
    "print(\"Numero de personas en Chile:\", POP_CHILE)\n",
    "print(\"Numero de hombres en Chile:\", POP_HOMBRES_CHILE)\n",
    "print(\"Numero de mujeres en Chile:\", POP_MUJERES_CHILE)\n",
    "print(\"Numero de inmigrantes en Chile:\", POP_INMIGRANTES_CHILE)\n",
    "print(\"Numero de vivendas en Chile:\", VIVENDAS_CHILE)\n",
    "print(\"Numero medio de personas por vivenda en Chile:\", round(POP_CHILE/VIVENDAS_CHILE, 2))\n",
    "print(\"Porcentaje de inmigrantes en Chile {}%\".format(round((POP_INMIGRANTES_CHILE/POP_CHILE)*100, 2)))"
   ]
  },
  {
   "cell_type": "markdown",
   "metadata": {},
   "source": [
    "### Zoom on Region Metroplitana"
   ]
  },
  {
   "cell_type": "code",
   "execution_count": 39,
   "metadata": {},
   "outputs": [],
   "source": [
    "df_rm = manzanas[manzanas['REGION'] == 13]"
   ]
  },
  {
   "cell_type": "code",
   "execution_count": 40,
   "metadata": {},
   "outputs": [
    {
     "data": {
      "text/plain": [
       "(51070, 47)"
      ]
     },
     "execution_count": 40,
     "metadata": {},
     "output_type": "execute_result"
    }
   ],
   "source": [
    "df_rm.shape"
   ]
  },
  {
   "cell_type": "code",
   "execution_count": 41,
   "metadata": {},
   "outputs": [
    {
     "name": "stdout",
     "output_type": "stream",
     "text": [
      "Numero de personas en RM: 7112808\n",
      "Numero de hombres en RM: 3462008\n",
      "Numero de mujeres en RM: 3650800\n",
      "Numero de inmigrantes en RM: 457110\n",
      "Numero de vivendas en RM: 2378442\n",
      "Numero medio de personas por vivenda en RM: 2.99\n",
      "Porcentaje de inmigrantes en RM 6.43%\n"
     ]
    }
   ],
   "source": [
    "POP_RM = df_rm.PERSONAS.sum()\n",
    "POP_HOMBRES_RM = df_rm.HOMBRES.sum()\n",
    "POP_MUJERES_RM = df_rm.MUJERES.sum()\n",
    "VIVENDAS_RM = df_rm.TOTAL_VIV.sum()\n",
    "POP_INMIGRANTES_RM = df_rm.INMIGRANTES.sum()\n",
    "\n",
    "print(\"Numero de personas en RM:\", POP_RM)\n",
    "print(\"Numero de hombres en RM:\", POP_HOMBRES_RM)\n",
    "print(\"Numero de mujeres en RM:\", POP_MUJERES_RM)\n",
    "print(\"Numero de inmigrantes en RM:\", POP_INMIGRANTES_RM)\n",
    "print(\"Numero de vivendas en RM:\", VIVENDAS_RM)\n",
    "print(\"Numero medio de personas por vivenda en RM:\", round(POP_RM/VIVENDAS_RM, 2))\n",
    "print(\"Porcentaje de inmigrantes en RM {}%\".format(round((POP_INMIGRANTES_RM/POP_RM)*100, 2)))"
   ]
  },
  {
   "cell_type": "code",
   "execution_count": 42,
   "metadata": {},
   "outputs": [
    {
     "data": {
      "text/plain": [
       "(19227, 47)"
      ]
     },
     "execution_count": 42,
     "metadata": {},
     "output_type": "execute_result"
    }
   ],
   "source": [
    "df_rm_im = df_rm[df_rm['INMIGRANTES'] > 0]\n",
    "df_rm_im.shape"
   ]
  },
  {
   "cell_type": "code",
   "execution_count": 43,
   "metadata": {},
   "outputs": [],
   "source": [
    "df_rm_im.to_excel('inmigrantes_metropolitan.xlsx')"
   ]
  },
  {
   "cell_type": "code",
   "execution_count": 44,
   "metadata": {
    "scrolled": true
   },
   "outputs": [],
   "source": [
    "inm_com = df_rm.groupby(by=['COMUNA']).INMIGRANTES.sum()"
   ]
  },
  {
   "cell_type": "code",
   "execution_count": 45,
   "metadata": {},
   "outputs": [],
   "source": [
    "inm_com = pd.DataFrame(inm_com)"
   ]
  },
  {
   "cell_type": "code",
   "execution_count": 46,
   "metadata": {},
   "outputs": [
    {
     "data": {
      "text/html": [
       "<div>\n",
       "<style scoped>\n",
       "    .dataframe tbody tr th:only-of-type {\n",
       "        vertical-align: middle;\n",
       "    }\n",
       "\n",
       "    .dataframe tbody tr th {\n",
       "        vertical-align: top;\n",
       "    }\n",
       "\n",
       "    .dataframe thead th {\n",
       "        text-align: right;\n",
       "    }\n",
       "</style>\n",
       "<table border=\"1\" class=\"dataframe\">\n",
       "  <thead>\n",
       "    <tr style=\"text-align: right;\">\n",
       "      <th></th>\n",
       "      <th>INMIGRANTES</th>\n",
       "    </tr>\n",
       "    <tr>\n",
       "      <th>COMUNA</th>\n",
       "      <th></th>\n",
       "    </tr>\n",
       "  </thead>\n",
       "  <tbody>\n",
       "    <tr>\n",
       "      <th>13101</th>\n",
       "      <td>110732</td>\n",
       "    </tr>\n",
       "    <tr>\n",
       "      <th>13102</th>\n",
       "      <td>3620</td>\n",
       "    </tr>\n",
       "    <tr>\n",
       "      <th>13103</th>\n",
       "      <td>6022</td>\n",
       "    </tr>\n",
       "    <tr>\n",
       "      <th>13104</th>\n",
       "      <td>9223</td>\n",
       "    </tr>\n",
       "    <tr>\n",
       "      <th>13105</th>\n",
       "      <td>3368</td>\n",
       "    </tr>\n",
       "  </tbody>\n",
       "</table>\n",
       "</div>"
      ],
      "text/plain": [
       "        INMIGRANTES\n",
       "COMUNA             \n",
       "13101        110732\n",
       "13102          3620\n",
       "13103          6022\n",
       "13104          9223\n",
       "13105          3368"
      ]
     },
     "execution_count": 46,
     "metadata": {},
     "output_type": "execute_result"
    }
   ],
   "source": [
    "inm_com.head()"
   ]
  },
  {
   "cell_type": "code",
   "execution_count": 47,
   "metadata": {},
   "outputs": [
    {
     "name": "stdout",
     "output_type": "stream",
     "text": [
      "<class 'pandas.core.frame.DataFrame'>\n",
      "RangeIndex: 346 entries, 0 to 345\n",
      "Data columns (total 2 columns):\n",
      "COMUNA        346 non-null int64\n",
      "NOM_COMUNA    346 non-null object\n",
      "dtypes: int64(1), object(1)\n",
      "memory usage: 5.5+ KB\n"
     ]
    }
   ],
   "source": [
    "comunas.info()"
   ]
  },
  {
   "cell_type": "code",
   "execution_count": 48,
   "metadata": {},
   "outputs": [],
   "source": [
    "com_rm = comunas[(comunas.COMUNA >= 13000) & (comunas.COMUNA < 14000)]"
   ]
  },
  {
   "cell_type": "code",
   "execution_count": 49,
   "metadata": {},
   "outputs": [
    {
     "data": {
      "text/html": [
       "<div>\n",
       "<style scoped>\n",
       "    .dataframe tbody tr th:only-of-type {\n",
       "        vertical-align: middle;\n",
       "    }\n",
       "\n",
       "    .dataframe tbody tr th {\n",
       "        vertical-align: top;\n",
       "    }\n",
       "\n",
       "    .dataframe thead th {\n",
       "        text-align: right;\n",
       "    }\n",
       "</style>\n",
       "<table border=\"1\" class=\"dataframe\">\n",
       "  <thead>\n",
       "    <tr style=\"text-align: right;\">\n",
       "      <th></th>\n",
       "      <th>COMUNA</th>\n",
       "      <th>NOM_COMUNA</th>\n",
       "    </tr>\n",
       "  </thead>\n",
       "  <tbody>\n",
       "    <tr>\n",
       "      <th>278</th>\n",
       "      <td>13101</td>\n",
       "      <td>SANTIAGO</td>\n",
       "    </tr>\n",
       "    <tr>\n",
       "      <th>279</th>\n",
       "      <td>13102</td>\n",
       "      <td>CERRILLOS</td>\n",
       "    </tr>\n",
       "    <tr>\n",
       "      <th>280</th>\n",
       "      <td>13103</td>\n",
       "      <td>CERRO NAVIA</td>\n",
       "    </tr>\n",
       "    <tr>\n",
       "      <th>281</th>\n",
       "      <td>13104</td>\n",
       "      <td>CONCHALÍ</td>\n",
       "    </tr>\n",
       "    <tr>\n",
       "      <th>282</th>\n",
       "      <td>13105</td>\n",
       "      <td>EL BOSQUE</td>\n",
       "    </tr>\n",
       "  </tbody>\n",
       "</table>\n",
       "</div>"
      ],
      "text/plain": [
       "     COMUNA   NOM_COMUNA\n",
       "278   13101     SANTIAGO\n",
       "279   13102    CERRILLOS\n",
       "280   13103  CERRO NAVIA\n",
       "281   13104     CONCHALÍ\n",
       "282   13105    EL BOSQUE"
      ]
     },
     "execution_count": 49,
     "metadata": {},
     "output_type": "execute_result"
    }
   ],
   "source": [
    "com_rm.head()"
   ]
  },
  {
   "cell_type": "code",
   "execution_count": 50,
   "metadata": {},
   "outputs": [],
   "source": [
    "com_rm = com_rm.set_index('COMUNA')"
   ]
  },
  {
   "cell_type": "code",
   "execution_count": 51,
   "metadata": {},
   "outputs": [
    {
     "data": {
      "text/html": [
       "<div>\n",
       "<style scoped>\n",
       "    .dataframe tbody tr th:only-of-type {\n",
       "        vertical-align: middle;\n",
       "    }\n",
       "\n",
       "    .dataframe tbody tr th {\n",
       "        vertical-align: top;\n",
       "    }\n",
       "\n",
       "    .dataframe thead th {\n",
       "        text-align: right;\n",
       "    }\n",
       "</style>\n",
       "<table border=\"1\" class=\"dataframe\">\n",
       "  <thead>\n",
       "    <tr style=\"text-align: right;\">\n",
       "      <th></th>\n",
       "      <th>NOM_COMUNA</th>\n",
       "    </tr>\n",
       "    <tr>\n",
       "      <th>COMUNA</th>\n",
       "      <th></th>\n",
       "    </tr>\n",
       "  </thead>\n",
       "  <tbody>\n",
       "    <tr>\n",
       "      <th>13101</th>\n",
       "      <td>SANTIAGO</td>\n",
       "    </tr>\n",
       "    <tr>\n",
       "      <th>13102</th>\n",
       "      <td>CERRILLOS</td>\n",
       "    </tr>\n",
       "    <tr>\n",
       "      <th>13103</th>\n",
       "      <td>CERRO NAVIA</td>\n",
       "    </tr>\n",
       "    <tr>\n",
       "      <th>13104</th>\n",
       "      <td>CONCHALÍ</td>\n",
       "    </tr>\n",
       "    <tr>\n",
       "      <th>13105</th>\n",
       "      <td>EL BOSQUE</td>\n",
       "    </tr>\n",
       "  </tbody>\n",
       "</table>\n",
       "</div>"
      ],
      "text/plain": [
       "         NOM_COMUNA\n",
       "COMUNA             \n",
       "13101      SANTIAGO\n",
       "13102     CERRILLOS\n",
       "13103   CERRO NAVIA\n",
       "13104      CONCHALÍ\n",
       "13105     EL BOSQUE"
      ]
     },
     "execution_count": 51,
     "metadata": {},
     "output_type": "execute_result"
    }
   ],
   "source": [
    "com_rm.head()"
   ]
  },
  {
   "cell_type": "code",
   "execution_count": 52,
   "metadata": {},
   "outputs": [],
   "source": [
    "inm_rm = pd.concat([com_rm, inm_com], axis = 1)"
   ]
  },
  {
   "cell_type": "code",
   "execution_count": 53,
   "metadata": {},
   "outputs": [],
   "source": [
    "inm_rm.sort_values('INMIGRANTES', ascending=False, inplace=True)"
   ]
  },
  {
   "cell_type": "code",
   "execution_count": 54,
   "metadata": {},
   "outputs": [],
   "source": [
    "def replaceCaracteres(text):\n",
    "    text = text.replace('á', 'a')\n",
    "    text = text.replace('é', 'e')\n",
    "    text = text.replace('í', 'i')\n",
    "    text = text.replace('ó', 'o')\n",
    "    text = text.replace('ú', 'u')\n",
    "    text = text.replace('ñ', 'n')\n",
    "    text = text.replace('ã', 'a')\n",
    "    return text\n",
    "\n",
    "def limpiaTexto(text):\n",
    "    text = text.lower()\n",
    "    text = replaceCaracteres(text)\n",
    "    return text "
   ]
  },
  {
   "cell_type": "code",
   "execution_count": 55,
   "metadata": {},
   "outputs": [],
   "source": [
    "inm_rm['NOM_COMUNA'] = inm_rm.NOM_COMUNA.apply(limpiaTexto)"
   ]
  },
  {
   "cell_type": "code",
   "execution_count": 56,
   "metadata": {},
   "outputs": [
    {
     "data": {
      "text/html": [
       "<div>\n",
       "<style scoped>\n",
       "    .dataframe tbody tr th:only-of-type {\n",
       "        vertical-align: middle;\n",
       "    }\n",
       "\n",
       "    .dataframe tbody tr th {\n",
       "        vertical-align: top;\n",
       "    }\n",
       "\n",
       "    .dataframe thead th {\n",
       "        text-align: right;\n",
       "    }\n",
       "</style>\n",
       "<table border=\"1\" class=\"dataframe\">\n",
       "  <thead>\n",
       "    <tr style=\"text-align: right;\">\n",
       "      <th></th>\n",
       "      <th>NOM_COMUNA</th>\n",
       "      <th>INMIGRANTES</th>\n",
       "    </tr>\n",
       "    <tr>\n",
       "      <th>COMUNA</th>\n",
       "      <th></th>\n",
       "      <th></th>\n",
       "    </tr>\n",
       "  </thead>\n",
       "  <tbody>\n",
       "    <tr>\n",
       "      <th>13101</th>\n",
       "      <td>santiago</td>\n",
       "      <td>110732</td>\n",
       "    </tr>\n",
       "    <tr>\n",
       "      <th>13114</th>\n",
       "      <td>las condes</td>\n",
       "      <td>30308</td>\n",
       "    </tr>\n",
       "    <tr>\n",
       "      <th>13108</th>\n",
       "      <td>independencia</td>\n",
       "      <td>30023</td>\n",
       "    </tr>\n",
       "    <tr>\n",
       "      <th>13127</th>\n",
       "      <td>recoleta</td>\n",
       "      <td>23329</td>\n",
       "    </tr>\n",
       "    <tr>\n",
       "      <th>13106</th>\n",
       "      <td>estacion central</td>\n",
       "      <td>22479</td>\n",
       "    </tr>\n",
       "  </tbody>\n",
       "</table>\n",
       "</div>"
      ],
      "text/plain": [
       "              NOM_COMUNA  INMIGRANTES\n",
       "COMUNA                               \n",
       "13101           santiago       110732\n",
       "13114         las condes        30308\n",
       "13108      independencia        30023\n",
       "13127           recoleta        23329\n",
       "13106   estacion central        22479"
      ]
     },
     "execution_count": 56,
     "metadata": {},
     "output_type": "execute_result"
    }
   ],
   "source": [
    "inm_rm.head()"
   ]
  },
  {
   "cell_type": "code",
   "execution_count": 57,
   "metadata": {},
   "outputs": [],
   "source": [
    "inm_rm.to_excel('inmigrantes_rm_comuna.xlsx')"
   ]
  }
 ],
 "metadata": {
  "kernelspec": {
   "display_name": "Python 3",
   "language": "python",
   "name": "python3"
  },
  "language_info": {
   "codemirror_mode": {
    "name": "ipython",
    "version": 3
   },
   "file_extension": ".py",
   "mimetype": "text/x-python",
   "name": "python",
   "nbconvert_exporter": "python",
   "pygments_lexer": "ipython3",
   "version": "3.6.4"
  }
 },
 "nbformat": 4,
 "nbformat_minor": 2
}
