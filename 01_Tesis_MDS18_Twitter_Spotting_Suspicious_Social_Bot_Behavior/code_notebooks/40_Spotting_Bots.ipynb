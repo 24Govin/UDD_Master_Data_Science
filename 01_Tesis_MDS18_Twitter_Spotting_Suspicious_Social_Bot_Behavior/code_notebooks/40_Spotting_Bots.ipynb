{
 "cells": [
  {
   "cell_type": "markdown",
   "metadata": {},
   "source": [
    "# Spotting Bots \n",
    "- UDD/MDS18/PP4\n",
    "- Final Project: 'Studying Twitter User Accounts: Spotting Suspicious Social Bot Behavior'\n",
    "- Master Candidate: Marcelo Rovai\n",
    "- Professors:\t   \n",
    "    - Eduardo Graells-Garrido (Supervisor)\n",
    "    - Loreto Bravo\n",
    "    - Leo Ferres"
   ]
  },
  {
   "cell_type": "markdown",
   "metadata": {},
   "source": [
    "## Main Libraries & Setup"
   ]
  },
  {
   "cell_type": "code",
   "execution_count": 1,
   "metadata": {
    "ExecuteTime": {
     "end_time": "2019-12-10T21:41:11.852153Z",
     "start_time": "2019-12-10T21:40:41.966128Z"
    }
   },
   "outputs": [],
   "source": [
    "import pandas as pd\n",
    "from pandas.plotting import table\n",
    "import numpy as np\n",
    "import matplotlib.pyplot as plt\n",
    "import seaborn as sns\n",
    "from urllib.request import urlopen\n",
    "import re\n",
    "import botometer\n",
    "import tweepy"
   ]
  },
  {
   "cell_type": "code",
   "execution_count": 73,
   "metadata": {
    "ExecuteTime": {
     "end_time": "2019-12-11T18:46:02.976451Z",
     "start_time": "2019-12-11T18:46:02.974010Z"
    }
   },
   "outputs": [],
   "source": [
    "import warnings\n",
    "warnings.filterwarnings('ignore')"
   ]
  },
  {
   "cell_type": "code",
   "execution_count": 2,
   "metadata": {
    "ExecuteTime": {
     "end_time": "2019-12-10T21:41:11.870340Z",
     "start_time": "2019-12-10T21:41:11.866370Z"
    }
   },
   "outputs": [],
   "source": [
    "pd.set_option('display.float_format', lambda x: '%.f' % x)\n",
    "sns.set_context(\"paper\", rc={\"font.size\":12,\"axes.titlesize\":12,\"axes.labelsize\":12})"
   ]
  },
  {
   "cell_type": "code",
   "execution_count": null,
   "metadata": {
    "ExecuteTime": {
     "end_time": "2019-12-03T13:56:57.529040Z",
     "start_time": "2019-12-03T13:56:57.525741Z"
    }
   },
   "outputs": [],
   "source": [
    "mashape_key = 'botomer_mashape_key'\n",
    "twitter_app_auth = {\n",
    "    'access_token' : \"twitter_acc_access_token\",\n",
    "    'access_token_secret' : \"twitter_acc_access_token_secret\",\n",
    "    'consumer_key' : \"twitter_acc_consumer_key\",\n",
    "    'consumer_secret' : \"twitter_acc_consumer_secret\",    \n",
    "}\n",
    "bom = botometer.Botometer(wait_on_ratelimit = True, mashape_key = mashape_key, **twitter_app_auth)"
   ]
  },
  {
   "cell_type": "markdown",
   "metadata": {},
   "source": [
    "## Main Functions"
   ]
  },
  {
   "cell_type": "code",
   "execution_count": 4,
   "metadata": {
    "ExecuteTime": {
     "end_time": "2019-12-10T21:41:11.909588Z",
     "start_time": "2019-12-10T21:41:11.905427Z"
    }
   },
   "outputs": [],
   "source": [
    "def get_twts_per_day(tweets):\n",
    "    tw_day = []\n",
    "    for d in range (1, 31):\n",
    "        tw_day.append(len(tweets[tweets.day == d]))\n",
    "    return tw_day"
   ]
  },
  {
   "cell_type": "code",
   "execution_count": 5,
   "metadata": {
    "ExecuteTime": {
     "end_time": "2019-12-10T21:41:11.929082Z",
     "start_time": "2019-12-10T21:41:11.923955Z"
    }
   },
   "outputs": [],
   "source": [
    "def get_max_tweet_day(tweets, user_list):\n",
    "    max_twt_day = []\n",
    "    for user_name in user_list:\n",
    "        t = tweets[tweets.user == user_name].reset_index(drop=True)\n",
    "        twt_day = get_twts_per_day(t)\n",
    "        max_twt_day.append(max(twt_day))\n",
    "    max_tweet_day_user = dict(zip(user_list, max_twt_day))\n",
    "    max_tweet_day_user = sorted(max_tweet_day_user.items(), key=lambda x:x[1], reverse=True)\n",
    "    return max_tweet_day_user"
   ]
  },
  {
   "cell_type": "code",
   "execution_count": 6,
   "metadata": {
    "ExecuteTime": {
     "end_time": "2019-12-10T21:41:11.948021Z",
     "start_time": "2019-12-10T21:41:11.943843Z"
    }
   },
   "outputs": [],
   "source": [
    "def verif_acc_active(user):\n",
    "    url = \"https://twitter.com/\"\n",
    "    try:\n",
    "        html = urlopen(url+user).read()\n",
    "        return True \n",
    "    except:\n",
    "        return False"
   ]
  },
  {
   "cell_type": "code",
   "execution_count": 7,
   "metadata": {
    "ExecuteTime": {
     "end_time": "2019-12-10T21:41:11.968930Z",
     "start_time": "2019-12-10T21:41:11.962253Z"
    }
   },
   "outputs": [],
   "source": [
    "def get_hashtags(tweets):\n",
    "    hashtags = []\n",
    "    hashtag_pattern = re.compile(r\"#[a-zA-Z]+\")\n",
    "    hashtag_matches = list(tweets['text'].apply(hashtag_pattern.findall))\n",
    "    hashtag_dict = {}\n",
    "    cnt = 0\n",
    "    for match in hashtag_matches:\n",
    "        for singlematch in match:\n",
    "            if singlematch not in hashtag_dict.keys():\n",
    "                hashtag_dict[singlematch] = 1\n",
    "                cnt +=1\n",
    "            else:\n",
    "                hashtag_dict[singlematch] = hashtag_dict[singlematch]+1\n",
    "                cnt +=1\n",
    "    hashtag_ordered_list =sorted(hashtag_dict.items(), key=lambda x:x[1], reverse=True)\n",
    "    return hashtag_ordered_list, len(hashtag_ordered_list), cnt"
   ]
  },
  {
   "cell_type": "code",
   "execution_count": 8,
   "metadata": {
    "ExecuteTime": {
     "end_time": "2019-12-10T21:41:11.990691Z",
     "start_time": "2019-12-10T21:41:11.984081Z"
    }
   },
   "outputs": [],
   "source": [
    "def get_mentions(tweets):\n",
    "    mentions = []\n",
    "    mention_pattern = re.compile(r\"@[a-zA-Z_]+\")\n",
    "    mention_matches = list(tweets['text'].apply(mention_pattern.findall))\n",
    "    mentions_dict = {}\n",
    "    cnt = 0\n",
    "    for match in mention_matches:\n",
    "        for singlematch in match:\n",
    "            if singlematch not in mentions_dict.keys():\n",
    "                mentions_dict[singlematch] = 1\n",
    "                cnt +=1\n",
    "            else:\n",
    "                mentions_dict[singlematch] = mentions_dict[singlematch]+1\n",
    "                cnt +=1\n",
    "    mentions_ordered_list =sorted(mentions_dict.items(), key=lambda x:x[1], reverse=True)\n",
    "    return mentions_ordered_list, len(mentions_ordered_list), cnt"
   ]
  },
  {
   "cell_type": "code",
   "execution_count": 75,
   "metadata": {
    "ExecuteTime": {
     "end_time": "2019-12-11T19:49:05.831139Z",
     "start_time": "2019-12-11T19:49:05.764501Z"
    }
   },
   "outputs": [],
   "source": [
    "def print_user_features(tweets, user_name, prt=True, ver_act=False): \n",
    "    if ver_act == False:\n",
    "        active_acc = \"Not checked\" \n",
    "    else:\n",
    "        active_acc = verif_acc_active(user_name)\n",
    "        if verif_acc_active(user_name):\n",
    "            active_acc = \"Active\"\n",
    "        else:\n",
    "            active_acc = \"Not Active\"        \n",
    "        \n",
    "    t = tweets[tweets.user == user_name].reset_index(drop=True)\n",
    "\n",
    "    user =  t.user.values[0]\n",
    "    name = t.name.values[0]\n",
    "    user_id = t.user_id.values[0]\n",
    "    default_prof_image = t.default_prof_image.values[0]\n",
    "    photo_url = t.image.values[0]\n",
    "    acc_verif = t.verified.values[0]\n",
    "    location = t.location.values[0]\n",
    "    default_profile = t.default_profile.values[0]\n",
    "    descr = t.description.values[0]  \n",
    "    tws_cnt = t.tweets_cnt.values[0]\n",
    "    frs_cnt = t.following.values[0]\n",
    "    fols_cnt = t.followers.values[0]\n",
    "    fav_cnt = t.favourites.values[0]\n",
    "    \n",
    "    if default_prof_image == False:\n",
    "        if photo_url == 'http://abs.twimg.com/sticky/default_profile_images/default_profile_normal.png':\n",
    "            default_prof_image = True\n",
    "        else:\n",
    "            default_prof_image = False\n",
    "    \n",
    "    if location == '': \n",
    "        local_bol = False\n",
    "    else:\n",
    "        local_bol = True\n",
    "    \n",
    "    if descr == '':\n",
    "        descr_bol = False\n",
    "    else:\n",
    "        descr_bol = True\n",
    "    \n",
    "    tweets_analysed = len(t)\n",
    "    \n",
    "    last_tweet_date = t.created_at.values[-1]\n",
    "    older_tweet_date = t.created_at.values[0]\n",
    "    account_created_date = t.acc_creation.values[0]\n",
    "    \n",
    "    delta = last_tweet_date - account_created_date\n",
    "    days = delta.astype('timedelta64[D]')\n",
    "    account_age_days = days / np.timedelta64(1, 'D')\n",
    "    \n",
    "    recent_delta = last_tweet_date - older_tweet_date\n",
    "    days = recent_delta.astype('timedelta64[D]')\n",
    "    recent_age_days = days / np.timedelta64(1, 'D')  \n",
    "    \n",
    "    ave_acc_tw_day = round(tws_cnt/account_age_days, 2)\n",
    "    ave_recent_tw_day = round(tweets_analysed/recent_age_days, 2)\n",
    "    tw_day = get_twts_per_day(t)\n",
    "    max_tweet_day = max(tw_day)\n",
    "    peak_day = [i for i, j in enumerate(tw_day) if j == max_tweet_day]\n",
    "    peak_day = peak_day[0] + 1\n",
    "\n",
    "    if fav_cnt != 0:    \n",
    "        rt_fv_idx = round(t.retweet_cnt.values[0]/fav_cnt, 2)\n",
    "    else:\n",
    "        rt_fv_idx = 0    \n",
    "    \n",
    "    if frs_cnt != 0:    \n",
    "        fl_fw_idx = round(fols_cnt/frs_cnt, 2)\n",
    "    else:\n",
    "        fl_fw_idx = 0\n",
    "    \n",
    "    RT_tweets = t[t['RT'] == True]\n",
    "    rt_tweets_cnt =  len(RT_tweets)   \n",
    "    rt_ratio = round(rt_tweets_cnt/tweets_analysed*100)\n",
    "\n",
    "    ment_tweets = t[t['num_mentions'] !=0]\n",
    "    ment_tweets_cnt = len(ment_tweets)\n",
    "    ment_ratio = round(ment_tweets_cnt/tweets_analysed*100)\n",
    "    \n",
    "    hash_tweets = t[t['num_hashtags'] !=0]\n",
    "    hash_tweets_cnt = len(hash_tweets)\n",
    "    hash_ratio = round(hash_tweets_cnt/tweets_analysed*100)\n",
    "    \n",
    "    mentions, unique_mentions_cnt, ment_cnt = get_mentions(t)\n",
    "    hashtags, unique_hashtags_cnt, hash_cnt = get_hashtags(t)\n",
    "    \n",
    "    try:\n",
    "        ment_idx = round(unique_mentions_cnt/ment_cnt, 2)\n",
    "    except:\n",
    "        ment_idx = 0.0\n",
    "    try:\n",
    "        hash_idx = round(unique_hashtags_cnt/hash_cnt, 2) \n",
    "    except:\n",
    "        hash_idx = 0.0\n",
    "        \n",
    "    mean_urls = round(t.num_urls.values.mean(), 2)\n",
    "    mean_lenght = round(t.lenght.values.mean(),0)\n",
    " \n",
    "    # New Features   \n",
    "    user_len = len(user)\n",
    "    name_len = len(name)\n",
    "    descr_len = len(descr)\n",
    "    \n",
    "    temp = re.findall(r'\\d+', user)\n",
    "    if len(temp) == 0:\n",
    "        user_len_num = 0\n",
    "    else:\n",
    "        user_len_num = len(temp[0])\n",
    "    \n",
    "    try:\n",
    "        simil_name = 100*(jaccard_similarity(user, name))\n",
    "    except:\n",
    "        simil_name = 0          \n",
    "    \n",
    "    if frs_cnt != 0:    \n",
    "        fols_frs_ratio = round(fols_cnt/frs_cnt, 2)\n",
    "    else:\n",
    "        fols_frs_ratio = 0\n",
    "    \n",
    "    metrics = [\n",
    "        user, user_id, name, default_prof_image, photo_url, acc_verif, \n",
    "        location, local_bol, default_profile, descr, descr_bol, active_acc, tws_cnt, frs_cnt, \n",
    "        fols_cnt, fav_cnt, fl_fw_idx, last_tweet_date, older_tweet_date, \n",
    "        tweets_analysed, account_age_days, ave_acc_tw_day, \n",
    "        ave_recent_tw_day, max_tweet_day, ment_tweets_cnt, hash_tweets_cnt, \n",
    "        unique_mentions_cnt, unique_hashtags_cnt, ment_idx, hash_idx, \n",
    "        rt_ratio, mean_urls, mean_lenght, recent_age_days, user_len, name_len,\n",
    "        user_len_num, simil_name, descr_len\n",
    "    ]\n",
    "    \n",
    "    if prt == True:   \n",
    "        print(\"\\nInfo Data for @\" + user)\n",
    "        print(\"\\nName:                      \", name)\n",
    "        print(\"Name Length:               \", name_len)\n",
    "        print(\"@user number Numeric Chars:\", user_len_num)\n",
    "        print(\"@user and name similarity: \", simil_name)\n",
    "        print(\"User Id:                   \", user_id)\n",
    "        print(\"Default_Photo:             \", default_prof_image)\n",
    "        print(\"Photo URL:                 \", photo_url)\n",
    "        print(\"Acc Verified:              \", acc_verif)\n",
    "        print(\"Has Location:              \", local_bol)\n",
    "        print(\"Location:                  \", location)\n",
    "        print(\"default_profile:           \", default_profile)\n",
    "        print(\"Has Description:           \", descr_bol)\n",
    "        print(\"Description:               \", descr) \n",
    "        print(\"Description length:        \", descr_len) \n",
    "        print(\"Account Active:            \", active_acc)\n",
    "\n",
    "        print(\"\\nNumber of Tweets analyzed:         \", tweets_analysed)\n",
    "        print(\"Last Tweet:                        \", last_tweet_date)\n",
    "        print(\"Older Tweet Analyzed:              \", older_tweet_date)\n",
    "        print(\"Account Active age (in days)        {0:,}\".format(account_age_days))\n",
    "        print(\"Average recent tweets per day:      {}\".format(ave_recent_tw_day))\n",
    "        print(\"Maximum Recent Tweets Per Day:      {} at day {}\".format(max_tweet_day, peak_day))\n",
    "        print(\"Average tweets per day since start: {}\".format(ave_acc_tw_day))\n",
    "        print(\"Total Tweets since start:           {0:,}\".format(tws_cnt))\n",
    "        print(\"Followers_count:                    {0:,}\".format(fols_cnt))\n",
    "        print(\"Friends_following_count             {0:,}\".format(frs_cnt))\n",
    "        print(\"Followers/Following_index:          {}\".format(fl_fw_idx)) \n",
    "        print(\"Favourites (Like) count:            {0:,}\".format(fav_cnt))       \n",
    "        print(\"Retweet_Like_index:                 {}\".format(rt_fv_idx)) \n",
    "        print(\"Retweet Ratio:                      {}%\".format(rt_ratio))\n",
    "        print(\"unique mentions cnt:                {}\".format(unique_mentions_cnt)) \n",
    "        print(\"Mention Ratio:                      {}%\".format(ment_ratio))\n",
    "        print(\"Mention index:                      {}\".format(ment_idx))\n",
    "        print(\"unique hashtags cnt:                {}\".format(unique_hashtags_cnt))     \n",
    "        print(\"Hashtag Ratio:                      {}%\".format(hash_ratio))\n",
    "        print(\"Hashtag Index:                      {}\".format(hash_idx))\n",
    "        print(\"Average URLs per tweet:             {}\".format(mean_urls))\n",
    "        print(\"Average text length per tweet:      {}\".format(mean_lenght))\n",
    "    \n",
    "    return tw_day, peak_day, metrics, mentions, hashtags"
   ]
  },
  {
   "cell_type": "code",
   "execution_count": 10,
   "metadata": {
    "ExecuteTime": {
     "end_time": "2019-12-10T21:41:12.063147Z",
     "start_time": "2019-12-10T21:41:12.056592Z"
    }
   },
   "outputs": [],
   "source": [
    "def plot_feature(df, feat, kde=True, prt=False, save_file_name=None, x_max = None):\n",
    "    f, axes = plt.subplots(ncols=1, figsize=(10, 4))\n",
    "    sns.despine(left=True)\n",
    "    sns.distplot(df[feat],\n",
    "                 color=\"m\",\n",
    "                 hist=False,\n",
    "                 kde=kde,\n",
    "                 kde_kws={\n",
    "                     'shade': True,\n",
    "                     'linewidth': 3\n",
    "                 })\n",
    "    plt.suptitle(feat + \" distribution\", fontsize=20)\n",
    "    plt.xlabel(feat,fontsize=15)\n",
    "    plt.setp(axes, yticks=[])\n",
    "    plt.xlim(0, x_max)\n",
    "\n",
    "    if prt == True:\n",
    "        plt.savefig(\"../images/\"+save_file_name, bbox_inches='tight')"
   ]
  },
  {
   "cell_type": "code",
   "execution_count": 76,
   "metadata": {
    "ExecuteTime": {
     "end_time": "2019-12-11T19:49:24.461083Z",
     "start_time": "2019-12-11T19:49:24.456396Z"
    }
   },
   "outputs": [],
   "source": [
    "def get_info_data(tweets, user_name, ver_act=True, prt=False):\n",
    "    tw_day, peak_day, metrics, mentions, hastags = print_user_features(tweets, user_name, ver_act=ver_act)\n",
    "    \n",
    "    print(\"\\n \\t[Tweets Sample at Peak Day] \\n\", tweets[(tweets.user == user_name) & (tweets.day == peak_day)].text[:10])\n",
    "    plot_user_timeline(user_name, tw_day, prt=prt)\n",
    "    return tw_day, metrics, mentions, hastags"
   ]
  },
  {
   "cell_type": "code",
   "execution_count": 12,
   "metadata": {
    "ExecuteTime": {
     "end_time": "2019-12-10T21:41:12.100053Z",
     "start_time": "2019-12-10T21:41:12.094718Z"
    }
   },
   "outputs": [],
   "source": [
    "def plot_user_timeline(user_name, tw_day, prt=False):   \n",
    "    f, axes = plt.subplots(ncols=1, figsize=(10, 4))\n",
    "    plt.suptitle(\"@\"+user_name+\" - Number of Tweets per day\", fontsize = 20)\n",
    "    sns.despine()\n",
    "    plt.xlabel(\"day of the month\",fontsize=15)\n",
    "    plt.ylabel(\"# tweets\",fontsize=15)\n",
    "    plt.bar(range(1, 31), tw_day);\n",
    "    \n",
    "    if prt == True:\n",
    "        plt.savefig(\"../images/\"+user_name+\" - Timeline\", bbox_inches='tight')"
   ]
  },
  {
   "cell_type": "code",
   "execution_count": 13,
   "metadata": {
    "ExecuteTime": {
     "end_time": "2019-12-10T21:41:12.122818Z",
     "start_time": "2019-12-10T21:41:12.114514Z"
    }
   },
   "outputs": [],
   "source": [
    "def plot_feat_comp(feat, prt=False, save_file_name=None, x_max = None):\n",
    "    feat1 = hf[feat]\n",
    "    feat2 = lf[feat]\n",
    "    fig, axes = plt.subplots(ncols=1, figsize=(10, 5))\n",
    "    #fig = plt.figure(figsize = (10,5))\n",
    "    sns.distplot(feat1,\n",
    "                 color=\"m\",\n",
    "                 label='High Frequency',\n",
    "                 hist=False,\n",
    "                 kde=True,\n",
    "                 kde_kws={\n",
    "                     'shade': True,\n",
    "                     'linewidth': 3\n",
    "                 })\n",
    "    plt.xlim(0, x_max)\n",
    "    \n",
    "    sns.distplot(feat2,\n",
    "                 color=\"g\",\n",
    "                 label='Low Frequency',\n",
    "                 hist=False,\n",
    "                 kde=True,\n",
    "                 kde_kws={\n",
    "                     'shade': True,\n",
    "                     'linewidth': 3\n",
    "                 })\n",
    "    plt.xlim(0, x_max)\n",
    "    plt.suptitle(feat+' distribution', fontsize=16)\n",
    "    sns.despine(left=True)\n",
    "    plt.setp(axes, yticks=[])\n",
    "    \n",
    "    if prt == True:\n",
    "        plt.savefig(\"../images/\"+save_file_name, bbox_inches='tight')"
   ]
  },
  {
   "cell_type": "code",
   "execution_count": 14,
   "metadata": {
    "ExecuteTime": {
     "end_time": "2019-12-10T21:41:12.146320Z",
     "start_time": "2019-12-10T21:41:12.138378Z"
    }
   },
   "outputs": [],
   "source": [
    "def plot_feat_comp_2_graph(feat, prt=False, save_file_name=None):\n",
    "    low_freq = lf[feat]\n",
    "    high_freq = hf[feat]\n",
    "    f, axes = plt.subplots(ncols=2, figsize=(10, 4))\n",
    "    sns.despine(left=True)\n",
    "    sns.distplot(high_freq,\n",
    "                 color=\"m\",\n",
    "                 label='High Frequency',\n",
    "                 hist=False,\n",
    "                 kde=True,\n",
    "                 kde_kws={\n",
    "                     'shade': True,\n",
    "                     'linewidth': 3\n",
    "                 },\n",
    "                 ax=axes[0])\n",
    "    sns.distplot(low_freq,\n",
    "                 color=\"g\",\n",
    "                 label='Low Frequency',\n",
    "                 hist=False,\n",
    "                 kde=True,\n",
    "                 kde_kws={\n",
    "                     'shade': True,\n",
    "                     'linewidth': 3\n",
    "                 },\n",
    "                 ax=axes[1])\n",
    "    plt.suptitle(feat + \" distribution\", fontsize=16)\n",
    "    plt.setp(axes, yticks=[])\n",
    "    \n",
    "    if prt == True:\n",
    "        plt.savefig(\"../images/\"+save_file_name, bbox_inches='tight')"
   ]
  },
  {
   "cell_type": "code",
   "execution_count": 15,
   "metadata": {
    "ExecuteTime": {
     "end_time": "2019-12-10T21:41:12.169699Z",
     "start_time": "2019-12-10T21:41:12.162533Z"
    }
   },
   "outputs": [],
   "source": [
    "def get_botometer_details(user, prt=True):\n",
    "    try:\n",
    "        result = bom.check_account(user)\n",
    "        score = result['scores']\n",
    "        score_eng = score[\"english\"]\n",
    "        score_unl = score[\"universal\"]\n",
    "        cap = result['cap']\n",
    "        cap_eng = cap[\"english\"]\n",
    "        cap_unl = cap[\"universal\"]\n",
    "        cat = result['categories']\n",
    "        bt_friend = cat['friend']\n",
    "        bt_network = cat['network']\n",
    "        bt_sent = cat['sentiment']\n",
    "        bt_temp = cat['temporal']\n",
    "        bt_user = cat['user']\n",
    "        if prt == True:\n",
    "            print_botometer_details(result)\n",
    "        return score_eng, score_unl, cap_eng, cap_unl, bt_friend, bt_network, bt_sent, bt_temp, bt_user\n",
    "    except:\n",
    "        if prt == True:\n",
    "            print('{} is not a Twitter user or is blocked'.format(user))\n",
    "        return 0, 0, 0, 0, 0, 0, 0, 0, 0"
   ]
  },
  {
   "cell_type": "code",
   "execution_count": 16,
   "metadata": {
    "ExecuteTime": {
     "end_time": "2019-12-10T21:41:12.194019Z",
     "start_time": "2019-12-10T21:41:12.184579Z"
    }
   },
   "outputs": [],
   "source": [
    "def print_botometer_details(result):\n",
    "    user_data = result['user']\n",
    "    print(\"\\nBotometer Result for @\" + user_data['screen_name'])\n",
    "    print(\"\\nUser Id:     \", user_data[\"id_str\"])\n",
    "    score = result['scores']\n",
    "    print(\"Score_eng:   \", score[\"english\"])\n",
    "    print(\"Score_unl:   \", score[\"universal\"])\n",
    "    cap = result['cap']\n",
    "    print(\"CAP_eng:     \", cap[\"english\"])\n",
    "    print(\"CAP_unl:     \", cap[\"universal\"])\n",
    "    cat = result['categories']\n",
    "    cat = result['categories']\n",
    "    print('\\nCategories:')\n",
    "    print(\"Friend:     \", cat['friend'])\n",
    "    print(\"Network:    \", cat['network'])\n",
    "    print(\"Sentiment:  \", cat['sentiment'])\n",
    "    print(\"Temporal:   \", cat['temporal'])\n",
    "    print(\"User:       \", cat['user'])\n",
    "    print(\"\\nProbability of @{} be a bot is {}%\".format(\n",
    "        user_data['screen_name'], round(score[\"universal\"] * 100)))"
   ]
  },
  {
   "cell_type": "markdown",
   "metadata": {},
   "source": [
    "## Loading User dataset"
   ]
  },
  {
   "cell_type": "code",
   "execution_count": 17,
   "metadata": {
    "ExecuteTime": {
     "end_time": "2019-12-10T21:41:12.407112Z",
     "start_time": "2019-12-10T21:41:12.218123Z"
    }
   },
   "outputs": [
    {
     "name": "stdout",
     "output_type": "stream",
     "text": [
      "20_tweets_nov_2017.csv             50_user_metrics_final.csv\r\n",
      "30_tweets_nov_2017_final.csv       60_user_metrics_label.csv\r\n",
      "40_user_metrics.csv                df_user_description.csv\r\n",
      "45_user_adit_clean_metrics.csv     select_tweet_feat_description.csv\r\n"
     ]
    }
   ],
   "source": [
    "ls ../data/"
   ]
  },
  {
   "cell_type": "code",
   "execution_count": 18,
   "metadata": {
    "ExecuteTime": {
     "end_time": "2019-12-10T21:41:12.953786Z",
     "start_time": "2019-12-10T21:41:12.421959Z"
    }
   },
   "outputs": [
    {
     "data": {
      "text/plain": [
       "(91154, 34)"
      ]
     },
     "execution_count": 18,
     "metadata": {},
     "output_type": "execute_result"
    }
   ],
   "source": [
    "df_user = pd.read_csv(\"../data/60_user_metrics_label.csv\", lineterminator='\\n', low_memory=False)\n",
    "df_user.shape"
   ]
  },
  {
   "cell_type": "code",
   "execution_count": 19,
   "metadata": {
    "ExecuteTime": {
     "end_time": "2019-12-10T21:41:13.100812Z",
     "start_time": "2019-12-10T21:41:13.042992Z"
    }
   },
   "outputs": [
    {
     "name": "stdout",
     "output_type": "stream",
     "text": [
      "<class 'pandas.core.frame.DataFrame'>\n",
      "RangeIndex: 91154 entries, 0 to 91153\n",
      "Data columns (total 34 columns):\n",
      "Unnamed: 0             91154 non-null int64\n",
      "user                   91154 non-null object\n",
      "default_prof_image     91154 non-null int64\n",
      "acc_verif              91154 non-null int64\n",
      "local_bol              91154 non-null int64\n",
      "default_profile        91154 non-null int64\n",
      "descr_bol              91154 non-null int64\n",
      "active_acc             91154 non-null int64\n",
      "tws_cnt                91154 non-null float64\n",
      "frs_cnt                91154 non-null float64\n",
      "fols_cnt               91154 non-null float64\n",
      "fav_cnt                91154 non-null float64\n",
      "tweets_analysed        91154 non-null float64\n",
      "account_age_days       91154 non-null float64\n",
      "ave_acc_tw_day         91154 non-null int64\n",
      "ave_recent_tw_day      91154 non-null int64\n",
      "max_tweet_day          91154 non-null float64\n",
      "ment_tweets_cnt        91154 non-null float64\n",
      "hash_tweets_cnt        91154 non-null float64\n",
      "unique_mentions_cnt    91154 non-null float64\n",
      "unique_hashtags_cnt    91154 non-null float64\n",
      "ment_idx               91154 non-null float64\n",
      "hash_idx               91154 non-null float64\n",
      "rt_ratio               91154 non-null float64\n",
      "mean_urls              91154 non-null float64\n",
      "mean_lenght            91154 non-null float64\n",
      "recent_age_days        91154 non-null int64\n",
      "user_name_len          91154 non-null int64\n",
      "name_len               91154 non-null int64\n",
      "user_name_len_num      91154 non-null int64\n",
      "simil_name             91154 non-null float64\n",
      "descr_len              91154 non-null int64\n",
      "fols_frs_ratio         91154 non-null float64\n",
      "label                  91154 non-null object\n",
      "dtypes: float64(18), int64(14), object(2)\n",
      "memory usage: 23.6+ MB\n"
     ]
    }
   ],
   "source": [
    "df_user.info()"
   ]
  },
  {
   "cell_type": "code",
   "execution_count": 20,
   "metadata": {
    "ExecuteTime": {
     "end_time": "2019-12-10T21:41:13.194882Z",
     "start_time": "2019-12-10T21:41:13.186035Z"
    }
   },
   "outputs": [],
   "source": [
    "del df_user['Unnamed: 0']"
   ]
  },
  {
   "cell_type": "code",
   "execution_count": 21,
   "metadata": {
    "ExecuteTime": {
     "end_time": "2019-12-10T21:41:13.290507Z",
     "start_time": "2019-12-10T21:41:13.286226Z"
    }
   },
   "outputs": [
    {
     "data": {
      "text/plain": [
       "Index(['user', 'default_prof_image', 'acc_verif', 'local_bol',\n",
       "       'default_profile', 'descr_bol', 'active_acc', 'tws_cnt', 'frs_cnt',\n",
       "       'fols_cnt', 'fav_cnt', 'tweets_analysed', 'account_age_days',\n",
       "       'ave_acc_tw_day', 'ave_recent_tw_day', 'max_tweet_day',\n",
       "       'ment_tweets_cnt', 'hash_tweets_cnt', 'unique_mentions_cnt',\n",
       "       'unique_hashtags_cnt', 'ment_idx', 'hash_idx', 'rt_ratio', 'mean_urls',\n",
       "       'mean_lenght', 'recent_age_days', 'user_name_len', 'name_len',\n",
       "       'user_name_len_num', 'simil_name', 'descr_len', 'fols_frs_ratio',\n",
       "       'label'],\n",
       "      dtype='object')"
      ]
     },
     "execution_count": 21,
     "metadata": {},
     "output_type": "execute_result"
    }
   ],
   "source": [
    "df_user.columns"
   ]
  },
  {
   "cell_type": "code",
   "execution_count": 22,
   "metadata": {
    "ExecuteTime": {
     "end_time": "2019-12-10T21:41:13.381027Z",
     "start_time": "2019-12-10T21:41:13.375723Z"
    }
   },
   "outputs": [
    {
     "name": "stdout",
     "output_type": "stream",
     "text": [
      "Total Tweets analyzed: 1,492,991\n"
     ]
    }
   ],
   "source": [
    "tot_tweets = int(df_user.tweets_analysed.sum())\n",
    "print(\"Total Tweets analyzed: {:,}\".format(tot_tweets))"
   ]
  },
  {
   "cell_type": "code",
   "execution_count": 23,
   "metadata": {
    "ExecuteTime": {
     "end_time": "2019-12-10T21:41:13.470175Z",
     "start_time": "2019-12-10T21:41:13.465119Z"
    }
   },
   "outputs": [],
   "source": [
    "data = df_user[['fols_frs_ratio', 'rt_ratio', 'max_tweet_day', 'account_age_days', 'label']]"
   ]
  },
  {
   "cell_type": "code",
   "execution_count": 24,
   "metadata": {
    "ExecuteTime": {
     "end_time": "2019-12-10T21:41:27.182224Z",
     "start_time": "2019-12-10T21:41:13.576218Z"
    }
   },
   "outputs": [
    {
     "data": {
      "image/png": "[encoded data removed]",
      "text/plain": [
       "<Figure size 793.18x720 with 20 Axes>"
      ]
     },
     "metadata": {
      "needs_background": "light"
     },
     "output_type": "display_data"
    }
   ],
   "source": [
    "sns.pairplot(data, diag_kind=\"kde\", hue='label');"
   ]
  },
  {
   "cell_type": "markdown",
   "metadata": {},
   "source": [
    "---"
   ]
  },
  {
   "cell_type": "markdown",
   "metadata": {},
   "source": [
    "## Loading Tweets Dataset"
   ]
  },
  {
   "cell_type": "code",
   "execution_count": 25,
   "metadata": {
    "ExecuteTime": {
     "end_time": "2019-12-10T21:41:46.184756Z",
     "start_time": "2019-12-10T21:41:46.054703Z"
    }
   },
   "outputs": [
    {
     "name": "stdout",
     "output_type": "stream",
     "text": [
      "20_tweets_nov_2017.csv             50_user_metrics_final.csv\r\n",
      "30_tweets_nov_2017_final.csv       60_user_metrics_label.csv\r\n",
      "40_user_metrics.csv                df_user_description.csv\r\n",
      "45_user_adit_clean_metrics.csv     select_tweet_feat_description.csv\r\n"
     ]
    }
   ],
   "source": [
    "ls ../data/"
   ]
  },
  {
   "cell_type": "code",
   "execution_count": 26,
   "metadata": {
    "ExecuteTime": {
     "end_time": "2019-12-10T21:42:06.560333Z",
     "start_time": "2019-12-10T21:41:46.684748Z"
    }
   },
   "outputs": [
    {
     "data": {
      "text/plain": [
       "(1601643, 36)"
      ]
     },
     "execution_count": 26,
     "metadata": {},
     "output_type": "execute_result"
    }
   ],
   "source": [
    "tweets = pd.read_csv(\"../data/30_tweets_nov_2017_final.csv\", lineterminator='\\n')\n",
    "tweets.shape"
   ]
  },
  {
   "cell_type": "code",
   "execution_count": 27,
   "metadata": {
    "ExecuteTime": {
     "end_time": "2019-12-10T21:42:07.980430Z",
     "start_time": "2019-12-10T21:42:07.902613Z"
    }
   },
   "outputs": [],
   "source": [
    "del tweets['Unnamed: 0']"
   ]
  },
  {
   "cell_type": "code",
   "execution_count": 28,
   "metadata": {
    "ExecuteTime": {
     "end_time": "2019-12-10T21:42:09.695343Z",
     "start_time": "2019-12-10T21:42:09.455499Z"
    }
   },
   "outputs": [],
   "source": [
    "tweets.description.fillna('', inplace=True)\n",
    "tweets.location.fillna('', inplace=True)"
   ]
  },
  {
   "cell_type": "code",
   "execution_count": 29,
   "metadata": {
    "ExecuteTime": {
     "end_time": "2019-12-10T21:42:14.261452Z",
     "start_time": "2019-12-10T21:42:11.096989Z"
    }
   },
   "outputs": [],
   "source": [
    "tweets['created_at'] = pd.to_datetime(tweets['created_at'], infer_datetime_format = \"%d/%m/%Y\", utc  = False)\n",
    "tweets['acc_creation'] = pd.to_datetime(tweets['acc_creation'], infer_datetime_format = \"%d/%m/%Y\", utc  = False)"
   ]
  },
  {
   "cell_type": "code",
   "execution_count": 30,
   "metadata": {
    "ExecuteTime": {
     "end_time": "2019-12-10T21:42:17.084822Z",
     "start_time": "2019-12-10T21:42:15.615151Z"
    }
   },
   "outputs": [
    {
     "name": "stdout",
     "output_type": "stream",
     "text": [
      "<class 'pandas.core.frame.DataFrame'>\n",
      "RangeIndex: 1601643 entries, 0 to 1601642\n",
      "Data columns (total 35 columns):\n",
      "user_id               1601643 non-null int64\n",
      "user                  1601643 non-null object\n",
      "name                  1601576 non-null object\n",
      "description           1601643 non-null object\n",
      "verified              1601643 non-null bool\n",
      "protected             1601643 non-null bool\n",
      "location              1601643 non-null object\n",
      "lang                  1601643 non-null object\n",
      "followers             1601643 non-null int64\n",
      "following             1601643 non-null int64\n",
      "favourites            1601643 non-null int64\n",
      "lists                 1601643 non-null int64\n",
      "tweets_cnt            1601643 non-null int64\n",
      "acc_creation          1601643 non-null datetime64[ns, UTC]\n",
      "default_profile       1601643 non-null bool\n",
      "default_prof_image    1601643 non-null bool\n",
      "image                 1601643 non-null object\n",
      "text                  1601643 non-null object\n",
      "tweet_id              1601643 non-null int64\n",
      "created_at            1601643 non-null datetime64[ns, UTC]\n",
      "lenght                1601643 non-null int64\n",
      "retweet_cnt           1601643 non-null int64\n",
      "favorite_cnt          1601643 non-null int64\n",
      "reply_to_twt_id       303655 non-null float64\n",
      "reply_to_user         327627 non-null object\n",
      "reply_to_user_id      327627 non-null float64\n",
      "device                1601643 non-null object\n",
      "RT                    1601643 non-null bool\n",
      "Reply                 327627 non-null object\n",
      "retweet_from          1601570 non-null object\n",
      "num_hashtags          1601643 non-null int64\n",
      "num_mentions          1601643 non-null int64\n",
      "num_urls              1601643 non-null int64\n",
      "clean_text            1601643 non-null object\n",
      "day                   1601643 non-null int64\n",
      "dtypes: bool(5), datetime64[ns, UTC](2), float64(2), int64(14), object(12)\n",
      "memory usage: 374.2+ MB\n"
     ]
    }
   ],
   "source": [
    "tweets.info()"
   ]
  },
  {
   "cell_type": "markdown",
   "metadata": {},
   "source": [
    "##  Possible Simple Bots Users Analysis"
   ]
  },
  {
   "cell_type": "code",
   "execution_count": 77,
   "metadata": {
    "ExecuteTime": {
     "end_time": "2019-12-11T19:49:51.657782Z",
     "start_time": "2019-12-11T19:49:51.611522Z"
    }
   },
   "outputs": [
    {
     "data": {
      "text/plain": [
       "(3, 33)"
      ]
     },
     "execution_count": 77,
     "metadata": {},
     "output_type": "execute_result"
    }
   ],
   "source": [
    "simple_bots = df_user[(df_user.acc_verif == 0)\n",
    "                      & (df_user.default_prof_image == 1)\n",
    "                      & ((df_user.default_profile == 1)\n",
    "                         | (df_user.descr_bol == 0))\n",
    "                      & (df_user.max_tweet_day > 72)]\n",
    "simple_bots.shape"
   ]
  },
  {
   "cell_type": "code",
   "execution_count": 78,
   "metadata": {
    "ExecuteTime": {
     "end_time": "2019-12-11T19:49:52.984075Z",
     "start_time": "2019-12-11T19:49:52.959776Z"
    }
   },
   "outputs": [
    {
     "data": {
      "text/html": [
       "<div>\n",
       "<style scoped>\n",
       "    .dataframe tbody tr th:only-of-type {\n",
       "        vertical-align: middle;\n",
       "    }\n",
       "\n",
       "    .dataframe tbody tr th {\n",
       "        vertical-align: top;\n",
       "    }\n",
       "\n",
       "    .dataframe thead th {\n",
       "        text-align: right;\n",
       "    }\n",
       "</style>\n",
       "<table border=\"1\" class=\"dataframe\">\n",
       "  <thead>\n",
       "    <tr style=\"text-align: right;\">\n",
       "      <th></th>\n",
       "      <th>user</th>\n",
       "      <th>default_prof_image</th>\n",
       "      <th>acc_verif</th>\n",
       "      <th>local_bol</th>\n",
       "      <th>default_profile</th>\n",
       "      <th>descr_bol</th>\n",
       "      <th>active_acc</th>\n",
       "      <th>tws_cnt</th>\n",
       "      <th>frs_cnt</th>\n",
       "      <th>fols_cnt</th>\n",
       "      <th>...</th>\n",
       "      <th>mean_urls</th>\n",
       "      <th>mean_lenght</th>\n",
       "      <th>recent_age_days</th>\n",
       "      <th>user_name_len</th>\n",
       "      <th>name_len</th>\n",
       "      <th>user_name_len_num</th>\n",
       "      <th>simil_name</th>\n",
       "      <th>descr_len</th>\n",
       "      <th>fols_frs_ratio</th>\n",
       "      <th>label</th>\n",
       "    </tr>\n",
       "  </thead>\n",
       "  <tbody>\n",
       "    <tr>\n",
       "      <th>1381</th>\n",
       "      <td>fedoraletelier</td>\n",
       "      <td>1</td>\n",
       "      <td>0</td>\n",
       "      <td>0</td>\n",
       "      <td>1</td>\n",
       "      <td>0</td>\n",
       "      <td>1</td>\n",
       "      <td>215069</td>\n",
       "      <td>1886</td>\n",
       "      <td>2242</td>\n",
       "      <td>...</td>\n",
       "      <td>0</td>\n",
       "      <td>136</td>\n",
       "      <td>28</td>\n",
       "      <td>14</td>\n",
       "      <td>14</td>\n",
       "      <td>0</td>\n",
       "      <td>100</td>\n",
       "      <td>0</td>\n",
       "      <td>1</td>\n",
       "      <td>mid_freq</td>\n",
       "    </tr>\n",
       "    <tr>\n",
       "      <th>6148</th>\n",
       "      <td>Aliciacarafipl3</td>\n",
       "      <td>1</td>\n",
       "      <td>0</td>\n",
       "      <td>0</td>\n",
       "      <td>1</td>\n",
       "      <td>0</td>\n",
       "      <td>1</td>\n",
       "      <td>25781</td>\n",
       "      <td>113</td>\n",
       "      <td>200</td>\n",
       "      <td>...</td>\n",
       "      <td>0</td>\n",
       "      <td>140</td>\n",
       "      <td>29</td>\n",
       "      <td>15</td>\n",
       "      <td>20</td>\n",
       "      <td>1</td>\n",
       "      <td>78</td>\n",
       "      <td>0</td>\n",
       "      <td>2</td>\n",
       "      <td>mid_freq</td>\n",
       "    </tr>\n",
       "    <tr>\n",
       "      <th>13523</th>\n",
       "      <td>Dolores09072598</td>\n",
       "      <td>1</td>\n",
       "      <td>0</td>\n",
       "      <td>0</td>\n",
       "      <td>1</td>\n",
       "      <td>0</td>\n",
       "      <td>1</td>\n",
       "      <td>96</td>\n",
       "      <td>300</td>\n",
       "      <td>28</td>\n",
       "      <td>...</td>\n",
       "      <td>0</td>\n",
       "      <td>129</td>\n",
       "      <td>27</td>\n",
       "      <td>15</td>\n",
       "      <td>13</td>\n",
       "      <td>8</td>\n",
       "      <td>67</td>\n",
       "      <td>0</td>\n",
       "      <td>0</td>\n",
       "      <td>mid_freq</td>\n",
       "    </tr>\n",
       "  </tbody>\n",
       "</table>\n",
       "<p>3 rows × 33 columns</p>\n",
       "</div>"
      ],
      "text/plain": [
       "                  user  default_prof_image  acc_verif  local_bol  \\\n",
       "1381    fedoraletelier                   1          0          0   \n",
       "6148   Aliciacarafipl3                   1          0          0   \n",
       "13523  Dolores09072598                   1          0          0   \n",
       "\n",
       "       default_profile  descr_bol  active_acc  tws_cnt  frs_cnt  fols_cnt  \\\n",
       "1381                 1          0           1   215069     1886      2242   \n",
       "6148                 1          0           1    25781      113       200   \n",
       "13523                1          0           1       96      300        28   \n",
       "\n",
       "       ...  mean_urls  mean_lenght  recent_age_days  user_name_len  name_len  \\\n",
       "1381   ...          0          136               28             14        14   \n",
       "6148   ...          0          140               29             15        20   \n",
       "13523  ...          0          129               27             15        13   \n",
       "\n",
       "       user_name_len_num  simil_name  descr_len  fols_frs_ratio     label  \n",
       "1381                   0         100          0               1  mid_freq  \n",
       "6148                   1          78          0               2  mid_freq  \n",
       "13523                  8          67          0               0  mid_freq  \n",
       "\n",
       "[3 rows x 33 columns]"
      ]
     },
     "execution_count": 78,
     "metadata": {},
     "output_type": "execute_result"
    }
   ],
   "source": [
    "simple_bots"
   ]
  },
  {
   "cell_type": "code",
   "execution_count": 79,
   "metadata": {
    "ExecuteTime": {
     "end_time": "2019-12-11T19:49:54.384626Z",
     "start_time": "2019-12-11T19:49:54.381374Z"
    }
   },
   "outputs": [],
   "source": [
    "simple_bots_users_lst = list(simple_bots.user)"
   ]
  },
  {
   "cell_type": "code",
   "execution_count": 80,
   "metadata": {
    "ExecuteTime": {
     "end_time": "2019-12-11T19:49:55.836605Z",
     "start_time": "2019-12-11T19:49:55.831916Z"
    }
   },
   "outputs": [
    {
     "data": {
      "text/plain": [
       "['fedoraletelier', 'Aliciacarafipl3', 'Dolores09072598']"
      ]
     },
     "execution_count": 80,
     "metadata": {},
     "output_type": "execute_result"
    }
   ],
   "source": [
    "simple_bots_users_lst"
   ]
  },
  {
   "cell_type": "code",
   "execution_count": 81,
   "metadata": {
    "ExecuteTime": {
     "end_time": "2019-12-11T19:50:01.388107Z",
     "start_time": "2019-12-11T19:49:57.142965Z"
    },
    "scrolled": false
   },
   "outputs": [
    {
     "name": "stdout",
     "output_type": "stream",
     "text": [
      "\n",
      "Info Data for @fedoraletelier\n",
      "\n",
      "Name:                       fedoraletelier\n",
      "Name Length:                14\n",
      "@user number Numeric Chars: 0\n",
      "@user and name similarity:  0\n",
      "User Id:                    2465345439\n",
      "Default_Photo:              True\n",
      "Photo URL:                  http://abs.twimg.com/sticky/default_profile_images/default_profile_normal.png\n",
      "Acc Verified:               False\n",
      "Has Location:               False\n",
      "Location:                   \n",
      "default_profile:            True\n",
      "Has Description:            False\n",
      "Description:                \n",
      "Description length:         0\n",
      "Account Active:             Active\n",
      "\n",
      "Number of Tweets analyzed:          690\n",
      "Last Tweet:                         2017-11-29T19:27:32.000000000\n",
      "Older Tweet Analyzed:               2017-10-31T23:07:51.000000000\n",
      "Account Active age (in days)        1,333.0\n",
      "Average recent tweets per day:      24.64\n",
      "Maximum Recent Tweets Per Day:      85 at day 29\n",
      "Average tweets per day since start: 161.34\n",
      "Total Tweets since start:           215,069\n",
      "Followers_count:                    2,242\n",
      "Friends_following_count             1,886\n",
      "Followers/Following_index:          1.19\n",
      "Favourites (Like) count:            156,764\n",
      "Retweet_Like_index:                 0.0\n",
      "Retweet Ratio:                      43%\n",
      "unique mentions cnt:                325\n",
      "Mention Ratio:                      70%\n",
      "Mention index:                      0.16\n",
      "unique hashtags cnt:                50\n",
      "Hashtag Ratio:                      49%\n",
      "Hashtag Index:                      0.1\n",
      "Average URLs per tweet:             0.45\n",
      "Average text length per tweet:      137.0\n",
      "\n",
      " \t[Tweets Sample at Peak Day] \n",
      " 1429686    RT @Carmen_muller: @aldocardinali Guillier ha ...\n",
      "1431240    RT @supernovaf_1000: #EstonoesPlazaItalia @Mov...\n",
      "1433787    RT @Carmen_muller: @PadresPartSubv @mbachelet ...\n",
      "1433812    RT @SoniaSHernandez: @PadresPartSubv @mbachele...\n",
      "1435809    RT @Bella_DiGenaro: Extra! Extra! Me acaban de...\n",
      "1435834    RT @klaudiaunik: @Bella_DiGenaro @guillier @je...\n",
      "1435873    RT @Sirius4321: @Bella_DiGenaro @Makeka @guill...\n",
      "1436465    RT @supernovaf_1000: #Cadem @guillier MIENTE N...\n",
      "1439928    RT @alecabanast: @Commander_SB @anzunza @sebas...\n",
      "1461708    RT @aeristac: @armandoredondo1 @aggrezgmailcom...\n",
      "Name: text, dtype: object\n"
     ]
    },
    {
     "data": {
      "image/png": "[encoded data removed]",
      "text/plain": [
       "<Figure size 720x288 with 1 Axes>"
      ]
     },
     "metadata": {
      "needs_background": "light"
     },
     "output_type": "display_data"
    }
   ],
   "source": [
    "user_name = 'fedoraletelier'\n",
    "tw_day, metrics, mentions, hastags = get_info_data(tweets, user_name, prt=True)"
   ]
  },
  {
   "cell_type": "code",
   "execution_count": 82,
   "metadata": {
    "ExecuteTime": {
     "end_time": "2019-12-11T19:50:15.797242Z",
     "start_time": "2019-12-11T19:50:12.536452Z"
    },
    "scrolled": false
   },
   "outputs": [
    {
     "name": "stdout",
     "output_type": "stream",
     "text": [
      "\n",
      "Info Data for @Aliciacarafipl3\n",
      "\n",
      "Name:                       Aliciacarafiplanella\n",
      "Name Length:                20\n",
      "@user number Numeric Chars: 1\n",
      "@user and name similarity:  0\n",
      "User Id:                    801131674402701312\n",
      "Default_Photo:              True\n",
      "Photo URL:                  http://abs.twimg.com/sticky/default_profile_images/default_profile_normal.png\n",
      "Acc Verified:               False\n",
      "Has Location:               False\n",
      "Location:                   \n",
      "default_profile:            True\n",
      "Has Description:            False\n",
      "Description:                \n",
      "Description length:         0\n",
      "Account Active:             Active\n",
      "\n",
      "Number of Tweets analyzed:          747\n",
      "Last Tweet:                         2017-11-30T22:22:11.000000000\n",
      "Older Tweet Analyzed:               2017-11-01T21:52:14.000000000\n",
      "Account Active age (in days)        373.0\n",
      "Average recent tweets per day:      25.76\n",
      "Maximum Recent Tweets Per Day:      78 at day 6\n",
      "Average tweets per day since start: 69.12\n",
      "Total Tweets since start:           25,781\n",
      "Followers_count:                    200\n",
      "Friends_following_count             113\n",
      "Followers/Following_index:          1.77\n",
      "Favourites (Like) count:            13,595\n",
      "Retweet_Like_index:                 0.0\n",
      "Retweet Ratio:                      96%\n",
      "unique mentions cnt:                622\n",
      "Mention Ratio:                      100%\n",
      "Mention index:                      0.27\n",
      "unique hashtags cnt:                96\n",
      "Hashtag Ratio:                      19%\n",
      "Hashtag Index:                      0.5\n",
      "Average URLs per tweet:             0.15\n",
      "Average text length per tweet:      140.0\n",
      "\n",
      " \t[Tweets Sample at Peak Day] \n",
      " 144348    RT @LuisJValdivia: El problema de Guillier no ...\n",
      "149179    RT @cla141966: #Tolerancia0 Guillier \"estoy en...\n",
      "149241    RT @pablolirar: Villegas se está paseando a Gu...\n",
      "149269    RT @joseotero78: Guillier no tiene respaldo. E...\n",
      "149374    RT @pablolirar: Jajajaja @Guillier dice que su...\n",
      "149443    RT @joseotero78: Guillier dice que Chile crece...\n",
      "149530    RT @pablolirar: .@Guillier:\"Chile es el país n...\n",
      "149716    RT @joseotero78: Mas de lo mismo! Guillier es ...\n",
      "149776    RT @Regia_Pam: @Claunubed @guillier Esta noche...\n",
      "149827    RT @joseantoniokast: .@guillier dice que soy u...\n",
      "Name: text, dtype: object\n"
     ]
    },
    {
     "data": {
      "image/png": "[encoded data removed]",
      "text/plain": [
       "<Figure size 720x288 with 1 Axes>"
      ]
     },
     "metadata": {
      "needs_background": "light"
     },
     "output_type": "display_data"
    }
   ],
   "source": [
    "user_name = 'Aliciacarafipl3'\n",
    "tw_day, metrics, mentions, hastags = get_info_data(tweets, 'Aliciacarafipl3', ver_act=True, prt=True)"
   ]
  },
  {
   "cell_type": "code",
   "execution_count": 83,
   "metadata": {
    "ExecuteTime": {
     "end_time": "2019-12-11T19:50:28.595666Z",
     "start_time": "2019-12-11T19:50:25.331809Z"
    },
    "scrolled": false
   },
   "outputs": [
    {
     "name": "stdout",
     "output_type": "stream",
     "text": [
      "\n",
      "Info Data for @Dolores09072598\n",
      "\n",
      "Name:                       Dolores Nunez\n",
      "Name Length:                13\n",
      "@user number Numeric Chars: 8\n",
      "@user and name similarity:  0\n",
      "User Id:                    874119200205418497\n",
      "Default_Photo:              True\n",
      "Photo URL:                  http://abs.twimg.com/sticky/default_profile_images/default_profile_normal.png\n",
      "Acc Verified:               False\n",
      "Has Location:               False\n",
      "Location:                   \n",
      "default_profile:            True\n",
      "Has Description:            False\n",
      "Description:                \n",
      "Description length:         0\n",
      "Account Active:             Active\n",
      "\n",
      "Number of Tweets analyzed:          431\n",
      "Last Tweet:                         2017-11-30T18:54:12.000000000\n",
      "Older Tweet Analyzed:               2017-11-03T04:13:46.000000000\n",
      "Account Active age (in days)        171.0\n",
      "Average recent tweets per day:      15.96\n",
      "Maximum Recent Tweets Per Day:      113 at day 23\n",
      "Average tweets per day since start: 0.56\n",
      "Total Tweets since start:           96\n",
      "Followers_count:                    28\n",
      "Friends_following_count             300\n",
      "Followers/Following_index:          0.09\n",
      "Favourites (Like) count:            26\n",
      "Retweet_Like_index:                 0.0\n",
      "Retweet Ratio:                      100%\n",
      "unique mentions cnt:                384\n",
      "Mention Ratio:                      100%\n",
      "Mention index:                      0.44\n",
      "unique hashtags cnt:                79\n",
      "Hashtag Ratio:                      28%\n",
      "Hashtag Index:                      0.49\n",
      "Average URLs per tweet:             0.14\n",
      "Average text length per tweet:      129.0\n",
      "\n",
      " \t[Tweets Sample at Peak Day] \n",
      " 1017117    RT @KiltroKaniechna: Quiero que gane Guillier,...\n",
      "1017327    RT @pupi_oyanedel: Solo quiero a @guillier Pre...\n",
      "1018146    RT @simonaxm: #LasCarasDeLaMoneda\\n#GuillierGi...\n",
      "1018208    RT @T13: 🔶 #LasCarasdelaMoneda | @guillier: \"L...\n",
      "1018312    RT @JovenesGuillier: Razones sobran, #SúmateAG...\n",
      "1018366    RT @BelaAnjali: @aguilo_sergio @danieljadue @c...\n",
      "1018399    RT @lufernavi: @sebasantanders @camila_vallejo...\n",
      "1019101    RT @ChristianPolo7: #LasCarasDeLaMoneda Guilli...\n",
      "1019631    RT @lorpalomita: @cron1411 @Coke92 Por 💌 a @mb...\n",
      "1020345    RT @CARLOURREA: Vamos Alejandro Guillier. Todo...\n",
      "Name: text, dtype: object\n"
     ]
    },
    {
     "data": {
      "image/png": "[encoded data removed]",
      "text/plain": [
       "<Figure size 720x288 with 1 Axes>"
      ]
     },
     "metadata": {
      "needs_background": "light"
     },
     "output_type": "display_data"
    }
   ],
   "source": [
    "user_name = 'Dolores09072598'\n",
    "tw_day, metrics, mentions, hastags = get_info_data(tweets, user_name, ver_act=True, prt=True)"
   ]
  },
  {
   "cell_type": "markdown",
   "metadata": {},
   "source": [
    "### Testing users with Botometer"
   ]
  },
  {
   "cell_type": "raw",
   "metadata": {},
   "source": [
    "Example of the retured data from Botometer API:\n",
    "\n",
    "{'cap': {'english': 0.00682617488477388, 'universal': 0.005778300973814037},\n",
    " 'categories': {'content': 0.2476527136758392,\n",
    "  'friend': 0.12674184134165853,\n",
    "  'network': 0.15895834190828398,\n",
    "  'sentiment': 0.543862209254484,\n",
    "  'temporal': 0.37028306775020287,\n",
    "  'user': 0.187396140641633},\n",
    " 'display_scores': \n",
    " {'content': 1.2,\n",
    "  'english': 0.7,\n",
    "  'friend': 0.6,\n",
    "  'network': 0.8,\n",
    "  'sentiment': 2.7,\n",
    "  'temporal': 1.9,\n",
    "  'universal': 0.6,\n",
    "  'user': 0.9},\n",
    " 'scores': {'english': 0.14589765727494236, 'universal': 0.11956986651967942},\n",
    " 'user': {'id_str': '1958671394', 'screen_name': 'mjrovai'}}"
   ]
  },
  {
   "cell_type": "code",
   "execution_count": 47,
   "metadata": {
    "ExecuteTime": {
     "end_time": "2019-11-19T18:05:39.129133Z",
     "start_time": "2019-11-19T18:05:39.125290Z"
    }
   },
   "outputs": [
    {
     "data": {
      "text/plain": [
       "['fedoraletelier', 'Aliciacarafipl3', 'Dolores09072598']"
      ]
     },
     "execution_count": 47,
     "metadata": {},
     "output_type": "execute_result"
    }
   ],
   "source": [
    "simple_bots_users_lst"
   ]
  },
  {
   "cell_type": "code",
   "execution_count": 48,
   "metadata": {
    "ExecuteTime": {
     "end_time": "2019-11-19T18:05:50.545660Z",
     "start_time": "2019-11-19T18:05:40.914305Z"
    }
   },
   "outputs": [
    {
     "name": "stdout",
     "output_type": "stream",
     "text": [
      "\n",
      "Info Data for @fedoraletelier\n",
      "\n",
      "User Id:      2465345439\n",
      "Score_eng:    0.1807672693005155\n",
      "Score_unl:    0.300816711527256\n",
      "CAP_eng:      0.009922300094567935\n",
      "CAP_unl:      0.030450444848239933\n",
      "\n",
      "Categories:\n",
      "Friend:      0.16863713142666406\n",
      "Network:     0.598331807262351\n",
      "Sentiment:   0.07214003430676995\n",
      "Temporal:    0.5682806832825182\n",
      "User:        0.28373979742013616\n",
      "\n",
      "Probability of @fedoraletelier be a bot is 30%\n"
     ]
    }
   ],
   "source": [
    "result = get_botometer_details('fedoraletelier')"
   ]
  },
  {
   "cell_type": "code",
   "execution_count": 50,
   "metadata": {
    "ExecuteTime": {
     "end_time": "2019-11-19T20:42:14.314725Z",
     "start_time": "2019-11-19T20:42:05.954662Z"
    }
   },
   "outputs": [
    {
     "name": "stdout",
     "output_type": "stream",
     "text": [
      "\n",
      "Info Data for @Aliciacarafipl3\n",
      "\n",
      "User Id:      801131674402701312\n",
      "Score_eng:    0.23688377651035014\n",
      "Score_unl:    0.25152334764543\n",
      "CAP_eng:      0.016566752245969804\n",
      "CAP_unl:      0.021041094138717433\n",
      "\n",
      "Categories:\n",
      "Friend:      0.12674184134165853\n",
      "Network:     0.2575411738142534\n",
      "Sentiment:   0.07672623520232581\n",
      "Temporal:    0.5222044276574785\n",
      "User:        0.17590968866172144\n",
      "\n",
      "Probability of @Aliciacarafipl3 be a bot is 25%\n"
     ]
    }
   ],
   "source": [
    "result = get_botometer_details('Aliciacarafipl3')"
   ]
  },
  {
   "cell_type": "code",
   "execution_count": 53,
   "metadata": {
    "ExecuteTime": {
     "end_time": "2019-11-19T21:13:59.647621Z",
     "start_time": "2019-11-19T21:13:59.213012Z"
    }
   },
   "outputs": [
    {
     "name": "stdout",
     "output_type": "stream",
     "text": [
      "Dolores09072598 is not a Twitter user or is blocked\n"
     ]
    }
   ],
   "source": [
    "result = get_botometer_details('Dolores09072598')"
   ]
  },
  {
   "cell_type": "markdown",
   "metadata": {},
   "source": [
    "## Analyze Hi Frequency \"Non-Verified\" Users"
   ]
  },
  {
   "cell_type": "code",
   "execution_count": 84,
   "metadata": {
    "ExecuteTime": {
     "end_time": "2019-12-11T19:51:01.615363Z",
     "start_time": "2019-12-11T19:51:01.599419Z"
    }
   },
   "outputs": [
    {
     "data": {
      "text/plain": [
       "low_freq     89959\n",
       "mid_freq       798\n",
       "high_freq      397\n",
       "Name: label, dtype: int64"
      ]
     },
     "execution_count": 84,
     "metadata": {},
     "output_type": "execute_result"
    }
   ],
   "source": [
    "df_user.label.value_counts()"
   ]
  },
  {
   "cell_type": "code",
   "execution_count": 85,
   "metadata": {
    "ExecuteTime": {
     "end_time": "2019-12-11T19:51:03.678142Z",
     "start_time": "2019-12-11T19:51:03.636028Z"
    }
   },
   "outputs": [
    {
     "data": {
      "text/plain": [
       "(356, 33)"
      ]
     },
     "execution_count": 85,
     "metadata": {},
     "output_type": "execute_result"
    }
   ],
   "source": [
    "hi_freq_users = df_user[(df_user.acc_verif == 0)\n",
    "                      & (df_user.label == 'high_freq')]\n",
    "hi_freq_users.shape"
   ]
  },
  {
   "cell_type": "code",
   "execution_count": 86,
   "metadata": {
    "ExecuteTime": {
     "end_time": "2019-12-11T19:51:04.954113Z",
     "start_time": "2019-12-11T19:51:04.951006Z"
    }
   },
   "outputs": [],
   "source": [
    "hi_freq_users_lst = list(hi_freq_users.user)"
   ]
  },
  {
   "cell_type": "code",
   "execution_count": 87,
   "metadata": {
    "ExecuteTime": {
     "end_time": "2019-12-11T19:51:42.309939Z",
     "start_time": "2019-12-11T19:51:06.192012Z"
    }
   },
   "outputs": [],
   "source": [
    "hi_freq_users_order_lst = get_max_tweet_day(tweets, hi_freq_users_lst)"
   ]
  },
  {
   "cell_type": "code",
   "execution_count": 88,
   "metadata": {
    "ExecuteTime": {
     "end_time": "2019-12-11T19:51:43.666692Z",
     "start_time": "2019-12-11T19:51:43.649614Z"
    }
   },
   "outputs": [
    {
     "data": {
      "text/plain": [
       "[('AlbertoMayol', 5163),\n",
       " ('Tomaskovacic', 1962),\n",
       " ('lagosweber', 1752),\n",
       " ('NelsonCL28', 1669),\n",
       " ('MaxValdesC', 1605),\n",
       " ('paulfontaineb', 1407),\n",
       " ('NachoOrtega', 1362),\n",
       " ('robertoampuero', 1294),\n",
       " ('suberca', 1263),\n",
       " ('Monojacoby', 1237),\n",
       " ('sergioulloa1', 1205),\n",
       " ('lcruzcoke', 1195),\n",
       " ('albertoespina', 1139),\n",
       " ('gransopi', 1128),\n",
       " ('Movilh', 1123),\n",
       " ('illapu', 1119),\n",
       " ('Flavioqr', 1111),\n",
       " ('marcatuvoto', 1103),\n",
       " ('GmoRamirez', 1102),\n",
       " ('tere_marinovic', 1082),\n",
       " ('KarlaEnAccion', 1062),\n",
       " ('DraJuguete37', 1014),\n",
       " ('dmimica', 986),\n",
       " ('DValdebenitoA', 984),\n",
       " ('hernan_sr', 976),\n",
       " ('manuelotec', 974),\n",
       " ('T13valpo', 905),\n",
       " ('CarlosAmpuero', 866),\n",
       " ('la_tera_vive', 857),\n",
       " ('cesarioncamilo', 854),\n",
       " ('EstoyConPinera', 848),\n",
       " ('andres20der', 842),\n",
       " ('Patolinsky', 831),\n",
       " ('GiorgioJackson', 830),\n",
       " ('S_riesenberg', 826),\n",
       " ('Ange_GossowF', 820),\n",
       " ('jocanavarro', 800),\n",
       " ('Dane_BS', 791),\n",
       " ('carlitos_huerta', 772),\n",
       " ('AhUeOnAdO', 749),\n",
       " ('EncuestaExpress', 748),\n",
       " ('jgalemparte', 735),\n",
       " ('Chile_Alerta', 698),\n",
       " ('PiensaPrensa', 688),\n",
       " ('el_dinamo', 682),\n",
       " ('Endo_Errante', 679),\n",
       " ('rizikson', 671),\n",
       " ('nmonckeberg', 669),\n",
       " ('pablolirar', 658),\n",
       " ('andreschadwickp', 647),\n",
       " ('EYN_ELMERCURIO', 642),\n",
       " ('ProvosteYasna', 633),\n",
       " ('schwarzpablo', 629),\n",
       " ('chunchitomauro', 627),\n",
       " ('soychilecl', 620),\n",
       " ('ivan_vitta', 607),\n",
       " ('thecliniccl', 606),\n",
       " ('Chains1984', 606),\n",
       " ('PATRICIOACHURRA', 603),\n",
       " ('Fran_Bittner_G', 599),\n",
       " ('clarroulet', 594),\n",
       " ('waldocarrasco', 588),\n",
       " ('paulinanu', 586),\n",
       " ('PDC_Chile', 580),\n",
       " ('Carolaistop', 577),\n",
       " ('rbascu1', 539),\n",
       " ('daniel_nunez_a', 538),\n",
       " ('miguelhuerta32', 536),\n",
       " ('mechitasdeclavo', 531),\n",
       " ('mauriciofica', 528),\n",
       " ('adiosbachelet', 526),\n",
       " ('Makeka', 523),\n",
       " ('corrupcionchile', 521),\n",
       " ('lufernavi', 518),\n",
       " ('Pedrote42680211', 507),\n",
       " ('pelaogalaz', 503),\n",
       " ('HinchaPuma', 501),\n",
       " ('CristianTomas_', 491),\n",
       " ('cmdelgadov', 491),\n",
       " ('TANACHILE', 488),\n",
       " ('Ale_Basulto', 485),\n",
       " ('AValdiviesoVera', 485),\n",
       " ('treintona_cl', 483),\n",
       " ('Ledronico', 479),\n",
       " ('ETESASU', 478),\n",
       " ('Ob_electoralUDP', 478),\n",
       " ('jtgazmuri', 476),\n",
       " ('ViviAzocarSaez', 474),\n",
       " ('laviedej', 472),\n",
       " ('LadronicoLuksic', 470),\n",
       " ('ahenriquezsepu1', 469),\n",
       " ('chechohirane', 463),\n",
       " ('Regia_Pam', 461),\n",
       " ('caprisandra', 460),\n",
       " ('el_toppin', 460),\n",
       " ('tatanpiragua', 454),\n",
       " ('desenfoque', 446),\n",
       " ('ja9_albarran', 439),\n",
       " ('maxcolodro', 436),\n",
       " ('JPMirandaM', 434),\n",
       " ('supernovaf_1000', 433),\n",
       " ('SEBASMUGEN', 430),\n",
       " ('pulso_said', 426),\n",
       " ('panchodagnino', 423),\n",
       " ('Karolcariola', 419),\n",
       " ('SoleAitkenP', 418),\n",
       " ('ObservatorioDmc', 415),\n",
       " ('demavile', 410),\n",
       " ('DigitalGuillier', 410),\n",
       " ('PepaHoffmann', 407),\n",
       " ('mnetcl', 404),\n",
       " ('GabyotaBravo', 402),\n",
       " ('DiabloSantus', 400),\n",
       " ('El_Palestino1', 391),\n",
       " ('cvaloor', 388),\n",
       " ('mirkomacari', 388),\n",
       " ('aguilo_sergio', 387),\n",
       " ('flaviodiazbrion', 386),\n",
       " ('MujeresGuillier', 385),\n",
       " ('LucasPalaciosC', 383),\n",
       " ('jaimepenah', 379),\n",
       " ('labeasanchez', 379),\n",
       " ('PatoRuizz', 376),\n",
       " ('Fdezmarchant', 376),\n",
       " ('Cristinajose', 372),\n",
       " ('caco_villaLTA', 366),\n",
       " ('CeciliaPinera', 365),\n",
       " ('EstudioOsorno', 363),\n",
       " ('stebanet77', 361),\n",
       " ('aliochak', 356),\n",
       " ('PCdeChile', 354),\n",
       " ('RDemocratica', 350),\n",
       " ('PanchoTroncoso', 348),\n",
       " ('momiofobico', 348),\n",
       " ('nicorios', 343),\n",
       " ('mcarrasco_ma', 340),\n",
       " ('mmccarquitecta', 337),\n",
       " ('chileno_chato', 334),\n",
       " ('Atria_Diputado', 333),\n",
       " ('pau_liiina', 332),\n",
       " ('leivarojas', 329),\n",
       " ('michaelmullers', 329),\n",
       " ('RealCarlos1234', 327),\n",
       " ('MVMNews', 325),\n",
       " ('rmeryd', 325),\n",
       " ('El_Exorcista_', 324),\n",
       " ('tomasechiburu', 321),\n",
       " ('piperivas', 318),\n",
       " ('Tinnnto', 317),\n",
       " ('FelipeEsbir', 316),\n",
       " ('RicardoRaineriB', 316),\n",
       " ('pellegrini_jj', 316),\n",
       " ('PaulaMendoza', 315),\n",
       " ('cbellolio', 315),\n",
       " ('isabelpla', 314),\n",
       " ('carlosmullerb', 313),\n",
       " ('andresmb', 312),\n",
       " ('chileno_soy', 311),\n",
       " ('radiolaclave', 309),\n",
       " ('pschile', 307),\n",
       " ('ja_richards', 305),\n",
       " ('lacuarta_jorge', 304),\n",
       " ('MauricioRojasmr', 302),\n",
       " ('Vale_negri', 301),\n",
       " ('berfontaine', 294),\n",
       " ('Budoia2005', 293),\n",
       " ('NOmasAFP', 293),\n",
       " ('editordelmedio', 292),\n",
       " ('FresiaPavez1', 291),\n",
       " ('_Aqueleyoyo', 289),\n",
       " ('jjcc_chile', 289),\n",
       " ('gcorderomendoza', 288),\n",
       " ('barbarabricenok', 286),\n",
       " ('Valpo2001', 283),\n",
       " ('etoledog', 282),\n",
       " ('VoxPublicaCL', 281),\n",
       " ('MarciaVargasS', 280),\n",
       " ('fiesta_cerveza', 280),\n",
       " ('koelner_haie', 277),\n",
       " ('andreamolina_o', 276),\n",
       " ('MielyMerken', 275),\n",
       " ('mtamayor', 273),\n",
       " ('GonzaloGuajardo', 272),\n",
       " ('Galolivares', 270),\n",
       " ('AldoLema_cl', 269),\n",
       " ('ESantelicesC', 269),\n",
       " ('EnduBiker', 268),\n",
       " ('medicenelmono', 268),\n",
       " ('FeSandovalC', 268),\n",
       " ('bellechatmiumiu', 267),\n",
       " ('joven_y_alocada', 267),\n",
       " ('fermin_ricardo', 266),\n",
       " ('RojoEdwards', 264),\n",
       " ('jisamit', 262),\n",
       " ('acciongay', 257),\n",
       " ('CholoAlonzo', 255),\n",
       " ('hectorespinozam', 248),\n",
       " ('biobiodeportes', 248),\n",
       " ('ParancibiaZ', 247),\n",
       " ('jorgeerrazuriz', 245),\n",
       " ('eljanovega', 245),\n",
       " ('Cumparini', 244),\n",
       " ('jornacio', 243),\n",
       " ('Eldesoto', 241),\n",
       " ('abalosfelipe', 240),\n",
       " ('R_Contreras', 238),\n",
       " ('Clara_Bella_', 237),\n",
       " ('rodolfopereze', 235),\n",
       " ('siquieresmelees', 234),\n",
       " ('NataliaDucoSole', 232),\n",
       " ('PULSO_GPierola', 231),\n",
       " ('perezlahsen', 230),\n",
       " ('solemar7uk', 229),\n",
       " ('_Dimelo_Bonito', 229),\n",
       " ('PelayoVergara', 229),\n",
       " ('Claudiopardoa', 228),\n",
       " ('Cesar_Antonio_F', 227),\n",
       " ('gvaldescaris', 226),\n",
       " ('carlosmontestwt', 225),\n",
       " ('ericahenriquezo', 224),\n",
       " ('g35_pdc', 224),\n",
       " ('ElArkano13', 224),\n",
       " ('merlupingui', 224),\n",
       " ('Anonymiss_CL', 224),\n",
       " ('AlfonsoRC81', 219),\n",
       " ('eltetera', 219),\n",
       " ('erikaoliverad', 219),\n",
       " ('YoSoyPando', 217),\n",
       " ('Dani_CabreraC', 217),\n",
       " ('RNchile', 216),\n",
       " ('cler0701', 215),\n",
       " ('spineram', 215),\n",
       " ('aceballospdc', 213),\n",
       " ('PatriciaCastr36', 213),\n",
       " ('CadenaChile', 213),\n",
       " ('IgnacioIriarte', 213),\n",
       " ('Danielavy', 212),\n",
       " ('CornejoSenador', 212),\n",
       " ('NachoRojasC', 210),\n",
       " ('goveme', 210),\n",
       " ('KEspindola', 209),\n",
       " ('senadornavarro', 208),\n",
       " ('lfelipzuniga', 207),\n",
       " ('Ari_ohlala', 207),\n",
       " ('GalloDeSocrates', 206),\n",
       " ('YahiraUrra', 205),\n",
       " ('Desiree_nq', 205),\n",
       " ('eblesmancer', 204),\n",
       " ('joseluis5150', 204),\n",
       " ('JHenriquezPRO', 204),\n",
       " ('cmonckeberg', 204),\n",
       " ('uchileradio', 203),\n",
       " ('piaadriasola', 203),\n",
       " ('SIEBELIS', 202),\n",
       " ('danialmond', 201),\n",
       " ('paulipavic', 201),\n",
       " ('VeronicG__', 198),\n",
       " ('aeristac', 198),\n",
       " ('carenatre', 197),\n",
       " ('suarezmfelipe', 196),\n",
       " ('EquipoKast', 195),\n",
       " ('Sumate_Guillier', 195),\n",
       " ('CcarvajalA2012', 194),\n",
       " ('franbonitayrica', 194),\n",
       " ('LyaGonzalez1', 193),\n",
       " ('guarencilla', 193),\n",
       " ('mriesco', 192),\n",
       " ('historiador56', 191),\n",
       " ('claudionarea', 191),\n",
       " ('rafaelgumucioa', 191),\n",
       " ('IvanOlguin', 190),\n",
       " ('AxelUndurraga', 186),\n",
       " ('eugeforestal', 186),\n",
       " ('_Ingenio', 186),\n",
       " ('PamelaJuanita', 186),\n",
       " ('TihareONegative', 186),\n",
       " ('michellenomasab', 185),\n",
       " ('Commander_SB', 185),\n",
       " ('Chucurumbito', 184),\n",
       " ('MariaMarulina14', 184),\n",
       " ('AF_Medina', 183),\n",
       " ('soytemuco', 183),\n",
       " ('sergmujica', 182),\n",
       " ('AtacamaEnMarcha', 181),\n",
       " ('solgensen', 181),\n",
       " ('fachorodriguez', 180),\n",
       " ('Eneatipo7', 179),\n",
       " ('jocaressm', 178),\n",
       " ('Encuestas_Full', 177),\n",
       " ('AlexRodriguezVe', 176),\n",
       " ('jmartinez_a', 176),\n",
       " ('FelipeAlegreJ', 174),\n",
       " ('mahnsa', 173),\n",
       " ('MarielaArayaO', 172),\n",
       " ('sanchezluengo', 172),\n",
       " ('KidGuilty', 172),\n",
       " ('lacuarta', 172),\n",
       " ('mariostappung', 171),\n",
       " ('PedroDavisU', 171),\n",
       " ('JohnGaltCL', 171),\n",
       " ('1982_vito46', 170),\n",
       " ('MarceloJusticia', 170),\n",
       " ('colmedchile', 170),\n",
       " ('lvillavicenciom', 170),\n",
       " ('Carlossassarini', 168),\n",
       " ('EmolTV', 167),\n",
       " ('jandresgn', 166),\n",
       " ('CarlosECA', 166),\n",
       " ('cleovar', 166),\n",
       " ('betojandro', 165),\n",
       " ('NathalySeplved3', 165),\n",
       " ('kennethbunker', 164),\n",
       " ('LuisHernanCeron', 163),\n",
       " ('ocacchile', 163),\n",
       " ('RResponsablecl', 162),\n",
       " ('ribago', 162),\n",
       " ('gabygonzalezf', 162),\n",
       " ('RobertBassets', 161),\n",
       " ('soledadalvear', 161),\n",
       " ('notix_cl', 161),\n",
       " ('patasho', 161),\n",
       " ('GonzaloWMS', 160),\n",
       " ('Noaquita', 160),\n",
       " ('Eliana1Maipu', 159),\n",
       " ('rconstancioa', 159),\n",
       " ('lI_Capitano', 159),\n",
       " ('Bella_DiGenaro', 158),\n",
       " ('marylen61', 158),\n",
       " ('Memeamunategui', 158),\n",
       " ('vota_guillier', 158),\n",
       " ('fredda1', 157),\n",
       " ('twiterillo', 156),\n",
       " ('segbruce', 155),\n",
       " ('JoseFuenzalidaG', 155),\n",
       " ('Carmen_muller', 154),\n",
       " ('soyantofagasta', 154),\n",
       " ('AlexisArayaB', 154),\n",
       " ('sin_detalle', 154),\n",
       " ('Hector8782', 152),\n",
       " ('corresponsal_ch', 152),\n",
       " ('soledad_lucero', 152),\n",
       " ('ivanexxx69', 151),\n",
       " ('jcoulon', 151),\n",
       " ('RadioDuna', 151),\n",
       " ('Reynmorales', 151),\n",
       " ('cientist_rgodoy', 150),\n",
       " ('artemiolupin', 149),\n",
       " ('Camila_RojasV', 149),\n",
       " ('LILIANAROJASFER', 148),\n",
       " ('Portalnet', 148),\n",
       " ('vueltadpagina', 147),\n",
       " ('kenzo0_4', 147),\n",
       " ('Temucodiario', 146),\n",
       " ('antoniowalkerp', 146),\n",
       " ('YverYactuar', 145),\n",
       " ('maulenet', 31)]"
      ]
     },
     "execution_count": 88,
     "metadata": {},
     "output_type": "execute_result"
    }
   ],
   "source": [
    "hi_freq_users_order_lst"
   ]
  },
  {
   "cell_type": "code",
   "execution_count": 89,
   "metadata": {
    "ExecuteTime": {
     "end_time": "2019-12-11T19:52:00.858115Z",
     "start_time": "2019-12-11T19:51:57.928622Z"
    },
    "scrolled": false
   },
   "outputs": [
    {
     "name": "stdout",
     "output_type": "stream",
     "text": [
      "\n",
      "Info Data for @AlbertoMayol\n",
      "\n",
      "Name:                       Alberto Mayol\n",
      "Name Length:                13\n",
      "@user number Numeric Chars: 0\n",
      "@user and name similarity:  0\n",
      "User Id:                    337542243\n",
      "Default_Photo:              False\n",
      "Photo URL:                  http://pbs.twimg.com/profile_images/892780474829078530/4VeDYUuZ_normal.jpg\n",
      "Acc Verified:               False\n",
      "Has Location:               False\n",
      "Location:                   \n",
      "default_profile:            True\n",
      "Has Description:            True\n",
      "Description:                Papá de Alessandro, esposo de Claudia, militante del Frente Amplio y de la U. Con el corazón a la izquierda.\n",
      "Description length:         108\n",
      "Account Active:             Active\n",
      "\n",
      "Number of Tweets analyzed:          6930\n",
      "Last Tweet:                         2017-11-28T15:55:56.000000000\n",
      "Older Tweet Analyzed:               2017-11-13T01:51:06.000000000\n",
      "Account Active age (in days)        2,325.0\n",
      "Average recent tweets per day:      462.0\n",
      "Maximum Recent Tweets Per Day:      5163 at day 13\n",
      "Average tweets per day since start: 2.26\n",
      "Total Tweets since start:           5,265\n",
      "Followers_count:                    168,523\n",
      "Friends_following_count             479\n",
      "Followers/Following_index:          351.82\n",
      "Favourites (Like) count:            443\n",
      "Retweet_Like_index:                 0.0\n",
      "Retweet Ratio:                      0%\n",
      "unique mentions cnt:                6\n",
      "Mention Ratio:                      75%\n",
      "Mention index:                      0.0\n",
      "unique hashtags cnt:                2\n",
      "Hashtag Ratio:                      20%\n",
      "Hashtag Index:                      0.0\n",
      "Average URLs per tweet:             0.0\n",
      "Average text length per tweet:      185.0\n",
      "\n",
      " \t[Tweets Sample at Peak Day] \n",
      " 403036    Impresionante que @sebastianpinera sea incapaz...\n",
      "403061    Impresionante que @sebastianpinera sea incapaz...\n",
      "403075    Impresionante que @sebastianpinera sea incapaz...\n",
      "403078    Impresionante que @sebastianpinera sea incapaz...\n",
      "403083    Impresionante que @sebastianpinera sea incapaz...\n",
      "403085    Impresionante que @sebastianpinera sea incapaz...\n",
      "403095    Impresionante que @sebastianpinera sea incapaz...\n",
      "403097    Impresionante que @sebastianpinera sea incapaz...\n",
      "403098    Impresionante que @sebastianpinera sea incapaz...\n",
      "403100    Impresionante que @sebastianpinera sea incapaz...\n",
      "Name: text, dtype: object\n"
     ]
    },
    {
     "data": {
      "image/png": "[encoded data removed]",
      "text/plain": [
       "<Figure size 720x288 with 1 Axes>"
      ]
     },
     "metadata": {
      "needs_background": "light"
     },
     "output_type": "display_data"
    }
   ],
   "source": [
    "user_name = 'AlbertoMayol'\n",
    "tw_day, metrics, mentions, hastags = get_info_data(tweets, user_name, ver_act=True, prt=True)"
   ]
  },
  {
   "cell_type": "code",
   "execution_count": 61,
   "metadata": {
    "ExecuteTime": {
     "end_time": "2019-11-19T21:39:32.172595Z",
     "start_time": "2019-11-19T21:39:25.375783Z"
    }
   },
   "outputs": [
    {
     "name": "stdout",
     "output_type": "stream",
     "text": [
      "\n",
      "Info Data for @AlbertoMayol\n",
      "\n",
      "User Id:      337542243\n",
      "Score_eng:    0.0215615093045025\n",
      "Score_unl:    0.032398754737074244\n",
      "CAP_eng:      0.0011785984309163565\n",
      "CAP_unl:      0.0018655051726169808\n",
      "\n",
      "Categories:\n",
      "Friend:      0.12674184134165853\n",
      "Network:     0.05015681158897715\n",
      "Sentiment:   0.04364717752402826\n",
      "Temporal:    0.11725226041842143\n",
      "User:        0.02392906059496764\n",
      "\n",
      "Probability of @AlbertoMayol be a bot is 3%\n"
     ]
    }
   ],
   "source": [
    "result = get_botometer_details(user_name)"
   ]
  },
  {
   "cell_type": "code",
   "execution_count": 90,
   "metadata": {
    "ExecuteTime": {
     "end_time": "2019-12-11T19:52:16.662277Z",
     "start_time": "2019-12-11T19:52:13.469548Z"
    }
   },
   "outputs": [
    {
     "name": "stdout",
     "output_type": "stream",
     "text": [
      "\n",
      "Info Data for @Tomaskovacic\n",
      "\n",
      "Name:                       Tomas Iturbe Covacic\n",
      "Name Length:                20\n",
      "@user number Numeric Chars: 0\n",
      "@user and name similarity:  0\n",
      "User Id:                    94687772\n",
      "Default_Photo:              False\n",
      "Photo URL:                  http://pbs.twimg.com/profile_images/892574143840796672/j37U6wrm_normal.jpg\n",
      "Acc Verified:               False\n",
      "Has Location:               True\n",
      "Location:                   Viña del Mar\n",
      "default_profile:            False\n",
      "Has Description:            True\n",
      "Description:                Ingeniero Comercial | Economista en formación | Coordinador Nacional de @LaBrujulaCL | Viñamarino y Cruzado\n",
      "Description length:         107\n",
      "Account Active:             Active\n",
      "\n",
      "Number of Tweets analyzed:          2062\n",
      "Last Tweet:                         2017-11-30T16:06:34.000000000\n",
      "Older Tweet Analyzed:               2017-11-01T15:58:23.000000000\n",
      "Account Active age (in days)        2,917.0\n",
      "Average recent tweets per day:      71.1\n",
      "Maximum Recent Tweets Per Day:      1962 at day 21\n",
      "Average tweets per day since start: 19.98\n",
      "Total Tweets since start:           58,284\n",
      "Followers_count:                    2,302\n",
      "Friends_following_count             510\n",
      "Followers/Following_index:          4.51\n",
      "Favourites (Like) count:            619\n",
      "Retweet_Like_index:                 0.0\n",
      "Retweet Ratio:                      1%\n",
      "unique mentions cnt:                58\n",
      "Mention Ratio:                      5%\n",
      "Mention index:                      0.32\n",
      "unique hashtags cnt:                13\n",
      "Hashtag Ratio:                      1%\n",
      "Hashtag Index:                      0.31\n",
      "Average URLs per tweet:             0.0\n",
      "Average text length per tweet:      243.0\n",
      "\n",
      " \t[Tweets Sample at Peak Day] \n",
      " 819662    @HalunkeValnor Compa, Bitar lleva más de dos m...\n",
      "839341    RT @betojandro: De verdad un saco de wea tuite...\n",
      "842770    RT @BeaSanchezYTu: “Yo no quiero un gobierno d...\n",
      "851582    RT @RedGuillier: \"El país habló fuerte y claro...\n",
      "854504    @olivares3891 @NuevaMayoriacl @guillier Te fal...\n",
      "875591    Ya, lean los cambios del comando nacional de G...\n",
      "895915    1988: “Si gana el NO seremos Cuba”\\n1989: “Si ...\n",
      "896126    1988: “Si gana el NO seremos Cuba”\\n1989: “Si ...\n",
      "896135    1988: “Si gana el NO seremos Cuba”\\n1989: “Si ...\n",
      "896283    1988: “Si gana el NO seremos Cuba”\\n1989: “Si ...\n",
      "Name: text, dtype: object\n"
     ]
    },
    {
     "data": {
      "image/png": "[encoded data removed]",
      "text/plain": [
       "<Figure size 720x288 with 1 Axes>"
      ]
     },
     "metadata": {
      "needs_background": "light"
     },
     "output_type": "display_data"
    }
   ],
   "source": [
    "user_name = 'Tomaskovacic'\n",
    "tw_day, metrics, mentions, hastags = get_info_data(tweets, user_name, ver_act=True, prt=True)"
   ]
  },
  {
   "cell_type": "code",
   "execution_count": 91,
   "metadata": {
    "ExecuteTime": {
     "end_time": "2019-12-11T19:52:31.268997Z",
     "start_time": "2019-12-11T19:52:28.208465Z"
    }
   },
   "outputs": [
    {
     "name": "stdout",
     "output_type": "stream",
     "text": [
      "\n",
      "Info Data for @andres20ad\n",
      "\n",
      "Name:                       Andrés\n",
      "Name Length:                6\n",
      "@user number Numeric Chars: 2\n",
      "@user and name similarity:  0\n",
      "User Id:                    762803779737616384\n",
      "Default_Photo:              False\n",
      "Photo URL:                  http://pbs.twimg.com/profile_images/762806106284515328/y4AvLMUb_normal.jpg\n",
      "Acc Verified:               False\n",
      "Has Location:               False\n",
      "Location:                   \n",
      "default_profile:            True\n",
      "Has Description:            True\n",
      "Description:                Uno de muchos, que luchan por mejorar este mundo, con mayor justicia, solidaridad e igualdad\n",
      "Description length:         92\n",
      "Account Active:             Active\n",
      "\n",
      "Number of Tweets analyzed:          3060\n",
      "Last Tweet:                         2017-11-30T23:43:09.000000000\n",
      "Older Tweet Analyzed:               2017-11-03T02:54:41.000000000\n",
      "Account Active age (in days)        478.0\n",
      "Average recent tweets per day:      113.33\n",
      "Maximum Recent Tweets Per Day:      1583 at day 18\n",
      "Average tweets per day since start: 18.93\n",
      "Total Tweets since start:           9,049\n",
      "Followers_count:                    6,464\n",
      "Friends_following_count             6,208\n",
      "Followers/Following_index:          1.04\n",
      "Favourites (Like) count:            8,939\n",
      "Retweet_Like_index:                 0.0\n",
      "Retweet Ratio:                      0%\n",
      "unique mentions cnt:                69\n",
      "Mention Ratio:                      5%\n",
      "Mention index:                      0.27\n",
      "unique hashtags cnt:                10\n",
      "Hashtag Ratio:                      75%\n",
      "Hashtag Index:                      0.0\n",
      "Average URLs per tweet:             0.09\n",
      "Average text length per tweet:      271.0\n",
      "\n",
      " \t[Tweets Sample at Peak Day] \n",
      " 579384    En 1988 millones de chilenos se enfrentaron a ...\n",
      "579419    En 1988 millones de chilenos se enfrentaron a ...\n",
      "579476    En 1988 millones de chilenos se enfrentaron a ...\n",
      "579478    En 1988 millones de chilenos se enfrentaron a ...\n",
      "579492    En 1988 millones de chilenos se enfrentaron a ...\n",
      "579503    En 1988 millones de chilenos se enfrentaron a ...\n",
      "579527    En 1988 millones de chilenos se enfrentaron a ...\n",
      "579556    En 1988 millones de chilenos se enfrentaron a ...\n",
      "579579    El gobierno de Piñera fue el más corrupto de t...\n",
      "579593    El gobierno de Piñera fue el más corrupto de t...\n",
      "Name: text, dtype: object\n"
     ]
    },
    {
     "data": {
      "image/png": "[encoded data removed]",
      "text/plain": [
       "<Figure size 720x288 with 1 Axes>"
      ]
     },
     "metadata": {
      "needs_background": "light"
     },
     "output_type": "display_data"
    }
   ],
   "source": [
    "user_name = 'andres20ad'\n",
    "tw_day, metrics, mentions, hastags = get_info_data(tweets, user_name, ver_act=True, prt=True)"
   ]
  },
  {
   "cell_type": "code",
   "execution_count": 92,
   "metadata": {
    "ExecuteTime": {
     "end_time": "2019-12-11T19:52:45.269557Z",
     "start_time": "2019-12-11T19:52:42.588259Z"
    }
   },
   "outputs": [
    {
     "name": "stdout",
     "output_type": "stream",
     "text": [
      "\n",
      "Info Data for @NelsonCL28\n",
      "\n",
      "Name:                       Nelson Sánchez G.\n",
      "Name Length:                17\n",
      "@user number Numeric Chars: 2\n",
      "@user and name similarity:  0\n",
      "User Id:                    175420136\n",
      "Default_Photo:              False\n",
      "Photo URL:                  http://pbs.twimg.com/profile_images/932340297916387328/uUSFt7NI_normal.jpg\n",
      "Acc Verified:               False\n",
      "Has Location:               True\n",
      "Location:                   Valparaíso, Chile\n",
      "default_profile:            False\n",
      "Has Description:            True\n",
      "Description:                Praise Kek!\n",
      "Description length:         11\n",
      "Account Active:             Active\n",
      "\n",
      "Number of Tweets analyzed:          1669\n",
      "Last Tweet:                         2017-11-19T20:20:33.000000000\n",
      "Older Tweet Analyzed:               2017-11-19T20:20:33.000000000\n",
      "Account Active age (in days)        2,662.0\n",
      "Average recent tweets per day:      inf\n",
      "Maximum Recent Tweets Per Day:      1669 at day 19\n",
      "Average tweets per day since start: 0.02\n",
      "Total Tweets since start:           50\n",
      "Followers_count:                    26\n",
      "Friends_following_count             22\n",
      "Followers/Following_index:          1.18\n",
      "Favourites (Like) count:            36\n",
      "Retweet_Like_index:                 0.0\n",
      "Retweet Ratio:                      0%\n",
      "unique mentions cnt:                0\n",
      "Mention Ratio:                      0%\n",
      "Mention index:                      0.0\n",
      "unique hashtags cnt:                4\n",
      "Hashtag Ratio:                      100%\n",
      "Hashtag Index:                      0.0\n",
      "Average URLs per tweet:             1.0\n",
      "Average text length per tweet:      279.0\n",
      "\n",
      " \t[Tweets Sample at Peak Day] \n",
      " 663850    Impresentable suplantación de identidad! Concu...\n",
      "663892    Impresentable suplantación de identidad! Concu...\n",
      "663919    Impresentable suplantación de identidad! Concu...\n",
      "664029    Impresentable suplantación de identidad! Concu...\n",
      "664114    Impresentable suplantación de identidad! Concu...\n",
      "664266    Impresentable suplantación de identidad! Concu...\n",
      "664318    Impresentable suplantación de identidad! Concu...\n",
      "664340    Impresentable suplantación de identidad! Concu...\n",
      "664422    Impresentable suplantación de identidad! Concu...\n",
      "664528    Impresentable suplantación de identidad! Concu...\n",
      "Name: text, dtype: object\n"
     ]
    },
    {
     "data": {
      "image/png": "[encoded data removed]",
      "text/plain": [
       "<Figure size 720x288 with 1 Axes>"
      ]
     },
     "metadata": {
      "needs_background": "light"
     },
     "output_type": "display_data"
    }
   ],
   "source": [
    "user_name = 'NelsonCL28'\n",
    "tw_day, metrics, mentions, hastags = get_info_data(tweets, user_name, prt=True)"
   ]
  },
  {
   "cell_type": "code",
   "execution_count": 93,
   "metadata": {
    "ExecuteTime": {
     "end_time": "2019-12-11T19:52:53.966845Z",
     "start_time": "2019-12-11T19:52:50.930747Z"
    }
   },
   "outputs": [
    {
     "name": "stdout",
     "output_type": "stream",
     "text": [
      "\n",
      "Info Data for @Ivonomas\n",
      "\n",
      "Name:                       Ivo Barrientos\n",
      "Name Length:                14\n",
      "@user number Numeric Chars: 0\n",
      "@user and name similarity:  0\n",
      "User Id:                    1677545442\n",
      "Default_Photo:              False\n",
      "Photo URL:                  http://pbs.twimg.com/profile_images/378800000311704613/57dba5d1d296053000c81f1acbf9cd60_normal.jpeg\n",
      "Acc Verified:               False\n",
      "Has Location:               False\n",
      "Location:                   \n",
      "default_profile:            True\n",
      "Has Description:            True\n",
      "Description:                periodista sin título que busca solamente desenmascarar la demagogia que abunda en este espacio. Si me mencionas te hago RT.\n",
      "Description length:         124\n",
      "Account Active:             Active\n",
      "\n",
      "Number of Tweets analyzed:          299\n",
      "Last Tweet:                         2017-11-30T21:03:14.000000000\n",
      "Older Tweet Analyzed:               2017-11-01T07:09:21.000000000\n",
      "Account Active age (in days)        1,566.0\n",
      "Average recent tweets per day:      10.31\n",
      "Maximum Recent Tweets Per Day:      40 at day 30\n",
      "Average tweets per day since start: 4.86\n",
      "Total Tweets since start:           7,618\n",
      "Followers_count:                    2,149\n",
      "Friends_following_count             3,254\n",
      "Followers/Following_index:          0.66\n",
      "Favourites (Like) count:            528\n",
      "Retweet_Like_index:                 0.0\n",
      "Retweet Ratio:                      1%\n",
      "unique mentions cnt:                3\n",
      "Mention Ratio:                      1%\n",
      "Mention index:                      1.0\n",
      "unique hashtags cnt:                9\n",
      "Hashtag Ratio:                      14%\n",
      "Hashtag Index:                      0.21\n",
      "Average URLs per tweet:             0.9\n",
      "Average text length per tweet:      137.0\n",
      "\n",
      " \t[Tweets Sample at Peak Day] \n",
      " 1515720    Ex ministro de Piñera compartió Photoshop de M...\n",
      "1528400    .PamJiles por eventual apoyo del FA a Guillier...\n",
      "1528401    Felipe Kast hace llamado a Alejandro Guillier ...\n",
      "1528420    RD no se sumará a campaña de Guillier: “Querem...\n",
      "1533205    VIDEO | Guillier: “El Frente Amplio quiere no ...\n",
      "1536375    “Cuánta hipocresía en una foto”: la imagen que...\n",
      "1538726    Luis Mesina pide a Alejandro Guillier aclarar ...\n",
      "1540992    Pamela Jiles, diputada electa del Frente Ampli...\n",
      "1543988    “No+AFP” se moviliza en la Alameda antes de cr...\n",
      "1549451    #ElLíberoPreguntaHoy: ¿Usted cree que Alejandr...\n",
      "Name: text, dtype: object\n"
     ]
    },
    {
     "data": {
      "image/png": "[encoded data removed]",
      "text/plain": [
       "<Figure size 720x288 with 1 Axes>"
      ]
     },
     "metadata": {
      "needs_background": "light"
     },
     "output_type": "display_data"
    }
   ],
   "source": [
    "user_name = 'Ivonomas'\n",
    "tw_day, metrics, mentions, hastags = get_info_data(tweets, user_name)"
   ]
  },
  {
   "cell_type": "code",
   "execution_count": 94,
   "metadata": {
    "ExecuteTime": {
     "end_time": "2019-12-11T19:53:06.306263Z",
     "start_time": "2019-12-11T19:53:03.569619Z"
    }
   },
   "outputs": [
    {
     "name": "stdout",
     "output_type": "stream",
     "text": [
      "\n",
      "Info Data for @robertoampuero\n",
      "\n",
      "Name:                       roberto ampuero\n",
      "Name Length:                15\n",
      "@user number Numeric Chars: 0\n",
      "@user and name similarity:  0\n",
      "User Id:                    93268716\n",
      "Default_Photo:              False\n",
      "Photo URL:                  http://pbs.twimg.com/profile_images/831334619194744833/nTbjtKh5_normal.jpg\n",
      "Acc Verified:               False\n",
      "Has Location:               False\n",
      "Location:                   \n",
      "default_profile:            False\n",
      "Has Description:            True\n",
      "Description:                Escritor, Senior Fellow de FPP y Profesor Visitante de U Finis Terrae. Exembajador y ex Ministro Presidente del CNCA de Chile. PhD, MA, IWP Fellow U of Iowa.\n",
      "Description length:         157\n",
      "Account Active:             Active\n",
      "\n",
      "Number of Tweets analyzed:          5332\n",
      "Last Tweet:                         2017-11-29T15:01:31.000000000\n",
      "Older Tweet Analyzed:               2017-10-31T18:53:09.000000000\n",
      "Account Active age (in days)        2,922.0\n",
      "Average recent tweets per day:      190.43\n",
      "Maximum Recent Tweets Per Day:      1294 at day 28\n",
      "Average tweets per day since start: 13.66\n",
      "Total Tweets since start:           39,923\n",
      "Followers_count:                    44,943\n",
      "Friends_following_count             959\n",
      "Followers/Following_index:          46.86\n",
      "Favourites (Like) count:            28,177\n",
      "Retweet_Like_index:                 0.01\n",
      "Retweet Ratio:                      0%\n",
      "unique mentions cnt:                29\n",
      "Mention Ratio:                      24%\n",
      "Mention index:                      0.02\n",
      "unique hashtags cnt:                1\n",
      "Hashtag Ratio:                      0%\n",
      "Hashtag Index:                      0.06\n",
      "Average URLs per tweet:             0.47\n",
      "Average text length per tweet:      163.0\n",
      "\n",
      " \t[Tweets Sample at Peak Day] \n",
      " 1390257    Nicolás Maduro respalda al “Compañero Alejandr...\n",
      "1390258    Nicolás Maduro respalda al “Compañero Alejandr...\n",
      "1390275    Nicolás Maduro respalda al “Compañero Alejandr...\n",
      "1390302    Nicolás Maduro respalda al “Compañero Alejandr...\n",
      "1390323    Nicolás Maduro respalda al “Compañero Alejandr...\n",
      "1390326    Nicolás Maduro respalda al “Compañero Alejandr...\n",
      "1390350    Nicolás Maduro respalda al “Compañero Alejandr...\n",
      "1390382    Nicolás Maduro respalda al “Compañero Alejandr...\n",
      "1390450    Nicolás Maduro respalda al “Compañero Alejandr...\n",
      "1390520    Nicolás Maduro respalda al “Compañero Alejandr...\n",
      "Name: text, dtype: object\n"
     ]
    },
    {
     "data": {
      "image/png": "[encoded data removed]",
      "text/plain": [
       "<Figure size 720x288 with 1 Axes>"
      ]
     },
     "metadata": {
      "needs_background": "light"
     },
     "output_type": "display_data"
    }
   ],
   "source": [
    "user_name = 'robertoampuero'\n",
    "tw_day, metrics, mentions, hastags = get_info_data(tweets, user_name)"
   ]
  },
  {
   "cell_type": "code",
   "execution_count": 48,
   "metadata": {
    "ExecuteTime": {
     "end_time": "2019-12-03T14:15:41.938455Z",
     "start_time": "2019-12-03T14:15:41.927761Z"
    }
   },
   "outputs": [
    {
     "data": {
      "text/plain": [
       "'En vez de criticar programa de gobierno de @sebastianpinera, gobierno de Bachelet podría ayudar a terminar de redactar el suyo a Guillier.'"
      ]
     },
     "execution_count": 48,
     "metadata": {},
     "output_type": "execute_result"
    }
   ],
   "source": [
    "tweets.text[8]"
   ]
  },
  {
   "cell_type": "code",
   "execution_count": 50,
   "metadata": {
    "ExecuteTime": {
     "end_time": "2019-12-03T14:22:21.202838Z",
     "start_time": "2019-12-03T14:22:15.452112Z"
    }
   },
   "outputs": [
    {
     "name": "stdout",
     "output_type": "stream",
     "text": [
      "\n",
      "Info Data for @robertoampuero\n",
      "\n",
      "User Id:      93268716\n",
      "Score_eng:    0.05780718298413593\n",
      "Score_unl:    0.04811366570775446\n",
      "CAP_eng:      0.0020801266669107617\n",
      "CAP_unl:      0.0023079208238384373\n",
      "\n",
      "Categories:\n",
      "Friend:      0.1343390390395297\n",
      "Network:     0.22427046334856154\n",
      "Sentiment:   0.056219498233927946\n",
      "Temporal:    0.17904829046331452\n",
      "User:        0.0435167178071457\n",
      "\n",
      "Probability of @robertoampuero be a bot is 5%\n"
     ]
    }
   ],
   "source": [
    "result = get_botometer_details(user_name)"
   ]
  },
  {
   "cell_type": "markdown",
   "metadata": {},
   "source": [
    "## Verified account that was canceled by Twitter"
   ]
  },
  {
   "cell_type": "code",
   "execution_count": 95,
   "metadata": {
    "ExecuteTime": {
     "end_time": "2019-12-11T19:53:33.955374Z",
     "start_time": "2019-12-11T19:53:32.736546Z"
    }
   },
   "outputs": [
    {
     "name": "stdout",
     "output_type": "stream",
     "text": [
      "\n",
      "Info Data for @dsocial_gob\n",
      "\n",
      "Name:                       MinDesarrollo Social\n",
      "Name Length:                20\n",
      "@user number Numeric Chars: 0\n",
      "@user and name similarity:  0\n",
      "User Id:                    115091645\n",
      "Default_Photo:              False\n",
      "Photo URL:                  http://pbs.twimg.com/profile_images/882979542339596291/WEWLSieR_normal.jpg\n",
      "Acc Verified:               True\n",
      "Has Location:               True\n",
      "Location:                   Catedral 1575, Santiago\n",
      "default_profile:            False\n",
      "Has Description:            True\n",
      "Description:                Twitter oficial del Ministerio De Desarrollo Social del @gobiernodechile\n",
      "Description length:         72\n",
      "Account Active:             Not Active\n",
      "\n",
      "Number of Tweets analyzed:          334\n",
      "Last Tweet:                         2017-11-28T14:18:44.000000000\n",
      "Older Tweet Analyzed:               2017-11-02T12:31:52.000000000\n",
      "Account Active age (in days)        2,840.0\n",
      "Average recent tweets per day:      12.85\n",
      "Maximum Recent Tweets Per Day:      135 at day 9\n",
      "Average tweets per day since start: 20.8\n",
      "Total Tweets since start:           59,067\n",
      "Followers_count:                    100,919\n",
      "Friends_following_count             1,098\n",
      "Followers/Following_index:          91.91\n",
      "Favourites (Like) count:            8,211\n",
      "Retweet_Like_index:                 0.0\n",
      "Retweet Ratio:                      19%\n",
      "unique mentions cnt:                27\n",
      "Mention Ratio:                      28%\n",
      "Mention index:                      0.25\n",
      "unique hashtags cnt:                14\n",
      "Hashtag Ratio:                      100%\n",
      "Hashtag Index:                      0.04\n",
      "Average URLs per tweet:             0.84\n",
      "Average text length per tweet:      183.0\n",
      "\n",
      " \t[Tweets Sample at Peak Day] \n",
      " 316443    RT @GobiernodeChile: #Elecciones2017: Para log...\n",
      "330550    ¿Cómo ejercer el Voto Asistido? 🤔 Informa al p...\n",
      "330571    ¿Cómo ejercer el Voto Asistido? 🤔 Informa al p...\n",
      "330605    Ministro Barraza participa en recreación de es...\n",
      "330608    ¿Cómo ejercer el Voto Asistido? 🤔 Informa al p...\n",
      "330611    ¿Cómo ejercer el Voto Asistido? 🤔 Informa al p...\n",
      "330627    ¿Cómo ejercer el Voto Asistido? 🤔 Informa al p...\n",
      "330681    En estas #Elecciones2017 las personas con disc...\n",
      "330693    ¿Cómo ejercer el Voto Asistido? 🤔 Informa al p...\n",
      "330737    ¿Cómo ejercer el Voto Asistido? 🤔 Informa al p...\n",
      "Name: text, dtype: object\n"
     ]
    },
    {
     "data": {
      "image/png": "[encoded data removed]",
      "text/plain": [
       "<Figure size 720x288 with 1 Axes>"
      ]
     },
     "metadata": {
      "needs_background": "light"
     },
     "output_type": "display_data"
    }
   ],
   "source": [
    "user_name = 'dsocial_gob'\n",
    "tw_day, metrics, mentions, hastags = get_info_data(tweets, user_name)"
   ]
  },
  {
   "cell_type": "markdown",
   "metadata": {},
   "source": [
    "##  Possible Bots by account age in days Analysis"
   ]
  },
  {
   "cell_type": "markdown",
   "metadata": {},
   "source": [
    "Users posting more than 72 tweets/day and with less than 90 days since creation"
   ]
  },
  {
   "cell_type": "code",
   "execution_count": 31,
   "metadata": {
    "ExecuteTime": {
     "end_time": "2019-12-10T21:42:35.007602Z",
     "start_time": "2019-12-10T21:42:34.990436Z"
    }
   },
   "outputs": [],
   "source": [
    "new_bots = df_user[(df_user.acc_verif == 0)\n",
    "                   & (df_user.account_age_days <= 90)\n",
    "                   & (df_user.max_tweet_day > 72)]"
   ]
  },
  {
   "cell_type": "code",
   "execution_count": 32,
   "metadata": {
    "ExecuteTime": {
     "end_time": "2019-12-10T21:42:36.231224Z",
     "start_time": "2019-12-10T21:42:36.227369Z"
    }
   },
   "outputs": [
    {
     "data": {
      "text/plain": [
       "(10, 33)"
      ]
     },
     "execution_count": 32,
     "metadata": {},
     "output_type": "execute_result"
    }
   ],
   "source": [
    "new_bots.shape"
   ]
  },
  {
   "cell_type": "code",
   "execution_count": 33,
   "metadata": {
    "ExecuteTime": {
     "end_time": "2019-12-10T21:42:37.498438Z",
     "start_time": "2019-12-10T21:42:37.426006Z"
    }
   },
   "outputs": [
    {
     "data": {
      "text/html": [
       "<div>\n",
       "<style scoped>\n",
       "    .dataframe tbody tr th:only-of-type {\n",
       "        vertical-align: middle;\n",
       "    }\n",
       "\n",
       "    .dataframe tbody tr th {\n",
       "        vertical-align: top;\n",
       "    }\n",
       "\n",
       "    .dataframe thead th {\n",
       "        text-align: right;\n",
       "    }\n",
       "</style>\n",
       "<table border=\"1\" class=\"dataframe\">\n",
       "  <thead>\n",
       "    <tr style=\"text-align: right;\">\n",
       "      <th></th>\n",
       "      <th>user</th>\n",
       "      <th>default_prof_image</th>\n",
       "      <th>acc_verif</th>\n",
       "      <th>local_bol</th>\n",
       "      <th>default_profile</th>\n",
       "      <th>descr_bol</th>\n",
       "      <th>active_acc</th>\n",
       "      <th>tws_cnt</th>\n",
       "      <th>frs_cnt</th>\n",
       "      <th>fols_cnt</th>\n",
       "      <th>...</th>\n",
       "      <th>mean_urls</th>\n",
       "      <th>mean_lenght</th>\n",
       "      <th>recent_age_days</th>\n",
       "      <th>user_name_len</th>\n",
       "      <th>name_len</th>\n",
       "      <th>user_name_len_num</th>\n",
       "      <th>simil_name</th>\n",
       "      <th>descr_len</th>\n",
       "      <th>fols_frs_ratio</th>\n",
       "      <th>label</th>\n",
       "    </tr>\n",
       "  </thead>\n",
       "  <tbody>\n",
       "    <tr>\n",
       "      <th>312</th>\n",
       "      <td>EncuestaExpress</td>\n",
       "      <td>0</td>\n",
       "      <td>0</td>\n",
       "      <td>1</td>\n",
       "      <td>0</td>\n",
       "      <td>1</td>\n",
       "      <td>1</td>\n",
       "      <td>346</td>\n",
       "      <td>45</td>\n",
       "      <td>32</td>\n",
       "      <td>...</td>\n",
       "      <td>0</td>\n",
       "      <td>138</td>\n",
       "      <td>25</td>\n",
       "      <td>15</td>\n",
       "      <td>18</td>\n",
       "      <td>0</td>\n",
       "      <td>91</td>\n",
       "      <td>117</td>\n",
       "      <td>1</td>\n",
       "      <td>high_freq</td>\n",
       "    </tr>\n",
       "    <tr>\n",
       "      <th>938</th>\n",
       "      <td>RResponsablecl</td>\n",
       "      <td>0</td>\n",
       "      <td>0</td>\n",
       "      <td>0</td>\n",
       "      <td>0</td>\n",
       "      <td>1</td>\n",
       "      <td>1</td>\n",
       "      <td>37</td>\n",
       "      <td>345</td>\n",
       "      <td>34</td>\n",
       "      <td>...</td>\n",
       "      <td>1</td>\n",
       "      <td>223</td>\n",
       "      <td>25</td>\n",
       "      <td>14</td>\n",
       "      <td>18</td>\n",
       "      <td>0</td>\n",
       "      <td>91</td>\n",
       "      <td>144</td>\n",
       "      <td>0</td>\n",
       "      <td>high_freq</td>\n",
       "    </tr>\n",
       "    <tr>\n",
       "      <th>1810</th>\n",
       "      <td>cazadorandino90</td>\n",
       "      <td>0</td>\n",
       "      <td>0</td>\n",
       "      <td>1</td>\n",
       "      <td>1</td>\n",
       "      <td>1</td>\n",
       "      <td>1</td>\n",
       "      <td>525</td>\n",
       "      <td>134</td>\n",
       "      <td>86</td>\n",
       "      <td>...</td>\n",
       "      <td>0</td>\n",
       "      <td>215</td>\n",
       "      <td>28</td>\n",
       "      <td>15</td>\n",
       "      <td>9</td>\n",
       "      <td>2</td>\n",
       "      <td>17</td>\n",
       "      <td>154</td>\n",
       "      <td>1</td>\n",
       "      <td>mid_freq</td>\n",
       "    </tr>\n",
       "    <tr>\n",
       "      <th>2095</th>\n",
       "      <td>Piagutierrezs</td>\n",
       "      <td>0</td>\n",
       "      <td>0</td>\n",
       "      <td>1</td>\n",
       "      <td>1</td>\n",
       "      <td>1</td>\n",
       "      <td>1</td>\n",
       "      <td>1712</td>\n",
       "      <td>2539</td>\n",
       "      <td>1030</td>\n",
       "      <td>...</td>\n",
       "      <td>1</td>\n",
       "      <td>154</td>\n",
       "      <td>27</td>\n",
       "      <td>13</td>\n",
       "      <td>20</td>\n",
       "      <td>0</td>\n",
       "      <td>83</td>\n",
       "      <td>16</td>\n",
       "      <td>0</td>\n",
       "      <td>mid_freq</td>\n",
       "    </tr>\n",
       "    <tr>\n",
       "      <th>5059</th>\n",
       "      <td>NathalySeplved3</td>\n",
       "      <td>0</td>\n",
       "      <td>0</td>\n",
       "      <td>1</td>\n",
       "      <td>1</td>\n",
       "      <td>1</td>\n",
       "      <td>1</td>\n",
       "      <td>555</td>\n",
       "      <td>520</td>\n",
       "      <td>294</td>\n",
       "      <td>...</td>\n",
       "      <td>0</td>\n",
       "      <td>176</td>\n",
       "      <td>29</td>\n",
       "      <td>15</td>\n",
       "      <td>15</td>\n",
       "      <td>1</td>\n",
       "      <td>91</td>\n",
       "      <td>97</td>\n",
       "      <td>1</td>\n",
       "      <td>high_freq</td>\n",
       "    </tr>\n",
       "    <tr>\n",
       "      <th>11151</th>\n",
       "      <td>ElCentinelaMPE</td>\n",
       "      <td>0</td>\n",
       "      <td>0</td>\n",
       "      <td>1</td>\n",
       "      <td>0</td>\n",
       "      <td>1</td>\n",
       "      <td>1</td>\n",
       "      <td>14</td>\n",
       "      <td>25</td>\n",
       "      <td>9</td>\n",
       "      <td>...</td>\n",
       "      <td>1</td>\n",
       "      <td>166</td>\n",
       "      <td>17</td>\n",
       "      <td>14</td>\n",
       "      <td>12</td>\n",
       "      <td>0</td>\n",
       "      <td>78</td>\n",
       "      <td>69</td>\n",
       "      <td>0</td>\n",
       "      <td>mid_freq</td>\n",
       "    </tr>\n",
       "    <tr>\n",
       "      <th>11857</th>\n",
       "      <td>AShumman</td>\n",
       "      <td>0</td>\n",
       "      <td>0</td>\n",
       "      <td>1</td>\n",
       "      <td>1</td>\n",
       "      <td>1</td>\n",
       "      <td>1</td>\n",
       "      <td>6688</td>\n",
       "      <td>4164</td>\n",
       "      <td>308</td>\n",
       "      <td>...</td>\n",
       "      <td>0</td>\n",
       "      <td>127</td>\n",
       "      <td>27</td>\n",
       "      <td>8</td>\n",
       "      <td>17</td>\n",
       "      <td>0</td>\n",
       "      <td>55</td>\n",
       "      <td>11</td>\n",
       "      <td>0</td>\n",
       "      <td>mid_freq</td>\n",
       "    </tr>\n",
       "    <tr>\n",
       "      <th>25470</th>\n",
       "      <td>PamelaSoler3</td>\n",
       "      <td>0</td>\n",
       "      <td>0</td>\n",
       "      <td>0</td>\n",
       "      <td>1</td>\n",
       "      <td>1</td>\n",
       "      <td>0</td>\n",
       "      <td>625</td>\n",
       "      <td>353</td>\n",
       "      <td>354</td>\n",
       "      <td>...</td>\n",
       "      <td>0</td>\n",
       "      <td>194</td>\n",
       "      <td>23</td>\n",
       "      <td>12</td>\n",
       "      <td>18</td>\n",
       "      <td>1</td>\n",
       "      <td>13</td>\n",
       "      <td>152</td>\n",
       "      <td>1</td>\n",
       "      <td>mid_freq</td>\n",
       "    </tr>\n",
       "    <tr>\n",
       "      <th>73936</th>\n",
       "      <td>Sumate_Guillier</td>\n",
       "      <td>0</td>\n",
       "      <td>0</td>\n",
       "      <td>1</td>\n",
       "      <td>1</td>\n",
       "      <td>1</td>\n",
       "      <td>0</td>\n",
       "      <td>2</td>\n",
       "      <td>32</td>\n",
       "      <td>18</td>\n",
       "      <td>...</td>\n",
       "      <td>1</td>\n",
       "      <td>159</td>\n",
       "      <td>6</td>\n",
       "      <td>15</td>\n",
       "      <td>16</td>\n",
       "      <td>0</td>\n",
       "      <td>100</td>\n",
       "      <td>83</td>\n",
       "      <td>1</td>\n",
       "      <td>high_freq</td>\n",
       "    </tr>\n",
       "    <tr>\n",
       "      <th>83687</th>\n",
       "      <td>jav_ast</td>\n",
       "      <td>0</td>\n",
       "      <td>0</td>\n",
       "      <td>0</td>\n",
       "      <td>1</td>\n",
       "      <td>1</td>\n",
       "      <td>1</td>\n",
       "      <td>7</td>\n",
       "      <td>104</td>\n",
       "      <td>42</td>\n",
       "      <td>...</td>\n",
       "      <td>0</td>\n",
       "      <td>155</td>\n",
       "      <td>1</td>\n",
       "      <td>7</td>\n",
       "      <td>16</td>\n",
       "      <td>0</td>\n",
       "      <td>42</td>\n",
       "      <td>77</td>\n",
       "      <td>0</td>\n",
       "      <td>mid_freq</td>\n",
       "    </tr>\n",
       "  </tbody>\n",
       "</table>\n",
       "<p>10 rows × 33 columns</p>\n",
       "</div>"
      ],
      "text/plain": [
       "                  user  default_prof_image  acc_verif  local_bol  \\\n",
       "312    EncuestaExpress                   0          0          1   \n",
       "938     RResponsablecl                   0          0          0   \n",
       "1810   cazadorandino90                   0          0          1   \n",
       "2095     Piagutierrezs                   0          0          1   \n",
       "5059   NathalySeplved3                   0          0          1   \n",
       "11151   ElCentinelaMPE                   0          0          1   \n",
       "11857         AShumman                   0          0          1   \n",
       "25470     PamelaSoler3                   0          0          0   \n",
       "73936  Sumate_Guillier                   0          0          1   \n",
       "83687          jav_ast                   0          0          0   \n",
       "\n",
       "       default_profile  descr_bol  active_acc  tws_cnt  frs_cnt  fols_cnt  \\\n",
       "312                  0          1           1      346       45        32   \n",
       "938                  0          1           1       37      345        34   \n",
       "1810                 1          1           1      525      134        86   \n",
       "2095                 1          1           1     1712     2539      1030   \n",
       "5059                 1          1           1      555      520       294   \n",
       "11151                0          1           1       14       25         9   \n",
       "11857                1          1           1     6688     4164       308   \n",
       "25470                1          1           0      625      353       354   \n",
       "73936                1          1           0        2       32        18   \n",
       "83687                1          1           1        7      104        42   \n",
       "\n",
       "       ...  mean_urls  mean_lenght  recent_age_days  user_name_len  name_len  \\\n",
       "312    ...          0          138               25             15        18   \n",
       "938    ...          1          223               25             14        18   \n",
       "1810   ...          0          215               28             15         9   \n",
       "2095   ...          1          154               27             13        20   \n",
       "5059   ...          0          176               29             15        15   \n",
       "11151  ...          1          166               17             14        12   \n",
       "11857  ...          0          127               27              8        17   \n",
       "25470  ...          0          194               23             12        18   \n",
       "73936  ...          1          159                6             15        16   \n",
       "83687  ...          0          155                1              7        16   \n",
       "\n",
       "       user_name_len_num  simil_name  descr_len  fols_frs_ratio      label  \n",
       "312                    0          91        117               1  high_freq  \n",
       "938                    0          91        144               0  high_freq  \n",
       "1810                   2          17        154               1   mid_freq  \n",
       "2095                   0          83         16               0   mid_freq  \n",
       "5059                   1          91         97               1  high_freq  \n",
       "11151                  0          78         69               0   mid_freq  \n",
       "11857                  0          55         11               0   mid_freq  \n",
       "25470                  1          13        152               1   mid_freq  \n",
       "73936                  0         100         83               1  high_freq  \n",
       "83687                  0          42         77               0   mid_freq  \n",
       "\n",
       "[10 rows x 33 columns]"
      ]
     },
     "execution_count": 33,
     "metadata": {},
     "output_type": "execute_result"
    }
   ],
   "source": [
    "new_bots"
   ]
  },
  {
   "cell_type": "code",
   "execution_count": 34,
   "metadata": {
    "ExecuteTime": {
     "end_time": "2019-12-10T21:42:40.957166Z",
     "start_time": "2019-12-10T21:42:40.952505Z"
    }
   },
   "outputs": [
    {
     "data": {
      "text/plain": [
       "['EncuestaExpress',\n",
       " 'RResponsablecl',\n",
       " 'cazadorandino90',\n",
       " 'Piagutierrezs',\n",
       " 'NathalySeplved3',\n",
       " 'ElCentinelaMPE',\n",
       " 'AShumman',\n",
       " 'PamelaSoler3',\n",
       " 'Sumate_Guillier',\n",
       " 'jav_ast']"
      ]
     },
     "execution_count": 34,
     "metadata": {},
     "output_type": "execute_result"
    }
   ],
   "source": [
    "new_bots_users_lst = list(new_bots.user)\n",
    "new_bots_users_lst"
   ]
  },
  {
   "cell_type": "markdown",
   "metadata": {},
   "source": [
    "PEGABOT Results:\n",
    "- EncuestaExpress: 76%\n",
    "- RResponsablecl: 67%\n",
    "- cazadorandino90: 53%\n",
    "- Piagutierrezs: 54%\n",
    "- NathalySeplved3: 71%\n",
    "- ElCentinelaMPE:45%\n",
    "- AShumman: Suspended Account\n",
    "- PamelaSoler3: Not Active\n",
    "- Sumate_Guillier: Not Active\n",
    "- jav_ast: 69%"
   ]
  },
  {
   "cell_type": "markdown",
   "metadata": {},
   "source": [
    "Botometer Results:\n",
    "- EncuestaExpress: 78%\n",
    "- RResponsablecl: 20%\n",
    "- cazadorandino90: 24%\n",
    "- Piagutierrezs: 18%\n",
    "- NathalySeplved3: 8%\n",
    "- ElCentinelaMPE: 28%\n",
    "- AShumman: Suspended Account\n",
    "- PamelaSoler3: Not Active\n",
    "- Sumate_Guillier:: Not Active\n",
    "- jav_ast: 78%"
   ]
  },
  {
   "cell_type": "code",
   "execution_count": 63,
   "metadata": {
    "ExecuteTime": {
     "end_time": "2019-12-11T18:41:09.699549Z",
     "start_time": "2019-12-11T18:41:06.701350Z"
    }
   },
   "outputs": [
    {
     "name": "stdout",
     "output_type": "stream",
     "text": [
      "\n",
      "Info Data for @EncuestaExpress\n",
      "\n",
      "Name:                       #EncuestaExpressCL\n",
      "Name Length:                18\n",
      "@user number Numeric Chars: 0\n",
      "@user and name similarity:  0\n",
      "User Id:                    921483211514970114\n",
      "Default_Photo:              False\n",
      "Photo URL:                  http://pbs.twimg.com/profile_images/924012880164540417/cLUUNNEv_normal.jpg\n",
      "Acc Verified:               False\n",
      "Has Location:               True\n",
      "Location:                   Chile\n",
      "default_profile:            False\n",
      "Has Description:            True\n",
      "Description:                Medio Independiente.\n",
      "#NoTeQuedesSinVoz!!\n",
      "Si no votas ¿Con qué cara pides cambios en la sociedad?\n",
      "#ElPoderEstaEnTuVoto\n",
      "Description length:         117\n",
      "Account Active:             Active\n",
      "\n",
      "Number of Tweets analyzed:          1314\n",
      "Last Tweet:                         2017-11-26T16:50:34.000000000\n",
      "Older Tweet Analyzed:               2017-11-01T00:19:55.000000000\n",
      "Account Active age (in days)        36.0\n",
      "Average recent tweets per day:      52.56\n",
      "Maximum Recent Tweets Per Day:      748 at day 20\n",
      "Average tweets per day since start: 9.61\n",
      "Total Tweets since start:           346\n",
      "Followers_count:                    32\n",
      "Friends_following_count             45\n",
      "Followers/Following_index:          0.71\n",
      "Favourites (Like) count:            83\n",
      "Retweet_Like_index:                 0.0\n",
      "Retweet Ratio:                      3%\n",
      "unique mentions cnt:                43\n",
      "Mention Ratio:                      90%\n",
      "Mention index:                      0.02\n",
      "unique hashtags cnt:                34\n",
      "Hashtag Ratio:                      81%\n",
      "Hashtag Index:                      0.02\n",
      "Average URLs per tweet:             0.08\n",
      "Average text length per tweet:      138.0\n",
      "\n",
      " \t[Tweets Sample at Pick Day] \n",
      " 761035    Esta elección se define en Segunda:\\n\\n¿POR QU...\n",
      "761110    Esta elección se define en Segunda:\\n\\n¿POR QU...\n",
      "761414    [ACARREO DE VOTOS]\\n¿Cuántos de los votos de @...\n",
      "761415    Esta elección se define en Segunda:\\n\\n¿POR QU...\n",
      "761460    [ACARREO DE VOTOS]\\n¿Cuántos de los votos de @...\n",
      "761466    Esta elección se define en Segunda:\\n\\n¿POR QU...\n",
      "761493    Esta elección se define en Segunda:\\n\\n¿POR QU...\n",
      "761516    Esta elección se define en Segunda:\\n\\n¿POR QU...\n",
      "761523    [ACARREO DE VOTOS]\\n¿Cuántos de los votos de @...\n",
      "761525    [ACARREO DE VOTOS]\\n¿Cuántos de los votos de @...\n",
      "Name: text, dtype: object\n"
     ]
    },
    {
     "data": {
      "image/png": "[encoded data removed]",
      "text/plain": [
       "<Figure size 720x288 with 1 Axes>"
      ]
     },
     "metadata": {
      "needs_background": "light"
     },
     "output_type": "display_data"
    }
   ],
   "source": [
    "user_name = 'EncuestaExpress'\n",
    "tw_day, metrics, mentions, hastags = get_info_data(tweets, user_name, prt=True)"
   ]
  },
  {
   "cell_type": "code",
   "execution_count": 64,
   "metadata": {
    "ExecuteTime": {
     "end_time": "2019-12-11T18:41:40.092871Z",
     "start_time": "2019-12-11T18:41:36.671468Z"
    }
   },
   "outputs": [
    {
     "name": "stdout",
     "output_type": "stream",
     "text": [
      "\n",
      "Info Data for @RResponsablecl\n",
      "\n",
      "Name:                       Reg Responsable Cl\n",
      "Name Length:                18\n",
      "@user number Numeric Chars: 0\n",
      "@user and name similarity:  0\n",
      "User Id:                    924982201434898433\n",
      "Default_Photo:              False\n",
      "Photo URL:                  http://pbs.twimg.com/profile_images/924986249143836674/DKYiJprG_normal.jpg\n",
      "Acc Verified:               False\n",
      "Has Location:               False\n",
      "Location:                   \n",
      "default_profile:            False\n",
      "Has Description:            True\n",
      "Description:                Buscamos transformar la política de drogas de Chile para regular democráticamente las vías de acceso al Cannabis medicinal y para el uso adulto.\n",
      "Description length:         144\n",
      "Account Active:             Active\n",
      "\n",
      "Number of Tweets analyzed:          422\n",
      "Last Tweet:                         2017-11-26T12:57:43.000000000\n",
      "Older Tweet Analyzed:               2017-11-01T01:06:03.000000000\n",
      "Account Active age (in days)        27.0\n",
      "Average recent tweets per day:      16.88\n",
      "Maximum Recent Tweets Per Day:      162 at day 26\n",
      "Average tweets per day since start: 1.37\n",
      "Total Tweets since start:           37\n",
      "Followers_count:                    34\n",
      "Friends_following_count             345\n",
      "Followers/Following_index:          0.1\n",
      "Favourites (Like) count:            2\n",
      "Retweet_Like_index:                 0.0\n",
      "Retweet Ratio:                      3%\n",
      "unique mentions cnt:                51\n",
      "Mention Ratio:                      72%\n",
      "Mention index:                      0.06\n",
      "unique hashtags cnt:                24\n",
      "Hashtag Ratio:                      53%\n",
      "Hashtag Index:                      0.04\n",
      "Average URLs per tweet:             1.27\n",
      "Average text length per tweet:      223.0\n",
      "\n",
      " \t[Tweets Sample at Pick Day] \n",
      " 1251424    El Candidato Alejandro Guillier reafirma su co...\n",
      "1251944    Alejandro @Guillier reafirma su compromiso por...\n",
      "1253536    Alejandro @Guillier reafirma su compromiso por...\n",
      "1253544    Alejandro @Guillier reafirma su compromiso por...\n",
      "1253608    Alejandro @Guillier reafirma su compromiso por...\n",
      "1253681    Alejandro @Guillier reafirma su compromiso por...\n",
      "1253699    Alejandro @Guillier reafirma su compromiso por...\n",
      "1253717    Alejandro @Guillier reafirma su compromiso por...\n",
      "1253839    Alejandro @Guillier reafirma su compromiso por...\n",
      "1253951    Alejandro @Guillier reafirma su compromiso por...\n",
      "Name: text, dtype: object\n"
     ]
    },
    {
     "data": {
      "image/png": "[encoded data removed]",
      "text/plain": [
       "<Figure size 720x288 with 1 Axes>"
      ]
     },
     "metadata": {
      "needs_background": "light"
     },
     "output_type": "display_data"
    }
   ],
   "source": [
    "user_name = 'RResponsablecl'\n",
    "tw_day, metrics, mentions, hastags = get_info_data(tweets, user_name, prt=True)"
   ]
  },
  {
   "cell_type": "code",
   "execution_count": 65,
   "metadata": {
    "ExecuteTime": {
     "end_time": "2019-12-11T18:41:57.786637Z",
     "start_time": "2019-12-11T18:41:54.185312Z"
    }
   },
   "outputs": [
    {
     "name": "stdout",
     "output_type": "stream",
     "text": [
      "\n",
      "Info Data for @Piagutierrezs\n",
      "\n",
      "Name:                       Pilar Gutierrez Soto\n",
      "Name Length:                20\n",
      "@user number Numeric Chars: 0\n",
      "@user and name similarity:  0\n",
      "User Id:                    903026378903343110\n",
      "Default_Photo:              False\n",
      "Photo URL:                  http://pbs.twimg.com/profile_images/912162615161495553/JvaFizmK_normal.jpg\n",
      "Acc Verified:               False\n",
      "Has Location:               True\n",
      "Location:                   Puerto Varas, Chile\n",
      "default_profile:            True\n",
      "Has Description:            True\n",
      "Description:                Dirigente social\n",
      "Description length:         16\n",
      "Account Active:             Active\n",
      "\n",
      "Number of Tweets analyzed:          419\n",
      "Last Tweet:                         2017-11-28T22:36:15.000000000\n",
      "Older Tweet Analyzed:               2017-11-01T03:08:48.000000000\n",
      "Account Active age (in days)        89.0\n",
      "Average recent tweets per day:      15.52\n",
      "Maximum Recent Tweets Per Day:      131 at day 1\n",
      "Average tweets per day since start: 19.24\n",
      "Total Tweets since start:           1,712\n",
      "Followers_count:                    1,030\n",
      "Friends_following_count             2,539\n",
      "Followers/Following_index:          0.41\n",
      "Favourites (Like) count:            1,829\n",
      "Retweet_Like_index:                 0.0\n",
      "Retweet Ratio:                      5%\n",
      "unique mentions cnt:                57\n",
      "Mention Ratio:                      66%\n",
      "Mention index:                      0.08\n",
      "unique hashtags cnt:                6\n",
      "Hashtag Ratio:                      7%\n",
      "Hashtag Index:                      0.15\n",
      "Average URLs per tweet:             0.9\n",
      "Average text length per tweet:      154.0\n",
      "\n",
      " \t[Tweets Sample at Pick Day] \n",
      " 6201    Piñera miente el país no se cae a pedazos GRAN...\n",
      "6251    Piñera miente el país no se cae a pedazos GRAN...\n",
      "6272    Piñera miente el país no se cae a pedazos GRAN...\n",
      "6629    Piñera miente el país no se cae a pedazos GRAN...\n",
      "6746    Piñera miente el país no se cae a pedazos GRAN...\n",
      "6781    Piñera miente el país no se cae a pedazos GRAN...\n",
      "6833    Piñera miente el país no se cae a pedazos GRAN...\n",
      "6868    Piñera miente el país no se cae a pedazos GRAN...\n",
      "6946    Piñera miente el país no se cae a pedazos GRAN...\n",
      "7055    Piñera miente el país no se cae a pedazos GRAN...\n",
      "Name: text, dtype: object\n"
     ]
    },
    {
     "data": {
      "image/png": "[encoded data removed]",
      "text/plain": [
       "<Figure size 720x288 with 1 Axes>"
      ]
     },
     "metadata": {
      "needs_background": "light"
     },
     "output_type": "display_data"
    }
   ],
   "source": [
    "user_name = 'Piagutierrezs'\n",
    "tw_day, metrics, mentions, hastags = get_info_data(tweets, user_name, prt=True)"
   ]
  },
  {
   "cell_type": "code",
   "execution_count": 66,
   "metadata": {
    "ExecuteTime": {
     "end_time": "2019-12-11T18:42:34.189220Z",
     "start_time": "2019-12-11T18:42:31.095741Z"
    }
   },
   "outputs": [
    {
     "name": "stdout",
     "output_type": "stream",
     "text": [
      "\n",
      "Info Data for @NathalySeplved3\n",
      "\n",
      "Name:                       Sepúlveda Natha\n",
      "Name Length:                15\n",
      "@user number Numeric Chars: 1\n",
      "@user and name similarity:  0\n",
      "User Id:                    922302808791150592\n",
      "Default_Photo:              False\n",
      "Photo URL:                  http://pbs.twimg.com/profile_images/922311874074509313/GO9ffztI_normal.jpg\n",
      "Acc Verified:               False\n",
      "Has Location:               True\n",
      "Location:                   Metropolitana de Santiago, Chi\n",
      "default_profile:            True\n",
      "Has Description:            True\n",
      "Description:                Más zurda que ayer!!!\n",
      "\n",
      "Mi otra cuenta @nathalyseplved2   está sin funcionar,. nos leemos por acá.\n",
      "Description length:         97\n",
      "Account Active:             Active\n",
      "\n",
      "Number of Tweets analyzed:          634\n",
      "Last Tweet:                         2017-11-30T21:14:41.000000000\n",
      "Older Tweet Analyzed:               2017-11-01T17:44:05.000000000\n",
      "Account Active age (in days)        38.0\n",
      "Average recent tweets per day:      21.86\n",
      "Maximum Recent Tweets Per Day:      165 at day 20\n",
      "Average tweets per day since start: 14.61\n",
      "Total Tweets since start:           555\n",
      "Followers_count:                    294\n",
      "Friends_following_count             520\n",
      "Followers/Following_index:          0.57\n",
      "Favourites (Like) count:            315\n",
      "Retweet_Like_index:                 0.0\n",
      "Retweet Ratio:                      10%\n",
      "unique mentions cnt:                94\n",
      "Mention Ratio:                      87%\n",
      "Mention index:                      0.13\n",
      "unique hashtags cnt:                53\n",
      "Hashtag Ratio:                      84%\n",
      "Hashtag Index:                      0.06\n",
      "Average URLs per tweet:             0.2\n",
      "Average text length per tweet:      176.0\n",
      "\n",
      " \t[Tweets Sample at Pick Day] \n",
      " 729046    RT @mtnancyts: @guillier @BeaSanchezYTu @marco...\n",
      "730568    Los Zurdos de verdad deben unirse y dar el eje...\n",
      "731302    Los Zurdos de verdad deben unirse y dar el eje...\n",
      "732178    Los Zurdos de verdad deben unirse y dar el eje...\n",
      "734723    Los Zurdos de verdad deben unirse y dar el eje...\n",
      "734861    Los Zurdos de verdad deben unirse y dar el eje...\n",
      "735795    Los Zurdos de verdad deben unirse y dar el eje...\n",
      "735890    Los Zurdos de verdad deben unirse y dar el eje...\n",
      "736092    Los Zurdos de verdad deben unirse y dar el eje...\n",
      "739278    Los Zurdos de verdad deben unirse y dar el eje...\n",
      "Name: text, dtype: object\n"
     ]
    },
    {
     "data": {
      "image/png": "[encoded data removed]",
      "text/plain": [
       "<Figure size 720x288 with 1 Axes>"
      ]
     },
     "metadata": {
      "needs_background": "light"
     },
     "output_type": "display_data"
    }
   ],
   "source": [
    "user_name = 'NathalySeplved3'\n",
    "tw_day, metrics, mentions, hastags = get_info_data(tweets, user_name, prt=True)"
   ]
  },
  {
   "cell_type": "code",
   "execution_count": 67,
   "metadata": {
    "ExecuteTime": {
     "end_time": "2019-12-11T18:42:49.201103Z",
     "start_time": "2019-12-11T18:42:46.241696Z"
    }
   },
   "outputs": [
    {
     "name": "stdout",
     "output_type": "stream",
     "text": [
      "\n",
      "Info Data for @ElCentinelaMPE\n",
      "\n",
      "Name:                       El Centinela\n",
      "Name Length:                12\n",
      "@user number Numeric Chars: 0\n",
      "@user and name similarity:  0\n",
      "User Id:                    921445622678478848\n",
      "Default_Photo:              False\n",
      "Photo URL:                  http://pbs.twimg.com/profile_images/921446439846383616/VJVnqA3F_normal.jpg\n",
      "Acc Verified:               False\n",
      "Has Location:               True\n",
      "Location:                   Santiago, Chile\n",
      "default_profile:            False\n",
      "Has Description:            True\n",
      "Description:                Noticias y actualidad desde el Magíster en Periodismo UC-El Mercurio.\n",
      "Description length:         69\n",
      "Account Active:             Active\n",
      "\n",
      "Number of Tweets analyzed:          141\n",
      "Last Tweet:                         2017-11-20T00:44:21.000000000\n",
      "Older Tweet Analyzed:               2017-11-02T17:00:04.000000000\n",
      "Account Active age (in days)        30.0\n",
      "Average recent tweets per day:      8.29\n",
      "Maximum Recent Tweets Per Day:      114 at day 19\n",
      "Average tweets per day since start: 0.47\n",
      "Total Tweets since start:           14\n",
      "Followers_count:                    9\n",
      "Friends_following_count             25\n",
      "Followers/Following_index:          0.36\n",
      "Favourites (Like) count:            1\n",
      "Retweet_Like_index:                 0.0\n",
      "Retweet Ratio:                      1%\n",
      "unique mentions cnt:                13\n",
      "Mention Ratio:                      30%\n",
      "Mention index:                      0.15\n",
      "unique hashtags cnt:                13\n",
      "Hashtag Ratio:                      90%\n",
      "Hashtag Index:                      0.08\n",
      "Average URLs per tweet:             0.74\n",
      "Average text length per tweet:      166.0\n",
      "\n",
      " \t[Tweets Sample at Pick Day] \n",
      " 620134    En las mesas de China y Hong Kong:\\nPiñera 88 ...\n",
      "624504    Rodeado de prensa y adherentes, Sebastián Piñe...\n",
      "626233    Piñera sale resguardado tras votar. Afuera de ...\n",
      "626646    En Viña del Mar, a esta hora vota el senador F...\n",
      "626815    En Viña del Mar, a esta hora vota el senador F...\n",
      "626863    En Viña del Mar, a esta hora vota el senador F...\n",
      "626997    En Viña del Mar, a esta hora vota el senador F...\n",
      "627004    En Viña del Mar, a esta hora vota el senador F...\n",
      "627317    En Antofagasta, acaba de votar Alejandro Guill...\n",
      "627339    En Viña del Mar, a esta hora vota el senador F...\n",
      "Name: text, dtype: object\n"
     ]
    },
    {
     "data": {
      "image/png": "[encoded data removed]",
      "text/plain": [
       "<Figure size 720x288 with 1 Axes>"
      ]
     },
     "metadata": {
      "needs_background": "light"
     },
     "output_type": "display_data"
    }
   ],
   "source": [
    "user_name = 'ElCentinelaMPE'\n",
    "tw_day, metrics, mentions, hastags = get_info_data(tweets, user_name, prt=True)"
   ]
  },
  {
   "cell_type": "code",
   "execution_count": 68,
   "metadata": {
    "ExecuteTime": {
     "end_time": "2019-12-11T18:43:07.707060Z",
     "start_time": "2019-12-11T18:43:06.292167Z"
    }
   },
   "outputs": [
    {
     "name": "stdout",
     "output_type": "stream",
     "text": [
      "\n",
      "Info Data for @PamelaSoler3\n",
      "\n",
      "Name:                       gitanilla andaluza\n",
      "Name Length:                18\n",
      "@user number Numeric Chars: 1\n",
      "@user and name similarity:  0\n",
      "User Id:                    909141300221501443\n",
      "Default_Photo:              False\n",
      "Photo URL:                  http://pbs.twimg.com/profile_images/926431255289266177/CWlqixNW_normal.jpg\n",
      "Acc Verified:               False\n",
      "Has Location:               False\n",
      "Location:                   \n",
      "default_profile:            True\n",
      "Has Description:            True\n",
      "Description:                chilena , mamá y esposa ,feliz con mi vida , libre pensante ..aprendiz de bruja y por sobre todo de IZQUIERDA y este es el medio que comparto mis ideas!\n",
      "Description length:         152\n",
      "Account Active:             Not Active\n",
      "\n",
      "Number of Tweets analyzed:          136\n",
      "Last Tweet:                         2017-11-30T22:36:22.000000000\n",
      "Older Tweet Analyzed:               2017-11-07T01:43:58.000000000\n",
      "Account Active age (in days)        75.0\n",
      "Average recent tweets per day:      5.91\n",
      "Maximum Recent Tweets Per Day:      82 at day 23\n",
      "Average tweets per day since start: 8.33\n",
      "Total Tweets since start:           625\n",
      "Followers_count:                    354\n",
      "Friends_following_count             353\n",
      "Followers/Following_index:          1.0\n",
      "Favourites (Like) count:            2,131\n",
      "Retweet_Like_index:                 0.0\n",
      "Retweet Ratio:                      1%\n",
      "unique mentions cnt:                31\n",
      "Mention Ratio:                      65%\n",
      "Mention index:                      0.14\n",
      "unique hashtags cnt:                7\n",
      "Hashtag Ratio:                      59%\n",
      "Hashtag Index:                      0.08\n",
      "Average URLs per tweet:             0.17\n",
      "Average text length per tweet:      194.0\n",
      "\n",
      " \t[Tweets Sample at Pick Day] \n",
      " 1060250    Que diferencia entre una familia que se ama po...\n",
      "1060439    Que diferencia entre una familia que se ama po...\n",
      "1061100    Que diferencia entre una familia que se ama po...\n",
      "1061219    Que diferencia entre una familia que se ama po...\n",
      "1061342    Que diferencia entre una familia que se ama po...\n",
      "1061622    Que diferencia entre una familia que se ama po...\n",
      "1061640    Que diferencia entre una familia que se ama po...\n",
      "1062502    Que diferencia entre una familia que se ama po...\n",
      "1062644    Que diferencia entre una familia que se ama po...\n",
      "1063301    Que diferencia entre una familia que se ama po...\n",
      "Name: text, dtype: object\n"
     ]
    },
    {
     "data": {
      "image/png": "[encoded data removed]",
      "text/plain": [
       "<Figure size 720x288 with 1 Axes>"
      ]
     },
     "metadata": {
      "needs_background": "light"
     },
     "output_type": "display_data"
    }
   ],
   "source": [
    "user_name = 'PamelaSoler3'\n",
    "tw_day, metrics, mentions, hastags = get_info_data(tweets, user_name, prt=True)"
   ]
  },
  {
   "cell_type": "code",
   "execution_count": 70,
   "metadata": {
    "ExecuteTime": {
     "end_time": "2019-12-11T18:43:42.972060Z",
     "start_time": "2019-12-11T18:43:40.074634Z"
    }
   },
   "outputs": [
    {
     "name": "stdout",
     "output_type": "stream",
     "text": [
      "\n",
      "Info Data for @AShumman\n",
      "\n",
      "Name:                       Alexander Shumman\n",
      "Name Length:                17\n",
      "@user number Numeric Chars: 0\n",
      "@user and name similarity:  0\n",
      "User Id:                    914950957712146432\n",
      "Default_Photo:              False\n",
      "Photo URL:                  http://pbs.twimg.com/profile_images/915001657406173185/XHQaAxZ0_normal.jpg\n",
      "Acc Verified:               False\n",
      "Has Location:               True\n",
      "Location:                   ogazparan\n",
      "default_profile:            True\n",
      "Has Description:            True\n",
      "Description:                autodidacta\n",
      "Description length:         11\n",
      "Account Active:             Active\n",
      "\n",
      "Number of Tweets analyzed:          371\n",
      "Last Tweet:                         2017-11-30T03:46:18.000000000\n",
      "Older Tweet Analyzed:               2017-11-02T19:51:44.000000000\n",
      "Account Active age (in days)        58.0\n",
      "Average recent tweets per day:      13.74\n",
      "Maximum Recent Tweets Per Day:      122 at day 23\n",
      "Average tweets per day since start: 115.31\n",
      "Total Tweets since start:           6,688\n",
      "Followers_count:                    308\n",
      "Friends_following_count             4,164\n",
      "Followers/Following_index:          0.07\n",
      "Favourites (Like) count:            6,407\n",
      "Retweet_Like_index:                 0.0\n",
      "Retweet Ratio:                      99%\n",
      "unique mentions cnt:                276\n",
      "Mention Ratio:                      100%\n",
      "Mention index:                      0.41\n",
      "unique hashtags cnt:                63\n",
      "Hashtag Ratio:                      41%\n",
      "Hashtag Index:                      0.3\n",
      "Average URLs per tweet:             0.17\n",
      "Average text length per tweet:      127.0\n",
      "\n",
      " \t[Tweets Sample at Pick Day] \n",
      " 1017505    RT @Tinnnto: Acá esperando a que empiece #LasC...\n",
      "1017565    RT @JParadaHoyl: A punto de partir #LasCarasDe...\n",
      "1017574    RT @JMAS_Region: ¡En breve! Nuestro candidato ...\n",
      "1017597    RT @MPialfaro: Esperando la entrevista de nues...\n",
      "1017630    RT @pellegrini_jj: #LasCarasDeLaMoneda esta fo...\n",
      "1017653    RT @Sumate_Guillier: Hoy 22.30 hrs! El candida...\n",
      "1017669    RT @_Garrettt_: #LasCarasDeLaMoneda lo únicos ...\n",
      "1018664    RT @canal13: Amigos recuerden, hoy después de ...\n",
      "1018998    RT @CiudadanosxG: #Ahora #ElPresidenteDeLaGent...\n",
      "1019105    RT @Sumate_Guillier: 🔃 Hoy 22:30 !!!!! El cand...\n",
      "Name: text, dtype: object\n"
     ]
    },
    {
     "data": {
      "image/png": "[encoded data removed]",
      "text/plain": [
       "<Figure size 720x288 with 1 Axes>"
      ]
     },
     "metadata": {
      "needs_background": "light"
     },
     "output_type": "display_data"
    }
   ],
   "source": [
    "user_name = 'AShumman'\n",
    "tw_day, metrics, mentions, hastags = get_info_data(tweets, user_name, prt=True)"
   ]
  },
  {
   "cell_type": "code",
   "execution_count": 71,
   "metadata": {
    "ExecuteTime": {
     "end_time": "2019-12-11T18:44:47.932106Z",
     "start_time": "2019-12-11T18:44:46.505771Z"
    }
   },
   "outputs": [
    {
     "name": "stdout",
     "output_type": "stream",
     "text": [
      "\n",
      "Info Data for @Sumate_Guillier\n",
      "\n",
      "Name:                       #SúmateAGuillier\n",
      "Name Length:                16\n",
      "@user number Numeric Chars: 0\n",
      "@user and name similarity:  0\n",
      "User Id:                    933384768804110336\n",
      "Default_Photo:              False\n",
      "Photo URL:                  http://pbs.twimg.com/profile_images/933385440794632192/MwSY39xo_normal.jpg\n",
      "Acc Verified:               False\n",
      "Has Location:               True\n",
      "Location:                   Chile\n",
      "default_profile:            True\n",
      "Has Description:            True\n",
      "Description:                Súmate a apoyar la candidatura del próximo Presidente de Chile, Alejandro Guillier.\n",
      "Description length:         83\n",
      "Account Active:             Not Active\n",
      "\n",
      "Number of Tweets analyzed:          530\n",
      "Last Tweet:                         2017-11-29T13:47:07.000000000\n",
      "Older Tweet Analyzed:               2017-11-22T18:17:45.000000000\n",
      "Account Active age (in days)        6.0\n",
      "Average recent tweets per day:      88.33\n",
      "Maximum Recent Tweets Per Day:      195 at day 23\n",
      "Average tweets per day since start: 0.33\n",
      "Total Tweets since start:           2\n",
      "Followers_count:                    18\n",
      "Friends_following_count             32\n",
      "Followers/Following_index:          0.56\n",
      "Favourites (Like) count:            1\n",
      "Retweet_Like_index:                 17.0\n",
      "Retweet Ratio:                      3%\n",
      "unique mentions cnt:                15\n",
      "Mention Ratio:                      53%\n",
      "Mention index:                      0.03\n",
      "unique hashtags cnt:                11\n",
      "Hashtag Ratio:                      79%\n",
      "Hashtag Index:                      0.02\n",
      "Average URLs per tweet:             0.55\n",
      "Average text length per tweet:      159.0\n",
      "\n",
      " \t[Tweets Sample at Pick Day] \n",
      " 1011443    Hoy 22.30 hrs! El candidato de la gente @guill...\n",
      "1011591    Hoy 22.30 hrs! El candidato de la gente @guill...\n",
      "1011640    Hoy 22.30 hrs! El candidato de la gente @guill...\n",
      "1011706    Hoy 22.30 hrs! El candidato de la gente @guill...\n",
      "1012063    Hoy 22.30 hrs! El candidato de la gente @guill...\n",
      "1012223    Hoy 22.30 hrs! El candidato de la gente @guill...\n",
      "1012258    Hoy 22.30 hrs! El candidato de la gente @guill...\n",
      "1012924    Hoy 22.30 hrs! El candidato de la gente @guill...\n",
      "1013534    Hoy 22.30 hrs! El candidato de la gente @guill...\n",
      "1013561    Hoy 22.30 hrs! El candidato de la gente @guill...\n",
      "Name: text, dtype: object\n"
     ]
    },
    {
     "data": {
      "image/png": "[encoded data removed]",
      "text/plain": [
       "<Figure size 720x288 with 1 Axes>"
      ]
     },
     "metadata": {
      "needs_background": "light"
     },
     "output_type": "display_data"
    }
   ],
   "source": [
    "user_name = 'Sumate_Guillier'\n",
    "tw_day, metrics, mentions, hastags = get_info_data(tweets, user_name, prt=True)"
   ]
  },
  {
   "cell_type": "code",
   "execution_count": 74,
   "metadata": {
    "ExecuteTime": {
     "end_time": "2019-12-11T18:46:21.626799Z",
     "start_time": "2019-12-11T18:46:18.756748Z"
    }
   },
   "outputs": [
    {
     "name": "stdout",
     "output_type": "stream",
     "text": [
      "\n",
      "Info Data for @jav_ast\n",
      "\n",
      "Name:                       Javier Astudillo\n",
      "Name Length:                16\n",
      "@user number Numeric Chars: 0\n",
      "@user and name similarity:  0\n",
      "User Id:                    934771590583279616\n",
      "Default_Photo:              False\n",
      "Photo URL:                  http://pbs.twimg.com/profile_images/934780786158592000/dj9mU4xY_normal.jpg\n",
      "Acc Verified:               False\n",
      "Has Location:               False\n",
      "Location:                   \n",
      "default_profile:            True\n",
      "Has Description:            True\n",
      "Description:                Estudiante de Medicina UCH - Salud Artes y Cultura Comida Política y Gobierno\n",
      "Description length:         77\n",
      "Account Active:             Active\n",
      "\n",
      "Number of Tweets analyzed:          104\n",
      "Last Tweet:                         2017-11-27T12:03:15.000000000\n",
      "Older Tweet Analyzed:               2017-11-27T11:38:45.000000000\n",
      "Account Active age (in days)        0.0\n",
      "Average recent tweets per day:      inf\n",
      "Maximum Recent Tweets Per Day:      104 at day 27\n",
      "Average tweets per day since start: inf\n",
      "Total Tweets since start:           7\n",
      "Followers_count:                    42\n",
      "Friends_following_count             104\n",
      "Followers/Following_index:          0.4\n",
      "Favourites (Like) count:            0\n",
      "Retweet_Like_index:                 0\n",
      "Retweet Ratio:                      2%\n",
      "unique mentions cnt:                7\n",
      "Mention Ratio:                      100%\n",
      "Mention index:                      0.04\n",
      "unique hashtags cnt:                3\n",
      "Hashtag Ratio:                      98%\n",
      "Hashtag Index:                      0.01\n",
      "Average URLs per tweet:             0.0\n",
      "Average text length per tweet:      155.0\n",
      "\n",
      " \t[Tweets Sample at Pick Day] \n",
      " 1309981    RT @kitaalarcon: @sebastianpinera Porque mejor...\n",
      "1310246    #ESPUCh analiza las propuestas de los candidat...\n",
      "1310282    #ESPUCh analiza las propuestas de los candidat...\n",
      "1310294    #ESPUCh analiza las propuestas de los candidat...\n",
      "1310321    #ESPUCh analiza las propuestas de los candidat...\n",
      "1310331    #ESPUCh analiza las propuestas de los candidat...\n",
      "1310349    #ESPUCh analiza las propuestas de los candidat...\n",
      "1310354    #ESPUCh analiza las propuestas de los candidat...\n",
      "1310380    #ESPUCh analiza las propuestas de los candidat...\n",
      "1310467    #ESPUCh analiza las propuestas de los candidat...\n",
      "Name: text, dtype: object\n"
     ]
    },
    {
     "data": {
      "image/png": "[encoded data removed]",
      "text/plain": [
       "<Figure size 720x288 with 1 Axes>"
      ]
     },
     "metadata": {
      "needs_background": "light"
     },
     "output_type": "display_data"
    }
   ],
   "source": [
    "user_name = 'jav_ast'\n",
    "tw_day, metrics, mentions, hastags = get_info_data(tweets, user_name, prt=True)"
   ]
  },
  {
   "cell_type": "code",
   "execution_count": null,
   "metadata": {},
   "outputs": [],
   "source": []
  }
 ],
 "metadata": {
  "kernelspec": {
   "display_name": "python_3_7",
   "language": "python",
   "name": "python_3_7"
  },
  "language_info": {
   "codemirror_mode": {
    "name": "ipython",
    "version": 3
   },
   "file_extension": ".py",
   "mimetype": "text/x-python",
   "name": "python",
   "nbconvert_exporter": "python",
   "pygments_lexer": "ipython3",
   "version": "3.7.3"
  },
  "nbTranslate": {
   "displayLangs": [
    "*"
   ],
   "hotkey": "alt-t",
   "langInMainMenu": true,
   "sourceLang": "en",
   "targetLang": "fr",
   "useGoogleTranslate": true
  },
  "toc": {
   "base_numbering": 1,
   "nav_menu": {},
   "number_sections": true,
   "sideBar": true,
   "skip_h1_title": true,
   "title_cell": "Table of Contents",
   "title_sidebar": "Contents",
   "toc_cell": false,
   "toc_position": {},
   "toc_section_display": true,
   "toc_window_display": true
  },
  "varInspector": {
   "cols": {
    "lenName": 16,
    "lenType": 16,
    "lenVar": 40
   },
   "kernels_config": {
    "python": {
     "delete_cmd_postfix": "",
     "delete_cmd_prefix": "del ",
     "library": "var_list.py",
     "varRefreshCmd": "print(var_dic_list())"
    },
    "r": {
     "delete_cmd_postfix": ") ",
     "delete_cmd_prefix": "rm(",
     "library": "var_list.r",
     "varRefreshCmd": "cat(var_dic_list()) "
    }
   },
   "types_to_exclude": [
    "module",
    "function",
    "builtin_function_or_method",
    "instance",
    "_Feature"
   ],
   "window_display": false
  }
 },
 "nbformat": 4,
 "nbformat_minor": 2
}
