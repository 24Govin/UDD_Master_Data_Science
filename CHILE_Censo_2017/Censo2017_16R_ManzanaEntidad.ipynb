{
 "cells": [
  {
   "cell_type": "markdown",
   "metadata": {},
   "source": [
    "# Chile Censo 2017 - Data analysis "
   ]
  },
  {
   "cell_type": "markdown",
   "metadata": {},
   "source": [
    "<p><img src=\"http://www.censo2017.cl/wp-content/uploads/2016/01/logo-2.png\"></p>\n",
    "<br>"
   ]
  },
  {
   "cell_type": "markdown",
   "metadata": {},
   "source": [
    "### The Dataset:\n",
    "https://redatam-ine.ine.cl/redbin/RpWebEngine.exe/Portal?BASE=CENSO_2017&lang=esp"
   ]
  },
  {
   "cell_type": "code",
   "execution_count": 2,
   "metadata": {},
   "outputs": [],
   "source": [
    "import pandas as pd\n",
    "import numpy as np\n",
    "import matplotlib\n",
    "import matplotlib.pyplot as plt\n",
    "%matplotlib inline"
   ]
  },
  {
   "cell_type": "code",
   "execution_count": 3,
   "metadata": {},
   "outputs": [
    {
     "name": "stdout",
     "output_type": "stream",
     "text": [
      "Censo2017_16R_ManzanaEntidad.ipynb     Censo2017_Manzanas.csv\r\n",
      "\u001b[34mCenso2017_Identificación_Geográfica\u001b[m\u001b[m/   LEAME.docx\r\n"
     ]
    }
   ],
   "source": [
    "ls"
   ]
  },
  {
   "cell_type": "code",
   "execution_count": 4,
   "metadata": {},
   "outputs": [
    {
     "data": {
      "text/plain": [
       "(180499, 59)"
      ]
     },
     "execution_count": 4,
     "metadata": {},
     "output_type": "execute_result"
    }
   ],
   "source": [
    "# Load dataset\n",
    "data = './Censo2017_Manzanas.csv'\n",
    "manzanas = pd.read_csv(data, sep=';')\n",
    "manzanas.shape # 180_499, 59)"
   ]
  },
  {
   "cell_type": "code",
   "execution_count": 18,
   "metadata": {},
   "outputs": [],
   "source": [
    "# manzanas.to_excel('manzanas2.xlsx')"
   ]
  },
  {
   "cell_type": "code",
   "execution_count": 5,
   "metadata": {},
   "outputs": [
    {
     "data": {
      "text/html": [
       "<div>\n",
       "<style scoped>\n",
       "    .dataframe tbody tr th:only-of-type {\n",
       "        vertical-align: middle;\n",
       "    }\n",
       "\n",
       "    .dataframe tbody tr th {\n",
       "        vertical-align: top;\n",
       "    }\n",
       "\n",
       "    .dataframe thead th {\n",
       "        text-align: right;\n",
       "    }\n",
       "</style>\n",
       "<table border=\"1\" class=\"dataframe\">\n",
       "  <thead>\n",
       "    <tr style=\"text-align: right;\">\n",
       "      <th></th>\n",
       "      <th>REGION</th>\n",
       "      <th>PROVINCIA</th>\n",
       "      <th>COMUNA</th>\n",
       "      <th>DC</th>\n",
       "      <th>AREA</th>\n",
       "      <th>ZC_LOC</th>\n",
       "      <th>MZ_ENT</th>\n",
       "      <th>ID_ZONA_LOC</th>\n",
       "      <th>ID_MANZENT</th>\n",
       "      <th>PERSONAS</th>\n",
       "      <th>...</th>\n",
       "      <th>MATREC</th>\n",
       "      <th>MATIRREC</th>\n",
       "      <th>P05_1</th>\n",
       "      <th>P05_2</th>\n",
       "      <th>P05_3</th>\n",
       "      <th>P05_4</th>\n",
       "      <th>REGION_15R</th>\n",
       "      <th>PROVINCIA_15R</th>\n",
       "      <th>COMUNA_15R</th>\n",
       "      <th>ID_MANZENT_15R</th>\n",
       "    </tr>\n",
       "  </thead>\n",
       "  <tbody>\n",
       "    <tr>\n",
       "      <th>0</th>\n",
       "      <td>1</td>\n",
       "      <td>11</td>\n",
       "      <td>1101</td>\n",
       "      <td>1</td>\n",
       "      <td>1</td>\n",
       "      <td>1</td>\n",
       "      <td>1</td>\n",
       "      <td>7849</td>\n",
       "      <td>1101011001001</td>\n",
       "      <td>15</td>\n",
       "      <td>...</td>\n",
       "      <td>0</td>\n",
       "      <td>0</td>\n",
       "      <td>0</td>\n",
       "      <td>0</td>\n",
       "      <td>0</td>\n",
       "      <td>0</td>\n",
       "      <td>1</td>\n",
       "      <td>11</td>\n",
       "      <td>1101</td>\n",
       "      <td>1101011001001</td>\n",
       "    </tr>\n",
       "    <tr>\n",
       "      <th>1</th>\n",
       "      <td>1</td>\n",
       "      <td>11</td>\n",
       "      <td>1101</td>\n",
       "      <td>1</td>\n",
       "      <td>1</td>\n",
       "      <td>1</td>\n",
       "      <td>10</td>\n",
       "      <td>7849</td>\n",
       "      <td>1101011001010</td>\n",
       "      <td>70</td>\n",
       "      <td>...</td>\n",
       "      <td>1</td>\n",
       "      <td>0</td>\n",
       "      <td>15</td>\n",
       "      <td>0</td>\n",
       "      <td>0</td>\n",
       "      <td>0</td>\n",
       "      <td>1</td>\n",
       "      <td>11</td>\n",
       "      <td>1101</td>\n",
       "      <td>1101011001010</td>\n",
       "    </tr>\n",
       "    <tr>\n",
       "      <th>2</th>\n",
       "      <td>1</td>\n",
       "      <td>11</td>\n",
       "      <td>1101</td>\n",
       "      <td>1</td>\n",
       "      <td>1</td>\n",
       "      <td>1</td>\n",
       "      <td>11</td>\n",
       "      <td>7849</td>\n",
       "      <td>1101011001011</td>\n",
       "      <td>36</td>\n",
       "      <td>...</td>\n",
       "      <td>5</td>\n",
       "      <td>0</td>\n",
       "      <td>15</td>\n",
       "      <td>0</td>\n",
       "      <td>0</td>\n",
       "      <td>0</td>\n",
       "      <td>1</td>\n",
       "      <td>11</td>\n",
       "      <td>1101</td>\n",
       "      <td>1101011001011</td>\n",
       "    </tr>\n",
       "    <tr>\n",
       "      <th>3</th>\n",
       "      <td>1</td>\n",
       "      <td>11</td>\n",
       "      <td>1101</td>\n",
       "      <td>1</td>\n",
       "      <td>1</td>\n",
       "      <td>1</td>\n",
       "      <td>12</td>\n",
       "      <td>7849</td>\n",
       "      <td>1101011001012</td>\n",
       "      <td>65</td>\n",
       "      <td>...</td>\n",
       "      <td>9</td>\n",
       "      <td>4</td>\n",
       "      <td>24</td>\n",
       "      <td>0</td>\n",
       "      <td>0</td>\n",
       "      <td>0</td>\n",
       "      <td>1</td>\n",
       "      <td>11</td>\n",
       "      <td>1101</td>\n",
       "      <td>1101011001012</td>\n",
       "    </tr>\n",
       "    <tr>\n",
       "      <th>4</th>\n",
       "      <td>1</td>\n",
       "      <td>11</td>\n",
       "      <td>1101</td>\n",
       "      <td>1</td>\n",
       "      <td>1</td>\n",
       "      <td>1</td>\n",
       "      <td>13</td>\n",
       "      <td>7849</td>\n",
       "      <td>1101011001013</td>\n",
       "      <td>39</td>\n",
       "      <td>...</td>\n",
       "      <td>0</td>\n",
       "      <td>0</td>\n",
       "      <td>9</td>\n",
       "      <td>0</td>\n",
       "      <td>0</td>\n",
       "      <td>0</td>\n",
       "      <td>1</td>\n",
       "      <td>11</td>\n",
       "      <td>1101</td>\n",
       "      <td>1101011001013</td>\n",
       "    </tr>\n",
       "  </tbody>\n",
       "</table>\n",
       "<p>5 rows × 59 columns</p>\n",
       "</div>"
      ],
      "text/plain": [
       "   REGION  PROVINCIA  COMUNA  DC  AREA  ZC_LOC  MZ_ENT  ID_ZONA_LOC  \\\n",
       "0       1         11    1101   1     1       1       1         7849   \n",
       "1       1         11    1101   1     1       1      10         7849   \n",
       "2       1         11    1101   1     1       1      11         7849   \n",
       "3       1         11    1101   1     1       1      12         7849   \n",
       "4       1         11    1101   1     1       1      13         7849   \n",
       "\n",
       "      ID_MANZENT  PERSONAS       ...       MATREC MATIRREC P05_1 P05_2 P05_3  \\\n",
       "0  1101011001001        15       ...            0        0     0     0     0   \n",
       "1  1101011001010        70       ...            1        0    15     0     0   \n",
       "2  1101011001011        36       ...            5        0    15     0     0   \n",
       "3  1101011001012        65       ...            9        4    24     0     0   \n",
       "4  1101011001013        39       ...            0        0     9     0     0   \n",
       "\n",
       "  P05_4 REGION_15R PROVINCIA_15R  COMUNA_15R  ID_MANZENT_15R  \n",
       "0     0          1            11        1101   1101011001001  \n",
       "1     0          1            11        1101   1101011001010  \n",
       "2     0          1            11        1101   1101011001011  \n",
       "3     0          1            11        1101   1101011001012  \n",
       "4     0          1            11        1101   1101011001013  \n",
       "\n",
       "[5 rows x 59 columns]"
      ]
     },
     "execution_count": 5,
     "metadata": {},
     "output_type": "execute_result"
    }
   ],
   "source": [
    "manzanas.head()"
   ]
  },
  {
   "cell_type": "code",
   "execution_count": 6,
   "metadata": {
    "scrolled": true
   },
   "outputs": [
    {
     "name": "stdout",
     "output_type": "stream",
     "text": [
      "<class 'pandas.core.frame.DataFrame'>\n",
      "RangeIndex: 180499 entries, 0 to 180498\n",
      "Data columns (total 59 columns):\n",
      "REGION            180499 non-null int64\n",
      "PROVINCIA         180499 non-null int64\n",
      "COMUNA            180499 non-null int64\n",
      "DC                180499 non-null int64\n",
      "AREA              180499 non-null int64\n",
      "ZC_LOC            180499 non-null int64\n",
      "MZ_ENT            180499 non-null int64\n",
      "ID_ZONA_LOC       180499 non-null int64\n",
      "ID_MANZENT        180499 non-null int64\n",
      "PERSONAS          180499 non-null int64\n",
      "HOMBRES           180499 non-null object\n",
      "MUJERES           180499 non-null object\n",
      "EDAD_0A5          180499 non-null object\n",
      "EDAD_6A14         180499 non-null object\n",
      "EDAD_15A64        180499 non-null object\n",
      "EDAD_65YMAS       180499 non-null object\n",
      "INMIGRANTES       180499 non-null object\n",
      "PUEBLO            180499 non-null object\n",
      "VIV_PART          180499 non-null int64\n",
      "VIV_COL           180499 non-null int64\n",
      "VPOMP             180499 non-null int64\n",
      "TOTAL_VIV         180499 non-null int64\n",
      "CANT_HOG          180499 non-null int64\n",
      "P01_1             180499 non-null int64\n",
      "P01_2             180499 non-null int64\n",
      "P01_3             180499 non-null int64\n",
      "P01_4             180499 non-null int64\n",
      "P01_5             180499 non-null int64\n",
      "P01_6             180499 non-null int64\n",
      "P01_7             180499 non-null int64\n",
      "P03A_1            180499 non-null int64\n",
      "P03A_2            180499 non-null int64\n",
      "P03A_3            180499 non-null int64\n",
      "P03A_4            180499 non-null int64\n",
      "P03A_5            180499 non-null int64\n",
      "P03A_6            180499 non-null int64\n",
      "P03B_1            180499 non-null int64\n",
      "P03B_2            180499 non-null int64\n",
      "P03B_3            180499 non-null int64\n",
      "P03B_4            180499 non-null int64\n",
      "P03B_5            180499 non-null int64\n",
      "P03B_6            180499 non-null int64\n",
      "P03B_7            180499 non-null int64\n",
      "P03C_1            180499 non-null int64\n",
      "P03C_2            180499 non-null int64\n",
      "P03C_3            180499 non-null int64\n",
      "P03C_4            180499 non-null int64\n",
      "P03C_5            180499 non-null int64\n",
      "MATACEP           180499 non-null int64\n",
      "MATREC            180499 non-null int64\n",
      "MATIRREC          180499 non-null int64\n",
      "P05_1             180499 non-null int64\n",
      "P05_2             180499 non-null int64\n",
      "P05_3             180499 non-null int64\n",
      "P05_4             180499 non-null int64\n",
      "REGION_15R        180499 non-null int64\n",
      "PROVINCIA_15R     180499 non-null int64\n",
      "COMUNA_15R        180499 non-null int64\n",
      "ID_MANZENT_15R    180499 non-null int64\n",
      "dtypes: int64(51), object(8)\n",
      "memory usage: 81.2+ MB\n"
     ]
    }
   ],
   "source": [
    "manzanas.info()"
   ]
  },
  {
   "cell_type": "code",
   "execution_count": 7,
   "metadata": {},
   "outputs": [
    {
     "data": {
      "text/plain": [
       "count    180499.000000\n",
       "mean         97.363437\n",
       "std         149.647870\n",
       "min           0.000000\n",
       "25%          35.000000\n",
       "50%          63.000000\n",
       "75%         105.000000\n",
       "max        9197.000000\n",
       "Name: PERSONAS, dtype: float64"
      ]
     },
     "execution_count": 7,
     "metadata": {},
     "output_type": "execute_result"
    }
   ],
   "source": [
    "manzanas.PERSONAS.describe()"
   ]
  },
  {
   "cell_type": "code",
   "execution_count": 8,
   "metadata": {},
   "outputs": [
    {
     "data": {
      "text/plain": [
       "3413"
      ]
     },
     "execution_count": 8,
     "metadata": {},
     "output_type": "execute_result"
    }
   ],
   "source": [
    "len(manzanas.HOMBRES[manzanas.HOMBRES == '*'])"
   ]
  },
  {
   "cell_type": "code",
   "execution_count": 9,
   "metadata": {},
   "outputs": [
    {
     "data": {
      "text/plain": [
       "3413"
      ]
     },
     "execution_count": 9,
     "metadata": {},
     "output_type": "execute_result"
    }
   ],
   "source": [
    "len(manzanas.MUJERES[manzanas.MUJERES == '*'])"
   ]
  },
  {
   "cell_type": "markdown",
   "metadata": {},
   "source": [
    "Hay 3413 Hombres y mujeres que no són identificados. Se puede considerar la proporción chilena: 1.043 Mujer x 1.0 hombre o dejar 50% (#personas/2)<br>\n",
    "Las formulas abajo, calculan el numero de Hombres e mujeres desconocidos utilizadose de los 50%"
   ]
  },
  {
   "cell_type": "code",
   "execution_count": 10,
   "metadata": {},
   "outputs": [],
   "source": [
    "# *********** NOTA: REACER LAS FORMULAS CON .LOC ***************\n",
    "manzanas['HOMBRES'] = manzanas.apply(lambda row: round((row['PERSONAS'] / 2), 0) if row['HOMBRES'] in ('*') else row['HOMBRES'], axis=1)\n",
    "manzanas['MUJERES'] = manzanas.apply(lambda row: round((row['PERSONAS'] - row['HOMBRES']), 0) if row['MUJERES'] in ('*') else row['MUJERES'], axis=1)"
   ]
  },
  {
   "cell_type": "code",
   "execution_count": 11,
   "metadata": {},
   "outputs": [],
   "source": [
    "manzanas['HOMBRES'] = manzanas['HOMBRES'].astype(int)\n",
    "manzanas['MUJERES'] = manzanas['MUJERES'].astype(int)"
   ]
  },
  {
   "cell_type": "code",
   "execution_count": 12,
   "metadata": {},
   "outputs": [],
   "source": [
    "POP_CHILE = manzanas.PERSONAS.sum()"
   ]
  },
  {
   "cell_type": "code",
   "execution_count": 13,
   "metadata": {},
   "outputs": [],
   "source": [
    "POP_HOMBRES_CHILE = manzanas.HOMBRES.sum()"
   ]
  },
  {
   "cell_type": "code",
   "execution_count": 14,
   "metadata": {},
   "outputs": [],
   "source": [
    "POP_MUJERES_CHILE = manzanas.MUJERES.sum()"
   ]
  },
  {
   "cell_type": "code",
   "execution_count": 15,
   "metadata": {},
   "outputs": [],
   "source": [
    "VIVENDAS_CHILE = manzanas.TOTAL_VIV.sum()"
   ]
  },
  {
   "cell_type": "code",
   "execution_count": 16,
   "metadata": {},
   "outputs": [],
   "source": [
    "HOGARES_CHILE = manzanas.CANT_HOG.sum()"
   ]
  },
  {
   "cell_type": "code",
   "execution_count": 17,
   "metadata": {},
   "outputs": [
    {
     "data": {
      "text/plain": [
       "count     180499\n",
       "unique       400\n",
       "top            0\n",
       "freq       95642\n",
       "Name: INMIGRANTES, dtype: object"
      ]
     },
     "execution_count": 17,
     "metadata": {},
     "output_type": "execute_result"
    }
   ],
   "source": [
    "manzanas.INMIGRANTES.describe()"
   ]
  },
  {
   "cell_type": "code",
   "execution_count": 18,
   "metadata": {},
   "outputs": [
    {
     "data": {
      "text/plain": [
       "180499"
      ]
     },
     "execution_count": 18,
     "metadata": {},
     "output_type": "execute_result"
    }
   ],
   "source": [
    "len(manzanas)"
   ]
  },
  {
   "cell_type": "code",
   "execution_count": 19,
   "metadata": {},
   "outputs": [
    {
     "data": {
      "text/plain": [
       "49220"
      ]
     },
     "execution_count": 19,
     "metadata": {},
     "output_type": "execute_result"
    }
   ],
   "source": [
    "len(manzanas.INMIGRANTES[manzanas.INMIGRANTES == '*'])"
   ]
  },
  {
   "cell_type": "code",
   "execution_count": 20,
   "metadata": {},
   "outputs": [
    {
     "data": {
      "text/plain": [
       "95642"
      ]
     },
     "execution_count": 20,
     "metadata": {},
     "output_type": "execute_result"
    }
   ],
   "source": [
    "len(manzanas.INMIGRANTES[manzanas.INMIGRANTES == '0'])"
   ]
  },
  {
   "cell_type": "code",
   "execution_count": 21,
   "metadata": {},
   "outputs": [
    {
     "data": {
      "text/plain": [
       "84857"
      ]
     },
     "execution_count": 21,
     "metadata": {},
     "output_type": "execute_result"
    }
   ],
   "source": [
    "len(manzanas.INMIGRANTES[manzanas.INMIGRANTES != '0'])"
   ]
  },
  {
   "cell_type": "markdown",
   "metadata": {},
   "source": [
    "Hay 49220 manzanas sin informacion si las personas son imigrantes. Acá se las consideró cero!"
   ]
  },
  {
   "cell_type": "code",
   "execution_count": 22,
   "metadata": {},
   "outputs": [],
   "source": [
    "manzanas['INMIGRANTES'] = manzanas.apply(lambda row: 0 if row['INMIGRANTES'] in ('*') else row['INMIGRANTES'], axis=1)\n",
    "manzanas['INMIGRANTES'] = manzanas['INMIGRANTES'].astype(int)"
   ]
  },
  {
   "cell_type": "code",
   "execution_count": 23,
   "metadata": {},
   "outputs": [],
   "source": [
    "POP_INMIGRANTES_CHILE = manzanas.INMIGRANTES.sum()"
   ]
  },
  {
   "cell_type": "code",
   "execution_count": 24,
   "metadata": {},
   "outputs": [
    {
     "name": "stdout",
     "output_type": "stream",
     "text": [
      "Numero de personas en Chile: 17574003\n",
      "Numero de hombres en Chile: 8596972\n",
      "Numero de mujeres en Chile: 8977031\n",
      "Numero de inmigrantes en Chile: 664120\n",
      "Numero de vivendas en Chile: 6499355\n",
      "Numero de hogares en Chile: 5651637\n",
      "Numero medio de personas por hogar en Chile: 3.11\n",
      "Porcentaje de inmigrantes en Chile 3.78%\n"
     ]
    }
   ],
   "source": [
    "print(\"Numero de personas en Chile:\", POP_CHILE)\n",
    "print(\"Numero de hombres en Chile:\", POP_HOMBRES_CHILE)\n",
    "print(\"Numero de mujeres en Chile:\", POP_MUJERES_CHILE)\n",
    "print(\"Numero de inmigrantes en Chile:\", POP_INMIGRANTES_CHILE)\n",
    "print(\"Numero de vivendas en Chile:\", VIVENDAS_CHILE)\n",
    "print(\"Numero de hogares en Chile:\", HOGARES_CHILE)\n",
    "print(\"Numero medio de personas por hogar en Chile:\", round(POP_CHILE/HOGARES_CHILE, 2))\n",
    "print(\"Porcentaje de inmigrantes en Chile {}%\".format(round((POP_INMIGRANTES_CHILE/POP_CHILE)*100, 2)))"
   ]
  },
  {
   "cell_type": "code",
   "execution_count": null,
   "metadata": {},
   "outputs": [],
   "source": []
  }
 ],
 "metadata": {
  "kernelspec": {
   "display_name": "Python 3",
   "language": "python",
   "name": "python3"
  },
  "language_info": {
   "codemirror_mode": {
    "name": "ipython",
    "version": 3
   },
   "file_extension": ".py",
   "mimetype": "text/x-python",
   "name": "python",
   "nbconvert_exporter": "python",
   "pygments_lexer": "ipython3",
   "version": "3.6.4"
  }
 },
 "nbformat": 4,
 "nbformat_minor": 2
}
