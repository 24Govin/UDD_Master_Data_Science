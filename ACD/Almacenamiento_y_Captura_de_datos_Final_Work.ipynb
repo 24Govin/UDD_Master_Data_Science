{
 "cells": [
  {
   "cell_type": "markdown",
   "metadata": {},
   "source": [
    "# UDD - MDS18\n",
    "## TAREA - Evaluación Almacenamiento y Captura de datos\n",
    "\n",
    "- Prof. Claudio Aracena\n",
    "\n",
    "Alumnos:\n",
    "- Briceno, H.\n",
    "- Rovai, M. \n",
    "- Sacasa, M.\n",
    "\n",
    "5 de Enero 2019\n",
    "\n",
    "---"
   ]
  },
  {
   "cell_type": "markdown",
   "metadata": {},
   "source": [
    "### Principales librerias"
   ]
  },
  {
   "cell_type": "code",
   "execution_count": 13,
   "metadata": {
    "ExecuteTime": {
     "end_time": "2018-12-18T12:28:12.704760Z",
     "start_time": "2018-12-18T12:28:08.370177Z"
    }
   },
   "outputs": [],
   "source": [
    "from time import sleep\n",
    "import pandas as pd\n",
    "import numpy as np\n",
    "\n",
    "from bs4 import BeautifulSoup\n",
    "import requests\n",
    "\n",
    "from selenium import webdriver\n",
    "from selenium.webdriver.common.keys import Keys\n",
    "from webdriver_manager.chrome import ChromeDriverManager\n",
    "from selenium.webdriver.support.ui import WebDriverWait\n",
    "\n",
    "import seaborn as sns\n",
    "import matplotlib.pyplot as plt\n",
    "%matplotlib inline\n",
    "sns.set()"
   ]
  },
  {
   "cell_type": "markdown",
   "metadata": {},
   "source": [
    "## 1. Web Scraping con BeautifulSoup - PCFactory  \n",
    "Haga un proceso de web scraping para el sitio web ​https://www.pcfactory.cl/​. Para ello realice las siguientes tareas:"
   ]
  },
  {
   "cell_type": "markdown",
   "metadata": {},
   "source": [
    "**a. Extraer todos los nombres, marcas y precios de los productos bajo la categoría de notebooks.**"
   ]
  },
  {
   "cell_type": "markdown",
   "metadata": {},
   "source": [
    "https://www.pcfactory.cl/notebooks?categoria=735&papa=636&pagina=1"
   ]
  },
  {
   "cell_type": "code",
   "execution_count": 2,
   "metadata": {
    "ExecuteTime": {
     "end_time": "2018-12-18T12:53:35.071805Z",
     "start_time": "2018-12-18T12:53:35.066117Z"
    }
   },
   "outputs": [],
   "source": [
    "title = \"Precios Productos Notebooks\""
   ]
  },
  {
   "cell_type": "code",
   "execution_count": 3,
   "metadata": {
    "ExecuteTime": {
     "end_time": "2018-12-18T12:31:40.822548Z",
     "start_time": "2018-12-18T12:31:40.818665Z"
    }
   },
   "outputs": [],
   "source": [
    "num_max_paginas = 3"
   ]
  },
  {
   "cell_type": "code",
   "execution_count": 4,
   "metadata": {
    "ExecuteTime": {
     "end_time": "2018-12-18T12:44:03.324416Z",
     "start_time": "2018-12-18T12:43:59.110760Z"
    }
   },
   "outputs": [
    {
     "name": "stdout",
     "output_type": "stream",
     "text": [
      "[INFO] Bajando pagina:  ... 1 ... 2 ... 3 [FIN]\n",
      "\n",
      "[INFO] Número de productos extraídos: 105\n"
     ]
    }
   ],
   "source": [
    "prods = []\n",
    "print(\"[INFO] Bajando pagina: \", end=\"\") \n",
    "for i in range(num_max_paginas):\n",
    "    URL = \"https://www.pcfactory.cl/notebooks?categoria=735&papa=636&pagina=\"+str(i+1)\n",
    "    r = requests.get(URL)\n",
    "    print(\" ...\", i+1, end=\"\")\n",
    "    res = BeautifulSoup(r.text, 'html5lib')   \n",
    "    products = res.find_all('div', {'class':'wrap-caluga-matrix'})\n",
    "    for s in products:\n",
    "        prod = []\n",
    "        name = s.find('span', {'class':'marca'}, {'itemprop':'name'}).text\n",
    "        prod.append(name)\n",
    "        spec = s.find('span', {'class':'nombre'}, {'itemprop': 'name'}).text\n",
    "        prod.append(spec)\n",
    "        price = s.find('span', {'class':'txt-precio'}).text \n",
    "        prod.append(price)\n",
    "        prods.append(prod)\n",
    "print(\" [FIN]\") \n",
    "print(\"\\n[INFO] Número de productos extraídos:\", len(prods))"
   ]
  },
  {
   "cell_type": "markdown",
   "metadata": {},
   "source": [
    "**b. Crear un dataframe con la información extraída.**"
   ]
  },
  {
   "cell_type": "code",
   "execution_count": 5,
   "metadata": {
    "ExecuteTime": {
     "end_time": "2018-12-18T13:06:18.221288Z",
     "start_time": "2018-12-18T13:06:18.214907Z"
    }
   },
   "outputs": [],
   "source": [
    "notebook_df = pd.DataFrame(prods)  "
   ]
  },
  {
   "cell_type": "markdown",
   "metadata": {},
   "source": [
    "`Crear nombres para las columnas`"
   ]
  },
  {
   "cell_type": "code",
   "execution_count": 6,
   "metadata": {
    "ExecuteTime": {
     "end_time": "2018-12-18T13:06:26.499578Z",
     "start_time": "2018-12-18T13:06:26.495405Z"
    }
   },
   "outputs": [],
   "source": [
    "notebook_df.columns = ['marca', 'nombre_spec', 'precio']"
   ]
  },
  {
   "cell_type": "code",
   "execution_count": 7,
   "metadata": {
    "ExecuteTime": {
     "end_time": "2018-12-18T13:06:32.436972Z",
     "start_time": "2018-12-18T13:06:32.425864Z"
    }
   },
   "outputs": [
    {
     "data": {
      "text/html": [
       "<div>\n",
       "<style scoped>\n",
       "    .dataframe tbody tr th:only-of-type {\n",
       "        vertical-align: middle;\n",
       "    }\n",
       "\n",
       "    .dataframe tbody tr th {\n",
       "        vertical-align: top;\n",
       "    }\n",
       "\n",
       "    .dataframe thead th {\n",
       "        text-align: right;\n",
       "    }\n",
       "</style>\n",
       "<table border=\"1\" class=\"dataframe\">\n",
       "  <thead>\n",
       "    <tr style=\"text-align: right;\">\n",
       "      <th></th>\n",
       "      <th>marca</th>\n",
       "      <th>nombre_spec</th>\n",
       "      <th>precio</th>\n",
       "    </tr>\n",
       "  </thead>\n",
       "  <tbody>\n",
       "    <tr>\n",
       "      <th>0</th>\n",
       "      <td>HP  ®</td>\n",
       "      <td>Notebook 245 G6 14\" HD AMD E2-9000e 4GB 500GB ...</td>\n",
       "      <td>$      179.390</td>\n",
       "    </tr>\n",
       "    <tr>\n",
       "      <th>1</th>\n",
       "      <td>HP  ®</td>\n",
       "      <td>Notebook 240 G6 14\" HD Celeron N3060 4GB 500GB...</td>\n",
       "      <td>$      184.290</td>\n",
       "    </tr>\n",
       "  </tbody>\n",
       "</table>\n",
       "</div>"
      ],
      "text/plain": [
       "    marca                                        nombre_spec           precio\n",
       "0  HP  ®   Notebook 245 G6 14\" HD AMD E2-9000e 4GB 500GB ...   $      179.390\n",
       "1  HP  ®   Notebook 240 G6 14\" HD Celeron N3060 4GB 500GB...   $      184.290"
      ]
     },
     "execution_count": 7,
     "metadata": {},
     "output_type": "execute_result"
    }
   ],
   "source": [
    "notebook_df.head(2)"
   ]
  },
  {
   "cell_type": "markdown",
   "metadata": {},
   "source": [
    "`Limpiar columna \"marca\"`"
   ]
  },
  {
   "cell_type": "code",
   "execution_count": 8,
   "metadata": {
    "ExecuteTime": {
     "end_time": "2018-12-18T13:06:50.249032Z",
     "start_time": "2018-12-18T13:06:50.233273Z"
    }
   },
   "outputs": [
    {
     "data": {
      "text/html": [
       "<div>\n",
       "<style scoped>\n",
       "    .dataframe tbody tr th:only-of-type {\n",
       "        vertical-align: middle;\n",
       "    }\n",
       "\n",
       "    .dataframe tbody tr th {\n",
       "        vertical-align: top;\n",
       "    }\n",
       "\n",
       "    .dataframe thead th {\n",
       "        text-align: right;\n",
       "    }\n",
       "</style>\n",
       "<table border=\"1\" class=\"dataframe\">\n",
       "  <thead>\n",
       "    <tr style=\"text-align: right;\">\n",
       "      <th></th>\n",
       "      <th>marca</th>\n",
       "      <th>nombre_spec</th>\n",
       "      <th>precio</th>\n",
       "    </tr>\n",
       "  </thead>\n",
       "  <tbody>\n",
       "    <tr>\n",
       "      <th>0</th>\n",
       "      <td>HP</td>\n",
       "      <td>Notebook 245 G6 14\" HD AMD E2-9000e 4GB 500GB ...</td>\n",
       "      <td>$      179.390</td>\n",
       "    </tr>\n",
       "    <tr>\n",
       "      <th>1</th>\n",
       "      <td>HP</td>\n",
       "      <td>Notebook 240 G6 14\" HD Celeron N3060 4GB 500GB...</td>\n",
       "      <td>$      184.290</td>\n",
       "    </tr>\n",
       "  </tbody>\n",
       "</table>\n",
       "</div>"
      ],
      "text/plain": [
       "  marca                                        nombre_spec           precio\n",
       "0    HP  Notebook 245 G6 14\" HD AMD E2-9000e 4GB 500GB ...   $      179.390\n",
       "1    HP  Notebook 240 G6 14\" HD Celeron N3060 4GB 500GB...   $      184.290"
      ]
     },
     "execution_count": 8,
     "metadata": {},
     "output_type": "execute_result"
    }
   ],
   "source": [
    "notebook_df['marca'] = notebook_df.marca.str.split(expand=True)[0]\n",
    "notebook_df.head(2)"
   ]
  },
  {
   "cell_type": "markdown",
   "metadata": {},
   "source": [
    "`Limpiar columna \"precio\" y converter string a numerico "
   ]
  },
  {
   "cell_type": "code",
   "execution_count": 9,
   "metadata": {
    "ExecuteTime": {
     "end_time": "2018-12-18T13:07:15.100454Z",
     "start_time": "2018-12-18T13:07:15.083265Z"
    }
   },
   "outputs": [
    {
     "data": {
      "text/html": [
       "<div>\n",
       "<style scoped>\n",
       "    .dataframe tbody tr th:only-of-type {\n",
       "        vertical-align: middle;\n",
       "    }\n",
       "\n",
       "    .dataframe tbody tr th {\n",
       "        vertical-align: top;\n",
       "    }\n",
       "\n",
       "    .dataframe thead th {\n",
       "        text-align: right;\n",
       "    }\n",
       "</style>\n",
       "<table border=\"1\" class=\"dataframe\">\n",
       "  <thead>\n",
       "    <tr style=\"text-align: right;\">\n",
       "      <th></th>\n",
       "      <th>marca</th>\n",
       "      <th>nombre_spec</th>\n",
       "      <th>precio</th>\n",
       "    </tr>\n",
       "  </thead>\n",
       "  <tbody>\n",
       "    <tr>\n",
       "      <th>0</th>\n",
       "      <td>HP</td>\n",
       "      <td>Notebook 245 G6 14\" HD AMD E2-9000e 4GB 500GB ...</td>\n",
       "      <td>179390</td>\n",
       "    </tr>\n",
       "    <tr>\n",
       "      <th>1</th>\n",
       "      <td>HP</td>\n",
       "      <td>Notebook 240 G6 14\" HD Celeron N3060 4GB 500GB...</td>\n",
       "      <td>184290</td>\n",
       "    </tr>\n",
       "  </tbody>\n",
       "</table>\n",
       "</div>"
      ],
      "text/plain": [
       "  marca                                        nombre_spec  precio\n",
       "0    HP  Notebook 245 G6 14\" HD AMD E2-9000e 4GB 500GB ...  179390\n",
       "1    HP  Notebook 240 G6 14\" HD Celeron N3060 4GB 500GB...  184290"
      ]
     },
     "execution_count": 9,
     "metadata": {},
     "output_type": "execute_result"
    }
   ],
   "source": [
    "notebook_df['precio'] = notebook_df.precio.str.split(expand=True)[1]\n",
    "notebook_df.precio.replace(regex=True,inplace=True,to_replace=r'\\D',value=r'')\n",
    "notebook_df['precio'] = pd.to_numeric(notebook_df['precio'])\n",
    "notebook_df.head(2)"
   ]
  },
  {
   "cell_type": "markdown",
   "metadata": {},
   "source": [
    "`Explorar dataframe:`"
   ]
  },
  {
   "cell_type": "code",
   "execution_count": 10,
   "metadata": {
    "ExecuteTime": {
     "end_time": "2018-12-18T13:07:24.277444Z",
     "start_time": "2018-12-18T13:07:24.264465Z"
    }
   },
   "outputs": [
    {
     "name": "stdout",
     "output_type": "stream",
     "text": [
      "<class 'pandas.core.frame.DataFrame'>\n",
      "RangeIndex: 105 entries, 0 to 104\n",
      "Data columns (total 3 columns):\n",
      "marca          105 non-null object\n",
      "nombre_spec    105 non-null object\n",
      "precio         105 non-null int64\n",
      "dtypes: int64(1), object(2)\n",
      "memory usage: 2.5+ KB\n"
     ]
    }
   ],
   "source": [
    "notebook_df.info()"
   ]
  },
  {
   "cell_type": "code",
   "execution_count": 14,
   "metadata": {
    "ExecuteTime": {
     "end_time": "2018-12-18T12:53:40.879533Z",
     "start_time": "2018-12-18T12:53:40.871089Z"
    }
   },
   "outputs": [],
   "source": [
    "def sumario_estat(df, title=title):\n",
    "    n = df.count()\n",
    "    mu = int(df.mean())\n",
    "    md = int(df.median())\n",
    "    mn = int(df.min())\n",
    "    mx = int(df.max())\n",
    "    rg = int(np.ptp(df))\n",
    "     \n",
    "    print (\"\\n * Resumen: \"+title+ \" *\\n\")\n",
    "    print(\"Num. Productos :\\t\", n)\n",
    "    print(\"Precio minimo. :\\t${0:,}\".format(mn))\n",
    "    print(\"Precio Promedio:\\t${0:,}\".format(mu))\n",
    "    print(\"Precio Central :\\t${0:,}\".format(md))\n",
    "    print(\"Precio maximo  :\\t${0:,}\".format(mx))\n",
    "    print(\"Rango precios  :\\t${0:,}\".format(rg)) \n",
    "    \n",
    "    sns.boxplot(data=df, palette=\"magma\")  "
   ]
  },
  {
   "cell_type": "code",
   "execution_count": 15,
   "metadata": {
    "ExecuteTime": {
     "end_time": "2018-12-18T13:07:33.324630Z",
     "start_time": "2018-12-18T13:07:33.199000Z"
    }
   },
   "outputs": [
    {
     "name": "stdout",
     "output_type": "stream",
     "text": [
      "\n",
      " * Resumen: Precios Productos Notebooks *\n",
      "\n",
      "Num. Productos :\t 105\n",
      "Precio minimo. :\t$179,390\n",
      "Precio Promedio:\t$814,657\n",
      "Precio Central :\t$678,990\n",
      "Precio maximo  :\t$2,999,990\n",
      "Rango precios  :\t$2,820,600\n"
     ]
    },
    {
     "data": {
      "image/png": "[encoded data removed]",
      "text/plain": [
       "<Figure size 432x288 with 1 Axes>"
      ]
     },
     "metadata": {},
     "output_type": "display_data"
    }
   ],
   "source": [
    "sumario_estat(notebook_df.precio, title)"
   ]
  },
  {
   "cell_type": "markdown",
   "metadata": {
    "ExecuteTime": {
     "end_time": "2018-12-17T21:47:06.821985Z",
     "start_time": "2018-12-17T21:47:06.813460Z"
    }
   },
   "source": [
    "`Verificar cantidad de productos por marca`"
   ]
  },
  {
   "cell_type": "code",
   "execution_count": 16,
   "metadata": {
    "ExecuteTime": {
     "end_time": "2018-12-18T13:08:40.910358Z",
     "start_time": "2018-12-18T13:08:40.895401Z"
    }
   },
   "outputs": [
    {
     "data": {
      "text/plain": [
       "marca\n",
       "Acer        7\n",
       "Apple       3\n",
       "Asus       23\n",
       "Dell       15\n",
       "Gear        1\n",
       "HP         34\n",
       "Huawei      1\n",
       "Lenovo     11\n",
       "MSI         9\n",
       "Samsung     1\n",
       "Name: precio, dtype: int64"
      ]
     },
     "execution_count": 16,
     "metadata": {},
     "output_type": "execute_result"
    }
   ],
   "source": [
    "notebook_marca = notebook_df.groupby([notebook_df.marca]).precio.count()\n",
    "notebook_marca"
   ]
  },
  {
   "cell_type": "markdown",
   "metadata": {
    "ExecuteTime": {
     "end_time": "2018-12-17T21:52:58.292168Z",
     "start_time": "2018-12-17T21:52:58.278435Z"
    }
   },
   "source": [
    "`Verificar precio promedio de los productos por marca`"
   ]
  },
  {
   "cell_type": "code",
   "execution_count": 17,
   "metadata": {
    "ExecuteTime": {
     "end_time": "2018-12-18T13:08:59.046154Z",
     "start_time": "2018-12-18T13:08:59.031627Z"
    }
   },
   "outputs": [
    {
     "data": {
      "text/html": [
       "<div>\n",
       "<style scoped>\n",
       "    .dataframe tbody tr th:only-of-type {\n",
       "        vertical-align: middle;\n",
       "    }\n",
       "\n",
       "    .dataframe tbody tr th {\n",
       "        vertical-align: top;\n",
       "    }\n",
       "\n",
       "    .dataframe thead th {\n",
       "        text-align: right;\n",
       "    }\n",
       "</style>\n",
       "<table border=\"1\" class=\"dataframe\">\n",
       "  <thead>\n",
       "    <tr style=\"text-align: right;\">\n",
       "      <th></th>\n",
       "      <th>precio</th>\n",
       "    </tr>\n",
       "    <tr>\n",
       "      <th>marca</th>\n",
       "      <th></th>\n",
       "    </tr>\n",
       "  </thead>\n",
       "  <tbody>\n",
       "    <tr>\n",
       "      <th>Acer</th>\n",
       "      <td>$393,676</td>\n",
       "    </tr>\n",
       "    <tr>\n",
       "      <th>HP</th>\n",
       "      <td>$524,549</td>\n",
       "    </tr>\n",
       "    <tr>\n",
       "      <th>Lenovo</th>\n",
       "      <td>$656,926</td>\n",
       "    </tr>\n",
       "    <tr>\n",
       "      <th>Huawei</th>\n",
       "      <td>$756,590</td>\n",
       "    </tr>\n",
       "    <tr>\n",
       "      <th>Samsung</th>\n",
       "      <td>$950,590</td>\n",
       "    </tr>\n",
       "    <tr>\n",
       "      <th>Apple</th>\n",
       "      <td>$986,157</td>\n",
       "    </tr>\n",
       "    <tr>\n",
       "      <th>Dell</th>\n",
       "      <td>$986,877</td>\n",
       "    </tr>\n",
       "    <tr>\n",
       "      <th>Asus</th>\n",
       "      <td>$1,104,377</td>\n",
       "    </tr>\n",
       "    <tr>\n",
       "      <th>MSI</th>\n",
       "      <td>$1,195,890</td>\n",
       "    </tr>\n",
       "    <tr>\n",
       "      <th>Gear</th>\n",
       "      <td>$2,089,990</td>\n",
       "    </tr>\n",
       "  </tbody>\n",
       "</table>\n",
       "</div>"
      ],
      "text/plain": [
       "            precio\n",
       "marca             \n",
       "Acer      $393,676\n",
       "HP        $524,549\n",
       "Lenovo    $656,926\n",
       "Huawei    $756,590\n",
       "Samsung   $950,590\n",
       "Apple     $986,157\n",
       "Dell      $986,877\n",
       "Asus    $1,104,377\n",
       "MSI     $1,195,890\n",
       "Gear    $2,089,990"
      ]
     },
     "execution_count": 17,
     "metadata": {},
     "output_type": "execute_result"
    }
   ],
   "source": [
    "pd.options.display.float_format = '${:,.0f}'.format\n",
    "notebook_df.groupby([notebook_df.marca]).mean().sort_values(\"precio\")"
   ]
  },
  {
   "cell_type": "markdown",
   "metadata": {},
   "source": [
    "**c. Crea una base de datos con la información del dataframe.**"
   ]
  },
  {
   "cell_type": "code",
   "execution_count": 19,
   "metadata": {
    "ExecuteTime": {
     "end_time": "2018-12-18T13:09:27.889213Z",
     "start_time": "2018-12-18T13:09:24.710200Z"
    }
   },
   "outputs": [],
   "source": [
    "from sqlalchemy import create_engine\n",
    "\n",
    "disk_engine = create_engine('sqlite:///pc_factory_db.db')\n",
    "notebook_df.to_sql('notebook', disk_engine, if_exists='append')"
   ]
  },
  {
   "cell_type": "markdown",
   "metadata": {},
   "source": [
    "`Verificar se la base de datos está correcta, creando de vuelta un pequeno df de 3 registros:`"
   ]
  },
  {
   "cell_type": "code",
   "execution_count": 20,
   "metadata": {
    "ExecuteTime": {
     "end_time": "2018-12-18T13:12:25.946803Z",
     "start_time": "2018-12-18T13:12:25.930818Z"
    },
    "scrolled": true
   },
   "outputs": [
    {
     "data": {
      "text/html": [
       "<div>\n",
       "<style scoped>\n",
       "    .dataframe tbody tr th:only-of-type {\n",
       "        vertical-align: middle;\n",
       "    }\n",
       "\n",
       "    .dataframe tbody tr th {\n",
       "        vertical-align: top;\n",
       "    }\n",
       "\n",
       "    .dataframe thead th {\n",
       "        text-align: right;\n",
       "    }\n",
       "</style>\n",
       "<table border=\"1\" class=\"dataframe\">\n",
       "  <thead>\n",
       "    <tr style=\"text-align: right;\">\n",
       "      <th></th>\n",
       "      <th>index</th>\n",
       "      <th>marca</th>\n",
       "      <th>nombre_spec</th>\n",
       "      <th>precio</th>\n",
       "    </tr>\n",
       "  </thead>\n",
       "  <tbody>\n",
       "    <tr>\n",
       "      <th>0</th>\n",
       "      <td>0</td>\n",
       "      <td>HP</td>\n",
       "      <td>Notebook 245 G6 14\" HD AMD E2-9000e 4GB 500GB ...</td>\n",
       "      <td>174590</td>\n",
       "    </tr>\n",
       "    <tr>\n",
       "      <th>1</th>\n",
       "      <td>1</td>\n",
       "      <td>HP</td>\n",
       "      <td>Notebook 240 G6 14\" HD Celeron N3060 4GB 500GB...</td>\n",
       "      <td>184290</td>\n",
       "    </tr>\n",
       "    <tr>\n",
       "      <th>2</th>\n",
       "      <td>2</td>\n",
       "      <td>HP</td>\n",
       "      <td>Notebook 240 G6 14\" HD Intel Celeron N4000 4GB...</td>\n",
       "      <td>189990</td>\n",
       "    </tr>\n",
       "  </tbody>\n",
       "</table>\n",
       "</div>"
      ],
      "text/plain": [
       "   index marca                                        nombre_spec  precio\n",
       "0      0    HP  Notebook 245 G6 14\" HD AMD E2-9000e 4GB 500GB ...  174590\n",
       "1      1    HP  Notebook 240 G6 14\" HD Celeron N3060 4GB 500GB...  184290\n",
       "2      2    HP  Notebook 240 G6 14\" HD Intel Celeron N4000 4GB...  189990"
      ]
     },
     "execution_count": 20,
     "metadata": {},
     "output_type": "execute_result"
    }
   ],
   "source": [
    "df = pd.read_sql_query('SELECT * FROM notebook LIMIT 3',disk_engine)\n",
    "df"
   ]
  },
  {
   "cell_type": "markdown",
   "metadata": {},
   "source": [
    "**d. Realizar la consulta SQL que entregue el precio promedio agrupado por\n",
    "marca**"
   ]
  },
  {
   "cell_type": "code",
   "execution_count": 21,
   "metadata": {
    "ExecuteTime": {
     "end_time": "2018-12-18T13:19:00.469352Z",
     "start_time": "2018-12-18T13:19:00.461429Z"
    }
   },
   "outputs": [],
   "source": [
    "import sqlite3\n",
    "conn = sqlite3.connect(\"pc_factory_db.db\")\n",
    "cur = conn.cursor()"
   ]
  },
  {
   "cell_type": "markdown",
   "metadata": {},
   "source": [
    "`Testar la connección con la base de datos`"
   ]
  },
  {
   "cell_type": "code",
   "execution_count": 22,
   "metadata": {
    "ExecuteTime": {
     "end_time": "2018-12-18T13:20:42.138589Z",
     "start_time": "2018-12-18T13:20:42.131100Z"
    }
   },
   "outputs": [
    {
     "name": "stdout",
     "output_type": "stream",
     "text": [
      "(0, 'HP', 'Notebook 245 G6\\xa014\" HD\\xa0AMD E2-9000e 4GB 500GB Free DOS', 174590)\n"
     ]
    }
   ],
   "source": [
    "cur.execute(\"SELECT * FROM notebook\")\n",
    "rows = cur.fetchall()\n",
    "print(rows[0])"
   ]
  },
  {
   "cell_type": "markdown",
   "metadata": {},
   "source": [
    "`Consulta SQL y impresion del precio promedio agrupado por marca`"
   ]
  },
  {
   "cell_type": "code",
   "execution_count": 23,
   "metadata": {
    "ExecuteTime": {
     "end_time": "2018-12-18T14:29:20.956009Z",
     "start_time": "2018-12-18T14:29:20.942293Z"
    }
   },
   "outputs": [
    {
     "name": "stdout",
     "output_type": "stream",
     "text": [
      "\n",
      "[MARCA]    \t=> PRECIO PROMEDIO\n",
      "\n",
      "[Acer]    \t=> $399,276\n",
      "[Apple]    \t=> $1,118,775\n",
      "[Asus]    \t=> $1,066,913\n",
      "[Dell]    \t=> $962,783\n",
      "[Gear]    \t=> $2,089,990\n",
      "[HP]    \t=> $503,297\n",
      "[Huawei]    \t=> $912,190\n",
      "[Lenovo]    \t=> $641,972\n",
      "[MSI]    \t=> $1,150,468\n",
      "[Samsung]    \t=> $950,590\n"
     ]
    }
   ],
   "source": [
    "cur.execute(\"SELECT marca, avg(precio) FROM notebook GROUP BY marca\")\n",
    "rows = cur.fetchall()\n",
    "print(\"\\n[MARCA]    \\t=> PRECIO PROMEDIO\\n\") \n",
    "for row in rows:\n",
    "    print(\"[{}]    \\t=> ${:,.0f}\".format(row[0], int(row[1])))    "
   ]
  },
  {
   "cell_type": "markdown",
   "metadata": {},
   "source": [
    "---"
   ]
  },
  {
   "cell_type": "markdown",
   "metadata": {},
   "source": [
    "# 2. Web Scraping con Selenium - WikiPedia "
   ]
  },
  {
   "cell_type": "markdown",
   "metadata": {},
   "source": [
    "**Utilizando la herramienta Selenium, haga un proceso de web scraping para el sitio web ​https://es.wikipedia.org​. Para ello realice las siguientes tareas:**\n",
    "\n",
    "**a. Utilizar selenium para emular un navegador y cargar la página deseada.**<br>\n",
    "**b. Ingresar en el input de búsqueda el string “paises por superficie” y presionar enter.**<br>\n",
    "**c. Esperar por la página de resultados.**<br>\n",
    "**d. Extraer la lista de países y territorios con su superficie desde la página de\n",
    "resultados (no incluir Planeta Tierra, Océanos y Tierras emergidas).**<br>\n",
    "**e. Cerrar el navegador.**"
   ]
  },
  {
   "cell_type": "markdown",
   "metadata": {},
   "source": [
    "`Encontrando el \"Xpath\" de las primeras celdas de la primera linea y de la quinta con \"INSPECT\" en la pagina web`"
   ]
  },
  {
   "cell_type": "code",
   "execution_count": null,
   "metadata": {},
   "outputs": [],
   "source": [
    "# //*[@id=\"mw-content-text\"]/div/table/tbody/tr[1]/th[1]\n",
    "# //*[@id=\"mw-content-text\"]/div/table/tbody/tr[5]/td[1]"
   ]
  },
  {
   "cell_type": "code",
   "execution_count": 28,
   "metadata": {},
   "outputs": [
    {
     "name": "stdout",
     "output_type": "stream",
     "text": [
      "\n",
      "Checking for mac64 chromedriver:2.45 in cache\n",
      "Driver found in /Users/mjrovai/.wdm/chromedriver/2.45/mac64/chromedriver\n",
      "\n",
      "[INFO] Scrapping 249 rows de la tabla de 2 columnas [ESPERE]\n",
      "......................................................................................................................................................................................................................................................... [FIN]\n",
      "\n"
     ]
    }
   ],
   "source": [
    "driver = webdriver.Chrome(ChromeDriverManager().install())\n",
    "driver.get('https://es.wikipedia.org')\n",
    "elem = driver.find_element_by_name('search')\n",
    "elem.clear()\n",
    "elem.send_keys(\"paises por superficie\")\n",
    "elem.send_keys(Keys.ENTER)\n",
    "driver.implicitly_wait(2)\n",
    "\n",
    "row_count = len(\n",
    "    driver.find_elements_by_xpath(\n",
    "        '//*[@id=\"mw-content-text\"]/div/table/tbody/tr'))\n",
    "col_count = len(\n",
    "    driver.find_elements_by_xpath(\n",
    "        '//*[@id=\"mw-content-text\"]/div/table/tbody/tr[1]/th'))\n",
    "print(\"\\n[INFO] Scrapping {} rows de la tabla de {} columnas [ESPERE]\".format(\n",
    "    (row_count-4), (col_count-2)))\n",
    "\n",
    "part_1 = '//*[@id=\"mw-content-text\"]/div/table/tbody/tr['\n",
    "part_2 = ']/td['\n",
    "part_3 = ']'\n",
    "\n",
    "table = []\n",
    "for n in range(5, row_count + 1):\n",
    "    row = []\n",
    "    for m in range(2, col_count):\n",
    "        path = part_1 + str(n) + part_2 + str(m) + part_3\n",
    "        row.append(driver.find_element_by_xpath(path).text)\n",
    "    print(\".\", end=\"\")\n",
    "    table.append(row)\n",
    "print(\" [FIN]\\n\")\n",
    "driver.close()"
   ]
  },
  {
   "cell_type": "markdown",
   "metadata": {},
   "source": [
    "**f. Convertir la lista de países y territorios con su superficie en un dataframe.**"
   ]
  },
  {
   "cell_type": "code",
   "execution_count": 29,
   "metadata": {},
   "outputs": [
    {
     "data": {
      "text/html": [
       "<div>\n",
       "<style scoped>\n",
       "    .dataframe tbody tr th:only-of-type {\n",
       "        vertical-align: middle;\n",
       "    }\n",
       "\n",
       "    .dataframe tbody tr th {\n",
       "        vertical-align: top;\n",
       "    }\n",
       "\n",
       "    .dataframe thead th {\n",
       "        text-align: right;\n",
       "    }\n",
       "</style>\n",
       "<table border=\"1\" class=\"dataframe\">\n",
       "  <thead>\n",
       "    <tr style=\"text-align: right;\">\n",
       "      <th></th>\n",
       "      <th>pais</th>\n",
       "      <th>superficie</th>\n",
       "    </tr>\n",
       "  </thead>\n",
       "  <tbody>\n",
       "    <tr>\n",
       "      <th>0</th>\n",
       "      <td>Rusia</td>\n",
       "      <td>17098242</td>\n",
       "    </tr>\n",
       "    <tr>\n",
       "      <th>1</th>\n",
       "      <td>Antártida</td>\n",
       "      <td>14000000</td>\n",
       "    </tr>\n",
       "    <tr>\n",
       "      <th>2</th>\n",
       "      <td>Canadá</td>\n",
       "      <td>9984670</td>\n",
       "    </tr>\n",
       "    <tr>\n",
       "      <th>3</th>\n",
       "      <td>China</td>\n",
       "      <td>9596961</td>\n",
       "    </tr>\n",
       "    <tr>\n",
       "      <th>4</th>\n",
       "      <td>Estados Unidos</td>\n",
       "      <td>9371174</td>\n",
       "    </tr>\n",
       "  </tbody>\n",
       "</table>\n",
       "</div>"
      ],
      "text/plain": [
       "              pais  superficie\n",
       "0            Rusia    17098242\n",
       "1        Antártida    14000000\n",
       "2           Canadá     9984670\n",
       "3            China     9596961\n",
       "4   Estados Unidos     9371174"
      ]
     },
     "execution_count": 29,
     "metadata": {},
     "output_type": "execute_result"
    }
   ],
   "source": [
    "df = pd.DataFrame(table, columns=[\"pais\", \"superficie\" ])\n",
    "df.superficie.replace(regex=True,inplace=True,to_replace=r'\\D',value=r'')\n",
    "df['superficie'] = pd.to_numeric(df['superficie'])\n",
    "df.head()"
   ]
  },
  {
   "cell_type": "markdown",
   "metadata": {},
   "source": [
    "**g. Calcular la suma, el conteo y el promedio de superficies utilizando pandas.**"
   ]
  },
  {
   "cell_type": "code",
   "execution_count": 35,
   "metadata": {},
   "outputs": [
    {
     "data": {
      "text/html": [
       "<div>\n",
       "<style scoped>\n",
       "    .dataframe tbody tr th:only-of-type {\n",
       "        vertical-align: middle;\n",
       "    }\n",
       "\n",
       "    .dataframe tbody tr th {\n",
       "        vertical-align: top;\n",
       "    }\n",
       "\n",
       "    .dataframe thead th {\n",
       "        text-align: right;\n",
       "    }\n",
       "</style>\n",
       "<table border=\"1\" class=\"dataframe\">\n",
       "  <thead>\n",
       "    <tr style=\"text-align: right;\">\n",
       "      <th></th>\n",
       "      <th>superficie</th>\n",
       "    </tr>\n",
       "  </thead>\n",
       "  <tbody>\n",
       "    <tr>\n",
       "      <th>count</th>\n",
       "      <td>$249</td>\n",
       "    </tr>\n",
       "    <tr>\n",
       "      <th>mean</th>\n",
       "      <td>$602,159</td>\n",
       "    </tr>\n",
       "    <tr>\n",
       "      <th>std</th>\n",
       "      <td>$1,911,902</td>\n",
       "    </tr>\n",
       "    <tr>\n",
       "      <th>min</th>\n",
       "      <td>$2</td>\n",
       "    </tr>\n",
       "    <tr>\n",
       "      <th>25%</th>\n",
       "      <td>$811</td>\n",
       "    </tr>\n",
       "    <tr>\n",
       "      <th>50%</th>\n",
       "      <td>$64,589</td>\n",
       "    </tr>\n",
       "    <tr>\n",
       "      <th>75%</th>\n",
       "      <td>$377,915</td>\n",
       "    </tr>\n",
       "    <tr>\n",
       "      <th>max</th>\n",
       "      <td>$17,098,242</td>\n",
       "    </tr>\n",
       "  </tbody>\n",
       "</table>\n",
       "</div>"
      ],
      "text/plain": [
       "       superficie\n",
       "count        $249\n",
       "mean     $602,159\n",
       "std    $1,911,902\n",
       "min            $2\n",
       "25%          $811\n",
       "50%       $64,589\n",
       "75%      $377,915\n",
       "max   $17,098,242"
      ]
     },
     "execution_count": 35,
     "metadata": {},
     "output_type": "execute_result"
    }
   ],
   "source": [
    "df.describe()"
   ]
  },
  {
   "cell_type": "code",
   "execution_count": 31,
   "metadata": {},
   "outputs": [
    {
     "name": "stdout",
     "output_type": "stream",
     "text": [
      "\n",
      " * Resumen: Paises - Superfície *\n",
      "\n",
      "Conteio de países  :\t 249\n",
      "Superficie Promedio:\t602,158 Km2\n",
      "Superficie Total   :\t149,937,535 Km2\n"
     ]
    }
   ],
   "source": [
    "dt = df.superficie\n",
    "conteo = dt.count()\n",
    "promd = int(dt.mean())\n",
    "total = int(dt.sum())\n",
    "\n",
    "print (\"\\n * Resumen: Paises - Superfície *\\n\")\n",
    "print(\"Conteio de países  :\\t\", conteo)\n",
    "print(\"Superficie Promedio:\\t{0:,} Km2\".format(promd))\n",
    "print(\"Superficie Total   :\\t{0:,} Km2\".format(total)) "
   ]
  },
  {
   "cell_type": "code",
   "execution_count": 33,
   "metadata": {},
   "outputs": [
    {
     "data": {
      "text/plain": [
       "[(-2943561.15310537, 2000000)]"
      ]
     },
     "execution_count": 33,
     "metadata": {},
     "output_type": "execute_result"
    },
    {
     "data": {
      "image/png": "[encoded data removed]",
      "text/plain": [
       "<Figure size 432x288 with 1 Axes>"
      ]
     },
     "metadata": {},
     "output_type": "display_data"
    }
   ],
   "source": [
    "sns.distplot(dt).set(xlim=(None, 2000000))"
   ]
  },
  {
   "cell_type": "code",
   "execution_count": 34,
   "metadata": {
    "scrolled": true
   },
   "outputs": [
    {
     "data": {
      "text/plain": [
       "<matplotlib.axes._subplots.AxesSubplot at 0x1a20a0d2e8>"
      ]
     },
     "execution_count": 34,
     "metadata": {},
     "output_type": "execute_result"
    },
    {
     "data": {
      "image/png": "[encoded data removed]",
      "text/plain": [
       "<Figure size 432x288 with 1 Axes>"
      ]
     },
     "metadata": {},
     "output_type": "display_data"
    }
   ],
   "source": [
    "sns.boxplot(dt)"
   ]
  }
 ],
 "metadata": {
  "kernelspec": {
   "display_name": "Python 3",
   "language": "python",
   "name": "python3"
  },
  "language_info": {
   "codemirror_mode": {
    "name": "ipython",
    "version": 3
   },
   "file_extension": ".py",
   "mimetype": "text/x-python",
   "name": "python",
   "nbconvert_exporter": "python",
   "pygments_lexer": "ipython3",
   "version": "3.6.8"
  },
  "nbTranslate": {
   "displayLangs": [
    "*"
   ],
   "hotkey": "alt-t",
   "langInMainMenu": true,
   "sourceLang": "en",
   "targetLang": "fr",
   "useGoogleTranslate": true
  },
  "varInspector": {
   "cols": {
    "lenName": 16,
    "lenType": 16,
    "lenVar": 40
   },
   "kernels_config": {
    "python": {
     "delete_cmd_postfix": "",
     "delete_cmd_prefix": "del ",
     "library": "var_list.py",
     "varRefreshCmd": "print(var_dic_list())"
    },
    "r": {
     "delete_cmd_postfix": ") ",
     "delete_cmd_prefix": "rm(",
     "library": "var_list.r",
     "varRefreshCmd": "cat(var_dic_list()) "
    }
   },
   "types_to_exclude": [
    "module",
    "function",
    "builtin_function_or_method",
    "instance",
    "_Feature"
   ],
   "window_display": false
  }
 },
 "nbformat": 4,
 "nbformat_minor": 2
}
