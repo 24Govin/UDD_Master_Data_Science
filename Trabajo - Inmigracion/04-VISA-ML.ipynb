{
 "cells": [
  {
   "cell_type": "markdown",
   "metadata": {},
   "source": [
    "# Machine Learning\n",
    "## Trabajo MDS - 2o. Trim. ==> Inmigracion en Chile\n",
    "\n",
    "**Profesor:** Graells, E..<br>\n",
    "**Alumnos:** Briceno, H.; Rovai, M.; Tessada G."
   ]
  },
  {
   "cell_type": "code",
   "execution_count": 1,
   "metadata": {},
   "outputs": [],
   "source": [
    "import pandas as pd\n",
    "import numpy as np\n",
    "import seaborn as sns\n",
    "import matplotlib.pyplot as plt\n",
    "%matplotlib inline  \n",
    "\n",
    "import warnings\n",
    "warnings.filterwarnings(\"ignore\")"
   ]
  },
  {
   "cell_type": "markdown",
   "metadata": {},
   "source": [
    "## 1. Importar el dataset\n",
    "\n",
    "Vamos a usar datos limpios obtenidos a partir del notebook: [Análisis exploratorio de los datos: 01-VISA-EDA.ipynb](https://github.com/Mjrovai/UDD_Master_Data_Science/blob/master/Trabajo%20-%20Inmigracion/01-VISA-EDA.ipynb). \n",
    "\n",
    "El Departamanto de Extranjeria y Migracion de Chile, aclara que si bien las bases se presentan de manera separada por tratarse de distintos tipos de permiso, ellas no constituyen universos distintos de inmigrantes. Un inmigrante en Chile para obtener una permanencia definitiva DEBE haber obtenido con anterioridad una visa, por lo que las bases de permanencias definitivas se conforman de personas que están contabilizadas en las visas. <br>\n",
    "<br>Así, para una mejor lectura de los datos haremos una distinción en términos de migración transitoria y migración permanente. Se considerará que las visas corresponden a migración transitoria, pues los permisos duran entre uno y dos años. Las personas que sean titulares de una visa, para quedarse por un plazo mayor a dos años, deben solicitar un permiso de permanencia definitiva, de otra manera deben abandonar el país.<br>\n",
    "- En este trabajo focaremos en la MIGRACIÓN DEFINITIVA, que están relacionadas a las Permisos de Residencia Definitiva\n",
    "- Y se complementará esa información con la migración reciente, es decir, las visas otorgadas los dos últimos años (2017/2018)."
   ]
  },
  {
   "cell_type": "markdown",
   "metadata": {},
   "source": [
    "**Información constante del dataset final** <br><br>\n",
    "Las planillas de permisos migratorios contienen los siguientes datos, los cuales son extraídos de los formularios establecidos para solicitar residencia, disponibles en la página web del Departamento de Extranjería y Migración, de los cuales utilizamos:\n",
    "- PAIS\t     (País de origen)\n",
    "- SEXO\t\n",
    "- EDAD\t     (la edad en el año que recibió el benefício)\n",
    "- ESTUDIOS\t\n",
    "- ACTIVIDAD\t\n",
    "- BENEFICIO\t (Visa temporária o definitiva)\n",
    "- ANIO\t     (año en que recibió el benefício)\n",
    "- COMUNA"
   ]
  },
  {
   "cell_type": "code",
   "execution_count": 2,
   "metadata": {},
   "outputs": [
    {
     "name": "stdout",
     "output_type": "stream",
     "text": [
      "inmigrantes_data_comunas_rm_4ML.xlsx inmigrantes_rm_comuna.xlsx\r\n"
     ]
    }
   ],
   "source": [
    "!ls ./data"
   ]
  },
  {
   "cell_type": "code",
   "execution_count": 3,
   "metadata": {},
   "outputs": [
    {
     "data": {
      "text/plain": [
       "(493638, 8)"
      ]
     },
     "execution_count": 3,
     "metadata": {},
     "output_type": "execute_result"
    }
   ],
   "source": [
    "df = pd.read_excel('./data/inmigrantes_data_comunas_rm_4ML.xlsx')\n",
    "df.shape #(493638, 8)"
   ]
  },
  {
   "cell_type": "code",
   "execution_count": 4,
   "metadata": {},
   "outputs": [
    {
     "data": {
      "text/html": [
       "<div>\n",
       "<style scoped>\n",
       "    .dataframe tbody tr th:only-of-type {\n",
       "        vertical-align: middle;\n",
       "    }\n",
       "\n",
       "    .dataframe tbody tr th {\n",
       "        vertical-align: top;\n",
       "    }\n",
       "\n",
       "    .dataframe thead th {\n",
       "        text-align: right;\n",
       "    }\n",
       "</style>\n",
       "<table border=\"1\" class=\"dataframe\">\n",
       "  <thead>\n",
       "    <tr style=\"text-align: right;\">\n",
       "      <th></th>\n",
       "      <th>PAIS</th>\n",
       "      <th>SEXO</th>\n",
       "      <th>EDAD</th>\n",
       "      <th>ESTUDIOS</th>\n",
       "      <th>ACTIVIDAD</th>\n",
       "      <th>BENEFICIO</th>\n",
       "      <th>ANIO</th>\n",
       "      <th>COMUNA</th>\n",
       "    </tr>\n",
       "  </thead>\n",
       "  <tbody>\n",
       "    <tr>\n",
       "      <th>0</th>\n",
       "      <td>peru</td>\n",
       "      <td>femenino</td>\n",
       "      <td>32</td>\n",
       "      <td>no informa</td>\n",
       "      <td>empleado</td>\n",
       "      <td>definitiva</td>\n",
       "      <td>2006</td>\n",
       "      <td>santiago</td>\n",
       "    </tr>\n",
       "    <tr>\n",
       "      <th>1</th>\n",
       "      <td>ecuador</td>\n",
       "      <td>masculino</td>\n",
       "      <td>58</td>\n",
       "      <td>no informa</td>\n",
       "      <td>empleado</td>\n",
       "      <td>definitiva</td>\n",
       "      <td>2007</td>\n",
       "      <td>providencia</td>\n",
       "    </tr>\n",
       "  </tbody>\n",
       "</table>\n",
       "</div>"
      ],
      "text/plain": [
       "      PAIS       SEXO  EDAD    ESTUDIOS ACTIVIDAD   BENEFICIO  ANIO  \\\n",
       "0     peru   femenino    32  no informa  empleado  definitiva  2006   \n",
       "1  ecuador  masculino    58  no informa  empleado  definitiva  2007   \n",
       "\n",
       "        COMUNA  \n",
       "0     santiago  \n",
       "1  providencia  "
      ]
     },
     "execution_count": 4,
     "metadata": {},
     "output_type": "execute_result"
    }
   ],
   "source": [
    "df.head(2)"
   ]
  },
  {
   "cell_type": "code",
   "execution_count": 5,
   "metadata": {
    "scrolled": true
   },
   "outputs": [
    {
     "data": {
      "text/plain": [
       "santiago               139050\n",
       "independencia           31260\n",
       "las condes              30910\n",
       "estacion central        25981\n",
       "recoleta                24026\n",
       "providencia             18646\n",
       "nunoa                   16559\n",
       "quilicura               14982\n",
       "quinta normal           13083\n",
       "la florida              11654\n",
       "maipu                   10203\n",
       "san bernardo             9376\n",
       "san miguel               8619\n",
       "penalolen                8477\n",
       "conchali                 8270\n",
       "puente alto              7569\n",
       "colina                   7472\n",
       "lo barnechea             7050\n",
       "melipilla                6960\n",
       "vitacura                 6552\n",
       "macul                    6216\n",
       "cerro navia              6018\n",
       "pudahuel                 5832\n",
       "lo prado                 5754\n",
       "san joaquin              5267\n",
       "la cisterna              5208\n",
       "pedro aguirre cerda      4982\n",
       "renca                    4280\n",
       "cerrillos                4090\n",
       "lo espejo                4034\n",
       "la reina                 3931\n",
       "huechuraba               3570\n",
       "lampa                    3554\n",
       "el bosque                3148\n",
       "la granja                2923\n",
       "san ramon                2648\n",
       "paine                    2611\n",
       "la pintana               2315\n",
       "buin                     1844\n",
       "talagante                1456\n",
       "padre hurtado            1407\n",
       "penaflor                 1159\n",
       "alhue                    1049\n",
       "curacavi                  623\n",
       "san pedro                 466\n",
       "tiltil                    443\n",
       "isla de maipo             442\n",
       "calera de tango           433\n",
       "el monte                  380\n",
       "san jose de maipo         346\n",
       "pirque                    277\n",
       "maria pinto               233\n",
       "Name: COMUNA, dtype: int64"
      ]
     },
     "execution_count": 5,
     "metadata": {},
     "output_type": "execute_result"
    }
   ],
   "source": [
    "df.COMUNA.value_counts()"
   ]
  },
  {
   "cell_type": "markdown",
   "metadata": {},
   "source": [
    "## 2. Preproceso para aplicación de modelos de ML"
   ]
  },
  {
   "cell_type": "code",
   "execution_count": 6,
   "metadata": {},
   "outputs": [
    {
     "data": {
      "text/plain": [
       "0.8106081784627601"
      ]
     },
     "execution_count": 6,
     "metadata": {},
     "output_type": "execute_result"
    }
   ],
   "source": [
    "df.COMUNA.value_counts()[0:19].sum()/df.COMUNA.value_counts().sum()"
   ]
  },
  {
   "cell_type": "markdown",
   "metadata": {},
   "source": [
    "81% de los estrangeros viven en las 19 comunas mas populosas"
   ]
  },
  {
   "cell_type": "code",
   "execution_count": 7,
   "metadata": {},
   "outputs": [
    {
     "data": {
      "text/plain": [
       "santiago            139050\n",
       "independencia        31260\n",
       "las condes           30910\n",
       "estacion central     25981\n",
       "recoleta             24026\n",
       "providencia          18646\n",
       "nunoa                16559\n",
       "quilicura            14982\n",
       "quinta normal        13083\n",
       "la florida           11654\n",
       "maipu                10203\n",
       "san bernardo          9376\n",
       "san miguel            8619\n",
       "penalolen             8477\n",
       "conchali              8270\n",
       "puente alto           7569\n",
       "colina                7472\n",
       "lo barnechea          7050\n",
       "melipilla             6960\n",
       "Name: COMUNA, dtype: int64"
      ]
     },
     "execution_count": 7,
     "metadata": {},
     "output_type": "execute_result"
    }
   ],
   "source": [
    "df.COMUNA.value_counts()[0:19]"
   ]
  },
  {
   "cell_type": "code",
   "execution_count": 8,
   "metadata": {},
   "outputs": [
    {
     "data": {
      "text/plain": [
       "0.9727999060039948"
      ]
     },
     "execution_count": 8,
     "metadata": {},
     "output_type": "execute_result"
    }
   ],
   "source": [
    "df.PAIS.value_counts()[0:19].sum()/df.PAIS.value_counts().sum()"
   ]
  },
  {
   "cell_type": "markdown",
   "metadata": {},
   "source": [
    "97% de los extranjeros vienen de 19 países"
   ]
  },
  {
   "cell_type": "code",
   "execution_count": 9,
   "metadata": {},
   "outputs": [
    {
     "data": {
      "text/plain": [
       "peru                       133949\n",
       "venezuela                  108870\n",
       "haiti                       77041\n",
       "colombia                    60876\n",
       "bolivia                     16164\n",
       "argentina                   15983\n",
       "ecuador                     15055\n",
       "china republica popular      8738\n",
       "espana                       8200\n",
       "brasil                       7048\n",
       "republica dominicana         5909\n",
       "cuba                         5467\n",
       "estados unidos               3931\n",
       "uruguay                      2905\n",
       "mexico                       2829\n",
       "francia                      2446\n",
       "paraguay                     1675\n",
       "alemania                     1571\n",
       "italia                       1554\n",
       "Name: PAIS, dtype: int64"
      ]
     },
     "execution_count": 9,
     "metadata": {},
     "output_type": "execute_result"
    }
   ],
   "source": [
    "df.PAIS.value_counts()[0:19]"
   ]
  },
  {
   "cell_type": "markdown",
   "metadata": {},
   "source": [
    "### Reducir el numero de categorias encontrado en COMUNA. \n",
    "- Definamos 20 categorías para comunas, definindo labels especifico que contengan 80% extranjeros y un label \"otras'"
   ]
  },
  {
   "cell_type": "code",
   "execution_count": 10,
   "metadata": {},
   "outputs": [],
   "source": [
    "def simplificaComuna(text):\n",
    "    text = text.split(' ')\n",
    "    if 'santiago' in text: text = 'santiago'\n",
    "    elif 'independencia' in text: text= 'independencia'\n",
    "    elif 'condes' in text: text= 'las condes'\n",
    "    elif 'estacion' in text: text= 'estacion central'\n",
    "    elif 'recoleta' in text: text= 'recoleta'\n",
    "    elif 'providencia' in text: text= 'providencia'\n",
    "    elif 'nunoa' in text: text= 'nunoa'\n",
    "    elif 'quilicura' in text: text= 'quilicura'\n",
    "    elif 'quinta' in text: text= 'quinta normal'\n",
    "    elif 'florida' in text: text= 'la florida'\n",
    "    elif 'maipu' in text: text= 'maipu'\n",
    "    elif 'bernardo' in text: text= 'san bernardo'\n",
    "    elif 'miguel' in text: text= 'san miguel'\n",
    "    elif 'penalolen' in text: text= 'penalolen'\n",
    "    elif 'conchali' in text: text= 'conchali'\n",
    "    elif 'puente' in text: text= 'puente alto'\n",
    "    elif 'colina' in text: text= 'colina'\n",
    "    elif 'barnechea' in text: text= 'lo barnechea'\n",
    "    elif 'melipilla' in text: text= 'melipilla'\n",
    "    else: text = 'otras'\n",
    "    return text "
   ]
  },
  {
   "cell_type": "code",
   "execution_count": 111,
   "metadata": {},
   "outputs": [],
   "source": [
    "data = df.copy()\n",
    "data['COMUNA'] = data.COMUNA.apply(simplificaComuna)"
   ]
  },
  {
   "cell_type": "code",
   "execution_count": 112,
   "metadata": {},
   "outputs": [
    {
     "data": {
      "text/plain": [
       "santiago            139050\n",
       "otras                93491\n",
       "independencia        31260\n",
       "las condes           30910\n",
       "estacion central     25981\n",
       "recoleta             24026\n",
       "providencia          18646\n",
       "nunoa                16559\n",
       "quilicura            14982\n",
       "quinta normal        13083\n",
       "la florida           11654\n",
       "maipu                10203\n",
       "san bernardo          9376\n",
       "san miguel            8619\n",
       "penalolen             8477\n",
       "conchali              8270\n",
       "puente alto           7569\n",
       "colina                7472\n",
       "lo barnechea          7050\n",
       "melipilla             6960\n",
       "Name: COMUNA, dtype: int64"
      ]
     },
     "execution_count": 112,
     "metadata": {},
     "output_type": "execute_result"
    }
   ],
   "source": [
    "data.COMUNA.value_counts()"
   ]
  },
  {
   "cell_type": "markdown",
   "metadata": {},
   "source": [
    "### Reducir el numero de categorias encontrado en PAIS. \n",
    "- Definamos 20 categorías para pais de origen, definindo labels especificos que contengan 97% extranjeros y un label \"otros'"
   ]
  },
  {
   "cell_type": "code",
   "execution_count": 113,
   "metadata": {},
   "outputs": [],
   "source": [
    "def simplificaPais(text):\n",
    "    text = text.split(' ')\n",
    "    if 'peru' in text: text = 'peru'\n",
    "    elif 'venezuela' in text: text= 'venezuela'\n",
    "    elif 'haiti' in text: text= 'haiti'\n",
    "    elif 'colombia' in text: text= 'colombia'\n",
    "    elif 'bolivia' in text: text= 'bolivia'\n",
    "    elif 'argentina' in text: text= 'argentina'\n",
    "    elif 'ecuador' in text: text= 'ecuador'\n",
    "    elif 'china' in text: text= 'china'\n",
    "    elif \"espana\" in text: text= \"espana\"\n",
    "    elif 'brasil' in text: text= 'brasil'\n",
    "    elif 'dominicana' in text: text= 'dominicana'\n",
    "    elif 'cuba' in text: text= 'cuba'\n",
    "    elif 'estados' in text: text= 'eua'\n",
    "    elif 'uruguay' in text: text= 'uruguay'\n",
    "    elif 'mexico' in text: text= 'mexico'\n",
    "    elif 'francia' in text: text= 'francia'\n",
    "    elif 'paraguay' in text: text= 'paraguay'\n",
    "    elif 'alemania' in text: text= 'alemania'\n",
    "    elif 'italia' in text: text= 'italia'\n",
    "    else: text = 'otros'\n",
    "    return text "
   ]
  },
  {
   "cell_type": "code",
   "execution_count": 114,
   "metadata": {},
   "outputs": [],
   "source": [
    "data['PAIS'] = data.PAIS.apply(simplificaPais)"
   ]
  },
  {
   "cell_type": "code",
   "execution_count": 115,
   "metadata": {},
   "outputs": [
    {
     "data": {
      "text/plain": [
       "peru          133949\n",
       "venezuela     108870\n",
       "haiti          77041\n",
       "colombia       60876\n",
       "bolivia        16164\n",
       "argentina      15983\n",
       "ecuador        15055\n",
       "otros          13427\n",
       "china           8738\n",
       "espana          8200\n",
       "brasil          7048\n",
       "dominicana      5909\n",
       "cuba            5467\n",
       "eua             3931\n",
       "uruguay         2905\n",
       "mexico          2829\n",
       "francia         2446\n",
       "paraguay        1675\n",
       "alemania        1571\n",
       "italia          1554\n",
       "Name: PAIS, dtype: int64"
      ]
     },
     "execution_count": 115,
     "metadata": {},
     "output_type": "execute_result"
    }
   ],
   "source": [
    "data.PAIS.value_counts()"
   ]
  },
  {
   "cell_type": "markdown",
   "metadata": {},
   "source": [
    "### Converter variables continuas en categoricas"
   ]
  },
  {
   "cell_type": "code",
   "execution_count": 116,
   "metadata": {},
   "outputs": [
    {
     "data": {
      "text/plain": [
       "count    493638.000000\n",
       "mean         34.050582\n",
       "std          10.233022\n",
       "min          18.000000\n",
       "25%          27.000000\n",
       "50%          32.000000\n",
       "75%          39.000000\n",
       "max         118.000000\n",
       "Name: EDAD, dtype: float64"
      ]
     },
     "execution_count": 116,
     "metadata": {},
     "output_type": "execute_result"
    }
   ],
   "source": [
    "data['EDAD'].describe()"
   ]
  },
  {
   "cell_type": "code",
   "execution_count": 117,
   "metadata": {},
   "outputs": [],
   "source": [
    "data['EDAD'] = pd.cut(data['EDAD'], \n",
    "                      bins = [17, 35, 65, 120],\n",
    "                      labels = ['18-34', '35-64', '65+'])"
   ]
  },
  {
   "cell_type": "code",
   "execution_count": 118,
   "metadata": {},
   "outputs": [
    {
     "data": {
      "text/plain": [
       "count    493638.000000\n",
       "mean       2015.503492\n",
       "std           3.310910\n",
       "min        2005.000000\n",
       "25%        2015.000000\n",
       "50%        2017.000000\n",
       "75%        2018.000000\n",
       "max        2018.000000\n",
       "Name: ANIO, dtype: float64"
      ]
     },
     "execution_count": 118,
     "metadata": {},
     "output_type": "execute_result"
    }
   ],
   "source": [
    "data['ANIO'].describe()"
   ]
  },
  {
   "cell_type": "code",
   "execution_count": 119,
   "metadata": {},
   "outputs": [],
   "source": [
    "data['ANIO'] = pd.cut(data['ANIO'], \n",
    "                      bins = [2004, 2010, 2017, 2019],\n",
    "                      labels = ['2005-09', '2010-16', '2017+'])"
   ]
  },
  {
   "cell_type": "code",
   "execution_count": 120,
   "metadata": {},
   "outputs": [
    {
     "data": {
      "text/html": [
       "<div>\n",
       "<style scoped>\n",
       "    .dataframe tbody tr th:only-of-type {\n",
       "        vertical-align: middle;\n",
       "    }\n",
       "\n",
       "    .dataframe tbody tr th {\n",
       "        vertical-align: top;\n",
       "    }\n",
       "\n",
       "    .dataframe thead th {\n",
       "        text-align: right;\n",
       "    }\n",
       "</style>\n",
       "<table border=\"1\" class=\"dataframe\">\n",
       "  <thead>\n",
       "    <tr style=\"text-align: right;\">\n",
       "      <th></th>\n",
       "      <th>PAIS</th>\n",
       "      <th>SEXO</th>\n",
       "      <th>EDAD</th>\n",
       "      <th>ESTUDIOS</th>\n",
       "      <th>ACTIVIDAD</th>\n",
       "      <th>BENEFICIO</th>\n",
       "      <th>ANIO</th>\n",
       "      <th>COMUNA</th>\n",
       "    </tr>\n",
       "  </thead>\n",
       "  <tbody>\n",
       "    <tr>\n",
       "      <th>437912</th>\n",
       "      <td>haiti</td>\n",
       "      <td>masculino</td>\n",
       "      <td>18-34</td>\n",
       "      <td>medio</td>\n",
       "      <td>obrero</td>\n",
       "      <td>temporaria</td>\n",
       "      <td>2017+</td>\n",
       "      <td>melipilla</td>\n",
       "    </tr>\n",
       "    <tr>\n",
       "      <th>106887</th>\n",
       "      <td>bolivia</td>\n",
       "      <td>masculino</td>\n",
       "      <td>18-34</td>\n",
       "      <td>universitario</td>\n",
       "      <td>empleado</td>\n",
       "      <td>definitiva</td>\n",
       "      <td>2010-16</td>\n",
       "      <td>nunoa</td>\n",
       "    </tr>\n",
       "    <tr>\n",
       "      <th>381454</th>\n",
       "      <td>haiti</td>\n",
       "      <td>masculino</td>\n",
       "      <td>18-34</td>\n",
       "      <td>medio</td>\n",
       "      <td>obrero</td>\n",
       "      <td>temporaria</td>\n",
       "      <td>2010-16</td>\n",
       "      <td>recoleta</td>\n",
       "    </tr>\n",
       "    <tr>\n",
       "      <th>191289</th>\n",
       "      <td>peru</td>\n",
       "      <td>femenino</td>\n",
       "      <td>18-34</td>\n",
       "      <td>no informa</td>\n",
       "      <td>domestico</td>\n",
       "      <td>definitiva</td>\n",
       "      <td>2010-16</td>\n",
       "      <td>otras</td>\n",
       "    </tr>\n",
       "    <tr>\n",
       "      <th>265096</th>\n",
       "      <td>peru</td>\n",
       "      <td>femenino</td>\n",
       "      <td>18-34</td>\n",
       "      <td>medio</td>\n",
       "      <td>domestico</td>\n",
       "      <td>temporaria</td>\n",
       "      <td>2010-16</td>\n",
       "      <td>las condes</td>\n",
       "    </tr>\n",
       "    <tr>\n",
       "      <th>21563</th>\n",
       "      <td>espana</td>\n",
       "      <td>masculino</td>\n",
       "      <td>35-64</td>\n",
       "      <td>no informa</td>\n",
       "      <td>empleado</td>\n",
       "      <td>definitiva</td>\n",
       "      <td>2010-16</td>\n",
       "      <td>providencia</td>\n",
       "    </tr>\n",
       "    <tr>\n",
       "      <th>215098</th>\n",
       "      <td>haiti</td>\n",
       "      <td>masculino</td>\n",
       "      <td>35-64</td>\n",
       "      <td>no informa</td>\n",
       "      <td>empleado</td>\n",
       "      <td>definitiva</td>\n",
       "      <td>2010-16</td>\n",
       "      <td>maipu</td>\n",
       "    </tr>\n",
       "    <tr>\n",
       "      <th>205647</th>\n",
       "      <td>peru</td>\n",
       "      <td>femenino</td>\n",
       "      <td>18-34</td>\n",
       "      <td>no informa</td>\n",
       "      <td>domestico</td>\n",
       "      <td>definitiva</td>\n",
       "      <td>2010-16</td>\n",
       "      <td>recoleta</td>\n",
       "    </tr>\n",
       "    <tr>\n",
       "      <th>409480</th>\n",
       "      <td>peru</td>\n",
       "      <td>femenino</td>\n",
       "      <td>35-64</td>\n",
       "      <td>basico</td>\n",
       "      <td>obrero</td>\n",
       "      <td>temporaria</td>\n",
       "      <td>2017+</td>\n",
       "      <td>otras</td>\n",
       "    </tr>\n",
       "    <tr>\n",
       "      <th>355395</th>\n",
       "      <td>haiti</td>\n",
       "      <td>masculino</td>\n",
       "      <td>18-34</td>\n",
       "      <td>no informa</td>\n",
       "      <td>empleado</td>\n",
       "      <td>temporaria</td>\n",
       "      <td>2010-16</td>\n",
       "      <td>estacion central</td>\n",
       "    </tr>\n",
       "  </tbody>\n",
       "</table>\n",
       "</div>"
      ],
      "text/plain": [
       "           PAIS       SEXO   EDAD       ESTUDIOS  ACTIVIDAD   BENEFICIO  \\\n",
       "437912    haiti  masculino  18-34          medio     obrero  temporaria   \n",
       "106887  bolivia  masculino  18-34  universitario   empleado  definitiva   \n",
       "381454    haiti  masculino  18-34          medio     obrero  temporaria   \n",
       "191289     peru   femenino  18-34     no informa  domestico  definitiva   \n",
       "265096     peru   femenino  18-34          medio  domestico  temporaria   \n",
       "21563    espana  masculino  35-64     no informa   empleado  definitiva   \n",
       "215098    haiti  masculino  35-64     no informa   empleado  definitiva   \n",
       "205647     peru   femenino  18-34     no informa  domestico  definitiva   \n",
       "409480     peru   femenino  35-64         basico     obrero  temporaria   \n",
       "355395    haiti  masculino  18-34     no informa   empleado  temporaria   \n",
       "\n",
       "           ANIO            COMUNA  \n",
       "437912    2017+         melipilla  \n",
       "106887  2010-16             nunoa  \n",
       "381454  2010-16          recoleta  \n",
       "191289  2010-16             otras  \n",
       "265096  2010-16        las condes  \n",
       "21563   2010-16       providencia  \n",
       "215098  2010-16             maipu  \n",
       "205647  2010-16          recoleta  \n",
       "409480    2017+             otras  \n",
       "355395  2010-16  estacion central  "
      ]
     },
     "execution_count": 120,
     "metadata": {},
     "output_type": "execute_result"
    }
   ],
   "source": [
    "data.sample(10)"
   ]
  },
  {
   "cell_type": "code",
   "execution_count": 121,
   "metadata": {},
   "outputs": [
    {
     "name": "stdout",
     "output_type": "stream",
     "text": [
      "<class 'pandas.core.frame.DataFrame'>\n",
      "Int64Index: 493638 entries, 0 to 493637\n",
      "Data columns (total 8 columns):\n",
      "PAIS         493638 non-null object\n",
      "SEXO         493638 non-null object\n",
      "EDAD         493638 non-null category\n",
      "ESTUDIOS     493638 non-null object\n",
      "ACTIVIDAD    493638 non-null object\n",
      "BENEFICIO    493638 non-null object\n",
      "ANIO         493638 non-null category\n",
      "COMUNA       493638 non-null object\n",
      "dtypes: category(2), object(6)\n",
      "memory usage: 27.3+ MB\n"
     ]
    }
   ],
   "source": [
    "data.info()"
   ]
  },
  {
   "cell_type": "markdown",
   "metadata": {},
   "source": [
    "### A. Codificar variables categoricas/texto en numericas - Label Encoder"
   ]
  },
  {
   "cell_type": "code",
   "execution_count": 81,
   "metadata": {},
   "outputs": [],
   "source": [
    "from sklearn.preprocessing import LabelEncoder\n",
    "vec = LabelEncoder()"
   ]
  },
  {
   "cell_type": "code",
   "execution_count": 82,
   "metadata": {},
   "outputs": [],
   "source": [
    "data1['PAIS'] = vec.fit_transform(data.PAIS)\n",
    "data1['SEXO'] = vec.fit_transform(data.SEXO)\n",
    "data1['EDAD'] = vec.fit_transform(data.EDAD)\n",
    "data1['ESTUDIOS'] = vec.fit_transform(data.ESTUDIOS)\n",
    "data1['ACTIVIDAD'] = vec.fit_transform(data.ACTIVIDAD)\n",
    "data1['BENEFICIO'] = vec.fit_transform(data.BENEFICIO)\n",
    "data1['ANIO'] = vec.fit_transform(data.ANIO)\n",
    "data1['COMUNA'] = vec.fit_transform(data.COMUNA)"
   ]
  },
  {
   "cell_type": "code",
   "execution_count": 83,
   "metadata": {},
   "outputs": [
    {
     "data": {
      "text/html": [
       "<div>\n",
       "<style scoped>\n",
       "    .dataframe tbody tr th:only-of-type {\n",
       "        vertical-align: middle;\n",
       "    }\n",
       "\n",
       "    .dataframe tbody tr th {\n",
       "        vertical-align: top;\n",
       "    }\n",
       "\n",
       "    .dataframe thead th {\n",
       "        text-align: right;\n",
       "    }\n",
       "</style>\n",
       "<table border=\"1\" class=\"dataframe\">\n",
       "  <thead>\n",
       "    <tr style=\"text-align: right;\">\n",
       "      <th></th>\n",
       "      <th>PAIS</th>\n",
       "      <th>SEXO</th>\n",
       "      <th>EDAD</th>\n",
       "      <th>ESTUDIOS</th>\n",
       "      <th>ACTIVIDAD</th>\n",
       "      <th>BENEFICIO</th>\n",
       "      <th>ANIO</th>\n",
       "      <th>COMUNA</th>\n",
       "    </tr>\n",
       "  </thead>\n",
       "  <tbody>\n",
       "    <tr>\n",
       "      <th>78263</th>\n",
       "      <td>17</td>\n",
       "      <td>0</td>\n",
       "      <td>1</td>\n",
       "      <td>5</td>\n",
       "      <td>5</td>\n",
       "      <td>0</td>\n",
       "      <td>1</td>\n",
       "      <td>19</td>\n",
       "    </tr>\n",
       "    <tr>\n",
       "      <th>311357</th>\n",
       "      <td>12</td>\n",
       "      <td>1</td>\n",
       "      <td>0</td>\n",
       "      <td>3</td>\n",
       "      <td>2</td>\n",
       "      <td>1</td>\n",
       "      <td>1</td>\n",
       "      <td>14</td>\n",
       "    </tr>\n",
       "    <tr>\n",
       "      <th>263284</th>\n",
       "      <td>17</td>\n",
       "      <td>1</td>\n",
       "      <td>0</td>\n",
       "      <td>3</td>\n",
       "      <td>2</td>\n",
       "      <td>1</td>\n",
       "      <td>1</td>\n",
       "      <td>2</td>\n",
       "    </tr>\n",
       "    <tr>\n",
       "      <th>263600</th>\n",
       "      <td>9</td>\n",
       "      <td>0</td>\n",
       "      <td>1</td>\n",
       "      <td>4</td>\n",
       "      <td>5</td>\n",
       "      <td>1</td>\n",
       "      <td>1</td>\n",
       "      <td>3</td>\n",
       "    </tr>\n",
       "    <tr>\n",
       "      <th>116726</th>\n",
       "      <td>5</td>\n",
       "      <td>1</td>\n",
       "      <td>0</td>\n",
       "      <td>1</td>\n",
       "      <td>2</td>\n",
       "      <td>0</td>\n",
       "      <td>1</td>\n",
       "      <td>19</td>\n",
       "    </tr>\n",
       "  </tbody>\n",
       "</table>\n",
       "</div>"
      ],
      "text/plain": [
       "        PAIS  SEXO  EDAD  ESTUDIOS  ACTIVIDAD  BENEFICIO  ANIO  COMUNA\n",
       "78263     17     0     1         5          5          0     1      19\n",
       "311357    12     1     0         3          2          1     1      14\n",
       "263284    17     1     0         3          2          1     1       2\n",
       "263600     9     0     1         4          5          1     1       3\n",
       "116726     5     1     0         1          2          0     1      19"
      ]
     },
     "execution_count": 83,
     "metadata": {},
     "output_type": "execute_result"
    }
   ],
   "source": [
    "data1.sample(5)"
   ]
  },
  {
   "cell_type": "markdown",
   "metadata": {},
   "source": [
    "## 3. Preparar la data: "
   ]
  },
  {
   "cell_type": "markdown",
   "metadata": {},
   "source": [
    "### Dividir la data, sacando la variable target"
   ]
  },
  {
   "cell_type": "code",
   "execution_count": 84,
   "metadata": {},
   "outputs": [],
   "source": [
    "X = data1.copy()"
   ]
  },
  {
   "cell_type": "code",
   "execution_count": 85,
   "metadata": {},
   "outputs": [],
   "source": [
    "y = X.pop('COMUNA').values"
   ]
  },
  {
   "cell_type": "code",
   "execution_count": 86,
   "metadata": {},
   "outputs": [
    {
     "data": {
      "text/plain": [
       "array([19, 12,  5, ..., 16,  3, 10])"
      ]
     },
     "execution_count": 86,
     "metadata": {},
     "output_type": "execute_result"
    }
   ],
   "source": [
    "y"
   ]
  },
  {
   "cell_type": "code",
   "execution_count": 87,
   "metadata": {},
   "outputs": [
    {
     "data": {
      "text/html": [
       "<div>\n",
       "<style scoped>\n",
       "    .dataframe tbody tr th:only-of-type {\n",
       "        vertical-align: middle;\n",
       "    }\n",
       "\n",
       "    .dataframe tbody tr th {\n",
       "        vertical-align: top;\n",
       "    }\n",
       "\n",
       "    .dataframe thead th {\n",
       "        text-align: right;\n",
       "    }\n",
       "</style>\n",
       "<table border=\"1\" class=\"dataframe\">\n",
       "  <thead>\n",
       "    <tr style=\"text-align: right;\">\n",
       "      <th></th>\n",
       "      <th>PAIS</th>\n",
       "      <th>SEXO</th>\n",
       "      <th>EDAD</th>\n",
       "      <th>ESTUDIOS</th>\n",
       "      <th>ACTIVIDAD</th>\n",
       "      <th>BENEFICIO</th>\n",
       "      <th>ANIO</th>\n",
       "    </tr>\n",
       "  </thead>\n",
       "  <tbody>\n",
       "    <tr>\n",
       "      <th>0</th>\n",
       "      <td>17</td>\n",
       "      <td>0</td>\n",
       "      <td>0</td>\n",
       "      <td>3</td>\n",
       "      <td>2</td>\n",
       "      <td>0</td>\n",
       "      <td>0</td>\n",
       "    </tr>\n",
       "    <tr>\n",
       "      <th>1</th>\n",
       "      <td>8</td>\n",
       "      <td>1</td>\n",
       "      <td>1</td>\n",
       "      <td>3</td>\n",
       "      <td>2</td>\n",
       "      <td>0</td>\n",
       "      <td>0</td>\n",
       "    </tr>\n",
       "  </tbody>\n",
       "</table>\n",
       "</div>"
      ],
      "text/plain": [
       "   PAIS  SEXO  EDAD  ESTUDIOS  ACTIVIDAD  BENEFICIO  ANIO\n",
       "0    17     0     0         3          2          0     0\n",
       "1     8     1     1         3          2          0     0"
      ]
     },
     "execution_count": 87,
     "metadata": {},
     "output_type": "execute_result"
    }
   ],
   "source": [
    "X.head(2)"
   ]
  },
  {
   "cell_type": "markdown",
   "metadata": {},
   "source": [
    "## 4. Testando vários modelos de ML"
   ]
  },
  {
   "cell_type": "code",
   "execution_count": 88,
   "metadata": {},
   "outputs": [],
   "source": [
    "%matplotlib inline\n",
    "%config InlineBackend.figure_format = 'retina'\n",
    "import numpy as np\n",
    "import matplotlib.pyplot as plt\n",
    "import seaborn as sns; sns.set()\n",
    "from sklearn.metrics import confusion_matrix\n",
    "from sklearn.model_selection import train_test_split\n",
    "from sklearn.metrics import accuracy_score"
   ]
  },
  {
   "cell_type": "markdown",
   "metadata": {},
   "source": [
    "### 4.1. NAIVE BAYES"
   ]
  },
  {
   "cell_type": "code",
   "execution_count": 89,
   "metadata": {},
   "outputs": [],
   "source": [
    "from sklearn.naive_bayes import MultinomialNB\n",
    "model = MultinomialNB()"
   ]
  },
  {
   "cell_type": "code",
   "execution_count": 90,
   "metadata": {},
   "outputs": [
    {
     "data": {
      "text/plain": [
       "0.2849850093185317"
      ]
     },
     "execution_count": 90,
     "metadata": {},
     "output_type": "execute_result"
    }
   ],
   "source": [
    "X_train, X_test, y_train, y_test = train_test_split(X, y, test_size=0.2)\n",
    "\n",
    "model.fit(X_train, y_train)\n",
    "y_pred = model.predict(X_test)\n",
    "accuracy_score(y_test, y_pred)"
   ]
  },
  {
   "cell_type": "markdown",
   "metadata": {},
   "source": [
    "==> Model Score: 0.285 **Resultado: Malo** pero rápido"
   ]
  },
  {
   "cell_type": "code",
   "execution_count": 91,
   "metadata": {},
   "outputs": [
    {
     "data": {
      "image/png": "[encoded data removed]",
      "text/plain": [
       "<matplotlib.figure.Figure at 0x11cb490f0>"
      ]
     },
     "metadata": {
      "image/png": {
       "height": 336,
       "width": 336
      }
     },
     "output_type": "display_data"
    }
   ],
   "source": [
    "mat = confusion_matrix(y_test, y_pred)\n",
    "sns.heatmap(mat.T, square=True, annot=False, fmt='d', cbar=False, linewidth=1,\n",
    "            xticklabels=vec.classes_, yticklabels=vec.classes_)\n",
    "plt.xlabel('categoría real')\n",
    "plt.ylabel('predicción');"
   ]
  },
  {
   "cell_type": "markdown",
   "metadata": {},
   "source": [
    "### 4.2. LOGISTIC REGRESSION"
   ]
  },
  {
   "cell_type": "code",
   "execution_count": 92,
   "metadata": {},
   "outputs": [],
   "source": [
    "from sklearn.linear_model import LogisticRegression\n",
    "model = LogisticRegression(solver='lbfgs')"
   ]
  },
  {
   "cell_type": "code",
   "execution_count": 93,
   "metadata": {},
   "outputs": [
    {
     "data": {
      "text/plain": [
       "0.2927436998622478"
      ]
     },
     "execution_count": 93,
     "metadata": {},
     "output_type": "execute_result"
    }
   ],
   "source": [
    "X_train, X_test, y_train, y_test = train_test_split(X, y, test_size=0.2)\n",
    "\n",
    "model.fit(X_train, y_train)\n",
    "y_pred = model.predict(X_test)\n",
    "accuracy_score(y_test, y_pred)"
   ]
  },
  {
   "cell_type": "markdown",
   "metadata": {},
   "source": [
    "==> Model Score: 0.2927 **Resultado: Malo** pero rápido"
   ]
  },
  {
   "cell_type": "markdown",
   "metadata": {},
   "source": [
    "### 4.3. RANDON FOREST"
   ]
  },
  {
   "cell_type": "code",
   "execution_count": 103,
   "metadata": {},
   "outputs": [],
   "source": [
    "from sklearn.ensemble import RandomForestClassifier\n",
    "model = RandomForestClassifier(n_estimators=30, criterion='entropy')"
   ]
  },
  {
   "cell_type": "code",
   "execution_count": 104,
   "metadata": {},
   "outputs": [
    {
     "data": {
      "text/plain": [
       "0.33908313750911595"
      ]
     },
     "execution_count": 104,
     "metadata": {},
     "output_type": "execute_result"
    }
   ],
   "source": [
    "X_train, X_test, y_train, y_test = train_test_split(X, y, test_size=0.2)\n",
    "\n",
    "model.fit(X_train, y_train)\n",
    "y_pred = model.predict(X_test)\n",
    "accuracy_score(y_test, y_pred)"
   ]
  },
  {
   "cell_type": "markdown",
   "metadata": {},
   "source": [
    "- n_estimators=10 (default) ==>  Model Score: 0.3362 **Resultado: Malo**\n",
    "- n_estimators=20           ==>  Model Score: 0.3391 **Resultado: Malo**\n",
    "- n_estimators=30           ==>  Model Score: 0.3385 **Resultado: Malo**\n",
    "- n_estimators=50           ==>  Model Score: 0.3365 **Resultado: Malo**\n",
    "- criterion default es 'gini'. Cambiando a 'entropy' praticamente no produce diferencia. "
   ]
  },
  {
   "cell_type": "markdown",
   "metadata": {},
   "source": [
    "### 4.4. K-NN"
   ]
  },
  {
   "cell_type": "code",
   "execution_count": 105,
   "metadata": {},
   "outputs": [],
   "source": [
    "from sklearn.neighbors import KNeighborsClassifier  \n",
    "model = KNeighborsClassifier(n_neighbors=10) "
   ]
  },
  {
   "cell_type": "code",
   "execution_count": 106,
   "metadata": {},
   "outputs": [
    {
     "data": {
      "text/plain": [
       "0.28587634713556437"
      ]
     },
     "execution_count": 106,
     "metadata": {},
     "output_type": "execute_result"
    }
   ],
   "source": [
    "X_train, X_test, y_train, y_test = train_test_split(X, y, test_size=0.2)\n",
    "\n",
    "model.fit(X_train, y_train)\n",
    "y_pred = model.predict(X_test)\n",
    "accuracy_score(y_test, y_pred)"
   ]
  },
  {
   "cell_type": "markdown",
   "metadata": {},
   "source": [
    "- k = 5 ==> 0.2379\n",
    "- k = 10 ==> 0.2859"
   ]
  },
  {
   "cell_type": "markdown",
   "metadata": {},
   "source": [
    "### 4.5. DECISION TREES"
   ]
  },
  {
   "cell_type": "code",
   "execution_count": 107,
   "metadata": {},
   "outputs": [],
   "source": [
    "from sklearn.tree import DecisionTreeClassifier  \n",
    "model = DecisionTreeClassifier() "
   ]
  },
  {
   "cell_type": "code",
   "execution_count": 108,
   "metadata": {},
   "outputs": [
    {
     "data": {
      "text/plain": [
       "0.33736123490803016"
      ]
     },
     "execution_count": 108,
     "metadata": {},
     "output_type": "execute_result"
    }
   ],
   "source": [
    "X_train, X_test, y_train, y_test = train_test_split(X, y, test_size=0.2)\n",
    "\n",
    "model.fit(X_train, y_train)\n",
    "y_pred = model.predict(X_test)\n",
    "accuracy_score(y_test, y_pred)"
   ]
  },
  {
   "cell_type": "markdown",
   "metadata": {},
   "source": [
    "### 4.6. SVC"
   ]
  },
  {
   "cell_type": "raw",
   "metadata": {},
   "source": [
    "from sklearn.svm import SVC  \n",
    "model = SVC(kernel='rbf')  # Gaussian Kernel"
   ]
  },
  {
   "cell_type": "raw",
   "metadata": {},
   "source": [
    "X_train, X_test, y_train, y_test = train_test_split(X, y, test_size=0.2)\n",
    "\n",
    "model.fit(X_train, y_train)\n",
    "y_pred = model.predict(X_test)\n",
    "accuracy_score(y_test, y_pred)"
   ]
  },
  {
   "cell_type": "raw",
   "metadata": {},
   "source": [
    "==> Model Score: 0.32 **Resultado: Malo** y muy demorado (mas de 1 hora)"
   ]
  },
  {
   "cell_type": "markdown",
   "metadata": {},
   "source": [
    "### B. Codificar variables categoricas/texto en numericas - One Hot Encoder"
   ]
  },
  {
   "cell_type": "markdown",
   "metadata": {},
   "source": [
    "## 5. Preparar la data: "
   ]
  },
  {
   "cell_type": "markdown",
   "metadata": {},
   "source": [
    "### Dividir la data, sacando la variable target"
   ]
  },
  {
   "cell_type": "code",
   "execution_count": 125,
   "metadata": {},
   "outputs": [
    {
     "data": {
      "text/html": [
       "<div>\n",
       "<style scoped>\n",
       "    .dataframe tbody tr th:only-of-type {\n",
       "        vertical-align: middle;\n",
       "    }\n",
       "\n",
       "    .dataframe tbody tr th {\n",
       "        vertical-align: top;\n",
       "    }\n",
       "\n",
       "    .dataframe thead th {\n",
       "        text-align: right;\n",
       "    }\n",
       "</style>\n",
       "<table border=\"1\" class=\"dataframe\">\n",
       "  <thead>\n",
       "    <tr style=\"text-align: right;\">\n",
       "      <th></th>\n",
       "      <th>PAIS</th>\n",
       "      <th>SEXO</th>\n",
       "      <th>EDAD</th>\n",
       "      <th>ESTUDIOS</th>\n",
       "      <th>ACTIVIDAD</th>\n",
       "      <th>BENEFICIO</th>\n",
       "      <th>ANIO</th>\n",
       "      <th>COMUNA</th>\n",
       "    </tr>\n",
       "  </thead>\n",
       "  <tbody>\n",
       "    <tr>\n",
       "      <th>0</th>\n",
       "      <td>peru</td>\n",
       "      <td>femenino</td>\n",
       "      <td>18-34</td>\n",
       "      <td>no informa</td>\n",
       "      <td>empleado</td>\n",
       "      <td>definitiva</td>\n",
       "      <td>2005-09</td>\n",
       "      <td>santiago</td>\n",
       "    </tr>\n",
       "    <tr>\n",
       "      <th>1</th>\n",
       "      <td>ecuador</td>\n",
       "      <td>masculino</td>\n",
       "      <td>35-64</td>\n",
       "      <td>no informa</td>\n",
       "      <td>empleado</td>\n",
       "      <td>definitiva</td>\n",
       "      <td>2005-09</td>\n",
       "      <td>providencia</td>\n",
       "    </tr>\n",
       "    <tr>\n",
       "      <th>2</th>\n",
       "      <td>brasil</td>\n",
       "      <td>masculino</td>\n",
       "      <td>18-34</td>\n",
       "      <td>no informa</td>\n",
       "      <td>empresario</td>\n",
       "      <td>definitiva</td>\n",
       "      <td>2005-09</td>\n",
       "      <td>las condes</td>\n",
       "    </tr>\n",
       "    <tr>\n",
       "      <th>3</th>\n",
       "      <td>bolivia</td>\n",
       "      <td>femenino</td>\n",
       "      <td>35-64</td>\n",
       "      <td>no informa</td>\n",
       "      <td>autonomo</td>\n",
       "      <td>definitiva</td>\n",
       "      <td>2005-09</td>\n",
       "      <td>otras</td>\n",
       "    </tr>\n",
       "    <tr>\n",
       "      <th>4</th>\n",
       "      <td>otros</td>\n",
       "      <td>femenino</td>\n",
       "      <td>35-64</td>\n",
       "      <td>no informa</td>\n",
       "      <td>inactivo</td>\n",
       "      <td>definitiva</td>\n",
       "      <td>2005-09</td>\n",
       "      <td>santiago</td>\n",
       "    </tr>\n",
       "  </tbody>\n",
       "</table>\n",
       "</div>"
      ],
      "text/plain": [
       "      PAIS       SEXO   EDAD    ESTUDIOS   ACTIVIDAD   BENEFICIO     ANIO  \\\n",
       "0     peru   femenino  18-34  no informa    empleado  definitiva  2005-09   \n",
       "1  ecuador  masculino  35-64  no informa    empleado  definitiva  2005-09   \n",
       "2   brasil  masculino  18-34  no informa  empresario  definitiva  2005-09   \n",
       "3  bolivia   femenino  35-64  no informa    autonomo  definitiva  2005-09   \n",
       "4    otros   femenino  35-64  no informa    inactivo  definitiva  2005-09   \n",
       "\n",
       "        COMUNA  \n",
       "0     santiago  \n",
       "1  providencia  \n",
       "2   las condes  \n",
       "3        otras  \n",
       "4     santiago  "
      ]
     },
     "execution_count": 125,
     "metadata": {},
     "output_type": "execute_result"
    }
   ],
   "source": [
    "data.head()"
   ]
  },
  {
   "cell_type": "code",
   "execution_count": 126,
   "metadata": {},
   "outputs": [
    {
     "data": {
      "text/plain": [
       "array(['santiago', 'providencia', 'las condes', ..., 'recoleta',\n",
       "       'independencia', 'otras'], dtype=object)"
      ]
     },
     "execution_count": 126,
     "metadata": {},
     "output_type": "execute_result"
    }
   ],
   "source": [
    "X = data.copy()\n",
    "y = X.pop('COMUNA').values\n",
    "y"
   ]
  },
  {
   "cell_type": "code",
   "execution_count": 127,
   "metadata": {},
   "outputs": [
    {
     "data": {
      "text/html": [
       "<div>\n",
       "<style scoped>\n",
       "    .dataframe tbody tr th:only-of-type {\n",
       "        vertical-align: middle;\n",
       "    }\n",
       "\n",
       "    .dataframe tbody tr th {\n",
       "        vertical-align: top;\n",
       "    }\n",
       "\n",
       "    .dataframe thead th {\n",
       "        text-align: right;\n",
       "    }\n",
       "</style>\n",
       "<table border=\"1\" class=\"dataframe\">\n",
       "  <thead>\n",
       "    <tr style=\"text-align: right;\">\n",
       "      <th></th>\n",
       "      <th>PAIS</th>\n",
       "      <th>SEXO</th>\n",
       "      <th>EDAD</th>\n",
       "      <th>ESTUDIOS</th>\n",
       "      <th>ACTIVIDAD</th>\n",
       "      <th>BENEFICIO</th>\n",
       "      <th>ANIO</th>\n",
       "    </tr>\n",
       "  </thead>\n",
       "  <tbody>\n",
       "    <tr>\n",
       "      <th>0</th>\n",
       "      <td>peru</td>\n",
       "      <td>femenino</td>\n",
       "      <td>18-34</td>\n",
       "      <td>no informa</td>\n",
       "      <td>empleado</td>\n",
       "      <td>definitiva</td>\n",
       "      <td>2005-09</td>\n",
       "    </tr>\n",
       "    <tr>\n",
       "      <th>1</th>\n",
       "      <td>ecuador</td>\n",
       "      <td>masculino</td>\n",
       "      <td>35-64</td>\n",
       "      <td>no informa</td>\n",
       "      <td>empleado</td>\n",
       "      <td>definitiva</td>\n",
       "      <td>2005-09</td>\n",
       "    </tr>\n",
       "  </tbody>\n",
       "</table>\n",
       "</div>"
      ],
      "text/plain": [
       "      PAIS       SEXO   EDAD    ESTUDIOS ACTIVIDAD   BENEFICIO     ANIO\n",
       "0     peru   femenino  18-34  no informa  empleado  definitiva  2005-09\n",
       "1  ecuador  masculino  35-64  no informa  empleado  definitiva  2005-09"
      ]
     },
     "execution_count": 127,
     "metadata": {},
     "output_type": "execute_result"
    }
   ],
   "source": [
    "X.head(2)"
   ]
  },
  {
   "cell_type": "code",
   "execution_count": 122,
   "metadata": {},
   "outputs": [],
   "source": [
    "from sklearn.compose import ColumnTransformer\n",
    "from sklearn.pipeline import Pipeline\n",
    "from sklearn.impute import SimpleImputer\n",
    "from sklearn.preprocessing import StandardScaler, OneHotEncoder\n",
    "from sklearn.model_selection import train_test_split, GridSearchCV"
   ]
  },
  {
   "cell_type": "markdown",
   "metadata": {},
   "source": [
    "#### Creación de los pipelines de pre-processing para los datos categoricos y numericos"
   ]
  },
  {
   "cell_type": "code",
   "execution_count": 123,
   "metadata": {},
   "outputs": [],
   "source": [
    "categorical_features = ['PAIS', 'SEXO', 'EDAD', 'ESTUDIOS', 'ACTIVIDAD', 'BENEFICIO', 'ANIO']"
   ]
  },
  {
   "cell_type": "code",
   "execution_count": 124,
   "metadata": {},
   "outputs": [],
   "source": [
    "categorical_transformer = Pipeline(steps=[\n",
    "    ('imputer', SimpleImputer(strategy='constant', fill_value='missing')),\n",
    "    ('onehot', OneHotEncoder(handle_unknown='ignore'))])\n",
    "\n",
    "preprocessor = ColumnTransformer(\n",
    "    transformers=[('cat', categorical_transformer, categorical_features)]) "
   ]
  },
  {
   "cell_type": "markdown",
   "metadata": {},
   "source": [
    "## 6 Testando vários modelos de ML"
   ]
  },
  {
   "cell_type": "markdown",
   "metadata": {},
   "source": [
    "### 6.1. NAIVE BAYES"
   ]
  },
  {
   "cell_type": "code",
   "execution_count": 128,
   "metadata": {},
   "outputs": [],
   "source": [
    "from sklearn.naive_bayes import MultinomialNB\n",
    "model = MultinomialNB()"
   ]
  },
  {
   "cell_type": "code",
   "execution_count": 129,
   "metadata": {},
   "outputs": [
    {
     "name": "stdout",
     "output_type": "stream",
     "text": [
      "model score: 0.324\n"
     ]
    }
   ],
   "source": [
    "clf = Pipeline(steps=[('preprocessor', preprocessor),\n",
    "                      ('classifier', model)])\n",
    "\n",
    "X_train, X_test, y_train, y_test = train_test_split(X, y, test_size=0.2)\n",
    "\n",
    "clf.fit(X_train, y_train)\n",
    "print(\"model score: %.3f\" % clf.score(X_test, y_test))"
   ]
  },
  {
   "cell_type": "markdown",
   "metadata": {},
   "source": [
    "==> Model Score: 0.324 **Resultado: Malo**"
   ]
  },
  {
   "cell_type": "markdown",
   "metadata": {},
   "source": [
    "### 6.2. LOGISTIC REGRESSION"
   ]
  },
  {
   "cell_type": "code",
   "execution_count": 131,
   "metadata": {},
   "outputs": [],
   "source": [
    "from sklearn.linear_model import LogisticRegression\n",
    "model = LogisticRegression(solver='lbfgs')"
   ]
  },
  {
   "cell_type": "code",
   "execution_count": 132,
   "metadata": {},
   "outputs": [
    {
     "name": "stdout",
     "output_type": "stream",
     "text": [
      "model score: 0.341\n"
     ]
    }
   ],
   "source": [
    "clf = Pipeline(steps=[('preprocessor', preprocessor),\n",
    "                      ('classifier', model)])\n",
    "\n",
    "X_train, X_test, y_train, y_test = train_test_split(X, y, test_size=0.2)\n",
    "\n",
    "clf.fit(X_train, y_train)\n",
    "print(\"model score: %.3f\" % clf.score(X_test, y_test))"
   ]
  },
  {
   "cell_type": "markdown",
   "metadata": {},
   "source": [
    "==> Model Score: 0.341 **Resultado: Malo**"
   ]
  },
  {
   "cell_type": "markdown",
   "metadata": {},
   "source": [
    "### 6.3. RANDON FOREST"
   ]
  },
  {
   "cell_type": "code",
   "execution_count": 133,
   "metadata": {},
   "outputs": [],
   "source": [
    "from sklearn.ensemble import RandomForestClassifier\n",
    "model = RandomForestClassifier(n_estimators=30, criterion='entropy')"
   ]
  },
  {
   "cell_type": "code",
   "execution_count": 134,
   "metadata": {},
   "outputs": [
    {
     "name": "stdout",
     "output_type": "stream",
     "text": [
      "model score: 0.340\n"
     ]
    }
   ],
   "source": [
    "clf = Pipeline(steps=[('preprocessor', preprocessor),\n",
    "                      ('classifier', model)])\n",
    "\n",
    "X_train, X_test, y_train, y_test = train_test_split(X, y, test_size=0.2)\n",
    "\n",
    "clf.fit(X_train, y_train)\n",
    "print(\"model score: %.3f\" % clf.score(X_test, y_test))"
   ]
  },
  {
   "cell_type": "markdown",
   "metadata": {},
   "source": [
    "==> Model Score: 0.340 **Resultado: Malo**"
   ]
  },
  {
   "cell_type": "markdown",
   "metadata": {},
   "source": [
    "### 6.4. DECISION TREES"
   ]
  },
  {
   "cell_type": "code",
   "execution_count": 135,
   "metadata": {},
   "outputs": [],
   "source": [
    "from sklearn.tree import DecisionTreeClassifier  \n",
    "model = DecisionTreeClassifier() "
   ]
  },
  {
   "cell_type": "code",
   "execution_count": 136,
   "metadata": {},
   "outputs": [
    {
     "name": "stdout",
     "output_type": "stream",
     "text": [
      "model score: 0.339\n"
     ]
    }
   ],
   "source": [
    "clf = Pipeline(steps=[('preprocessor', preprocessor),\n",
    "                      ('classifier', model)])\n",
    "\n",
    "X_train, X_test, y_train, y_test = train_test_split(X, y, test_size=0.2)\n",
    "\n",
    "clf.fit(X_train, y_train)\n",
    "print(\"model score: %.3f\" % clf.score(X_test, y_test))"
   ]
  },
  {
   "cell_type": "markdown",
   "metadata": {},
   "source": [
    "==> Model Score: 0.340 **Resultado: Malo**"
   ]
  }
 ],
 "metadata": {
  "kernelspec": {
   "display_name": "Python 3",
   "language": "python",
   "name": "python3"
  },
  "language_info": {
   "codemirror_mode": {
    "name": "ipython",
    "version": 3
   },
   "file_extension": ".py",
   "mimetype": "text/x-python",
   "name": "python",
   "nbconvert_exporter": "python",
   "pygments_lexer": "ipython3",
   "version": "3.6.4"
  }
 },
 "nbformat": 4,
 "nbformat_minor": 2
}
